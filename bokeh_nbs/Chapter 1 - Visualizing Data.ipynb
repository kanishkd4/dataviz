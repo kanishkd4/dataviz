{
 "cells": [
  {
   "cell_type": "code",
   "execution_count": 1,
   "metadata": {},
   "outputs": [],
   "source": [
    "from bokeh.plotting import figure, output_notebook, show"
   ]
  },
  {
   "cell_type": "code",
   "execution_count": 2,
   "metadata": {},
   "outputs": [],
   "source": [
    "from bokeh.models import Arrow, OpenHead, NormalHead, VeeHead, Label, Range1d, SingleIntervalTicker\n",
    "from bokeh.models import LinearAxis, BasicTickFormatter, FactorRange, ColumnDataSource, Legend, LinearColorMapper\n",
    "from bokeh.models import PrintfTickFormatter, ColorBar, BasicTicker"
   ]
  },
  {
   "cell_type": "code",
   "execution_count": 3,
   "metadata": {},
   "outputs": [],
   "source": [
    "from bokeh.layouts import gridplot, column\n",
    "from bokeh.models.widgets import Div"
   ]
  },
  {
   "cell_type": "code",
   "execution_count": 4,
   "metadata": {
    "scrolled": true
   },
   "outputs": [
    {
     "data": {
      "text/html": [
       "\n",
       "    <div class=\"bk-root\">\n",
       "        <a href=\"https://bokeh.pydata.org\" target=\"_blank\" class=\"bk-logo bk-logo-small bk-logo-notebook\"></a>\n",
       "        <span id=\"c7fb259d-d988-468b-b72b-122904cfddb7\">Loading BokehJS ...</span>\n",
       "    </div>"
      ]
     },
     "metadata": {},
     "output_type": "display_data"
    },
    {
     "data": {
      "application/javascript": [
       "\n",
       "(function(root) {\n",
       "  function now() {\n",
       "    return new Date();\n",
       "  }\n",
       "\n",
       "  var force = true;\n",
       "\n",
       "  if (typeof (root._bokeh_onload_callbacks) === \"undefined\" || force === true) {\n",
       "    root._bokeh_onload_callbacks = [];\n",
       "    root._bokeh_is_loading = undefined;\n",
       "  }\n",
       "\n",
       "  var JS_MIME_TYPE = 'application/javascript';\n",
       "  var HTML_MIME_TYPE = 'text/html';\n",
       "  var EXEC_MIME_TYPE = 'application/vnd.bokehjs_exec.v0+json';\n",
       "  var CLASS_NAME = 'output_bokeh rendered_html';\n",
       "\n",
       "  /**\n",
       "   * Render data to the DOM node\n",
       "   */\n",
       "  function render(props, node) {\n",
       "    var script = document.createElement(\"script\");\n",
       "    node.appendChild(script);\n",
       "  }\n",
       "\n",
       "  /**\n",
       "   * Handle when an output is cleared or removed\n",
       "   */\n",
       "  function handleClearOutput(event, handle) {\n",
       "    var cell = handle.cell;\n",
       "\n",
       "    var id = cell.output_area._bokeh_element_id;\n",
       "    var server_id = cell.output_area._bokeh_server_id;\n",
       "    // Clean up Bokeh references\n",
       "    if (id !== undefined) {\n",
       "      Bokeh.index[id].model.document.clear();\n",
       "      delete Bokeh.index[id];\n",
       "    }\n",
       "\n",
       "    if (server_id !== undefined) {\n",
       "      // Clean up Bokeh references\n",
       "      var cmd = \"from bokeh.io.state import curstate; print(curstate().uuid_to_server['\" + server_id + \"'].get_sessions()[0].document.roots[0]._id)\";\n",
       "      cell.notebook.kernel.execute(cmd, {\n",
       "        iopub: {\n",
       "          output: function(msg) {\n",
       "            var element_id = msg.content.text.trim();\n",
       "            Bokeh.index[element_id].model.document.clear();\n",
       "            delete Bokeh.index[element_id];\n",
       "          }\n",
       "        }\n",
       "      });\n",
       "      // Destroy server and session\n",
       "      var cmd = \"import bokeh.io.notebook as ion; ion.destroy_server('\" + server_id + \"')\";\n",
       "      cell.notebook.kernel.execute(cmd);\n",
       "    }\n",
       "  }\n",
       "\n",
       "  /**\n",
       "   * Handle when a new output is added\n",
       "   */\n",
       "  function handleAddOutput(event, handle) {\n",
       "    var output_area = handle.output_area;\n",
       "    var output = handle.output;\n",
       "\n",
       "    // limit handleAddOutput to display_data with EXEC_MIME_TYPE content only\n",
       "    if ((output.output_type != \"display_data\") || (!output.data.hasOwnProperty(EXEC_MIME_TYPE))) {\n",
       "      return\n",
       "    }\n",
       "\n",
       "    var toinsert = output_area.element.find(\".\" + CLASS_NAME.split(' ')[0]);\n",
       "\n",
       "    if (output.metadata[EXEC_MIME_TYPE][\"id\"] !== undefined) {\n",
       "      toinsert[toinsert.length - 1].firstChild.textContent = output.data[JS_MIME_TYPE];\n",
       "      // store reference to embed id on output_area\n",
       "      output_area._bokeh_element_id = output.metadata[EXEC_MIME_TYPE][\"id\"];\n",
       "    }\n",
       "    if (output.metadata[EXEC_MIME_TYPE][\"server_id\"] !== undefined) {\n",
       "      var bk_div = document.createElement(\"div\");\n",
       "      bk_div.innerHTML = output.data[HTML_MIME_TYPE];\n",
       "      var script_attrs = bk_div.children[0].attributes;\n",
       "      for (var i = 0; i < script_attrs.length; i++) {\n",
       "        toinsert[toinsert.length - 1].firstChild.setAttribute(script_attrs[i].name, script_attrs[i].value);\n",
       "      }\n",
       "      // store reference to server id on output_area\n",
       "      output_area._bokeh_server_id = output.metadata[EXEC_MIME_TYPE][\"server_id\"];\n",
       "    }\n",
       "  }\n",
       "\n",
       "  function register_renderer(events, OutputArea) {\n",
       "\n",
       "    function append_mime(data, metadata, element) {\n",
       "      // create a DOM node to render to\n",
       "      var toinsert = this.create_output_subarea(\n",
       "        metadata,\n",
       "        CLASS_NAME,\n",
       "        EXEC_MIME_TYPE\n",
       "      );\n",
       "      this.keyboard_manager.register_events(toinsert);\n",
       "      // Render to node\n",
       "      var props = {data: data, metadata: metadata[EXEC_MIME_TYPE]};\n",
       "      render(props, toinsert[toinsert.length - 1]);\n",
       "      element.append(toinsert);\n",
       "      return toinsert\n",
       "    }\n",
       "\n",
       "    /* Handle when an output is cleared or removed */\n",
       "    events.on('clear_output.CodeCell', handleClearOutput);\n",
       "    events.on('delete.Cell', handleClearOutput);\n",
       "\n",
       "    /* Handle when a new output is added */\n",
       "    events.on('output_added.OutputArea', handleAddOutput);\n",
       "\n",
       "    /**\n",
       "     * Register the mime type and append_mime function with output_area\n",
       "     */\n",
       "    OutputArea.prototype.register_mime_type(EXEC_MIME_TYPE, append_mime, {\n",
       "      /* Is output safe? */\n",
       "      safe: true,\n",
       "      /* Index of renderer in `output_area.display_order` */\n",
       "      index: 0\n",
       "    });\n",
       "  }\n",
       "\n",
       "  // register the mime type if in Jupyter Notebook environment and previously unregistered\n",
       "  if (root.Jupyter !== undefined) {\n",
       "    var events = require('base/js/events');\n",
       "    var OutputArea = require('notebook/js/outputarea').OutputArea;\n",
       "\n",
       "    if (OutputArea.prototype.mime_types().indexOf(EXEC_MIME_TYPE) == -1) {\n",
       "      register_renderer(events, OutputArea);\n",
       "    }\n",
       "  }\n",
       "\n",
       "  \n",
       "  if (typeof (root._bokeh_timeout) === \"undefined\" || force === true) {\n",
       "    root._bokeh_timeout = Date.now() + 5000;\n",
       "    root._bokeh_failed_load = false;\n",
       "  }\n",
       "\n",
       "  var NB_LOAD_WARNING = {'data': {'text/html':\n",
       "     \"<div style='background-color: #fdd'>\\n\"+\n",
       "     \"<p>\\n\"+\n",
       "     \"BokehJS does not appear to have successfully loaded. If loading BokehJS from CDN, this \\n\"+\n",
       "     \"may be due to a slow or bad network connection. Possible fixes:\\n\"+\n",
       "     \"</p>\\n\"+\n",
       "     \"<ul>\\n\"+\n",
       "     \"<li>re-rerun `output_notebook()` to attempt to load from CDN again, or</li>\\n\"+\n",
       "     \"<li>use INLINE resources instead, as so:</li>\\n\"+\n",
       "     \"</ul>\\n\"+\n",
       "     \"<code>\\n\"+\n",
       "     \"from bokeh.resources import INLINE\\n\"+\n",
       "     \"output_notebook(resources=INLINE)\\n\"+\n",
       "     \"</code>\\n\"+\n",
       "     \"</div>\"}};\n",
       "\n",
       "  function display_loaded() {\n",
       "    var el = document.getElementById(\"c7fb259d-d988-468b-b72b-122904cfddb7\");\n",
       "    if (el != null) {\n",
       "      el.textContent = \"BokehJS is loading...\";\n",
       "    }\n",
       "    if (root.Bokeh !== undefined) {\n",
       "      if (el != null) {\n",
       "        el.textContent = \"BokehJS \" + root.Bokeh.version + \" successfully loaded.\";\n",
       "      }\n",
       "    } else if (Date.now() < root._bokeh_timeout) {\n",
       "      setTimeout(display_loaded, 100)\n",
       "    }\n",
       "  }\n",
       "\n",
       "\n",
       "  function run_callbacks() {\n",
       "    try {\n",
       "      root._bokeh_onload_callbacks.forEach(function(callback) { callback() });\n",
       "    }\n",
       "    finally {\n",
       "      delete root._bokeh_onload_callbacks\n",
       "    }\n",
       "    console.info(\"Bokeh: all callbacks have finished\");\n",
       "  }\n",
       "\n",
       "  function load_libs(js_urls, callback) {\n",
       "    root._bokeh_onload_callbacks.push(callback);\n",
       "    if (root._bokeh_is_loading > 0) {\n",
       "      console.log(\"Bokeh: BokehJS is being loaded, scheduling callback at\", now());\n",
       "      return null;\n",
       "    }\n",
       "    if (js_urls == null || js_urls.length === 0) {\n",
       "      run_callbacks();\n",
       "      return null;\n",
       "    }\n",
       "    console.log(\"Bokeh: BokehJS not loaded, scheduling load and callback at\", now());\n",
       "    root._bokeh_is_loading = js_urls.length;\n",
       "    for (var i = 0; i < js_urls.length; i++) {\n",
       "      var url = js_urls[i];\n",
       "      var s = document.createElement('script');\n",
       "      s.src = url;\n",
       "      s.async = false;\n",
       "      s.onreadystatechange = s.onload = function() {\n",
       "        root._bokeh_is_loading--;\n",
       "        if (root._bokeh_is_loading === 0) {\n",
       "          console.log(\"Bokeh: all BokehJS libraries loaded\");\n",
       "          run_callbacks()\n",
       "        }\n",
       "      };\n",
       "      s.onerror = function() {\n",
       "        console.warn(\"failed to load library \" + url);\n",
       "      };\n",
       "      console.log(\"Bokeh: injecting script tag for BokehJS library: \", url);\n",
       "      document.getElementsByTagName(\"head\")[0].appendChild(s);\n",
       "    }\n",
       "  };var element = document.getElementById(\"c7fb259d-d988-468b-b72b-122904cfddb7\");\n",
       "  if (element == null) {\n",
       "    console.log(\"Bokeh: ERROR: autoload.js configured with elementid 'c7fb259d-d988-468b-b72b-122904cfddb7' but no matching script tag was found. \")\n",
       "    return false;\n",
       "  }\n",
       "\n",
       "  var js_urls = [\"https://cdn.pydata.org/bokeh/release/bokeh-0.12.15.min.js\", \"https://cdn.pydata.org/bokeh/release/bokeh-widgets-0.12.15.min.js\", \"https://cdn.pydata.org/bokeh/release/bokeh-tables-0.12.15.min.js\", \"https://cdn.pydata.org/bokeh/release/bokeh-gl-0.12.15.min.js\"];\n",
       "\n",
       "  var inline_js = [\n",
       "    function(Bokeh) {\n",
       "      Bokeh.set_log_level(\"info\");\n",
       "    },\n",
       "    \n",
       "    function(Bokeh) {\n",
       "      \n",
       "    },\n",
       "    function(Bokeh) {\n",
       "      console.log(\"Bokeh: injecting CSS: https://cdn.pydata.org/bokeh/release/bokeh-0.12.15.min.css\");\n",
       "      Bokeh.embed.inject_css(\"https://cdn.pydata.org/bokeh/release/bokeh-0.12.15.min.css\");\n",
       "      console.log(\"Bokeh: injecting CSS: https://cdn.pydata.org/bokeh/release/bokeh-widgets-0.12.15.min.css\");\n",
       "      Bokeh.embed.inject_css(\"https://cdn.pydata.org/bokeh/release/bokeh-widgets-0.12.15.min.css\");\n",
       "      console.log(\"Bokeh: injecting CSS: https://cdn.pydata.org/bokeh/release/bokeh-tables-0.12.15.min.css\");\n",
       "      Bokeh.embed.inject_css(\"https://cdn.pydata.org/bokeh/release/bokeh-tables-0.12.15.min.css\");\n",
       "    }\n",
       "  ];\n",
       "\n",
       "  function run_inline_js() {\n",
       "    \n",
       "    if ((root.Bokeh !== undefined) || (force === true)) {\n",
       "      for (var i = 0; i < inline_js.length; i++) {\n",
       "        inline_js[i].call(root, root.Bokeh);\n",
       "      }if (force === true) {\n",
       "        display_loaded();\n",
       "      }} else if (Date.now() < root._bokeh_timeout) {\n",
       "      setTimeout(run_inline_js, 100);\n",
       "    } else if (!root._bokeh_failed_load) {\n",
       "      console.log(\"Bokeh: BokehJS failed to load within specified timeout.\");\n",
       "      root._bokeh_failed_load = true;\n",
       "    } else if (force !== true) {\n",
       "      var cell = $(document.getElementById(\"c7fb259d-d988-468b-b72b-122904cfddb7\")).parents('.cell').data().cell;\n",
       "      cell.output_area.append_execute_result(NB_LOAD_WARNING)\n",
       "    }\n",
       "\n",
       "  }\n",
       "\n",
       "  if (root._bokeh_is_loading === 0) {\n",
       "    console.log(\"Bokeh: BokehJS loaded, going straight to plotting\");\n",
       "    run_inline_js();\n",
       "  } else {\n",
       "    load_libs(js_urls, function() {\n",
       "      console.log(\"Bokeh: BokehJS plotting callback run at\", now());\n",
       "      run_inline_js();\n",
       "    });\n",
       "  }\n",
       "}(window));"
      ],
      "application/vnd.bokehjs_load.v0+json": "\n(function(root) {\n  function now() {\n    return new Date();\n  }\n\n  var force = true;\n\n  if (typeof (root._bokeh_onload_callbacks) === \"undefined\" || force === true) {\n    root._bokeh_onload_callbacks = [];\n    root._bokeh_is_loading = undefined;\n  }\n\n  \n\n  \n  if (typeof (root._bokeh_timeout) === \"undefined\" || force === true) {\n    root._bokeh_timeout = Date.now() + 5000;\n    root._bokeh_failed_load = false;\n  }\n\n  var NB_LOAD_WARNING = {'data': {'text/html':\n     \"<div style='background-color: #fdd'>\\n\"+\n     \"<p>\\n\"+\n     \"BokehJS does not appear to have successfully loaded. If loading BokehJS from CDN, this \\n\"+\n     \"may be due to a slow or bad network connection. Possible fixes:\\n\"+\n     \"</p>\\n\"+\n     \"<ul>\\n\"+\n     \"<li>re-rerun `output_notebook()` to attempt to load from CDN again, or</li>\\n\"+\n     \"<li>use INLINE resources instead, as so:</li>\\n\"+\n     \"</ul>\\n\"+\n     \"<code>\\n\"+\n     \"from bokeh.resources import INLINE\\n\"+\n     \"output_notebook(resources=INLINE)\\n\"+\n     \"</code>\\n\"+\n     \"</div>\"}};\n\n  function display_loaded() {\n    var el = document.getElementById(\"c7fb259d-d988-468b-b72b-122904cfddb7\");\n    if (el != null) {\n      el.textContent = \"BokehJS is loading...\";\n    }\n    if (root.Bokeh !== undefined) {\n      if (el != null) {\n        el.textContent = \"BokehJS \" + root.Bokeh.version + \" successfully loaded.\";\n      }\n    } else if (Date.now() < root._bokeh_timeout) {\n      setTimeout(display_loaded, 100)\n    }\n  }\n\n\n  function run_callbacks() {\n    try {\n      root._bokeh_onload_callbacks.forEach(function(callback) { callback() });\n    }\n    finally {\n      delete root._bokeh_onload_callbacks\n    }\n    console.info(\"Bokeh: all callbacks have finished\");\n  }\n\n  function load_libs(js_urls, callback) {\n    root._bokeh_onload_callbacks.push(callback);\n    if (root._bokeh_is_loading > 0) {\n      console.log(\"Bokeh: BokehJS is being loaded, scheduling callback at\", now());\n      return null;\n    }\n    if (js_urls == null || js_urls.length === 0) {\n      run_callbacks();\n      return null;\n    }\n    console.log(\"Bokeh: BokehJS not loaded, scheduling load and callback at\", now());\n    root._bokeh_is_loading = js_urls.length;\n    for (var i = 0; i < js_urls.length; i++) {\n      var url = js_urls[i];\n      var s = document.createElement('script');\n      s.src = url;\n      s.async = false;\n      s.onreadystatechange = s.onload = function() {\n        root._bokeh_is_loading--;\n        if (root._bokeh_is_loading === 0) {\n          console.log(\"Bokeh: all BokehJS libraries loaded\");\n          run_callbacks()\n        }\n      };\n      s.onerror = function() {\n        console.warn(\"failed to load library \" + url);\n      };\n      console.log(\"Bokeh: injecting script tag for BokehJS library: \", url);\n      document.getElementsByTagName(\"head\")[0].appendChild(s);\n    }\n  };var element = document.getElementById(\"c7fb259d-d988-468b-b72b-122904cfddb7\");\n  if (element == null) {\n    console.log(\"Bokeh: ERROR: autoload.js configured with elementid 'c7fb259d-d988-468b-b72b-122904cfddb7' but no matching script tag was found. \")\n    return false;\n  }\n\n  var js_urls = [\"https://cdn.pydata.org/bokeh/release/bokeh-0.12.15.min.js\", \"https://cdn.pydata.org/bokeh/release/bokeh-widgets-0.12.15.min.js\", \"https://cdn.pydata.org/bokeh/release/bokeh-tables-0.12.15.min.js\", \"https://cdn.pydata.org/bokeh/release/bokeh-gl-0.12.15.min.js\"];\n\n  var inline_js = [\n    function(Bokeh) {\n      Bokeh.set_log_level(\"info\");\n    },\n    \n    function(Bokeh) {\n      \n    },\n    function(Bokeh) {\n      console.log(\"Bokeh: injecting CSS: https://cdn.pydata.org/bokeh/release/bokeh-0.12.15.min.css\");\n      Bokeh.embed.inject_css(\"https://cdn.pydata.org/bokeh/release/bokeh-0.12.15.min.css\");\n      console.log(\"Bokeh: injecting CSS: https://cdn.pydata.org/bokeh/release/bokeh-widgets-0.12.15.min.css\");\n      Bokeh.embed.inject_css(\"https://cdn.pydata.org/bokeh/release/bokeh-widgets-0.12.15.min.css\");\n      console.log(\"Bokeh: injecting CSS: https://cdn.pydata.org/bokeh/release/bokeh-tables-0.12.15.min.css\");\n      Bokeh.embed.inject_css(\"https://cdn.pydata.org/bokeh/release/bokeh-tables-0.12.15.min.css\");\n    }\n  ];\n\n  function run_inline_js() {\n    \n    if ((root.Bokeh !== undefined) || (force === true)) {\n      for (var i = 0; i < inline_js.length; i++) {\n        inline_js[i].call(root, root.Bokeh);\n      }if (force === true) {\n        display_loaded();\n      }} else if (Date.now() < root._bokeh_timeout) {\n      setTimeout(run_inline_js, 100);\n    } else if (!root._bokeh_failed_load) {\n      console.log(\"Bokeh: BokehJS failed to load within specified timeout.\");\n      root._bokeh_failed_load = true;\n    } else if (force !== true) {\n      var cell = $(document.getElementById(\"c7fb259d-d988-468b-b72b-122904cfddb7\")).parents('.cell').data().cell;\n      cell.output_area.append_execute_result(NB_LOAD_WARNING)\n    }\n\n  }\n\n  if (root._bokeh_is_loading === 0) {\n    console.log(\"Bokeh: BokehJS loaded, going straight to plotting\");\n    run_inline_js();\n  } else {\n    load_libs(js_urls, function() {\n      console.log(\"Bokeh: BokehJS plotting callback run at\", now());\n      run_inline_js();\n    });\n  }\n}(window));"
     },
     "metadata": {},
     "output_type": "display_data"
    }
   ],
   "source": [
    "output_notebook()"
   ]
  },
  {
   "cell_type": "code",
   "execution_count": 5,
   "metadata": {},
   "outputs": [],
   "source": [
    "import pandas as pd\n",
    "import numpy as np\n",
    "from pathlib import Path"
   ]
  },
  {
   "cell_type": "code",
   "execution_count": 6,
   "metadata": {},
   "outputs": [],
   "source": [
    "path = Path(\"/media/kanishk/8E8481E28481CCE1/Learn/\")"
   ]
  },
  {
   "cell_type": "code",
   "execution_count": 7,
   "metadata": {},
   "outputs": [
    {
     "data": {
      "text/html": [
       "\n",
       "<div class=\"bk-root\">\n",
       "    <div class=\"bk-plotdiv\" id=\"b492238b-b088-4f1e-ae46-44643fad5dc8\"></div>\n",
       "</div>"
      ]
     },
     "metadata": {},
     "output_type": "display_data"
    },
    {
     "data": {
      "application/javascript": [
       "(function(root) {\n",
       "  function embed_document(root) {\n",
       "    \n",
       "  var docs_json = {\"9187f575-ea3f-4607-8d70-761ee46af55a\":{\"roots\":{\"references\":[{\"attributes\":{},\"id\":\"1cda3f16-a471-43e5-986d-a6e7a57521e9\",\"type\":\"WheelZoomTool\"},{\"attributes\":{\"data_source\":{\"id\":\"56907a6b-8d37-445b-83c8-4430fdca568a\",\"type\":\"ColumnDataSource\"},\"glyph\":{\"id\":\"9176db67-5063-40e0-87ae-5b88e6f7dda0\",\"type\":\"Line\"},\"hover_glyph\":null,\"muted_glyph\":null,\"nonselection_glyph\":{\"id\":\"14b36284-bbc2-40cf-9665-137f44277b17\",\"type\":\"Line\"},\"selection_glyph\":null,\"view\":{\"id\":\"1bac09d1-8149-4d86-a742-f439c637f3bf\",\"type\":\"CDSView\"}},\"id\":\"0b243d09-57fa-4bbb-a31d-b23db98f9343\",\"type\":\"GlyphRenderer\"},{\"attributes\":{\"overlay\":{\"id\":\"f85bd3a6-d614-4566-ad77-59bd1c8b65e0\",\"type\":\"BoxAnnotation\"}},\"id\":\"86ae32ee-1afc-47e2-8efa-e9eeb0f921f7\",\"type\":\"BoxZoomTool\"},{\"attributes\":{},\"id\":\"e3621565-28c0-4367-a25c-39974535a79f\",\"type\":\"SaveTool\"},{\"attributes\":{},\"id\":\"46ef88ba-3806-495c-af6c-c052f417e4a4\",\"type\":\"ResetTool\"},{\"attributes\":{},\"id\":\"0aadc5ab-7b0b-4837-b8a6-d83544f67805\",\"type\":\"HelpTool\"},{\"attributes\":{\"line_alpha\":0.1,\"line_color\":\"#1f77b4\",\"x\":{\"field\":\"x\"},\"y\":{\"value\":0.5}},\"id\":\"14b36284-bbc2-40cf-9665-137f44277b17\",\"type\":\"Line\"},{\"attributes\":{},\"id\":\"3613eb48-6231-47a2-b744-0e8a7edbbed2\",\"type\":\"BasicTickFormatter\"},{\"attributes\":{\"data_source\":{\"id\":\"f2df0617-31d5-4bde-a577-2d84d681b40c\",\"type\":\"ColumnDataSource\"},\"glyph\":{\"id\":\"14ed915d-d129-4778-8599-a9d3657df5bd\",\"type\":\"Line\"},\"hover_glyph\":null,\"muted_glyph\":null,\"nonselection_glyph\":{\"id\":\"1ae56644-1aef-478d-b187-ef2046341573\",\"type\":\"Line\"},\"selection_glyph\":null,\"view\":{\"id\":\"097e0cbf-c277-4e56-8a6a-0c1004c6db6d\",\"type\":\"CDSView\"}},\"id\":\"44e6e293-b818-483b-84c9-9b5db7c8f3b6\",\"type\":\"GlyphRenderer\"},{\"attributes\":{},\"id\":\"44c5a920-52b9-4ce4-bc59-8443f1705ac2\",\"type\":\"BasicTickFormatter\"},{\"attributes\":{\"source\":{\"id\":\"56907a6b-8d37-445b-83c8-4430fdca568a\",\"type\":\"ColumnDataSource\"}},\"id\":\"1bac09d1-8149-4d86-a742-f439c637f3bf\",\"type\":\"CDSView\"},{\"attributes\":{},\"id\":\"5a86bef3-0137-4236-b281-3d65e6763284\",\"type\":\"PanTool\"},{\"attributes\":{\"line_color\":\"#1f77b4\",\"x\":{\"value\":0.5},\"y\":{\"field\":\"y\"}},\"id\":\"14ed915d-d129-4778-8599-a9d3657df5bd\",\"type\":\"Line\"},{\"attributes\":{\"plot\":null},\"id\":\"384ecdd1-e9e8-4ec9-bdaa-70a375c0ce45\",\"type\":\"OpenHead\"},{\"attributes\":{\"end\":{\"id\":\"384ecdd1-e9e8-4ec9-bdaa-70a375c0ce45\",\"type\":\"OpenHead\"},\"plot\":{\"id\":\"3adc46a6-77a4-43f1-b1be-52c093e4c425\",\"subtype\":\"Figure\",\"type\":\"Plot\"},\"source\":null,\"start\":null,\"x_end\":{\"value\":1},\"x_start\":{\"value\":0.0},\"y_end\":{\"value\":0.5},\"y_start\":{\"value\":0.5}},\"id\":\"70db14b8-cb4c-4c5f-b568-fb9139c292de\",\"type\":\"Arrow\"},{\"attributes\":{\"below\":[{\"id\":\"2e578557-b5eb-48c2-be54-03dbdd9ad5d6\",\"type\":\"LinearAxis\"}],\"left\":[{\"id\":\"7f0e0170-5e6a-4a74-8e59-4952bb98f0be\",\"type\":\"LinearAxis\"}],\"plot_height\":150,\"plot_width\":200,\"renderers\":[{\"id\":\"2e578557-b5eb-48c2-be54-03dbdd9ad5d6\",\"type\":\"LinearAxis\"},{\"id\":\"6baefce3-700e-400e-bdb2-65cff61ba021\",\"type\":\"Grid\"},{\"id\":\"7f0e0170-5e6a-4a74-8e59-4952bb98f0be\",\"type\":\"LinearAxis\"},{\"id\":\"4da3113e-dc04-4f18-9ffb-15b69873e605\",\"type\":\"Grid\"},{\"id\":\"f85bd3a6-d614-4566-ad77-59bd1c8b65e0\",\"type\":\"BoxAnnotation\"},{\"id\":\"0b243d09-57fa-4bbb-a31d-b23db98f9343\",\"type\":\"GlyphRenderer\"},{\"id\":\"70db14b8-cb4c-4c5f-b568-fb9139c292de\",\"type\":\"Arrow\"},{\"id\":\"44e6e293-b818-483b-84c9-9b5db7c8f3b6\",\"type\":\"GlyphRenderer\"},{\"id\":\"3f399578-8a78-439d-a1ba-ad379fa5056f\",\"type\":\"Arrow\"},{\"id\":\"41977549-48e4-41b6-9685-4ea0649a5f37\",\"type\":\"Label\"},{\"id\":\"24bdb967-35a7-4931-b7dc-2d045cfa85fa\",\"type\":\"Label\"}],\"title\":{\"id\":\"99f33e0a-d8b9-402f-ad6e-d5074eaa638c\",\"type\":\"Title\"},\"toolbar\":{\"id\":\"0e88c67d-e7c1-456f-8118-948df80044e6\",\"type\":\"Toolbar\"},\"x_range\":{\"id\":\"d0efc889-9bc8-44ef-9126-1cca07940fcc\",\"type\":\"DataRange1d\"},\"x_scale\":{\"id\":\"ff1f4bf0-7342-4fd2-b2ac-2b9a1b73e9cb\",\"type\":\"LinearScale\"},\"y_range\":{\"id\":\"ab1872cc-c0af-46e7-b2e1-743e9dffb238\",\"type\":\"DataRange1d\"},\"y_scale\":{\"id\":\"0e69bd27-de6e-4b63-98d5-3eeec5d5a4c9\",\"type\":\"LinearScale\"}},\"id\":\"3adc46a6-77a4-43f1-b1be-52c093e4c425\",\"subtype\":\"Figure\",\"type\":\"Plot\"},{\"attributes\":{\"end\":{\"id\":\"6505bb87-6ac2-4c37-b17d-1f396a0ad407\",\"type\":\"OpenHead\"},\"plot\":{\"id\":\"3adc46a6-77a4-43f1-b1be-52c093e4c425\",\"subtype\":\"Figure\",\"type\":\"Plot\"},\"source\":null,\"start\":null,\"x_end\":{\"value\":0.5},\"x_start\":{\"value\":0.5},\"y_end\":{\"value\":1},\"y_start\":{\"value\":0.0}},\"id\":\"3f399578-8a78-439d-a1ba-ad379fa5056f\",\"type\":\"Arrow\"},{\"attributes\":{\"callback\":null,\"column_names\":[\"x\"],\"data\":{\"x\":[0,1]},\"selected\":null,\"selection_policy\":null},\"id\":\"56907a6b-8d37-445b-83c8-4430fdca568a\",\"type\":\"ColumnDataSource\"},{\"attributes\":{\"plot\":{\"id\":\"3adc46a6-77a4-43f1-b1be-52c093e4c425\",\"subtype\":\"Figure\",\"type\":\"Plot\"},\"text\":\"x\",\"x\":0.9,\"y\":0.3},\"id\":\"24bdb967-35a7-4931-b7dc-2d045cfa85fa\",\"type\":\"Label\"},{\"attributes\":{\"plot\":null},\"id\":\"6505bb87-6ac2-4c37-b17d-1f396a0ad407\",\"type\":\"OpenHead\"},{\"attributes\":{\"plot\":null,\"text\":\"position\"},\"id\":\"99f33e0a-d8b9-402f-ad6e-d5074eaa638c\",\"type\":\"Title\"},{\"attributes\":{\"callback\":null},\"id\":\"d0efc889-9bc8-44ef-9126-1cca07940fcc\",\"type\":\"DataRange1d\"},{\"attributes\":{},\"id\":\"0e69bd27-de6e-4b63-98d5-3eeec5d5a4c9\",\"type\":\"LinearScale\"},{\"attributes\":{\"line_alpha\":0.1,\"line_color\":\"#1f77b4\",\"x\":{\"value\":0.5},\"y\":{\"field\":\"y\"}},\"id\":\"1ae56644-1aef-478d-b187-ef2046341573\",\"type\":\"Line\"},{\"attributes\":{\"source\":{\"id\":\"f2df0617-31d5-4bde-a577-2d84d681b40c\",\"type\":\"ColumnDataSource\"}},\"id\":\"097e0cbf-c277-4e56-8a6a-0c1004c6db6d\",\"type\":\"CDSView\"},{\"attributes\":{\"active_drag\":\"auto\",\"active_inspect\":\"auto\",\"active_scroll\":\"auto\",\"active_tap\":\"auto\",\"tools\":[{\"id\":\"5a86bef3-0137-4236-b281-3d65e6763284\",\"type\":\"PanTool\"},{\"id\":\"1cda3f16-a471-43e5-986d-a6e7a57521e9\",\"type\":\"WheelZoomTool\"},{\"id\":\"86ae32ee-1afc-47e2-8efa-e9eeb0f921f7\",\"type\":\"BoxZoomTool\"},{\"id\":\"e3621565-28c0-4367-a25c-39974535a79f\",\"type\":\"SaveTool\"},{\"id\":\"46ef88ba-3806-495c-af6c-c052f417e4a4\",\"type\":\"ResetTool\"},{\"id\":\"0aadc5ab-7b0b-4837-b8a6-d83544f67805\",\"type\":\"HelpTool\"}]},\"id\":\"0e88c67d-e7c1-456f-8118-948df80044e6\",\"type\":\"Toolbar\"},{\"attributes\":{\"plot\":{\"id\":\"3adc46a6-77a4-43f1-b1be-52c093e4c425\",\"subtype\":\"Figure\",\"type\":\"Plot\"},\"text\":\"y\",\"x\":0.4,\"y\":0.9},\"id\":\"41977549-48e4-41b6-9685-4ea0649a5f37\",\"type\":\"Label\"},{\"attributes\":{\"callback\":null,\"column_names\":[\"y\"],\"data\":{\"y\":[0,1]},\"selected\":null,\"selection_policy\":null},\"id\":\"f2df0617-31d5-4bde-a577-2d84d681b40c\",\"type\":\"ColumnDataSource\"},{\"attributes\":{},\"id\":\"ff1f4bf0-7342-4fd2-b2ac-2b9a1b73e9cb\",\"type\":\"LinearScale\"},{\"attributes\":{\"callback\":null},\"id\":\"ab1872cc-c0af-46e7-b2e1-743e9dffb238\",\"type\":\"DataRange1d\"},{\"attributes\":{\"formatter\":{\"id\":\"3613eb48-6231-47a2-b744-0e8a7edbbed2\",\"type\":\"BasicTickFormatter\"},\"plot\":{\"id\":\"3adc46a6-77a4-43f1-b1be-52c093e4c425\",\"subtype\":\"Figure\",\"type\":\"Plot\"},\"ticker\":{\"id\":\"78b470ce-9e30-4a09-b8c1-f548fc651f82\",\"type\":\"BasicTicker\"},\"visible\":false},\"id\":\"2e578557-b5eb-48c2-be54-03dbdd9ad5d6\",\"type\":\"LinearAxis\"},{\"attributes\":{},\"id\":\"78b470ce-9e30-4a09-b8c1-f548fc651f82\",\"type\":\"BasicTicker\"},{\"attributes\":{\"grid_line_color\":{\"value\":null},\"plot\":{\"id\":\"3adc46a6-77a4-43f1-b1be-52c093e4c425\",\"subtype\":\"Figure\",\"type\":\"Plot\"},\"ticker\":{\"id\":\"78b470ce-9e30-4a09-b8c1-f548fc651f82\",\"type\":\"BasicTicker\"}},\"id\":\"6baefce3-700e-400e-bdb2-65cff61ba021\",\"type\":\"Grid\"},{\"attributes\":{\"formatter\":{\"id\":\"44c5a920-52b9-4ce4-bc59-8443f1705ac2\",\"type\":\"BasicTickFormatter\"},\"plot\":{\"id\":\"3adc46a6-77a4-43f1-b1be-52c093e4c425\",\"subtype\":\"Figure\",\"type\":\"Plot\"},\"ticker\":{\"id\":\"2b350d07-c73f-41e2-93c3-bce52b0ca01b\",\"type\":\"BasicTicker\"},\"visible\":false},\"id\":\"7f0e0170-5e6a-4a74-8e59-4952bb98f0be\",\"type\":\"LinearAxis\"},{\"attributes\":{},\"id\":\"2b350d07-c73f-41e2-93c3-bce52b0ca01b\",\"type\":\"BasicTicker\"},{\"attributes\":{\"dimension\":1,\"grid_line_color\":{\"value\":null},\"plot\":{\"id\":\"3adc46a6-77a4-43f1-b1be-52c093e4c425\",\"subtype\":\"Figure\",\"type\":\"Plot\"},\"ticker\":{\"id\":\"2b350d07-c73f-41e2-93c3-bce52b0ca01b\",\"type\":\"BasicTicker\"}},\"id\":\"4da3113e-dc04-4f18-9ffb-15b69873e605\",\"type\":\"Grid\"},{\"attributes\":{\"bottom_units\":\"screen\",\"fill_alpha\":{\"value\":0.5},\"fill_color\":{\"value\":\"lightgrey\"},\"left_units\":\"screen\",\"level\":\"overlay\",\"line_alpha\":{\"value\":1.0},\"line_color\":{\"value\":\"black\"},\"line_dash\":[4,4],\"line_width\":{\"value\":2},\"plot\":null,\"render_mode\":\"css\",\"right_units\":\"screen\",\"top_units\":\"screen\"},\"id\":\"f85bd3a6-d614-4566-ad77-59bd1c8b65e0\",\"type\":\"BoxAnnotation\"},{\"attributes\":{\"line_color\":\"#1f77b4\",\"x\":{\"field\":\"x\"},\"y\":{\"value\":0.5}},\"id\":\"9176db67-5063-40e0-87ae-5b88e6f7dda0\",\"type\":\"Line\"}],\"root_ids\":[\"3adc46a6-77a4-43f1-b1be-52c093e4c425\"]},\"title\":\"Bokeh Application\",\"version\":\"0.12.15\"}};\n",
       "  var render_items = [{\"docid\":\"9187f575-ea3f-4607-8d70-761ee46af55a\",\"elementid\":\"b492238b-b088-4f1e-ae46-44643fad5dc8\",\"modelid\":\"3adc46a6-77a4-43f1-b1be-52c093e4c425\"}];\n",
       "  root.Bokeh.embed.embed_items_notebook(docs_json, render_items);\n",
       "\n",
       "  }\n",
       "  if (root.Bokeh !== undefined) {\n",
       "    embed_document(root);\n",
       "  } else {\n",
       "    var attempts = 0;\n",
       "    var timer = setInterval(function(root) {\n",
       "      if (root.Bokeh !== undefined) {\n",
       "        embed_document(root);\n",
       "        clearInterval(timer);\n",
       "      }\n",
       "      attempts++;\n",
       "      if (attempts > 100) {\n",
       "        console.log(\"Bokeh: ERROR: Unable to run BokehJS code because BokehJS library is missing\")\n",
       "        clearInterval(timer);\n",
       "      }\n",
       "    }, 10, root)\n",
       "  }\n",
       "})(window);"
      ],
      "application/vnd.bokehjs_exec.v0+json": ""
     },
     "metadata": {
      "application/vnd.bokehjs_exec.v0+json": {
       "id": "3adc46a6-77a4-43f1-b1be-52c093e4c425"
      }
     },
     "output_type": "display_data"
    }
   ],
   "source": [
    "pos = figure(plot_width=200, plot_height=150, title=\"position\")\n",
    "pos.axis.visible = False\n",
    "pos.grid.grid_line_color = None\n",
    "\n",
    "pos.line(x=[0, 1], y=0.5)\n",
    "pos.add_layout(Arrow(end=OpenHead(line_color=\"black\", line_width=1),\n",
    "                   x_start=0.0, y_start=0.5, x_end=1, y_end=0.5))\n",
    "\n",
    "pos.line(y=[0, 1], x=0.5)\n",
    "pos.add_layout(Arrow(end=OpenHead(line_color=\"black\", line_width=1),\n",
    "                   x_start=0.5, y_start=0.0, x_end=0.5, y_end=1))\n",
    "\n",
    "pos.add_layout(Label(x=0.4, y=0.9, text=\"y\"))\n",
    "pos.add_layout(Label(x=0.9, y=0.3, text=\"x\"))\n",
    "\n",
    "show(pos)"
   ]
  },
  {
   "cell_type": "code",
   "execution_count": 8,
   "metadata": {},
   "outputs": [
    {
     "data": {
      "text/html": [
       "\n",
       "<div class=\"bk-root\">\n",
       "    <div class=\"bk-plotdiv\" id=\"627f99e6-6c88-419b-9cfa-2483c56647e7\"></div>\n",
       "</div>"
      ]
     },
     "metadata": {},
     "output_type": "display_data"
    },
    {
     "data": {
      "application/javascript": [
       "(function(root) {\n",
       "  function embed_document(root) {\n",
       "    \n",
       "  var docs_json = {\"c9b984d7-19b4-4f35-afb1-77a566f373ba\":{\"roots\":{\"references\":[{\"attributes\":{\"fill_alpha\":{\"value\":0.1},\"fill_color\":{\"value\":\"#1f77b4\"},\"line_alpha\":{\"value\":0.1},\"line_color\":{\"value\":\"#1f77b4\"},\"size\":{\"units\":\"screen\",\"value\":15},\"x\":{\"value\":0.3666666666666667},\"y\":{\"value\":0.5}},\"id\":\"8e4d8635-edfd-447b-bd07-9edbaa923249\",\"type\":\"Square\"},{\"attributes\":{\"callback\":null,\"data\":{},\"selected\":null,\"selection_policy\":null},\"id\":\"59b5fe2f-eaa4-45de-91d3-eda8d4815133\",\"type\":\"ColumnDataSource\"},{\"attributes\":{\"angle\":{\"units\":\"rad\",\"value\":45.0},\"fill_alpha\":{\"value\":0.1},\"fill_color\":{\"value\":\"#1f77b4\"},\"line_alpha\":{\"value\":0.1},\"line_color\":{\"value\":\"#1f77b4\"},\"size\":{\"units\":\"screen\",\"value\":15},\"x\":{\"value\":0.6333333333333333},\"y\":{\"value\":0.5}},\"id\":\"f4bc1f8e-4101-4a06-909e-674b0aa908ae\",\"type\":\"Square\"},{\"attributes\":{\"source\":{\"id\":\"6fcc96a4-2bde-4421-820a-a5c81b87290f\",\"type\":\"ColumnDataSource\"}},\"id\":\"9e302cfc-8996-4347-af80-8bc04b5d4c0f\",\"type\":\"CDSView\"},{\"attributes\":{\"fill_color\":{\"value\":\"grey\"},\"line_color\":{\"value\":null},\"size\":{\"units\":\"screen\",\"value\":20},\"x\":{\"value\":0.9},\"y\":{\"value\":0.5}},\"id\":\"f2fd064c-318d-4baf-996f-dde0abf666b3\",\"type\":\"Triangle\"},{\"attributes\":{\"callback\":null,\"data\":{},\"selected\":null,\"selection_policy\":null},\"id\":\"6fcc96a4-2bde-4421-820a-a5c81b87290f\",\"type\":\"ColumnDataSource\"},{\"attributes\":{\"data_source\":{\"id\":\"fd8c8ddd-4fb2-42e1-a900-cddf835c9e32\",\"type\":\"ColumnDataSource\"},\"glyph\":{\"id\":\"c7fa94d7-ccb2-48ce-9a60-687661e3e492\",\"type\":\"Square\"},\"hover_glyph\":null,\"muted_glyph\":null,\"nonselection_glyph\":{\"id\":\"f4bc1f8e-4101-4a06-909e-674b0aa908ae\",\"type\":\"Square\"},\"selection_glyph\":null,\"view\":{\"id\":\"138714c3-91e9-44ec-8175-3e74813fd1cb\",\"type\":\"CDSView\"}},\"id\":\"530b27d1-bba5-48c1-9919-c41ad6212065\",\"type\":\"GlyphRenderer\"},{\"attributes\":{\"bounds\":[0,1],\"callback\":null},\"id\":\"e24216e4-fa43-47f1-8b68-3ee77443e053\",\"type\":\"Range1d\"},{\"attributes\":{\"source\":{\"id\":\"fd8c8ddd-4fb2-42e1-a900-cddf835c9e32\",\"type\":\"ColumnDataSource\"}},\"id\":\"138714c3-91e9-44ec-8175-3e74813fd1cb\",\"type\":\"CDSView\"},{\"attributes\":{\"data_source\":{\"id\":\"6fcc96a4-2bde-4421-820a-a5c81b87290f\",\"type\":\"ColumnDataSource\"},\"glyph\":{\"id\":\"3431a3f0-6c94-4fdc-9930-731d45efdba7\",\"type\":\"Square\"},\"hover_glyph\":null,\"muted_glyph\":null,\"nonselection_glyph\":{\"id\":\"8e4d8635-edfd-447b-bd07-9edbaa923249\",\"type\":\"Square\"},\"selection_glyph\":null,\"view\":{\"id\":\"9e302cfc-8996-4347-af80-8bc04b5d4c0f\",\"type\":\"CDSView\"}},\"id\":\"12a83224-af18-4ff6-a739-c5b5e2e3ba25\",\"type\":\"GlyphRenderer\"},{\"attributes\":{\"fill_alpha\":{\"value\":0.1},\"fill_color\":{\"value\":\"#1f77b4\"},\"line_alpha\":{\"value\":0.1},\"line_color\":{\"value\":\"#1f77b4\"},\"size\":{\"units\":\"screen\",\"value\":20},\"x\":{\"value\":0.9},\"y\":{\"value\":0.5}},\"id\":\"b2a55566-9783-41f3-a644-b70f50fd829d\",\"type\":\"Triangle\"},{\"attributes\":{\"bounds\":[0,1],\"callback\":null},\"id\":\"406d675a-649e-4233-9c86-09bd0246ae96\",\"type\":\"Range1d\"},{\"attributes\":{\"overlay\":{\"id\":\"de17dee2-7b6f-4f78-922a-93375eb3e521\",\"type\":\"BoxAnnotation\"}},\"id\":\"8a8da9c5-c345-40fa-bfec-ebc9f784626d\",\"type\":\"BoxZoomTool\"},{\"attributes\":{},\"id\":\"d59f7039-849c-457d-8e12-61e29572ad3c\",\"type\":\"LinearScale\"},{\"attributes\":{\"below\":[{\"id\":\"c5ffdd24-ca43-4eb0-b062-c62290e6f85a\",\"type\":\"LinearAxis\"}],\"left\":[{\"id\":\"21ebf494-916c-416e-a27f-ce3d4a154721\",\"type\":\"LinearAxis\"}],\"plot_height\":150,\"plot_width\":200,\"renderers\":[{\"id\":\"c5ffdd24-ca43-4eb0-b062-c62290e6f85a\",\"type\":\"LinearAxis\"},{\"id\":\"798c7265-4294-443a-83e5-c64f1b4d280d\",\"type\":\"Grid\"},{\"id\":\"21ebf494-916c-416e-a27f-ce3d4a154721\",\"type\":\"LinearAxis\"},{\"id\":\"d8bc461e-f6c9-4b39-bc1e-a48d4ba79004\",\"type\":\"Grid\"},{\"id\":\"de17dee2-7b6f-4f78-922a-93375eb3e521\",\"type\":\"BoxAnnotation\"},{\"id\":\"fc28539a-a1de-46d3-a3a8-575386dfde0f\",\"type\":\"GlyphRenderer\"},{\"id\":\"12a83224-af18-4ff6-a739-c5b5e2e3ba25\",\"type\":\"GlyphRenderer\"},{\"id\":\"530b27d1-bba5-48c1-9919-c41ad6212065\",\"type\":\"GlyphRenderer\"},{\"id\":\"7a080bb8-4856-4bce-98cd-fb7da3ac35e0\",\"type\":\"GlyphRenderer\"}],\"title\":{\"id\":\"2bdec30f-a151-4735-924e-b42f2849189f\",\"type\":\"Title\"},\"toolbar\":{\"id\":\"018fa74f-9ad4-4a7c-8e0e-e7eff411fb25\",\"type\":\"Toolbar\"},\"x_range\":{\"id\":\"e24216e4-fa43-47f1-8b68-3ee77443e053\",\"type\":\"Range1d\"},\"x_scale\":{\"id\":\"d59f7039-849c-457d-8e12-61e29572ad3c\",\"type\":\"LinearScale\"},\"y_range\":{\"id\":\"406d675a-649e-4233-9c86-09bd0246ae96\",\"type\":\"Range1d\"},\"y_scale\":{\"id\":\"5128c52e-ce75-49ef-b32d-0102f0e246d4\",\"type\":\"LinearScale\"}},\"id\":\"4c3d4546-ca01-49fd-a475-7c9ad5ed98d8\",\"subtype\":\"Figure\",\"type\":\"Plot\"},{\"attributes\":{\"data_source\":{\"id\":\"59b5fe2f-eaa4-45de-91d3-eda8d4815133\",\"type\":\"ColumnDataSource\"},\"glyph\":{\"id\":\"f2fd064c-318d-4baf-996f-dde0abf666b3\",\"type\":\"Triangle\"},\"hover_glyph\":null,\"muted_glyph\":null,\"nonselection_glyph\":{\"id\":\"b2a55566-9783-41f3-a644-b70f50fd829d\",\"type\":\"Triangle\"},\"selection_glyph\":null,\"view\":{\"id\":\"a4544bd6-42b8-4d28-9949-0cc42e62b277\",\"type\":\"CDSView\"}},\"id\":\"7a080bb8-4856-4bce-98cd-fb7da3ac35e0\",\"type\":\"GlyphRenderer\"},{\"attributes\":{\"plot\":null,\"text\":\"shape\"},\"id\":\"2bdec30f-a151-4735-924e-b42f2849189f\",\"type\":\"Title\"},{\"attributes\":{\"source\":{\"id\":\"59b5fe2f-eaa4-45de-91d3-eda8d4815133\",\"type\":\"ColumnDataSource\"}},\"id\":\"a4544bd6-42b8-4d28-9949-0cc42e62b277\",\"type\":\"CDSView\"},{\"attributes\":{\"active_drag\":\"auto\",\"active_inspect\":\"auto\",\"active_scroll\":\"auto\",\"active_tap\":\"auto\",\"tools\":[{\"id\":\"aa4fc80c-9c27-4be2-9127-5a2d5a999aab\",\"type\":\"PanTool\"},{\"id\":\"994c531c-ba5d-4433-b7b5-18adb29b4c01\",\"type\":\"WheelZoomTool\"},{\"id\":\"8a8da9c5-c345-40fa-bfec-ebc9f784626d\",\"type\":\"BoxZoomTool\"},{\"id\":\"e7827953-a25d-4e5b-9009-e00040313aa2\",\"type\":\"SaveTool\"},{\"id\":\"abd92bbe-5ca3-4a3b-80f8-4517057558e1\",\"type\":\"ResetTool\"},{\"id\":\"b1540c70-5c38-4af7-ace3-e8cae6350999\",\"type\":\"HelpTool\"}]},\"id\":\"018fa74f-9ad4-4a7c-8e0e-e7eff411fb25\",\"type\":\"Toolbar\"},{\"attributes\":{\"fill_color\":{\"value\":\"grey\"},\"line_color\":{\"value\":null},\"radius\":{\"units\":\"data\",\"value\":0.05},\"x\":{\"value\":0.1},\"y\":{\"value\":0.5}},\"id\":\"0e6c18af-3469-433c-aff3-a135441b87fa\",\"type\":\"Circle\"},{\"attributes\":{\"grid_line_color\":{\"value\":null},\"plot\":{\"id\":\"4c3d4546-ca01-49fd-a475-7c9ad5ed98d8\",\"subtype\":\"Figure\",\"type\":\"Plot\"},\"ticker\":{\"id\":\"4172d05d-2184-48bf-a044-684e6122d784\",\"type\":\"BasicTicker\"}},\"id\":\"798c7265-4294-443a-83e5-c64f1b4d280d\",\"type\":\"Grid\"},{\"attributes\":{},\"id\":\"5128c52e-ce75-49ef-b32d-0102f0e246d4\",\"type\":\"LinearScale\"},{\"attributes\":{\"formatter\":{\"id\":\"0402bf64-95b7-4e19-b498-65102e508e42\",\"type\":\"BasicTickFormatter\"},\"plot\":{\"id\":\"4c3d4546-ca01-49fd-a475-7c9ad5ed98d8\",\"subtype\":\"Figure\",\"type\":\"Plot\"},\"ticker\":{\"id\":\"4172d05d-2184-48bf-a044-684e6122d784\",\"type\":\"BasicTicker\"},\"visible\":false},\"id\":\"c5ffdd24-ca43-4eb0-b062-c62290e6f85a\",\"type\":\"LinearAxis\"},{\"attributes\":{},\"id\":\"03c84d7d-8c4a-4109-8fee-7b13096c6cbe\",\"type\":\"BasicTickFormatter\"},{\"attributes\":{\"callback\":null,\"data\":{},\"selected\":null,\"selection_policy\":null},\"id\":\"fd8c8ddd-4fb2-42e1-a900-cddf835c9e32\",\"type\":\"ColumnDataSource\"},{\"attributes\":{},\"id\":\"4172d05d-2184-48bf-a044-684e6122d784\",\"type\":\"BasicTicker\"},{\"attributes\":{\"formatter\":{\"id\":\"03c84d7d-8c4a-4109-8fee-7b13096c6cbe\",\"type\":\"BasicTickFormatter\"},\"plot\":{\"id\":\"4c3d4546-ca01-49fd-a475-7c9ad5ed98d8\",\"subtype\":\"Figure\",\"type\":\"Plot\"},\"ticker\":{\"id\":\"c2c2e607-5bb5-4062-816d-f72ce9b313be\",\"type\":\"BasicTicker\"},\"visible\":false},\"id\":\"21ebf494-916c-416e-a27f-ce3d4a154721\",\"type\":\"LinearAxis\"},{\"attributes\":{},\"id\":\"c2c2e607-5bb5-4062-816d-f72ce9b313be\",\"type\":\"BasicTicker\"},{\"attributes\":{\"dimension\":1,\"grid_line_color\":{\"value\":null},\"plot\":{\"id\":\"4c3d4546-ca01-49fd-a475-7c9ad5ed98d8\",\"subtype\":\"Figure\",\"type\":\"Plot\"},\"ticker\":{\"id\":\"c2c2e607-5bb5-4062-816d-f72ce9b313be\",\"type\":\"BasicTicker\"}},\"id\":\"d8bc461e-f6c9-4b39-bc1e-a48d4ba79004\",\"type\":\"Grid\"},{\"attributes\":{\"fill_alpha\":{\"value\":0.1},\"fill_color\":{\"value\":\"#1f77b4\"},\"line_alpha\":{\"value\":0.1},\"line_color\":{\"value\":\"#1f77b4\"},\"radius\":{\"units\":\"data\",\"value\":0.05},\"x\":{\"value\":0.1},\"y\":{\"value\":0.5}},\"id\":\"4ded43e4-720e-491f-85bc-51c7616b6e9d\",\"type\":\"Circle\"},{\"attributes\":{},\"id\":\"e7827953-a25d-4e5b-9009-e00040313aa2\",\"type\":\"SaveTool\"},{\"attributes\":{\"callback\":null,\"data\":{},\"selected\":null,\"selection_policy\":null},\"id\":\"5f060c50-1658-4100-91c3-b3b3831038db\",\"type\":\"ColumnDataSource\"},{\"attributes\":{\"bottom_units\":\"screen\",\"fill_alpha\":{\"value\":0.5},\"fill_color\":{\"value\":\"lightgrey\"},\"left_units\":\"screen\",\"level\":\"overlay\",\"line_alpha\":{\"value\":1.0},\"line_color\":{\"value\":\"black\"},\"line_dash\":[4,4],\"line_width\":{\"value\":2},\"plot\":null,\"render_mode\":\"css\",\"right_units\":\"screen\",\"top_units\":\"screen\"},\"id\":\"de17dee2-7b6f-4f78-922a-93375eb3e521\",\"type\":\"BoxAnnotation\"},{\"attributes\":{},\"id\":\"aa4fc80c-9c27-4be2-9127-5a2d5a999aab\",\"type\":\"PanTool\"},{\"attributes\":{},\"id\":\"abd92bbe-5ca3-4a3b-80f8-4517057558e1\",\"type\":\"ResetTool\"},{\"attributes\":{},\"id\":\"994c531c-ba5d-4433-b7b5-18adb29b4c01\",\"type\":\"WheelZoomTool\"},{\"attributes\":{\"data_source\":{\"id\":\"5f060c50-1658-4100-91c3-b3b3831038db\",\"type\":\"ColumnDataSource\"},\"glyph\":{\"id\":\"0e6c18af-3469-433c-aff3-a135441b87fa\",\"type\":\"Circle\"},\"hover_glyph\":null,\"muted_glyph\":null,\"nonselection_glyph\":{\"id\":\"4ded43e4-720e-491f-85bc-51c7616b6e9d\",\"type\":\"Circle\"},\"selection_glyph\":null,\"view\":{\"id\":\"0bf304dc-53fd-4ffa-a538-0d5eb79e974b\",\"type\":\"CDSView\"}},\"id\":\"fc28539a-a1de-46d3-a3a8-575386dfde0f\",\"type\":\"GlyphRenderer\"},{\"attributes\":{},\"id\":\"b1540c70-5c38-4af7-ace3-e8cae6350999\",\"type\":\"HelpTool\"},{\"attributes\":{\"source\":{\"id\":\"5f060c50-1658-4100-91c3-b3b3831038db\",\"type\":\"ColumnDataSource\"}},\"id\":\"0bf304dc-53fd-4ffa-a538-0d5eb79e974b\",\"type\":\"CDSView\"},{\"attributes\":{\"angle\":{\"units\":\"rad\",\"value\":45.0},\"fill_color\":{\"value\":\"grey\"},\"line_color\":{\"value\":null},\"size\":{\"units\":\"screen\",\"value\":15},\"x\":{\"value\":0.6333333333333333},\"y\":{\"value\":0.5}},\"id\":\"c7fa94d7-ccb2-48ce-9a60-687661e3e492\",\"type\":\"Square\"},{\"attributes\":{},\"id\":\"0402bf64-95b7-4e19-b498-65102e508e42\",\"type\":\"BasicTickFormatter\"},{\"attributes\":{\"fill_color\":{\"value\":\"grey\"},\"line_color\":{\"value\":null},\"size\":{\"units\":\"screen\",\"value\":15},\"x\":{\"value\":0.3666666666666667},\"y\":{\"value\":0.5}},\"id\":\"3431a3f0-6c94-4fdc-9930-731d45efdba7\",\"type\":\"Square\"}],\"root_ids\":[\"4c3d4546-ca01-49fd-a475-7c9ad5ed98d8\"]},\"title\":\"Bokeh Application\",\"version\":\"0.12.15\"}};\n",
       "  var render_items = [{\"docid\":\"c9b984d7-19b4-4f35-afb1-77a566f373ba\",\"elementid\":\"627f99e6-6c88-419b-9cfa-2483c56647e7\",\"modelid\":\"4c3d4546-ca01-49fd-a475-7c9ad5ed98d8\"}];\n",
       "  root.Bokeh.embed.embed_items_notebook(docs_json, render_items);\n",
       "\n",
       "  }\n",
       "  if (root.Bokeh !== undefined) {\n",
       "    embed_document(root);\n",
       "  } else {\n",
       "    var attempts = 0;\n",
       "    var timer = setInterval(function(root) {\n",
       "      if (root.Bokeh !== undefined) {\n",
       "        embed_document(root);\n",
       "        clearInterval(timer);\n",
       "      }\n",
       "      attempts++;\n",
       "      if (attempts > 100) {\n",
       "        console.log(\"Bokeh: ERROR: Unable to run BokehJS code because BokehJS library is missing\")\n",
       "        clearInterval(timer);\n",
       "      }\n",
       "    }, 10, root)\n",
       "  }\n",
       "})(window);"
      ],
      "application/vnd.bokehjs_exec.v0+json": ""
     },
     "metadata": {
      "application/vnd.bokehjs_exec.v0+json": {
       "id": "4c3d4546-ca01-49fd-a475-7c9ad5ed98d8"
      }
     },
     "output_type": "display_data"
    }
   ],
   "source": [
    "shp = figure(plot_height=150, plot_width=200, x_range=Range1d(bounds=(0, 1)), y_range=Range1d(bounds=(0, 1)),\n",
    "            title=\"shape\")\n",
    "shp.axis.visible = False\n",
    "shp.grid.grid_line_color = None\n",
    "\n",
    "ls = np.linspace(0.1, 0.9, num=4)\n",
    "\n",
    "shp.circle(x=ls[0], y=0.5, fill_color=\"grey\", radius=0.05, line_color=None)\n",
    "shp.square(x=ls[1], y=0.5, fill_color=\"grey\", size=15, line_color=None)\n",
    "shp.square(x=ls[2], y=0.5, fill_color=\"grey\", size=15, line_color=None, angle=45.0)\n",
    "shp.triangle(x=ls[3], y=0.5, fill_color=\"grey\", size=20, line_color=None)\n",
    "\n",
    "show(shp)"
   ]
  },
  {
   "cell_type": "code",
   "execution_count": 9,
   "metadata": {},
   "outputs": [
    {
     "data": {
      "text/html": [
       "\n",
       "<div class=\"bk-root\">\n",
       "    <div class=\"bk-plotdiv\" id=\"14d88864-aff9-43a1-a40a-edbc4e6d8e01\"></div>\n",
       "</div>"
      ]
     },
     "metadata": {},
     "output_type": "display_data"
    },
    {
     "data": {
      "application/javascript": [
       "(function(root) {\n",
       "  function embed_document(root) {\n",
       "    \n",
       "  var docs_json = {\"16b750ec-8c5b-4d30-91f4-dd6e5808026e\":{\"roots\":{\"references\":[{\"attributes\":{\"bounds\":[0,1],\"callback\":null},\"id\":\"fdf9b3c9-b11a-4824-8151-6482456a5e34\",\"type\":\"Range1d\"},{\"attributes\":{\"fill_alpha\":{\"value\":0.1},\"fill_color\":{\"value\":\"#1f77b4\"},\"line_alpha\":{\"value\":0.1},\"line_color\":{\"value\":\"#1f77b4\"},\"radius\":{\"units\":\"data\",\"value\":0.06},\"x\":{\"value\":0.2666666666666667},\"y\":{\"value\":0.5}},\"id\":\"e795b0b8-ca7f-4d8d-9461-e7abbb28ad98\",\"type\":\"Circle\"},{\"attributes\":{\"data_source\":{\"id\":\"d67e11b8-cbff-406b-9459-7879c111841b\",\"type\":\"ColumnDataSource\"},\"glyph\":{\"id\":\"90c6cecb-22ce-4a0b-b7b2-013b1969aa4e\",\"type\":\"Circle\"},\"hover_glyph\":null,\"muted_glyph\":null,\"nonselection_glyph\":{\"id\":\"71c44140-23ed-4c42-9f8d-055cfee8dccc\",\"type\":\"Circle\"},\"selection_glyph\":null,\"view\":{\"id\":\"079e058c-8c0f-4a9d-acc6-fb71241aa9e6\",\"type\":\"CDSView\"}},\"id\":\"815e197f-7023-48ee-b474-903c3a3293d4\",\"type\":\"GlyphRenderer\"},{\"attributes\":{},\"id\":\"a7ff126e-a7b6-4b5a-9357-52cb305cf38c\",\"type\":\"LinearScale\"},{\"attributes\":{\"dimension\":1,\"grid_line_color\":{\"value\":null},\"plot\":{\"id\":\"806a028e-9d0a-4e78-acb1-6138e41a668d\",\"subtype\":\"Figure\",\"type\":\"Plot\"},\"ticker\":{\"id\":\"3641ee25-76ed-4855-922f-03aeb74ce06f\",\"type\":\"BasicTicker\"}},\"id\":\"ecd8dda5-4979-45bb-a1f4-f19b78edb402\",\"type\":\"Grid\"},{\"attributes\":{},\"id\":\"a5929f9b-cafe-4002-8cff-baf6b3f15d71\",\"type\":\"BasicTickFormatter\"},{\"attributes\":{\"active_drag\":\"auto\",\"active_inspect\":\"auto\",\"active_scroll\":\"auto\",\"active_tap\":\"auto\",\"tools\":[{\"id\":\"bcc86107-c213-42d0-b081-8a78a458430f\",\"type\":\"PanTool\"},{\"id\":\"fef2cd95-19ee-40eb-984a-a8767485d9f2\",\"type\":\"WheelZoomTool\"},{\"id\":\"b7c891c8-6582-45f8-871e-60c7f9e2b0ac\",\"type\":\"BoxZoomTool\"},{\"id\":\"3143fb66-78ee-4d54-a564-aaa147b08c58\",\"type\":\"SaveTool\"},{\"id\":\"de19d81d-9c5d-4f19-993c-e55e1e444d04\",\"type\":\"ResetTool\"},{\"id\":\"4defb3c7-b10a-4cd3-b05e-b1e2d895190d\",\"type\":\"HelpTool\"}]},\"id\":\"41a6c28b-861b-469a-9a07-5978b20ba84f\",\"type\":\"Toolbar\"},{\"attributes\":{\"fill_alpha\":{\"value\":0.1},\"fill_color\":{\"value\":\"#1f77b4\"},\"line_alpha\":{\"value\":0.1},\"line_color\":{\"value\":\"#1f77b4\"},\"radius\":{\"units\":\"data\",\"value\":0.03},\"x\":{\"value\":0.1},\"y\":{\"value\":0.5}},\"id\":\"71c44140-23ed-4c42-9f8d-055cfee8dccc\",\"type\":\"Circle\"},{\"attributes\":{\"bounds\":[0,1],\"callback\":null},\"id\":\"83d0f5f7-6e93-49ef-9704-bc11f6812710\",\"type\":\"Range1d\"},{\"attributes\":{\"fill_color\":{\"value\":\"grey\"},\"line_color\":{\"value\":null},\"radius\":{\"units\":\"data\",\"value\":0.09},\"x\":{\"value\":0.5333333333333333},\"y\":{\"value\":0.5}},\"id\":\"f8a87844-db24-49d6-9df1-1c3df16117b0\",\"type\":\"Circle\"},{\"attributes\":{\"formatter\":{\"id\":\"ed35e67a-276b-476b-9aa9-1ce4352e0857\",\"type\":\"BasicTickFormatter\"},\"plot\":{\"id\":\"806a028e-9d0a-4e78-acb1-6138e41a668d\",\"subtype\":\"Figure\",\"type\":\"Plot\"},\"ticker\":{\"id\":\"220d563a-b827-424a-84d4-0d81185f72e3\",\"type\":\"BasicTicker\"},\"visible\":false},\"id\":\"8c88b30e-0830-4b05-868a-4773ed533e68\",\"type\":\"LinearAxis\"},{\"attributes\":{\"source\":{\"id\":\"d67e11b8-cbff-406b-9459-7879c111841b\",\"type\":\"ColumnDataSource\"}},\"id\":\"079e058c-8c0f-4a9d-acc6-fb71241aa9e6\",\"type\":\"CDSView\"},{\"attributes\":{\"callback\":null,\"data\":{},\"selected\":null,\"selection_policy\":null},\"id\":\"f1c4c8da-9406-4824-8c96-31adcd5ae857\",\"type\":\"ColumnDataSource\"},{\"attributes\":{},\"id\":\"bcc86107-c213-42d0-b081-8a78a458430f\",\"type\":\"PanTool\"},{\"attributes\":{\"callback\":null,\"data\":{},\"selected\":null,\"selection_policy\":null},\"id\":\"d67e11b8-cbff-406b-9459-7879c111841b\",\"type\":\"ColumnDataSource\"},{\"attributes\":{\"bottom_units\":\"screen\",\"fill_alpha\":{\"value\":0.5},\"fill_color\":{\"value\":\"lightgrey\"},\"left_units\":\"screen\",\"level\":\"overlay\",\"line_alpha\":{\"value\":1.0},\"line_color\":{\"value\":\"black\"},\"line_dash\":[4,4],\"line_width\":{\"value\":2},\"plot\":null,\"render_mode\":\"css\",\"right_units\":\"screen\",\"top_units\":\"screen\"},\"id\":\"e4822a9c-d592-4a30-a5ea-6c2fe0ea51c2\",\"type\":\"BoxAnnotation\"},{\"attributes\":{},\"id\":\"fef2cd95-19ee-40eb-984a-a8767485d9f2\",\"type\":\"WheelZoomTool\"},{\"attributes\":{\"plot\":null,\"text\":\"size\"},\"id\":\"5857d2ef-1452-4c50-9b13-94e2d3b7edae\",\"type\":\"Title\"},{\"attributes\":{\"overlay\":{\"id\":\"e4822a9c-d592-4a30-a5ea-6c2fe0ea51c2\",\"type\":\"BoxAnnotation\"}},\"id\":\"b7c891c8-6582-45f8-871e-60c7f9e2b0ac\",\"type\":\"BoxZoomTool\"},{\"attributes\":{\"fill_color\":{\"value\":\"grey\"},\"line_color\":{\"value\":null},\"radius\":{\"units\":\"data\",\"value\":0.03},\"x\":{\"value\":0.1},\"y\":{\"value\":0.5}},\"id\":\"90c6cecb-22ce-4a0b-b7b2-013b1969aa4e\",\"type\":\"Circle\"},{\"attributes\":{},\"id\":\"3143fb66-78ee-4d54-a564-aaa147b08c58\",\"type\":\"SaveTool\"},{\"attributes\":{},\"id\":\"de19d81d-9c5d-4f19-993c-e55e1e444d04\",\"type\":\"ResetTool\"},{\"attributes\":{\"fill_color\":{\"value\":\"grey\"},\"line_color\":{\"value\":null},\"radius\":{\"units\":\"data\",\"value\":0.06},\"x\":{\"value\":0.2666666666666667},\"y\":{\"value\":0.5}},\"id\":\"6985ad6d-037c-421d-b696-2874ea0c24dd\",\"type\":\"Circle\"},{\"attributes\":{},\"id\":\"4defb3c7-b10a-4cd3-b05e-b1e2d895190d\",\"type\":\"HelpTool\"},{\"attributes\":{},\"id\":\"ed35e67a-276b-476b-9aa9-1ce4352e0857\",\"type\":\"BasicTickFormatter\"},{\"attributes\":{\"data_source\":{\"id\":\"f1c4c8da-9406-4824-8c96-31adcd5ae857\",\"type\":\"ColumnDataSource\"},\"glyph\":{\"id\":\"6985ad6d-037c-421d-b696-2874ea0c24dd\",\"type\":\"Circle\"},\"hover_glyph\":null,\"muted_glyph\":null,\"nonselection_glyph\":{\"id\":\"e795b0b8-ca7f-4d8d-9461-e7abbb28ad98\",\"type\":\"Circle\"},\"selection_glyph\":null,\"view\":{\"id\":\"b51fb306-e2dc-4e64-800e-902e7624c5cb\",\"type\":\"CDSView\"}},\"id\":\"57c40e03-cb49-4e7c-b7b3-3d4710dae4da\",\"type\":\"GlyphRenderer\"},{\"attributes\":{\"source\":{\"id\":\"f1c4c8da-9406-4824-8c96-31adcd5ae857\",\"type\":\"ColumnDataSource\"}},\"id\":\"b51fb306-e2dc-4e64-800e-902e7624c5cb\",\"type\":\"CDSView\"},{\"attributes\":{},\"id\":\"3641ee25-76ed-4855-922f-03aeb74ce06f\",\"type\":\"BasicTicker\"},{\"attributes\":{},\"id\":\"220d563a-b827-424a-84d4-0d81185f72e3\",\"type\":\"BasicTicker\"},{\"attributes\":{\"callback\":null,\"data\":{},\"selected\":null,\"selection_policy\":null},\"id\":\"f2193e8f-ddf7-4c6a-b2a1-5df3f518ade2\",\"type\":\"ColumnDataSource\"},{\"attributes\":{\"fill_alpha\":{\"value\":0.1},\"fill_color\":{\"value\":\"#1f77b4\"},\"line_alpha\":{\"value\":0.1},\"line_color\":{\"value\":\"#1f77b4\"},\"radius\":{\"units\":\"data\",\"value\":0.09},\"x\":{\"value\":0.5333333333333333},\"y\":{\"value\":0.5}},\"id\":\"81076728-12e6-4515-ba09-611f086237e5\",\"type\":\"Circle\"},{\"attributes\":{\"source\":{\"id\":\"1e78ceb3-ac7c-4e87-9224-141b24f48d78\",\"type\":\"ColumnDataSource\"}},\"id\":\"e932381c-94f1-4b1a-aece-fed460f71b73\",\"type\":\"CDSView\"},{\"attributes\":{\"fill_color\":{\"value\":\"grey\"},\"line_color\":{\"value\":null},\"radius\":{\"units\":\"data\",\"value\":0.12},\"x\":{\"value\":0.8},\"y\":{\"value\":0.5}},\"id\":\"06b1e05c-8836-4b17-ae62-d2e3d550b472\",\"type\":\"Circle\"},{\"attributes\":{\"data_source\":{\"id\":\"1e78ceb3-ac7c-4e87-9224-141b24f48d78\",\"type\":\"ColumnDataSource\"},\"glyph\":{\"id\":\"f8a87844-db24-49d6-9df1-1c3df16117b0\",\"type\":\"Circle\"},\"hover_glyph\":null,\"muted_glyph\":null,\"nonselection_glyph\":{\"id\":\"81076728-12e6-4515-ba09-611f086237e5\",\"type\":\"Circle\"},\"selection_glyph\":null,\"view\":{\"id\":\"e932381c-94f1-4b1a-aece-fed460f71b73\",\"type\":\"CDSView\"}},\"id\":\"6663a31e-1877-483d-97f8-d57615604b9d\",\"type\":\"GlyphRenderer\"},{\"attributes\":{\"below\":[{\"id\":\"8c88b30e-0830-4b05-868a-4773ed533e68\",\"type\":\"LinearAxis\"}],\"left\":[{\"id\":\"83cf07c0-573b-40db-a81d-892a34ce33ce\",\"type\":\"LinearAxis\"}],\"plot_height\":150,\"plot_width\":200,\"renderers\":[{\"id\":\"8c88b30e-0830-4b05-868a-4773ed533e68\",\"type\":\"LinearAxis\"},{\"id\":\"1fe240bf-2ea6-49ea-881f-d834097f0378\",\"type\":\"Grid\"},{\"id\":\"83cf07c0-573b-40db-a81d-892a34ce33ce\",\"type\":\"LinearAxis\"},{\"id\":\"ecd8dda5-4979-45bb-a1f4-f19b78edb402\",\"type\":\"Grid\"},{\"id\":\"e4822a9c-d592-4a30-a5ea-6c2fe0ea51c2\",\"type\":\"BoxAnnotation\"},{\"id\":\"815e197f-7023-48ee-b474-903c3a3293d4\",\"type\":\"GlyphRenderer\"},{\"id\":\"57c40e03-cb49-4e7c-b7b3-3d4710dae4da\",\"type\":\"GlyphRenderer\"},{\"id\":\"6663a31e-1877-483d-97f8-d57615604b9d\",\"type\":\"GlyphRenderer\"},{\"id\":\"4d9098e6-d78f-45b2-bf93-c0c6d46c32a1\",\"type\":\"GlyphRenderer\"}],\"title\":{\"id\":\"5857d2ef-1452-4c50-9b13-94e2d3b7edae\",\"type\":\"Title\"},\"toolbar\":{\"id\":\"41a6c28b-861b-469a-9a07-5978b20ba84f\",\"type\":\"Toolbar\"},\"x_range\":{\"id\":\"fdf9b3c9-b11a-4824-8151-6482456a5e34\",\"type\":\"Range1d\"},\"x_scale\":{\"id\":\"a7ff126e-a7b6-4b5a-9357-52cb305cf38c\",\"type\":\"LinearScale\"},\"y_range\":{\"id\":\"83d0f5f7-6e93-49ef-9704-bc11f6812710\",\"type\":\"Range1d\"},\"y_scale\":{\"id\":\"056b6cec-2f5e-4c7d-b383-cb0bade73d90\",\"type\":\"LinearScale\"}},\"id\":\"806a028e-9d0a-4e78-acb1-6138e41a668d\",\"subtype\":\"Figure\",\"type\":\"Plot\"},{\"attributes\":{\"fill_alpha\":{\"value\":0.1},\"fill_color\":{\"value\":\"#1f77b4\"},\"line_alpha\":{\"value\":0.1},\"line_color\":{\"value\":\"#1f77b4\"},\"radius\":{\"units\":\"data\",\"value\":0.12},\"x\":{\"value\":0.8},\"y\":{\"value\":0.5}},\"id\":\"9136a7a1-ed81-428a-96b9-b649de203fa8\",\"type\":\"Circle\"},{\"attributes\":{\"grid_line_color\":{\"value\":null},\"plot\":{\"id\":\"806a028e-9d0a-4e78-acb1-6138e41a668d\",\"subtype\":\"Figure\",\"type\":\"Plot\"},\"ticker\":{\"id\":\"220d563a-b827-424a-84d4-0d81185f72e3\",\"type\":\"BasicTicker\"}},\"id\":\"1fe240bf-2ea6-49ea-881f-d834097f0378\",\"type\":\"Grid\"},{\"attributes\":{\"callback\":null,\"data\":{},\"selected\":null,\"selection_policy\":null},\"id\":\"1e78ceb3-ac7c-4e87-9224-141b24f48d78\",\"type\":\"ColumnDataSource\"},{\"attributes\":{\"source\":{\"id\":\"f2193e8f-ddf7-4c6a-b2a1-5df3f518ade2\",\"type\":\"ColumnDataSource\"}},\"id\":\"7254e5ab-e903-4895-a662-33b898103e09\",\"type\":\"CDSView\"},{\"attributes\":{\"data_source\":{\"id\":\"f2193e8f-ddf7-4c6a-b2a1-5df3f518ade2\",\"type\":\"ColumnDataSource\"},\"glyph\":{\"id\":\"06b1e05c-8836-4b17-ae62-d2e3d550b472\",\"type\":\"Circle\"},\"hover_glyph\":null,\"muted_glyph\":null,\"nonselection_glyph\":{\"id\":\"9136a7a1-ed81-428a-96b9-b649de203fa8\",\"type\":\"Circle\"},\"selection_glyph\":null,\"view\":{\"id\":\"7254e5ab-e903-4895-a662-33b898103e09\",\"type\":\"CDSView\"}},\"id\":\"4d9098e6-d78f-45b2-bf93-c0c6d46c32a1\",\"type\":\"GlyphRenderer\"},{\"attributes\":{},\"id\":\"056b6cec-2f5e-4c7d-b383-cb0bade73d90\",\"type\":\"LinearScale\"},{\"attributes\":{\"formatter\":{\"id\":\"a5929f9b-cafe-4002-8cff-baf6b3f15d71\",\"type\":\"BasicTickFormatter\"},\"plot\":{\"id\":\"806a028e-9d0a-4e78-acb1-6138e41a668d\",\"subtype\":\"Figure\",\"type\":\"Plot\"},\"ticker\":{\"id\":\"3641ee25-76ed-4855-922f-03aeb74ce06f\",\"type\":\"BasicTicker\"},\"visible\":false},\"id\":\"83cf07c0-573b-40db-a81d-892a34ce33ce\",\"type\":\"LinearAxis\"}],\"root_ids\":[\"806a028e-9d0a-4e78-acb1-6138e41a668d\"]},\"title\":\"Bokeh Application\",\"version\":\"0.12.15\"}};\n",
       "  var render_items = [{\"docid\":\"16b750ec-8c5b-4d30-91f4-dd6e5808026e\",\"elementid\":\"14d88864-aff9-43a1-a40a-edbc4e6d8e01\",\"modelid\":\"806a028e-9d0a-4e78-acb1-6138e41a668d\"}];\n",
       "  root.Bokeh.embed.embed_items_notebook(docs_json, render_items);\n",
       "\n",
       "  }\n",
       "  if (root.Bokeh !== undefined) {\n",
       "    embed_document(root);\n",
       "  } else {\n",
       "    var attempts = 0;\n",
       "    var timer = setInterval(function(root) {\n",
       "      if (root.Bokeh !== undefined) {\n",
       "        embed_document(root);\n",
       "        clearInterval(timer);\n",
       "      }\n",
       "      attempts++;\n",
       "      if (attempts > 100) {\n",
       "        console.log(\"Bokeh: ERROR: Unable to run BokehJS code because BokehJS library is missing\")\n",
       "        clearInterval(timer);\n",
       "      }\n",
       "    }, 10, root)\n",
       "  }\n",
       "})(window);"
      ],
      "application/vnd.bokehjs_exec.v0+json": ""
     },
     "metadata": {
      "application/vnd.bokehjs_exec.v0+json": {
       "id": "806a028e-9d0a-4e78-acb1-6138e41a668d"
      }
     },
     "output_type": "display_data"
    }
   ],
   "source": [
    "siz = figure(plot_height=150, plot_width=200, x_range=Range1d(bounds=(0, 1)), y_range=Range1d(bounds=(0, 1)),\n",
    "            title=\"size\")\n",
    "siz.axis.visible = False\n",
    "siz.grid.grid_line_color = None\n",
    "r = 0.03\n",
    "siz.circle(x=ls[0], y=0.5, fill_color=\"grey\", radius=r, line_color=None)\n",
    "siz.circle(x=ls[1]-0.1, y=0.5, fill_color=\"grey\", radius=r*2, line_color=None)\n",
    "siz.circle(x=ls[2]-0.1, y=0.5, fill_color=\"grey\", radius=r*3, line_color=None)\n",
    "siz.circle(x=ls[3]-0.1, y=0.5, fill_color=\"grey\", radius=r*4, line_color=None)\n",
    "\n",
    "show(siz)"
   ]
  },
  {
   "cell_type": "code",
   "execution_count": 10,
   "metadata": {},
   "outputs": [
    {
     "data": {
      "text/html": [
       "\n",
       "<div class=\"bk-root\">\n",
       "    <div class=\"bk-plotdiv\" id=\"1e8c5ed7-10b3-43bf-800d-cf1282b462b3\"></div>\n",
       "</div>"
      ]
     },
     "metadata": {},
     "output_type": "display_data"
    },
    {
     "data": {
      "application/javascript": [
       "(function(root) {\n",
       "  function embed_document(root) {\n",
       "    \n",
       "  var docs_json = {\"cd78641b-a8fe-4fb7-a6b0-106edf338b85\":{\"roots\":{\"references\":[{\"attributes\":{},\"id\":\"8783c564-dda7-4cee-a2c0-5aad6b96f7a8\",\"type\":\"BasicTickFormatter\"},{\"attributes\":{\"data_source\":{\"id\":\"56c00414-2fb6-40c7-8607-57c8ff3004bb\",\"type\":\"ColumnDataSource\"},\"glyph\":{\"id\":\"cf745053-1a51-4816-872f-e3b37b63b9f6\",\"type\":\"Rect\"},\"hover_glyph\":null,\"muted_glyph\":null,\"nonselection_glyph\":{\"id\":\"7ce0b1e0-7e68-4624-bb30-a083e04d8b97\",\"type\":\"Rect\"},\"selection_glyph\":null,\"view\":{\"id\":\"5e19aa05-1826-42f2-8874-00203622a035\",\"type\":\"CDSView\"}},\"id\":\"c37c80c0-4506-4fed-800d-bdee32188e7d\",\"type\":\"GlyphRenderer\"},{\"attributes\":{\"bottom_units\":\"screen\",\"fill_alpha\":{\"value\":0.5},\"fill_color\":{\"value\":\"lightgrey\"},\"left_units\":\"screen\",\"level\":\"overlay\",\"line_alpha\":{\"value\":1.0},\"line_color\":{\"value\":\"black\"},\"line_dash\":[4,4],\"line_width\":{\"value\":2},\"plot\":null,\"render_mode\":\"css\",\"right_units\":\"screen\",\"top_units\":\"screen\"},\"id\":\"2703c2b0-693e-45ae-98f9-5fb8ee88a15e\",\"type\":\"BoxAnnotation\"},{\"attributes\":{\"callback\":null,\"data\":{},\"selected\":null,\"selection_policy\":null},\"id\":\"56c00414-2fb6-40c7-8607-57c8ff3004bb\",\"type\":\"ColumnDataSource\"},{\"attributes\":{\"fill_alpha\":{\"value\":0.1},\"fill_color\":{\"value\":\"#1f77b4\"},\"height\":{\"units\":\"data\",\"value\":1},\"line_alpha\":{\"value\":0.1},\"line_color\":{\"value\":\"#1f77b4\"},\"width\":{\"units\":\"data\",\"value\":0.2},\"x\":{\"value\":0.3666666666666667},\"y\":{\"value\":0.5}},\"id\":\"7ce0b1e0-7e68-4624-bb30-a083e04d8b97\",\"type\":\"Rect\"},{\"attributes\":{},\"id\":\"9961766b-f6f9-42d0-9452-0c3af180c817\",\"type\":\"PanTool\"},{\"attributes\":{\"callback\":null,\"data\":{},\"selected\":null,\"selection_policy\":null},\"id\":\"a534351f-d88c-42d0-95de-2fb12fbe8b71\",\"type\":\"ColumnDataSource\"},{\"attributes\":{\"callback\":null,\"data\":{},\"selected\":null,\"selection_policy\":null},\"id\":\"1137577a-26ae-4b3a-b91c-fa93c5327145\",\"type\":\"ColumnDataSource\"},{\"attributes\":{\"fill_color\":{\"value\":\"yellow\"},\"height\":{\"units\":\"data\",\"value\":1},\"line_color\":{\"value\":\"#1f77b4\"},\"width\":{\"units\":\"data\",\"value\":0.2},\"x\":{\"value\":0.9},\"y\":{\"value\":0.5}},\"id\":\"7060aa66-a6f6-4b03-9aed-9078cc2056fe\",\"type\":\"Rect\"},{\"attributes\":{},\"id\":\"a329f8df-bd17-4440-9470-5c2c4c0e8e0c\",\"type\":\"BasicTicker\"},{\"attributes\":{\"callback\":null,\"data\":{},\"selected\":null,\"selection_policy\":null},\"id\":\"969fb8f9-a0ed-4119-add0-463945784053\",\"type\":\"ColumnDataSource\"},{\"attributes\":{},\"id\":\"a3e422fe-b670-4695-b77e-8f6295cfa28f\",\"type\":\"LinearScale\"},{\"attributes\":{\"data_source\":{\"id\":\"a534351f-d88c-42d0-95de-2fb12fbe8b71\",\"type\":\"ColumnDataSource\"},\"glyph\":{\"id\":\"f166f25c-7510-455b-ac1a-17b500b51e8b\",\"type\":\"Rect\"},\"hover_glyph\":null,\"muted_glyph\":null,\"nonselection_glyph\":{\"id\":\"ae4846ec-78d6-4307-bfa7-f6a36950c34b\",\"type\":\"Rect\"},\"selection_glyph\":null,\"view\":{\"id\":\"8654a8f1-5142-4ee7-8740-0e1d6853aa53\",\"type\":\"CDSView\"}},\"id\":\"db854128-89fc-4151-a59f-0d03afa0ffa9\",\"type\":\"GlyphRenderer\"},{\"attributes\":{\"plot\":null,\"text\":\"colour\"},\"id\":\"6c9d10f3-feb2-41a7-b4be-a7f1207f126a\",\"type\":\"Title\"},{\"attributes\":{\"grid_line_color\":{\"value\":null},\"plot\":{\"id\":\"1dcc709b-4469-4da0-9459-354f9b7a8096\",\"subtype\":\"Figure\",\"type\":\"Plot\"},\"ticker\":{\"id\":\"3c98b72c-e054-42dc-b6c6-056d63c7faaa\",\"type\":\"BasicTicker\"}},\"id\":\"25e7b608-3c86-4bd0-8b40-12421e8313f0\",\"type\":\"Grid\"},{\"attributes\":{\"fill_alpha\":{\"value\":0.1},\"fill_color\":{\"value\":\"#1f77b4\"},\"height\":{\"units\":\"data\",\"value\":1},\"line_alpha\":{\"value\":0.1},\"line_color\":{\"value\":\"#1f77b4\"},\"width\":{\"units\":\"data\",\"value\":0.2},\"x\":{\"value\":0.1},\"y\":{\"value\":0.5}},\"id\":\"d38298b7-fc62-40d0-9bcc-b7ec593a3fce\",\"type\":\"Rect\"},{\"attributes\":{\"source\":{\"id\":\"56c00414-2fb6-40c7-8607-57c8ff3004bb\",\"type\":\"ColumnDataSource\"}},\"id\":\"5e19aa05-1826-42f2-8874-00203622a035\",\"type\":\"CDSView\"},{\"attributes\":{\"formatter\":{\"id\":\"8783c564-dda7-4cee-a2c0-5aad6b96f7a8\",\"type\":\"BasicTickFormatter\"},\"plot\":{\"id\":\"1dcc709b-4469-4da0-9459-354f9b7a8096\",\"subtype\":\"Figure\",\"type\":\"Plot\"},\"ticker\":{\"id\":\"a329f8df-bd17-4440-9470-5c2c4c0e8e0c\",\"type\":\"BasicTicker\"},\"visible\":false},\"id\":\"05d13f33-6b0e-448c-802a-1f5f4a7cdb62\",\"type\":\"LinearAxis\"},{\"attributes\":{\"active_drag\":\"auto\",\"active_inspect\":\"auto\",\"active_scroll\":\"auto\",\"active_tap\":\"auto\",\"tools\":[{\"id\":\"9961766b-f6f9-42d0-9452-0c3af180c817\",\"type\":\"PanTool\"},{\"id\":\"4950f552-60d8-4149-86ee-ade3d0cf1039\",\"type\":\"WheelZoomTool\"},{\"id\":\"c05de3d0-7996-479f-b546-942e34e2ff03\",\"type\":\"BoxZoomTool\"},{\"id\":\"2a84243c-4e95-48db-a762-4c0ef73ab3d9\",\"type\":\"SaveTool\"},{\"id\":\"4912491e-6764-41b9-9e3b-a82a3a8b2c9e\",\"type\":\"ResetTool\"},{\"id\":\"1b0d285b-6189-4591-9a8c-2efd4f532f13\",\"type\":\"HelpTool\"}]},\"id\":\"a92e788b-46b2-46d8-b0e5-6ca8dadbcd3a\",\"type\":\"Toolbar\"},{\"attributes\":{\"source\":{\"id\":\"a534351f-d88c-42d0-95de-2fb12fbe8b71\",\"type\":\"ColumnDataSource\"}},\"id\":\"8654a8f1-5142-4ee7-8740-0e1d6853aa53\",\"type\":\"CDSView\"},{\"attributes\":{\"bounds\":[0,1],\"callback\":null},\"id\":\"bbd3185a-7411-4ecb-9c9d-242643ca4bab\",\"type\":\"Range1d\"},{\"attributes\":{\"fill_alpha\":{\"value\":0.1},\"fill_color\":{\"value\":\"#1f77b4\"},\"height\":{\"units\":\"data\",\"value\":1},\"line_alpha\":{\"value\":0.1},\"line_color\":{\"value\":\"#1f77b4\"},\"width\":{\"units\":\"data\",\"value\":0.2},\"x\":{\"value\":0.6333333333333333},\"y\":{\"value\":0.5}},\"id\":\"ae4846ec-78d6-4307-bfa7-f6a36950c34b\",\"type\":\"Rect\"},{\"attributes\":{},\"id\":\"27437eda-9d11-448b-913d-95b5df498c1b\",\"type\":\"LinearScale\"},{\"attributes\":{},\"id\":\"4912491e-6764-41b9-9e3b-a82a3a8b2c9e\",\"type\":\"ResetTool\"},{\"attributes\":{\"bounds\":[0,1],\"callback\":null},\"id\":\"be0924de-ff03-49e9-9081-169dada1d24b\",\"type\":\"Range1d\"},{\"attributes\":{\"source\":{\"id\":\"969fb8f9-a0ed-4119-add0-463945784053\",\"type\":\"ColumnDataSource\"}},\"id\":\"bcd85467-533f-4d86-a176-e6e15aa68452\",\"type\":\"CDSView\"},{\"attributes\":{\"fill_color\":{\"value\":\"orange\"},\"height\":{\"units\":\"data\",\"value\":1},\"line_color\":{\"value\":\"#1f77b4\"},\"width\":{\"units\":\"data\",\"value\":0.2},\"x\":{\"value\":0.1},\"y\":{\"value\":0.5}},\"id\":\"a8a11342-8098-49c3-88bb-d8655df9d2ef\",\"type\":\"Rect\"},{\"attributes\":{\"fill_color\":{\"value\":\"blue\"},\"height\":{\"units\":\"data\",\"value\":1},\"line_color\":{\"value\":\"#1f77b4\"},\"width\":{\"units\":\"data\",\"value\":0.2},\"x\":{\"value\":0.3666666666666667},\"y\":{\"value\":0.5}},\"id\":\"cf745053-1a51-4816-872f-e3b37b63b9f6\",\"type\":\"Rect\"},{\"attributes\":{},\"id\":\"3c98b72c-e054-42dc-b6c6-056d63c7faaa\",\"type\":\"BasicTicker\"},{\"attributes\":{\"fill_color\":{\"value\":\"green\"},\"height\":{\"units\":\"data\",\"value\":1},\"line_color\":{\"value\":\"#1f77b4\"},\"width\":{\"units\":\"data\",\"value\":0.2},\"x\":{\"value\":0.6333333333333333},\"y\":{\"value\":0.5}},\"id\":\"f166f25c-7510-455b-ac1a-17b500b51e8b\",\"type\":\"Rect\"},{\"attributes\":{\"formatter\":{\"id\":\"7dca6d0a-8d0f-4916-806d-ce1848cb30bf\",\"type\":\"BasicTickFormatter\"},\"plot\":{\"id\":\"1dcc709b-4469-4da0-9459-354f9b7a8096\",\"subtype\":\"Figure\",\"type\":\"Plot\"},\"ticker\":{\"id\":\"3c98b72c-e054-42dc-b6c6-056d63c7faaa\",\"type\":\"BasicTicker\"},\"visible\":false},\"id\":\"96bfa5d6-dfe0-4f5c-ac0f-ea47fa4ff934\",\"type\":\"LinearAxis\"},{\"attributes\":{\"data_source\":{\"id\":\"1137577a-26ae-4b3a-b91c-fa93c5327145\",\"type\":\"ColumnDataSource\"},\"glyph\":{\"id\":\"a8a11342-8098-49c3-88bb-d8655df9d2ef\",\"type\":\"Rect\"},\"hover_glyph\":null,\"muted_glyph\":null,\"nonselection_glyph\":{\"id\":\"d38298b7-fc62-40d0-9bcc-b7ec593a3fce\",\"type\":\"Rect\"},\"selection_glyph\":null,\"view\":{\"id\":\"b30ac0a5-9b30-473d-bee6-06f3fb58f5c7\",\"type\":\"CDSView\"}},\"id\":\"c8074f87-dd13-4560-a378-0f14428a51c2\",\"type\":\"GlyphRenderer\"},{\"attributes\":{\"data_source\":{\"id\":\"969fb8f9-a0ed-4119-add0-463945784053\",\"type\":\"ColumnDataSource\"},\"glyph\":{\"id\":\"7060aa66-a6f6-4b03-9aed-9078cc2056fe\",\"type\":\"Rect\"},\"hover_glyph\":null,\"muted_glyph\":null,\"nonselection_glyph\":{\"id\":\"6ee7db1e-c597-4418-9322-2d2d5cbbffc5\",\"type\":\"Rect\"},\"selection_glyph\":null,\"view\":{\"id\":\"bcd85467-533f-4d86-a176-e6e15aa68452\",\"type\":\"CDSView\"}},\"id\":\"827cd1d6-f2f0-443e-9350-c1367acca207\",\"type\":\"GlyphRenderer\"},{\"attributes\":{},\"id\":\"7dca6d0a-8d0f-4916-806d-ce1848cb30bf\",\"type\":\"BasicTickFormatter\"},{\"attributes\":{\"dimension\":1,\"grid_line_color\":{\"value\":null},\"plot\":{\"id\":\"1dcc709b-4469-4da0-9459-354f9b7a8096\",\"subtype\":\"Figure\",\"type\":\"Plot\"},\"ticker\":{\"id\":\"a329f8df-bd17-4440-9470-5c2c4c0e8e0c\",\"type\":\"BasicTicker\"}},\"id\":\"15b3705f-0442-4e5a-9f6d-b48a592b73e9\",\"type\":\"Grid\"},{\"attributes\":{\"below\":[{\"id\":\"96bfa5d6-dfe0-4f5c-ac0f-ea47fa4ff934\",\"type\":\"LinearAxis\"}],\"left\":[{\"id\":\"05d13f33-6b0e-448c-802a-1f5f4a7cdb62\",\"type\":\"LinearAxis\"}],\"plot_height\":150,\"plot_width\":200,\"renderers\":[{\"id\":\"96bfa5d6-dfe0-4f5c-ac0f-ea47fa4ff934\",\"type\":\"LinearAxis\"},{\"id\":\"25e7b608-3c86-4bd0-8b40-12421e8313f0\",\"type\":\"Grid\"},{\"id\":\"05d13f33-6b0e-448c-802a-1f5f4a7cdb62\",\"type\":\"LinearAxis\"},{\"id\":\"15b3705f-0442-4e5a-9f6d-b48a592b73e9\",\"type\":\"Grid\"},{\"id\":\"2703c2b0-693e-45ae-98f9-5fb8ee88a15e\",\"type\":\"BoxAnnotation\"},{\"id\":\"c8074f87-dd13-4560-a378-0f14428a51c2\",\"type\":\"GlyphRenderer\"},{\"id\":\"c37c80c0-4506-4fed-800d-bdee32188e7d\",\"type\":\"GlyphRenderer\"},{\"id\":\"db854128-89fc-4151-a59f-0d03afa0ffa9\",\"type\":\"GlyphRenderer\"},{\"id\":\"827cd1d6-f2f0-443e-9350-c1367acca207\",\"type\":\"GlyphRenderer\"}],\"title\":{\"id\":\"6c9d10f3-feb2-41a7-b4be-a7f1207f126a\",\"type\":\"Title\"},\"toolbar\":{\"id\":\"a92e788b-46b2-46d8-b0e5-6ca8dadbcd3a\",\"type\":\"Toolbar\"},\"x_range\":{\"id\":\"be0924de-ff03-49e9-9081-169dada1d24b\",\"type\":\"Range1d\"},\"x_scale\":{\"id\":\"27437eda-9d11-448b-913d-95b5df498c1b\",\"type\":\"LinearScale\"},\"y_range\":{\"id\":\"bbd3185a-7411-4ecb-9c9d-242643ca4bab\",\"type\":\"Range1d\"},\"y_scale\":{\"id\":\"a3e422fe-b670-4695-b77e-8f6295cfa28f\",\"type\":\"LinearScale\"}},\"id\":\"1dcc709b-4469-4da0-9459-354f9b7a8096\",\"subtype\":\"Figure\",\"type\":\"Plot\"},{\"attributes\":{\"overlay\":{\"id\":\"2703c2b0-693e-45ae-98f9-5fb8ee88a15e\",\"type\":\"BoxAnnotation\"}},\"id\":\"c05de3d0-7996-479f-b546-942e34e2ff03\",\"type\":\"BoxZoomTool\"},{\"attributes\":{\"source\":{\"id\":\"1137577a-26ae-4b3a-b91c-fa93c5327145\",\"type\":\"ColumnDataSource\"}},\"id\":\"b30ac0a5-9b30-473d-bee6-06f3fb58f5c7\",\"type\":\"CDSView\"},{\"attributes\":{},\"id\":\"1b0d285b-6189-4591-9a8c-2efd4f532f13\",\"type\":\"HelpTool\"},{\"attributes\":{\"fill_alpha\":{\"value\":0.1},\"fill_color\":{\"value\":\"#1f77b4\"},\"height\":{\"units\":\"data\",\"value\":1},\"line_alpha\":{\"value\":0.1},\"line_color\":{\"value\":\"#1f77b4\"},\"width\":{\"units\":\"data\",\"value\":0.2},\"x\":{\"value\":0.9},\"y\":{\"value\":0.5}},\"id\":\"6ee7db1e-c597-4418-9322-2d2d5cbbffc5\",\"type\":\"Rect\"},{\"attributes\":{},\"id\":\"4950f552-60d8-4149-86ee-ade3d0cf1039\",\"type\":\"WheelZoomTool\"},{\"attributes\":{},\"id\":\"2a84243c-4e95-48db-a762-4c0ef73ab3d9\",\"type\":\"SaveTool\"}],\"root_ids\":[\"1dcc709b-4469-4da0-9459-354f9b7a8096\"]},\"title\":\"Bokeh Application\",\"version\":\"0.12.15\"}};\n",
       "  var render_items = [{\"docid\":\"cd78641b-a8fe-4fb7-a6b0-106edf338b85\",\"elementid\":\"1e8c5ed7-10b3-43bf-800d-cf1282b462b3\",\"modelid\":\"1dcc709b-4469-4da0-9459-354f9b7a8096\"}];\n",
       "  root.Bokeh.embed.embed_items_notebook(docs_json, render_items);\n",
       "\n",
       "  }\n",
       "  if (root.Bokeh !== undefined) {\n",
       "    embed_document(root);\n",
       "  } else {\n",
       "    var attempts = 0;\n",
       "    var timer = setInterval(function(root) {\n",
       "      if (root.Bokeh !== undefined) {\n",
       "        embed_document(root);\n",
       "        clearInterval(timer);\n",
       "      }\n",
       "      attempts++;\n",
       "      if (attempts > 100) {\n",
       "        console.log(\"Bokeh: ERROR: Unable to run BokehJS code because BokehJS library is missing\")\n",
       "        clearInterval(timer);\n",
       "      }\n",
       "    }, 10, root)\n",
       "  }\n",
       "})(window);"
      ],
      "application/vnd.bokehjs_exec.v0+json": ""
     },
     "metadata": {
      "application/vnd.bokehjs_exec.v0+json": {
       "id": "1dcc709b-4469-4da0-9459-354f9b7a8096"
      }
     },
     "output_type": "display_data"
    }
   ],
   "source": [
    "col = figure(plot_height=150, plot_width=200, x_range=Range1d(bounds=(0, 1)), y_range=Range1d(bounds=(0, 1)),\n",
    "            title=\"colour\")\n",
    "col.axis.visible = False\n",
    "col.grid.grid_line_color = None\n",
    "\n",
    "col.rect(x=ls[0], y=0.5, width=0.2, height=1, fill_color=\"orange\")\n",
    "col.rect(x=ls[1], y=0.5, width=0.2, height=1, fill_color=\"blue\")\n",
    "col.rect(x=ls[2], y=0.5, width=0.2, height=1, fill_color=\"green\")\n",
    "col.rect(x=ls[3], y=0.5, width=0.2, height=1, fill_color=\"yellow\")\n",
    "\n",
    "show(col)"
   ]
  },
  {
   "cell_type": "code",
   "execution_count": 11,
   "metadata": {},
   "outputs": [
    {
     "data": {
      "text/html": [
       "\n",
       "<div class=\"bk-root\">\n",
       "    <div class=\"bk-plotdiv\" id=\"388dfcbf-c4d2-4722-81d8-80e5efb9502e\"></div>\n",
       "</div>"
      ]
     },
     "metadata": {},
     "output_type": "display_data"
    },
    {
     "data": {
      "application/javascript": [
       "(function(root) {\n",
       "  function embed_document(root) {\n",
       "    \n",
       "  var docs_json = {\"d3b6a01c-4e45-487b-a543-475dbaa9a742\":{\"roots\":{\"references\":[{\"attributes\":{\"data_source\":{\"id\":\"1fdf2d6d-463e-406e-a602-ee4b831f8601\",\"type\":\"ColumnDataSource\"},\"glyph\":{\"id\":\"7158608f-ecf0-4f6f-9586-d1272ad15c67\",\"type\":\"Line\"},\"hover_glyph\":null,\"muted_glyph\":null,\"nonselection_glyph\":{\"id\":\"8090c20e-5aee-480a-bc65-905fb01bd3ba\",\"type\":\"Line\"},\"selection_glyph\":null,\"view\":{\"id\":\"99fe4250-1177-4ce9-86cc-f43323be72cd\",\"type\":\"CDSView\"}},\"id\":\"1b8f4a69-0568-47cd-b488-3bd3e7a68b1a\",\"type\":\"GlyphRenderer\"},{\"attributes\":{\"bounds\":[0,1],\"callback\":null},\"id\":\"b26d6609-3e6d-4702-b5d1-57141b2ae665\",\"type\":\"Range1d\"},{\"attributes\":{\"source\":{\"id\":\"1fdf2d6d-463e-406e-a602-ee4b831f8601\",\"type\":\"ColumnDataSource\"}},\"id\":\"99fe4250-1177-4ce9-86cc-f43323be72cd\",\"type\":\"CDSView\"},{\"attributes\":{},\"id\":\"a6388b3c-a76c-4a1c-8b5d-195c453e23b6\",\"type\":\"BasicTickFormatter\"},{\"attributes\":{\"bounds\":[0,1],\"callback\":null},\"id\":\"b25edfe4-ed3e-4586-9e1a-00abb4483deb\",\"type\":\"Range1d\"},{\"attributes\":{\"line_alpha\":0.1,\"line_color\":\"#1f77b4\",\"line_width\":8,\"x\":{\"field\":\"x\"},\"y\":{\"field\":\"y\"}},\"id\":\"59d74806-bdc1-444b-a3a0-c63afc7adc6a\",\"type\":\"Line\"},{\"attributes\":{},\"id\":\"d500b8fc-c83e-477e-a84a-a0f4abe7cdbd\",\"type\":\"LinearScale\"},{\"attributes\":{\"below\":[{\"id\":\"40da5e48-50d8-4243-85c8-d5a9683964f2\",\"type\":\"LinearAxis\"}],\"left\":[{\"id\":\"abca56e7-f4c6-42af-884d-f3c4477c9c72\",\"type\":\"LinearAxis\"}],\"plot_height\":150,\"plot_width\":200,\"renderers\":[{\"id\":\"40da5e48-50d8-4243-85c8-d5a9683964f2\",\"type\":\"LinearAxis\"},{\"id\":\"a22a2b34-012e-4918-9a8f-2bb94598a561\",\"type\":\"Grid\"},{\"id\":\"abca56e7-f4c6-42af-884d-f3c4477c9c72\",\"type\":\"LinearAxis\"},{\"id\":\"fd57c3b1-30c6-473a-8bbd-e6f63379e47d\",\"type\":\"Grid\"},{\"id\":\"20681c7d-7b51-4326-ab84-251d3f67d2f0\",\"type\":\"BoxAnnotation\"},{\"id\":\"2704ca33-7f1b-402d-95e7-a497f60aaa95\",\"type\":\"GlyphRenderer\"},{\"id\":\"ed14ca54-b4c7-4aa7-83f0-8cdd34e46ade\",\"type\":\"GlyphRenderer\"},{\"id\":\"1b8f4a69-0568-47cd-b488-3bd3e7a68b1a\",\"type\":\"GlyphRenderer\"},{\"id\":\"21a652ea-a2ce-40c9-9864-75821757deab\",\"type\":\"GlyphRenderer\"}],\"title\":{\"id\":\"6ab6b84d-1cd3-46f1-a2e7-a7ed43020f3d\",\"type\":\"Title\"},\"toolbar\":{\"id\":\"a11250a9-d7f9-403e-a7f8-cf1e8d314579\",\"type\":\"Toolbar\"},\"x_range\":{\"id\":\"b26d6609-3e6d-4702-b5d1-57141b2ae665\",\"type\":\"Range1d\"},\"x_scale\":{\"id\":\"d500b8fc-c83e-477e-a84a-a0f4abe7cdbd\",\"type\":\"LinearScale\"},\"y_range\":{\"id\":\"b25edfe4-ed3e-4586-9e1a-00abb4483deb\",\"type\":\"Range1d\"},\"y_scale\":{\"id\":\"414728f9-ab9b-46da-bf74-53fe21e5e40e\",\"type\":\"LinearScale\"}},\"id\":\"515de868-3f93-47c7-a1bc-ba5736791dad\",\"subtype\":\"Figure\",\"type\":\"Plot\"},{\"attributes\":{\"source\":{\"id\":\"039eede1-29c8-4e9c-9975-3a5db5e7ab73\",\"type\":\"ColumnDataSource\"}},\"id\":\"8c399a7b-a183-44ea-888b-26823f429911\",\"type\":\"CDSView\"},{\"attributes\":{\"plot\":null,\"text\":\"line width\"},\"id\":\"6ab6b84d-1cd3-46f1-a2e7-a7ed43020f3d\",\"type\":\"Title\"},{\"attributes\":{\"active_drag\":\"auto\",\"active_inspect\":\"auto\",\"active_scroll\":\"auto\",\"active_tap\":\"auto\",\"tools\":[{\"id\":\"2ccf6826-8ebe-4a56-8d23-15ca0fc99ded\",\"type\":\"PanTool\"},{\"id\":\"552d596a-546b-423f-8c1e-31e40dcf7689\",\"type\":\"WheelZoomTool\"},{\"id\":\"5fd5832d-9b49-4f7c-af79-91008ad6e329\",\"type\":\"BoxZoomTool\"},{\"id\":\"3108dc5c-c7b3-4d89-a0e4-5ca3dc0db1ba\",\"type\":\"SaveTool\"},{\"id\":\"6a1efd56-21e3-4dd6-9df3-8e38fbcd8a86\",\"type\":\"ResetTool\"},{\"id\":\"65a2ef42-61e3-43dd-bba5-ad6a89907d50\",\"type\":\"HelpTool\"}]},\"id\":\"a11250a9-d7f9-403e-a7f8-cf1e8d314579\",\"type\":\"Toolbar\"},{\"attributes\":{\"data_source\":{\"id\":\"cb5108fa-1c2c-4288-bb49-71888ea76d2d\",\"type\":\"ColumnDataSource\"},\"glyph\":{\"id\":\"3b3414b6-150d-4d7a-b0ce-1fa259999bce\",\"type\":\"Line\"},\"hover_glyph\":null,\"muted_glyph\":null,\"nonselection_glyph\":{\"id\":\"08a123c1-235b-4d9d-bcc4-f9bb682f42dc\",\"type\":\"Line\"},\"selection_glyph\":null,\"view\":{\"id\":\"9226a0dc-3fdb-42a9-a354-302f4be6c088\",\"type\":\"CDSView\"}},\"id\":\"2704ca33-7f1b-402d-95e7-a497f60aaa95\",\"type\":\"GlyphRenderer\"},{\"attributes\":{\"grid_line_color\":{\"value\":null},\"plot\":{\"id\":\"515de868-3f93-47c7-a1bc-ba5736791dad\",\"subtype\":\"Figure\",\"type\":\"Plot\"},\"ticker\":{\"id\":\"6ce14bab-51e6-426a-ab0a-35979827264d\",\"type\":\"BasicTicker\"}},\"id\":\"a22a2b34-012e-4918-9a8f-2bb94598a561\",\"type\":\"Grid\"},{\"attributes\":{},\"id\":\"414728f9-ab9b-46da-bf74-53fe21e5e40e\",\"type\":\"LinearScale\"},{\"attributes\":{\"formatter\":{\"id\":\"361fd940-218c-4788-b39c-47e651014230\",\"type\":\"BasicTickFormatter\"},\"plot\":{\"id\":\"515de868-3f93-47c7-a1bc-ba5736791dad\",\"subtype\":\"Figure\",\"type\":\"Plot\"},\"ticker\":{\"id\":\"6ce14bab-51e6-426a-ab0a-35979827264d\",\"type\":\"BasicTicker\"},\"visible\":false},\"id\":\"40da5e48-50d8-4243-85c8-d5a9683964f2\",\"type\":\"LinearAxis\"},{\"attributes\":{},\"id\":\"6ce14bab-51e6-426a-ab0a-35979827264d\",\"type\":\"BasicTicker\"},{\"attributes\":{\"formatter\":{\"id\":\"a6388b3c-a76c-4a1c-8b5d-195c453e23b6\",\"type\":\"BasicTickFormatter\"},\"plot\":{\"id\":\"515de868-3f93-47c7-a1bc-ba5736791dad\",\"subtype\":\"Figure\",\"type\":\"Plot\"},\"ticker\":{\"id\":\"1d954467-f915-44b4-b560-ea040f6a5bba\",\"type\":\"BasicTicker\"},\"visible\":false},\"id\":\"abca56e7-f4c6-42af-884d-f3c4477c9c72\",\"type\":\"LinearAxis\"},{\"attributes\":{\"callback\":null,\"column_names\":[\"x\",\"y\"],\"data\":{\"x\":[0,1],\"y\":[0.2,0.2]},\"selected\":null,\"selection_policy\":null},\"id\":\"039eede1-29c8-4e9c-9975-3a5db5e7ab73\",\"type\":\"ColumnDataSource\"},{\"attributes\":{\"callback\":null,\"column_names\":[\"x\",\"y\"],\"data\":{\"x\":[0,1],\"y\":[0.7,0.7]},\"selected\":null,\"selection_policy\":null},\"id\":\"a5cf120d-ae05-4214-8ba5-3f17cfa75b90\",\"type\":\"ColumnDataSource\"},{\"attributes\":{\"line_width\":6,\"x\":{\"field\":\"x\"},\"y\":{\"field\":\"y\"}},\"id\":\"7158608f-ecf0-4f6f-9586-d1272ad15c67\",\"type\":\"Line\"},{\"attributes\":{},\"id\":\"1d954467-f915-44b4-b560-ea040f6a5bba\",\"type\":\"BasicTicker\"},{\"attributes\":{\"dimension\":1,\"grid_line_color\":{\"value\":null},\"plot\":{\"id\":\"515de868-3f93-47c7-a1bc-ba5736791dad\",\"subtype\":\"Figure\",\"type\":\"Plot\"},\"ticker\":{\"id\":\"1d954467-f915-44b4-b560-ea040f6a5bba\",\"type\":\"BasicTicker\"}},\"id\":\"fd57c3b1-30c6-473a-8bbd-e6f63379e47d\",\"type\":\"Grid\"},{\"attributes\":{\"source\":{\"id\":\"cb5108fa-1c2c-4288-bb49-71888ea76d2d\",\"type\":\"ColumnDataSource\"}},\"id\":\"9226a0dc-3fdb-42a9-a354-302f4be6c088\",\"type\":\"CDSView\"},{\"attributes\":{\"line_alpha\":0.1,\"line_color\":\"#1f77b4\",\"x\":{\"field\":\"x\"},\"y\":{\"field\":\"y\"}},\"id\":\"08a123c1-235b-4d9d-bcc4-f9bb682f42dc\",\"type\":\"Line\"},{\"attributes\":{\"line_width\":3,\"x\":{\"field\":\"x\"},\"y\":{\"field\":\"y\"}},\"id\":\"2879c754-f25e-477f-afaf-8c21b8650068\",\"type\":\"Line\"},{\"attributes\":{\"bottom_units\":\"screen\",\"fill_alpha\":{\"value\":0.5},\"fill_color\":{\"value\":\"lightgrey\"},\"left_units\":\"screen\",\"level\":\"overlay\",\"line_alpha\":{\"value\":1.0},\"line_color\":{\"value\":\"black\"},\"line_dash\":[4,4],\"line_width\":{\"value\":2},\"plot\":null,\"render_mode\":\"css\",\"right_units\":\"screen\",\"top_units\":\"screen\"},\"id\":\"20681c7d-7b51-4326-ab84-251d3f67d2f0\",\"type\":\"BoxAnnotation\"},{\"attributes\":{},\"id\":\"2ccf6826-8ebe-4a56-8d23-15ca0fc99ded\",\"type\":\"PanTool\"},{\"attributes\":{},\"id\":\"361fd940-218c-4788-b39c-47e651014230\",\"type\":\"BasicTickFormatter\"},{\"attributes\":{},\"id\":\"552d596a-546b-423f-8c1e-31e40dcf7689\",\"type\":\"WheelZoomTool\"},{\"attributes\":{\"overlay\":{\"id\":\"20681c7d-7b51-4326-ab84-251d3f67d2f0\",\"type\":\"BoxAnnotation\"}},\"id\":\"5fd5832d-9b49-4f7c-af79-91008ad6e329\",\"type\":\"BoxZoomTool\"},{\"attributes\":{},\"id\":\"3108dc5c-c7b3-4d89-a0e4-5ca3dc0db1ba\",\"type\":\"SaveTool\"},{\"attributes\":{},\"id\":\"6a1efd56-21e3-4dd6-9df3-8e38fbcd8a86\",\"type\":\"ResetTool\"},{\"attributes\":{\"callback\":null,\"column_names\":[\"x\",\"y\"],\"data\":{\"x\":[0,1],\"y\":[0.9,0.9]},\"selected\":null,\"selection_policy\":null},\"id\":\"cb5108fa-1c2c-4288-bb49-71888ea76d2d\",\"type\":\"ColumnDataSource\"},{\"attributes\":{},\"id\":\"65a2ef42-61e3-43dd-bba5-ad6a89907d50\",\"type\":\"HelpTool\"},{\"attributes\":{\"x\":{\"field\":\"x\"},\"y\":{\"field\":\"y\"}},\"id\":\"3b3414b6-150d-4d7a-b0ce-1fa259999bce\",\"type\":\"Line\"},{\"attributes\":{\"source\":{\"id\":\"a5cf120d-ae05-4214-8ba5-3f17cfa75b90\",\"type\":\"ColumnDataSource\"}},\"id\":\"bb846826-d302-4f07-b624-3b00329c05e3\",\"type\":\"CDSView\"},{\"attributes\":{\"data_source\":{\"id\":\"039eede1-29c8-4e9c-9975-3a5db5e7ab73\",\"type\":\"ColumnDataSource\"},\"glyph\":{\"id\":\"474e0a4e-7b8f-4caa-ad30-32d2e8f1a855\",\"type\":\"Line\"},\"hover_glyph\":null,\"muted_glyph\":null,\"nonselection_glyph\":{\"id\":\"59d74806-bdc1-444b-a3a0-c63afc7adc6a\",\"type\":\"Line\"},\"selection_glyph\":null,\"view\":{\"id\":\"8c399a7b-a183-44ea-888b-26823f429911\",\"type\":\"CDSView\"}},\"id\":\"21a652ea-a2ce-40c9-9864-75821757deab\",\"type\":\"GlyphRenderer\"},{\"attributes\":{\"line_alpha\":0.1,\"line_color\":\"#1f77b4\",\"line_width\":3,\"x\":{\"field\":\"x\"},\"y\":{\"field\":\"y\"}},\"id\":\"b94a5a1a-f35f-4e6a-af36-f1aae2cff3fc\",\"type\":\"Line\"},{\"attributes\":{\"data_source\":{\"id\":\"a5cf120d-ae05-4214-8ba5-3f17cfa75b90\",\"type\":\"ColumnDataSource\"},\"glyph\":{\"id\":\"2879c754-f25e-477f-afaf-8c21b8650068\",\"type\":\"Line\"},\"hover_glyph\":null,\"muted_glyph\":null,\"nonselection_glyph\":{\"id\":\"b94a5a1a-f35f-4e6a-af36-f1aae2cff3fc\",\"type\":\"Line\"},\"selection_glyph\":null,\"view\":{\"id\":\"bb846826-d302-4f07-b624-3b00329c05e3\",\"type\":\"CDSView\"}},\"id\":\"ed14ca54-b4c7-4aa7-83f0-8cdd34e46ade\",\"type\":\"GlyphRenderer\"},{\"attributes\":{\"line_alpha\":0.1,\"line_color\":\"#1f77b4\",\"line_width\":6,\"x\":{\"field\":\"x\"},\"y\":{\"field\":\"y\"}},\"id\":\"8090c20e-5aee-480a-bc65-905fb01bd3ba\",\"type\":\"Line\"},{\"attributes\":{\"callback\":null,\"column_names\":[\"x\",\"y\"],\"data\":{\"x\":[0,1],\"y\":[0.45,0.45]},\"selected\":null,\"selection_policy\":null},\"id\":\"1fdf2d6d-463e-406e-a602-ee4b831f8601\",\"type\":\"ColumnDataSource\"},{\"attributes\":{\"line_width\":8,\"x\":{\"field\":\"x\"},\"y\":{\"field\":\"y\"}},\"id\":\"474e0a4e-7b8f-4caa-ad30-32d2e8f1a855\",\"type\":\"Line\"}],\"root_ids\":[\"515de868-3f93-47c7-a1bc-ba5736791dad\"]},\"title\":\"Bokeh Application\",\"version\":\"0.12.15\"}};\n",
       "  var render_items = [{\"docid\":\"d3b6a01c-4e45-487b-a543-475dbaa9a742\",\"elementid\":\"388dfcbf-c4d2-4722-81d8-80e5efb9502e\",\"modelid\":\"515de868-3f93-47c7-a1bc-ba5736791dad\"}];\n",
       "  root.Bokeh.embed.embed_items_notebook(docs_json, render_items);\n",
       "\n",
       "  }\n",
       "  if (root.Bokeh !== undefined) {\n",
       "    embed_document(root);\n",
       "  } else {\n",
       "    var attempts = 0;\n",
       "    var timer = setInterval(function(root) {\n",
       "      if (root.Bokeh !== undefined) {\n",
       "        embed_document(root);\n",
       "        clearInterval(timer);\n",
       "      }\n",
       "      attempts++;\n",
       "      if (attempts > 100) {\n",
       "        console.log(\"Bokeh: ERROR: Unable to run BokehJS code because BokehJS library is missing\")\n",
       "        clearInterval(timer);\n",
       "      }\n",
       "    }, 10, root)\n",
       "  }\n",
       "})(window);"
      ],
      "application/vnd.bokehjs_exec.v0+json": ""
     },
     "metadata": {
      "application/vnd.bokehjs_exec.v0+json": {
       "id": "515de868-3f93-47c7-a1bc-ba5736791dad"
      }
     },
     "output_type": "display_data"
    }
   ],
   "source": [
    "lin = figure(plot_height=150, plot_width=200, x_range=Range1d(bounds=(0, 1)), y_range=Range1d(bounds=(0, 1)),\n",
    "            title=\"line width\")\n",
    "lin.axis.visible = False\n",
    "lin.grid.grid_line_color = None\n",
    "\n",
    "r = 1\n",
    "lin.line(x=[0, 1], y=[0.9, 0.9], line_width=r*1, line_color=\"black\")\n",
    "lin.line(x=[0, 1], y=[0.7, 0.7], line_width=r*3, line_color=\"black\")\n",
    "lin.line(x=[0, 1], y=[0.45, 0.45], line_width=r*6, line_color=\"black\")\n",
    "lin.line(x=[0, 1], y=[0.2, 0.2], line_width=r*8, line_color=\"black\")\n",
    "\n",
    "show(lin)"
   ]
  },
  {
   "cell_type": "code",
   "execution_count": 12,
   "metadata": {},
   "outputs": [
    {
     "data": {
      "text/html": [
       "\n",
       "<div class=\"bk-root\">\n",
       "    <div class=\"bk-plotdiv\" id=\"0655088f-f7b6-4434-a01f-a2ed94f41f81\"></div>\n",
       "</div>"
      ]
     },
     "metadata": {},
     "output_type": "display_data"
    },
    {
     "data": {
      "application/javascript": [
       "(function(root) {\n",
       "  function embed_document(root) {\n",
       "    \n",
       "  var docs_json = {\"de885772-fec9-4693-a6b9-b5a11a9ec939\":{\"roots\":{\"references\":[{\"attributes\":{\"bottom_units\":\"screen\",\"fill_alpha\":{\"value\":0.5},\"fill_color\":{\"value\":\"lightgrey\"},\"left_units\":\"screen\",\"level\":\"overlay\",\"line_alpha\":{\"value\":1.0},\"line_color\":{\"value\":\"black\"},\"line_dash\":[4,4],\"line_width\":{\"value\":2},\"plot\":null,\"render_mode\":\"css\",\"right_units\":\"screen\",\"top_units\":\"screen\"},\"id\":\"6684089d-224e-4610-b28e-c72bdd946b28\",\"type\":\"BoxAnnotation\"},{\"attributes\":{\"line_dash\":[6],\"line_width\":2,\"x\":{\"field\":\"x\"},\"y\":{\"field\":\"y\"}},\"id\":\"53a1ddbe-5064-44c6-8f56-9d45f285cf98\",\"type\":\"Line\"},{\"attributes\":{},\"id\":\"a49d4ab7-5909-47c6-b746-39e98d26e626\",\"type\":\"LinearScale\"},{\"attributes\":{},\"id\":\"aecf417c-baf8-422c-92e3-c90c3e14fa26\",\"type\":\"BasicTickFormatter\"},{\"attributes\":{},\"id\":\"330a1917-5b8c-4ba9-a220-5863f1aa06cb\",\"type\":\"HelpTool\"},{\"attributes\":{\"callback\":null,\"column_names\":[\"x\",\"y\"],\"data\":{\"x\":[0,1],\"y\":[0.45,0.45]},\"selected\":null,\"selection_policy\":null},\"id\":\"dc8b01e7-c4d2-4314-8fd1-f2ebb033dffe\",\"type\":\"ColumnDataSource\"},{\"attributes\":{\"line_alpha\":0.1,\"line_color\":\"#1f77b4\",\"line_dash\":[6],\"line_width\":2,\"x\":{\"field\":\"x\"},\"y\":{\"field\":\"y\"}},\"id\":\"4ad77c28-50a9-40ad-a329-c598f28a178e\",\"type\":\"Line\"},{\"attributes\":{\"source\":{\"id\":\"d8dcbe19-8de3-4cb8-b2d4-9090a5e9de53\",\"type\":\"ColumnDataSource\"}},\"id\":\"ab962061-53d2-427b-8a97-7398eca6a202\",\"type\":\"CDSView\"},{\"attributes\":{},\"id\":\"3ecb76ab-24de-45ca-bed1-7618356530a9\",\"type\":\"SaveTool\"},{\"attributes\":{},\"id\":\"cff4289c-2cda-4922-ab36-d8317492a06a\",\"type\":\"ResetTool\"},{\"attributes\":{\"line_dash\":[2,4],\"line_width\":2,\"x\":{\"field\":\"x\"},\"y\":{\"field\":\"y\"}},\"id\":\"3fea415d-7e9b-495c-be42-23b4967a3eda\",\"type\":\"Line\"},{\"attributes\":{\"data_source\":{\"id\":\"d8dcbe19-8de3-4cb8-b2d4-9090a5e9de53\",\"type\":\"ColumnDataSource\"},\"glyph\":{\"id\":\"53a1ddbe-5064-44c6-8f56-9d45f285cf98\",\"type\":\"Line\"},\"hover_glyph\":null,\"muted_glyph\":null,\"nonselection_glyph\":{\"id\":\"4ad77c28-50a9-40ad-a329-c598f28a178e\",\"type\":\"Line\"},\"selection_glyph\":null,\"view\":{\"id\":\"ab962061-53d2-427b-8a97-7398eca6a202\",\"type\":\"CDSView\"}},\"id\":\"3d2e8d42-c6cc-4f5d-91a8-bae0e96815fb\",\"type\":\"GlyphRenderer\"},{\"attributes\":{\"callback\":null,\"column_names\":[\"x\",\"y\"],\"data\":{\"x\":[0,1],\"y\":[0.2,0.2]},\"selected\":null,\"selection_policy\":null},\"id\":\"23cca0ac-44c7-4ff5-9897-f64ee6632bf6\",\"type\":\"ColumnDataSource\"},{\"attributes\":{\"line_width\":2,\"x\":{\"field\":\"x\"},\"y\":{\"field\":\"y\"}},\"id\":\"0e4dad7f-7c03-4ca1-8c22-7666c0a43a33\",\"type\":\"Line\"},{\"attributes\":{\"line_alpha\":0.1,\"line_color\":\"#1f77b4\",\"line_dash\":[2,4],\"line_width\":2,\"x\":{\"field\":\"x\"},\"y\":{\"field\":\"y\"}},\"id\":\"96d0a8ff-05c5-49ba-ad0a-880efdb0efbd\",\"type\":\"Line\"},{\"attributes\":{},\"id\":\"339b1cf4-33ea-424f-b087-c06c2a6faffe\",\"type\":\"BasicTickFormatter\"},{\"attributes\":{\"data_source\":{\"id\":\"dc8b01e7-c4d2-4314-8fd1-f2ebb033dffe\",\"type\":\"ColumnDataSource\"},\"glyph\":{\"id\":\"3fea415d-7e9b-495c-be42-23b4967a3eda\",\"type\":\"Line\"},\"hover_glyph\":null,\"muted_glyph\":null,\"nonselection_glyph\":{\"id\":\"96d0a8ff-05c5-49ba-ad0a-880efdb0efbd\",\"type\":\"Line\"},\"selection_glyph\":null,\"view\":{\"id\":\"78772315-3dd3-4a21-9f51-9e3dbe091f3b\",\"type\":\"CDSView\"}},\"id\":\"43e32788-c87c-45cf-9ab6-c60b55efffb0\",\"type\":\"GlyphRenderer\"},{\"attributes\":{\"source\":{\"id\":\"dc8b01e7-c4d2-4314-8fd1-f2ebb033dffe\",\"type\":\"ColumnDataSource\"}},\"id\":\"78772315-3dd3-4a21-9f51-9e3dbe091f3b\",\"type\":\"CDSView\"},{\"attributes\":{\"formatter\":{\"id\":\"aecf417c-baf8-422c-92e3-c90c3e14fa26\",\"type\":\"BasicTickFormatter\"},\"plot\":{\"id\":\"e7422d3c-6814-4ba8-b56c-b8c9dbf866da\",\"subtype\":\"Figure\",\"type\":\"Plot\"},\"ticker\":{\"id\":\"682895e2-566f-451a-9f0f-f34075a0c850\",\"type\":\"BasicTicker\"},\"visible\":false},\"id\":\"9b484305-62bb-474a-b0ee-8ee67fcff0e2\",\"type\":\"LinearAxis\"},{\"attributes\":{\"line_dash\":[2,4,6,4],\"line_width\":2,\"x\":{\"field\":\"x\"},\"y\":{\"field\":\"y\"}},\"id\":\"051f6212-f2ae-4c09-bab9-7070e839bf02\",\"type\":\"Line\"},{\"attributes\":{\"data_source\":{\"id\":\"84f0b854-ff65-4e7b-a8ce-610e855ce4b5\",\"type\":\"ColumnDataSource\"},\"glyph\":{\"id\":\"0e4dad7f-7c03-4ca1-8c22-7666c0a43a33\",\"type\":\"Line\"},\"hover_glyph\":null,\"muted_glyph\":null,\"nonselection_glyph\":{\"id\":\"69cc4a11-5cf9-4785-924f-2be606fd0986\",\"type\":\"Line\"},\"selection_glyph\":null,\"view\":{\"id\":\"cb7504ed-0e08-45ed-a348-84914af77101\",\"type\":\"CDSView\"}},\"id\":\"1ea5afa2-87bd-4a3b-8746-d3fbe72a75e7\",\"type\":\"GlyphRenderer\"},{\"attributes\":{\"line_alpha\":0.1,\"line_color\":\"#1f77b4\",\"line_dash\":[2,4,6,4],\"line_width\":2,\"x\":{\"field\":\"x\"},\"y\":{\"field\":\"y\"}},\"id\":\"ab9caeb4-28e1-4ddb-82ee-790bf08e8708\",\"type\":\"Line\"},{\"attributes\":{},\"id\":\"5badc4a1-41e7-4839-af68-cc381a8054cc\",\"type\":\"PanTool\"},{\"attributes\":{\"data_source\":{\"id\":\"23cca0ac-44c7-4ff5-9897-f64ee6632bf6\",\"type\":\"ColumnDataSource\"},\"glyph\":{\"id\":\"051f6212-f2ae-4c09-bab9-7070e839bf02\",\"type\":\"Line\"},\"hover_glyph\":null,\"muted_glyph\":null,\"nonselection_glyph\":{\"id\":\"ab9caeb4-28e1-4ddb-82ee-790bf08e8708\",\"type\":\"Line\"},\"selection_glyph\":null,\"view\":{\"id\":\"6fc2f1cb-7ee3-4da4-9186-3a5c511e6fae\",\"type\":\"CDSView\"}},\"id\":\"62922b1e-b856-4a66-af03-21312a443401\",\"type\":\"GlyphRenderer\"},{\"attributes\":{\"source\":{\"id\":\"23cca0ac-44c7-4ff5-9897-f64ee6632bf6\",\"type\":\"ColumnDataSource\"}},\"id\":\"6fc2f1cb-7ee3-4da4-9186-3a5c511e6fae\",\"type\":\"CDSView\"},{\"attributes\":{\"below\":[{\"id\":\"dee50ad0-253f-43ff-aa0a-02d85399d8b9\",\"type\":\"LinearAxis\"}],\"left\":[{\"id\":\"9b484305-62bb-474a-b0ee-8ee67fcff0e2\",\"type\":\"LinearAxis\"}],\"plot_height\":150,\"plot_width\":200,\"renderers\":[{\"id\":\"dee50ad0-253f-43ff-aa0a-02d85399d8b9\",\"type\":\"LinearAxis\"},{\"id\":\"0edd8464-7069-41d2-aa7d-efba961e382b\",\"type\":\"Grid\"},{\"id\":\"9b484305-62bb-474a-b0ee-8ee67fcff0e2\",\"type\":\"LinearAxis\"},{\"id\":\"0fec463b-6cf4-41da-b41e-99e307a6382e\",\"type\":\"Grid\"},{\"id\":\"6684089d-224e-4610-b28e-c72bdd946b28\",\"type\":\"BoxAnnotation\"},{\"id\":\"1ea5afa2-87bd-4a3b-8746-d3fbe72a75e7\",\"type\":\"GlyphRenderer\"},{\"id\":\"3d2e8d42-c6cc-4f5d-91a8-bae0e96815fb\",\"type\":\"GlyphRenderer\"},{\"id\":\"43e32788-c87c-45cf-9ab6-c60b55efffb0\",\"type\":\"GlyphRenderer\"},{\"id\":\"62922b1e-b856-4a66-af03-21312a443401\",\"type\":\"GlyphRenderer\"}],\"title\":{\"id\":\"d0c6a2ab-eaf3-406c-9d59-b9ce50acd383\",\"type\":\"Title\"},\"toolbar\":{\"id\":\"797fa7ed-29fd-403d-ac44-b8c0f8f0a855\",\"type\":\"Toolbar\"},\"x_range\":{\"id\":\"7ed6f9c4-0aaf-4270-bbfe-495a1d22e1c0\",\"type\":\"Range1d\"},\"x_scale\":{\"id\":\"691a878f-39de-426e-a634-b6ac7149e27a\",\"type\":\"LinearScale\"},\"y_range\":{\"id\":\"32091820-03b9-43fd-a9f1-95d1fc5cf853\",\"type\":\"Range1d\"},\"y_scale\":{\"id\":\"a49d4ab7-5909-47c6-b746-39e98d26e626\",\"type\":\"LinearScale\"}},\"id\":\"e7422d3c-6814-4ba8-b56c-b8c9dbf866da\",\"subtype\":\"Figure\",\"type\":\"Plot\"},{\"attributes\":{},\"id\":\"459127de-6cd6-466d-9cce-515cfc804594\",\"type\":\"BasicTicker\"},{\"attributes\":{\"formatter\":{\"id\":\"339b1cf4-33ea-424f-b087-c06c2a6faffe\",\"type\":\"BasicTickFormatter\"},\"plot\":{\"id\":\"e7422d3c-6814-4ba8-b56c-b8c9dbf866da\",\"subtype\":\"Figure\",\"type\":\"Plot\"},\"ticker\":{\"id\":\"459127de-6cd6-466d-9cce-515cfc804594\",\"type\":\"BasicTicker\"},\"visible\":false},\"id\":\"dee50ad0-253f-43ff-aa0a-02d85399d8b9\",\"type\":\"LinearAxis\"},{\"attributes\":{\"source\":{\"id\":\"84f0b854-ff65-4e7b-a8ce-610e855ce4b5\",\"type\":\"ColumnDataSource\"}},\"id\":\"cb7504ed-0e08-45ed-a348-84914af77101\",\"type\":\"CDSView\"},{\"attributes\":{\"active_drag\":\"auto\",\"active_inspect\":\"auto\",\"active_scroll\":\"auto\",\"active_tap\":\"auto\",\"tools\":[{\"id\":\"5badc4a1-41e7-4839-af68-cc381a8054cc\",\"type\":\"PanTool\"},{\"id\":\"bc3b809a-359b-4d63-a1b6-c3dddc5dcd58\",\"type\":\"WheelZoomTool\"},{\"id\":\"4067b185-1093-404b-89d1-dc9b575a5493\",\"type\":\"BoxZoomTool\"},{\"id\":\"3ecb76ab-24de-45ca-bed1-7618356530a9\",\"type\":\"SaveTool\"},{\"id\":\"cff4289c-2cda-4922-ab36-d8317492a06a\",\"type\":\"ResetTool\"},{\"id\":\"330a1917-5b8c-4ba9-a220-5863f1aa06cb\",\"type\":\"HelpTool\"}]},\"id\":\"797fa7ed-29fd-403d-ac44-b8c0f8f0a855\",\"type\":\"Toolbar\"},{\"attributes\":{\"plot\":null,\"text\":\"line type\"},\"id\":\"d0c6a2ab-eaf3-406c-9d59-b9ce50acd383\",\"type\":\"Title\"},{\"attributes\":{\"bounds\":[0,1],\"callback\":null},\"id\":\"32091820-03b9-43fd-a9f1-95d1fc5cf853\",\"type\":\"Range1d\"},{\"attributes\":{\"overlay\":{\"id\":\"6684089d-224e-4610-b28e-c72bdd946b28\",\"type\":\"BoxAnnotation\"}},\"id\":\"4067b185-1093-404b-89d1-dc9b575a5493\",\"type\":\"BoxZoomTool\"},{\"attributes\":{\"callback\":null,\"column_names\":[\"x\",\"y\"],\"data\":{\"x\":[0,1],\"y\":[0.9,0.9]},\"selected\":null,\"selection_policy\":null},\"id\":\"84f0b854-ff65-4e7b-a8ce-610e855ce4b5\",\"type\":\"ColumnDataSource\"},{\"attributes\":{},\"id\":\"bc3b809a-359b-4d63-a1b6-c3dddc5dcd58\",\"type\":\"WheelZoomTool\"},{\"attributes\":{},\"id\":\"691a878f-39de-426e-a634-b6ac7149e27a\",\"type\":\"LinearScale\"},{\"attributes\":{\"dimension\":1,\"grid_line_color\":{\"value\":null},\"plot\":{\"id\":\"e7422d3c-6814-4ba8-b56c-b8c9dbf866da\",\"subtype\":\"Figure\",\"type\":\"Plot\"},\"ticker\":{\"id\":\"682895e2-566f-451a-9f0f-f34075a0c850\",\"type\":\"BasicTicker\"}},\"id\":\"0fec463b-6cf4-41da-b41e-99e307a6382e\",\"type\":\"Grid\"},{\"attributes\":{\"bounds\":[0,1],\"callback\":null},\"id\":\"7ed6f9c4-0aaf-4270-bbfe-495a1d22e1c0\",\"type\":\"Range1d\"},{\"attributes\":{\"grid_line_color\":{\"value\":null},\"plot\":{\"id\":\"e7422d3c-6814-4ba8-b56c-b8c9dbf866da\",\"subtype\":\"Figure\",\"type\":\"Plot\"},\"ticker\":{\"id\":\"459127de-6cd6-466d-9cce-515cfc804594\",\"type\":\"BasicTicker\"}},\"id\":\"0edd8464-7069-41d2-aa7d-efba961e382b\",\"type\":\"Grid\"},{\"attributes\":{\"callback\":null,\"column_names\":[\"x\",\"y\"],\"data\":{\"x\":[0,1],\"y\":[0.7,0.7]},\"selected\":null,\"selection_policy\":null},\"id\":\"d8dcbe19-8de3-4cb8-b2d4-9090a5e9de53\",\"type\":\"ColumnDataSource\"},{\"attributes\":{\"line_alpha\":0.1,\"line_color\":\"#1f77b4\",\"line_width\":2,\"x\":{\"field\":\"x\"},\"y\":{\"field\":\"y\"}},\"id\":\"69cc4a11-5cf9-4785-924f-2be606fd0986\",\"type\":\"Line\"},{\"attributes\":{},\"id\":\"682895e2-566f-451a-9f0f-f34075a0c850\",\"type\":\"BasicTicker\"}],\"root_ids\":[\"e7422d3c-6814-4ba8-b56c-b8c9dbf866da\"]},\"title\":\"Bokeh Application\",\"version\":\"0.12.15\"}};\n",
       "  var render_items = [{\"docid\":\"de885772-fec9-4693-a6b9-b5a11a9ec939\",\"elementid\":\"0655088f-f7b6-4434-a01f-a2ed94f41f81\",\"modelid\":\"e7422d3c-6814-4ba8-b56c-b8c9dbf866da\"}];\n",
       "  root.Bokeh.embed.embed_items_notebook(docs_json, render_items);\n",
       "\n",
       "  }\n",
       "  if (root.Bokeh !== undefined) {\n",
       "    embed_document(root);\n",
       "  } else {\n",
       "    var attempts = 0;\n",
       "    var timer = setInterval(function(root) {\n",
       "      if (root.Bokeh !== undefined) {\n",
       "        embed_document(root);\n",
       "        clearInterval(timer);\n",
       "      }\n",
       "      attempts++;\n",
       "      if (attempts > 100) {\n",
       "        console.log(\"Bokeh: ERROR: Unable to run BokehJS code because BokehJS library is missing\")\n",
       "        clearInterval(timer);\n",
       "      }\n",
       "    }, 10, root)\n",
       "  }\n",
       "})(window);"
      ],
      "application/vnd.bokehjs_exec.v0+json": ""
     },
     "metadata": {
      "application/vnd.bokehjs_exec.v0+json": {
       "id": "e7422d3c-6814-4ba8-b56c-b8c9dbf866da"
      }
     },
     "output_type": "display_data"
    }
   ],
   "source": [
    "lin1 = figure(plot_height=150, plot_width=200, x_range=Range1d(bounds=(0, 1)), y_range=Range1d(bounds=(0, 1)),\n",
    "            title=\"line type\")\n",
    "lin1.axis.visible = False\n",
    "lin1.grid.grid_line_color = None\n",
    "\n",
    "r = 1\n",
    "lin1.line(x=[0, 1], y=[0.9, 0.9], line_color=\"black\", line_dash=\"solid\", line_width=2)\n",
    "lin1.line(x=[0, 1], y=[0.7, 0.7], line_color=\"black\", line_dash=\"dashed\", line_width=2)\n",
    "lin1.line(x=[0, 1], y=[0.45, 0.45], line_color=\"black\", line_dash=\"dotted\", line_width=2)\n",
    "lin1.line(x=[0, 1], y=[0.2, 0.2], line_color=\"black\", line_dash=\"dotdash\", line_width=2)\n",
    "\n",
    "show(lin1)"
   ]
  },
  {
   "cell_type": "code",
   "execution_count": 13,
   "metadata": {},
   "outputs": [],
   "source": [
    "grid = gridplot([[pos, shp, siz], [col, lin, lin1]], group=\"Figure 1.1\")"
   ]
  },
  {
   "cell_type": "code",
   "execution_count": 14,
   "metadata": {},
   "outputs": [
    {
     "data": {
      "text/html": [
       "\n",
       "<div class=\"bk-root\">\n",
       "    <div class=\"bk-plotdiv\" id=\"fc642d7a-5572-4560-bbc1-c311614abff2\"></div>\n",
       "</div>"
      ]
     },
     "metadata": {},
     "output_type": "display_data"
    },
    {
     "data": {
      "application/javascript": [
       "(function(root) {\n",
       "  function embed_document(root) {\n",
       "    \n",
       "  var docs_json = {\"3c18159d-4b98-4846-be8d-0b7dd6b2395a\":{\"roots\":{\"references\":[{\"attributes\":{\"bottom_units\":\"screen\",\"fill_alpha\":{\"value\":0.5},\"fill_color\":{\"value\":\"lightgrey\"},\"left_units\":\"screen\",\"level\":\"overlay\",\"line_alpha\":{\"value\":1.0},\"line_color\":{\"value\":\"black\"},\"line_dash\":[4,4],\"line_width\":{\"value\":2},\"plot\":null,\"render_mode\":\"css\",\"right_units\":\"screen\",\"top_units\":\"screen\"},\"id\":\"6684089d-224e-4610-b28e-c72bdd946b28\",\"type\":\"BoxAnnotation\"},{\"attributes\":{\"bounds\":[0,1],\"callback\":null},\"id\":\"fdf9b3c9-b11a-4824-8151-6482456a5e34\",\"type\":\"Range1d\"},{\"attributes\":{},\"id\":\"8783c564-dda7-4cee-a2c0-5aad6b96f7a8\",\"type\":\"BasicTickFormatter\"},{\"attributes\":{},\"id\":\"a7ff126e-a7b6-4b5a-9357-52cb305cf38c\",\"type\":\"LinearScale\"},{\"attributes\":{\"data_source\":{\"id\":\"56c00414-2fb6-40c7-8607-57c8ff3004bb\",\"type\":\"ColumnDataSource\"},\"glyph\":{\"id\":\"cf745053-1a51-4816-872f-e3b37b63b9f6\",\"type\":\"Rect\"},\"hover_glyph\":null,\"muted_glyph\":null,\"nonselection_glyph\":{\"id\":\"7ce0b1e0-7e68-4624-bb30-a083e04d8b97\",\"type\":\"Rect\"},\"selection_glyph\":null,\"view\":{\"id\":\"5e19aa05-1826-42f2-8874-00203622a035\",\"type\":\"CDSView\"}},\"id\":\"c37c80c0-4506-4fed-800d-bdee32188e7d\",\"type\":\"GlyphRenderer\"},{\"attributes\":{\"line_dash\":[6],\"line_width\":2,\"x\":{\"field\":\"x\"},\"y\":{\"field\":\"y\"}},\"id\":\"53a1ddbe-5064-44c6-8f56-9d45f285cf98\",\"type\":\"Line\"},{\"attributes\":{\"bottom_units\":\"screen\",\"fill_alpha\":{\"value\":0.5},\"fill_color\":{\"value\":\"lightgrey\"},\"left_units\":\"screen\",\"level\":\"overlay\",\"line_alpha\":{\"value\":1.0},\"line_color\":{\"value\":\"black\"},\"line_dash\":[4,4],\"line_width\":{\"value\":2},\"plot\":null,\"render_mode\":\"css\",\"right_units\":\"screen\",\"top_units\":\"screen\"},\"id\":\"2703c2b0-693e-45ae-98f9-5fb8ee88a15e\",\"type\":\"BoxAnnotation\"},{\"attributes\":{\"dimension\":1,\"grid_line_color\":{\"value\":null},\"plot\":{\"id\":\"806a028e-9d0a-4e78-acb1-6138e41a668d\",\"subtype\":\"Figure\",\"type\":\"Plot\"},\"ticker\":{\"id\":\"3641ee25-76ed-4855-922f-03aeb74ce06f\",\"type\":\"BasicTicker\"}},\"id\":\"ecd8dda5-4979-45bb-a1f4-f19b78edb402\",\"type\":\"Grid\"},{\"attributes\":{},\"id\":\"aecf417c-baf8-422c-92e3-c90c3e14fa26\",\"type\":\"BasicTickFormatter\"},{\"attributes\":{},\"id\":\"330a1917-5b8c-4ba9-a220-5863f1aa06cb\",\"type\":\"HelpTool\"},{\"attributes\":{\"active_drag\":\"auto\",\"active_inspect\":\"auto\",\"active_scroll\":\"auto\",\"active_tap\":\"auto\",\"tools\":[{\"id\":\"bcc86107-c213-42d0-b081-8a78a458430f\",\"type\":\"PanTool\"},{\"id\":\"fef2cd95-19ee-40eb-984a-a8767485d9f2\",\"type\":\"WheelZoomTool\"},{\"id\":\"b7c891c8-6582-45f8-871e-60c7f9e2b0ac\",\"type\":\"BoxZoomTool\"},{\"id\":\"3143fb66-78ee-4d54-a564-aaa147b08c58\",\"type\":\"SaveTool\"},{\"id\":\"de19d81d-9c5d-4f19-993c-e55e1e444d04\",\"type\":\"ResetTool\"},{\"id\":\"4defb3c7-b10a-4cd3-b05e-b1e2d895190d\",\"type\":\"HelpTool\"}]},\"id\":\"41a6c28b-861b-469a-9a07-5978b20ba84f\",\"type\":\"Toolbar\"},{\"attributes\":{\"callback\":null,\"data\":{},\"selected\":null,\"selection_policy\":null},\"id\":\"56c00414-2fb6-40c7-8607-57c8ff3004bb\",\"type\":\"ColumnDataSource\"},{\"attributes\":{\"bounds\":[0,1],\"callback\":null},\"id\":\"83d0f5f7-6e93-49ef-9704-bc11f6812710\",\"type\":\"Range1d\"},{\"attributes\":{\"callback\":null,\"data\":{},\"selected\":null,\"selection_policy\":null},\"id\":\"6fcc96a4-2bde-4421-820a-a5c81b87290f\",\"type\":\"ColumnDataSource\"},{\"attributes\":{\"callback\":null,\"column_names\":[\"x\",\"y\"],\"data\":{\"x\":[0,1],\"y\":[0.45,0.45]},\"selected\":null,\"selection_policy\":null},\"id\":\"dc8b01e7-c4d2-4314-8fd1-f2ebb033dffe\",\"type\":\"ColumnDataSource\"},{\"attributes\":{\"bounds\":[0,1],\"callback\":null},\"id\":\"e24216e4-fa43-47f1-8b68-3ee77443e053\",\"type\":\"Range1d\"},{\"attributes\":{\"formatter\":{\"id\":\"ed35e67a-276b-476b-9aa9-1ce4352e0857\",\"type\":\"BasicTickFormatter\"},\"plot\":{\"id\":\"806a028e-9d0a-4e78-acb1-6138e41a668d\",\"subtype\":\"Figure\",\"type\":\"Plot\"},\"ticker\":{\"id\":\"220d563a-b827-424a-84d4-0d81185f72e3\",\"type\":\"BasicTicker\"},\"visible\":false},\"id\":\"8c88b30e-0830-4b05-868a-4773ed533e68\",\"type\":\"LinearAxis\"},{\"attributes\":{\"line_alpha\":0.1,\"line_color\":\"#1f77b4\",\"line_dash\":[6],\"line_width\":2,\"x\":{\"field\":\"x\"},\"y\":{\"field\":\"y\"}},\"id\":\"4ad77c28-50a9-40ad-a329-c598f28a178e\",\"type\":\"Line\"},{\"attributes\":{\"data_source\":{\"id\":\"6fcc96a4-2bde-4421-820a-a5c81b87290f\",\"type\":\"ColumnDataSource\"},\"glyph\":{\"id\":\"3431a3f0-6c94-4fdc-9930-731d45efdba7\",\"type\":\"Square\"},\"hover_glyph\":null,\"muted_glyph\":null,\"nonselection_glyph\":{\"id\":\"8e4d8635-edfd-447b-bd07-9edbaa923249\",\"type\":\"Square\"},\"selection_glyph\":null,\"view\":{\"id\":\"9e302cfc-8996-4347-af80-8bc04b5d4c0f\",\"type\":\"CDSView\"}},\"id\":\"12a83224-af18-4ff6-a739-c5b5e2e3ba25\",\"type\":\"GlyphRenderer\"},{\"attributes\":{\"callback\":null,\"data\":{},\"selected\":null,\"selection_policy\":null},\"id\":\"f1c4c8da-9406-4824-8c96-31adcd5ae857\",\"type\":\"ColumnDataSource\"},{\"attributes\":{\"source\":{\"id\":\"d8dcbe19-8de3-4cb8-b2d4-9090a5e9de53\",\"type\":\"ColumnDataSource\"}},\"id\":\"ab962061-53d2-427b-8a97-7398eca6a202\",\"type\":\"CDSView\"},{\"attributes\":{\"bounds\":[0,1],\"callback\":null},\"id\":\"406d675a-649e-4233-9c86-09bd0246ae96\",\"type\":\"Range1d\"},{\"attributes\":{\"callback\":null,\"data\":{},\"selected\":null,\"selection_policy\":null},\"id\":\"d67e11b8-cbff-406b-9459-7879c111841b\",\"type\":\"ColumnDataSource\"},{\"attributes\":{},\"id\":\"d59f7039-849c-457d-8e12-61e29572ad3c\",\"type\":\"LinearScale\"},{\"attributes\":{\"below\":[{\"id\":\"c5ffdd24-ca43-4eb0-b062-c62290e6f85a\",\"type\":\"LinearAxis\"}],\"left\":[{\"id\":\"21ebf494-916c-416e-a27f-ce3d4a154721\",\"type\":\"LinearAxis\"}],\"plot_height\":150,\"plot_width\":200,\"renderers\":[{\"id\":\"c5ffdd24-ca43-4eb0-b062-c62290e6f85a\",\"type\":\"LinearAxis\"},{\"id\":\"798c7265-4294-443a-83e5-c64f1b4d280d\",\"type\":\"Grid\"},{\"id\":\"21ebf494-916c-416e-a27f-ce3d4a154721\",\"type\":\"LinearAxis\"},{\"id\":\"d8bc461e-f6c9-4b39-bc1e-a48d4ba79004\",\"type\":\"Grid\"},{\"id\":\"de17dee2-7b6f-4f78-922a-93375eb3e521\",\"type\":\"BoxAnnotation\"},{\"id\":\"fc28539a-a1de-46d3-a3a8-575386dfde0f\",\"type\":\"GlyphRenderer\"},{\"id\":\"12a83224-af18-4ff6-a739-c5b5e2e3ba25\",\"type\":\"GlyphRenderer\"},{\"id\":\"530b27d1-bba5-48c1-9919-c41ad6212065\",\"type\":\"GlyphRenderer\"},{\"id\":\"7a080bb8-4856-4bce-98cd-fb7da3ac35e0\",\"type\":\"GlyphRenderer\"}],\"title\":{\"id\":\"2bdec30f-a151-4735-924e-b42f2849189f\",\"type\":\"Title\"},\"toolbar\":{\"id\":\"018fa74f-9ad4-4a7c-8e0e-e7eff411fb25\",\"type\":\"Toolbar\"},\"toolbar_location\":null,\"x_range\":{\"id\":\"e24216e4-fa43-47f1-8b68-3ee77443e053\",\"type\":\"Range1d\"},\"x_scale\":{\"id\":\"d59f7039-849c-457d-8e12-61e29572ad3c\",\"type\":\"LinearScale\"},\"y_range\":{\"id\":\"406d675a-649e-4233-9c86-09bd0246ae96\",\"type\":\"Range1d\"},\"y_scale\":{\"id\":\"5128c52e-ce75-49ef-b32d-0102f0e246d4\",\"type\":\"LinearScale\"}},\"id\":\"4c3d4546-ca01-49fd-a475-7c9ad5ed98d8\",\"subtype\":\"Figure\",\"type\":\"Plot\"},{\"attributes\":{\"plot\":null,\"text\":\"size\"},\"id\":\"5857d2ef-1452-4c50-9b13-94e2d3b7edae\",\"type\":\"Title\"},{\"attributes\":{\"line_dash\":[2,4],\"line_width\":2,\"x\":{\"field\":\"x\"},\"y\":{\"field\":\"y\"}},\"id\":\"3fea415d-7e9b-495c-be42-23b4967a3eda\",\"type\":\"Line\"},{\"attributes\":{\"plot\":null,\"text\":\"shape\"},\"id\":\"2bdec30f-a151-4735-924e-b42f2849189f\",\"type\":\"Title\"},{\"attributes\":{\"data_source\":{\"id\":\"d8dcbe19-8de3-4cb8-b2d4-9090a5e9de53\",\"type\":\"ColumnDataSource\"},\"glyph\":{\"id\":\"53a1ddbe-5064-44c6-8f56-9d45f285cf98\",\"type\":\"Line\"},\"hover_glyph\":null,\"muted_glyph\":null,\"nonselection_glyph\":{\"id\":\"4ad77c28-50a9-40ad-a329-c598f28a178e\",\"type\":\"Line\"},\"selection_glyph\":null,\"view\":{\"id\":\"ab962061-53d2-427b-8a97-7398eca6a202\",\"type\":\"CDSView\"}},\"id\":\"3d2e8d42-c6cc-4f5d-91a8-bae0e96815fb\",\"type\":\"GlyphRenderer\"},{\"attributes\":{\"fill_color\":{\"value\":\"grey\"},\"line_color\":{\"value\":null},\"radius\":{\"units\":\"data\",\"value\":0.03},\"x\":{\"value\":0.1},\"y\":{\"value\":0.5}},\"id\":\"90c6cecb-22ce-4a0b-b7b2-013b1969aa4e\",\"type\":\"Circle\"},{\"attributes\":{},\"id\":\"4defb3c7-b10a-4cd3-b05e-b1e2d895190d\",\"type\":\"HelpTool\"},{\"attributes\":{\"active_drag\":\"auto\",\"active_inspect\":\"auto\",\"active_scroll\":\"auto\",\"active_tap\":\"auto\",\"tools\":[{\"id\":\"aa4fc80c-9c27-4be2-9127-5a2d5a999aab\",\"type\":\"PanTool\"},{\"id\":\"994c531c-ba5d-4433-b7b5-18adb29b4c01\",\"type\":\"WheelZoomTool\"},{\"id\":\"8a8da9c5-c345-40fa-bfec-ebc9f784626d\",\"type\":\"BoxZoomTool\"},{\"id\":\"e7827953-a25d-4e5b-9009-e00040313aa2\",\"type\":\"SaveTool\"},{\"id\":\"abd92bbe-5ca3-4a3b-80f8-4517057558e1\",\"type\":\"ResetTool\"},{\"id\":\"b1540c70-5c38-4af7-ace3-e8cae6350999\",\"type\":\"HelpTool\"}]},\"id\":\"018fa74f-9ad4-4a7c-8e0e-e7eff411fb25\",\"type\":\"Toolbar\"},{\"attributes\":{\"callback\":null,\"column_names\":[\"x\",\"y\"],\"data\":{\"x\":[0,1],\"y\":[0.2,0.2]},\"selected\":null,\"selection_policy\":null},\"id\":\"23cca0ac-44c7-4ff5-9897-f64ee6632bf6\",\"type\":\"ColumnDataSource\"},{\"attributes\":{\"plot\":null},\"id\":\"384ecdd1-e9e8-4ec9-bdaa-70a375c0ce45\",\"type\":\"OpenHead\"},{\"attributes\":{\"fill_color\":{\"value\":\"grey\"},\"line_color\":{\"value\":null},\"radius\":{\"units\":\"data\",\"value\":0.05},\"x\":{\"value\":0.1},\"y\":{\"value\":0.5}},\"id\":\"0e6c18af-3469-433c-aff3-a135441b87fa\",\"type\":\"Circle\"},{\"attributes\":{\"below\":[{\"id\":\"2e578557-b5eb-48c2-be54-03dbdd9ad5d6\",\"type\":\"LinearAxis\"}],\"left\":[{\"id\":\"7f0e0170-5e6a-4a74-8e59-4952bb98f0be\",\"type\":\"LinearAxis\"}],\"plot_height\":150,\"plot_width\":200,\"renderers\":[{\"id\":\"2e578557-b5eb-48c2-be54-03dbdd9ad5d6\",\"type\":\"LinearAxis\"},{\"id\":\"6baefce3-700e-400e-bdb2-65cff61ba021\",\"type\":\"Grid\"},{\"id\":\"7f0e0170-5e6a-4a74-8e59-4952bb98f0be\",\"type\":\"LinearAxis\"},{\"id\":\"4da3113e-dc04-4f18-9ffb-15b69873e605\",\"type\":\"Grid\"},{\"id\":\"f85bd3a6-d614-4566-ad77-59bd1c8b65e0\",\"type\":\"BoxAnnotation\"},{\"id\":\"0b243d09-57fa-4bbb-a31d-b23db98f9343\",\"type\":\"GlyphRenderer\"},{\"id\":\"70db14b8-cb4c-4c5f-b568-fb9139c292de\",\"type\":\"Arrow\"},{\"id\":\"44e6e293-b818-483b-84c9-9b5db7c8f3b6\",\"type\":\"GlyphRenderer\"},{\"id\":\"3f399578-8a78-439d-a1ba-ad379fa5056f\",\"type\":\"Arrow\"},{\"id\":\"41977549-48e4-41b6-9685-4ea0649a5f37\",\"type\":\"Label\"},{\"id\":\"24bdb967-35a7-4931-b7dc-2d045cfa85fa\",\"type\":\"Label\"}],\"title\":{\"id\":\"99f33e0a-d8b9-402f-ad6e-d5074eaa638c\",\"type\":\"Title\"},\"toolbar\":{\"id\":\"0e88c67d-e7c1-456f-8118-948df80044e6\",\"type\":\"Toolbar\"},\"toolbar_location\":null,\"x_range\":{\"id\":\"d0efc889-9bc8-44ef-9126-1cca07940fcc\",\"type\":\"DataRange1d\"},\"x_scale\":{\"id\":\"ff1f4bf0-7342-4fd2-b2ac-2b9a1b73e9cb\",\"type\":\"LinearScale\"},\"y_range\":{\"id\":\"ab1872cc-c0af-46e7-b2e1-743e9dffb238\",\"type\":\"DataRange1d\"},\"y_scale\":{\"id\":\"0e69bd27-de6e-4b63-98d5-3eeec5d5a4c9\",\"type\":\"LinearScale\"}},\"id\":\"3adc46a6-77a4-43f1-b1be-52c093e4c425\",\"subtype\":\"Figure\",\"type\":\"Plot\"},{\"attributes\":{\"grid_line_color\":{\"value\":null},\"plot\":{\"id\":\"4c3d4546-ca01-49fd-a475-7c9ad5ed98d8\",\"subtype\":\"Figure\",\"type\":\"Plot\"},\"ticker\":{\"id\":\"4172d05d-2184-48bf-a044-684e6122d784\",\"type\":\"BasicTicker\"}},\"id\":\"798c7265-4294-443a-83e5-c64f1b4d280d\",\"type\":\"Grid\"},{\"attributes\":{\"children\":[{\"id\":\"94f62c43-0bce-4216-9f51-5760be8a8827\",\"type\":\"Div\"}]},\"id\":\"c8e2b5a3-d67f-4a08-941d-4f0cc2de5a0f\",\"type\":\"WidgetBox\"},{\"attributes\":{},\"id\":\"5128c52e-ce75-49ef-b32d-0102f0e246d4\",\"type\":\"LinearScale\"},{\"attributes\":{\"callback\":null,\"column_names\":[\"x\"],\"data\":{\"x\":[0,1]},\"selected\":null,\"selection_policy\":null},\"id\":\"56907a6b-8d37-445b-83c8-4430fdca568a\",\"type\":\"ColumnDataSource\"},{\"attributes\":{\"line_alpha\":0.1,\"line_color\":\"#1f77b4\",\"line_dash\":[2,4],\"line_width\":2,\"x\":{\"field\":\"x\"},\"y\":{\"field\":\"y\"}},\"id\":\"96d0a8ff-05c5-49ba-ad0a-880efdb0efbd\",\"type\":\"Line\"},{\"attributes\":{\"formatter\":{\"id\":\"0402bf64-95b7-4e19-b498-65102e508e42\",\"type\":\"BasicTickFormatter\"},\"plot\":{\"id\":\"4c3d4546-ca01-49fd-a475-7c9ad5ed98d8\",\"subtype\":\"Figure\",\"type\":\"Plot\"},\"ticker\":{\"id\":\"4172d05d-2184-48bf-a044-684e6122d784\",\"type\":\"BasicTicker\"},\"visible\":false},\"id\":\"c5ffdd24-ca43-4eb0-b062-c62290e6f85a\",\"type\":\"LinearAxis\"},{\"attributes\":{\"data_source\":{\"id\":\"dc8b01e7-c4d2-4314-8fd1-f2ebb033dffe\",\"type\":\"ColumnDataSource\"},\"glyph\":{\"id\":\"3fea415d-7e9b-495c-be42-23b4967a3eda\",\"type\":\"Line\"},\"hover_glyph\":null,\"muted_glyph\":null,\"nonselection_glyph\":{\"id\":\"96d0a8ff-05c5-49ba-ad0a-880efdb0efbd\",\"type\":\"Line\"},\"selection_glyph\":null,\"view\":{\"id\":\"78772315-3dd3-4a21-9f51-9e3dbe091f3b\",\"type\":\"CDSView\"}},\"id\":\"43e32788-c87c-45cf-9ab6-c60b55efffb0\",\"type\":\"GlyphRenderer\"},{\"attributes\":{\"plot\":null,\"text\":\"position\"},\"id\":\"99f33e0a-d8b9-402f-ad6e-d5074eaa638c\",\"type\":\"Title\"},{\"attributes\":{},\"id\":\"03c84d7d-8c4a-4109-8fee-7b13096c6cbe\",\"type\":\"BasicTickFormatter\"},{\"attributes\":{\"source\":{\"id\":\"dc8b01e7-c4d2-4314-8fd1-f2ebb033dffe\",\"type\":\"ColumnDataSource\"}},\"id\":\"78772315-3dd3-4a21-9f51-9e3dbe091f3b\",\"type\":\"CDSView\"},{\"attributes\":{\"callback\":null},\"id\":\"d0efc889-9bc8-44ef-9126-1cca07940fcc\",\"type\":\"DataRange1d\"},{\"attributes\":{\"callback\":null,\"data\":{},\"selected\":null,\"selection_policy\":null},\"id\":\"fd8c8ddd-4fb2-42e1-a900-cddf835c9e32\",\"type\":\"ColumnDataSource\"},{\"attributes\":{\"line_dash\":[2,4,6,4],\"line_width\":2,\"x\":{\"field\":\"x\"},\"y\":{\"field\":\"y\"}},\"id\":\"051f6212-f2ae-4c09-bab9-7070e839bf02\",\"type\":\"Line\"},{\"attributes\":{},\"id\":\"0e69bd27-de6e-4b63-98d5-3eeec5d5a4c9\",\"type\":\"LinearScale\"},{\"attributes\":{},\"id\":\"4172d05d-2184-48bf-a044-684e6122d784\",\"type\":\"BasicTicker\"},{\"attributes\":{\"text\":\"<h3>Figure 1.1</h3>Aesthetics in data visualization\"},\"id\":\"94f62c43-0bce-4216-9f51-5760be8a8827\",\"type\":\"Div\"},{\"attributes\":{\"formatter\":{\"id\":\"03c84d7d-8c4a-4109-8fee-7b13096c6cbe\",\"type\":\"BasicTickFormatter\"},\"plot\":{\"id\":\"4c3d4546-ca01-49fd-a475-7c9ad5ed98d8\",\"subtype\":\"Figure\",\"type\":\"Plot\"},\"ticker\":{\"id\":\"c2c2e607-5bb5-4062-816d-f72ce9b313be\",\"type\":\"BasicTicker\"},\"visible\":false},\"id\":\"21ebf494-916c-416e-a27f-ce3d4a154721\",\"type\":\"LinearAxis\"},{\"attributes\":{\"line_alpha\":0.1,\"line_color\":\"#1f77b4\",\"x\":{\"value\":0.5},\"y\":{\"field\":\"y\"}},\"id\":\"1ae56644-1aef-478d-b187-ef2046341573\",\"type\":\"Line\"},{\"attributes\":{\"active_drag\":\"auto\",\"active_inspect\":\"auto\",\"active_scroll\":\"auto\",\"active_tap\":\"auto\",\"tools\":[{\"id\":\"5a86bef3-0137-4236-b281-3d65e6763284\",\"type\":\"PanTool\"},{\"id\":\"1cda3f16-a471-43e5-986d-a6e7a57521e9\",\"type\":\"WheelZoomTool\"},{\"id\":\"86ae32ee-1afc-47e2-8efa-e9eeb0f921f7\",\"type\":\"BoxZoomTool\"},{\"id\":\"e3621565-28c0-4367-a25c-39974535a79f\",\"type\":\"SaveTool\"},{\"id\":\"46ef88ba-3806-495c-af6c-c052f417e4a4\",\"type\":\"ResetTool\"},{\"id\":\"0aadc5ab-7b0b-4837-b8a6-d83544f67805\",\"type\":\"HelpTool\"}]},\"id\":\"0e88c67d-e7c1-456f-8118-948df80044e6\",\"type\":\"Toolbar\"},{\"attributes\":{\"data_source\":{\"id\":\"23cca0ac-44c7-4ff5-9897-f64ee6632bf6\",\"type\":\"ColumnDataSource\"},\"glyph\":{\"id\":\"051f6212-f2ae-4c09-bab9-7070e839bf02\",\"type\":\"Line\"},\"hover_glyph\":null,\"muted_glyph\":null,\"nonselection_glyph\":{\"id\":\"ab9caeb4-28e1-4ddb-82ee-790bf08e8708\",\"type\":\"Line\"},\"selection_glyph\":null,\"view\":{\"id\":\"6fc2f1cb-7ee3-4da4-9186-3a5c511e6fae\",\"type\":\"CDSView\"}},\"id\":\"62922b1e-b856-4a66-af03-21312a443401\",\"type\":\"GlyphRenderer\"},{\"attributes\":{},\"id\":\"c2c2e607-5bb5-4062-816d-f72ce9b313be\",\"type\":\"BasicTicker\"},{\"attributes\":{\"line_alpha\":0.1,\"line_color\":\"#1f77b4\",\"line_dash\":[2,4,6,4],\"line_width\":2,\"x\":{\"field\":\"x\"},\"y\":{\"field\":\"y\"}},\"id\":\"ab9caeb4-28e1-4ddb-82ee-790bf08e8708\",\"type\":\"Line\"},{\"attributes\":{\"dimension\":1,\"grid_line_color\":{\"value\":null},\"plot\":{\"id\":\"4c3d4546-ca01-49fd-a475-7c9ad5ed98d8\",\"subtype\":\"Figure\",\"type\":\"Plot\"},\"ticker\":{\"id\":\"c2c2e607-5bb5-4062-816d-f72ce9b313be\",\"type\":\"BasicTicker\"}},\"id\":\"d8bc461e-f6c9-4b39-bc1e-a48d4ba79004\",\"type\":\"Grid\"},{\"attributes\":{\"callback\":null,\"column_names\":[\"y\"],\"data\":{\"y\":[0,1]},\"selected\":null,\"selection_policy\":null},\"id\":\"f2df0617-31d5-4bde-a577-2d84d681b40c\",\"type\":\"ColumnDataSource\"},{\"attributes\":{\"source\":{\"id\":\"23cca0ac-44c7-4ff5-9897-f64ee6632bf6\",\"type\":\"ColumnDataSource\"}},\"id\":\"6fc2f1cb-7ee3-4da4-9186-3a5c511e6fae\",\"type\":\"CDSView\"},{\"attributes\":{},\"id\":\"ff1f4bf0-7342-4fd2-b2ac-2b9a1b73e9cb\",\"type\":\"LinearScale\"},{\"attributes\":{\"fill_alpha\":{\"value\":0.1},\"fill_color\":{\"value\":\"#1f77b4\"},\"line_alpha\":{\"value\":0.1},\"line_color\":{\"value\":\"#1f77b4\"},\"radius\":{\"units\":\"data\",\"value\":0.05},\"x\":{\"value\":0.1},\"y\":{\"value\":0.5}},\"id\":\"4ded43e4-720e-491f-85bc-51c7616b6e9d\",\"type\":\"Circle\"},{\"attributes\":{\"callback\":null},\"id\":\"ab1872cc-c0af-46e7-b2e1-743e9dffb238\",\"type\":\"DataRange1d\"},{\"attributes\":{\"callback\":null,\"data\":{},\"selected\":null,\"selection_policy\":null},\"id\":\"5f060c50-1658-4100-91c3-b3b3831038db\",\"type\":\"ColumnDataSource\"},{\"attributes\":{\"tools\":[{\"id\":\"5a86bef3-0137-4236-b281-3d65e6763284\",\"type\":\"PanTool\"},{\"id\":\"1cda3f16-a471-43e5-986d-a6e7a57521e9\",\"type\":\"WheelZoomTool\"},{\"id\":\"86ae32ee-1afc-47e2-8efa-e9eeb0f921f7\",\"type\":\"BoxZoomTool\"},{\"id\":\"e3621565-28c0-4367-a25c-39974535a79f\",\"type\":\"SaveTool\"},{\"id\":\"46ef88ba-3806-495c-af6c-c052f417e4a4\",\"type\":\"ResetTool\"},{\"id\":\"0aadc5ab-7b0b-4837-b8a6-d83544f67805\",\"type\":\"HelpTool\"},{\"id\":\"aa4fc80c-9c27-4be2-9127-5a2d5a999aab\",\"type\":\"PanTool\"},{\"id\":\"994c531c-ba5d-4433-b7b5-18adb29b4c01\",\"type\":\"WheelZoomTool\"},{\"id\":\"8a8da9c5-c345-40fa-bfec-ebc9f784626d\",\"type\":\"BoxZoomTool\"},{\"id\":\"e7827953-a25d-4e5b-9009-e00040313aa2\",\"type\":\"SaveTool\"},{\"id\":\"abd92bbe-5ca3-4a3b-80f8-4517057558e1\",\"type\":\"ResetTool\"},{\"id\":\"b1540c70-5c38-4af7-ace3-e8cae6350999\",\"type\":\"HelpTool\"},{\"id\":\"bcc86107-c213-42d0-b081-8a78a458430f\",\"type\":\"PanTool\"},{\"id\":\"fef2cd95-19ee-40eb-984a-a8767485d9f2\",\"type\":\"WheelZoomTool\"},{\"id\":\"b7c891c8-6582-45f8-871e-60c7f9e2b0ac\",\"type\":\"BoxZoomTool\"},{\"id\":\"3143fb66-78ee-4d54-a564-aaa147b08c58\",\"type\":\"SaveTool\"},{\"id\":\"de19d81d-9c5d-4f19-993c-e55e1e444d04\",\"type\":\"ResetTool\"},{\"id\":\"4defb3c7-b10a-4cd3-b05e-b1e2d895190d\",\"type\":\"HelpTool\"},{\"id\":\"9961766b-f6f9-42d0-9452-0c3af180c817\",\"type\":\"PanTool\"},{\"id\":\"4950f552-60d8-4149-86ee-ade3d0cf1039\",\"type\":\"WheelZoomTool\"},{\"id\":\"c05de3d0-7996-479f-b546-942e34e2ff03\",\"type\":\"BoxZoomTool\"},{\"id\":\"2a84243c-4e95-48db-a762-4c0ef73ab3d9\",\"type\":\"SaveTool\"},{\"id\":\"4912491e-6764-41b9-9e3b-a82a3a8b2c9e\",\"type\":\"ResetTool\"},{\"id\":\"1b0d285b-6189-4591-9a8c-2efd4f532f13\",\"type\":\"HelpTool\"},{\"id\":\"2ccf6826-8ebe-4a56-8d23-15ca0fc99ded\",\"type\":\"PanTool\"},{\"id\":\"552d596a-546b-423f-8c1e-31e40dcf7689\",\"type\":\"WheelZoomTool\"},{\"id\":\"5fd5832d-9b49-4f7c-af79-91008ad6e329\",\"type\":\"BoxZoomTool\"},{\"id\":\"3108dc5c-c7b3-4d89-a0e4-5ca3dc0db1ba\",\"type\":\"SaveTool\"},{\"id\":\"6a1efd56-21e3-4dd6-9df3-8e38fbcd8a86\",\"type\":\"ResetTool\"},{\"id\":\"65a2ef42-61e3-43dd-bba5-ad6a89907d50\",\"type\":\"HelpTool\"},{\"id\":\"5badc4a1-41e7-4839-af68-cc381a8054cc\",\"type\":\"PanTool\"},{\"id\":\"bc3b809a-359b-4d63-a1b6-c3dddc5dcd58\",\"type\":\"WheelZoomTool\"},{\"id\":\"4067b185-1093-404b-89d1-dc9b575a5493\",\"type\":\"BoxZoomTool\"},{\"id\":\"3ecb76ab-24de-45ca-bed1-7618356530a9\",\"type\":\"SaveTool\"},{\"id\":\"cff4289c-2cda-4922-ab36-d8317492a06a\",\"type\":\"ResetTool\"},{\"id\":\"330a1917-5b8c-4ba9-a220-5863f1aa06cb\",\"type\":\"HelpTool\"}]},\"id\":\"47eb77d1-1119-48b4-8df8-dad76e38e20e\",\"type\":\"ProxyToolbar\"},{\"attributes\":{\"formatter\":{\"id\":\"3613eb48-6231-47a2-b744-0e8a7edbbed2\",\"type\":\"BasicTickFormatter\"},\"plot\":{\"id\":\"3adc46a6-77a4-43f1-b1be-52c093e4c425\",\"subtype\":\"Figure\",\"type\":\"Plot\"},\"ticker\":{\"id\":\"78b470ce-9e30-4a09-b8c1-f548fc651f82\",\"type\":\"BasicTicker\"},\"visible\":false},\"id\":\"2e578557-b5eb-48c2-be54-03dbdd9ad5d6\",\"type\":\"LinearAxis\"},{\"attributes\":{\"callback\":null,\"data\":{},\"selected\":null,\"selection_policy\":null},\"id\":\"1e78ceb3-ac7c-4e87-9224-141b24f48d78\",\"type\":\"ColumnDataSource\"},{\"attributes\":{\"bottom_units\":\"screen\",\"fill_alpha\":{\"value\":0.5},\"fill_color\":{\"value\":\"lightgrey\"},\"left_units\":\"screen\",\"level\":\"overlay\",\"line_alpha\":{\"value\":1.0},\"line_color\":{\"value\":\"black\"},\"line_dash\":[4,4],\"line_width\":{\"value\":2},\"plot\":null,\"render_mode\":\"css\",\"right_units\":\"screen\",\"top_units\":\"screen\"},\"id\":\"de17dee2-7b6f-4f78-922a-93375eb3e521\",\"type\":\"BoxAnnotation\"},{\"attributes\":{},\"id\":\"78b470ce-9e30-4a09-b8c1-f548fc651f82\",\"type\":\"BasicTicker\"},{\"attributes\":{},\"id\":\"aa4fc80c-9c27-4be2-9127-5a2d5a999aab\",\"type\":\"PanTool\"},{\"attributes\":{\"toolbar\":{\"id\":\"47eb77d1-1119-48b4-8df8-dad76e38e20e\",\"type\":\"ProxyToolbar\"},\"toolbar_location\":\"above\"},\"id\":\"46238454-8392-4524-a22a-0a106dadb28c\",\"type\":\"ToolbarBox\"},{\"attributes\":{\"grid_line_color\":{\"value\":null},\"plot\":{\"id\":\"3adc46a6-77a4-43f1-b1be-52c093e4c425\",\"subtype\":\"Figure\",\"type\":\"Plot\"},\"ticker\":{\"id\":\"78b470ce-9e30-4a09-b8c1-f548fc651f82\",\"type\":\"BasicTicker\"}},\"id\":\"6baefce3-700e-400e-bdb2-65cff61ba021\",\"type\":\"Grid\"},{\"attributes\":{},\"id\":\"abd92bbe-5ca3-4a3b-80f8-4517057558e1\",\"type\":\"ResetTool\"},{\"attributes\":{\"formatter\":{\"id\":\"44c5a920-52b9-4ce4-bc59-8443f1705ac2\",\"type\":\"BasicTickFormatter\"},\"plot\":{\"id\":\"3adc46a6-77a4-43f1-b1be-52c093e4c425\",\"subtype\":\"Figure\",\"type\":\"Plot\"},\"ticker\":{\"id\":\"2b350d07-c73f-41e2-93c3-bce52b0ca01b\",\"type\":\"BasicTicker\"},\"visible\":false},\"id\":\"7f0e0170-5e6a-4a74-8e59-4952bb98f0be\",\"type\":\"LinearAxis\"},{\"attributes\":{},\"id\":\"994c531c-ba5d-4433-b7b5-18adb29b4c01\",\"type\":\"WheelZoomTool\"},{\"attributes\":{},\"id\":\"2b350d07-c73f-41e2-93c3-bce52b0ca01b\",\"type\":\"BasicTicker\"},{\"attributes\":{\"dimension\":1,\"grid_line_color\":{\"value\":null},\"plot\":{\"id\":\"3adc46a6-77a4-43f1-b1be-52c093e4c425\",\"subtype\":\"Figure\",\"type\":\"Plot\"},\"ticker\":{\"id\":\"2b350d07-c73f-41e2-93c3-bce52b0ca01b\",\"type\":\"BasicTicker\"}},\"id\":\"4da3113e-dc04-4f18-9ffb-15b69873e605\",\"type\":\"Grid\"},{\"attributes\":{\"data_source\":{\"id\":\"5f060c50-1658-4100-91c3-b3b3831038db\",\"type\":\"ColumnDataSource\"},\"glyph\":{\"id\":\"0e6c18af-3469-433c-aff3-a135441b87fa\",\"type\":\"Circle\"},\"hover_glyph\":null,\"muted_glyph\":null,\"nonselection_glyph\":{\"id\":\"4ded43e4-720e-491f-85bc-51c7616b6e9d\",\"type\":\"Circle\"},\"selection_glyph\":null,\"view\":{\"id\":\"0bf304dc-53fd-4ffa-a538-0d5eb79e974b\",\"type\":\"CDSView\"}},\"id\":\"fc28539a-a1de-46d3-a3a8-575386dfde0f\",\"type\":\"GlyphRenderer\"},{\"attributes\":{},\"id\":\"b1540c70-5c38-4af7-ace3-e8cae6350999\",\"type\":\"HelpTool\"},{\"attributes\":{\"bottom_units\":\"screen\",\"fill_alpha\":{\"value\":0.5},\"fill_color\":{\"value\":\"lightgrey\"},\"left_units\":\"screen\",\"level\":\"overlay\",\"line_alpha\":{\"value\":1.0},\"line_color\":{\"value\":\"black\"},\"line_dash\":[4,4],\"line_width\":{\"value\":2},\"plot\":null,\"render_mode\":\"css\",\"right_units\":\"screen\",\"top_units\":\"screen\"},\"id\":\"f85bd3a6-d614-4566-ad77-59bd1c8b65e0\",\"type\":\"BoxAnnotation\"},{\"attributes\":{\"source\":{\"id\":\"5f060c50-1658-4100-91c3-b3b3831038db\",\"type\":\"ColumnDataSource\"}},\"id\":\"0bf304dc-53fd-4ffa-a538-0d5eb79e974b\",\"type\":\"CDSView\"},{\"attributes\":{\"below\":[{\"id\":\"96bfa5d6-dfe0-4f5c-ac0f-ea47fa4ff934\",\"type\":\"LinearAxis\"}],\"left\":[{\"id\":\"05d13f33-6b0e-448c-802a-1f5f4a7cdb62\",\"type\":\"LinearAxis\"}],\"plot_height\":150,\"plot_width\":200,\"renderers\":[{\"id\":\"96bfa5d6-dfe0-4f5c-ac0f-ea47fa4ff934\",\"type\":\"LinearAxis\"},{\"id\":\"25e7b608-3c86-4bd0-8b40-12421e8313f0\",\"type\":\"Grid\"},{\"id\":\"05d13f33-6b0e-448c-802a-1f5f4a7cdb62\",\"type\":\"LinearAxis\"},{\"id\":\"15b3705f-0442-4e5a-9f6d-b48a592b73e9\",\"type\":\"Grid\"},{\"id\":\"2703c2b0-693e-45ae-98f9-5fb8ee88a15e\",\"type\":\"BoxAnnotation\"},{\"id\":\"c8074f87-dd13-4560-a378-0f14428a51c2\",\"type\":\"GlyphRenderer\"},{\"id\":\"c37c80c0-4506-4fed-800d-bdee32188e7d\",\"type\":\"GlyphRenderer\"},{\"id\":\"db854128-89fc-4151-a59f-0d03afa0ffa9\",\"type\":\"GlyphRenderer\"},{\"id\":\"827cd1d6-f2f0-443e-9350-c1367acca207\",\"type\":\"GlyphRenderer\"}],\"title\":{\"id\":\"6c9d10f3-feb2-41a7-b4be-a7f1207f126a\",\"type\":\"Title\"},\"toolbar\":{\"id\":\"a92e788b-46b2-46d8-b0e5-6ca8dadbcd3a\",\"type\":\"Toolbar\"},\"toolbar_location\":null,\"x_range\":{\"id\":\"be0924de-ff03-49e9-9081-169dada1d24b\",\"type\":\"Range1d\"},\"x_scale\":{\"id\":\"27437eda-9d11-448b-913d-95b5df498c1b\",\"type\":\"LinearScale\"},\"y_range\":{\"id\":\"bbd3185a-7411-4ecb-9c9d-242643ca4bab\",\"type\":\"Range1d\"},\"y_scale\":{\"id\":\"a3e422fe-b670-4695-b77e-8f6295cfa28f\",\"type\":\"LinearScale\"}},\"id\":\"1dcc709b-4469-4da0-9459-354f9b7a8096\",\"subtype\":\"Figure\",\"type\":\"Plot\"},{\"attributes\":{\"angle\":{\"units\":\"rad\",\"value\":45.0},\"fill_color\":{\"value\":\"grey\"},\"line_color\":{\"value\":null},\"size\":{\"units\":\"screen\",\"value\":15},\"x\":{\"value\":0.6333333333333333},\"y\":{\"value\":0.5}},\"id\":\"c7fa94d7-ccb2-48ce-9a60-687661e3e492\",\"type\":\"Square\"},{\"attributes\":{},\"id\":\"0402bf64-95b7-4e19-b498-65102e508e42\",\"type\":\"BasicTickFormatter\"},{\"attributes\":{},\"id\":\"5a86bef3-0137-4236-b281-3d65e6763284\",\"type\":\"PanTool\"},{\"attributes\":{\"fill_color\":{\"value\":\"grey\"},\"line_color\":{\"value\":null},\"size\":{\"units\":\"screen\",\"value\":15},\"x\":{\"value\":0.3666666666666667},\"y\":{\"value\":0.5}},\"id\":\"3431a3f0-6c94-4fdc-9930-731d45efdba7\",\"type\":\"Square\"},{\"attributes\":{},\"id\":\"682895e2-566f-451a-9f0f-f34075a0c850\",\"type\":\"BasicTicker\"},{\"attributes\":{},\"id\":\"1cda3f16-a471-43e5-986d-a6e7a57521e9\",\"type\":\"WheelZoomTool\"},{\"attributes\":{\"fill_alpha\":{\"value\":0.1},\"fill_color\":{\"value\":\"#1f77b4\"},\"line_alpha\":{\"value\":0.1},\"line_color\":{\"value\":\"#1f77b4\"},\"size\":{\"units\":\"screen\",\"value\":15},\"x\":{\"value\":0.3666666666666667},\"y\":{\"value\":0.5}},\"id\":\"8e4d8635-edfd-447b-bd07-9edbaa923249\",\"type\":\"Square\"},{\"attributes\":{\"children\":[{\"id\":\"1dcc709b-4469-4da0-9459-354f9b7a8096\",\"subtype\":\"Figure\",\"type\":\"Plot\"},{\"id\":\"515de868-3f93-47c7-a1bc-ba5736791dad\",\"subtype\":\"Figure\",\"type\":\"Plot\"},{\"id\":\"e7422d3c-6814-4ba8-b56c-b8c9dbf866da\",\"subtype\":\"Figure\",\"type\":\"Plot\"}]},\"id\":\"d0ac67fd-b681-46f0-9f1b-7c05619bb337\",\"type\":\"Row\"},{\"attributes\":{\"overlay\":{\"id\":\"f85bd3a6-d614-4566-ad77-59bd1c8b65e0\",\"type\":\"BoxAnnotation\"}},\"id\":\"86ae32ee-1afc-47e2-8efa-e9eeb0f921f7\",\"type\":\"BoxZoomTool\"},{\"attributes\":{\"callback\":null,\"data\":{},\"selected\":null,\"selection_policy\":null},\"id\":\"59b5fe2f-eaa4-45de-91d3-eda8d4815133\",\"type\":\"ColumnDataSource\"},{\"attributes\":{},\"id\":\"e3621565-28c0-4367-a25c-39974535a79f\",\"type\":\"SaveTool\"},{\"attributes\":{\"angle\":{\"units\":\"rad\",\"value\":45.0},\"fill_alpha\":{\"value\":0.1},\"fill_color\":{\"value\":\"#1f77b4\"},\"line_alpha\":{\"value\":0.1},\"line_color\":{\"value\":\"#1f77b4\"},\"size\":{\"units\":\"screen\",\"value\":15},\"x\":{\"value\":0.6333333333333333},\"y\":{\"value\":0.5}},\"id\":\"f4bc1f8e-4101-4a06-909e-674b0aa908ae\",\"type\":\"Square\"},{\"attributes\":{},\"id\":\"46ef88ba-3806-495c-af6c-c052f417e4a4\",\"type\":\"ResetTool\"},{\"attributes\":{\"source\":{\"id\":\"6fcc96a4-2bde-4421-820a-a5c81b87290f\",\"type\":\"ColumnDataSource\"}},\"id\":\"9e302cfc-8996-4347-af80-8bc04b5d4c0f\",\"type\":\"CDSView\"},{\"attributes\":{},\"id\":\"0aadc5ab-7b0b-4837-b8a6-d83544f67805\",\"type\":\"HelpTool\"},{\"attributes\":{\"fill_color\":{\"value\":\"grey\"},\"line_color\":{\"value\":null},\"size\":{\"units\":\"screen\",\"value\":20},\"x\":{\"value\":0.9},\"y\":{\"value\":0.5}},\"id\":\"f2fd064c-318d-4baf-996f-dde0abf666b3\",\"type\":\"Triangle\"},{\"attributes\":{\"data_source\":{\"id\":\"fd8c8ddd-4fb2-42e1-a900-cddf835c9e32\",\"type\":\"ColumnDataSource\"},\"glyph\":{\"id\":\"c7fa94d7-ccb2-48ce-9a60-687661e3e492\",\"type\":\"Square\"},\"hover_glyph\":null,\"muted_glyph\":null,\"nonselection_glyph\":{\"id\":\"f4bc1f8e-4101-4a06-909e-674b0aa908ae\",\"type\":\"Square\"},\"selection_glyph\":null,\"view\":{\"id\":\"138714c3-91e9-44ec-8175-3e74813fd1cb\",\"type\":\"CDSView\"}},\"id\":\"530b27d1-bba5-48c1-9919-c41ad6212065\",\"type\":\"GlyphRenderer\"},{\"attributes\":{\"source\":{\"id\":\"fd8c8ddd-4fb2-42e1-a900-cddf835c9e32\",\"type\":\"ColumnDataSource\"}},\"id\":\"138714c3-91e9-44ec-8175-3e74813fd1cb\",\"type\":\"CDSView\"},{\"attributes\":{\"fill_alpha\":{\"value\":0.1},\"fill_color\":{\"value\":\"#1f77b4\"},\"line_alpha\":{\"value\":0.1},\"line_color\":{\"value\":\"#1f77b4\"},\"size\":{\"units\":\"screen\",\"value\":20},\"x\":{\"value\":0.9},\"y\":{\"value\":0.5}},\"id\":\"b2a55566-9783-41f3-a644-b70f50fd829d\",\"type\":\"Triangle\"},{\"attributes\":{\"overlay\":{\"id\":\"de17dee2-7b6f-4f78-922a-93375eb3e521\",\"type\":\"BoxAnnotation\"}},\"id\":\"8a8da9c5-c345-40fa-bfec-ebc9f784626d\",\"type\":\"BoxZoomTool\"},{\"attributes\":{},\"id\":\"3613eb48-6231-47a2-b744-0e8a7edbbed2\",\"type\":\"BasicTickFormatter\"},{\"attributes\":{\"fill_alpha\":{\"value\":0.1},\"fill_color\":{\"value\":\"#1f77b4\"},\"height\":{\"units\":\"data\",\"value\":1},\"line_alpha\":{\"value\":0.1},\"line_color\":{\"value\":\"#1f77b4\"},\"width\":{\"units\":\"data\",\"value\":0.2},\"x\":{\"value\":0.3666666666666667},\"y\":{\"value\":0.5}},\"id\":\"7ce0b1e0-7e68-4624-bb30-a083e04d8b97\",\"type\":\"Rect\"},{\"attributes\":{\"children\":[{\"id\":\"c8e2b5a3-d67f-4a08-941d-4f0cc2de5a0f\",\"type\":\"WidgetBox\"},{\"id\":\"4a138091-2ce2-4149-abcf-3e8eafb057af\",\"type\":\"Column\"}]},\"id\":\"1234f93a-549f-4822-b79d-a84c8b8867da\",\"type\":\"Column\"},{\"attributes\":{},\"id\":\"cff4289c-2cda-4922-ab36-d8317492a06a\",\"type\":\"ResetTool\"},{\"attributes\":{\"data_source\":{\"id\":\"f2df0617-31d5-4bde-a577-2d84d681b40c\",\"type\":\"ColumnDataSource\"},\"glyph\":{\"id\":\"14ed915d-d129-4778-8599-a9d3657df5bd\",\"type\":\"Line\"},\"hover_glyph\":null,\"muted_glyph\":null,\"nonselection_glyph\":{\"id\":\"1ae56644-1aef-478d-b187-ef2046341573\",\"type\":\"Line\"},\"selection_glyph\":null,\"view\":{\"id\":\"097e0cbf-c277-4e56-8a6a-0c1004c6db6d\",\"type\":\"CDSView\"}},\"id\":\"44e6e293-b818-483b-84c9-9b5db7c8f3b6\",\"type\":\"GlyphRenderer\"},{\"attributes\":{\"data_source\":{\"id\":\"59b5fe2f-eaa4-45de-91d3-eda8d4815133\",\"type\":\"ColumnDataSource\"},\"glyph\":{\"id\":\"f2fd064c-318d-4baf-996f-dde0abf666b3\",\"type\":\"Triangle\"},\"hover_glyph\":null,\"muted_glyph\":null,\"nonselection_glyph\":{\"id\":\"b2a55566-9783-41f3-a644-b70f50fd829d\",\"type\":\"Triangle\"},\"selection_glyph\":null,\"view\":{\"id\":\"a4544bd6-42b8-4d28-9949-0cc42e62b277\",\"type\":\"CDSView\"}},\"id\":\"7a080bb8-4856-4bce-98cd-fb7da3ac35e0\",\"type\":\"GlyphRenderer\"},{\"attributes\":{},\"id\":\"44c5a920-52b9-4ce4-bc59-8443f1705ac2\",\"type\":\"BasicTickFormatter\"},{\"attributes\":{\"source\":{\"id\":\"56907a6b-8d37-445b-83c8-4430fdca568a\",\"type\":\"ColumnDataSource\"}},\"id\":\"1bac09d1-8149-4d86-a742-f439c637f3bf\",\"type\":\"CDSView\"},{\"attributes\":{\"source\":{\"id\":\"59b5fe2f-eaa4-45de-91d3-eda8d4815133\",\"type\":\"ColumnDataSource\"}},\"id\":\"a4544bd6-42b8-4d28-9949-0cc42e62b277\",\"type\":\"CDSView\"},{\"attributes\":{\"line_color\":\"#1f77b4\",\"x\":{\"value\":0.5},\"y\":{\"field\":\"y\"}},\"id\":\"14ed915d-d129-4778-8599-a9d3657df5bd\",\"type\":\"Line\"},{\"attributes\":{\"fill_color\":{\"value\":\"grey\"},\"line_color\":{\"value\":null},\"radius\":{\"units\":\"data\",\"value\":0.06},\"x\":{\"value\":0.2666666666666667},\"y\":{\"value\":0.5}},\"id\":\"6985ad6d-037c-421d-b696-2874ea0c24dd\",\"type\":\"Circle\"},{\"attributes\":{\"end\":{\"id\":\"384ecdd1-e9e8-4ec9-bdaa-70a375c0ce45\",\"type\":\"OpenHead\"},\"plot\":{\"id\":\"3adc46a6-77a4-43f1-b1be-52c093e4c425\",\"subtype\":\"Figure\",\"type\":\"Plot\"},\"source\":null,\"start\":null,\"x_end\":{\"value\":1},\"x_start\":{\"value\":0.0},\"y_end\":{\"value\":0.5},\"y_start\":{\"value\":0.5}},\"id\":\"70db14b8-cb4c-4c5f-b568-fb9139c292de\",\"type\":\"Arrow\"},{\"attributes\":{\"line_width\":2,\"x\":{\"field\":\"x\"},\"y\":{\"field\":\"y\"}},\"id\":\"0e4dad7f-7c03-4ca1-8c22-7666c0a43a33\",\"type\":\"Line\"},{\"attributes\":{\"children\":[{\"id\":\"46238454-8392-4524-a22a-0a106dadb28c\",\"type\":\"ToolbarBox\"},{\"id\":\"717ca537-b090-4165-a304-7fe28693cc1c\",\"type\":\"Column\"}]},\"id\":\"4a138091-2ce2-4149-abcf-3e8eafb057af\",\"type\":\"Column\"},{\"attributes\":{\"end\":{\"id\":\"6505bb87-6ac2-4c37-b17d-1f396a0ad407\",\"type\":\"OpenHead\"},\"plot\":{\"id\":\"3adc46a6-77a4-43f1-b1be-52c093e4c425\",\"subtype\":\"Figure\",\"type\":\"Plot\"},\"source\":null,\"start\":null,\"x_end\":{\"value\":0.5},\"x_start\":{\"value\":0.5},\"y_end\":{\"value\":1},\"y_start\":{\"value\":0.0}},\"id\":\"3f399578-8a78-439d-a1ba-ad379fa5056f\",\"type\":\"Arrow\"},{\"attributes\":{\"fill_color\":{\"value\":\"yellow\"},\"height\":{\"units\":\"data\",\"value\":1},\"line_color\":{\"value\":\"#1f77b4\"},\"width\":{\"units\":\"data\",\"value\":0.2},\"x\":{\"value\":0.9},\"y\":{\"value\":0.5}},\"id\":\"7060aa66-a6f6-4b03-9aed-9078cc2056fe\",\"type\":\"Rect\"},{\"attributes\":{\"plot\":{\"id\":\"3adc46a6-77a4-43f1-b1be-52c093e4c425\",\"subtype\":\"Figure\",\"type\":\"Plot\"},\"text\":\"x\",\"x\":0.9,\"y\":0.3},\"id\":\"24bdb967-35a7-4931-b7dc-2d045cfa85fa\",\"type\":\"Label\"},{\"attributes\":{},\"id\":\"339b1cf4-33ea-424f-b087-c06c2a6faffe\",\"type\":\"BasicTickFormatter\"},{\"attributes\":{\"plot\":null},\"id\":\"6505bb87-6ac2-4c37-b17d-1f396a0ad407\",\"type\":\"OpenHead\"},{\"attributes\":{\"callback\":null,\"data\":{},\"selected\":null,\"selection_policy\":null},\"id\":\"969fb8f9-a0ed-4119-add0-463945784053\",\"type\":\"ColumnDataSource\"},{\"attributes\":{\"formatter\":{\"id\":\"aecf417c-baf8-422c-92e3-c90c3e14fa26\",\"type\":\"BasicTickFormatter\"},\"plot\":{\"id\":\"e7422d3c-6814-4ba8-b56c-b8c9dbf866da\",\"subtype\":\"Figure\",\"type\":\"Plot\"},\"ticker\":{\"id\":\"682895e2-566f-451a-9f0f-f34075a0c850\",\"type\":\"BasicTicker\"},\"visible\":false},\"id\":\"9b484305-62bb-474a-b0ee-8ee67fcff0e2\",\"type\":\"LinearAxis\"},{\"attributes\":{},\"id\":\"3641ee25-76ed-4855-922f-03aeb74ce06f\",\"type\":\"BasicTicker\"},{\"attributes\":{\"data_source\":{\"id\":\"a534351f-d88c-42d0-95de-2fb12fbe8b71\",\"type\":\"ColumnDataSource\"},\"glyph\":{\"id\":\"f166f25c-7510-455b-ac1a-17b500b51e8b\",\"type\":\"Rect\"},\"hover_glyph\":null,\"muted_glyph\":null,\"nonselection_glyph\":{\"id\":\"ae4846ec-78d6-4307-bfa7-f6a36950c34b\",\"type\":\"Rect\"},\"selection_glyph\":null,\"view\":{\"id\":\"8654a8f1-5142-4ee7-8740-0e1d6853aa53\",\"type\":\"CDSView\"}},\"id\":\"db854128-89fc-4151-a59f-0d03afa0ffa9\",\"type\":\"GlyphRenderer\"},{\"attributes\":{\"children\":[{\"id\":\"3adc46a6-77a4-43f1-b1be-52c093e4c425\",\"subtype\":\"Figure\",\"type\":\"Plot\"},{\"id\":\"4c3d4546-ca01-49fd-a475-7c9ad5ed98d8\",\"subtype\":\"Figure\",\"type\":\"Plot\"},{\"id\":\"806a028e-9d0a-4e78-acb1-6138e41a668d\",\"subtype\":\"Figure\",\"type\":\"Plot\"}]},\"id\":\"c4842523-acea-4d48-b965-592d6fcf432d\",\"type\":\"Row\"},{\"attributes\":{\"data_source\":{\"id\":\"84f0b854-ff65-4e7b-a8ce-610e855ce4b5\",\"type\":\"ColumnDataSource\"},\"glyph\":{\"id\":\"0e4dad7f-7c03-4ca1-8c22-7666c0a43a33\",\"type\":\"Line\"},\"hover_glyph\":null,\"muted_glyph\":null,\"nonselection_glyph\":{\"id\":\"69cc4a11-5cf9-4785-924f-2be606fd0986\",\"type\":\"Line\"},\"selection_glyph\":null,\"view\":{\"id\":\"cb7504ed-0e08-45ed-a348-84914af77101\",\"type\":\"CDSView\"}},\"id\":\"1ea5afa2-87bd-4a3b-8746-d3fbe72a75e7\",\"type\":\"GlyphRenderer\"},{\"attributes\":{\"children\":[{\"id\":\"c4842523-acea-4d48-b965-592d6fcf432d\",\"type\":\"Row\"},{\"id\":\"d0ac67fd-b681-46f0-9f1b-7c05619bb337\",\"type\":\"Row\"}]},\"id\":\"717ca537-b090-4165-a304-7fe28693cc1c\",\"type\":\"Column\"},{\"attributes\":{},\"id\":\"5badc4a1-41e7-4839-af68-cc381a8054cc\",\"type\":\"PanTool\"},{\"attributes\":{\"source\":{\"id\":\"f2df0617-31d5-4bde-a577-2d84d681b40c\",\"type\":\"ColumnDataSource\"}},\"id\":\"097e0cbf-c277-4e56-8a6a-0c1004c6db6d\",\"type\":\"CDSView\"},{\"attributes\":{\"plot\":{\"id\":\"3adc46a6-77a4-43f1-b1be-52c093e4c425\",\"subtype\":\"Figure\",\"type\":\"Plot\"},\"text\":\"y\",\"x\":0.4,\"y\":0.9},\"id\":\"41977549-48e4-41b6-9685-4ea0649a5f37\",\"type\":\"Label\"},{\"attributes\":{\"source\":{\"id\":\"56c00414-2fb6-40c7-8607-57c8ff3004bb\",\"type\":\"ColumnDataSource\"}},\"id\":\"5e19aa05-1826-42f2-8874-00203622a035\",\"type\":\"CDSView\"},{\"attributes\":{\"below\":[{\"id\":\"8c88b30e-0830-4b05-868a-4773ed533e68\",\"type\":\"LinearAxis\"}],\"left\":[{\"id\":\"83cf07c0-573b-40db-a81d-892a34ce33ce\",\"type\":\"LinearAxis\"}],\"plot_height\":150,\"plot_width\":200,\"renderers\":[{\"id\":\"8c88b30e-0830-4b05-868a-4773ed533e68\",\"type\":\"LinearAxis\"},{\"id\":\"1fe240bf-2ea6-49ea-881f-d834097f0378\",\"type\":\"Grid\"},{\"id\":\"83cf07c0-573b-40db-a81d-892a34ce33ce\",\"type\":\"LinearAxis\"},{\"id\":\"ecd8dda5-4979-45bb-a1f4-f19b78edb402\",\"type\":\"Grid\"},{\"id\":\"e4822a9c-d592-4a30-a5ea-6c2fe0ea51c2\",\"type\":\"BoxAnnotation\"},{\"id\":\"815e197f-7023-48ee-b474-903c3a3293d4\",\"type\":\"GlyphRenderer\"},{\"id\":\"57c40e03-cb49-4e7c-b7b3-3d4710dae4da\",\"type\":\"GlyphRenderer\"},{\"id\":\"6663a31e-1877-483d-97f8-d57615604b9d\",\"type\":\"GlyphRenderer\"},{\"id\":\"4d9098e6-d78f-45b2-bf93-c0c6d46c32a1\",\"type\":\"GlyphRenderer\"}],\"title\":{\"id\":\"5857d2ef-1452-4c50-9b13-94e2d3b7edae\",\"type\":\"Title\"},\"toolbar\":{\"id\":\"41a6c28b-861b-469a-9a07-5978b20ba84f\",\"type\":\"Toolbar\"},\"toolbar_location\":null,\"x_range\":{\"id\":\"fdf9b3c9-b11a-4824-8151-6482456a5e34\",\"type\":\"Range1d\"},\"x_scale\":{\"id\":\"a7ff126e-a7b6-4b5a-9357-52cb305cf38c\",\"type\":\"LinearScale\"},\"y_range\":{\"id\":\"83d0f5f7-6e93-49ef-9704-bc11f6812710\",\"type\":\"Range1d\"},\"y_scale\":{\"id\":\"056b6cec-2f5e-4c7d-b383-cb0bade73d90\",\"type\":\"LinearScale\"}},\"id\":\"806a028e-9d0a-4e78-acb1-6138e41a668d\",\"subtype\":\"Figure\",\"type\":\"Plot\"},{\"attributes\":{},\"id\":\"459127de-6cd6-466d-9cce-515cfc804594\",\"type\":\"BasicTicker\"},{\"attributes\":{},\"id\":\"e7827953-a25d-4e5b-9009-e00040313aa2\",\"type\":\"SaveTool\"},{\"attributes\":{\"source\":{\"id\":\"a534351f-d88c-42d0-95de-2fb12fbe8b71\",\"type\":\"ColumnDataSource\"}},\"id\":\"8654a8f1-5142-4ee7-8740-0e1d6853aa53\",\"type\":\"CDSView\"},{\"attributes\":{\"grid_line_color\":{\"value\":null},\"plot\":{\"id\":\"806a028e-9d0a-4e78-acb1-6138e41a668d\",\"subtype\":\"Figure\",\"type\":\"Plot\"},\"ticker\":{\"id\":\"220d563a-b827-424a-84d4-0d81185f72e3\",\"type\":\"BasicTicker\"}},\"id\":\"1fe240bf-2ea6-49ea-881f-d834097f0378\",\"type\":\"Grid\"},{\"attributes\":{\"fill_alpha\":{\"value\":0.1},\"fill_color\":{\"value\":\"#1f77b4\"},\"height\":{\"units\":\"data\",\"value\":1},\"line_alpha\":{\"value\":0.1},\"line_color\":{\"value\":\"#1f77b4\"},\"width\":{\"units\":\"data\",\"value\":0.2},\"x\":{\"value\":0.6333333333333333},\"y\":{\"value\":0.5}},\"id\":\"ae4846ec-78d6-4307-bfa7-f6a36950c34b\",\"type\":\"Rect\"},{\"attributes\":{\"source\":{\"id\":\"84f0b854-ff65-4e7b-a8ce-610e855ce4b5\",\"type\":\"ColumnDataSource\"}},\"id\":\"cb7504ed-0e08-45ed-a348-84914af77101\",\"type\":\"CDSView\"},{\"attributes\":{\"source\":{\"id\":\"969fb8f9-a0ed-4119-add0-463945784053\",\"type\":\"ColumnDataSource\"}},\"id\":\"bcd85467-533f-4d86-a176-e6e15aa68452\",\"type\":\"CDSView\"},{\"attributes\":{\"callback\":null,\"column_names\":[\"x\",\"y\"],\"data\":{\"x\":[0,1],\"y\":[0.9,0.9]},\"selected\":null,\"selection_policy\":null},\"id\":\"cb5108fa-1c2c-4288-bb49-71888ea76d2d\",\"type\":\"ColumnDataSource\"},{\"attributes\":{\"fill_color\":{\"value\":\"green\"},\"height\":{\"units\":\"data\",\"value\":1},\"line_color\":{\"value\":\"#1f77b4\"},\"width\":{\"units\":\"data\",\"value\":0.2},\"x\":{\"value\":0.6333333333333333},\"y\":{\"value\":0.5}},\"id\":\"f166f25c-7510-455b-ac1a-17b500b51e8b\",\"type\":\"Rect\"},{\"attributes\":{\"x\":{\"field\":\"x\"},\"y\":{\"field\":\"y\"}},\"id\":\"3b3414b6-150d-4d7a-b0ce-1fa259999bce\",\"type\":\"Line\"},{\"attributes\":{},\"id\":\"bc3b809a-359b-4d63-a1b6-c3dddc5dcd58\",\"type\":\"WheelZoomTool\"},{\"attributes\":{\"data_source\":{\"id\":\"969fb8f9-a0ed-4119-add0-463945784053\",\"type\":\"ColumnDataSource\"},\"glyph\":{\"id\":\"7060aa66-a6f6-4b03-9aed-9078cc2056fe\",\"type\":\"Rect\"},\"hover_glyph\":null,\"muted_glyph\":null,\"nonselection_glyph\":{\"id\":\"6ee7db1e-c597-4418-9322-2d2d5cbbffc5\",\"type\":\"Rect\"},\"selection_glyph\":null,\"view\":{\"id\":\"bcd85467-533f-4d86-a176-e6e15aa68452\",\"type\":\"CDSView\"}},\"id\":\"827cd1d6-f2f0-443e-9350-c1367acca207\",\"type\":\"GlyphRenderer\"},{\"attributes\":{},\"id\":\"056b6cec-2f5e-4c7d-b383-cb0bade73d90\",\"type\":\"LinearScale\"},{\"attributes\":{\"dimension\":1,\"grid_line_color\":{\"value\":null},\"plot\":{\"id\":\"e7422d3c-6814-4ba8-b56c-b8c9dbf866da\",\"subtype\":\"Figure\",\"type\":\"Plot\"},\"ticker\":{\"id\":\"682895e2-566f-451a-9f0f-f34075a0c850\",\"type\":\"BasicTicker\"}},\"id\":\"0fec463b-6cf4-41da-b41e-99e307a6382e\",\"type\":\"Grid\"},{\"attributes\":{\"grid_line_color\":{\"value\":null},\"plot\":{\"id\":\"e7422d3c-6814-4ba8-b56c-b8c9dbf866da\",\"subtype\":\"Figure\",\"type\":\"Plot\"},\"ticker\":{\"id\":\"459127de-6cd6-466d-9cce-515cfc804594\",\"type\":\"BasicTicker\"}},\"id\":\"0edd8464-7069-41d2-aa7d-efba961e382b\",\"type\":\"Grid\"},{\"attributes\":{\"fill_alpha\":{\"value\":0.1},\"fill_color\":{\"value\":\"#1f77b4\"},\"height\":{\"units\":\"data\",\"value\":1},\"line_alpha\":{\"value\":0.1},\"line_color\":{\"value\":\"#1f77b4\"},\"width\":{\"units\":\"data\",\"value\":0.2},\"x\":{\"value\":0.9},\"y\":{\"value\":0.5}},\"id\":\"6ee7db1e-c597-4418-9322-2d2d5cbbffc5\",\"type\":\"Rect\"},{\"attributes\":{\"line_alpha\":0.1,\"line_color\":\"#1f77b4\",\"line_width\":2,\"x\":{\"field\":\"x\"},\"y\":{\"field\":\"y\"}},\"id\":\"69cc4a11-5cf9-4785-924f-2be606fd0986\",\"type\":\"Line\"},{\"attributes\":{\"fill_alpha\":{\"value\":0.1},\"fill_color\":{\"value\":\"#1f77b4\"},\"line_alpha\":{\"value\":0.1},\"line_color\":{\"value\":\"#1f77b4\"},\"radius\":{\"units\":\"data\",\"value\":0.06},\"x\":{\"value\":0.2666666666666667},\"y\":{\"value\":0.5}},\"id\":\"e795b0b8-ca7f-4d8d-9461-e7abbb28ad98\",\"type\":\"Circle\"},{\"attributes\":{\"data_source\":{\"id\":\"d67e11b8-cbff-406b-9459-7879c111841b\",\"type\":\"ColumnDataSource\"},\"glyph\":{\"id\":\"90c6cecb-22ce-4a0b-b7b2-013b1969aa4e\",\"type\":\"Circle\"},\"hover_glyph\":null,\"muted_glyph\":null,\"nonselection_glyph\":{\"id\":\"71c44140-23ed-4c42-9f8d-055cfee8dccc\",\"type\":\"Circle\"},\"selection_glyph\":null,\"view\":{\"id\":\"079e058c-8c0f-4a9d-acc6-fb71241aa9e6\",\"type\":\"CDSView\"}},\"id\":\"815e197f-7023-48ee-b474-903c3a3293d4\",\"type\":\"GlyphRenderer\"},{\"attributes\":{},\"id\":\"a5929f9b-cafe-4002-8cff-baf6b3f15d71\",\"type\":\"BasicTickFormatter\"},{\"attributes\":{\"fill_alpha\":{\"value\":0.1},\"fill_color\":{\"value\":\"#1f77b4\"},\"line_alpha\":{\"value\":0.1},\"line_color\":{\"value\":\"#1f77b4\"},\"radius\":{\"units\":\"data\",\"value\":0.03},\"x\":{\"value\":0.1},\"y\":{\"value\":0.5}},\"id\":\"71c44140-23ed-4c42-9f8d-055cfee8dccc\",\"type\":\"Circle\"},{\"attributes\":{\"fill_color\":{\"value\":\"grey\"},\"line_color\":{\"value\":null},\"radius\":{\"units\":\"data\",\"value\":0.09},\"x\":{\"value\":0.5333333333333333},\"y\":{\"value\":0.5}},\"id\":\"f8a87844-db24-49d6-9df1-1c3df16117b0\",\"type\":\"Circle\"},{\"attributes\":{\"source\":{\"id\":\"d67e11b8-cbff-406b-9459-7879c111841b\",\"type\":\"ColumnDataSource\"}},\"id\":\"079e058c-8c0f-4a9d-acc6-fb71241aa9e6\",\"type\":\"CDSView\"},{\"attributes\":{},\"id\":\"bcc86107-c213-42d0-b081-8a78a458430f\",\"type\":\"PanTool\"},{\"attributes\":{\"bottom_units\":\"screen\",\"fill_alpha\":{\"value\":0.5},\"fill_color\":{\"value\":\"lightgrey\"},\"left_units\":\"screen\",\"level\":\"overlay\",\"line_alpha\":{\"value\":1.0},\"line_color\":{\"value\":\"black\"},\"line_dash\":[4,4],\"line_width\":{\"value\":2},\"plot\":null,\"render_mode\":\"css\",\"right_units\":\"screen\",\"top_units\":\"screen\"},\"id\":\"e4822a9c-d592-4a30-a5ea-6c2fe0ea51c2\",\"type\":\"BoxAnnotation\"},{\"attributes\":{},\"id\":\"fef2cd95-19ee-40eb-984a-a8767485d9f2\",\"type\":\"WheelZoomTool\"},{\"attributes\":{\"overlay\":{\"id\":\"e4822a9c-d592-4a30-a5ea-6c2fe0ea51c2\",\"type\":\"BoxAnnotation\"}},\"id\":\"b7c891c8-6582-45f8-871e-60c7f9e2b0ac\",\"type\":\"BoxZoomTool\"},{\"attributes\":{},\"id\":\"3143fb66-78ee-4d54-a564-aaa147b08c58\",\"type\":\"SaveTool\"},{\"attributes\":{},\"id\":\"de19d81d-9c5d-4f19-993c-e55e1e444d04\",\"type\":\"ResetTool\"},{\"attributes\":{},\"id\":\"ed35e67a-276b-476b-9aa9-1ce4352e0857\",\"type\":\"BasicTickFormatter\"},{\"attributes\":{\"callback\":null,\"data\":{},\"selected\":null,\"selection_policy\":null},\"id\":\"a534351f-d88c-42d0-95de-2fb12fbe8b71\",\"type\":\"ColumnDataSource\"},{\"attributes\":{\"callback\":null,\"column_names\":[\"x\",\"y\"],\"data\":{\"x\":[0,1],\"y\":[0.7,0.7]},\"selected\":null,\"selection_policy\":null},\"id\":\"a5cf120d-ae05-4214-8ba5-3f17cfa75b90\",\"type\":\"ColumnDataSource\"},{\"attributes\":{\"data_source\":{\"id\":\"f1c4c8da-9406-4824-8c96-31adcd5ae857\",\"type\":\"ColumnDataSource\"},\"glyph\":{\"id\":\"6985ad6d-037c-421d-b696-2874ea0c24dd\",\"type\":\"Circle\"},\"hover_glyph\":null,\"muted_glyph\":null,\"nonselection_glyph\":{\"id\":\"e795b0b8-ca7f-4d8d-9461-e7abbb28ad98\",\"type\":\"Circle\"},\"selection_glyph\":null,\"view\":{\"id\":\"b51fb306-e2dc-4e64-800e-902e7624c5cb\",\"type\":\"CDSView\"}},\"id\":\"57c40e03-cb49-4e7c-b7b3-3d4710dae4da\",\"type\":\"GlyphRenderer\"},{\"attributes\":{\"source\":{\"id\":\"f1c4c8da-9406-4824-8c96-31adcd5ae857\",\"type\":\"ColumnDataSource\"}},\"id\":\"b51fb306-e2dc-4e64-800e-902e7624c5cb\",\"type\":\"CDSView\"},{\"attributes\":{\"callback\":null,\"data\":{},\"selected\":null,\"selection_policy\":null},\"id\":\"f2193e8f-ddf7-4c6a-b2a1-5df3f518ade2\",\"type\":\"ColumnDataSource\"},{\"attributes\":{\"fill_alpha\":{\"value\":0.1},\"fill_color\":{\"value\":\"#1f77b4\"},\"line_alpha\":{\"value\":0.1},\"line_color\":{\"value\":\"#1f77b4\"},\"radius\":{\"units\":\"data\",\"value\":0.09},\"x\":{\"value\":0.5333333333333333},\"y\":{\"value\":0.5}},\"id\":\"81076728-12e6-4515-ba09-611f086237e5\",\"type\":\"Circle\"},{\"attributes\":{\"source\":{\"id\":\"1e78ceb3-ac7c-4e87-9224-141b24f48d78\",\"type\":\"ColumnDataSource\"}},\"id\":\"e932381c-94f1-4b1a-aece-fed460f71b73\",\"type\":\"CDSView\"},{\"attributes\":{\"fill_color\":{\"value\":\"grey\"},\"line_color\":{\"value\":null},\"radius\":{\"units\":\"data\",\"value\":0.12},\"x\":{\"value\":0.8},\"y\":{\"value\":0.5}},\"id\":\"06b1e05c-8836-4b17-ae62-d2e3d550b472\",\"type\":\"Circle\"},{\"attributes\":{\"data_source\":{\"id\":\"1e78ceb3-ac7c-4e87-9224-141b24f48d78\",\"type\":\"ColumnDataSource\"},\"glyph\":{\"id\":\"f8a87844-db24-49d6-9df1-1c3df16117b0\",\"type\":\"Circle\"},\"hover_glyph\":null,\"muted_glyph\":null,\"nonselection_glyph\":{\"id\":\"81076728-12e6-4515-ba09-611f086237e5\",\"type\":\"Circle\"},\"selection_glyph\":null,\"view\":{\"id\":\"e932381c-94f1-4b1a-aece-fed460f71b73\",\"type\":\"CDSView\"}},\"id\":\"6663a31e-1877-483d-97f8-d57615604b9d\",\"type\":\"GlyphRenderer\"},{\"attributes\":{\"fill_alpha\":{\"value\":0.1},\"fill_color\":{\"value\":\"#1f77b4\"},\"line_alpha\":{\"value\":0.1},\"line_color\":{\"value\":\"#1f77b4\"},\"radius\":{\"units\":\"data\",\"value\":0.12},\"x\":{\"value\":0.8},\"y\":{\"value\":0.5}},\"id\":\"9136a7a1-ed81-428a-96b9-b649de203fa8\",\"type\":\"Circle\"},{\"attributes\":{\"source\":{\"id\":\"f2193e8f-ddf7-4c6a-b2a1-5df3f518ade2\",\"type\":\"ColumnDataSource\"}},\"id\":\"7254e5ab-e903-4895-a662-33b898103e09\",\"type\":\"CDSView\"},{\"attributes\":{},\"id\":\"4912491e-6764-41b9-9e3b-a82a3a8b2c9e\",\"type\":\"ResetTool\"},{\"attributes\":{\"data_source\":{\"id\":\"f2193e8f-ddf7-4c6a-b2a1-5df3f518ade2\",\"type\":\"ColumnDataSource\"},\"glyph\":{\"id\":\"06b1e05c-8836-4b17-ae62-d2e3d550b472\",\"type\":\"Circle\"},\"hover_glyph\":null,\"muted_glyph\":null,\"nonselection_glyph\":{\"id\":\"9136a7a1-ed81-428a-96b9-b649de203fa8\",\"type\":\"Circle\"},\"selection_glyph\":null,\"view\":{\"id\":\"7254e5ab-e903-4895-a662-33b898103e09\",\"type\":\"CDSView\"}},\"id\":\"4d9098e6-d78f-45b2-bf93-c0c6d46c32a1\",\"type\":\"GlyphRenderer\"},{\"attributes\":{\"fill_color\":{\"value\":\"blue\"},\"height\":{\"units\":\"data\",\"value\":1},\"line_color\":{\"value\":\"#1f77b4\"},\"width\":{\"units\":\"data\",\"value\":0.2},\"x\":{\"value\":0.3666666666666667},\"y\":{\"value\":0.5}},\"id\":\"cf745053-1a51-4816-872f-e3b37b63b9f6\",\"type\":\"Rect\"},{\"attributes\":{\"overlay\":{\"id\":\"2703c2b0-693e-45ae-98f9-5fb8ee88a15e\",\"type\":\"BoxAnnotation\"}},\"id\":\"c05de3d0-7996-479f-b546-942e34e2ff03\",\"type\":\"BoxZoomTool\"},{\"attributes\":{},\"id\":\"1b0d285b-6189-4591-9a8c-2efd4f532f13\",\"type\":\"HelpTool\"},{\"attributes\":{},\"id\":\"2a84243c-4e95-48db-a762-4c0ef73ab3d9\",\"type\":\"SaveTool\"},{\"attributes\":{\"data_source\":{\"id\":\"56907a6b-8d37-445b-83c8-4430fdca568a\",\"type\":\"ColumnDataSource\"},\"glyph\":{\"id\":\"9176db67-5063-40e0-87ae-5b88e6f7dda0\",\"type\":\"Line\"},\"hover_glyph\":null,\"muted_glyph\":null,\"nonselection_glyph\":{\"id\":\"14b36284-bbc2-40cf-9665-137f44277b17\",\"type\":\"Line\"},\"selection_glyph\":null,\"view\":{\"id\":\"1bac09d1-8149-4d86-a742-f439c637f3bf\",\"type\":\"CDSView\"}},\"id\":\"0b243d09-57fa-4bbb-a31d-b23db98f9343\",\"type\":\"GlyphRenderer\"},{\"attributes\":{\"line_alpha\":0.1,\"line_color\":\"#1f77b4\",\"x\":{\"field\":\"x\"},\"y\":{\"value\":0.5}},\"id\":\"14b36284-bbc2-40cf-9665-137f44277b17\",\"type\":\"Line\"},{\"attributes\":{\"callback\":null,\"data\":{},\"selected\":null,\"selection_policy\":null},\"id\":\"1137577a-26ae-4b3a-b91c-fa93c5327145\",\"type\":\"ColumnDataSource\"},{\"attributes\":{},\"id\":\"a329f8df-bd17-4440-9470-5c2c4c0e8e0c\",\"type\":\"BasicTicker\"},{\"attributes\":{},\"id\":\"a3e422fe-b670-4695-b77e-8f6295cfa28f\",\"type\":\"LinearScale\"},{\"attributes\":{\"plot\":null,\"text\":\"colour\"},\"id\":\"6c9d10f3-feb2-41a7-b4be-a7f1207f126a\",\"type\":\"Title\"},{\"attributes\":{\"grid_line_color\":{\"value\":null},\"plot\":{\"id\":\"1dcc709b-4469-4da0-9459-354f9b7a8096\",\"subtype\":\"Figure\",\"type\":\"Plot\"},\"ticker\":{\"id\":\"3c98b72c-e054-42dc-b6c6-056d63c7faaa\",\"type\":\"BasicTicker\"}},\"id\":\"25e7b608-3c86-4bd0-8b40-12421e8313f0\",\"type\":\"Grid\"},{\"attributes\":{\"fill_alpha\":{\"value\":0.1},\"fill_color\":{\"value\":\"#1f77b4\"},\"height\":{\"units\":\"data\",\"value\":1},\"line_alpha\":{\"value\":0.1},\"line_color\":{\"value\":\"#1f77b4\"},\"width\":{\"units\":\"data\",\"value\":0.2},\"x\":{\"value\":0.1},\"y\":{\"value\":0.5}},\"id\":\"d38298b7-fc62-40d0-9bcc-b7ec593a3fce\",\"type\":\"Rect\"},{\"attributes\":{\"formatter\":{\"id\":\"8783c564-dda7-4cee-a2c0-5aad6b96f7a8\",\"type\":\"BasicTickFormatter\"},\"plot\":{\"id\":\"1dcc709b-4469-4da0-9459-354f9b7a8096\",\"subtype\":\"Figure\",\"type\":\"Plot\"},\"ticker\":{\"id\":\"a329f8df-bd17-4440-9470-5c2c4c0e8e0c\",\"type\":\"BasicTicker\"},\"visible\":false},\"id\":\"05d13f33-6b0e-448c-802a-1f5f4a7cdb62\",\"type\":\"LinearAxis\"},{\"attributes\":{\"active_drag\":\"auto\",\"active_inspect\":\"auto\",\"active_scroll\":\"auto\",\"active_tap\":\"auto\",\"tools\":[{\"id\":\"9961766b-f6f9-42d0-9452-0c3af180c817\",\"type\":\"PanTool\"},{\"id\":\"4950f552-60d8-4149-86ee-ade3d0cf1039\",\"type\":\"WheelZoomTool\"},{\"id\":\"c05de3d0-7996-479f-b546-942e34e2ff03\",\"type\":\"BoxZoomTool\"},{\"id\":\"2a84243c-4e95-48db-a762-4c0ef73ab3d9\",\"type\":\"SaveTool\"},{\"id\":\"4912491e-6764-41b9-9e3b-a82a3a8b2c9e\",\"type\":\"ResetTool\"},{\"id\":\"1b0d285b-6189-4591-9a8c-2efd4f532f13\",\"type\":\"HelpTool\"}]},\"id\":\"a92e788b-46b2-46d8-b0e5-6ca8dadbcd3a\",\"type\":\"Toolbar\"},{\"attributes\":{\"bounds\":[0,1],\"callback\":null},\"id\":\"bbd3185a-7411-4ecb-9c9d-242643ca4bab\",\"type\":\"Range1d\"},{\"attributes\":{},\"id\":\"27437eda-9d11-448b-913d-95b5df498c1b\",\"type\":\"LinearScale\"},{\"attributes\":{\"bounds\":[0,1],\"callback\":null},\"id\":\"be0924de-ff03-49e9-9081-169dada1d24b\",\"type\":\"Range1d\"},{\"attributes\":{\"fill_color\":{\"value\":\"orange\"},\"height\":{\"units\":\"data\",\"value\":1},\"line_color\":{\"value\":\"#1f77b4\"},\"width\":{\"units\":\"data\",\"value\":0.2},\"x\":{\"value\":0.1},\"y\":{\"value\":0.5}},\"id\":\"a8a11342-8098-49c3-88bb-d8655df9d2ef\",\"type\":\"Rect\"},{\"attributes\":{},\"id\":\"3c98b72c-e054-42dc-b6c6-056d63c7faaa\",\"type\":\"BasicTicker\"},{\"attributes\":{\"formatter\":{\"id\":\"7dca6d0a-8d0f-4916-806d-ce1848cb30bf\",\"type\":\"BasicTickFormatter\"},\"plot\":{\"id\":\"1dcc709b-4469-4da0-9459-354f9b7a8096\",\"subtype\":\"Figure\",\"type\":\"Plot\"},\"ticker\":{\"id\":\"3c98b72c-e054-42dc-b6c6-056d63c7faaa\",\"type\":\"BasicTicker\"},\"visible\":false},\"id\":\"96bfa5d6-dfe0-4f5c-ac0f-ea47fa4ff934\",\"type\":\"LinearAxis\"},{\"attributes\":{\"data_source\":{\"id\":\"1137577a-26ae-4b3a-b91c-fa93c5327145\",\"type\":\"ColumnDataSource\"},\"glyph\":{\"id\":\"a8a11342-8098-49c3-88bb-d8655df9d2ef\",\"type\":\"Rect\"},\"hover_glyph\":null,\"muted_glyph\":null,\"nonselection_glyph\":{\"id\":\"d38298b7-fc62-40d0-9bcc-b7ec593a3fce\",\"type\":\"Rect\"},\"selection_glyph\":null,\"view\":{\"id\":\"b30ac0a5-9b30-473d-bee6-06f3fb58f5c7\",\"type\":\"CDSView\"}},\"id\":\"c8074f87-dd13-4560-a378-0f14428a51c2\",\"type\":\"GlyphRenderer\"},{\"attributes\":{},\"id\":\"7dca6d0a-8d0f-4916-806d-ce1848cb30bf\",\"type\":\"BasicTickFormatter\"},{\"attributes\":{\"dimension\":1,\"grid_line_color\":{\"value\":null},\"plot\":{\"id\":\"1dcc709b-4469-4da0-9459-354f9b7a8096\",\"subtype\":\"Figure\",\"type\":\"Plot\"},\"ticker\":{\"id\":\"a329f8df-bd17-4440-9470-5c2c4c0e8e0c\",\"type\":\"BasicTicker\"}},\"id\":\"15b3705f-0442-4e5a-9f6d-b48a592b73e9\",\"type\":\"Grid\"},{\"attributes\":{\"source\":{\"id\":\"1137577a-26ae-4b3a-b91c-fa93c5327145\",\"type\":\"ColumnDataSource\"}},\"id\":\"b30ac0a5-9b30-473d-bee6-06f3fb58f5c7\",\"type\":\"CDSView\"},{\"attributes\":{},\"id\":\"9961766b-f6f9-42d0-9452-0c3af180c817\",\"type\":\"PanTool\"},{\"attributes\":{\"callback\":null,\"column_names\":[\"x\",\"y\"],\"data\":{\"x\":[0,1],\"y\":[0.45,0.45]},\"selected\":null,\"selection_policy\":null},\"id\":\"1fdf2d6d-463e-406e-a602-ee4b831f8601\",\"type\":\"ColumnDataSource\"},{\"attributes\":{},\"id\":\"4950f552-60d8-4149-86ee-ade3d0cf1039\",\"type\":\"WheelZoomTool\"},{\"attributes\":{\"bounds\":[0,1],\"callback\":null},\"id\":\"b26d6609-3e6d-4702-b5d1-57141b2ae665\",\"type\":\"Range1d\"},{\"attributes\":{},\"id\":\"a6388b3c-a76c-4a1c-8b5d-195c453e23b6\",\"type\":\"BasicTickFormatter\"},{\"attributes\":{\"bounds\":[0,1],\"callback\":null},\"id\":\"b25edfe4-ed3e-4586-9e1a-00abb4483deb\",\"type\":\"Range1d\"},{\"attributes\":{},\"id\":\"d500b8fc-c83e-477e-a84a-a0f4abe7cdbd\",\"type\":\"LinearScale\"},{\"attributes\":{\"below\":[{\"id\":\"40da5e48-50d8-4243-85c8-d5a9683964f2\",\"type\":\"LinearAxis\"}],\"left\":[{\"id\":\"abca56e7-f4c6-42af-884d-f3c4477c9c72\",\"type\":\"LinearAxis\"}],\"plot_height\":150,\"plot_width\":200,\"renderers\":[{\"id\":\"40da5e48-50d8-4243-85c8-d5a9683964f2\",\"type\":\"LinearAxis\"},{\"id\":\"a22a2b34-012e-4918-9a8f-2bb94598a561\",\"type\":\"Grid\"},{\"id\":\"abca56e7-f4c6-42af-884d-f3c4477c9c72\",\"type\":\"LinearAxis\"},{\"id\":\"fd57c3b1-30c6-473a-8bbd-e6f63379e47d\",\"type\":\"Grid\"},{\"id\":\"20681c7d-7b51-4326-ab84-251d3f67d2f0\",\"type\":\"BoxAnnotation\"},{\"id\":\"2704ca33-7f1b-402d-95e7-a497f60aaa95\",\"type\":\"GlyphRenderer\"},{\"id\":\"ed14ca54-b4c7-4aa7-83f0-8cdd34e46ade\",\"type\":\"GlyphRenderer\"},{\"id\":\"1b8f4a69-0568-47cd-b488-3bd3e7a68b1a\",\"type\":\"GlyphRenderer\"},{\"id\":\"21a652ea-a2ce-40c9-9864-75821757deab\",\"type\":\"GlyphRenderer\"}],\"title\":{\"id\":\"6ab6b84d-1cd3-46f1-a2e7-a7ed43020f3d\",\"type\":\"Title\"},\"toolbar\":{\"id\":\"a11250a9-d7f9-403e-a7f8-cf1e8d314579\",\"type\":\"Toolbar\"},\"toolbar_location\":null,\"x_range\":{\"id\":\"b26d6609-3e6d-4702-b5d1-57141b2ae665\",\"type\":\"Range1d\"},\"x_scale\":{\"id\":\"d500b8fc-c83e-477e-a84a-a0f4abe7cdbd\",\"type\":\"LinearScale\"},\"y_range\":{\"id\":\"b25edfe4-ed3e-4586-9e1a-00abb4483deb\",\"type\":\"Range1d\"},\"y_scale\":{\"id\":\"414728f9-ab9b-46da-bf74-53fe21e5e40e\",\"type\":\"LinearScale\"}},\"id\":\"515de868-3f93-47c7-a1bc-ba5736791dad\",\"subtype\":\"Figure\",\"type\":\"Plot\"},{\"attributes\":{\"plot\":null,\"text\":\"line width\"},\"id\":\"6ab6b84d-1cd3-46f1-a2e7-a7ed43020f3d\",\"type\":\"Title\"},{\"attributes\":{\"active_drag\":\"auto\",\"active_inspect\":\"auto\",\"active_scroll\":\"auto\",\"active_tap\":\"auto\",\"tools\":[{\"id\":\"2ccf6826-8ebe-4a56-8d23-15ca0fc99ded\",\"type\":\"PanTool\"},{\"id\":\"552d596a-546b-423f-8c1e-31e40dcf7689\",\"type\":\"WheelZoomTool\"},{\"id\":\"5fd5832d-9b49-4f7c-af79-91008ad6e329\",\"type\":\"BoxZoomTool\"},{\"id\":\"3108dc5c-c7b3-4d89-a0e4-5ca3dc0db1ba\",\"type\":\"SaveTool\"},{\"id\":\"6a1efd56-21e3-4dd6-9df3-8e38fbcd8a86\",\"type\":\"ResetTool\"},{\"id\":\"65a2ef42-61e3-43dd-bba5-ad6a89907d50\",\"type\":\"HelpTool\"}]},\"id\":\"a11250a9-d7f9-403e-a7f8-cf1e8d314579\",\"type\":\"Toolbar\"},{\"attributes\":{\"data_source\":{\"id\":\"cb5108fa-1c2c-4288-bb49-71888ea76d2d\",\"type\":\"ColumnDataSource\"},\"glyph\":{\"id\":\"3b3414b6-150d-4d7a-b0ce-1fa259999bce\",\"type\":\"Line\"},\"hover_glyph\":null,\"muted_glyph\":null,\"nonselection_glyph\":{\"id\":\"08a123c1-235b-4d9d-bcc4-f9bb682f42dc\",\"type\":\"Line\"},\"selection_glyph\":null,\"view\":{\"id\":\"9226a0dc-3fdb-42a9-a354-302f4be6c088\",\"type\":\"CDSView\"}},\"id\":\"2704ca33-7f1b-402d-95e7-a497f60aaa95\",\"type\":\"GlyphRenderer\"},{\"attributes\":{\"grid_line_color\":{\"value\":null},\"plot\":{\"id\":\"515de868-3f93-47c7-a1bc-ba5736791dad\",\"subtype\":\"Figure\",\"type\":\"Plot\"},\"ticker\":{\"id\":\"6ce14bab-51e6-426a-ab0a-35979827264d\",\"type\":\"BasicTicker\"}},\"id\":\"a22a2b34-012e-4918-9a8f-2bb94598a561\",\"type\":\"Grid\"},{\"attributes\":{},\"id\":\"414728f9-ab9b-46da-bf74-53fe21e5e40e\",\"type\":\"LinearScale\"},{\"attributes\":{\"formatter\":{\"id\":\"361fd940-218c-4788-b39c-47e651014230\",\"type\":\"BasicTickFormatter\"},\"plot\":{\"id\":\"515de868-3f93-47c7-a1bc-ba5736791dad\",\"subtype\":\"Figure\",\"type\":\"Plot\"},\"ticker\":{\"id\":\"6ce14bab-51e6-426a-ab0a-35979827264d\",\"type\":\"BasicTicker\"},\"visible\":false},\"id\":\"40da5e48-50d8-4243-85c8-d5a9683964f2\",\"type\":\"LinearAxis\"},{\"attributes\":{},\"id\":\"6ce14bab-51e6-426a-ab0a-35979827264d\",\"type\":\"BasicTicker\"},{\"attributes\":{\"formatter\":{\"id\":\"a6388b3c-a76c-4a1c-8b5d-195c453e23b6\",\"type\":\"BasicTickFormatter\"},\"plot\":{\"id\":\"515de868-3f93-47c7-a1bc-ba5736791dad\",\"subtype\":\"Figure\",\"type\":\"Plot\"},\"ticker\":{\"id\":\"1d954467-f915-44b4-b560-ea040f6a5bba\",\"type\":\"BasicTicker\"},\"visible\":false},\"id\":\"abca56e7-f4c6-42af-884d-f3c4477c9c72\",\"type\":\"LinearAxis\"},{\"attributes\":{\"callback\":null,\"column_names\":[\"x\",\"y\"],\"data\":{\"x\":[0,1],\"y\":[0.2,0.2]},\"selected\":null,\"selection_policy\":null},\"id\":\"039eede1-29c8-4e9c-9975-3a5db5e7ab73\",\"type\":\"ColumnDataSource\"},{\"attributes\":{\"line_width\":6,\"x\":{\"field\":\"x\"},\"y\":{\"field\":\"y\"}},\"id\":\"7158608f-ecf0-4f6f-9586-d1272ad15c67\",\"type\":\"Line\"},{\"attributes\":{},\"id\":\"1d954467-f915-44b4-b560-ea040f6a5bba\",\"type\":\"BasicTicker\"},{\"attributes\":{\"dimension\":1,\"grid_line_color\":{\"value\":null},\"plot\":{\"id\":\"515de868-3f93-47c7-a1bc-ba5736791dad\",\"subtype\":\"Figure\",\"type\":\"Plot\"},\"ticker\":{\"id\":\"1d954467-f915-44b4-b560-ea040f6a5bba\",\"type\":\"BasicTicker\"}},\"id\":\"fd57c3b1-30c6-473a-8bbd-e6f63379e47d\",\"type\":\"Grid\"},{\"attributes\":{\"source\":{\"id\":\"cb5108fa-1c2c-4288-bb49-71888ea76d2d\",\"type\":\"ColumnDataSource\"}},\"id\":\"9226a0dc-3fdb-42a9-a354-302f4be6c088\",\"type\":\"CDSView\"},{\"attributes\":{\"line_alpha\":0.1,\"line_color\":\"#1f77b4\",\"x\":{\"field\":\"x\"},\"y\":{\"field\":\"y\"}},\"id\":\"08a123c1-235b-4d9d-bcc4-f9bb682f42dc\",\"type\":\"Line\"},{\"attributes\":{\"line_width\":3,\"x\":{\"field\":\"x\"},\"y\":{\"field\":\"y\"}},\"id\":\"2879c754-f25e-477f-afaf-8c21b8650068\",\"type\":\"Line\"},{\"attributes\":{\"bottom_units\":\"screen\",\"fill_alpha\":{\"value\":0.5},\"fill_color\":{\"value\":\"lightgrey\"},\"left_units\":\"screen\",\"level\":\"overlay\",\"line_alpha\":{\"value\":1.0},\"line_color\":{\"value\":\"black\"},\"line_dash\":[4,4],\"line_width\":{\"value\":2},\"plot\":null,\"render_mode\":\"css\",\"right_units\":\"screen\",\"top_units\":\"screen\"},\"id\":\"20681c7d-7b51-4326-ab84-251d3f67d2f0\",\"type\":\"BoxAnnotation\"},{\"attributes\":{},\"id\":\"2ccf6826-8ebe-4a56-8d23-15ca0fc99ded\",\"type\":\"PanTool\"},{\"attributes\":{},\"id\":\"361fd940-218c-4788-b39c-47e651014230\",\"type\":\"BasicTickFormatter\"},{\"attributes\":{},\"id\":\"552d596a-546b-423f-8c1e-31e40dcf7689\",\"type\":\"WheelZoomTool\"},{\"attributes\":{\"overlay\":{\"id\":\"20681c7d-7b51-4326-ab84-251d3f67d2f0\",\"type\":\"BoxAnnotation\"}},\"id\":\"5fd5832d-9b49-4f7c-af79-91008ad6e329\",\"type\":\"BoxZoomTool\"},{\"attributes\":{},\"id\":\"3108dc5c-c7b3-4d89-a0e4-5ca3dc0db1ba\",\"type\":\"SaveTool\"},{\"attributes\":{},\"id\":\"6a1efd56-21e3-4dd6-9df3-8e38fbcd8a86\",\"type\":\"ResetTool\"},{\"attributes\":{},\"id\":\"65a2ef42-61e3-43dd-bba5-ad6a89907d50\",\"type\":\"HelpTool\"},{\"attributes\":{\"overlay\":{\"id\":\"6684089d-224e-4610-b28e-c72bdd946b28\",\"type\":\"BoxAnnotation\"}},\"id\":\"4067b185-1093-404b-89d1-dc9b575a5493\",\"type\":\"BoxZoomTool\"},{\"attributes\":{\"source\":{\"id\":\"a5cf120d-ae05-4214-8ba5-3f17cfa75b90\",\"type\":\"ColumnDataSource\"}},\"id\":\"bb846826-d302-4f07-b624-3b00329c05e3\",\"type\":\"CDSView\"},{\"attributes\":{\"data_source\":{\"id\":\"039eede1-29c8-4e9c-9975-3a5db5e7ab73\",\"type\":\"ColumnDataSource\"},\"glyph\":{\"id\":\"474e0a4e-7b8f-4caa-ad30-32d2e8f1a855\",\"type\":\"Line\"},\"hover_glyph\":null,\"muted_glyph\":null,\"nonselection_glyph\":{\"id\":\"59d74806-bdc1-444b-a3a0-c63afc7adc6a\",\"type\":\"Line\"},\"selection_glyph\":null,\"view\":{\"id\":\"8c399a7b-a183-44ea-888b-26823f429911\",\"type\":\"CDSView\"}},\"id\":\"21a652ea-a2ce-40c9-9864-75821757deab\",\"type\":\"GlyphRenderer\"},{\"attributes\":{\"line_alpha\":0.1,\"line_color\":\"#1f77b4\",\"line_width\":3,\"x\":{\"field\":\"x\"},\"y\":{\"field\":\"y\"}},\"id\":\"b94a5a1a-f35f-4e6a-af36-f1aae2cff3fc\",\"type\":\"Line\"},{\"attributes\":{\"data_source\":{\"id\":\"a5cf120d-ae05-4214-8ba5-3f17cfa75b90\",\"type\":\"ColumnDataSource\"},\"glyph\":{\"id\":\"2879c754-f25e-477f-afaf-8c21b8650068\",\"type\":\"Line\"},\"hover_glyph\":null,\"muted_glyph\":null,\"nonselection_glyph\":{\"id\":\"b94a5a1a-f35f-4e6a-af36-f1aae2cff3fc\",\"type\":\"Line\"},\"selection_glyph\":null,\"view\":{\"id\":\"bb846826-d302-4f07-b624-3b00329c05e3\",\"type\":\"CDSView\"}},\"id\":\"ed14ca54-b4c7-4aa7-83f0-8cdd34e46ade\",\"type\":\"GlyphRenderer\"},{\"attributes\":{\"line_alpha\":0.1,\"line_color\":\"#1f77b4\",\"line_width\":6,\"x\":{\"field\":\"x\"},\"y\":{\"field\":\"y\"}},\"id\":\"8090c20e-5aee-480a-bc65-905fb01bd3ba\",\"type\":\"Line\"},{\"attributes\":{\"line_width\":8,\"x\":{\"field\":\"x\"},\"y\":{\"field\":\"y\"}},\"id\":\"474e0a4e-7b8f-4caa-ad30-32d2e8f1a855\",\"type\":\"Line\"},{\"attributes\":{\"data_source\":{\"id\":\"1fdf2d6d-463e-406e-a602-ee4b831f8601\",\"type\":\"ColumnDataSource\"},\"glyph\":{\"id\":\"7158608f-ecf0-4f6f-9586-d1272ad15c67\",\"type\":\"Line\"},\"hover_glyph\":null,\"muted_glyph\":null,\"nonselection_glyph\":{\"id\":\"8090c20e-5aee-480a-bc65-905fb01bd3ba\",\"type\":\"Line\"},\"selection_glyph\":null,\"view\":{\"id\":\"99fe4250-1177-4ce9-86cc-f43323be72cd\",\"type\":\"CDSView\"}},\"id\":\"1b8f4a69-0568-47cd-b488-3bd3e7a68b1a\",\"type\":\"GlyphRenderer\"},{\"attributes\":{\"source\":{\"id\":\"1fdf2d6d-463e-406e-a602-ee4b831f8601\",\"type\":\"ColumnDataSource\"}},\"id\":\"99fe4250-1177-4ce9-86cc-f43323be72cd\",\"type\":\"CDSView\"},{\"attributes\":{},\"id\":\"a49d4ab7-5909-47c6-b746-39e98d26e626\",\"type\":\"LinearScale\"},{\"attributes\":{\"line_alpha\":0.1,\"line_color\":\"#1f77b4\",\"line_width\":8,\"x\":{\"field\":\"x\"},\"y\":{\"field\":\"y\"}},\"id\":\"59d74806-bdc1-444b-a3a0-c63afc7adc6a\",\"type\":\"Line\"},{\"attributes\":{\"source\":{\"id\":\"039eede1-29c8-4e9c-9975-3a5db5e7ab73\",\"type\":\"ColumnDataSource\"}},\"id\":\"8c399a7b-a183-44ea-888b-26823f429911\",\"type\":\"CDSView\"},{\"attributes\":{},\"id\":\"3ecb76ab-24de-45ca-bed1-7618356530a9\",\"type\":\"SaveTool\"},{\"attributes\":{\"below\":[{\"id\":\"dee50ad0-253f-43ff-aa0a-02d85399d8b9\",\"type\":\"LinearAxis\"}],\"left\":[{\"id\":\"9b484305-62bb-474a-b0ee-8ee67fcff0e2\",\"type\":\"LinearAxis\"}],\"plot_height\":150,\"plot_width\":200,\"renderers\":[{\"id\":\"dee50ad0-253f-43ff-aa0a-02d85399d8b9\",\"type\":\"LinearAxis\"},{\"id\":\"0edd8464-7069-41d2-aa7d-efba961e382b\",\"type\":\"Grid\"},{\"id\":\"9b484305-62bb-474a-b0ee-8ee67fcff0e2\",\"type\":\"LinearAxis\"},{\"id\":\"0fec463b-6cf4-41da-b41e-99e307a6382e\",\"type\":\"Grid\"},{\"id\":\"6684089d-224e-4610-b28e-c72bdd946b28\",\"type\":\"BoxAnnotation\"},{\"id\":\"1ea5afa2-87bd-4a3b-8746-d3fbe72a75e7\",\"type\":\"GlyphRenderer\"},{\"id\":\"3d2e8d42-c6cc-4f5d-91a8-bae0e96815fb\",\"type\":\"GlyphRenderer\"},{\"id\":\"43e32788-c87c-45cf-9ab6-c60b55efffb0\",\"type\":\"GlyphRenderer\"},{\"id\":\"62922b1e-b856-4a66-af03-21312a443401\",\"type\":\"GlyphRenderer\"}],\"title\":{\"id\":\"d0c6a2ab-eaf3-406c-9d59-b9ce50acd383\",\"type\":\"Title\"},\"toolbar\":{\"id\":\"797fa7ed-29fd-403d-ac44-b8c0f8f0a855\",\"type\":\"Toolbar\"},\"toolbar_location\":null,\"x_range\":{\"id\":\"7ed6f9c4-0aaf-4270-bbfe-495a1d22e1c0\",\"type\":\"Range1d\"},\"x_scale\":{\"id\":\"691a878f-39de-426e-a634-b6ac7149e27a\",\"type\":\"LinearScale\"},\"y_range\":{\"id\":\"32091820-03b9-43fd-a9f1-95d1fc5cf853\",\"type\":\"Range1d\"},\"y_scale\":{\"id\":\"a49d4ab7-5909-47c6-b746-39e98d26e626\",\"type\":\"LinearScale\"}},\"id\":\"e7422d3c-6814-4ba8-b56c-b8c9dbf866da\",\"subtype\":\"Figure\",\"type\":\"Plot\"},{\"attributes\":{\"formatter\":{\"id\":\"339b1cf4-33ea-424f-b087-c06c2a6faffe\",\"type\":\"BasicTickFormatter\"},\"plot\":{\"id\":\"e7422d3c-6814-4ba8-b56c-b8c9dbf866da\",\"subtype\":\"Figure\",\"type\":\"Plot\"},\"ticker\":{\"id\":\"459127de-6cd6-466d-9cce-515cfc804594\",\"type\":\"BasicTicker\"},\"visible\":false},\"id\":\"dee50ad0-253f-43ff-aa0a-02d85399d8b9\",\"type\":\"LinearAxis\"},{\"attributes\":{\"active_drag\":\"auto\",\"active_inspect\":\"auto\",\"active_scroll\":\"auto\",\"active_tap\":\"auto\",\"tools\":[{\"id\":\"5badc4a1-41e7-4839-af68-cc381a8054cc\",\"type\":\"PanTool\"},{\"id\":\"bc3b809a-359b-4d63-a1b6-c3dddc5dcd58\",\"type\":\"WheelZoomTool\"},{\"id\":\"4067b185-1093-404b-89d1-dc9b575a5493\",\"type\":\"BoxZoomTool\"},{\"id\":\"3ecb76ab-24de-45ca-bed1-7618356530a9\",\"type\":\"SaveTool\"},{\"id\":\"cff4289c-2cda-4922-ab36-d8317492a06a\",\"type\":\"ResetTool\"},{\"id\":\"330a1917-5b8c-4ba9-a220-5863f1aa06cb\",\"type\":\"HelpTool\"}]},\"id\":\"797fa7ed-29fd-403d-ac44-b8c0f8f0a855\",\"type\":\"Toolbar\"},{\"attributes\":{\"plot\":null,\"text\":\"line type\"},\"id\":\"d0c6a2ab-eaf3-406c-9d59-b9ce50acd383\",\"type\":\"Title\"},{\"attributes\":{\"bounds\":[0,1],\"callback\":null},\"id\":\"32091820-03b9-43fd-a9f1-95d1fc5cf853\",\"type\":\"Range1d\"},{\"attributes\":{\"callback\":null,\"column_names\":[\"x\",\"y\"],\"data\":{\"x\":[0,1],\"y\":[0.9,0.9]},\"selected\":null,\"selection_policy\":null},\"id\":\"84f0b854-ff65-4e7b-a8ce-610e855ce4b5\",\"type\":\"ColumnDataSource\"},{\"attributes\":{},\"id\":\"691a878f-39de-426e-a634-b6ac7149e27a\",\"type\":\"LinearScale\"},{\"attributes\":{\"bounds\":[0,1],\"callback\":null},\"id\":\"7ed6f9c4-0aaf-4270-bbfe-495a1d22e1c0\",\"type\":\"Range1d\"},{\"attributes\":{\"callback\":null,\"column_names\":[\"x\",\"y\"],\"data\":{\"x\":[0,1],\"y\":[0.7,0.7]},\"selected\":null,\"selection_policy\":null},\"id\":\"d8dcbe19-8de3-4cb8-b2d4-9090a5e9de53\",\"type\":\"ColumnDataSource\"},{\"attributes\":{\"line_color\":\"#1f77b4\",\"x\":{\"field\":\"x\"},\"y\":{\"value\":0.5}},\"id\":\"9176db67-5063-40e0-87ae-5b88e6f7dda0\",\"type\":\"Line\"},{\"attributes\":{},\"id\":\"220d563a-b827-424a-84d4-0d81185f72e3\",\"type\":\"BasicTicker\"},{\"attributes\":{\"formatter\":{\"id\":\"a5929f9b-cafe-4002-8cff-baf6b3f15d71\",\"type\":\"BasicTickFormatter\"},\"plot\":{\"id\":\"806a028e-9d0a-4e78-acb1-6138e41a668d\",\"subtype\":\"Figure\",\"type\":\"Plot\"},\"ticker\":{\"id\":\"3641ee25-76ed-4855-922f-03aeb74ce06f\",\"type\":\"BasicTicker\"},\"visible\":false},\"id\":\"83cf07c0-573b-40db-a81d-892a34ce33ce\",\"type\":\"LinearAxis\"}],\"root_ids\":[\"1234f93a-549f-4822-b79d-a84c8b8867da\"]},\"title\":\"Bokeh Application\",\"version\":\"0.12.15\"}};\n",
       "  var render_items = [{\"docid\":\"3c18159d-4b98-4846-be8d-0b7dd6b2395a\",\"elementid\":\"fc642d7a-5572-4560-bbc1-c311614abff2\",\"modelid\":\"1234f93a-549f-4822-b79d-a84c8b8867da\"}];\n",
       "  root.Bokeh.embed.embed_items_notebook(docs_json, render_items);\n",
       "\n",
       "  }\n",
       "  if (root.Bokeh !== undefined) {\n",
       "    embed_document(root);\n",
       "  } else {\n",
       "    var attempts = 0;\n",
       "    var timer = setInterval(function(root) {\n",
       "      if (root.Bokeh !== undefined) {\n",
       "        embed_document(root);\n",
       "        clearInterval(timer);\n",
       "      }\n",
       "      attempts++;\n",
       "      if (attempts > 100) {\n",
       "        console.log(\"Bokeh: ERROR: Unable to run BokehJS code because BokehJS library is missing\")\n",
       "        clearInterval(timer);\n",
       "      }\n",
       "    }, 10, root)\n",
       "  }\n",
       "})(window);"
      ],
      "application/vnd.bokehjs_exec.v0+json": ""
     },
     "metadata": {
      "application/vnd.bokehjs_exec.v0+json": {
       "id": "1234f93a-549f-4822-b79d-a84c8b8867da"
      }
     },
     "output_type": "display_data"
    }
   ],
   "source": [
    "show(column(Div(text=\"<h3>Figure 1.1</h3>Aesthetics in data visualization\"), grid))"
   ]
  },
  {
   "cell_type": "code",
   "execution_count": null,
   "metadata": {},
   "outputs": [],
   "source": []
  },
  {
   "cell_type": "code",
   "execution_count": 15,
   "metadata": {},
   "outputs": [],
   "source": [
    "categories = [\"position\", \"shape\", \"colour\"]"
   ]
  },
  {
   "cell_type": "code",
   "execution_count": 16,
   "metadata": {},
   "outputs": [
    {
     "data": {
      "text/html": [
       "\n",
       "<div class=\"bk-root\">\n",
       "    <div class=\"bk-plotdiv\" id=\"54cd9dcf-4d6d-4202-894a-3f442af44827\"></div>\n",
       "</div>"
      ]
     },
     "metadata": {},
     "output_type": "display_data"
    },
    {
     "data": {
      "application/javascript": [
       "(function(root) {\n",
       "  function embed_document(root) {\n",
       "    \n",
       "  var docs_json = {\"f3788200-8fca-4fc6-8bad-83e40bddbc01\":{\"roots\":{\"references\":[{\"attributes\":{\"bottom_units\":\"screen\",\"fill_alpha\":{\"value\":0.5},\"fill_color\":{\"value\":\"lightgrey\"},\"left_units\":\"screen\",\"level\":\"overlay\",\"line_alpha\":{\"value\":1.0},\"line_color\":{\"value\":\"black\"},\"line_dash\":[4,4],\"line_width\":{\"value\":2},\"plot\":null,\"render_mode\":\"css\",\"right_units\":\"screen\",\"top_units\":\"screen\"},\"id\":\"b46a5c01-9d21-4d97-acb7-8df50c2fdda5\",\"type\":\"BoxAnnotation\"},{\"attributes\":{},\"id\":\"f9447666-d872-45b8-bf28-9a014a22a91d\",\"type\":\"WheelZoomTool\"},{\"attributes\":{\"overlay\":{\"id\":\"b46a5c01-9d21-4d97-acb7-8df50c2fdda5\",\"type\":\"BoxAnnotation\"}},\"id\":\"a3a118de-547b-42ef-92ef-80aad16289b7\",\"type\":\"BoxZoomTool\"},{\"attributes\":{},\"id\":\"00410b42-c7be-4f55-9d14-8c6be8dc2488\",\"type\":\"SaveTool\"},{\"attributes\":{},\"id\":\"5f7253f6-9b94-4e14-8ec9-272997fbc6a3\",\"type\":\"ResetTool\"},{\"attributes\":{},\"id\":\"77c67724-7487-4293-8036-7f5f4bd5da5a\",\"type\":\"HelpTool\"},{\"attributes\":{\"callback\":null,\"column_names\":[\"x\"],\"data\":{\"x\":[1,2,3,4]},\"selected\":null,\"selection_policy\":null},\"id\":\"6815994e-b375-4e44-a369-691fba9dd9de\",\"type\":\"ColumnDataSource\"},{\"attributes\":{},\"id\":\"50375fd2-32cf-4774-bc52-926feab9669a\",\"type\":\"BasicTickFormatter\"},{\"attributes\":{\"data_source\":{\"id\":\"6815994e-b375-4e44-a369-691fba9dd9de\",\"type\":\"ColumnDataSource\"},\"glyph\":{\"id\":\"d4934369-bf48-4c40-ad07-f1a72b991d00\",\"type\":\"Circle\"},\"hover_glyph\":null,\"muted_glyph\":null,\"nonselection_glyph\":{\"id\":\"493d12e1-e339-4983-b866-4e8826615932\",\"type\":\"Circle\"},\"selection_glyph\":null,\"view\":{\"id\":\"9bafea68-b977-40f1-9f49-74b45d35ef97\",\"type\":\"CDSView\"}},\"id\":\"ef16501d-889c-43e6-a1f2-33e24a6ca4f7\",\"type\":\"GlyphRenderer\"},{\"attributes\":{\"fill_color\":{\"value\":\"blue\"},\"line_color\":{\"value\":\"#1f77b4\"},\"radius\":{\"units\":\"data\",\"value\":0.03},\"x\":{\"field\":\"x\"},\"y\":{\"value\":0.9}},\"id\":\"d4934369-bf48-4c40-ad07-f1a72b991d00\",\"type\":\"Circle\"},{\"attributes\":{\"fill_alpha\":{\"value\":0.1},\"fill_color\":{\"value\":\"#1f77b4\"},\"line_alpha\":{\"value\":0.1},\"line_color\":{\"value\":\"#1f77b4\"},\"radius\":{\"units\":\"data\",\"value\":0.03},\"x\":{\"field\":\"x\"},\"y\":{\"value\":0.9}},\"id\":\"493d12e1-e339-4983-b866-4e8826615932\",\"type\":\"Circle\"},{\"attributes\":{},\"id\":\"b9534fc2-3fa5-4b70-9f76-0fba4426ac3e\",\"type\":\"BasicTickFormatter\"},{\"attributes\":{\"callback\":null,\"data\":{},\"selected\":null,\"selection_policy\":null},\"id\":\"5664e159-d603-4aa1-8625-ab086f3da1bb\",\"type\":\"ColumnDataSource\"},{\"attributes\":{\"fill_alpha\":{\"value\":0.1},\"fill_color\":{\"value\":\"#1f77b4\"},\"line_alpha\":{\"value\":0.1},\"line_color\":{\"value\":\"#1f77b4\"},\"radius\":{\"units\":\"data\",\"value\":0.05},\"x\":{\"value\":1},\"y\":{\"value\":0.5}},\"id\":\"a6c242c6-bf98-43e0-bbdf-9f7e408b99f4\",\"type\":\"Circle\"},{\"attributes\":{\"fill_color\":{\"value\":\"#0082A6\"},\"line_color\":{\"value\":null},\"size\":{\"units\":\"screen\",\"value\":15},\"x\":{\"value\":1},\"y\":{\"value\":0.1}},\"id\":\"d3233c01-d156-4384-9e9a-e80a740c56a1\",\"type\":\"Square\"},{\"attributes\":{\"source\":{\"id\":\"6815994e-b375-4e44-a369-691fba9dd9de\",\"type\":\"ColumnDataSource\"}},\"id\":\"9bafea68-b977-40f1-9f49-74b45d35ef97\",\"type\":\"CDSView\"},{\"attributes\":{\"source\":{\"id\":\"ee0b5bb0-8ae9-41fc-9efd-ad108e1fdcd1\",\"type\":\"ColumnDataSource\"}},\"id\":\"d9ece286-c10c-4c59-97a3-bfb0669809bc\",\"type\":\"CDSView\"},{\"attributes\":{\"fill_color\":{\"value\":\"grey\"},\"line_color\":{\"value\":null},\"radius\":{\"units\":\"data\",\"value\":0.05},\"x\":{\"value\":1},\"y\":{\"value\":0.5}},\"id\":\"2f439c34-9ba8-4ee3-a8fb-d37c983f39fb\",\"type\":\"Circle\"},{\"attributes\":{\"callback\":null,\"data\":{},\"selected\":null,\"selection_policy\":null},\"id\":\"64f49439-f994-4c66-8a19-7473907d68cf\",\"type\":\"ColumnDataSource\"},{\"attributes\":{\"data_source\":{\"id\":\"ee0b5bb0-8ae9-41fc-9efd-ad108e1fdcd1\",\"type\":\"ColumnDataSource\"},\"glyph\":{\"id\":\"2f439c34-9ba8-4ee3-a8fb-d37c983f39fb\",\"type\":\"Circle\"},\"hover_glyph\":null,\"muted_glyph\":null,\"nonselection_glyph\":{\"id\":\"a6c242c6-bf98-43e0-bbdf-9f7e408b99f4\",\"type\":\"Circle\"},\"selection_glyph\":null,\"view\":{\"id\":\"d9ece286-c10c-4c59-97a3-bfb0669809bc\",\"type\":\"CDSView\"}},\"id\":\"65151820-26e3-4171-a18c-7ee029b03b9f\",\"type\":\"GlyphRenderer\"},{\"attributes\":{\"fill_color\":{\"value\":\"grey\"},\"line_color\":{\"value\":null},\"size\":{\"units\":\"screen\",\"value\":15},\"x\":{\"value\":2},\"y\":{\"value\":0.5}},\"id\":\"e0190a76-e8ee-4e9d-b6b6-6fb27aa8b31c\",\"type\":\"Square\"},{\"attributes\":{\"fill_alpha\":{\"value\":0.1},\"fill_color\":{\"value\":\"#1f77b4\"},\"line_alpha\":{\"value\":0.1},\"line_color\":{\"value\":\"#1f77b4\"},\"size\":{\"units\":\"screen\",\"value\":15},\"x\":{\"value\":2},\"y\":{\"value\":0.5}},\"id\":\"24bcc712-45d4-4028-96d1-fcf88d40fc08\",\"type\":\"Square\"},{\"attributes\":{\"data_source\":{\"id\":\"64f49439-f994-4c66-8a19-7473907d68cf\",\"type\":\"ColumnDataSource\"},\"glyph\":{\"id\":\"e0190a76-e8ee-4e9d-b6b6-6fb27aa8b31c\",\"type\":\"Square\"},\"hover_glyph\":null,\"muted_glyph\":null,\"nonselection_glyph\":{\"id\":\"24bcc712-45d4-4028-96d1-fcf88d40fc08\",\"type\":\"Square\"},\"selection_glyph\":null,\"view\":{\"id\":\"49e99c7d-3ccf-47b4-8f69-4fa165316665\",\"type\":\"CDSView\"}},\"id\":\"dfeec947-1540-4745-a3d2-a46f1b3b08b6\",\"type\":\"GlyphRenderer\"},{\"attributes\":{\"fill_color\":{\"value\":\"#4EBBB9\"},\"line_color\":{\"value\":null},\"size\":{\"units\":\"screen\",\"value\":15},\"x\":{\"value\":2},\"y\":{\"value\":0.1}},\"id\":\"46adc23e-4378-43c5-a75f-ac9eb4c0e835\",\"type\":\"Square\"},{\"attributes\":{\"callback\":null,\"data\":{},\"selected\":null,\"selection_policy\":null},\"id\":\"f818578c-4c40-4cf3-8099-f74d2245da69\",\"type\":\"ColumnDataSource\"},{\"attributes\":{\"angle\":{\"units\":\"rad\",\"value\":45.0},\"fill_color\":{\"value\":\"grey\"},\"line_color\":{\"value\":null},\"size\":{\"units\":\"screen\",\"value\":15},\"x\":{\"value\":3},\"y\":{\"value\":0.5}},\"id\":\"aac41794-1bf1-4f6c-ba42-1a92f8542c22\",\"type\":\"Square\"},{\"attributes\":{\"source\":{\"id\":\"64f49439-f994-4c66-8a19-7473907d68cf\",\"type\":\"ColumnDataSource\"}},\"id\":\"49e99c7d-3ccf-47b4-8f69-4fa165316665\",\"type\":\"CDSView\"},{\"attributes\":{\"angle\":{\"units\":\"rad\",\"value\":45.0},\"fill_alpha\":{\"value\":0.1},\"fill_color\":{\"value\":\"#1f77b4\"},\"line_alpha\":{\"value\":0.1},\"line_color\":{\"value\":\"#1f77b4\"},\"size\":{\"units\":\"screen\",\"value\":15},\"x\":{\"value\":3},\"y\":{\"value\":0.5}},\"id\":\"a6fa99e6-810f-4a60-aced-3216ab840c44\",\"type\":\"Square\"},{\"attributes\":{\"callback\":null,\"data\":{},\"selected\":null,\"selection_policy\":null},\"id\":\"39a0d623-c2cd-4437-91bb-57c8435c4acb\",\"type\":\"ColumnDataSource\"},{\"attributes\":{\"fill_color\":{\"value\":\"grey\"},\"line_color\":{\"value\":null},\"size\":{\"units\":\"screen\",\"value\":20},\"x\":{\"value\":4},\"y\":{\"value\":0.5}},\"id\":\"50b7407a-491c-4c60-9160-b1473849d848\",\"type\":\"Triangle\"},{\"attributes\":{\"data_source\":{\"id\":\"5664e159-d603-4aa1-8625-ab086f3da1bb\",\"type\":\"ColumnDataSource\"},\"glyph\":{\"id\":\"aac41794-1bf1-4f6c-ba42-1a92f8542c22\",\"type\":\"Square\"},\"hover_glyph\":null,\"muted_glyph\":null,\"nonselection_glyph\":{\"id\":\"a6fa99e6-810f-4a60-aced-3216ab840c44\",\"type\":\"Square\"},\"selection_glyph\":null,\"view\":{\"id\":\"80bfedff-bf7a-4354-83a6-7d89829c4698\",\"type\":\"CDSView\"}},\"id\":\"f136373d-fd91-49d1-a2c0-76ed0026ec95\",\"type\":\"GlyphRenderer\"},{\"attributes\":{\"source\":{\"id\":\"5664e159-d603-4aa1-8625-ab086f3da1bb\",\"type\":\"ColumnDataSource\"}},\"id\":\"80bfedff-bf7a-4354-83a6-7d89829c4698\",\"type\":\"CDSView\"},{\"attributes\":{\"fill_alpha\":{\"value\":0.1},\"fill_color\":{\"value\":\"#1f77b4\"},\"line_alpha\":{\"value\":0.1},\"line_color\":{\"value\":\"#1f77b4\"},\"size\":{\"units\":\"screen\",\"value\":20},\"x\":{\"value\":4},\"y\":{\"value\":0.5}},\"id\":\"4c0f0a2d-069c-4394-b18b-8965264e70aa\",\"type\":\"Triangle\"},{\"attributes\":{\"callback\":null,\"data\":{},\"selected\":null,\"selection_policy\":null},\"id\":\"a0631fb7-e553-44ed-a66e-6d9ed65febe7\",\"type\":\"ColumnDataSource\"},{\"attributes\":{\"callback\":null,\"data\":{},\"selected\":null,\"selection_policy\":null},\"id\":\"3a1b9c13-c145-426f-ad41-db3224c8b3a5\",\"type\":\"ColumnDataSource\"},{\"attributes\":{\"data_source\":{\"id\":\"f818578c-4c40-4cf3-8099-f74d2245da69\",\"type\":\"ColumnDataSource\"},\"glyph\":{\"id\":\"50b7407a-491c-4c60-9160-b1473849d848\",\"type\":\"Triangle\"},\"hover_glyph\":null,\"muted_glyph\":null,\"nonselection_glyph\":{\"id\":\"4c0f0a2d-069c-4394-b18b-8965264e70aa\",\"type\":\"Triangle\"},\"selection_glyph\":null,\"view\":{\"id\":\"ff027b7b-caa2-40ad-82e7-fa1648d71668\",\"type\":\"CDSView\"}},\"id\":\"86827c3b-7ce7-4646-8161-0b3959b55da9\",\"type\":\"GlyphRenderer\"},{\"attributes\":{\"source\":{\"id\":\"f818578c-4c40-4cf3-8099-f74d2245da69\",\"type\":\"ColumnDataSource\"}},\"id\":\"ff027b7b-caa2-40ad-82e7-fa1648d71668\",\"type\":\"CDSView\"},{\"attributes\":{\"source\":{\"id\":\"39a0d623-c2cd-4437-91bb-57c8435c4acb\",\"type\":\"ColumnDataSource\"}},\"id\":\"9169ca88-cbf0-4773-b198-e6f1a957b43a\",\"type\":\"CDSView\"},{\"attributes\":{\"fill_alpha\":{\"value\":0.1},\"fill_color\":{\"value\":\"#1f77b4\"},\"line_alpha\":{\"value\":0.1},\"line_color\":{\"value\":\"#1f77b4\"},\"size\":{\"units\":\"screen\",\"value\":15},\"x\":{\"value\":1},\"y\":{\"value\":0.1}},\"id\":\"c00504e7-fb7d-473b-ae75-44f9ecfad3b9\",\"type\":\"Square\"},{\"attributes\":{\"data_source\":{\"id\":\"39a0d623-c2cd-4437-91bb-57c8435c4acb\",\"type\":\"ColumnDataSource\"},\"glyph\":{\"id\":\"d3233c01-d156-4384-9e9a-e80a740c56a1\",\"type\":\"Square\"},\"hover_glyph\":null,\"muted_glyph\":null,\"nonselection_glyph\":{\"id\":\"c00504e7-fb7d-473b-ae75-44f9ecfad3b9\",\"type\":\"Square\"},\"selection_glyph\":null,\"view\":{\"id\":\"9169ca88-cbf0-4773-b198-e6f1a957b43a\",\"type\":\"CDSView\"}},\"id\":\"248fdb36-45e4-498c-95ec-cde24630974d\",\"type\":\"GlyphRenderer\"},{\"attributes\":{\"fill_alpha\":{\"value\":0.1},\"fill_color\":{\"value\":\"#1f77b4\"},\"line_alpha\":{\"value\":0.1},\"line_color\":{\"value\":\"#1f77b4\"},\"size\":{\"units\":\"screen\",\"value\":15},\"x\":{\"value\":2},\"y\":{\"value\":0.1}},\"id\":\"0470f359-52f0-453e-a35a-042a2c6c9be7\",\"type\":\"Square\"},{\"attributes\":{\"callback\":null,\"data\":{},\"selected\":null,\"selection_policy\":null},\"id\":\"350f4afd-ee18-4cee-abc7-6900b7d6af0e\",\"type\":\"ColumnDataSource\"},{\"attributes\":{\"fill_color\":{\"value\":\"#9CDFC2\"},\"line_color\":{\"value\":null},\"size\":{\"units\":\"screen\",\"value\":15},\"x\":{\"value\":3},\"y\":{\"value\":0.1}},\"id\":\"dd09f126-cd8d-45f0-bf21-302079d5bfba\",\"type\":\"Square\"},{\"attributes\":{\"data_source\":{\"id\":\"a0631fb7-e553-44ed-a66e-6d9ed65febe7\",\"type\":\"ColumnDataSource\"},\"glyph\":{\"id\":\"46adc23e-4378-43c5-a75f-ac9eb4c0e835\",\"type\":\"Square\"},\"hover_glyph\":null,\"muted_glyph\":null,\"nonselection_glyph\":{\"id\":\"0470f359-52f0-453e-a35a-042a2c6c9be7\",\"type\":\"Square\"},\"selection_glyph\":null,\"view\":{\"id\":\"91d3a453-418a-4e39-beed-bf68221cc1e1\",\"type\":\"CDSView\"}},\"id\":\"f900048e-60b2-418c-bea7-cb99868344c9\",\"type\":\"GlyphRenderer\"},{\"attributes\":{\"source\":{\"id\":\"a0631fb7-e553-44ed-a66e-6d9ed65febe7\",\"type\":\"ColumnDataSource\"}},\"id\":\"91d3a453-418a-4e39-beed-bf68221cc1e1\",\"type\":\"CDSView\"},{\"attributes\":{\"fill_alpha\":{\"value\":0.1},\"fill_color\":{\"value\":\"#1f77b4\"},\"line_alpha\":{\"value\":0.1},\"line_color\":{\"value\":\"#1f77b4\"},\"size\":{\"units\":\"screen\",\"value\":15},\"x\":{\"value\":3},\"y\":{\"value\":0.1}},\"id\":\"03ce45f0-7c90-41c3-a304-c61da428b579\",\"type\":\"Square\"},{\"attributes\":{\"plot\":{\"id\":\"6864e709-8406-4e31-8513-abb8e875804f\",\"subtype\":\"Figure\",\"type\":\"Plot\"},\"text\":\"position\",\"x\":1,\"y\":0.8},\"id\":\"a196a068-a364-49e4-a7dd-c62e70a33235\",\"type\":\"Label\"},{\"attributes\":{\"fill_color\":{\"value\":\"#D8F0CD\"},\"line_color\":{\"value\":null},\"size\":{\"units\":\"screen\",\"value\":15},\"x\":{\"value\":4},\"y\":{\"value\":0.1}},\"id\":\"c97e9928-1ecf-430a-a55b-4495692936de\",\"type\":\"Square\"},{\"attributes\":{\"data_source\":{\"id\":\"3a1b9c13-c145-426f-ad41-db3224c8b3a5\",\"type\":\"ColumnDataSource\"},\"glyph\":{\"id\":\"dd09f126-cd8d-45f0-bf21-302079d5bfba\",\"type\":\"Square\"},\"hover_glyph\":null,\"muted_glyph\":null,\"nonselection_glyph\":{\"id\":\"03ce45f0-7c90-41c3-a304-c61da428b579\",\"type\":\"Square\"},\"selection_glyph\":null,\"view\":{\"id\":\"ee4abeb6-d4ba-4bbb-8fef-a955a15b2bbe\",\"type\":\"CDSView\"}},\"id\":\"ffcff668-49f5-4ad0-8317-add0a15f5f60\",\"type\":\"GlyphRenderer\"},{\"attributes\":{\"source\":{\"id\":\"3a1b9c13-c145-426f-ad41-db3224c8b3a5\",\"type\":\"ColumnDataSource\"}},\"id\":\"ee4abeb6-d4ba-4bbb-8fef-a955a15b2bbe\",\"type\":\"CDSView\"},{\"attributes\":{\"callback\":null,\"column_names\":[\"x\"],\"data\":{\"x\":[1,4]},\"selected\":null,\"selection_policy\":null},\"id\":\"d0f69f28-8158-453c-8bc1-53587d04bb31\",\"type\":\"ColumnDataSource\"},{\"attributes\":{\"fill_alpha\":{\"value\":0.1},\"fill_color\":{\"value\":\"#1f77b4\"},\"line_alpha\":{\"value\":0.1},\"line_color\":{\"value\":\"#1f77b4\"},\"size\":{\"units\":\"screen\",\"value\":15},\"x\":{\"value\":4},\"y\":{\"value\":0.1}},\"id\":\"3708d9d7-430c-4db8-9d1b-586d216e158e\",\"type\":\"Square\"},{\"attributes\":{\"plot\":{\"id\":\"6864e709-8406-4e31-8513-abb8e875804f\",\"subtype\":\"Figure\",\"type\":\"Plot\"},\"text\":\"shape\",\"x\":1,\"y\":0.4},\"id\":\"05385cfb-5d92-4fc6-b326-9cee2f3829e2\",\"type\":\"Label\"},{\"attributes\":{\"bounds\":[0,1],\"callback\":null},\"id\":\"647e988a-2761-44c1-bd00-9789f411bcf4\",\"type\":\"Range1d\"},{\"attributes\":{\"plot\":{\"id\":\"6864e709-8406-4e31-8513-abb8e875804f\",\"subtype\":\"Figure\",\"type\":\"Plot\"},\"text\":\"colour\",\"x\":1,\"y\":0.0},\"id\":\"9874fb0b-11d5-486e-b656-573d29c5888e\",\"type\":\"Label\"},{\"attributes\":{\"line_alpha\":0.1,\"line_color\":\"#1f77b4\",\"x\":{\"field\":\"x\"},\"y\":{\"value\":0.9}},\"id\":\"a08869a3-ea3e-4b6d-bffa-ce258c3af784\",\"type\":\"Line\"},{\"attributes\":{\"above\":[{\"id\":\"f7c6ad37-e495-421f-8d86-0f94a142474d\",\"type\":\"LinearAxis\"}],\"left\":[{\"id\":\"a3d78c49-e750-4712-9d32-a4f0149d4faa\",\"type\":\"LinearAxis\"}],\"plot_height\":300,\"plot_width\":400,\"renderers\":[{\"id\":\"f7c6ad37-e495-421f-8d86-0f94a142474d\",\"type\":\"LinearAxis\"},{\"id\":\"0468bb79-e6f6-422c-b8a1-cd5e2560893e\",\"type\":\"Grid\"},{\"id\":\"a3d78c49-e750-4712-9d32-a4f0149d4faa\",\"type\":\"LinearAxis\"},{\"id\":\"13a491b2-c79a-4154-b067-259de971f82a\",\"type\":\"Grid\"},{\"id\":\"b46a5c01-9d21-4d97-acb7-8df50c2fdda5\",\"type\":\"BoxAnnotation\"},{\"id\":\"87ebf610-e02f-4d8b-b79f-907844b77494\",\"type\":\"GlyphRenderer\"},{\"id\":\"ef16501d-889c-43e6-a1f2-33e24a6ca4f7\",\"type\":\"GlyphRenderer\"},{\"id\":\"65151820-26e3-4171-a18c-7ee029b03b9f\",\"type\":\"GlyphRenderer\"},{\"id\":\"dfeec947-1540-4745-a3d2-a46f1b3b08b6\",\"type\":\"GlyphRenderer\"},{\"id\":\"f136373d-fd91-49d1-a2c0-76ed0026ec95\",\"type\":\"GlyphRenderer\"},{\"id\":\"86827c3b-7ce7-4646-8161-0b3959b55da9\",\"type\":\"GlyphRenderer\"},{\"id\":\"248fdb36-45e4-498c-95ec-cde24630974d\",\"type\":\"GlyphRenderer\"},{\"id\":\"f900048e-60b2-418c-bea7-cb99868344c9\",\"type\":\"GlyphRenderer\"},{\"id\":\"ffcff668-49f5-4ad0-8317-add0a15f5f60\",\"type\":\"GlyphRenderer\"},{\"id\":\"ee5bda19-4bbc-4e22-a1e8-a23df66f37fe\",\"type\":\"GlyphRenderer\"},{\"id\":\"a196a068-a364-49e4-a7dd-c62e70a33235\",\"type\":\"Label\"},{\"id\":\"05385cfb-5d92-4fc6-b326-9cee2f3829e2\",\"type\":\"Label\"},{\"id\":\"9874fb0b-11d5-486e-b656-573d29c5888e\",\"type\":\"Label\"}],\"title\":{\"id\":\"09756090-de68-495d-8259-f6d9bfddaa4f\",\"type\":\"Title\"},\"toolbar\":{\"id\":\"89bdae80-d819-434d-bc58-610cabb0e9f9\",\"type\":\"Toolbar\"},\"x_range\":{\"id\":\"326091b6-6bc4-4c96-b920-ab964d6611ec\",\"type\":\"DataRange1d\"},\"x_scale\":{\"id\":\"b295e30e-c860-4253-bc84-4e379cf2be72\",\"type\":\"LinearScale\"},\"y_range\":{\"id\":\"647e988a-2761-44c1-bd00-9789f411bcf4\",\"type\":\"Range1d\"},\"y_scale\":{\"id\":\"bda1dba0-9a27-4f74-ab6a-fb563e386c3d\",\"type\":\"LinearScale\"}},\"id\":\"6864e709-8406-4e31-8513-abb8e875804f\",\"subtype\":\"Figure\",\"type\":\"Plot\"},{\"attributes\":{\"data_source\":{\"id\":\"350f4afd-ee18-4cee-abc7-6900b7d6af0e\",\"type\":\"ColumnDataSource\"},\"glyph\":{\"id\":\"c97e9928-1ecf-430a-a55b-4495692936de\",\"type\":\"Square\"},\"hover_glyph\":null,\"muted_glyph\":null,\"nonselection_glyph\":{\"id\":\"3708d9d7-430c-4db8-9d1b-586d216e158e\",\"type\":\"Square\"},\"selection_glyph\":null,\"view\":{\"id\":\"34d51851-43cd-4f1a-a61c-9f913f797fbe\",\"type\":\"CDSView\"}},\"id\":\"ee5bda19-4bbc-4e22-a1e8-a23df66f37fe\",\"type\":\"GlyphRenderer\"},{\"attributes\":{\"callback\":null},\"id\":\"326091b6-6bc4-4c96-b920-ab964d6611ec\",\"type\":\"DataRange1d\"},{\"attributes\":{\"source\":{\"id\":\"350f4afd-ee18-4cee-abc7-6900b7d6af0e\",\"type\":\"ColumnDataSource\"}},\"id\":\"34d51851-43cd-4f1a-a61c-9f913f797fbe\",\"type\":\"CDSView\"},{\"attributes\":{\"plot\":null,\"text\":\"Figure 1.2 - Scales\"},\"id\":\"09756090-de68-495d-8259-f6d9bfddaa4f\",\"type\":\"Title\"},{\"attributes\":{\"active_drag\":\"auto\",\"active_inspect\":\"auto\",\"active_scroll\":\"auto\",\"active_tap\":\"auto\",\"tools\":[{\"id\":\"a2f382dd-0bb1-45b6-98fb-926bdc431de6\",\"type\":\"PanTool\"},{\"id\":\"f9447666-d872-45b8-bf28-9a014a22a91d\",\"type\":\"WheelZoomTool\"},{\"id\":\"a3a118de-547b-42ef-92ef-80aad16289b7\",\"type\":\"BoxZoomTool\"},{\"id\":\"00410b42-c7be-4f55-9d14-8c6be8dc2488\",\"type\":\"SaveTool\"},{\"id\":\"5f7253f6-9b94-4e14-8ec9-272997fbc6a3\",\"type\":\"ResetTool\"},{\"id\":\"77c67724-7487-4293-8036-7f5f4bd5da5a\",\"type\":\"HelpTool\"}]},\"id\":\"89bdae80-d819-434d-bc58-610cabb0e9f9\",\"type\":\"Toolbar\"},{\"attributes\":{\"source\":{\"id\":\"d0f69f28-8158-453c-8bc1-53587d04bb31\",\"type\":\"ColumnDataSource\"}},\"id\":\"87db4ac3-87b4-443c-a7cb-b5547b83bda9\",\"type\":\"CDSView\"},{\"attributes\":{},\"id\":\"bda1dba0-9a27-4f74-ab6a-fb563e386c3d\",\"type\":\"LinearScale\"},{\"attributes\":{},\"id\":\"b295e30e-c860-4253-bc84-4e379cf2be72\",\"type\":\"LinearScale\"},{\"attributes\":{\"grid_line_color\":{\"value\":null},\"plot\":{\"id\":\"6864e709-8406-4e31-8513-abb8e875804f\",\"subtype\":\"Figure\",\"type\":\"Plot\"},\"ticker\":{\"id\":\"bd09494d-14f3-4a5b-ade5-9a9830e82bd9\",\"type\":\"BasicTicker\"}},\"id\":\"0468bb79-e6f6-422c-b8a1-cd5e2560893e\",\"type\":\"Grid\"},{\"attributes\":{\"formatter\":{\"id\":\"b9534fc2-3fa5-4b70-9f76-0fba4426ac3e\",\"type\":\"BasicTickFormatter\"},\"minor_tick_line_color\":{\"value\":null},\"plot\":{\"id\":\"6864e709-8406-4e31-8513-abb8e875804f\",\"subtype\":\"Figure\",\"type\":\"Plot\"},\"ticker\":{\"id\":\"bd09494d-14f3-4a5b-ade5-9a9830e82bd9\",\"type\":\"BasicTicker\"}},\"id\":\"f7c6ad37-e495-421f-8d86-0f94a142474d\",\"type\":\"LinearAxis\"},{\"attributes\":{},\"id\":\"bd09494d-14f3-4a5b-ade5-9a9830e82bd9\",\"type\":\"BasicTicker\"},{\"attributes\":{\"formatter\":{\"id\":\"50375fd2-32cf-4774-bc52-926feab9669a\",\"type\":\"BasicTickFormatter\"},\"plot\":{\"id\":\"6864e709-8406-4e31-8513-abb8e875804f\",\"subtype\":\"Figure\",\"type\":\"Plot\"},\"ticker\":{\"id\":\"bc12091a-43fe-4e42-ae11-04554e42df59\",\"type\":\"BasicTicker\"},\"visible\":false},\"id\":\"a3d78c49-e750-4712-9d32-a4f0149d4faa\",\"type\":\"LinearAxis\"},{\"attributes\":{},\"id\":\"bc12091a-43fe-4e42-ae11-04554e42df59\",\"type\":\"BasicTicker\"},{\"attributes\":{\"dimension\":1,\"grid_line_color\":{\"value\":null},\"plot\":{\"id\":\"6864e709-8406-4e31-8513-abb8e875804f\",\"subtype\":\"Figure\",\"type\":\"Plot\"},\"ticker\":{\"id\":\"bc12091a-43fe-4e42-ae11-04554e42df59\",\"type\":\"BasicTicker\"}},\"id\":\"13a491b2-c79a-4154-b067-259de971f82a\",\"type\":\"Grid\"},{\"attributes\":{\"line_color\":\"#1f77b4\",\"x\":{\"field\":\"x\"},\"y\":{\"value\":0.9}},\"id\":\"fb27640c-1495-4523-be1f-b00f2d8c4e67\",\"type\":\"Line\"},{\"attributes\":{\"callback\":null,\"data\":{},\"selected\":null,\"selection_policy\":null},\"id\":\"ee0b5bb0-8ae9-41fc-9efd-ad108e1fdcd1\",\"type\":\"ColumnDataSource\"},{\"attributes\":{\"data_source\":{\"id\":\"d0f69f28-8158-453c-8bc1-53587d04bb31\",\"type\":\"ColumnDataSource\"},\"glyph\":{\"id\":\"fb27640c-1495-4523-be1f-b00f2d8c4e67\",\"type\":\"Line\"},\"hover_glyph\":null,\"muted_glyph\":null,\"nonselection_glyph\":{\"id\":\"a08869a3-ea3e-4b6d-bffa-ce258c3af784\",\"type\":\"Line\"},\"selection_glyph\":null,\"view\":{\"id\":\"87db4ac3-87b4-443c-a7cb-b5547b83bda9\",\"type\":\"CDSView\"}},\"id\":\"87ebf610-e02f-4d8b-b79f-907844b77494\",\"type\":\"GlyphRenderer\"},{\"attributes\":{},\"id\":\"a2f382dd-0bb1-45b6-98fb-926bdc431de6\",\"type\":\"PanTool\"}],\"root_ids\":[\"6864e709-8406-4e31-8513-abb8e875804f\"]},\"title\":\"Bokeh Application\",\"version\":\"0.12.15\"}};\n",
       "  var render_items = [{\"docid\":\"f3788200-8fca-4fc6-8bad-83e40bddbc01\",\"elementid\":\"54cd9dcf-4d6d-4202-894a-3f442af44827\",\"modelid\":\"6864e709-8406-4e31-8513-abb8e875804f\"}];\n",
       "  root.Bokeh.embed.embed_items_notebook(docs_json, render_items);\n",
       "\n",
       "  }\n",
       "  if (root.Bokeh !== undefined) {\n",
       "    embed_document(root);\n",
       "  } else {\n",
       "    var attempts = 0;\n",
       "    var timer = setInterval(function(root) {\n",
       "      if (root.Bokeh !== undefined) {\n",
       "        embed_document(root);\n",
       "        clearInterval(timer);\n",
       "      }\n",
       "      attempts++;\n",
       "      if (attempts > 100) {\n",
       "        console.log(\"Bokeh: ERROR: Unable to run BokehJS code because BokehJS library is missing\")\n",
       "        clearInterval(timer);\n",
       "      }\n",
       "    }, 10, root)\n",
       "  }\n",
       "})(window);"
      ],
      "application/vnd.bokehjs_exec.v0+json": ""
     },
     "metadata": {
      "application/vnd.bokehjs_exec.v0+json": {
       "id": "6864e709-8406-4e31-8513-abb8e875804f"
      }
     },
     "output_type": "display_data"
    }
   ],
   "source": [
    "fig12 = figure(plot_height=300, plot_width=400, title=\"Figure 1.2 - Scales\", x_axis_location=\"above\",\n",
    "               y_range=Range1d(bounds=(0, 1)))\n",
    "\n",
    "fig12.line(x=[1, 4], y=0.9)\n",
    "\n",
    "fig12.grid.grid_line_color = None\n",
    "\n",
    "fig12.circle(x=list(range(1, 5)), y=0.9, radius=0.03, fill_color=\"blue\")\n",
    "\n",
    "fig12.xaxis.minor_tick_line_color = None\n",
    "fig12.yaxis.visible = False\n",
    "\n",
    "fig12.circle(x=1, y=0.5, fill_color=\"grey\", radius=0.05, line_color=None)\n",
    "fig12.square(x=2, y=0.5, fill_color=\"grey\", size=15, line_color=None)\n",
    "fig12.square(x=3, y=0.5, fill_color=\"grey\", size=15, line_color=None, angle=45.0)\n",
    "fig12.triangle(x=4, y=0.5, fill_color=\"grey\", size=20, line_color=None)\n",
    "\n",
    "fig12.square(x=1, y=0.1, fill_color=\"#0082A6\", size=15, line_color=None)\n",
    "\n",
    "fig12.square(x=2, y=0.1, fill_color=\"#4EBBB9\", size=15, line_color=None)\n",
    "fig12.square(x=3, y=0.1, fill_color=\"#9CDFC2\", size=15, line_color=None)\n",
    "fig12.square(x=4, y=0.1, fill_color=\"#D8F0CD\", size=15, line_color=None)\n",
    "fig12.add_layout(Label(x=1, y=0.8, text=\"position\"))\n",
    "fig12.add_layout(Label(x=1, y=0.4, text=\"shape\"))\n",
    "fig12.add_layout(Label(x=1, y=0.0, text=\"colour\"))\n",
    "show(fig12)"
   ]
  },
  {
   "cell_type": "code",
   "execution_count": null,
   "metadata": {},
   "outputs": [],
   "source": []
  },
  {
   "cell_type": "markdown",
   "metadata": {},
   "source": [
    "I couldn't find the dataset given in the book so I'll use a different one<br>\n",
    "source: https://github.com/zonination/weather-us"
   ]
  },
  {
   "cell_type": "code",
   "execution_count": 17,
   "metadata": {},
   "outputs": [],
   "source": [
    "houston = pd.read_csv(path/\"houston.csv\")\n",
    "houston = houston.loc[:, [\"Date\", \"city\", \"Mean.TemperatureF\"]]\n",
    "\n",
    "cleveland = pd.read_csv(path/\"cleveland.csv\")\n",
    "cleveland = cleveland.loc[:, [\"Date\", \"city\", \"Mean.TemperatureF\"]]\n",
    "\n",
    "losangeles = pd.read_csv(path/\"losangeles.csv\")\n",
    "losangeles = losangeles.loc[:, [\"Date\", \"city\", \"Mean.TemperatureF\"]]\n",
    "\n",
    "miami = pd.read_csv(path/\"miami.csv\")\n",
    "miami = miami.loc[:, [\"Date\", \"city\", \"Mean.TemperatureF\"]]"
   ]
  },
  {
   "cell_type": "code",
   "execution_count": 18,
   "metadata": {},
   "outputs": [],
   "source": [
    "base = houston.append(cleveland).append(losangeles).append(miami)"
   ]
  },
  {
   "cell_type": "code",
   "execution_count": 19,
   "metadata": {},
   "outputs": [],
   "source": [
    "base = base[base.Date.str[:4] == \"2015\"]"
   ]
  },
  {
   "cell_type": "code",
   "execution_count": 20,
   "metadata": {},
   "outputs": [],
   "source": [
    "base.Date = pd.to_numeric(base.Date.str[5:7])"
   ]
  },
  {
   "cell_type": "code",
   "execution_count": 21,
   "metadata": {},
   "outputs": [],
   "source": [
    "base = base.groupby([\"city\", \"Date\"], as_index=False)[\"Mean.TemperatureF\"].mean()"
   ]
  },
  {
   "cell_type": "code",
   "execution_count": 22,
   "metadata": {},
   "outputs": [],
   "source": [
    "fig13 = figure(plot_height=400, plot_width=800, title=\"Figure 1.3 - temperature in 2015\")"
   ]
  },
  {
   "cell_type": "code",
   "execution_count": 23,
   "metadata": {},
   "outputs": [],
   "source": [
    "fig13.xaxis.axis_label = \"Months in 2015\"\n",
    "fig13.yaxis.axis_label = \"Temperature (F)\""
   ]
  },
  {
   "cell_type": "code",
   "execution_count": 24,
   "metadata": {},
   "outputs": [],
   "source": [
    "# fig13.multi_line(xs=\"Date\", ys=\"Mean.TemperatureF\", legend=\"city\", source=ColumnDataSource(base))"
   ]
  },
  {
   "cell_type": "code",
   "execution_count": 25,
   "metadata": {},
   "outputs": [],
   "source": [
    "colours = [\"blue\", \"green\", \"yellow\", \"red\"]\n",
    "for i, city in enumerate(base.city.drop_duplicates()):\n",
    "    fig13.line(x=\"Date\", y=\"Mean.TemperatureF\", source=ColumnDataSource(base[base.city == city]), \n",
    "               legend=\"city\", line_color=colours[i], line_width=2)"
   ]
  },
  {
   "cell_type": "code",
   "execution_count": 26,
   "metadata": {},
   "outputs": [],
   "source": [
    "fig13.legend.location = (fig13.plot_width-250, 0)"
   ]
  },
  {
   "cell_type": "code",
   "execution_count": 27,
   "metadata": {},
   "outputs": [
    {
     "data": {
      "text/html": [
       "\n",
       "<div class=\"bk-root\">\n",
       "    <div class=\"bk-plotdiv\" id=\"710acbbf-aad9-4e39-8a6b-d180ec06eb80\"></div>\n",
       "</div>"
      ]
     },
     "metadata": {},
     "output_type": "display_data"
    },
    {
     "data": {
      "application/javascript": [
       "(function(root) {\n",
       "  function embed_document(root) {\n",
       "    \n",
       "  var docs_json = {\"753e0963-5568-423b-8854-9a899cadc17f\":{\"roots\":{\"references\":[{\"attributes\":{\"source\":{\"id\":\"015ad6a3-a183-4499-927e-332b1ac9c2ec\",\"type\":\"ColumnDataSource\"}},\"id\":\"989b5f0c-ee4f-4a4a-9c45-95c38eae6932\",\"type\":\"CDSView\"},{\"attributes\":{\"line_color\":\"green\",\"line_width\":2,\"x\":{\"field\":\"Date\"},\"y\":{\"field\":\"Mean.TemperatureF\"}},\"id\":\"bb938d9d-3751-47ac-8fd6-aaf94a269a2a\",\"type\":\"Line\"},{\"attributes\":{\"line_alpha\":0.1,\"line_color\":\"#1f77b4\",\"line_width\":2,\"x\":{\"field\":\"Date\"},\"y\":{\"field\":\"Mean.TemperatureF\"}},\"id\":\"782dfce5-8030-4713-a244-7e5a1613e193\",\"type\":\"Line\"},{\"attributes\":{\"callback\":null,\"column_names\":[\"city\",\"Date\",\"Mean.TemperatureF\",\"index\"],\"data\":{\"Date\":[1,2,3,4,5,6,7,8,9,10,11,12],\"Mean.TemperatureF\":{\"__ndarray__\":\"CCGEEEIITkBJkiRJkqROQDLGGGOMMVBARERERERET0AhhBBCCKFOQAAAAAAAoFBA33vvvfeeUUC+99577z1SQFVVVVVV1VJAjDHGGGOMUkAzMzMzMzNPQEoppZRSykxA\",\"dtype\":\"float64\",\"shape\":[12]},\"city\":[\"Los Angeles (CA)\",\"Los Angeles (CA)\",\"Los Angeles (CA)\",\"Los Angeles (CA)\",\"Los Angeles (CA)\",\"Los Angeles (CA)\",\"Los Angeles (CA)\",\"Los Angeles (CA)\",\"Los Angeles (CA)\",\"Los Angeles (CA)\",\"Los Angeles (CA)\",\"Los Angeles (CA)\"],\"index\":[24,25,26,27,28,29,30,31,32,33,34,35]},\"selected\":null,\"selection_policy\":null},\"id\":\"457323d9-2941-4e44-b66e-75e81c1a3651\",\"type\":\"ColumnDataSource\"},{\"attributes\":{},\"id\":\"7cf66bb9-b302-48f2-857e-4c2bc464316c\",\"type\":\"BasicTickFormatter\"},{\"attributes\":{\"data_source\":{\"id\":\"015ad6a3-a183-4499-927e-332b1ac9c2ec\",\"type\":\"ColumnDataSource\"},\"glyph\":{\"id\":\"bb938d9d-3751-47ac-8fd6-aaf94a269a2a\",\"type\":\"Line\"},\"hover_glyph\":null,\"muted_glyph\":null,\"nonselection_glyph\":{\"id\":\"782dfce5-8030-4713-a244-7e5a1613e193\",\"type\":\"Line\"},\"selection_glyph\":null,\"view\":{\"id\":\"989b5f0c-ee4f-4a4a-9c45-95c38eae6932\",\"type\":\"CDSView\"}},\"id\":\"f08c229f-4063-4672-8caf-fabeaa60c81f\",\"type\":\"GlyphRenderer\"},{\"attributes\":{},\"id\":\"1f8e0112-82a3-4de5-9a35-68bc7bb908d9\",\"type\":\"BasicTickFormatter\"},{\"attributes\":{\"data_source\":{\"id\":\"3f68c51d-18fa-4f8a-8859-2870e69b8472\",\"type\":\"ColumnDataSource\"},\"glyph\":{\"id\":\"c643c1fa-7477-4f82-bd89-f0ba71a64b8a\",\"type\":\"Line\"},\"hover_glyph\":null,\"muted_glyph\":null,\"nonselection_glyph\":{\"id\":\"44bb3522-8800-409c-bf82-293420e7a586\",\"type\":\"Line\"},\"selection_glyph\":null,\"view\":{\"id\":\"e67acc2b-e153-48bb-b6fa-9c2c4f91215e\",\"type\":\"CDSView\"}},\"id\":\"424c0004-5c34-44c7-a962-e612ea9c6bae\",\"type\":\"GlyphRenderer\"},{\"attributes\":{\"line_alpha\":0.1,\"line_color\":\"#1f77b4\",\"line_width\":2,\"x\":{\"field\":\"Date\"},\"y\":{\"field\":\"Mean.TemperatureF\"}},\"id\":\"44bb3522-8800-409c-bf82-293420e7a586\",\"type\":\"Line\"},{\"attributes\":{\"plot\":{\"id\":\"dc6fdc82-b786-40a9-bc13-06ba0fabeeb9\",\"subtype\":\"Figure\",\"type\":\"Plot\"},\"ticker\":{\"id\":\"8f240bf7-64bd-49c8-a9a9-d19d3597e5d2\",\"type\":\"BasicTicker\"}},\"id\":\"2c046900-9582-418f-973d-dff9c30fe497\",\"type\":\"Grid\"},{\"attributes\":{\"axis_label\":\"Temperature (F)\",\"formatter\":{\"id\":\"1f8e0112-82a3-4de5-9a35-68bc7bb908d9\",\"type\":\"BasicTickFormatter\"},\"plot\":{\"id\":\"dc6fdc82-b786-40a9-bc13-06ba0fabeeb9\",\"subtype\":\"Figure\",\"type\":\"Plot\"},\"ticker\":{\"id\":\"94dc046b-8d30-4cec-9ea5-13d5f9b9285d\",\"type\":\"BasicTicker\"}},\"id\":\"320a307e-5c59-42ff-973a-20fbc9129baf\",\"type\":\"LinearAxis\"},{\"attributes\":{},\"id\":\"8f240bf7-64bd-49c8-a9a9-d19d3597e5d2\",\"type\":\"BasicTicker\"},{\"attributes\":{\"callback\":null,\"column_names\":[\"city\",\"Date\",\"Mean.TemperatureF\",\"index\"],\"data\":{\"Date\":[1,2,3,4,5,6,7,8,9,10,11,12],\"Mean.TemperatureF\":{\"__ndarray__\":\"CCGEEELIUUCSJEmSJClRQAAAAAAAQFNAZmZmZmYmVECEEEIIIURUQFVVVVVV9VRAvvfee+89VUA655xzzjlVQGZmZmZm5lRA77333nsvVECJiIiIiKhTQCGEEEIIYVNA\",\"dtype\":\"float64\",\"shape\":[12]},\"city\":[\"Miami (FL)\",\"Miami (FL)\",\"Miami (FL)\",\"Miami (FL)\",\"Miami (FL)\",\"Miami (FL)\",\"Miami (FL)\",\"Miami (FL)\",\"Miami (FL)\",\"Miami (FL)\",\"Miami (FL)\",\"Miami (FL)\"],\"index\":[36,37,38,39,40,41,42,43,44,45,46,47]},\"selected\":null,\"selection_policy\":null},\"id\":\"fc5e8da0-9d5f-4463-b432-f3c0689b569a\",\"type\":\"ColumnDataSource\"},{\"attributes\":{\"below\":[{\"id\":\"fe6fa29d-9744-4c75-9d19-a90b1c4efb4d\",\"type\":\"LinearAxis\"}],\"left\":[{\"id\":\"320a307e-5c59-42ff-973a-20fbc9129baf\",\"type\":\"LinearAxis\"}],\"plot_height\":400,\"plot_width\":800,\"renderers\":[{\"id\":\"fe6fa29d-9744-4c75-9d19-a90b1c4efb4d\",\"type\":\"LinearAxis\"},{\"id\":\"2c046900-9582-418f-973d-dff9c30fe497\",\"type\":\"Grid\"},{\"id\":\"320a307e-5c59-42ff-973a-20fbc9129baf\",\"type\":\"LinearAxis\"},{\"id\":\"86b808ed-2f9a-4c8a-b452-244370ae5dab\",\"type\":\"Grid\"},{\"id\":\"b5fa33cd-5a60-4e15-a276-1e4245ee6390\",\"type\":\"BoxAnnotation\"},{\"id\":\"1015bde7-e783-471a-867e-5dcf83a4f024\",\"type\":\"Legend\"},{\"id\":\"424c0004-5c34-44c7-a962-e612ea9c6bae\",\"type\":\"GlyphRenderer\"},{\"id\":\"f08c229f-4063-4672-8caf-fabeaa60c81f\",\"type\":\"GlyphRenderer\"},{\"id\":\"985941d8-5f8f-43e5-ad7f-e089170a68c2\",\"type\":\"GlyphRenderer\"},{\"id\":\"4e8648af-b4c4-499a-a01f-3cf05778c8f2\",\"type\":\"GlyphRenderer\"}],\"title\":{\"id\":\"1d099b26-ce84-414b-9628-698f8c4876e4\",\"type\":\"Title\"},\"toolbar\":{\"id\":\"5d0da995-188b-4e10-bf50-f4bb016ac589\",\"type\":\"Toolbar\"},\"x_range\":{\"id\":\"78415fa1-c93b-4e21-9d89-4f9c74e16b8d\",\"type\":\"DataRange1d\"},\"x_scale\":{\"id\":\"2e481e5c-ef85-4cbe-9cc4-7d30bd0444bc\",\"type\":\"LinearScale\"},\"y_range\":{\"id\":\"2716fab8-a61a-491b-bfed-7504643a83d4\",\"type\":\"DataRange1d\"},\"y_scale\":{\"id\":\"0d5a9539-b452-44ee-afb0-e76b046ba7a5\",\"type\":\"LinearScale\"}},\"id\":\"dc6fdc82-b786-40a9-bc13-06ba0fabeeb9\",\"subtype\":\"Figure\",\"type\":\"Plot\"},{\"attributes\":{\"label\":{\"field\":\"city\"},\"renderers\":[{\"id\":\"4e8648af-b4c4-499a-a01f-3cf05778c8f2\",\"type\":\"GlyphRenderer\"}]},\"id\":\"3178efcc-4728-4e87-bbf8-05bcb9e368c5\",\"type\":\"LegendItem\"},{\"attributes\":{\"line_alpha\":0.1,\"line_color\":\"#1f77b4\",\"line_width\":2,\"x\":{\"field\":\"Date\"},\"y\":{\"field\":\"Mean.TemperatureF\"}},\"id\":\"a9142f7e-7580-46e6-9388-98c7339430f2\",\"type\":\"Line\"},{\"attributes\":{},\"id\":\"3f7edcdc-9663-41d2-8364-3cafe5a63c00\",\"type\":\"SaveTool\"},{\"attributes\":{\"line_color\":\"red\",\"line_width\":2,\"x\":{\"field\":\"Date\"},\"y\":{\"field\":\"Mean.TemperatureF\"}},\"id\":\"f8c90b97-09aa-4033-9af3-a3ba067c9e9e\",\"type\":\"Line\"},{\"attributes\":{},\"id\":\"09af7481-a8e0-45d1-aec3-32837714aad5\",\"type\":\"ResetTool\"},{\"attributes\":{\"callback\":null},\"id\":\"78415fa1-c93b-4e21-9d89-4f9c74e16b8d\",\"type\":\"DataRange1d\"},{\"attributes\":{\"overlay\":{\"id\":\"b5fa33cd-5a60-4e15-a276-1e4245ee6390\",\"type\":\"BoxAnnotation\"}},\"id\":\"6780b9dc-07e7-4b50-b857-db5dcac90b0c\",\"type\":\"BoxZoomTool\"},{\"attributes\":{\"source\":{\"id\":\"fc5e8da0-9d5f-4463-b432-f3c0689b569a\",\"type\":\"ColumnDataSource\"}},\"id\":\"5c0eea66-a6ba-407d-adbd-f846fbe8f2b6\",\"type\":\"CDSView\"},{\"attributes\":{\"plot\":null,\"text\":\"Figure 1.3 - temperature in 2015\"},\"id\":\"1d099b26-ce84-414b-9628-698f8c4876e4\",\"type\":\"Title\"},{\"attributes\":{\"data_source\":{\"id\":\"fc5e8da0-9d5f-4463-b432-f3c0689b569a\",\"type\":\"ColumnDataSource\"},\"glyph\":{\"id\":\"f8c90b97-09aa-4033-9af3-a3ba067c9e9e\",\"type\":\"Line\"},\"hover_glyph\":null,\"muted_glyph\":null,\"nonselection_glyph\":{\"id\":\"a9142f7e-7580-46e6-9388-98c7339430f2\",\"type\":\"Line\"},\"selection_glyph\":null,\"view\":{\"id\":\"5c0eea66-a6ba-407d-adbd-f846fbe8f2b6\",\"type\":\"CDSView\"}},\"id\":\"4e8648af-b4c4-499a-a01f-3cf05778c8f2\",\"type\":\"GlyphRenderer\"},{\"attributes\":{},\"id\":\"94dc046b-8d30-4cec-9ea5-13d5f9b9285d\",\"type\":\"BasicTicker\"},{\"attributes\":{\"active_drag\":\"auto\",\"active_inspect\":\"auto\",\"active_scroll\":\"auto\",\"active_tap\":\"auto\",\"tools\":[{\"id\":\"28432344-d2b8-4483-b1c7-1961f85c1cc9\",\"type\":\"PanTool\"},{\"id\":\"869fa144-6af4-47d4-b59c-f5f1cb9ecfa8\",\"type\":\"WheelZoomTool\"},{\"id\":\"6780b9dc-07e7-4b50-b857-db5dcac90b0c\",\"type\":\"BoxZoomTool\"},{\"id\":\"3f7edcdc-9663-41d2-8364-3cafe5a63c00\",\"type\":\"SaveTool\"},{\"id\":\"09af7481-a8e0-45d1-aec3-32837714aad5\",\"type\":\"ResetTool\"},{\"id\":\"2251dbbd-c960-49ba-bd7c-c480fc2a9567\",\"type\":\"HelpTool\"}]},\"id\":\"5d0da995-188b-4e10-bf50-f4bb016ac589\",\"type\":\"Toolbar\"},{\"attributes\":{\"line_alpha\":0.1,\"line_color\":\"#1f77b4\",\"line_width\":2,\"x\":{\"field\":\"Date\"},\"y\":{\"field\":\"Mean.TemperatureF\"}},\"id\":\"94b30f2b-a404-4f13-96fc-3b4a49e21f36\",\"type\":\"Line\"},{\"attributes\":{\"source\":{\"id\":\"3f68c51d-18fa-4f8a-8859-2870e69b8472\",\"type\":\"ColumnDataSource\"}},\"id\":\"e67acc2b-e153-48bb-b6fa-9c2c4f91215e\",\"type\":\"CDSView\"},{\"attributes\":{},\"id\":\"2251dbbd-c960-49ba-bd7c-c480fc2a9567\",\"type\":\"HelpTool\"},{\"attributes\":{\"label\":{\"field\":\"city\"},\"renderers\":[{\"id\":\"f08c229f-4063-4672-8caf-fabeaa60c81f\",\"type\":\"GlyphRenderer\"}]},\"id\":\"0b45b5ba-5527-46c1-bc3a-a8b49a69c802\",\"type\":\"LegendItem\"},{\"attributes\":{\"data_source\":{\"id\":\"457323d9-2941-4e44-b66e-75e81c1a3651\",\"type\":\"ColumnDataSource\"},\"glyph\":{\"id\":\"795f7b57-108a-4050-a8e4-a072cbcee589\",\"type\":\"Line\"},\"hover_glyph\":null,\"muted_glyph\":null,\"nonselection_glyph\":{\"id\":\"94b30f2b-a404-4f13-96fc-3b4a49e21f36\",\"type\":\"Line\"},\"selection_glyph\":null,\"view\":{\"id\":\"8e64f37c-a113-4494-baa1-1e86db6103c3\",\"type\":\"CDSView\"}},\"id\":\"985941d8-5f8f-43e5-ad7f-e089170a68c2\",\"type\":\"GlyphRenderer\"},{\"attributes\":{\"bottom_units\":\"screen\",\"fill_alpha\":{\"value\":0.5},\"fill_color\":{\"value\":\"lightgrey\"},\"left_units\":\"screen\",\"level\":\"overlay\",\"line_alpha\":{\"value\":1.0},\"line_color\":{\"value\":\"black\"},\"line_dash\":[4,4],\"line_width\":{\"value\":2},\"plot\":null,\"render_mode\":\"css\",\"right_units\":\"screen\",\"top_units\":\"screen\"},\"id\":\"b5fa33cd-5a60-4e15-a276-1e4245ee6390\",\"type\":\"BoxAnnotation\"},{\"attributes\":{\"callback\":null,\"column_names\":[\"city\",\"Date\",\"Mean.TemperatureF\",\"index\"],\"data\":{\"Date\":[1,2,3,4,5,6,7,8,9,10,11,12],\"Mean.TemperatureF\":{\"__ndarray__\":\"Ouecc845N0AAAAAAAAAtQBljjDHGGEFAREREREQESUDfe++99x5QQJqZmZmZOVFAa6211lrrUUB0zjnnnLNRQERERERERFFAjDHGGGOMS0B3d3d3dzdIQBFCCCGEEEZA\",\"dtype\":\"float64\",\"shape\":[12]},\"city\":[\"Cleveland (OH)\",\"Cleveland (OH)\",\"Cleveland (OH)\",\"Cleveland (OH)\",\"Cleveland (OH)\",\"Cleveland (OH)\",\"Cleveland (OH)\",\"Cleveland (OH)\",\"Cleveland (OH)\",\"Cleveland (OH)\",\"Cleveland (OH)\",\"Cleveland (OH)\"],\"index\":[0,1,2,3,4,5,6,7,8,9,10,11]},\"selected\":null,\"selection_policy\":null},\"id\":\"3f68c51d-18fa-4f8a-8859-2870e69b8472\",\"type\":\"ColumnDataSource\"},{\"attributes\":{\"label\":{\"field\":\"city\"},\"renderers\":[{\"id\":\"985941d8-5f8f-43e5-ad7f-e089170a68c2\",\"type\":\"GlyphRenderer\"}]},\"id\":\"c4b2f6b6-a79a-4c2c-ab0e-d70333745f91\",\"type\":\"LegendItem\"},{\"attributes\":{\"line_color\":\"blue\",\"line_width\":2,\"x\":{\"field\":\"Date\"},\"y\":{\"field\":\"Mean.TemperatureF\"}},\"id\":\"c643c1fa-7477-4f82-bd89-f0ba71a64b8a\",\"type\":\"Line\"},{\"attributes\":{\"items\":[{\"id\":\"bfab3264-ab51-4771-9f40-58e7cadb6ab5\",\"type\":\"LegendItem\"},{\"id\":\"0b45b5ba-5527-46c1-bc3a-a8b49a69c802\",\"type\":\"LegendItem\"},{\"id\":\"c4b2f6b6-a79a-4c2c-ab0e-d70333745f91\",\"type\":\"LegendItem\"},{\"id\":\"3178efcc-4728-4e87-bbf8-05bcb9e368c5\",\"type\":\"LegendItem\"}],\"location\":[550,0],\"plot\":{\"id\":\"dc6fdc82-b786-40a9-bc13-06ba0fabeeb9\",\"subtype\":\"Figure\",\"type\":\"Plot\"}},\"id\":\"1015bde7-e783-471a-867e-5dcf83a4f024\",\"type\":\"Legend\"},{\"attributes\":{},\"id\":\"0d5a9539-b452-44ee-afb0-e76b046ba7a5\",\"type\":\"LinearScale\"},{\"attributes\":{\"source\":{\"id\":\"457323d9-2941-4e44-b66e-75e81c1a3651\",\"type\":\"ColumnDataSource\"}},\"id\":\"8e64f37c-a113-4494-baa1-1e86db6103c3\",\"type\":\"CDSView\"},{\"attributes\":{\"axis_label\":\"Months in 2015\",\"formatter\":{\"id\":\"7cf66bb9-b302-48f2-857e-4c2bc464316c\",\"type\":\"BasicTickFormatter\"},\"plot\":{\"id\":\"dc6fdc82-b786-40a9-bc13-06ba0fabeeb9\",\"subtype\":\"Figure\",\"type\":\"Plot\"},\"ticker\":{\"id\":\"8f240bf7-64bd-49c8-a9a9-d19d3597e5d2\",\"type\":\"BasicTicker\"}},\"id\":\"fe6fa29d-9744-4c75-9d19-a90b1c4efb4d\",\"type\":\"LinearAxis\"},{\"attributes\":{},\"id\":\"869fa144-6af4-47d4-b59c-f5f1cb9ecfa8\",\"type\":\"WheelZoomTool\"},{\"attributes\":{},\"id\":\"2e481e5c-ef85-4cbe-9cc4-7d30bd0444bc\",\"type\":\"LinearScale\"},{\"attributes\":{},\"id\":\"28432344-d2b8-4483-b1c7-1961f85c1cc9\",\"type\":\"PanTool\"},{\"attributes\":{\"callback\":null},\"id\":\"2716fab8-a61a-491b-bfed-7504643a83d4\",\"type\":\"DataRange1d\"},{\"attributes\":{\"line_color\":\"yellow\",\"line_width\":2,\"x\":{\"field\":\"Date\"},\"y\":{\"field\":\"Mean.TemperatureF\"}},\"id\":\"795f7b57-108a-4050-a8e4-a072cbcee589\",\"type\":\"Line\"},{\"attributes\":{\"callback\":null,\"column_names\":[\"city\",\"Date\",\"Mean.TemperatureF\",\"index\"],\"data\":{\"Date\":[1,2,3,4,5,6,7,8,9,10,11,12],\"Mean.TemperatureF\":{\"__ndarray__\":\"hBBCCCEESUDbtm3btm1KQFtrrbXWWk9A7+7u7u4uUkCMMcYYY0xTQLy7u7u7m1RAU0oppZSSVUCVUkoppVRVQM3MzMzMDFRAIYQQQghhUkAzMzMzM7NPQFtrrbXW2k1A\",\"dtype\":\"float64\",\"shape\":[12]},\"city\":[\"Houston (TX)\",\"Houston (TX)\",\"Houston (TX)\",\"Houston (TX)\",\"Houston (TX)\",\"Houston (TX)\",\"Houston (TX)\",\"Houston (TX)\",\"Houston (TX)\",\"Houston (TX)\",\"Houston (TX)\",\"Houston (TX)\"],\"index\":[12,13,14,15,16,17,18,19,20,21,22,23]},\"selected\":null,\"selection_policy\":null},\"id\":\"015ad6a3-a183-4499-927e-332b1ac9c2ec\",\"type\":\"ColumnDataSource\"},{\"attributes\":{\"dimension\":1,\"plot\":{\"id\":\"dc6fdc82-b786-40a9-bc13-06ba0fabeeb9\",\"subtype\":\"Figure\",\"type\":\"Plot\"},\"ticker\":{\"id\":\"94dc046b-8d30-4cec-9ea5-13d5f9b9285d\",\"type\":\"BasicTicker\"}},\"id\":\"86b808ed-2f9a-4c8a-b452-244370ae5dab\",\"type\":\"Grid\"},{\"attributes\":{\"label\":{\"field\":\"city\"},\"renderers\":[{\"id\":\"424c0004-5c34-44c7-a962-e612ea9c6bae\",\"type\":\"GlyphRenderer\"}]},\"id\":\"bfab3264-ab51-4771-9f40-58e7cadb6ab5\",\"type\":\"LegendItem\"}],\"root_ids\":[\"dc6fdc82-b786-40a9-bc13-06ba0fabeeb9\"]},\"title\":\"Bokeh Application\",\"version\":\"0.12.15\"}};\n",
       "  var render_items = [{\"docid\":\"753e0963-5568-423b-8854-9a899cadc17f\",\"elementid\":\"710acbbf-aad9-4e39-8a6b-d180ec06eb80\",\"modelid\":\"dc6fdc82-b786-40a9-bc13-06ba0fabeeb9\"}];\n",
       "  root.Bokeh.embed.embed_items_notebook(docs_json, render_items);\n",
       "\n",
       "  }\n",
       "  if (root.Bokeh !== undefined) {\n",
       "    embed_document(root);\n",
       "  } else {\n",
       "    var attempts = 0;\n",
       "    var timer = setInterval(function(root) {\n",
       "      if (root.Bokeh !== undefined) {\n",
       "        embed_document(root);\n",
       "        clearInterval(timer);\n",
       "      }\n",
       "      attempts++;\n",
       "      if (attempts > 100) {\n",
       "        console.log(\"Bokeh: ERROR: Unable to run BokehJS code because BokehJS library is missing\")\n",
       "        clearInterval(timer);\n",
       "      }\n",
       "    }, 10, root)\n",
       "  }\n",
       "})(window);"
      ],
      "application/vnd.bokehjs_exec.v0+json": ""
     },
     "metadata": {
      "application/vnd.bokehjs_exec.v0+json": {
       "id": "dc6fdc82-b786-40a9-bc13-06ba0fabeeb9"
      }
     },
     "output_type": "display_data"
    }
   ],
   "source": [
    "show(fig13) # Cannot figure out how to place the legend outside the plot"
   ]
  },
  {
   "cell_type": "code",
   "execution_count": null,
   "metadata": {},
   "outputs": [],
   "source": []
  },
  {
   "cell_type": "markdown",
   "metadata": {},
   "source": [
    "Figure 1.4 - heatmap<br>\n",
    "source: https://bokeh.pydata.org/en/latest/docs/gallery/unemployment.html"
   ]
  },
  {
   "cell_type": "code",
   "execution_count": 28,
   "metadata": {},
   "outputs": [],
   "source": [
    "colours = [\"#75968f\", \"#a5bab7\", \"#c9d9d3\", \"#e2e2e2\", \"#dfccce\", \"#ddb7b1\", \"#cc7878\", \"#933b41\", \"#550b1d\"]"
   ]
  },
  {
   "cell_type": "code",
   "execution_count": 29,
   "metadata": {},
   "outputs": [],
   "source": [
    "mapper = LinearColorMapper(palette=colours, low=base[\"Mean.TemperatureF\"].min(), \n",
    "                           high=base[\"Mean.TemperatureF\"].max())"
   ]
  },
  {
   "cell_type": "code",
   "execution_count": 30,
   "metadata": {},
   "outputs": [],
   "source": [
    "base.Date = base.Date.apply(str)"
   ]
  },
  {
   "cell_type": "code",
   "execution_count": 31,
   "metadata": {},
   "outputs": [
    {
     "data": {
      "text/html": [
       "<div>\n",
       "<style scoped>\n",
       "    .dataframe tbody tr th:only-of-type {\n",
       "        vertical-align: middle;\n",
       "    }\n",
       "\n",
       "    .dataframe tbody tr th {\n",
       "        vertical-align: top;\n",
       "    }\n",
       "\n",
       "    .dataframe thead th {\n",
       "        text-align: right;\n",
       "    }\n",
       "</style>\n",
       "<table border=\"1\" class=\"dataframe\">\n",
       "  <thead>\n",
       "    <tr style=\"text-align: right;\">\n",
       "      <th></th>\n",
       "      <th>city</th>\n",
       "      <th>Date</th>\n",
       "      <th>Mean.TemperatureF</th>\n",
       "    </tr>\n",
       "  </thead>\n",
       "  <tbody>\n",
       "    <tr>\n",
       "      <th>0</th>\n",
       "      <td>Cleveland (OH)</td>\n",
       "      <td>1</td>\n",
       "      <td>23.225806</td>\n",
       "    </tr>\n",
       "    <tr>\n",
       "      <th>1</th>\n",
       "      <td>Cleveland (OH)</td>\n",
       "      <td>2</td>\n",
       "      <td>14.500000</td>\n",
       "    </tr>\n",
       "  </tbody>\n",
       "</table>\n",
       "</div>"
      ],
      "text/plain": [
       "             city Date  Mean.TemperatureF\n",
       "0  Cleveland (OH)    1          23.225806\n",
       "1  Cleveland (OH)    2          14.500000"
      ]
     },
     "execution_count": 31,
     "metadata": {},
     "output_type": "execute_result"
    }
   ],
   "source": [
    "base.head(2)"
   ]
  },
  {
   "cell_type": "code",
   "execution_count": 32,
   "metadata": {},
   "outputs": [],
   "source": [
    "base.rename(columns={\"Mean.TemperatureF\": \"TemperatureF\"}, inplace=True)"
   ]
  },
  {
   "cell_type": "code",
   "execution_count": 33,
   "metadata": {},
   "outputs": [],
   "source": [
    "months = list(base.Date.drop_duplicates())"
   ]
  },
  {
   "cell_type": "code",
   "execution_count": 34,
   "metadata": {},
   "outputs": [],
   "source": [
    "cities = list(base.city.drop_duplicates())"
   ]
  },
  {
   "cell_type": "code",
   "execution_count": 39,
   "metadata": {},
   "outputs": [
    {
     "data": {
      "text/html": [
       "\n",
       "<div class=\"bk-root\">\n",
       "    <div class=\"bk-plotdiv\" id=\"d474e3bf-2fbe-418a-8ca8-2a3c27bfc39d\"></div>\n",
       "</div>"
      ]
     },
     "metadata": {},
     "output_type": "display_data"
    },
    {
     "data": {
      "application/javascript": [
       "(function(root) {\n",
       "  function embed_document(root) {\n",
       "    \n",
       "  var docs_json = {\"4c1232b3-e2d0-4cef-b104-e06669a38ddd\":{\"roots\":{\"references\":[{\"attributes\":{\"bottom_units\":\"screen\",\"fill_alpha\":{\"value\":0.5},\"fill_color\":{\"value\":\"lightgrey\"},\"left_units\":\"screen\",\"level\":\"overlay\",\"line_alpha\":{\"value\":1.0},\"line_color\":{\"value\":\"black\"},\"line_dash\":[4,4],\"line_width\":{\"value\":2},\"plot\":null,\"render_mode\":\"css\",\"right_units\":\"screen\",\"top_units\":\"screen\"},\"id\":\"ac9e38be-2e1c-496b-9655-f9ff28dcbc95\",\"type\":\"BoxAnnotation\"},{\"attributes\":{},\"id\":\"054eaceb-94a7-4af1-9e7c-8ef01dfb4700\",\"type\":\"ResetTool\"},{\"attributes\":{\"fill_alpha\":{\"value\":0.1},\"fill_color\":{\"value\":\"#1f77b4\"},\"height\":{\"units\":\"data\",\"value\":1},\"line_alpha\":{\"value\":0.1},\"line_color\":{\"value\":\"#1f77b4\"},\"width\":{\"units\":\"data\",\"value\":1},\"x\":{\"field\":\"Date\"},\"y\":{\"field\":\"city\"}},\"id\":\"3cb3f89b-376e-43ad-bf3f-57b0abc6ca26\",\"type\":\"Rect\"},{\"attributes\":{\"desired_num_ticks\":9},\"id\":\"77a82df8-a3f7-4e4a-8367-cf9b187db163\",\"type\":\"BasicTicker\"},{\"attributes\":{\"plot\":null,\"text\":\"Figure 1.4 - Monthly normal mean temperatures for four locations in the U.S\"},\"id\":\"23b76d4b-06ac-48ce-8685-dd6155975ed0\",\"type\":\"Title\"},{\"attributes\":{\"overlay\":{\"id\":\"ac9e38be-2e1c-496b-9655-f9ff28dcbc95\",\"type\":\"BoxAnnotation\"}},\"id\":\"9b55fab2-cb6f-4aa8-883a-fe550e79438a\",\"type\":\"BoxZoomTool\"},{\"attributes\":{\"active_drag\":\"auto\",\"active_inspect\":\"auto\",\"active_scroll\":\"auto\",\"active_tap\":\"auto\",\"tools\":[{\"id\":\"a7af4211-64a1-4cfc-96db-5fdd51c4c142\",\"type\":\"PanTool\"},{\"id\":\"e3acac40-150c-42ec-b58e-c4dda17b6fcc\",\"type\":\"WheelZoomTool\"},{\"id\":\"9b55fab2-cb6f-4aa8-883a-fe550e79438a\",\"type\":\"BoxZoomTool\"},{\"id\":\"0b415c59-a6e6-4c5b-9175-4b0aae0b8ac0\",\"type\":\"SaveTool\"},{\"id\":\"054eaceb-94a7-4af1-9e7c-8ef01dfb4700\",\"type\":\"ResetTool\"},{\"id\":\"68d4b750-126a-47a1-b255-870285023dcf\",\"type\":\"HelpTool\"}]},\"id\":\"3cb7deb1-8a9f-451d-ac77-893876554b20\",\"type\":\"Toolbar\"},{\"attributes\":{\"axis_line_color\":{\"value\":null},\"formatter\":{\"id\":\"a9df1864-dfd6-4350-a8e5-bf1f4346f05b\",\"type\":\"CategoricalTickFormatter\"},\"major_label_standoff\":0,\"major_label_text_font_size\":{\"value\":\"5pt\"},\"major_tick_line_color\":{\"value\":null},\"plot\":{\"id\":\"be1617d6-e53e-4b16-b8a3-f2f6916daf8d\",\"subtype\":\"Figure\",\"type\":\"Plot\"},\"ticker\":{\"id\":\"e66fa3af-830b-4f9e-88b7-4c29f12efdb5\",\"type\":\"CategoricalTicker\"}},\"id\":\"5557e112-88ac-4c08-bcfb-1966ea9e10e9\",\"type\":\"CategoricalAxis\"},{\"attributes\":{},\"id\":\"e3acac40-150c-42ec-b58e-c4dda17b6fcc\",\"type\":\"WheelZoomTool\"},{\"attributes\":{\"callback\":null,\"factors\":[\"Miami (FL)\",\"Los Angeles (CA)\",\"Houston (TX)\",\"Cleveland (OH)\"]},\"id\":\"9fb3d76b-6b98-4c38-bd7e-2d745076db9b\",\"type\":\"FactorRange\"},{\"attributes\":{},\"id\":\"a7af4211-64a1-4cfc-96db-5fdd51c4c142\",\"type\":\"PanTool\"},{\"attributes\":{\"color_mapper\":{\"id\":\"935b9074-28a4-4c4e-a2dc-07bf3dd02785\",\"type\":\"LinearColorMapper\"},\"formatter\":{\"id\":\"c6764039-224f-4f61-a9f2-ed264bf57a9d\",\"type\":\"PrintfTickFormatter\"},\"label_standoff\":6,\"location\":[0,0],\"major_label_text_font_size\":{\"value\":\"5pt\"},\"plot\":{\"id\":\"be1617d6-e53e-4b16-b8a3-f2f6916daf8d\",\"subtype\":\"Figure\",\"type\":\"Plot\"},\"ticker\":{\"id\":\"77a82df8-a3f7-4e4a-8367-cf9b187db163\",\"type\":\"BasicTicker\"},\"title\":\"temperature\"},\"id\":\"9be6f8f2-1c6a-447d-8450-c0afd8aa63cc\",\"type\":\"ColorBar\"},{\"attributes\":{\"fill_color\":{\"field\":\"TemperatureF\",\"transform\":{\"id\":\"935b9074-28a4-4c4e-a2dc-07bf3dd02785\",\"type\":\"LinearColorMapper\"}},\"height\":{\"units\":\"data\",\"value\":1},\"line_color\":{\"value\":null},\"width\":{\"units\":\"data\",\"value\":1},\"x\":{\"field\":\"Date\"},\"y\":{\"field\":\"city\"}},\"id\":\"5b2799d4-f0f7-4f15-b7ac-4522859f566b\",\"type\":\"Rect\"},{\"attributes\":{\"grid_line_color\":{\"value\":null},\"plot\":{\"id\":\"be1617d6-e53e-4b16-b8a3-f2f6916daf8d\",\"subtype\":\"Figure\",\"type\":\"Plot\"},\"ticker\":{\"id\":\"e66fa3af-830b-4f9e-88b7-4c29f12efdb5\",\"type\":\"CategoricalTicker\"}},\"id\":\"7a400553-e76d-4052-94ea-e23b94ca8be6\",\"type\":\"Grid\"},{\"attributes\":{\"dimension\":1,\"grid_line_color\":{\"value\":null},\"plot\":{\"id\":\"be1617d6-e53e-4b16-b8a3-f2f6916daf8d\",\"subtype\":\"Figure\",\"type\":\"Plot\"},\"ticker\":{\"id\":\"05ad6ffa-8a68-44c6-9844-2a63cd5d1eb7\",\"type\":\"CategoricalTicker\"}},\"id\":\"c2e06847-5745-467e-a7f0-1948018d6a6c\",\"type\":\"Grid\"},{\"attributes\":{},\"id\":\"0b415c59-a6e6-4c5b-9175-4b0aae0b8ac0\",\"type\":\"SaveTool\"},{\"attributes\":{},\"id\":\"eb31eb0d-d1e6-4fad-82b3-a88f94a8523b\",\"type\":\"CategoricalScale\"},{\"attributes\":{},\"id\":\"f8e2559d-97d1-4854-af66-71ecad4345cd\",\"type\":\"CategoricalScale\"},{\"attributes\":{\"callback\":null,\"factors\":[\"1\",\"2\",\"3\",\"4\",\"5\",\"6\",\"7\",\"8\",\"9\",\"10\",\"11\",\"12\"]},\"id\":\"5bc3dc34-d42c-40fc-8e54-5b6c8c42976a\",\"type\":\"FactorRange\"},{\"attributes\":{},\"id\":\"05ad6ffa-8a68-44c6-9844-2a63cd5d1eb7\",\"type\":\"CategoricalTicker\"},{\"attributes\":{\"axis_line_color\":{\"value\":null},\"formatter\":{\"id\":\"2c660c39-b2b6-42da-8552-fba3b95dbe51\",\"type\":\"CategoricalTickFormatter\"},\"major_label_standoff\":0,\"major_label_text_font_size\":{\"value\":\"5pt\"},\"major_tick_line_color\":{\"value\":null},\"plot\":{\"id\":\"be1617d6-e53e-4b16-b8a3-f2f6916daf8d\",\"subtype\":\"Figure\",\"type\":\"Plot\"},\"ticker\":{\"id\":\"05ad6ffa-8a68-44c6-9844-2a63cd5d1eb7\",\"type\":\"CategoricalTicker\"}},\"id\":\"e67b4701-c888-4804-9418-5690fd2d7657\",\"type\":\"CategoricalAxis\"},{\"attributes\":{},\"id\":\"a9df1864-dfd6-4350-a8e5-bf1f4346f05b\",\"type\":\"CategoricalTickFormatter\"},{\"attributes\":{\"high\":86.29032258064517,\"low\":14.5,\"palette\":[\"#75968f\",\"#a5bab7\",\"#c9d9d3\",\"#e2e2e2\",\"#dfccce\",\"#ddb7b1\",\"#cc7878\",\"#933b41\",\"#550b1d\"]},\"id\":\"935b9074-28a4-4c4e-a2dc-07bf3dd02785\",\"type\":\"LinearColorMapper\"},{\"attributes\":{},\"id\":\"c6764039-224f-4f61-a9f2-ed264bf57a9d\",\"type\":\"PrintfTickFormatter\"},{\"attributes\":{},\"id\":\"68d4b750-126a-47a1-b255-870285023dcf\",\"type\":\"HelpTool\"},{\"attributes\":{},\"id\":\"2c660c39-b2b6-42da-8552-fba3b95dbe51\",\"type\":\"CategoricalTickFormatter\"},{\"attributes\":{\"callback\":null,\"column_names\":[\"city\",\"Date\",\"TemperatureF\",\"index\"],\"data\":{\"Date\":[\"1\",\"2\",\"3\",\"4\",\"5\",\"6\",\"7\",\"8\",\"9\",\"10\",\"11\",\"12\",\"1\",\"2\",\"3\",\"4\",\"5\",\"6\",\"7\",\"8\",\"9\",\"10\",\"11\",\"12\",\"1\",\"2\",\"3\",\"4\",\"5\",\"6\",\"7\",\"8\",\"9\",\"10\",\"11\",\"12\",\"1\",\"2\",\"3\",\"4\",\"5\",\"6\",\"7\",\"8\",\"9\",\"10\",\"11\",\"12\"],\"TemperatureF\":{\"__ndarray__\":\"Ouecc845N0AAAAAAAAAtQBljjDHGGEFAREREREQESUDfe++99x5QQJqZmZmZOVFAa6211lrrUUB0zjnnnLNRQERERERERFFAjDHGGGOMS0B3d3d3dzdIQBFCCCGEEEZAhBBCCCEESUDbtm3btm1KQFtrrbXWWk9A7+7u7u4uUkCMMcYYY0xTQLy7u7u7m1RAU0oppZSSVUCVUkoppVRVQM3MzMzMDFRAIYQQQghhUkAzMzMzM7NPQFtrrbXW2k1ACCGEEEIITkBJkiRJkqROQDLGGGOMMVBARERERERET0AhhBBCCKFOQAAAAAAAoFBA33vvvfeeUUC+99577z1SQFVVVVVV1VJAjDHGGGOMUkAzMzMzMzNPQEoppZRSykxACCGEEELIUUCSJEmSJClRQAAAAAAAQFNAZmZmZmYmVECEEEIIIURUQFVVVVVV9VRAvvfee+89VUA655xzzjlVQGZmZmZm5lRA77333nsvVECJiIiIiKhTQCGEEEIIYVNA\",\"dtype\":\"float64\",\"shape\":[48]},\"city\":[\"Cleveland (OH)\",\"Cleveland (OH)\",\"Cleveland (OH)\",\"Cleveland (OH)\",\"Cleveland (OH)\",\"Cleveland (OH)\",\"Cleveland (OH)\",\"Cleveland (OH)\",\"Cleveland (OH)\",\"Cleveland (OH)\",\"Cleveland (OH)\",\"Cleveland (OH)\",\"Houston (TX)\",\"Houston (TX)\",\"Houston (TX)\",\"Houston (TX)\",\"Houston (TX)\",\"Houston (TX)\",\"Houston (TX)\",\"Houston (TX)\",\"Houston (TX)\",\"Houston (TX)\",\"Houston (TX)\",\"Houston (TX)\",\"Los Angeles (CA)\",\"Los Angeles (CA)\",\"Los Angeles (CA)\",\"Los Angeles (CA)\",\"Los Angeles (CA)\",\"Los Angeles (CA)\",\"Los Angeles (CA)\",\"Los Angeles (CA)\",\"Los Angeles (CA)\",\"Los Angeles (CA)\",\"Los Angeles (CA)\",\"Los Angeles (CA)\",\"Miami (FL)\",\"Miami (FL)\",\"Miami (FL)\",\"Miami (FL)\",\"Miami (FL)\",\"Miami (FL)\",\"Miami (FL)\",\"Miami (FL)\",\"Miami (FL)\",\"Miami (FL)\",\"Miami (FL)\",\"Miami (FL)\"],\"index\":[0,1,2,3,4,5,6,7,8,9,10,11,12,13,14,15,16,17,18,19,20,21,22,23,24,25,26,27,28,29,30,31,32,33,34,35,36,37,38,39,40,41,42,43,44,45,46,47]},\"selected\":null,\"selection_policy\":null},\"id\":\"b73a4bb4-e1db-410c-9ff5-36c57c730096\",\"type\":\"ColumnDataSource\"},{\"attributes\":{\"below\":[{\"id\":\"5557e112-88ac-4c08-bcfb-1966ea9e10e9\",\"type\":\"CategoricalAxis\"}],\"left\":[{\"id\":\"e67b4701-c888-4804-9418-5690fd2d7657\",\"type\":\"CategoricalAxis\"}],\"plot_height\":300,\"plot_width\":900,\"renderers\":[{\"id\":\"5557e112-88ac-4c08-bcfb-1966ea9e10e9\",\"type\":\"CategoricalAxis\"},{\"id\":\"7a400553-e76d-4052-94ea-e23b94ca8be6\",\"type\":\"Grid\"},{\"id\":\"e67b4701-c888-4804-9418-5690fd2d7657\",\"type\":\"CategoricalAxis\"},{\"id\":\"c2e06847-5745-467e-a7f0-1948018d6a6c\",\"type\":\"Grid\"},{\"id\":\"ac9e38be-2e1c-496b-9655-f9ff28dcbc95\",\"type\":\"BoxAnnotation\"},{\"id\":\"b1229016-6dc5-4f40-8af9-785f192d32b3\",\"type\":\"GlyphRenderer\"},{\"id\":\"9be6f8f2-1c6a-447d-8450-c0afd8aa63cc\",\"type\":\"ColorBar\"}],\"right\":[{\"id\":\"9be6f8f2-1c6a-447d-8450-c0afd8aa63cc\",\"type\":\"ColorBar\"}],\"title\":{\"id\":\"23b76d4b-06ac-48ce-8685-dd6155975ed0\",\"type\":\"Title\"},\"toolbar\":{\"id\":\"3cb7deb1-8a9f-451d-ac77-893876554b20\",\"type\":\"Toolbar\"},\"x_range\":{\"id\":\"5bc3dc34-d42c-40fc-8e54-5b6c8c42976a\",\"type\":\"FactorRange\"},\"x_scale\":{\"id\":\"f8e2559d-97d1-4854-af66-71ecad4345cd\",\"type\":\"CategoricalScale\"},\"y_range\":{\"id\":\"9fb3d76b-6b98-4c38-bd7e-2d745076db9b\",\"type\":\"FactorRange\"},\"y_scale\":{\"id\":\"eb31eb0d-d1e6-4fad-82b3-a88f94a8523b\",\"type\":\"CategoricalScale\"}},\"id\":\"be1617d6-e53e-4b16-b8a3-f2f6916daf8d\",\"subtype\":\"Figure\",\"type\":\"Plot\"},{\"attributes\":{\"source\":{\"id\":\"b73a4bb4-e1db-410c-9ff5-36c57c730096\",\"type\":\"ColumnDataSource\"}},\"id\":\"a077653c-f07d-4b50-9092-72650eea4ec4\",\"type\":\"CDSView\"},{\"attributes\":{\"data_source\":{\"id\":\"b73a4bb4-e1db-410c-9ff5-36c57c730096\",\"type\":\"ColumnDataSource\"},\"glyph\":{\"id\":\"5b2799d4-f0f7-4f15-b7ac-4522859f566b\",\"type\":\"Rect\"},\"hover_glyph\":null,\"muted_glyph\":null,\"nonselection_glyph\":{\"id\":\"3cb3f89b-376e-43ad-bf3f-57b0abc6ca26\",\"type\":\"Rect\"},\"selection_glyph\":null,\"view\":{\"id\":\"a077653c-f07d-4b50-9092-72650eea4ec4\",\"type\":\"CDSView\"}},\"id\":\"b1229016-6dc5-4f40-8af9-785f192d32b3\",\"type\":\"GlyphRenderer\"},{\"attributes\":{},\"id\":\"e66fa3af-830b-4f9e-88b7-4c29f12efdb5\",\"type\":\"CategoricalTicker\"}],\"root_ids\":[\"be1617d6-e53e-4b16-b8a3-f2f6916daf8d\"]},\"title\":\"Bokeh Application\",\"version\":\"0.12.15\"}};\n",
       "  var render_items = [{\"docid\":\"4c1232b3-e2d0-4cef-b104-e06669a38ddd\",\"elementid\":\"d474e3bf-2fbe-418a-8ca8-2a3c27bfc39d\",\"modelid\":\"be1617d6-e53e-4b16-b8a3-f2f6916daf8d\"}];\n",
       "  root.Bokeh.embed.embed_items_notebook(docs_json, render_items);\n",
       "\n",
       "  }\n",
       "  if (root.Bokeh !== undefined) {\n",
       "    embed_document(root);\n",
       "  } else {\n",
       "    var attempts = 0;\n",
       "    var timer = setInterval(function(root) {\n",
       "      if (root.Bokeh !== undefined) {\n",
       "        embed_document(root);\n",
       "        clearInterval(timer);\n",
       "      }\n",
       "      attempts++;\n",
       "      if (attempts > 100) {\n",
       "        console.log(\"Bokeh: ERROR: Unable to run BokehJS code because BokehJS library is missing\")\n",
       "        clearInterval(timer);\n",
       "      }\n",
       "    }, 10, root)\n",
       "  }\n",
       "})(window);"
      ],
      "application/vnd.bokehjs_exec.v0+json": ""
     },
     "metadata": {
      "application/vnd.bokehjs_exec.v0+json": {
       "id": "be1617d6-e53e-4b16-b8a3-f2f6916daf8d"
      }
     },
     "output_type": "display_data"
    }
   ],
   "source": [
    "p = figure(title=\"Figure 1.4 - Monthly normal mean temperatures for four locations in the U.S\",\n",
    "           x_range=months, y_range=list(reversed(cities)),\n",
    "           plot_width=900, plot_height=300)\n",
    "\n",
    "p.grid.grid_line_color = None\n",
    "p.axis.axis_line_color = None\n",
    "p.axis.major_tick_line_color = None\n",
    "p.axis.major_label_text_font_size = \"5pt\"\n",
    "p.axis.major_label_standoff = 0\n",
    "\n",
    "p.rect(x=\"Date\", y=\"city\", width=1, height=1,\n",
    "       source=ColumnDataSource(base),\n",
    "       fill_color={\"field\": \"TemperatureF\", \"transform\": mapper},\n",
    "       line_color=None)\n",
    "\n",
    "color_bar = ColorBar(color_mapper=mapper, major_label_text_font_size=\"5pt\",\n",
    "                     ticker=BasicTicker(desired_num_ticks=len(colours)),\n",
    "                     formatter=PrintfTickFormatter(),\n",
    "                     label_standoff=6, border_line_color=None, location=(0, 0), title=\"temperature\")\n",
    "p.add_layout(color_bar, 'right')\n",
    "\n",
    "\n",
    "show(p)"
   ]
  },
  {
   "cell_type": "code",
   "execution_count": null,
   "metadata": {},
   "outputs": [],
   "source": []
  },
  {
   "cell_type": "code",
   "execution_count": null,
   "metadata": {},
   "outputs": [],
   "source": []
  },
  {
   "cell_type": "code",
   "execution_count": null,
   "metadata": {},
   "outputs": [],
   "source": []
  }
 ],
 "metadata": {
  "kernelspec": {
   "display_name": "Python 3",
   "language": "python",
   "name": "python3"
  },
  "language_info": {
   "codemirror_mode": {
    "name": "ipython",
    "version": 3
   },
   "file_extension": ".py",
   "mimetype": "text/x-python",
   "name": "python",
   "nbconvert_exporter": "python",
   "pygments_lexer": "ipython3",
   "version": "3.6.4"
  }
 },
 "nbformat": 4,
 "nbformat_minor": 2
}
