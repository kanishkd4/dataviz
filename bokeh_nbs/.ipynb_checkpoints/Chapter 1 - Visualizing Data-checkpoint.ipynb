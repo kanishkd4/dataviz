{
 "cells": [
  {
   "cell_type": "code",
   "execution_count": 1,
   "metadata": {},
   "outputs": [],
   "source": [
    "from bokeh.plotting import figure, output_notebook, show"
   ]
  },
  {
   "cell_type": "code",
   "execution_count": 2,
   "metadata": {},
   "outputs": [],
   "source": [
    "from bokeh.models import Arrow, OpenHead, NormalHead, VeeHead, Label, Range1d, SingleIntervalTicker\n",
    "from bokeh.models import LinearAxis, BasicTickFormatter, FactorRange, ColumnDataSource, Legend, LinearColorMapper\n",
    "from bokeh.models import PrintfTickFormatter, ColorBar, BasicTicker"
   ]
  },
  {
   "cell_type": "code",
   "execution_count": 143,
   "metadata": {},
   "outputs": [],
   "source": [
    "from bokeh.layouts import gridplot, column\n",
    "from bokeh.models.widgets import Div\n",
    "from bokeh.models import BasicTicker, PrintfTickFormatter"
   ]
  },
  {
   "cell_type": "code",
   "execution_count": 4,
   "metadata": {
    "scrolled": true
   },
   "outputs": [
    {
     "data": {
      "text/html": [
       "\n",
       "    <div class=\"bk-root\">\n",
       "        <a href=\"https://bokeh.pydata.org\" target=\"_blank\" class=\"bk-logo bk-logo-small bk-logo-notebook\"></a>\n",
       "        <span id=\"59206fc4-26ba-43df-ac73-54b793665aeb\">Loading BokehJS ...</span>\n",
       "    </div>"
      ]
     },
     "metadata": {},
     "output_type": "display_data"
    },
    {
     "data": {
      "application/javascript": [
       "\n",
       "(function(root) {\n",
       "  function now() {\n",
       "    return new Date();\n",
       "  }\n",
       "\n",
       "  var force = true;\n",
       "\n",
       "  if (typeof (root._bokeh_onload_callbacks) === \"undefined\" || force === true) {\n",
       "    root._bokeh_onload_callbacks = [];\n",
       "    root._bokeh_is_loading = undefined;\n",
       "  }\n",
       "\n",
       "  var JS_MIME_TYPE = 'application/javascript';\n",
       "  var HTML_MIME_TYPE = 'text/html';\n",
       "  var EXEC_MIME_TYPE = 'application/vnd.bokehjs_exec.v0+json';\n",
       "  var CLASS_NAME = 'output_bokeh rendered_html';\n",
       "\n",
       "  /**\n",
       "   * Render data to the DOM node\n",
       "   */\n",
       "  function render(props, node) {\n",
       "    var script = document.createElement(\"script\");\n",
       "    node.appendChild(script);\n",
       "  }\n",
       "\n",
       "  /**\n",
       "   * Handle when an output is cleared or removed\n",
       "   */\n",
       "  function handleClearOutput(event, handle) {\n",
       "    var cell = handle.cell;\n",
       "\n",
       "    var id = cell.output_area._bokeh_element_id;\n",
       "    var server_id = cell.output_area._bokeh_server_id;\n",
       "    // Clean up Bokeh references\n",
       "    if (id !== undefined) {\n",
       "      Bokeh.index[id].model.document.clear();\n",
       "      delete Bokeh.index[id];\n",
       "    }\n",
       "\n",
       "    if (server_id !== undefined) {\n",
       "      // Clean up Bokeh references\n",
       "      var cmd = \"from bokeh.io.state import curstate; print(curstate().uuid_to_server['\" + server_id + \"'].get_sessions()[0].document.roots[0]._id)\";\n",
       "      cell.notebook.kernel.execute(cmd, {\n",
       "        iopub: {\n",
       "          output: function(msg) {\n",
       "            var element_id = msg.content.text.trim();\n",
       "            Bokeh.index[element_id].model.document.clear();\n",
       "            delete Bokeh.index[element_id];\n",
       "          }\n",
       "        }\n",
       "      });\n",
       "      // Destroy server and session\n",
       "      var cmd = \"import bokeh.io.notebook as ion; ion.destroy_server('\" + server_id + \"')\";\n",
       "      cell.notebook.kernel.execute(cmd);\n",
       "    }\n",
       "  }\n",
       "\n",
       "  /**\n",
       "   * Handle when a new output is added\n",
       "   */\n",
       "  function handleAddOutput(event, handle) {\n",
       "    var output_area = handle.output_area;\n",
       "    var output = handle.output;\n",
       "\n",
       "    // limit handleAddOutput to display_data with EXEC_MIME_TYPE content only\n",
       "    if ((output.output_type != \"display_data\") || (!output.data.hasOwnProperty(EXEC_MIME_TYPE))) {\n",
       "      return\n",
       "    }\n",
       "\n",
       "    var toinsert = output_area.element.find(\".\" + CLASS_NAME.split(' ')[0]);\n",
       "\n",
       "    if (output.metadata[EXEC_MIME_TYPE][\"id\"] !== undefined) {\n",
       "      toinsert[toinsert.length - 1].firstChild.textContent = output.data[JS_MIME_TYPE];\n",
       "      // store reference to embed id on output_area\n",
       "      output_area._bokeh_element_id = output.metadata[EXEC_MIME_TYPE][\"id\"];\n",
       "    }\n",
       "    if (output.metadata[EXEC_MIME_TYPE][\"server_id\"] !== undefined) {\n",
       "      var bk_div = document.createElement(\"div\");\n",
       "      bk_div.innerHTML = output.data[HTML_MIME_TYPE];\n",
       "      var script_attrs = bk_div.children[0].attributes;\n",
       "      for (var i = 0; i < script_attrs.length; i++) {\n",
       "        toinsert[toinsert.length - 1].firstChild.setAttribute(script_attrs[i].name, script_attrs[i].value);\n",
       "      }\n",
       "      // store reference to server id on output_area\n",
       "      output_area._bokeh_server_id = output.metadata[EXEC_MIME_TYPE][\"server_id\"];\n",
       "    }\n",
       "  }\n",
       "\n",
       "  function register_renderer(events, OutputArea) {\n",
       "\n",
       "    function append_mime(data, metadata, element) {\n",
       "      // create a DOM node to render to\n",
       "      var toinsert = this.create_output_subarea(\n",
       "        metadata,\n",
       "        CLASS_NAME,\n",
       "        EXEC_MIME_TYPE\n",
       "      );\n",
       "      this.keyboard_manager.register_events(toinsert);\n",
       "      // Render to node\n",
       "      var props = {data: data, metadata: metadata[EXEC_MIME_TYPE]};\n",
       "      render(props, toinsert[toinsert.length - 1]);\n",
       "      element.append(toinsert);\n",
       "      return toinsert\n",
       "    }\n",
       "\n",
       "    /* Handle when an output is cleared or removed */\n",
       "    events.on('clear_output.CodeCell', handleClearOutput);\n",
       "    events.on('delete.Cell', handleClearOutput);\n",
       "\n",
       "    /* Handle when a new output is added */\n",
       "    events.on('output_added.OutputArea', handleAddOutput);\n",
       "\n",
       "    /**\n",
       "     * Register the mime type and append_mime function with output_area\n",
       "     */\n",
       "    OutputArea.prototype.register_mime_type(EXEC_MIME_TYPE, append_mime, {\n",
       "      /* Is output safe? */\n",
       "      safe: true,\n",
       "      /* Index of renderer in `output_area.display_order` */\n",
       "      index: 0\n",
       "    });\n",
       "  }\n",
       "\n",
       "  // register the mime type if in Jupyter Notebook environment and previously unregistered\n",
       "  if (root.Jupyter !== undefined) {\n",
       "    var events = require('base/js/events');\n",
       "    var OutputArea = require('notebook/js/outputarea').OutputArea;\n",
       "\n",
       "    if (OutputArea.prototype.mime_types().indexOf(EXEC_MIME_TYPE) == -1) {\n",
       "      register_renderer(events, OutputArea);\n",
       "    }\n",
       "  }\n",
       "\n",
       "  \n",
       "  if (typeof (root._bokeh_timeout) === \"undefined\" || force === true) {\n",
       "    root._bokeh_timeout = Date.now() + 5000;\n",
       "    root._bokeh_failed_load = false;\n",
       "  }\n",
       "\n",
       "  var NB_LOAD_WARNING = {'data': {'text/html':\n",
       "     \"<div style='background-color: #fdd'>\\n\"+\n",
       "     \"<p>\\n\"+\n",
       "     \"BokehJS does not appear to have successfully loaded. If loading BokehJS from CDN, this \\n\"+\n",
       "     \"may be due to a slow or bad network connection. Possible fixes:\\n\"+\n",
       "     \"</p>\\n\"+\n",
       "     \"<ul>\\n\"+\n",
       "     \"<li>re-rerun `output_notebook()` to attempt to load from CDN again, or</li>\\n\"+\n",
       "     \"<li>use INLINE resources instead, as so:</li>\\n\"+\n",
       "     \"</ul>\\n\"+\n",
       "     \"<code>\\n\"+\n",
       "     \"from bokeh.resources import INLINE\\n\"+\n",
       "     \"output_notebook(resources=INLINE)\\n\"+\n",
       "     \"</code>\\n\"+\n",
       "     \"</div>\"}};\n",
       "\n",
       "  function display_loaded() {\n",
       "    var el = document.getElementById(\"59206fc4-26ba-43df-ac73-54b793665aeb\");\n",
       "    if (el != null) {\n",
       "      el.textContent = \"BokehJS is loading...\";\n",
       "    }\n",
       "    if (root.Bokeh !== undefined) {\n",
       "      if (el != null) {\n",
       "        el.textContent = \"BokehJS \" + root.Bokeh.version + \" successfully loaded.\";\n",
       "      }\n",
       "    } else if (Date.now() < root._bokeh_timeout) {\n",
       "      setTimeout(display_loaded, 100)\n",
       "    }\n",
       "  }\n",
       "\n",
       "\n",
       "  function run_callbacks() {\n",
       "    try {\n",
       "      root._bokeh_onload_callbacks.forEach(function(callback) { callback() });\n",
       "    }\n",
       "    finally {\n",
       "      delete root._bokeh_onload_callbacks\n",
       "    }\n",
       "    console.info(\"Bokeh: all callbacks have finished\");\n",
       "  }\n",
       "\n",
       "  function load_libs(js_urls, callback) {\n",
       "    root._bokeh_onload_callbacks.push(callback);\n",
       "    if (root._bokeh_is_loading > 0) {\n",
       "      console.log(\"Bokeh: BokehJS is being loaded, scheduling callback at\", now());\n",
       "      return null;\n",
       "    }\n",
       "    if (js_urls == null || js_urls.length === 0) {\n",
       "      run_callbacks();\n",
       "      return null;\n",
       "    }\n",
       "    console.log(\"Bokeh: BokehJS not loaded, scheduling load and callback at\", now());\n",
       "    root._bokeh_is_loading = js_urls.length;\n",
       "    for (var i = 0; i < js_urls.length; i++) {\n",
       "      var url = js_urls[i];\n",
       "      var s = document.createElement('script');\n",
       "      s.src = url;\n",
       "      s.async = false;\n",
       "      s.onreadystatechange = s.onload = function() {\n",
       "        root._bokeh_is_loading--;\n",
       "        if (root._bokeh_is_loading === 0) {\n",
       "          console.log(\"Bokeh: all BokehJS libraries loaded\");\n",
       "          run_callbacks()\n",
       "        }\n",
       "      };\n",
       "      s.onerror = function() {\n",
       "        console.warn(\"failed to load library \" + url);\n",
       "      };\n",
       "      console.log(\"Bokeh: injecting script tag for BokehJS library: \", url);\n",
       "      document.getElementsByTagName(\"head\")[0].appendChild(s);\n",
       "    }\n",
       "  };var element = document.getElementById(\"59206fc4-26ba-43df-ac73-54b793665aeb\");\n",
       "  if (element == null) {\n",
       "    console.log(\"Bokeh: ERROR: autoload.js configured with elementid '59206fc4-26ba-43df-ac73-54b793665aeb' but no matching script tag was found. \")\n",
       "    return false;\n",
       "  }\n",
       "\n",
       "  var js_urls = [\"https://cdn.pydata.org/bokeh/release/bokeh-0.12.15.min.js\", \"https://cdn.pydata.org/bokeh/release/bokeh-widgets-0.12.15.min.js\", \"https://cdn.pydata.org/bokeh/release/bokeh-tables-0.12.15.min.js\", \"https://cdn.pydata.org/bokeh/release/bokeh-gl-0.12.15.min.js\"];\n",
       "\n",
       "  var inline_js = [\n",
       "    function(Bokeh) {\n",
       "      Bokeh.set_log_level(\"info\");\n",
       "    },\n",
       "    \n",
       "    function(Bokeh) {\n",
       "      \n",
       "    },\n",
       "    function(Bokeh) {\n",
       "      console.log(\"Bokeh: injecting CSS: https://cdn.pydata.org/bokeh/release/bokeh-0.12.15.min.css\");\n",
       "      Bokeh.embed.inject_css(\"https://cdn.pydata.org/bokeh/release/bokeh-0.12.15.min.css\");\n",
       "      console.log(\"Bokeh: injecting CSS: https://cdn.pydata.org/bokeh/release/bokeh-widgets-0.12.15.min.css\");\n",
       "      Bokeh.embed.inject_css(\"https://cdn.pydata.org/bokeh/release/bokeh-widgets-0.12.15.min.css\");\n",
       "      console.log(\"Bokeh: injecting CSS: https://cdn.pydata.org/bokeh/release/bokeh-tables-0.12.15.min.css\");\n",
       "      Bokeh.embed.inject_css(\"https://cdn.pydata.org/bokeh/release/bokeh-tables-0.12.15.min.css\");\n",
       "    }\n",
       "  ];\n",
       "\n",
       "  function run_inline_js() {\n",
       "    \n",
       "    if ((root.Bokeh !== undefined) || (force === true)) {\n",
       "      for (var i = 0; i < inline_js.length; i++) {\n",
       "        inline_js[i].call(root, root.Bokeh);\n",
       "      }if (force === true) {\n",
       "        display_loaded();\n",
       "      }} else if (Date.now() < root._bokeh_timeout) {\n",
       "      setTimeout(run_inline_js, 100);\n",
       "    } else if (!root._bokeh_failed_load) {\n",
       "      console.log(\"Bokeh: BokehJS failed to load within specified timeout.\");\n",
       "      root._bokeh_failed_load = true;\n",
       "    } else if (force !== true) {\n",
       "      var cell = $(document.getElementById(\"59206fc4-26ba-43df-ac73-54b793665aeb\")).parents('.cell').data().cell;\n",
       "      cell.output_area.append_execute_result(NB_LOAD_WARNING)\n",
       "    }\n",
       "\n",
       "  }\n",
       "\n",
       "  if (root._bokeh_is_loading === 0) {\n",
       "    console.log(\"Bokeh: BokehJS loaded, going straight to plotting\");\n",
       "    run_inline_js();\n",
       "  } else {\n",
       "    load_libs(js_urls, function() {\n",
       "      console.log(\"Bokeh: BokehJS plotting callback run at\", now());\n",
       "      run_inline_js();\n",
       "    });\n",
       "  }\n",
       "}(window));"
      ],
      "application/vnd.bokehjs_load.v0+json": "\n(function(root) {\n  function now() {\n    return new Date();\n  }\n\n  var force = true;\n\n  if (typeof (root._bokeh_onload_callbacks) === \"undefined\" || force === true) {\n    root._bokeh_onload_callbacks = [];\n    root._bokeh_is_loading = undefined;\n  }\n\n  \n\n  \n  if (typeof (root._bokeh_timeout) === \"undefined\" || force === true) {\n    root._bokeh_timeout = Date.now() + 5000;\n    root._bokeh_failed_load = false;\n  }\n\n  var NB_LOAD_WARNING = {'data': {'text/html':\n     \"<div style='background-color: #fdd'>\\n\"+\n     \"<p>\\n\"+\n     \"BokehJS does not appear to have successfully loaded. If loading BokehJS from CDN, this \\n\"+\n     \"may be due to a slow or bad network connection. Possible fixes:\\n\"+\n     \"</p>\\n\"+\n     \"<ul>\\n\"+\n     \"<li>re-rerun `output_notebook()` to attempt to load from CDN again, or</li>\\n\"+\n     \"<li>use INLINE resources instead, as so:</li>\\n\"+\n     \"</ul>\\n\"+\n     \"<code>\\n\"+\n     \"from bokeh.resources import INLINE\\n\"+\n     \"output_notebook(resources=INLINE)\\n\"+\n     \"</code>\\n\"+\n     \"</div>\"}};\n\n  function display_loaded() {\n    var el = document.getElementById(\"59206fc4-26ba-43df-ac73-54b793665aeb\");\n    if (el != null) {\n      el.textContent = \"BokehJS is loading...\";\n    }\n    if (root.Bokeh !== undefined) {\n      if (el != null) {\n        el.textContent = \"BokehJS \" + root.Bokeh.version + \" successfully loaded.\";\n      }\n    } else if (Date.now() < root._bokeh_timeout) {\n      setTimeout(display_loaded, 100)\n    }\n  }\n\n\n  function run_callbacks() {\n    try {\n      root._bokeh_onload_callbacks.forEach(function(callback) { callback() });\n    }\n    finally {\n      delete root._bokeh_onload_callbacks\n    }\n    console.info(\"Bokeh: all callbacks have finished\");\n  }\n\n  function load_libs(js_urls, callback) {\n    root._bokeh_onload_callbacks.push(callback);\n    if (root._bokeh_is_loading > 0) {\n      console.log(\"Bokeh: BokehJS is being loaded, scheduling callback at\", now());\n      return null;\n    }\n    if (js_urls == null || js_urls.length === 0) {\n      run_callbacks();\n      return null;\n    }\n    console.log(\"Bokeh: BokehJS not loaded, scheduling load and callback at\", now());\n    root._bokeh_is_loading = js_urls.length;\n    for (var i = 0; i < js_urls.length; i++) {\n      var url = js_urls[i];\n      var s = document.createElement('script');\n      s.src = url;\n      s.async = false;\n      s.onreadystatechange = s.onload = function() {\n        root._bokeh_is_loading--;\n        if (root._bokeh_is_loading === 0) {\n          console.log(\"Bokeh: all BokehJS libraries loaded\");\n          run_callbacks()\n        }\n      };\n      s.onerror = function() {\n        console.warn(\"failed to load library \" + url);\n      };\n      console.log(\"Bokeh: injecting script tag for BokehJS library: \", url);\n      document.getElementsByTagName(\"head\")[0].appendChild(s);\n    }\n  };var element = document.getElementById(\"59206fc4-26ba-43df-ac73-54b793665aeb\");\n  if (element == null) {\n    console.log(\"Bokeh: ERROR: autoload.js configured with elementid '59206fc4-26ba-43df-ac73-54b793665aeb' but no matching script tag was found. \")\n    return false;\n  }\n\n  var js_urls = [\"https://cdn.pydata.org/bokeh/release/bokeh-0.12.15.min.js\", \"https://cdn.pydata.org/bokeh/release/bokeh-widgets-0.12.15.min.js\", \"https://cdn.pydata.org/bokeh/release/bokeh-tables-0.12.15.min.js\", \"https://cdn.pydata.org/bokeh/release/bokeh-gl-0.12.15.min.js\"];\n\n  var inline_js = [\n    function(Bokeh) {\n      Bokeh.set_log_level(\"info\");\n    },\n    \n    function(Bokeh) {\n      \n    },\n    function(Bokeh) {\n      console.log(\"Bokeh: injecting CSS: https://cdn.pydata.org/bokeh/release/bokeh-0.12.15.min.css\");\n      Bokeh.embed.inject_css(\"https://cdn.pydata.org/bokeh/release/bokeh-0.12.15.min.css\");\n      console.log(\"Bokeh: injecting CSS: https://cdn.pydata.org/bokeh/release/bokeh-widgets-0.12.15.min.css\");\n      Bokeh.embed.inject_css(\"https://cdn.pydata.org/bokeh/release/bokeh-widgets-0.12.15.min.css\");\n      console.log(\"Bokeh: injecting CSS: https://cdn.pydata.org/bokeh/release/bokeh-tables-0.12.15.min.css\");\n      Bokeh.embed.inject_css(\"https://cdn.pydata.org/bokeh/release/bokeh-tables-0.12.15.min.css\");\n    }\n  ];\n\n  function run_inline_js() {\n    \n    if ((root.Bokeh !== undefined) || (force === true)) {\n      for (var i = 0; i < inline_js.length; i++) {\n        inline_js[i].call(root, root.Bokeh);\n      }if (force === true) {\n        display_loaded();\n      }} else if (Date.now() < root._bokeh_timeout) {\n      setTimeout(run_inline_js, 100);\n    } else if (!root._bokeh_failed_load) {\n      console.log(\"Bokeh: BokehJS failed to load within specified timeout.\");\n      root._bokeh_failed_load = true;\n    } else if (force !== true) {\n      var cell = $(document.getElementById(\"59206fc4-26ba-43df-ac73-54b793665aeb\")).parents('.cell').data().cell;\n      cell.output_area.append_execute_result(NB_LOAD_WARNING)\n    }\n\n  }\n\n  if (root._bokeh_is_loading === 0) {\n    console.log(\"Bokeh: BokehJS loaded, going straight to plotting\");\n    run_inline_js();\n  } else {\n    load_libs(js_urls, function() {\n      console.log(\"Bokeh: BokehJS plotting callback run at\", now());\n      run_inline_js();\n    });\n  }\n}(window));"
     },
     "metadata": {},
     "output_type": "display_data"
    }
   ],
   "source": [
    "output_notebook()"
   ]
  },
  {
   "cell_type": "code",
   "execution_count": 5,
   "metadata": {},
   "outputs": [],
   "source": [
    "import pandas as pd\n",
    "import numpy as np\n",
    "from pathlib import Path"
   ]
  },
  {
   "cell_type": "code",
   "execution_count": 6,
   "metadata": {},
   "outputs": [],
   "source": [
    "path = Path(\"/media/kanishk/8E8481E28481CCE1/Learn/\")"
   ]
  },
  {
   "cell_type": "code",
   "execution_count": 7,
   "metadata": {},
   "outputs": [
    {
     "data": {
      "text/html": [
       "\n",
       "<div class=\"bk-root\">\n",
       "    <div class=\"bk-plotdiv\" id=\"63433d03-507c-4b71-9b61-c38f083df71a\"></div>\n",
       "</div>"
      ]
     },
     "metadata": {},
     "output_type": "display_data"
    },
    {
     "data": {
      "application/javascript": [
       "(function(root) {\n",
       "  function embed_document(root) {\n",
       "    \n",
       "  var docs_json = {\"bd1fb98f-403d-42e1-be6d-bbb3787834fa\":{\"roots\":{\"references\":[{\"attributes\":{},\"id\":\"d171511d-6af8-49c0-b6b1-f582b39e1eb5\",\"type\":\"SaveTool\"},{\"attributes\":{},\"id\":\"c3a99075-7058-460a-a344-49ed34bd53e3\",\"type\":\"ResetTool\"},{\"attributes\":{\"source\":{\"id\":\"5b5235f6-674f-4c96-a6f1-6ff88d87586d\",\"type\":\"ColumnDataSource\"}},\"id\":\"5a57afe0-ed50-487e-92cf-529b58e714f5\",\"type\":\"CDSView\"},{\"attributes\":{\"line_alpha\":0.1,\"line_color\":\"#1f77b4\",\"x\":{\"field\":\"x\"},\"y\":{\"value\":0.5}},\"id\":\"a0563752-7d09-4490-a063-7f87d0ff784c\",\"type\":\"Line\"},{\"attributes\":{},\"id\":\"230a924a-004e-477d-84c5-d50ecfcd0ec9\",\"type\":\"HelpTool\"},{\"attributes\":{},\"id\":\"b0a39a99-2cfd-4f38-bff5-b442364f49d5\",\"type\":\"BasicTickFormatter\"},{\"attributes\":{\"data_source\":{\"id\":\"5b5235f6-674f-4c96-a6f1-6ff88d87586d\",\"type\":\"ColumnDataSource\"},\"glyph\":{\"id\":\"d24d2f01-f5f3-448a-8964-cd3affc65bc2\",\"type\":\"Line\"},\"hover_glyph\":null,\"muted_glyph\":null,\"nonselection_glyph\":{\"id\":\"a0563752-7d09-4490-a063-7f87d0ff784c\",\"type\":\"Line\"},\"selection_glyph\":null,\"view\":{\"id\":\"5a57afe0-ed50-487e-92cf-529b58e714f5\",\"type\":\"CDSView\"}},\"id\":\"ee910a28-3307-4af0-9856-acac6c6ce932\",\"type\":\"GlyphRenderer\"},{\"attributes\":{\"line_color\":\"#1f77b4\",\"x\":{\"value\":0.5},\"y\":{\"field\":\"y\"}},\"id\":\"cd9c44ab-2db0-4160-8574-ee0d46e565d4\",\"type\":\"Line\"},{\"attributes\":{\"end\":{\"id\":\"1d38fcb9-5b68-4ec7-97ab-dfbefacff4ec\",\"type\":\"OpenHead\"},\"plot\":{\"id\":\"9886c76f-8092-41fb-a5e8-598d0d958466\",\"subtype\":\"Figure\",\"type\":\"Plot\"},\"source\":null,\"start\":null,\"x_end\":{\"value\":1},\"x_start\":{\"value\":0.0},\"y_end\":{\"value\":0.5},\"y_start\":{\"value\":0.5}},\"id\":\"5bb1d718-ea38-4e35-a4b1-da6d8e6a9e8f\",\"type\":\"Arrow\"},{\"attributes\":{\"plot\":null},\"id\":\"1d38fcb9-5b68-4ec7-97ab-dfbefacff4ec\",\"type\":\"OpenHead\"},{\"attributes\":{\"below\":[{\"id\":\"b3e980dc-76cf-4dac-9409-3e935d74a515\",\"type\":\"LinearAxis\"}],\"left\":[{\"id\":\"3340e3be-c867-45a4-ba24-b089b5351a37\",\"type\":\"LinearAxis\"}],\"plot_height\":150,\"plot_width\":200,\"renderers\":[{\"id\":\"b3e980dc-76cf-4dac-9409-3e935d74a515\",\"type\":\"LinearAxis\"},{\"id\":\"31072c0f-1f31-4593-8bd3-fd851a246a91\",\"type\":\"Grid\"},{\"id\":\"3340e3be-c867-45a4-ba24-b089b5351a37\",\"type\":\"LinearAxis\"},{\"id\":\"c36f8beb-6ed9-4df9-8cdc-90e76e0c7f94\",\"type\":\"Grid\"},{\"id\":\"32cce5ed-b309-4836-9261-b51d4e7d53b3\",\"type\":\"BoxAnnotation\"},{\"id\":\"ee910a28-3307-4af0-9856-acac6c6ce932\",\"type\":\"GlyphRenderer\"},{\"id\":\"5bb1d718-ea38-4e35-a4b1-da6d8e6a9e8f\",\"type\":\"Arrow\"},{\"id\":\"229375c8-9787-4678-b067-61674bf11208\",\"type\":\"GlyphRenderer\"},{\"id\":\"00f86d6d-6025-476d-b85f-b175ebc72796\",\"type\":\"Arrow\"},{\"id\":\"240d3fc7-3e3b-48fc-a26c-471916128f63\",\"type\":\"Label\"},{\"id\":\"4784bb96-f429-4bec-939e-8bc1746bfdf5\",\"type\":\"Label\"}],\"title\":{\"id\":\"61420ea7-173c-4f21-b7c2-340c2c1c35dc\",\"type\":\"Title\"},\"toolbar\":{\"id\":\"ca0a6757-6e2e-4e0b-8074-e76e43b3f136\",\"type\":\"Toolbar\"},\"x_range\":{\"id\":\"64b81b54-2841-4adf-ab99-2390d57c646c\",\"type\":\"DataRange1d\"},\"x_scale\":{\"id\":\"fceda4e7-3e5a-41f5-bfc9-eb3a8d4ca782\",\"type\":\"LinearScale\"},\"y_range\":{\"id\":\"da0a8670-2c42-4190-b3ca-74a7b7745fd7\",\"type\":\"DataRange1d\"},\"y_scale\":{\"id\":\"91b6913b-a718-42bf-aeb1-2dc91863334c\",\"type\":\"LinearScale\"}},\"id\":\"9886c76f-8092-41fb-a5e8-598d0d958466\",\"subtype\":\"Figure\",\"type\":\"Plot\"},{\"attributes\":{\"callback\":null,\"column_names\":[\"x\"],\"data\":{\"x\":[0,1]},\"selected\":null,\"selection_policy\":null},\"id\":\"5b5235f6-674f-4c96-a6f1-6ff88d87586d\",\"type\":\"ColumnDataSource\"},{\"attributes\":{\"callback\":null,\"column_names\":[\"y\"],\"data\":{\"y\":[0,1]},\"selected\":null,\"selection_policy\":null},\"id\":\"46868db2-35b0-4eb1-9ae4-80f93648ccf6\",\"type\":\"ColumnDataSource\"},{\"attributes\":{\"data_source\":{\"id\":\"46868db2-35b0-4eb1-9ae4-80f93648ccf6\",\"type\":\"ColumnDataSource\"},\"glyph\":{\"id\":\"cd9c44ab-2db0-4160-8574-ee0d46e565d4\",\"type\":\"Line\"},\"hover_glyph\":null,\"muted_glyph\":null,\"nonselection_glyph\":{\"id\":\"9d476f62-3d71-4d2c-a8cf-8f3d3dd3edfe\",\"type\":\"Line\"},\"selection_glyph\":null,\"view\":{\"id\":\"c331038c-ecd0-4f24-b519-fbf22531185f\",\"type\":\"CDSView\"}},\"id\":\"229375c8-9787-4678-b067-61674bf11208\",\"type\":\"GlyphRenderer\"},{\"attributes\":{\"plot\":null,\"text\":\"position\"},\"id\":\"61420ea7-173c-4f21-b7c2-340c2c1c35dc\",\"type\":\"Title\"},{\"attributes\":{\"plot\":{\"id\":\"9886c76f-8092-41fb-a5e8-598d0d958466\",\"subtype\":\"Figure\",\"type\":\"Plot\"},\"text\":\"x\",\"x\":0.9,\"y\":0.3},\"id\":\"4784bb96-f429-4bec-939e-8bc1746bfdf5\",\"type\":\"Label\"},{\"attributes\":{\"callback\":null},\"id\":\"64b81b54-2841-4adf-ab99-2390d57c646c\",\"type\":\"DataRange1d\"},{\"attributes\":{\"active_drag\":\"auto\",\"active_inspect\":\"auto\",\"active_scroll\":\"auto\",\"active_tap\":\"auto\",\"tools\":[{\"id\":\"18d3fe73-26eb-407f-b9d1-85c4394d6936\",\"type\":\"PanTool\"},{\"id\":\"2e24e749-d0e6-41db-baf6-e5f38ded9ba7\",\"type\":\"WheelZoomTool\"},{\"id\":\"c099bd8c-68c7-43e9-881d-3b5fb9718bec\",\"type\":\"BoxZoomTool\"},{\"id\":\"d171511d-6af8-49c0-b6b1-f582b39e1eb5\",\"type\":\"SaveTool\"},{\"id\":\"c3a99075-7058-460a-a344-49ed34bd53e3\",\"type\":\"ResetTool\"},{\"id\":\"230a924a-004e-477d-84c5-d50ecfcd0ec9\",\"type\":\"HelpTool\"}]},\"id\":\"ca0a6757-6e2e-4e0b-8074-e76e43b3f136\",\"type\":\"Toolbar\"},{\"attributes\":{\"plot\":null},\"id\":\"1054c818-b368-4538-80aa-78769debc6e0\",\"type\":\"OpenHead\"},{\"attributes\":{\"source\":{\"id\":\"46868db2-35b0-4eb1-9ae4-80f93648ccf6\",\"type\":\"ColumnDataSource\"}},\"id\":\"c331038c-ecd0-4f24-b519-fbf22531185f\",\"type\":\"CDSView\"},{\"attributes\":{},\"id\":\"fceda4e7-3e5a-41f5-bfc9-eb3a8d4ca782\",\"type\":\"LinearScale\"},{\"attributes\":{\"end\":{\"id\":\"1054c818-b368-4538-80aa-78769debc6e0\",\"type\":\"OpenHead\"},\"plot\":{\"id\":\"9886c76f-8092-41fb-a5e8-598d0d958466\",\"subtype\":\"Figure\",\"type\":\"Plot\"},\"source\":null,\"start\":null,\"x_end\":{\"value\":0.5},\"x_start\":{\"value\":0.5},\"y_end\":{\"value\":1},\"y_start\":{\"value\":0.0}},\"id\":\"00f86d6d-6025-476d-b85f-b175ebc72796\",\"type\":\"Arrow\"},{\"attributes\":{\"callback\":null},\"id\":\"da0a8670-2c42-4190-b3ca-74a7b7745fd7\",\"type\":\"DataRange1d\"},{\"attributes\":{},\"id\":\"91b6913b-a718-42bf-aeb1-2dc91863334c\",\"type\":\"LinearScale\"},{\"attributes\":{\"line_alpha\":0.1,\"line_color\":\"#1f77b4\",\"x\":{\"value\":0.5},\"y\":{\"field\":\"y\"}},\"id\":\"9d476f62-3d71-4d2c-a8cf-8f3d3dd3edfe\",\"type\":\"Line\"},{\"attributes\":{\"formatter\":{\"id\":\"b0a39a99-2cfd-4f38-bff5-b442364f49d5\",\"type\":\"BasicTickFormatter\"},\"plot\":{\"id\":\"9886c76f-8092-41fb-a5e8-598d0d958466\",\"subtype\":\"Figure\",\"type\":\"Plot\"},\"ticker\":{\"id\":\"2b1f1e58-57c8-4780-8f20-e9d0f0d4ccd0\",\"type\":\"BasicTicker\"},\"visible\":false},\"id\":\"b3e980dc-76cf-4dac-9409-3e935d74a515\",\"type\":\"LinearAxis\"},{\"attributes\":{},\"id\":\"2b1f1e58-57c8-4780-8f20-e9d0f0d4ccd0\",\"type\":\"BasicTicker\"},{\"attributes\":{\"grid_line_color\":{\"value\":null},\"plot\":{\"id\":\"9886c76f-8092-41fb-a5e8-598d0d958466\",\"subtype\":\"Figure\",\"type\":\"Plot\"},\"ticker\":{\"id\":\"2b1f1e58-57c8-4780-8f20-e9d0f0d4ccd0\",\"type\":\"BasicTicker\"}},\"id\":\"31072c0f-1f31-4593-8bd3-fd851a246a91\",\"type\":\"Grid\"},{\"attributes\":{\"formatter\":{\"id\":\"d251e61a-0b78-4901-99e5-732b6abe9e92\",\"type\":\"BasicTickFormatter\"},\"plot\":{\"id\":\"9886c76f-8092-41fb-a5e8-598d0d958466\",\"subtype\":\"Figure\",\"type\":\"Plot\"},\"ticker\":{\"id\":\"40688baf-75d3-43f3-915c-646594d85993\",\"type\":\"BasicTicker\"},\"visible\":false},\"id\":\"3340e3be-c867-45a4-ba24-b089b5351a37\",\"type\":\"LinearAxis\"},{\"attributes\":{},\"id\":\"40688baf-75d3-43f3-915c-646594d85993\",\"type\":\"BasicTicker\"},{\"attributes\":{\"dimension\":1,\"grid_line_color\":{\"value\":null},\"plot\":{\"id\":\"9886c76f-8092-41fb-a5e8-598d0d958466\",\"subtype\":\"Figure\",\"type\":\"Plot\"},\"ticker\":{\"id\":\"40688baf-75d3-43f3-915c-646594d85993\",\"type\":\"BasicTicker\"}},\"id\":\"c36f8beb-6ed9-4df9-8cdc-90e76e0c7f94\",\"type\":\"Grid\"},{\"attributes\":{\"bottom_units\":\"screen\",\"fill_alpha\":{\"value\":0.5},\"fill_color\":{\"value\":\"lightgrey\"},\"left_units\":\"screen\",\"level\":\"overlay\",\"line_alpha\":{\"value\":1.0},\"line_color\":{\"value\":\"black\"},\"line_dash\":[4,4],\"line_width\":{\"value\":2},\"plot\":null,\"render_mode\":\"css\",\"right_units\":\"screen\",\"top_units\":\"screen\"},\"id\":\"32cce5ed-b309-4836-9261-b51d4e7d53b3\",\"type\":\"BoxAnnotation\"},{\"attributes\":{},\"id\":\"d251e61a-0b78-4901-99e5-732b6abe9e92\",\"type\":\"BasicTickFormatter\"},{\"attributes\":{\"plot\":{\"id\":\"9886c76f-8092-41fb-a5e8-598d0d958466\",\"subtype\":\"Figure\",\"type\":\"Plot\"},\"text\":\"y\",\"x\":0.4,\"y\":0.9},\"id\":\"240d3fc7-3e3b-48fc-a26c-471916128f63\",\"type\":\"Label\"},{\"attributes\":{},\"id\":\"18d3fe73-26eb-407f-b9d1-85c4394d6936\",\"type\":\"PanTool\"},{\"attributes\":{},\"id\":\"2e24e749-d0e6-41db-baf6-e5f38ded9ba7\",\"type\":\"WheelZoomTool\"},{\"attributes\":{\"line_color\":\"#1f77b4\",\"x\":{\"field\":\"x\"},\"y\":{\"value\":0.5}},\"id\":\"d24d2f01-f5f3-448a-8964-cd3affc65bc2\",\"type\":\"Line\"},{\"attributes\":{\"overlay\":{\"id\":\"32cce5ed-b309-4836-9261-b51d4e7d53b3\",\"type\":\"BoxAnnotation\"}},\"id\":\"c099bd8c-68c7-43e9-881d-3b5fb9718bec\",\"type\":\"BoxZoomTool\"}],\"root_ids\":[\"9886c76f-8092-41fb-a5e8-598d0d958466\"]},\"title\":\"Bokeh Application\",\"version\":\"0.12.15\"}};\n",
       "  var render_items = [{\"docid\":\"bd1fb98f-403d-42e1-be6d-bbb3787834fa\",\"elementid\":\"63433d03-507c-4b71-9b61-c38f083df71a\",\"modelid\":\"9886c76f-8092-41fb-a5e8-598d0d958466\"}];\n",
       "  root.Bokeh.embed.embed_items_notebook(docs_json, render_items);\n",
       "\n",
       "  }\n",
       "  if (root.Bokeh !== undefined) {\n",
       "    embed_document(root);\n",
       "  } else {\n",
       "    var attempts = 0;\n",
       "    var timer = setInterval(function(root) {\n",
       "      if (root.Bokeh !== undefined) {\n",
       "        embed_document(root);\n",
       "        clearInterval(timer);\n",
       "      }\n",
       "      attempts++;\n",
       "      if (attempts > 100) {\n",
       "        console.log(\"Bokeh: ERROR: Unable to run BokehJS code because BokehJS library is missing\")\n",
       "        clearInterval(timer);\n",
       "      }\n",
       "    }, 10, root)\n",
       "  }\n",
       "})(window);"
      ],
      "application/vnd.bokehjs_exec.v0+json": ""
     },
     "metadata": {
      "application/vnd.bokehjs_exec.v0+json": {
       "id": "9886c76f-8092-41fb-a5e8-598d0d958466"
      }
     },
     "output_type": "display_data"
    }
   ],
   "source": [
    "pos = figure(plot_width=200, plot_height=150, title=\"position\")\n",
    "pos.axis.visible = False\n",
    "pos.grid.grid_line_color = None\n",
    "\n",
    "pos.line(x=[0, 1], y=0.5)\n",
    "pos.add_layout(Arrow(end=OpenHead(line_color=\"black\", line_width=1),\n",
    "                   x_start=0.0, y_start=0.5, x_end=1, y_end=0.5))\n",
    "\n",
    "pos.line(y=[0, 1], x=0.5)\n",
    "pos.add_layout(Arrow(end=OpenHead(line_color=\"black\", line_width=1),\n",
    "                   x_start=0.5, y_start=0.0, x_end=0.5, y_end=1))\n",
    "\n",
    "pos.add_layout(Label(x=0.4, y=0.9, text=\"y\"))\n",
    "pos.add_layout(Label(x=0.9, y=0.3, text=\"x\"))\n",
    "\n",
    "show(pos)"
   ]
  },
  {
   "cell_type": "code",
   "execution_count": 8,
   "metadata": {},
   "outputs": [
    {
     "data": {
      "text/html": [
       "\n",
       "<div class=\"bk-root\">\n",
       "    <div class=\"bk-plotdiv\" id=\"e87f7f95-7634-4ca9-9896-5c16cf9ea644\"></div>\n",
       "</div>"
      ]
     },
     "metadata": {},
     "output_type": "display_data"
    },
    {
     "data": {
      "application/javascript": [
       "(function(root) {\n",
       "  function embed_document(root) {\n",
       "    \n",
       "  var docs_json = {\"ca0d4efb-15f1-4bf4-8e1b-c0910c306f9e\":{\"roots\":{\"references\":[{\"attributes\":{\"fill_color\":{\"value\":\"grey\"},\"line_color\":{\"value\":null},\"size\":{\"units\":\"screen\",\"value\":20},\"x\":{\"value\":0.9},\"y\":{\"value\":0.5}},\"id\":\"b7b599b3-0e62-45cc-9e03-e8fb7af272c0\",\"type\":\"Triangle\"},{\"attributes\":{\"fill_color\":{\"value\":\"grey\"},\"line_color\":{\"value\":null},\"size\":{\"units\":\"screen\",\"value\":15},\"x\":{\"value\":0.3666666666666667},\"y\":{\"value\":0.5}},\"id\":\"f83f2c52-17ab-4014-b075-aaf3c0464434\",\"type\":\"Square\"},{\"attributes\":{\"callback\":null,\"data\":{},\"selected\":null,\"selection_policy\":null},\"id\":\"c42c7442-e642-4556-9231-87feee48c6b9\",\"type\":\"ColumnDataSource\"},{\"attributes\":{\"source\":{\"id\":\"3ce4a414-f3ad-4955-b497-c2519d631318\",\"type\":\"ColumnDataSource\"}},\"id\":\"98aa1cf8-1c60-417d-af26-23e89a5e96d6\",\"type\":\"CDSView\"},{\"attributes\":{\"fill_alpha\":{\"value\":0.1},\"fill_color\":{\"value\":\"#1f77b4\"},\"line_alpha\":{\"value\":0.1},\"line_color\":{\"value\":\"#1f77b4\"},\"size\":{\"units\":\"screen\",\"value\":15},\"x\":{\"value\":0.3666666666666667},\"y\":{\"value\":0.5}},\"id\":\"3ad0da9e-41f5-4dcc-a5d3-f2c949d752a3\",\"type\":\"Square\"},{\"attributes\":{\"angle\":{\"units\":\"rad\",\"value\":45.0},\"fill_alpha\":{\"value\":0.1},\"fill_color\":{\"value\":\"#1f77b4\"},\"line_alpha\":{\"value\":0.1},\"line_color\":{\"value\":\"#1f77b4\"},\"size\":{\"units\":\"screen\",\"value\":15},\"x\":{\"value\":0.6333333333333333},\"y\":{\"value\":0.5}},\"id\":\"a1a7666d-64f6-4d18-97ed-eebf645e9a29\",\"type\":\"Square\"},{\"attributes\":{\"data_source\":{\"id\":\"c42c7442-e642-4556-9231-87feee48c6b9\",\"type\":\"ColumnDataSource\"},\"glyph\":{\"id\":\"982e3f1e-f3d2-4fe8-be11-2ac52a23ec0c\",\"type\":\"Square\"},\"hover_glyph\":null,\"muted_glyph\":null,\"nonselection_glyph\":{\"id\":\"a1a7666d-64f6-4d18-97ed-eebf645e9a29\",\"type\":\"Square\"},\"selection_glyph\":null,\"view\":{\"id\":\"87e70ad1-f526-407d-92f6-fed52c158d52\",\"type\":\"CDSView\"}},\"id\":\"4ab112f2-cd34-476a-8811-83d430a70ee1\",\"type\":\"GlyphRenderer\"},{\"attributes\":{\"callback\":null,\"data\":{},\"selected\":null,\"selection_policy\":null},\"id\":\"3ce4a414-f3ad-4955-b497-c2519d631318\",\"type\":\"ColumnDataSource\"},{\"attributes\":{\"source\":{\"id\":\"c42c7442-e642-4556-9231-87feee48c6b9\",\"type\":\"ColumnDataSource\"}},\"id\":\"87e70ad1-f526-407d-92f6-fed52c158d52\",\"type\":\"CDSView\"},{\"attributes\":{\"bounds\":[0,1],\"callback\":null},\"id\":\"5575c2a5-a79d-4525-a3c3-582cb5ba9f1b\",\"type\":\"Range1d\"},{\"attributes\":{\"data_source\":{\"id\":\"1bb97fe9-c91d-4624-8e03-afe7583c3a4b\",\"type\":\"ColumnDataSource\"},\"glyph\":{\"id\":\"87371af2-d7bc-487e-95bb-a47245a45173\",\"type\":\"Circle\"},\"hover_glyph\":null,\"muted_glyph\":null,\"nonselection_glyph\":{\"id\":\"dc451280-9489-457a-8cbd-9bc4243d2631\",\"type\":\"Circle\"},\"selection_glyph\":null,\"view\":{\"id\":\"5c749b0b-16da-4bc1-aa95-d3c4927c7395\",\"type\":\"CDSView\"}},\"id\":\"f3d81dad-f61b-42c2-a591-60e9633a0e52\",\"type\":\"GlyphRenderer\"},{\"attributes\":{\"fill_alpha\":{\"value\":0.1},\"fill_color\":{\"value\":\"#1f77b4\"},\"line_alpha\":{\"value\":0.1},\"line_color\":{\"value\":\"#1f77b4\"},\"size\":{\"units\":\"screen\",\"value\":20},\"x\":{\"value\":0.9},\"y\":{\"value\":0.5}},\"id\":\"b102183d-0246-4316-84f5-1d0e3ba82bf8\",\"type\":\"Triangle\"},{\"attributes\":{\"bounds\":[0,1],\"callback\":null},\"id\":\"91c48a9a-8178-4680-9ca5-5524cdcaeec3\",\"type\":\"Range1d\"},{\"attributes\":{},\"id\":\"04aa0ef8-fa67-4fde-859c-9aaf298fa3bf\",\"type\":\"LinearScale\"},{\"attributes\":{\"dimension\":1,\"grid_line_color\":{\"value\":null},\"plot\":{\"id\":\"796ebdcf-50a5-417d-9466-16d9f55b0296\",\"subtype\":\"Figure\",\"type\":\"Plot\"},\"ticker\":{\"id\":\"66921860-1506-4eb4-8e38-a15f3de43782\",\"type\":\"BasicTicker\"}},\"id\":\"7304b63b-38cf-47ff-99d5-8abfaaf8eba4\",\"type\":\"Grid\"},{\"attributes\":{\"data_source\":{\"id\":\"672f50cd-09ca-48d1-8e60-0e9c267db643\",\"type\":\"ColumnDataSource\"},\"glyph\":{\"id\":\"b7b599b3-0e62-45cc-9e03-e8fb7af272c0\",\"type\":\"Triangle\"},\"hover_glyph\":null,\"muted_glyph\":null,\"nonselection_glyph\":{\"id\":\"b102183d-0246-4316-84f5-1d0e3ba82bf8\",\"type\":\"Triangle\"},\"selection_glyph\":null,\"view\":{\"id\":\"9ad28a41-1170-4b1b-b1ec-ddf8a5d09315\",\"type\":\"CDSView\"}},\"id\":\"c426573b-09c9-426b-b263-ca32736fd134\",\"type\":\"GlyphRenderer\"},{\"attributes\":{\"below\":[{\"id\":\"17fea879-94ca-4b58-9eee-0bb55a12de13\",\"type\":\"LinearAxis\"}],\"left\":[{\"id\":\"76731f88-eb07-4765-af35-f12bb078311d\",\"type\":\"LinearAxis\"}],\"plot_height\":150,\"plot_width\":200,\"renderers\":[{\"id\":\"17fea879-94ca-4b58-9eee-0bb55a12de13\",\"type\":\"LinearAxis\"},{\"id\":\"ca42ffe9-7b2d-4bf3-b69a-5add84de4275\",\"type\":\"Grid\"},{\"id\":\"76731f88-eb07-4765-af35-f12bb078311d\",\"type\":\"LinearAxis\"},{\"id\":\"7304b63b-38cf-47ff-99d5-8abfaaf8eba4\",\"type\":\"Grid\"},{\"id\":\"58c19afe-96a3-458a-a24e-ba65bb92e5f3\",\"type\":\"BoxAnnotation\"},{\"id\":\"f3d81dad-f61b-42c2-a591-60e9633a0e52\",\"type\":\"GlyphRenderer\"},{\"id\":\"1dbda034-5d00-47cf-a41d-4eaa01b31b9a\",\"type\":\"GlyphRenderer\"},{\"id\":\"4ab112f2-cd34-476a-8811-83d430a70ee1\",\"type\":\"GlyphRenderer\"},{\"id\":\"c426573b-09c9-426b-b263-ca32736fd134\",\"type\":\"GlyphRenderer\"}],\"title\":{\"id\":\"67f809aa-2d96-4f86-a0dd-d235af5f347a\",\"type\":\"Title\"},\"toolbar\":{\"id\":\"240c240a-f69e-4afb-9784-f5ff1b79f42b\",\"type\":\"Toolbar\"},\"x_range\":{\"id\":\"5575c2a5-a79d-4525-a3c3-582cb5ba9f1b\",\"type\":\"Range1d\"},\"x_scale\":{\"id\":\"04aa0ef8-fa67-4fde-859c-9aaf298fa3bf\",\"type\":\"LinearScale\"},\"y_range\":{\"id\":\"91c48a9a-8178-4680-9ca5-5524cdcaeec3\",\"type\":\"Range1d\"},\"y_scale\":{\"id\":\"168b9f3b-d922-4137-936e-c0b29e4b650e\",\"type\":\"LinearScale\"}},\"id\":\"796ebdcf-50a5-417d-9466-16d9f55b0296\",\"subtype\":\"Figure\",\"type\":\"Plot\"},{\"attributes\":{\"source\":{\"id\":\"672f50cd-09ca-48d1-8e60-0e9c267db643\",\"type\":\"ColumnDataSource\"}},\"id\":\"9ad28a41-1170-4b1b-b1ec-ddf8a5d09315\",\"type\":\"CDSView\"},{\"attributes\":{\"plot\":null,\"text\":\"shape\"},\"id\":\"67f809aa-2d96-4f86-a0dd-d235af5f347a\",\"type\":\"Title\"},{\"attributes\":{\"active_drag\":\"auto\",\"active_inspect\":\"auto\",\"active_scroll\":\"auto\",\"active_tap\":\"auto\",\"tools\":[{\"id\":\"27ba23c0-0b3f-44c3-bbbf-c6ea4108324b\",\"type\":\"PanTool\"},{\"id\":\"648ee95e-4126-41a8-be01-e399ca5787b8\",\"type\":\"WheelZoomTool\"},{\"id\":\"826a5ae6-8ad5-4032-9815-f8e70dfe8a6d\",\"type\":\"BoxZoomTool\"},{\"id\":\"3b23b9e0-bab1-4ddb-b5d4-f26d1a8274b1\",\"type\":\"SaveTool\"},{\"id\":\"1a1f4d34-28ae-49a7-ac30-468e6b1c3731\",\"type\":\"ResetTool\"},{\"id\":\"2fd8bea4-979d-4c16-94cc-08945858fdba\",\"type\":\"HelpTool\"}]},\"id\":\"240c240a-f69e-4afb-9784-f5ff1b79f42b\",\"type\":\"Toolbar\"},{\"attributes\":{},\"id\":\"d38e9fcf-38e8-45a6-9f66-5e280c0e26da\",\"type\":\"BasicTicker\"},{\"attributes\":{},\"id\":\"168b9f3b-d922-4137-936e-c0b29e4b650e\",\"type\":\"LinearScale\"},{\"attributes\":{\"formatter\":{\"id\":\"a5150e09-5cc2-40a4-8f0c-b481d00f5c11\",\"type\":\"BasicTickFormatter\"},\"plot\":{\"id\":\"796ebdcf-50a5-417d-9466-16d9f55b0296\",\"subtype\":\"Figure\",\"type\":\"Plot\"},\"ticker\":{\"id\":\"66921860-1506-4eb4-8e38-a15f3de43782\",\"type\":\"BasicTicker\"},\"visible\":false},\"id\":\"76731f88-eb07-4765-af35-f12bb078311d\",\"type\":\"LinearAxis\"},{\"attributes\":{},\"id\":\"66921860-1506-4eb4-8e38-a15f3de43782\",\"type\":\"BasicTicker\"},{\"attributes\":{\"callback\":null,\"data\":{},\"selected\":null,\"selection_policy\":null},\"id\":\"1bb97fe9-c91d-4624-8e03-afe7583c3a4b\",\"type\":\"ColumnDataSource\"},{\"attributes\":{},\"id\":\"a5150e09-5cc2-40a4-8f0c-b481d00f5c11\",\"type\":\"BasicTickFormatter\"},{\"attributes\":{\"fill_alpha\":{\"value\":0.1},\"fill_color\":{\"value\":\"#1f77b4\"},\"line_alpha\":{\"value\":0.1},\"line_color\":{\"value\":\"#1f77b4\"},\"radius\":{\"units\":\"data\",\"value\":0.05},\"x\":{\"value\":0.1},\"y\":{\"value\":0.5}},\"id\":\"dc451280-9489-457a-8cbd-9bc4243d2631\",\"type\":\"Circle\"},{\"attributes\":{\"bottom_units\":\"screen\",\"fill_alpha\":{\"value\":0.5},\"fill_color\":{\"value\":\"lightgrey\"},\"left_units\":\"screen\",\"level\":\"overlay\",\"line_alpha\":{\"value\":1.0},\"line_color\":{\"value\":\"black\"},\"line_dash\":[4,4],\"line_width\":{\"value\":2},\"plot\":null,\"render_mode\":\"css\",\"right_units\":\"screen\",\"top_units\":\"screen\"},\"id\":\"58c19afe-96a3-458a-a24e-ba65bb92e5f3\",\"type\":\"BoxAnnotation\"},{\"attributes\":{},\"id\":\"27ba23c0-0b3f-44c3-bbbf-c6ea4108324b\",\"type\":\"PanTool\"},{\"attributes\":{\"angle\":{\"units\":\"rad\",\"value\":45.0},\"fill_color\":{\"value\":\"grey\"},\"line_color\":{\"value\":null},\"size\":{\"units\":\"screen\",\"value\":15},\"x\":{\"value\":0.6333333333333333},\"y\":{\"value\":0.5}},\"id\":\"982e3f1e-f3d2-4fe8-be11-2ac52a23ec0c\",\"type\":\"Square\"},{\"attributes\":{},\"id\":\"648ee95e-4126-41a8-be01-e399ca5787b8\",\"type\":\"WheelZoomTool\"},{\"attributes\":{\"overlay\":{\"id\":\"58c19afe-96a3-458a-a24e-ba65bb92e5f3\",\"type\":\"BoxAnnotation\"}},\"id\":\"826a5ae6-8ad5-4032-9815-f8e70dfe8a6d\",\"type\":\"BoxZoomTool\"},{\"attributes\":{},\"id\":\"3b23b9e0-bab1-4ddb-b5d4-f26d1a8274b1\",\"type\":\"SaveTool\"},{\"attributes\":{\"formatter\":{\"id\":\"9e522361-c3fc-4a3d-a98b-d394b7c5e78f\",\"type\":\"BasicTickFormatter\"},\"plot\":{\"id\":\"796ebdcf-50a5-417d-9466-16d9f55b0296\",\"subtype\":\"Figure\",\"type\":\"Plot\"},\"ticker\":{\"id\":\"d38e9fcf-38e8-45a6-9f66-5e280c0e26da\",\"type\":\"BasicTicker\"},\"visible\":false},\"id\":\"17fea879-94ca-4b58-9eee-0bb55a12de13\",\"type\":\"LinearAxis\"},{\"attributes\":{},\"id\":\"1a1f4d34-28ae-49a7-ac30-468e6b1c3731\",\"type\":\"ResetTool\"},{\"attributes\":{\"grid_line_color\":{\"value\":null},\"plot\":{\"id\":\"796ebdcf-50a5-417d-9466-16d9f55b0296\",\"subtype\":\"Figure\",\"type\":\"Plot\"},\"ticker\":{\"id\":\"d38e9fcf-38e8-45a6-9f66-5e280c0e26da\",\"type\":\"BasicTicker\"}},\"id\":\"ca42ffe9-7b2d-4bf3-b69a-5add84de4275\",\"type\":\"Grid\"},{\"attributes\":{},\"id\":\"2fd8bea4-979d-4c16-94cc-08945858fdba\",\"type\":\"HelpTool\"},{\"attributes\":{\"callback\":null,\"data\":{},\"selected\":null,\"selection_policy\":null},\"id\":\"672f50cd-09ca-48d1-8e60-0e9c267db643\",\"type\":\"ColumnDataSource\"},{\"attributes\":{},\"id\":\"9e522361-c3fc-4a3d-a98b-d394b7c5e78f\",\"type\":\"BasicTickFormatter\"},{\"attributes\":{\"fill_color\":{\"value\":\"grey\"},\"line_color\":{\"value\":null},\"radius\":{\"units\":\"data\",\"value\":0.05},\"x\":{\"value\":0.1},\"y\":{\"value\":0.5}},\"id\":\"87371af2-d7bc-487e-95bb-a47245a45173\",\"type\":\"Circle\"},{\"attributes\":{\"source\":{\"id\":\"1bb97fe9-c91d-4624-8e03-afe7583c3a4b\",\"type\":\"ColumnDataSource\"}},\"id\":\"5c749b0b-16da-4bc1-aa95-d3c4927c7395\",\"type\":\"CDSView\"},{\"attributes\":{\"data_source\":{\"id\":\"3ce4a414-f3ad-4955-b497-c2519d631318\",\"type\":\"ColumnDataSource\"},\"glyph\":{\"id\":\"f83f2c52-17ab-4014-b075-aaf3c0464434\",\"type\":\"Square\"},\"hover_glyph\":null,\"muted_glyph\":null,\"nonselection_glyph\":{\"id\":\"3ad0da9e-41f5-4dcc-a5d3-f2c949d752a3\",\"type\":\"Square\"},\"selection_glyph\":null,\"view\":{\"id\":\"98aa1cf8-1c60-417d-af26-23e89a5e96d6\",\"type\":\"CDSView\"}},\"id\":\"1dbda034-5d00-47cf-a41d-4eaa01b31b9a\",\"type\":\"GlyphRenderer\"}],\"root_ids\":[\"796ebdcf-50a5-417d-9466-16d9f55b0296\"]},\"title\":\"Bokeh Application\",\"version\":\"0.12.15\"}};\n",
       "  var render_items = [{\"docid\":\"ca0d4efb-15f1-4bf4-8e1b-c0910c306f9e\",\"elementid\":\"e87f7f95-7634-4ca9-9896-5c16cf9ea644\",\"modelid\":\"796ebdcf-50a5-417d-9466-16d9f55b0296\"}];\n",
       "  root.Bokeh.embed.embed_items_notebook(docs_json, render_items);\n",
       "\n",
       "  }\n",
       "  if (root.Bokeh !== undefined) {\n",
       "    embed_document(root);\n",
       "  } else {\n",
       "    var attempts = 0;\n",
       "    var timer = setInterval(function(root) {\n",
       "      if (root.Bokeh !== undefined) {\n",
       "        embed_document(root);\n",
       "        clearInterval(timer);\n",
       "      }\n",
       "      attempts++;\n",
       "      if (attempts > 100) {\n",
       "        console.log(\"Bokeh: ERROR: Unable to run BokehJS code because BokehJS library is missing\")\n",
       "        clearInterval(timer);\n",
       "      }\n",
       "    }, 10, root)\n",
       "  }\n",
       "})(window);"
      ],
      "application/vnd.bokehjs_exec.v0+json": ""
     },
     "metadata": {
      "application/vnd.bokehjs_exec.v0+json": {
       "id": "796ebdcf-50a5-417d-9466-16d9f55b0296"
      }
     },
     "output_type": "display_data"
    }
   ],
   "source": [
    "shp = figure(plot_height=150, plot_width=200, x_range=Range1d(bounds=(0, 1)), y_range=Range1d(bounds=(0, 1)),\n",
    "            title=\"shape\")\n",
    "shp.axis.visible = False\n",
    "shp.grid.grid_line_color = None\n",
    "\n",
    "ls = np.linspace(0.1, 0.9, num=4)\n",
    "\n",
    "shp.circle(x=ls[0], y=0.5, fill_color=\"grey\", radius=0.05, line_color=None)\n",
    "shp.square(x=ls[1], y=0.5, fill_color=\"grey\", size=15, line_color=None)\n",
    "shp.square(x=ls[2], y=0.5, fill_color=\"grey\", size=15, line_color=None, angle=45.0)\n",
    "shp.triangle(x=ls[3], y=0.5, fill_color=\"grey\", size=20, line_color=None)\n",
    "\n",
    "show(shp)"
   ]
  },
  {
   "cell_type": "code",
   "execution_count": 9,
   "metadata": {},
   "outputs": [
    {
     "data": {
      "text/html": [
       "\n",
       "<div class=\"bk-root\">\n",
       "    <div class=\"bk-plotdiv\" id=\"dfd4f8c5-64ba-4710-8878-96a100f32b69\"></div>\n",
       "</div>"
      ]
     },
     "metadata": {},
     "output_type": "display_data"
    },
    {
     "data": {
      "application/javascript": [
       "(function(root) {\n",
       "  function embed_document(root) {\n",
       "    \n",
       "  var docs_json = {\"e3fbec10-37f2-420e-90f0-689ebb54cd87\":{\"roots\":{\"references\":[{\"attributes\":{},\"id\":\"69420f19-43c9-418a-8935-f31bfc2ca646\",\"type\":\"LinearScale\"},{\"attributes\":{},\"id\":\"a8f2c415-651f-43fc-929c-48d831e519c0\",\"type\":\"BasicTickFormatter\"},{\"attributes\":{\"bottom_units\":\"screen\",\"fill_alpha\":{\"value\":0.5},\"fill_color\":{\"value\":\"lightgrey\"},\"left_units\":\"screen\",\"level\":\"overlay\",\"line_alpha\":{\"value\":1.0},\"line_color\":{\"value\":\"black\"},\"line_dash\":[4,4],\"line_width\":{\"value\":2},\"plot\":null,\"render_mode\":\"css\",\"right_units\":\"screen\",\"top_units\":\"screen\"},\"id\":\"89792c51-2822-458d-9214-ddacd2c97481\",\"type\":\"BoxAnnotation\"},{\"attributes\":{\"fill_color\":{\"value\":\"grey\"},\"line_color\":{\"value\":null},\"radius\":{\"units\":\"data\",\"value\":0.03},\"x\":{\"value\":0.1},\"y\":{\"value\":0.5}},\"id\":\"89cc867c-e7b3-4944-af91-4e7945683b7b\",\"type\":\"Circle\"},{\"attributes\":{\"formatter\":{\"id\":\"a8f2c415-651f-43fc-929c-48d831e519c0\",\"type\":\"BasicTickFormatter\"},\"plot\":{\"id\":\"61b53676-ce62-417d-897b-cf882b9f15cc\",\"subtype\":\"Figure\",\"type\":\"Plot\"},\"ticker\":{\"id\":\"b4f1c8b0-bd61-4609-af25-1d56f9aaa6c1\",\"type\":\"BasicTicker\"},\"visible\":false},\"id\":\"f1efbd4d-dde5-4c68-a583-b3e4ce0c2fd8\",\"type\":\"LinearAxis\"},{\"attributes\":{},\"id\":\"ed0cbc05-1593-48f9-9cd9-14733704280f\",\"type\":\"PanTool\"},{\"attributes\":{\"dimension\":1,\"grid_line_color\":{\"value\":null},\"plot\":{\"id\":\"61b53676-ce62-417d-897b-cf882b9f15cc\",\"subtype\":\"Figure\",\"type\":\"Plot\"},\"ticker\":{\"id\":\"b4f1c8b0-bd61-4609-af25-1d56f9aaa6c1\",\"type\":\"BasicTicker\"}},\"id\":\"19029bdc-d752-4c8c-8047-db26f7f6711c\",\"type\":\"Grid\"},{\"attributes\":{\"fill_color\":{\"value\":\"grey\"},\"line_color\":{\"value\":null},\"radius\":{\"units\":\"data\",\"value\":0.09},\"x\":{\"value\":0.5333333333333333},\"y\":{\"value\":0.5}},\"id\":\"74f96ccb-9693-4ec9-9c32-e7935d7c9d62\",\"type\":\"Circle\"},{\"attributes\":{\"plot\":null,\"text\":\"size\"},\"id\":\"dcb65716-6133-4f94-aef6-5141c62a03ba\",\"type\":\"Title\"},{\"attributes\":{},\"id\":\"eb76874f-2e2f-4801-805b-7a3a00ad9dda\",\"type\":\"WheelZoomTool\"},{\"attributes\":{\"grid_line_color\":{\"value\":null},\"plot\":{\"id\":\"61b53676-ce62-417d-897b-cf882b9f15cc\",\"subtype\":\"Figure\",\"type\":\"Plot\"},\"ticker\":{\"id\":\"7fa4aae1-c5fd-4023-890e-4b38f27b0183\",\"type\":\"BasicTicker\"}},\"id\":\"67e1977e-d49a-4a98-86c2-084468a4eb96\",\"type\":\"Grid\"},{\"attributes\":{\"data_source\":{\"id\":\"2aa2d7b8-c718-4c81-90ea-289b82754f23\",\"type\":\"ColumnDataSource\"},\"glyph\":{\"id\":\"89cc867c-e7b3-4944-af91-4e7945683b7b\",\"type\":\"Circle\"},\"hover_glyph\":null,\"muted_glyph\":null,\"nonselection_glyph\":{\"id\":\"b2dd6bd4-9fc5-4ca8-915e-4689a494af89\",\"type\":\"Circle\"},\"selection_glyph\":null,\"view\":{\"id\":\"da1fad9b-6075-4ba2-842a-805862dc299c\",\"type\":\"CDSView\"}},\"id\":\"21bbb031-af3f-4c2e-aa25-6dfb4c443d5a\",\"type\":\"GlyphRenderer\"},{\"attributes\":{\"overlay\":{\"id\":\"89792c51-2822-458d-9214-ddacd2c97481\",\"type\":\"BoxAnnotation\"}},\"id\":\"f6ab9635-d43d-4a8d-b95e-3d977d856ea2\",\"type\":\"BoxZoomTool\"},{\"attributes\":{\"active_drag\":\"auto\",\"active_inspect\":\"auto\",\"active_scroll\":\"auto\",\"active_tap\":\"auto\",\"tools\":[{\"id\":\"ed0cbc05-1593-48f9-9cd9-14733704280f\",\"type\":\"PanTool\"},{\"id\":\"eb76874f-2e2f-4801-805b-7a3a00ad9dda\",\"type\":\"WheelZoomTool\"},{\"id\":\"f6ab9635-d43d-4a8d-b95e-3d977d856ea2\",\"type\":\"BoxZoomTool\"},{\"id\":\"ec5ad4ac-e672-4117-bfe8-8194838393ef\",\"type\":\"SaveTool\"},{\"id\":\"82c9f87d-b6d5-4ff1-9329-748339628b95\",\"type\":\"ResetTool\"},{\"id\":\"aa7a454e-f31e-4546-b0ff-0741ba0589a5\",\"type\":\"HelpTool\"}]},\"id\":\"23ff52f3-86f6-4ead-b510-73d01a5a74b3\",\"type\":\"Toolbar\"},{\"attributes\":{},\"id\":\"ec5ad4ac-e672-4117-bfe8-8194838393ef\",\"type\":\"SaveTool\"},{\"attributes\":{},\"id\":\"b4f1c8b0-bd61-4609-af25-1d56f9aaa6c1\",\"type\":\"BasicTicker\"},{\"attributes\":{},\"id\":\"82c9f87d-b6d5-4ff1-9329-748339628b95\",\"type\":\"ResetTool\"},{\"attributes\":{\"fill_alpha\":{\"value\":0.1},\"fill_color\":{\"value\":\"#1f77b4\"},\"line_alpha\":{\"value\":0.1},\"line_color\":{\"value\":\"#1f77b4\"},\"radius\":{\"units\":\"data\",\"value\":0.03},\"x\":{\"value\":0.1},\"y\":{\"value\":0.5}},\"id\":\"b2dd6bd4-9fc5-4ca8-915e-4689a494af89\",\"type\":\"Circle\"},{\"attributes\":{},\"id\":\"aa7a454e-f31e-4546-b0ff-0741ba0589a5\",\"type\":\"HelpTool\"},{\"attributes\":{\"bounds\":[0,1],\"callback\":null},\"id\":\"aeda2297-529f-4bae-8142-b1d1d46c57f0\",\"type\":\"Range1d\"},{\"attributes\":{\"formatter\":{\"id\":\"aa7a2850-c0c5-4f52-818a-86d329880e67\",\"type\":\"BasicTickFormatter\"},\"plot\":{\"id\":\"61b53676-ce62-417d-897b-cf882b9f15cc\",\"subtype\":\"Figure\",\"type\":\"Plot\"},\"ticker\":{\"id\":\"7fa4aae1-c5fd-4023-890e-4b38f27b0183\",\"type\":\"BasicTicker\"},\"visible\":false},\"id\":\"b6bef332-6bfe-49bc-bb6c-ba350aae1189\",\"type\":\"LinearAxis\"},{\"attributes\":{\"source\":{\"id\":\"2aa2d7b8-c718-4c81-90ea-289b82754f23\",\"type\":\"ColumnDataSource\"}},\"id\":\"da1fad9b-6075-4ba2-842a-805862dc299c\",\"type\":\"CDSView\"},{\"attributes\":{},\"id\":\"aa7a2850-c0c5-4f52-818a-86d329880e67\",\"type\":\"BasicTickFormatter\"},{\"attributes\":{\"fill_alpha\":{\"value\":0.1},\"fill_color\":{\"value\":\"#1f77b4\"},\"line_alpha\":{\"value\":0.1},\"line_color\":{\"value\":\"#1f77b4\"},\"radius\":{\"units\":\"data\",\"value\":0.09},\"x\":{\"value\":0.5333333333333333},\"y\":{\"value\":0.5}},\"id\":\"934eb6b4-dbbe-4cf4-bd39-4bb00b76688c\",\"type\":\"Circle\"},{\"attributes\":{\"callback\":null,\"data\":{},\"selected\":null,\"selection_policy\":null},\"id\":\"3a5313de-3c55-4156-991c-3f8408b36a54\",\"type\":\"ColumnDataSource\"},{\"attributes\":{\"callback\":null,\"data\":{},\"selected\":null,\"selection_policy\":null},\"id\":\"a979937b-c65b-4113-804e-0177fff95786\",\"type\":\"ColumnDataSource\"},{\"attributes\":{\"fill_alpha\":{\"value\":0.1},\"fill_color\":{\"value\":\"#1f77b4\"},\"line_alpha\":{\"value\":0.1},\"line_color\":{\"value\":\"#1f77b4\"},\"radius\":{\"units\":\"data\",\"value\":0.06},\"x\":{\"value\":0.2666666666666667},\"y\":{\"value\":0.5}},\"id\":\"4649e927-071a-4655-8745-e42b2af002e2\",\"type\":\"Circle\"},{\"attributes\":{\"source\":{\"id\":\"a979937b-c65b-4113-804e-0177fff95786\",\"type\":\"ColumnDataSource\"}},\"id\":\"e766c334-5cf8-4306-812f-14a7d3c905ad\",\"type\":\"CDSView\"},{\"attributes\":{},\"id\":\"1c707a84-b7b2-4251-b774-b18ed18738c1\",\"type\":\"LinearScale\"},{\"attributes\":{\"data_source\":{\"id\":\"0a49c9a8-8922-4f0e-b5ee-4e624db4f6db\",\"type\":\"ColumnDataSource\"},\"glyph\":{\"id\":\"c4ce7018-909e-4db3-b50b-9c97cb796909\",\"type\":\"Circle\"},\"hover_glyph\":null,\"muted_glyph\":null,\"nonselection_glyph\":{\"id\":\"4649e927-071a-4655-8745-e42b2af002e2\",\"type\":\"Circle\"},\"selection_glyph\":null,\"view\":{\"id\":\"32153bed-dd4d-4fd7-b35d-d0f4adebe7b0\",\"type\":\"CDSView\"}},\"id\":\"9d1e4d19-b80a-4691-9de7-17f5a1f5f314\",\"type\":\"GlyphRenderer\"},{\"attributes\":{\"source\":{\"id\":\"0a49c9a8-8922-4f0e-b5ee-4e624db4f6db\",\"type\":\"ColumnDataSource\"}},\"id\":\"32153bed-dd4d-4fd7-b35d-d0f4adebe7b0\",\"type\":\"CDSView\"},{\"attributes\":{\"fill_color\":{\"value\":\"grey\"},\"line_color\":{\"value\":null},\"radius\":{\"units\":\"data\",\"value\":0.06},\"x\":{\"value\":0.2666666666666667},\"y\":{\"value\":0.5}},\"id\":\"c4ce7018-909e-4db3-b50b-9c97cb796909\",\"type\":\"Circle\"},{\"attributes\":{\"fill_color\":{\"value\":\"grey\"},\"line_color\":{\"value\":null},\"radius\":{\"units\":\"data\",\"value\":0.12},\"x\":{\"value\":0.8},\"y\":{\"value\":0.5}},\"id\":\"64b8a85d-332c-48aa-bf4f-6e3f314c7e6e\",\"type\":\"Circle\"},{\"attributes\":{\"data_source\":{\"id\":\"a979937b-c65b-4113-804e-0177fff95786\",\"type\":\"ColumnDataSource\"},\"glyph\":{\"id\":\"74f96ccb-9693-4ec9-9c32-e7935d7c9d62\",\"type\":\"Circle\"},\"hover_glyph\":null,\"muted_glyph\":null,\"nonselection_glyph\":{\"id\":\"934eb6b4-dbbe-4cf4-bd39-4bb00b76688c\",\"type\":\"Circle\"},\"selection_glyph\":null,\"view\":{\"id\":\"e766c334-5cf8-4306-812f-14a7d3c905ad\",\"type\":\"CDSView\"}},\"id\":\"f99d0b76-f7c9-4410-96b8-a5f9a0dbeedd\",\"type\":\"GlyphRenderer\"},{\"attributes\":{\"callback\":null,\"data\":{},\"selected\":null,\"selection_policy\":null},\"id\":\"2aa2d7b8-c718-4c81-90ea-289b82754f23\",\"type\":\"ColumnDataSource\"},{\"attributes\":{\"source\":{\"id\":\"3a5313de-3c55-4156-991c-3f8408b36a54\",\"type\":\"ColumnDataSource\"}},\"id\":\"5c131403-b38e-44f9-83f0-e52e0bb32667\",\"type\":\"CDSView\"},{\"attributes\":{\"fill_alpha\":{\"value\":0.1},\"fill_color\":{\"value\":\"#1f77b4\"},\"line_alpha\":{\"value\":0.1},\"line_color\":{\"value\":\"#1f77b4\"},\"radius\":{\"units\":\"data\",\"value\":0.12},\"x\":{\"value\":0.8},\"y\":{\"value\":0.5}},\"id\":\"69f412e2-ca15-4bfa-aaf7-b8806080fe90\",\"type\":\"Circle\"},{\"attributes\":{\"data_source\":{\"id\":\"3a5313de-3c55-4156-991c-3f8408b36a54\",\"type\":\"ColumnDataSource\"},\"glyph\":{\"id\":\"64b8a85d-332c-48aa-bf4f-6e3f314c7e6e\",\"type\":\"Circle\"},\"hover_glyph\":null,\"muted_glyph\":null,\"nonselection_glyph\":{\"id\":\"69f412e2-ca15-4bfa-aaf7-b8806080fe90\",\"type\":\"Circle\"},\"selection_glyph\":null,\"view\":{\"id\":\"5c131403-b38e-44f9-83f0-e52e0bb32667\",\"type\":\"CDSView\"}},\"id\":\"c7c2e791-c73a-41eb-9e64-b3476fd02014\",\"type\":\"GlyphRenderer\"},{\"attributes\":{},\"id\":\"7fa4aae1-c5fd-4023-890e-4b38f27b0183\",\"type\":\"BasicTicker\"},{\"attributes\":{\"callback\":null,\"data\":{},\"selected\":null,\"selection_policy\":null},\"id\":\"0a49c9a8-8922-4f0e-b5ee-4e624db4f6db\",\"type\":\"ColumnDataSource\"},{\"attributes\":{\"bounds\":[0,1],\"callback\":null},\"id\":\"a60e9d09-36f1-4e3e-8f55-cffeb5b3b73b\",\"type\":\"Range1d\"},{\"attributes\":{\"below\":[{\"id\":\"b6bef332-6bfe-49bc-bb6c-ba350aae1189\",\"type\":\"LinearAxis\"}],\"left\":[{\"id\":\"f1efbd4d-dde5-4c68-a583-b3e4ce0c2fd8\",\"type\":\"LinearAxis\"}],\"plot_height\":150,\"plot_width\":200,\"renderers\":[{\"id\":\"b6bef332-6bfe-49bc-bb6c-ba350aae1189\",\"type\":\"LinearAxis\"},{\"id\":\"67e1977e-d49a-4a98-86c2-084468a4eb96\",\"type\":\"Grid\"},{\"id\":\"f1efbd4d-dde5-4c68-a583-b3e4ce0c2fd8\",\"type\":\"LinearAxis\"},{\"id\":\"19029bdc-d752-4c8c-8047-db26f7f6711c\",\"type\":\"Grid\"},{\"id\":\"89792c51-2822-458d-9214-ddacd2c97481\",\"type\":\"BoxAnnotation\"},{\"id\":\"21bbb031-af3f-4c2e-aa25-6dfb4c443d5a\",\"type\":\"GlyphRenderer\"},{\"id\":\"9d1e4d19-b80a-4691-9de7-17f5a1f5f314\",\"type\":\"GlyphRenderer\"},{\"id\":\"f99d0b76-f7c9-4410-96b8-a5f9a0dbeedd\",\"type\":\"GlyphRenderer\"},{\"id\":\"c7c2e791-c73a-41eb-9e64-b3476fd02014\",\"type\":\"GlyphRenderer\"}],\"title\":{\"id\":\"dcb65716-6133-4f94-aef6-5141c62a03ba\",\"type\":\"Title\"},\"toolbar\":{\"id\":\"23ff52f3-86f6-4ead-b510-73d01a5a74b3\",\"type\":\"Toolbar\"},\"x_range\":{\"id\":\"a60e9d09-36f1-4e3e-8f55-cffeb5b3b73b\",\"type\":\"Range1d\"},\"x_scale\":{\"id\":\"69420f19-43c9-418a-8935-f31bfc2ca646\",\"type\":\"LinearScale\"},\"y_range\":{\"id\":\"aeda2297-529f-4bae-8142-b1d1d46c57f0\",\"type\":\"Range1d\"},\"y_scale\":{\"id\":\"1c707a84-b7b2-4251-b774-b18ed18738c1\",\"type\":\"LinearScale\"}},\"id\":\"61b53676-ce62-417d-897b-cf882b9f15cc\",\"subtype\":\"Figure\",\"type\":\"Plot\"}],\"root_ids\":[\"61b53676-ce62-417d-897b-cf882b9f15cc\"]},\"title\":\"Bokeh Application\",\"version\":\"0.12.15\"}};\n",
       "  var render_items = [{\"docid\":\"e3fbec10-37f2-420e-90f0-689ebb54cd87\",\"elementid\":\"dfd4f8c5-64ba-4710-8878-96a100f32b69\",\"modelid\":\"61b53676-ce62-417d-897b-cf882b9f15cc\"}];\n",
       "  root.Bokeh.embed.embed_items_notebook(docs_json, render_items);\n",
       "\n",
       "  }\n",
       "  if (root.Bokeh !== undefined) {\n",
       "    embed_document(root);\n",
       "  } else {\n",
       "    var attempts = 0;\n",
       "    var timer = setInterval(function(root) {\n",
       "      if (root.Bokeh !== undefined) {\n",
       "        embed_document(root);\n",
       "        clearInterval(timer);\n",
       "      }\n",
       "      attempts++;\n",
       "      if (attempts > 100) {\n",
       "        console.log(\"Bokeh: ERROR: Unable to run BokehJS code because BokehJS library is missing\")\n",
       "        clearInterval(timer);\n",
       "      }\n",
       "    }, 10, root)\n",
       "  }\n",
       "})(window);"
      ],
      "application/vnd.bokehjs_exec.v0+json": ""
     },
     "metadata": {
      "application/vnd.bokehjs_exec.v0+json": {
       "id": "61b53676-ce62-417d-897b-cf882b9f15cc"
      }
     },
     "output_type": "display_data"
    }
   ],
   "source": [
    "siz = figure(plot_height=150, plot_width=200, x_range=Range1d(bounds=(0, 1)), y_range=Range1d(bounds=(0, 1)),\n",
    "            title=\"size\")\n",
    "siz.axis.visible = False\n",
    "siz.grid.grid_line_color = None\n",
    "r = 0.03\n",
    "siz.circle(x=ls[0], y=0.5, fill_color=\"grey\", radius=r, line_color=None)\n",
    "siz.circle(x=ls[1]-0.1, y=0.5, fill_color=\"grey\", radius=r*2, line_color=None)\n",
    "siz.circle(x=ls[2]-0.1, y=0.5, fill_color=\"grey\", radius=r*3, line_color=None)\n",
    "siz.circle(x=ls[3]-0.1, y=0.5, fill_color=\"grey\", radius=r*4, line_color=None)\n",
    "\n",
    "show(siz)"
   ]
  },
  {
   "cell_type": "code",
   "execution_count": 10,
   "metadata": {},
   "outputs": [
    {
     "data": {
      "text/html": [
       "\n",
       "<div class=\"bk-root\">\n",
       "    <div class=\"bk-plotdiv\" id=\"13cfa0e3-2f36-40d3-b1f8-9f994156f65d\"></div>\n",
       "</div>"
      ]
     },
     "metadata": {},
     "output_type": "display_data"
    },
    {
     "data": {
      "application/javascript": [
       "(function(root) {\n",
       "  function embed_document(root) {\n",
       "    \n",
       "  var docs_json = {\"047ec650-70cf-4034-80d0-4790075b198a\":{\"roots\":{\"references\":[{\"attributes\":{\"source\":{\"id\":\"38d13088-539d-40f3-bfea-23735084797f\",\"type\":\"ColumnDataSource\"}},\"id\":\"17b76d2d-2568-42d3-91c0-59f091989c28\",\"type\":\"CDSView\"},{\"attributes\":{\"fill_color\":{\"value\":\"yellow\"},\"height\":{\"units\":\"data\",\"value\":1},\"line_color\":{\"value\":\"#1f77b4\"},\"width\":{\"units\":\"data\",\"value\":0.2},\"x\":{\"value\":0.9},\"y\":{\"value\":0.5}},\"id\":\"506a3767-36b4-4bcb-8359-eeaf3a138863\",\"type\":\"Rect\"},{\"attributes\":{\"bounds\":[0,1],\"callback\":null},\"id\":\"1e00fee7-84e4-4096-8b82-b88c82445c34\",\"type\":\"Range1d\"},{\"attributes\":{\"data_source\":{\"id\":\"38d13088-539d-40f3-bfea-23735084797f\",\"type\":\"ColumnDataSource\"},\"glyph\":{\"id\":\"ec413ffc-2eee-47a2-98b1-5629b2267a4a\",\"type\":\"Rect\"},\"hover_glyph\":null,\"muted_glyph\":null,\"nonselection_glyph\":{\"id\":\"2b572495-bff1-4999-aeb8-2ebdc61c9b2c\",\"type\":\"Rect\"},\"selection_glyph\":null,\"view\":{\"id\":\"17b76d2d-2568-42d3-91c0-59f091989c28\",\"type\":\"CDSView\"}},\"id\":\"12bf5384-e2c8-42a0-acc4-deda74d4bc1a\",\"type\":\"GlyphRenderer\"},{\"attributes\":{\"fill_alpha\":{\"value\":0.1},\"fill_color\":{\"value\":\"#1f77b4\"},\"height\":{\"units\":\"data\",\"value\":1},\"line_alpha\":{\"value\":0.1},\"line_color\":{\"value\":\"#1f77b4\"},\"width\":{\"units\":\"data\",\"value\":0.2},\"x\":{\"value\":0.9},\"y\":{\"value\":0.5}},\"id\":\"a7faf887-307c-4efc-8165-d3a77c025c88\",\"type\":\"Rect\"},{\"attributes\":{},\"id\":\"4d8e354b-6f7a-4747-b5bd-4508e6220a67\",\"type\":\"BasicTickFormatter\"},{\"attributes\":{\"callback\":null,\"data\":{},\"selected\":null,\"selection_policy\":null},\"id\":\"0a2ffb3d-bc70-45a9-9696-3ecfbfc40770\",\"type\":\"ColumnDataSource\"},{\"attributes\":{\"below\":[{\"id\":\"066977b8-ed17-4c5d-aafa-0f89b9cae3f7\",\"type\":\"LinearAxis\"}],\"left\":[{\"id\":\"6b88f186-3b28-4b36-b6a8-89b6129a2b85\",\"type\":\"LinearAxis\"}],\"plot_height\":150,\"plot_width\":200,\"renderers\":[{\"id\":\"066977b8-ed17-4c5d-aafa-0f89b9cae3f7\",\"type\":\"LinearAxis\"},{\"id\":\"742048b9-0041-42cc-8fe8-c148c347d9a2\",\"type\":\"Grid\"},{\"id\":\"6b88f186-3b28-4b36-b6a8-89b6129a2b85\",\"type\":\"LinearAxis\"},{\"id\":\"ea768333-101b-4cd4-a6fc-4d3a49e31d26\",\"type\":\"Grid\"},{\"id\":\"3c0b6a90-f304-4683-9724-15704b6bee85\",\"type\":\"BoxAnnotation\"},{\"id\":\"47831a09-dbea-4e3c-a108-89fcaef79a13\",\"type\":\"GlyphRenderer\"},{\"id\":\"19411b30-1698-4ec8-bf16-a66aeebf8fe9\",\"type\":\"GlyphRenderer\"},{\"id\":\"12bf5384-e2c8-42a0-acc4-deda74d4bc1a\",\"type\":\"GlyphRenderer\"},{\"id\":\"056afdd8-17e9-493d-afe5-837dca5601b3\",\"type\":\"GlyphRenderer\"}],\"title\":{\"id\":\"835de394-67df-4576-8d80-a911f95a3f6e\",\"type\":\"Title\"},\"toolbar\":{\"id\":\"26b561a3-d1fd-4151-8a82-f1d63f508a14\",\"type\":\"Toolbar\"},\"x_range\":{\"id\":\"1e00fee7-84e4-4096-8b82-b88c82445c34\",\"type\":\"Range1d\"},\"x_scale\":{\"id\":\"25121750-f442-4992-afec-2b9315a288ed\",\"type\":\"LinearScale\"},\"y_range\":{\"id\":\"86f0bc15-2a4e-40a4-b4a0-1ece6e0785b3\",\"type\":\"Range1d\"},\"y_scale\":{\"id\":\"6fc08be9-c9dc-41fd-babc-966c09060744\",\"type\":\"LinearScale\"}},\"id\":\"5f6ea6be-5904-4bb8-8530-b6e7335e0738\",\"subtype\":\"Figure\",\"type\":\"Plot\"},{\"attributes\":{},\"id\":\"25121750-f442-4992-afec-2b9315a288ed\",\"type\":\"LinearScale\"},{\"attributes\":{\"data_source\":{\"id\":\"0a2ffb3d-bc70-45a9-9696-3ecfbfc40770\",\"type\":\"ColumnDataSource\"},\"glyph\":{\"id\":\"4ae6fb22-4c7e-47c0-ae14-fbb66fc757ba\",\"type\":\"Rect\"},\"hover_glyph\":null,\"muted_glyph\":null,\"nonselection_glyph\":{\"id\":\"9911cc5d-ad91-4a84-bba6-ef15d2c31957\",\"type\":\"Rect\"},\"selection_glyph\":null,\"view\":{\"id\":\"43a101b4-2a71-41fa-9f48-b96114b6e274\",\"type\":\"CDSView\"}},\"id\":\"47831a09-dbea-4e3c-a108-89fcaef79a13\",\"type\":\"GlyphRenderer\"},{\"attributes\":{\"fill_alpha\":{\"value\":0.1},\"fill_color\":{\"value\":\"#1f77b4\"},\"height\":{\"units\":\"data\",\"value\":1},\"line_alpha\":{\"value\":0.1},\"line_color\":{\"value\":\"#1f77b4\"},\"width\":{\"units\":\"data\",\"value\":0.2},\"x\":{\"value\":0.6333333333333333},\"y\":{\"value\":0.5}},\"id\":\"2b572495-bff1-4999-aeb8-2ebdc61c9b2c\",\"type\":\"Rect\"},{\"attributes\":{\"callback\":null,\"data\":{},\"selected\":null,\"selection_policy\":null},\"id\":\"685bbdc7-702d-49cb-80bf-c8f022c3b4b0\",\"type\":\"ColumnDataSource\"},{\"attributes\":{},\"id\":\"6fc08be9-c9dc-41fd-babc-966c09060744\",\"type\":\"LinearScale\"},{\"attributes\":{\"fill_alpha\":{\"value\":0.1},\"fill_color\":{\"value\":\"#1f77b4\"},\"height\":{\"units\":\"data\",\"value\":1},\"line_alpha\":{\"value\":0.1},\"line_color\":{\"value\":\"#1f77b4\"},\"width\":{\"units\":\"data\",\"value\":0.2},\"x\":{\"value\":0.1},\"y\":{\"value\":0.5}},\"id\":\"9911cc5d-ad91-4a84-bba6-ef15d2c31957\",\"type\":\"Rect\"},{\"attributes\":{\"callback\":null,\"data\":{},\"selected\":null,\"selection_policy\":null},\"id\":\"38d13088-539d-40f3-bfea-23735084797f\",\"type\":\"ColumnDataSource\"},{\"attributes\":{\"plot\":null,\"text\":\"colour\"},\"id\":\"835de394-67df-4576-8d80-a911f95a3f6e\",\"type\":\"Title\"},{\"attributes\":{\"data_source\":{\"id\":\"685bbdc7-702d-49cb-80bf-c8f022c3b4b0\",\"type\":\"ColumnDataSource\"},\"glyph\":{\"id\":\"506a3767-36b4-4bcb-8359-eeaf3a138863\",\"type\":\"Rect\"},\"hover_glyph\":null,\"muted_glyph\":null,\"nonselection_glyph\":{\"id\":\"a7faf887-307c-4efc-8165-d3a77c025c88\",\"type\":\"Rect\"},\"selection_glyph\":null,\"view\":{\"id\":\"cfda5691-3f18-4b0e-987c-4281f544d8f3\",\"type\":\"CDSView\"}},\"id\":\"056afdd8-17e9-493d-afe5-837dca5601b3\",\"type\":\"GlyphRenderer\"},{\"attributes\":{\"grid_line_color\":{\"value\":null},\"plot\":{\"id\":\"5f6ea6be-5904-4bb8-8530-b6e7335e0738\",\"subtype\":\"Figure\",\"type\":\"Plot\"},\"ticker\":{\"id\":\"751fd6f4-1147-4212-b8da-dfd2db4c66f2\",\"type\":\"BasicTicker\"}},\"id\":\"742048b9-0041-42cc-8fe8-c148c347d9a2\",\"type\":\"Grid\"},{\"attributes\":{\"data_source\":{\"id\":\"ed1eb285-cb19-4b2e-822a-5435f60b41ce\",\"type\":\"ColumnDataSource\"},\"glyph\":{\"id\":\"4e3a02be-74bd-4e79-983c-c840767b72dd\",\"type\":\"Rect\"},\"hover_glyph\":null,\"muted_glyph\":null,\"nonselection_glyph\":{\"id\":\"ef3fa7d6-be64-4b8a-896c-c10ca25b284a\",\"type\":\"Rect\"},\"selection_glyph\":null,\"view\":{\"id\":\"2d4e2b4d-02ab-4c3c-a7f9-1ae7f6e7137a\",\"type\":\"CDSView\"}},\"id\":\"19411b30-1698-4ec8-bf16-a66aeebf8fe9\",\"type\":\"GlyphRenderer\"},{\"attributes\":{\"active_drag\":\"auto\",\"active_inspect\":\"auto\",\"active_scroll\":\"auto\",\"active_tap\":\"auto\",\"tools\":[{\"id\":\"fcb5f56a-7a7d-4357-9516-32a4ab69a52e\",\"type\":\"PanTool\"},{\"id\":\"fc73ed13-653a-4f0f-8370-821dcf3f5232\",\"type\":\"WheelZoomTool\"},{\"id\":\"fd632678-0320-474c-b1b4-d3cc06953d8a\",\"type\":\"BoxZoomTool\"},{\"id\":\"a3520f4a-096e-48ab-8792-a94089f0f725\",\"type\":\"SaveTool\"},{\"id\":\"6f2d9036-fb87-4037-b613-1b09e276d1c1\",\"type\":\"ResetTool\"},{\"id\":\"712783cb-db2d-481b-bd55-3bb1f8ac5c20\",\"type\":\"HelpTool\"}]},\"id\":\"26b561a3-d1fd-4151-8a82-f1d63f508a14\",\"type\":\"Toolbar\"},{\"attributes\":{},\"id\":\"751fd6f4-1147-4212-b8da-dfd2db4c66f2\",\"type\":\"BasicTicker\"},{\"attributes\":{\"formatter\":{\"id\":\"4d8e354b-6f7a-4747-b5bd-4508e6220a67\",\"type\":\"BasicTickFormatter\"},\"plot\":{\"id\":\"5f6ea6be-5904-4bb8-8530-b6e7335e0738\",\"subtype\":\"Figure\",\"type\":\"Plot\"},\"ticker\":{\"id\":\"751fd6f4-1147-4212-b8da-dfd2db4c66f2\",\"type\":\"BasicTicker\"},\"visible\":false},\"id\":\"066977b8-ed17-4c5d-aafa-0f89b9cae3f7\",\"type\":\"LinearAxis\"},{\"attributes\":{\"formatter\":{\"id\":\"25b04a6c-4dc1-45c4-b593-f2836e138335\",\"type\":\"BasicTickFormatter\"},\"plot\":{\"id\":\"5f6ea6be-5904-4bb8-8530-b6e7335e0738\",\"subtype\":\"Figure\",\"type\":\"Plot\"},\"ticker\":{\"id\":\"e694b70c-d240-4307-b159-e64f28cbfcf7\",\"type\":\"BasicTicker\"},\"visible\":false},\"id\":\"6b88f186-3b28-4b36-b6a8-89b6129a2b85\",\"type\":\"LinearAxis\"},{\"attributes\":{\"source\":{\"id\":\"685bbdc7-702d-49cb-80bf-c8f022c3b4b0\",\"type\":\"ColumnDataSource\"}},\"id\":\"cfda5691-3f18-4b0e-987c-4281f544d8f3\",\"type\":\"CDSView\"},{\"attributes\":{\"source\":{\"id\":\"ed1eb285-cb19-4b2e-822a-5435f60b41ce\",\"type\":\"ColumnDataSource\"}},\"id\":\"2d4e2b4d-02ab-4c3c-a7f9-1ae7f6e7137a\",\"type\":\"CDSView\"},{\"attributes\":{\"dimension\":1,\"grid_line_color\":{\"value\":null},\"plot\":{\"id\":\"5f6ea6be-5904-4bb8-8530-b6e7335e0738\",\"subtype\":\"Figure\",\"type\":\"Plot\"},\"ticker\":{\"id\":\"e694b70c-d240-4307-b159-e64f28cbfcf7\",\"type\":\"BasicTicker\"}},\"id\":\"ea768333-101b-4cd4-a6fc-4d3a49e31d26\",\"type\":\"Grid\"},{\"attributes\":{},\"id\":\"e694b70c-d240-4307-b159-e64f28cbfcf7\",\"type\":\"BasicTicker\"},{\"attributes\":{},\"id\":\"712783cb-db2d-481b-bd55-3bb1f8ac5c20\",\"type\":\"HelpTool\"},{\"attributes\":{\"overlay\":{\"id\":\"3c0b6a90-f304-4683-9724-15704b6bee85\",\"type\":\"BoxAnnotation\"}},\"id\":\"fd632678-0320-474c-b1b4-d3cc06953d8a\",\"type\":\"BoxZoomTool\"},{\"attributes\":{\"fill_color\":{\"value\":\"blue\"},\"height\":{\"units\":\"data\",\"value\":1},\"line_color\":{\"value\":\"#1f77b4\"},\"width\":{\"units\":\"data\",\"value\":0.2},\"x\":{\"value\":0.3666666666666667},\"y\":{\"value\":0.5}},\"id\":\"4e3a02be-74bd-4e79-983c-c840767b72dd\",\"type\":\"Rect\"},{\"attributes\":{\"callback\":null,\"data\":{},\"selected\":null,\"selection_policy\":null},\"id\":\"ed1eb285-cb19-4b2e-822a-5435f60b41ce\",\"type\":\"ColumnDataSource\"},{\"attributes\":{\"fill_color\":{\"value\":\"orange\"},\"height\":{\"units\":\"data\",\"value\":1},\"line_color\":{\"value\":\"#1f77b4\"},\"width\":{\"units\":\"data\",\"value\":0.2},\"x\":{\"value\":0.1},\"y\":{\"value\":0.5}},\"id\":\"4ae6fb22-4c7e-47c0-ae14-fbb66fc757ba\",\"type\":\"Rect\"},{\"attributes\":{\"fill_color\":{\"value\":\"green\"},\"height\":{\"units\":\"data\",\"value\":1},\"line_color\":{\"value\":\"#1f77b4\"},\"width\":{\"units\":\"data\",\"value\":0.2},\"x\":{\"value\":0.6333333333333333},\"y\":{\"value\":0.5}},\"id\":\"ec413ffc-2eee-47a2-98b1-5629b2267a4a\",\"type\":\"Rect\"},{\"attributes\":{\"source\":{\"id\":\"0a2ffb3d-bc70-45a9-9696-3ecfbfc40770\",\"type\":\"ColumnDataSource\"}},\"id\":\"43a101b4-2a71-41fa-9f48-b96114b6e274\",\"type\":\"CDSView\"},{\"attributes\":{},\"id\":\"a3520f4a-096e-48ab-8792-a94089f0f725\",\"type\":\"SaveTool\"},{\"attributes\":{},\"id\":\"fcb5f56a-7a7d-4357-9516-32a4ab69a52e\",\"type\":\"PanTool\"},{\"attributes\":{},\"id\":\"fc73ed13-653a-4f0f-8370-821dcf3f5232\",\"type\":\"WheelZoomTool\"},{\"attributes\":{},\"id\":\"25b04a6c-4dc1-45c4-b593-f2836e138335\",\"type\":\"BasicTickFormatter\"},{\"attributes\":{},\"id\":\"6f2d9036-fb87-4037-b613-1b09e276d1c1\",\"type\":\"ResetTool\"},{\"attributes\":{\"fill_alpha\":{\"value\":0.1},\"fill_color\":{\"value\":\"#1f77b4\"},\"height\":{\"units\":\"data\",\"value\":1},\"line_alpha\":{\"value\":0.1},\"line_color\":{\"value\":\"#1f77b4\"},\"width\":{\"units\":\"data\",\"value\":0.2},\"x\":{\"value\":0.3666666666666667},\"y\":{\"value\":0.5}},\"id\":\"ef3fa7d6-be64-4b8a-896c-c10ca25b284a\",\"type\":\"Rect\"},{\"attributes\":{\"bounds\":[0,1],\"callback\":null},\"id\":\"86f0bc15-2a4e-40a4-b4a0-1ece6e0785b3\",\"type\":\"Range1d\"},{\"attributes\":{\"bottom_units\":\"screen\",\"fill_alpha\":{\"value\":0.5},\"fill_color\":{\"value\":\"lightgrey\"},\"left_units\":\"screen\",\"level\":\"overlay\",\"line_alpha\":{\"value\":1.0},\"line_color\":{\"value\":\"black\"},\"line_dash\":[4,4],\"line_width\":{\"value\":2},\"plot\":null,\"render_mode\":\"css\",\"right_units\":\"screen\",\"top_units\":\"screen\"},\"id\":\"3c0b6a90-f304-4683-9724-15704b6bee85\",\"type\":\"BoxAnnotation\"}],\"root_ids\":[\"5f6ea6be-5904-4bb8-8530-b6e7335e0738\"]},\"title\":\"Bokeh Application\",\"version\":\"0.12.15\"}};\n",
       "  var render_items = [{\"docid\":\"047ec650-70cf-4034-80d0-4790075b198a\",\"elementid\":\"13cfa0e3-2f36-40d3-b1f8-9f994156f65d\",\"modelid\":\"5f6ea6be-5904-4bb8-8530-b6e7335e0738\"}];\n",
       "  root.Bokeh.embed.embed_items_notebook(docs_json, render_items);\n",
       "\n",
       "  }\n",
       "  if (root.Bokeh !== undefined) {\n",
       "    embed_document(root);\n",
       "  } else {\n",
       "    var attempts = 0;\n",
       "    var timer = setInterval(function(root) {\n",
       "      if (root.Bokeh !== undefined) {\n",
       "        embed_document(root);\n",
       "        clearInterval(timer);\n",
       "      }\n",
       "      attempts++;\n",
       "      if (attempts > 100) {\n",
       "        console.log(\"Bokeh: ERROR: Unable to run BokehJS code because BokehJS library is missing\")\n",
       "        clearInterval(timer);\n",
       "      }\n",
       "    }, 10, root)\n",
       "  }\n",
       "})(window);"
      ],
      "application/vnd.bokehjs_exec.v0+json": ""
     },
     "metadata": {
      "application/vnd.bokehjs_exec.v0+json": {
       "id": "5f6ea6be-5904-4bb8-8530-b6e7335e0738"
      }
     },
     "output_type": "display_data"
    }
   ],
   "source": [
    "col = figure(plot_height=150, plot_width=200, x_range=Range1d(bounds=(0, 1)), y_range=Range1d(bounds=(0, 1)),\n",
    "            title=\"colour\")\n",
    "col.axis.visible = False\n",
    "col.grid.grid_line_color = None\n",
    "\n",
    "col.rect(x=ls[0], y=0.5, width=0.2, height=1, fill_color=\"orange\")\n",
    "col.rect(x=ls[1], y=0.5, width=0.2, height=1, fill_color=\"blue\")\n",
    "col.rect(x=ls[2], y=0.5, width=0.2, height=1, fill_color=\"green\")\n",
    "col.rect(x=ls[3], y=0.5, width=0.2, height=1, fill_color=\"yellow\")\n",
    "\n",
    "show(col)"
   ]
  },
  {
   "cell_type": "code",
   "execution_count": 11,
   "metadata": {},
   "outputs": [
    {
     "data": {
      "text/html": [
       "\n",
       "<div class=\"bk-root\">\n",
       "    <div class=\"bk-plotdiv\" id=\"989aa269-9ff1-4256-af0c-892f2424d2c2\"></div>\n",
       "</div>"
      ]
     },
     "metadata": {},
     "output_type": "display_data"
    },
    {
     "data": {
      "application/javascript": [
       "(function(root) {\n",
       "  function embed_document(root) {\n",
       "    \n",
       "  var docs_json = {\"0d618f3c-1675-4282-8208-cbcde02c40b6\":{\"roots\":{\"references\":[{\"attributes\":{\"callback\":null,\"column_names\":[\"x\",\"y\"],\"data\":{\"x\":[0,1],\"y\":[0.9,0.9]},\"selected\":null,\"selection_policy\":null},\"id\":\"0dbdb9b3-05f6-46bc-b8e3-dfc1fcd69ff4\",\"type\":\"ColumnDataSource\"},{\"attributes\":{\"grid_line_color\":{\"value\":null},\"plot\":{\"id\":\"52c9f1b7-b3a0-4549-be8f-2ebabf74a223\",\"subtype\":\"Figure\",\"type\":\"Plot\"},\"ticker\":{\"id\":\"84f28217-e8d1-4430-8d57-d8a355fe4cb1\",\"type\":\"BasicTicker\"}},\"id\":\"4ad31c50-5d2e-4f7f-a2fc-ff7106e628d0\",\"type\":\"Grid\"},{\"attributes\":{\"bounds\":[0,1],\"callback\":null},\"id\":\"33274965-ccf3-4ccb-ad6e-ff966e3d6c3c\",\"type\":\"Range1d\"},{\"attributes\":{\"formatter\":{\"id\":\"12f543db-9dbd-4ff6-8806-67ad6b85ce07\",\"type\":\"BasicTickFormatter\"},\"plot\":{\"id\":\"52c9f1b7-b3a0-4549-be8f-2ebabf74a223\",\"subtype\":\"Figure\",\"type\":\"Plot\"},\"ticker\":{\"id\":\"ffefc15d-48bf-4636-a7cc-1d516f26929a\",\"type\":\"BasicTicker\"},\"visible\":false},\"id\":\"7543b10b-d81b-4b8a-b756-2414dc4c950b\",\"type\":\"LinearAxis\"},{\"attributes\":{},\"id\":\"84f28217-e8d1-4430-8d57-d8a355fe4cb1\",\"type\":\"BasicTicker\"},{\"attributes\":{\"line_alpha\":0.1,\"line_color\":\"#1f77b4\",\"x\":{\"field\":\"x\"},\"y\":{\"field\":\"y\"}},\"id\":\"993e62e0-32f6-4f47-b3c5-875a42ba1989\",\"type\":\"Line\"},{\"attributes\":{\"formatter\":{\"id\":\"18db84c6-b83c-48dc-a0ea-25e7ef0d84fa\",\"type\":\"BasicTickFormatter\"},\"plot\":{\"id\":\"52c9f1b7-b3a0-4549-be8f-2ebabf74a223\",\"subtype\":\"Figure\",\"type\":\"Plot\"},\"ticker\":{\"id\":\"84f28217-e8d1-4430-8d57-d8a355fe4cb1\",\"type\":\"BasicTicker\"},\"visible\":false},\"id\":\"4b86b116-d9dc-47a9-9010-a8785e14e8bb\",\"type\":\"LinearAxis\"},{\"attributes\":{},\"id\":\"ffefc15d-48bf-4636-a7cc-1d516f26929a\",\"type\":\"BasicTicker\"},{\"attributes\":{\"dimension\":1,\"grid_line_color\":{\"value\":null},\"plot\":{\"id\":\"52c9f1b7-b3a0-4549-be8f-2ebabf74a223\",\"subtype\":\"Figure\",\"type\":\"Plot\"},\"ticker\":{\"id\":\"ffefc15d-48bf-4636-a7cc-1d516f26929a\",\"type\":\"BasicTicker\"}},\"id\":\"1a01c004-e448-4fe3-9590-0c399feeac2f\",\"type\":\"Grid\"},{\"attributes\":{\"data_source\":{\"id\":\"0dbdb9b3-05f6-46bc-b8e3-dfc1fcd69ff4\",\"type\":\"ColumnDataSource\"},\"glyph\":{\"id\":\"8fd2a6ef-5bc8-4c67-a7db-782384cdee2d\",\"type\":\"Line\"},\"hover_glyph\":null,\"muted_glyph\":null,\"nonselection_glyph\":{\"id\":\"993e62e0-32f6-4f47-b3c5-875a42ba1989\",\"type\":\"Line\"},\"selection_glyph\":null,\"view\":{\"id\":\"e7a7f280-64d2-4676-918c-547d0cd44703\",\"type\":\"CDSView\"}},\"id\":\"7213e92f-9515-4710-acfc-aaeca4973aa9\",\"type\":\"GlyphRenderer\"},{\"attributes\":{\"callback\":null,\"column_names\":[\"x\",\"y\"],\"data\":{\"x\":[0,1],\"y\":[0.7,0.7]},\"selected\":null,\"selection_policy\":null},\"id\":\"f0370c77-6955-4bdc-8816-f377079e998e\",\"type\":\"ColumnDataSource\"},{\"attributes\":{\"x\":{\"field\":\"x\"},\"y\":{\"field\":\"y\"}},\"id\":\"8fd2a6ef-5bc8-4c67-a7db-782384cdee2d\",\"type\":\"Line\"},{\"attributes\":{\"data_source\":{\"id\":\"f0370c77-6955-4bdc-8816-f377079e998e\",\"type\":\"ColumnDataSource\"},\"glyph\":{\"id\":\"329fcdc9-4934-4bf5-8af0-d22ab0ac2ef8\",\"type\":\"Line\"},\"hover_glyph\":null,\"muted_glyph\":null,\"nonselection_glyph\":{\"id\":\"bc37f86f-f6dd-43eb-82a3-d937a4179e5e\",\"type\":\"Line\"},\"selection_glyph\":null,\"view\":{\"id\":\"23f9924c-8209-4f63-8eb6-c7f6f6d1c1da\",\"type\":\"CDSView\"}},\"id\":\"aa86e839-9e20-4b1b-be07-b7cbcb3000de\",\"type\":\"GlyphRenderer\"},{\"attributes\":{\"bottom_units\":\"screen\",\"fill_alpha\":{\"value\":0.5},\"fill_color\":{\"value\":\"lightgrey\"},\"left_units\":\"screen\",\"level\":\"overlay\",\"line_alpha\":{\"value\":1.0},\"line_color\":{\"value\":\"black\"},\"line_dash\":[4,4],\"line_width\":{\"value\":2},\"plot\":null,\"render_mode\":\"css\",\"right_units\":\"screen\",\"top_units\":\"screen\"},\"id\":\"d93c55a4-bb36-4943-bcde-a4786323aa96\",\"type\":\"BoxAnnotation\"},{\"attributes\":{},\"id\":\"eef61ea1-73ed-45cb-83d3-e6ae67408567\",\"type\":\"PanTool\"},{\"attributes\":{},\"id\":\"59dda5cb-6001-49cf-ae65-3f8d8a59e184\",\"type\":\"LinearScale\"},{\"attributes\":{\"source\":{\"id\":\"0dbdb9b3-05f6-46bc-b8e3-dfc1fcd69ff4\",\"type\":\"ColumnDataSource\"}},\"id\":\"e7a7f280-64d2-4676-918c-547d0cd44703\",\"type\":\"CDSView\"},{\"attributes\":{\"active_drag\":\"auto\",\"active_inspect\":\"auto\",\"active_scroll\":\"auto\",\"active_tap\":\"auto\",\"tools\":[{\"id\":\"eef61ea1-73ed-45cb-83d3-e6ae67408567\",\"type\":\"PanTool\"},{\"id\":\"d0a10c86-4bfd-4f37-9f4b-1c833d61f0b6\",\"type\":\"WheelZoomTool\"},{\"id\":\"d5211405-64cb-4b1f-9af8-75b5f6874494\",\"type\":\"BoxZoomTool\"},{\"id\":\"19c968d7-4a90-42b8-ae92-3ff5124b49e8\",\"type\":\"SaveTool\"},{\"id\":\"6f1091d7-f129-4ab8-ba4b-8e523824e852\",\"type\":\"ResetTool\"},{\"id\":\"3fd30209-322d-42af-b002-6fa50127f3c8\",\"type\":\"HelpTool\"}]},\"id\":\"de0cf580-f907-4b53-acac-3a81bfc5c9b8\",\"type\":\"Toolbar\"},{\"attributes\":{},\"id\":\"18db84c6-b83c-48dc-a0ea-25e7ef0d84fa\",\"type\":\"BasicTickFormatter\"},{\"attributes\":{},\"id\":\"d0a10c86-4bfd-4f37-9f4b-1c833d61f0b6\",\"type\":\"WheelZoomTool\"},{\"attributes\":{\"plot\":null,\"text\":\"line width\"},\"id\":\"30375d54-cb98-4340-a701-cfc7a861a9bd\",\"type\":\"Title\"},{\"attributes\":{\"overlay\":{\"id\":\"d93c55a4-bb36-4943-bcde-a4786323aa96\",\"type\":\"BoxAnnotation\"}},\"id\":\"d5211405-64cb-4b1f-9af8-75b5f6874494\",\"type\":\"BoxZoomTool\"},{\"attributes\":{},\"id\":\"19c968d7-4a90-42b8-ae92-3ff5124b49e8\",\"type\":\"SaveTool\"},{\"attributes\":{},\"id\":\"6f1091d7-f129-4ab8-ba4b-8e523824e852\",\"type\":\"ResetTool\"},{\"attributes\":{},\"id\":\"3fd30209-322d-42af-b002-6fa50127f3c8\",\"type\":\"HelpTool\"},{\"attributes\":{\"callback\":null,\"column_names\":[\"x\",\"y\"],\"data\":{\"x\":[0,1],\"y\":[0.2,0.2]},\"selected\":null,\"selection_policy\":null},\"id\":\"ccd81239-4c20-497f-9646-f2dc5865ea7b\",\"type\":\"ColumnDataSource\"},{\"attributes\":{\"callback\":null,\"column_names\":[\"x\",\"y\"],\"data\":{\"x\":[0,1],\"y\":[0.45,0.45]},\"selected\":null,\"selection_policy\":null},\"id\":\"1879253c-8af2-4f6c-b9a4-4eb06be0507e\",\"type\":\"ColumnDataSource\"},{\"attributes\":{\"line_alpha\":0.1,\"line_color\":\"#1f77b4\",\"line_width\":6,\"x\":{\"field\":\"x\"},\"y\":{\"field\":\"y\"}},\"id\":\"794fb57a-ca73-4738-8ed1-de0681161ee2\",\"type\":\"Line\"},{\"attributes\":{\"line_alpha\":0.1,\"line_color\":\"#1f77b4\",\"line_width\":3,\"x\":{\"field\":\"x\"},\"y\":{\"field\":\"y\"}},\"id\":\"bc37f86f-f6dd-43eb-82a3-d937a4179e5e\",\"type\":\"Line\"},{\"attributes\":{},\"id\":\"12f543db-9dbd-4ff6-8806-67ad6b85ce07\",\"type\":\"BasicTickFormatter\"},{\"attributes\":{\"line_width\":3,\"x\":{\"field\":\"x\"},\"y\":{\"field\":\"y\"}},\"id\":\"329fcdc9-4934-4bf5-8af0-d22ab0ac2ef8\",\"type\":\"Line\"},{\"attributes\":{\"line_width\":6,\"x\":{\"field\":\"x\"},\"y\":{\"field\":\"y\"}},\"id\":\"96db0c90-200e-433f-af58-700e4806a3d2\",\"type\":\"Line\"},{\"attributes\":{\"source\":{\"id\":\"f0370c77-6955-4bdc-8816-f377079e998e\",\"type\":\"ColumnDataSource\"}},\"id\":\"23f9924c-8209-4f63-8eb6-c7f6f6d1c1da\",\"type\":\"CDSView\"},{\"attributes\":{\"data_source\":{\"id\":\"1879253c-8af2-4f6c-b9a4-4eb06be0507e\",\"type\":\"ColumnDataSource\"},\"glyph\":{\"id\":\"96db0c90-200e-433f-af58-700e4806a3d2\",\"type\":\"Line\"},\"hover_glyph\":null,\"muted_glyph\":null,\"nonselection_glyph\":{\"id\":\"794fb57a-ca73-4738-8ed1-de0681161ee2\",\"type\":\"Line\"},\"selection_glyph\":null,\"view\":{\"id\":\"ef757b7e-b232-4268-b8db-ec28f3b0e8ef\",\"type\":\"CDSView\"}},\"id\":\"dedb7c47-c666-4783-89ba-3470396d10a4\",\"type\":\"GlyphRenderer\"},{\"attributes\":{\"source\":{\"id\":\"1879253c-8af2-4f6c-b9a4-4eb06be0507e\",\"type\":\"ColumnDataSource\"}},\"id\":\"ef757b7e-b232-4268-b8db-ec28f3b0e8ef\",\"type\":\"CDSView\"},{\"attributes\":{\"line_width\":8,\"x\":{\"field\":\"x\"},\"y\":{\"field\":\"y\"}},\"id\":\"7a18d4b3-3356-4258-a591-29a327dab59b\",\"type\":\"Line\"},{\"attributes\":{\"below\":[{\"id\":\"4b86b116-d9dc-47a9-9010-a8785e14e8bb\",\"type\":\"LinearAxis\"}],\"left\":[{\"id\":\"7543b10b-d81b-4b8a-b756-2414dc4c950b\",\"type\":\"LinearAxis\"}],\"plot_height\":150,\"plot_width\":200,\"renderers\":[{\"id\":\"4b86b116-d9dc-47a9-9010-a8785e14e8bb\",\"type\":\"LinearAxis\"},{\"id\":\"4ad31c50-5d2e-4f7f-a2fc-ff7106e628d0\",\"type\":\"Grid\"},{\"id\":\"7543b10b-d81b-4b8a-b756-2414dc4c950b\",\"type\":\"LinearAxis\"},{\"id\":\"1a01c004-e448-4fe3-9590-0c399feeac2f\",\"type\":\"Grid\"},{\"id\":\"d93c55a4-bb36-4943-bcde-a4786323aa96\",\"type\":\"BoxAnnotation\"},{\"id\":\"7213e92f-9515-4710-acfc-aaeca4973aa9\",\"type\":\"GlyphRenderer\"},{\"id\":\"aa86e839-9e20-4b1b-be07-b7cbcb3000de\",\"type\":\"GlyphRenderer\"},{\"id\":\"dedb7c47-c666-4783-89ba-3470396d10a4\",\"type\":\"GlyphRenderer\"},{\"id\":\"f6bde5a3-9884-4716-8f1e-a9c42ec0a9f5\",\"type\":\"GlyphRenderer\"}],\"title\":{\"id\":\"30375d54-cb98-4340-a701-cfc7a861a9bd\",\"type\":\"Title\"},\"toolbar\":{\"id\":\"de0cf580-f907-4b53-acac-3a81bfc5c9b8\",\"type\":\"Toolbar\"},\"x_range\":{\"id\":\"4a279c62-99dc-4998-bd39-7576c17b9dc3\",\"type\":\"Range1d\"},\"x_scale\":{\"id\":\"1d1844ed-b7d6-4a08-a271-6d52ec51b84b\",\"type\":\"LinearScale\"},\"y_range\":{\"id\":\"33274965-ccf3-4ccb-ad6e-ff966e3d6c3c\",\"type\":\"Range1d\"},\"y_scale\":{\"id\":\"59dda5cb-6001-49cf-ae65-3f8d8a59e184\",\"type\":\"LinearScale\"}},\"id\":\"52c9f1b7-b3a0-4549-be8f-2ebabf74a223\",\"subtype\":\"Figure\",\"type\":\"Plot\"},{\"attributes\":{\"line_alpha\":0.1,\"line_color\":\"#1f77b4\",\"line_width\":8,\"x\":{\"field\":\"x\"},\"y\":{\"field\":\"y\"}},\"id\":\"60d1622c-bc9d-4568-a28b-d626b2c2a1a0\",\"type\":\"Line\"},{\"attributes\":{\"bounds\":[0,1],\"callback\":null},\"id\":\"4a279c62-99dc-4998-bd39-7576c17b9dc3\",\"type\":\"Range1d\"},{\"attributes\":{\"data_source\":{\"id\":\"ccd81239-4c20-497f-9646-f2dc5865ea7b\",\"type\":\"ColumnDataSource\"},\"glyph\":{\"id\":\"7a18d4b3-3356-4258-a591-29a327dab59b\",\"type\":\"Line\"},\"hover_glyph\":null,\"muted_glyph\":null,\"nonselection_glyph\":{\"id\":\"60d1622c-bc9d-4568-a28b-d626b2c2a1a0\",\"type\":\"Line\"},\"selection_glyph\":null,\"view\":{\"id\":\"563f39c9-5778-4e99-8369-b8ac358b3861\",\"type\":\"CDSView\"}},\"id\":\"f6bde5a3-9884-4716-8f1e-a9c42ec0a9f5\",\"type\":\"GlyphRenderer\"},{\"attributes\":{},\"id\":\"1d1844ed-b7d6-4a08-a271-6d52ec51b84b\",\"type\":\"LinearScale\"},{\"attributes\":{\"source\":{\"id\":\"ccd81239-4c20-497f-9646-f2dc5865ea7b\",\"type\":\"ColumnDataSource\"}},\"id\":\"563f39c9-5778-4e99-8369-b8ac358b3861\",\"type\":\"CDSView\"}],\"root_ids\":[\"52c9f1b7-b3a0-4549-be8f-2ebabf74a223\"]},\"title\":\"Bokeh Application\",\"version\":\"0.12.15\"}};\n",
       "  var render_items = [{\"docid\":\"0d618f3c-1675-4282-8208-cbcde02c40b6\",\"elementid\":\"989aa269-9ff1-4256-af0c-892f2424d2c2\",\"modelid\":\"52c9f1b7-b3a0-4549-be8f-2ebabf74a223\"}];\n",
       "  root.Bokeh.embed.embed_items_notebook(docs_json, render_items);\n",
       "\n",
       "  }\n",
       "  if (root.Bokeh !== undefined) {\n",
       "    embed_document(root);\n",
       "  } else {\n",
       "    var attempts = 0;\n",
       "    var timer = setInterval(function(root) {\n",
       "      if (root.Bokeh !== undefined) {\n",
       "        embed_document(root);\n",
       "        clearInterval(timer);\n",
       "      }\n",
       "      attempts++;\n",
       "      if (attempts > 100) {\n",
       "        console.log(\"Bokeh: ERROR: Unable to run BokehJS code because BokehJS library is missing\")\n",
       "        clearInterval(timer);\n",
       "      }\n",
       "    }, 10, root)\n",
       "  }\n",
       "})(window);"
      ],
      "application/vnd.bokehjs_exec.v0+json": ""
     },
     "metadata": {
      "application/vnd.bokehjs_exec.v0+json": {
       "id": "52c9f1b7-b3a0-4549-be8f-2ebabf74a223"
      }
     },
     "output_type": "display_data"
    }
   ],
   "source": [
    "lin = figure(plot_height=150, plot_width=200, x_range=Range1d(bounds=(0, 1)), y_range=Range1d(bounds=(0, 1)),\n",
    "            title=\"line width\")\n",
    "lin.axis.visible = False\n",
    "lin.grid.grid_line_color = None\n",
    "\n",
    "r = 1\n",
    "lin.line(x=[0, 1], y=[0.9, 0.9], line_width=r*1, line_color=\"black\")\n",
    "lin.line(x=[0, 1], y=[0.7, 0.7], line_width=r*3, line_color=\"black\")\n",
    "lin.line(x=[0, 1], y=[0.45, 0.45], line_width=r*6, line_color=\"black\")\n",
    "lin.line(x=[0, 1], y=[0.2, 0.2], line_width=r*8, line_color=\"black\")\n",
    "\n",
    "show(lin)"
   ]
  },
  {
   "cell_type": "code",
   "execution_count": 12,
   "metadata": {},
   "outputs": [
    {
     "data": {
      "text/html": [
       "\n",
       "<div class=\"bk-root\">\n",
       "    <div class=\"bk-plotdiv\" id=\"97a4dcc0-c158-4795-b4de-bd7da78f8a26\"></div>\n",
       "</div>"
      ]
     },
     "metadata": {},
     "output_type": "display_data"
    },
    {
     "data": {
      "application/javascript": [
       "(function(root) {\n",
       "  function embed_document(root) {\n",
       "    \n",
       "  var docs_json = {\"f2a6d75d-5a5c-4b3b-a565-b95a94de1bf6\":{\"roots\":{\"references\":[{\"attributes\":{\"line_dash\":[2,4],\"line_width\":2,\"x\":{\"field\":\"x\"},\"y\":{\"field\":\"y\"}},\"id\":\"98c9718e-2530-48c9-a2eb-5491e1618978\",\"type\":\"Line\"},{\"attributes\":{\"plot\":null,\"text\":\"line type\"},\"id\":\"8b27f80b-781c-42b1-ba0c-159de21fef67\",\"type\":\"Title\"},{\"attributes\":{\"line_dash\":[6],\"line_width\":2,\"x\":{\"field\":\"x\"},\"y\":{\"field\":\"y\"}},\"id\":\"085035fa-b6b8-4b98-8d6f-5a90ede8110a\",\"type\":\"Line\"},{\"attributes\":{\"active_drag\":\"auto\",\"active_inspect\":\"auto\",\"active_scroll\":\"auto\",\"active_tap\":\"auto\",\"tools\":[{\"id\":\"f384dc2e-3c72-479f-856a-ccd45a2fa817\",\"type\":\"PanTool\"},{\"id\":\"fdfbca9b-9cfd-4430-9c46-5c695fb12f54\",\"type\":\"WheelZoomTool\"},{\"id\":\"8b1b8a6e-8c45-4b46-a675-d366d4af0bb4\",\"type\":\"BoxZoomTool\"},{\"id\":\"e83b18d8-cfcd-4329-9836-dd3cbc27ced4\",\"type\":\"SaveTool\"},{\"id\":\"3de1c99f-89ae-485f-beff-ee6b6f6685f5\",\"type\":\"ResetTool\"},{\"id\":\"9c41bedc-7b32-41cc-b2e2-0e1842daa6d8\",\"type\":\"HelpTool\"}]},\"id\":\"8f243eec-225b-4f74-8955-e5612a767c51\",\"type\":\"Toolbar\"},{\"attributes\":{\"line_alpha\":0.1,\"line_color\":\"#1f77b4\",\"line_dash\":[2,4],\"line_width\":2,\"x\":{\"field\":\"x\"},\"y\":{\"field\":\"y\"}},\"id\":\"b42e4f8f-3d63-42af-9ffd-6e9b7b836f59\",\"type\":\"Line\"},{\"attributes\":{\"data_source\":{\"id\":\"1d6fa1fc-d590-4c03-b966-f10b6c6a49f4\",\"type\":\"ColumnDataSource\"},\"glyph\":{\"id\":\"98c9718e-2530-48c9-a2eb-5491e1618978\",\"type\":\"Line\"},\"hover_glyph\":null,\"muted_glyph\":null,\"nonselection_glyph\":{\"id\":\"b42e4f8f-3d63-42af-9ffd-6e9b7b836f59\",\"type\":\"Line\"},\"selection_glyph\":null,\"view\":{\"id\":\"7b68f277-4957-4c51-909f-df1bf503939e\",\"type\":\"CDSView\"}},\"id\":\"9ba5f013-cfb6-4126-a42f-68f7c0592b45\",\"type\":\"GlyphRenderer\"},{\"attributes\":{\"below\":[{\"id\":\"1f946123-fa6c-40a6-b615-aa6cec45078e\",\"type\":\"LinearAxis\"}],\"left\":[{\"id\":\"c8b8f89a-9518-4b23-bdcd-99592c8605f4\",\"type\":\"LinearAxis\"}],\"plot_height\":150,\"plot_width\":200,\"renderers\":[{\"id\":\"1f946123-fa6c-40a6-b615-aa6cec45078e\",\"type\":\"LinearAxis\"},{\"id\":\"866fa459-e839-4fae-b175-f4fc6dc33614\",\"type\":\"Grid\"},{\"id\":\"c8b8f89a-9518-4b23-bdcd-99592c8605f4\",\"type\":\"LinearAxis\"},{\"id\":\"cf7503ce-2329-46d0-bf83-dfd52137331c\",\"type\":\"Grid\"},{\"id\":\"0c6a642c-9bd6-40f8-85ce-820bb148c689\",\"type\":\"BoxAnnotation\"},{\"id\":\"52f31896-ea41-469f-9cdd-d974f9578d97\",\"type\":\"GlyphRenderer\"},{\"id\":\"20156e60-e0c6-4ed4-9cb7-b69d9ee1f91e\",\"type\":\"GlyphRenderer\"},{\"id\":\"9ba5f013-cfb6-4126-a42f-68f7c0592b45\",\"type\":\"GlyphRenderer\"},{\"id\":\"148c68e2-b54a-4f2e-aef7-044a2a0017cf\",\"type\":\"GlyphRenderer\"}],\"title\":{\"id\":\"8b27f80b-781c-42b1-ba0c-159de21fef67\",\"type\":\"Title\"},\"toolbar\":{\"id\":\"8f243eec-225b-4f74-8955-e5612a767c51\",\"type\":\"Toolbar\"},\"x_range\":{\"id\":\"0dd759d2-722d-4b67-a688-16aeb3d9e939\",\"type\":\"Range1d\"},\"x_scale\":{\"id\":\"8f3cb75d-e954-4d30-98ee-cf94d4e75fea\",\"type\":\"LinearScale\"},\"y_range\":{\"id\":\"309a9507-2e04-49d1-801b-8b1ac44730e8\",\"type\":\"Range1d\"},\"y_scale\":{\"id\":\"956758dc-4fd6-4c63-81b0-0ba6af15389f\",\"type\":\"LinearScale\"}},\"id\":\"45bbf427-c6f6-43a7-bb23-e8f6ca3deeaf\",\"subtype\":\"Figure\",\"type\":\"Plot\"},{\"attributes\":{\"callback\":null,\"column_names\":[\"x\",\"y\"],\"data\":{\"x\":[0,1],\"y\":[0.2,0.2]},\"selected\":null,\"selection_policy\":null},\"id\":\"e97c1762-e057-4143-95a7-f9dbc74f9ee0\",\"type\":\"ColumnDataSource\"},{\"attributes\":{\"source\":{\"id\":\"1d6fa1fc-d590-4c03-b966-f10b6c6a49f4\",\"type\":\"ColumnDataSource\"}},\"id\":\"7b68f277-4957-4c51-909f-df1bf503939e\",\"type\":\"CDSView\"},{\"attributes\":{\"line_dash\":[2,4,6,4],\"line_width\":2,\"x\":{\"field\":\"x\"},\"y\":{\"field\":\"y\"}},\"id\":\"07ad9fb2-37e7-41b1-9357-63d1e5c7c916\",\"type\":\"Line\"},{\"attributes\":{},\"id\":\"c05ea9ef-9d19-4c5f-bef6-b469703e2368\",\"type\":\"BasicTickFormatter\"},{\"attributes\":{\"overlay\":{\"id\":\"0c6a642c-9bd6-40f8-85ce-820bb148c689\",\"type\":\"BoxAnnotation\"}},\"id\":\"8b1b8a6e-8c45-4b46-a675-d366d4af0bb4\",\"type\":\"BoxZoomTool\"},{\"attributes\":{\"line_alpha\":0.1,\"line_color\":\"#1f77b4\",\"line_dash\":[2,4,6,4],\"line_width\":2,\"x\":{\"field\":\"x\"},\"y\":{\"field\":\"y\"}},\"id\":\"a1865ce1-9750-449e-afda-4e8b76d71336\",\"type\":\"Line\"},{\"attributes\":{\"data_source\":{\"id\":\"e97c1762-e057-4143-95a7-f9dbc74f9ee0\",\"type\":\"ColumnDataSource\"},\"glyph\":{\"id\":\"07ad9fb2-37e7-41b1-9357-63d1e5c7c916\",\"type\":\"Line\"},\"hover_glyph\":null,\"muted_glyph\":null,\"nonselection_glyph\":{\"id\":\"a1865ce1-9750-449e-afda-4e8b76d71336\",\"type\":\"Line\"},\"selection_glyph\":null,\"view\":{\"id\":\"47078a73-642b-4c64-968a-b5ad92db083f\",\"type\":\"CDSView\"}},\"id\":\"148c68e2-b54a-4f2e-aef7-044a2a0017cf\",\"type\":\"GlyphRenderer\"},{\"attributes\":{\"source\":{\"id\":\"e97c1762-e057-4143-95a7-f9dbc74f9ee0\",\"type\":\"ColumnDataSource\"}},\"id\":\"47078a73-642b-4c64-968a-b5ad92db083f\",\"type\":\"CDSView\"},{\"attributes\":{\"dimension\":1,\"grid_line_color\":{\"value\":null},\"plot\":{\"id\":\"45bbf427-c6f6-43a7-bb23-e8f6ca3deeaf\",\"subtype\":\"Figure\",\"type\":\"Plot\"},\"ticker\":{\"id\":\"e1d634c2-f6dc-4fc2-9a62-05d6f4882b44\",\"type\":\"BasicTicker\"}},\"id\":\"cf7503ce-2329-46d0-bf83-dfd52137331c\",\"type\":\"Grid\"},{\"attributes\":{\"bottom_units\":\"screen\",\"fill_alpha\":{\"value\":0.5},\"fill_color\":{\"value\":\"lightgrey\"},\"left_units\":\"screen\",\"level\":\"overlay\",\"line_alpha\":{\"value\":1.0},\"line_color\":{\"value\":\"black\"},\"line_dash\":[4,4],\"line_width\":{\"value\":2},\"plot\":null,\"render_mode\":\"css\",\"right_units\":\"screen\",\"top_units\":\"screen\"},\"id\":\"0c6a642c-9bd6-40f8-85ce-820bb148c689\",\"type\":\"BoxAnnotation\"},{\"attributes\":{\"data_source\":{\"id\":\"8dcd3144-7455-425f-acd5-7042741efe6a\",\"type\":\"ColumnDataSource\"},\"glyph\":{\"id\":\"085035fa-b6b8-4b98-8d6f-5a90ede8110a\",\"type\":\"Line\"},\"hover_glyph\":null,\"muted_glyph\":null,\"nonselection_glyph\":{\"id\":\"b7d2fc26-4ed5-486a-a84c-6ab45a771cdb\",\"type\":\"Line\"},\"selection_glyph\":null,\"view\":{\"id\":\"33364a67-ef56-4217-940c-001b74736911\",\"type\":\"CDSView\"}},\"id\":\"20156e60-e0c6-4ed4-9cb7-b69d9ee1f91e\",\"type\":\"GlyphRenderer\"},{\"attributes\":{\"source\":{\"id\":\"9b2fb4f5-c07b-4c82-93d8-b556bbd7e906\",\"type\":\"ColumnDataSource\"}},\"id\":\"95d2dd3d-cf12-4f24-93fb-961e54f044b6\",\"type\":\"CDSView\"},{\"attributes\":{\"line_alpha\":0.1,\"line_color\":\"#1f77b4\",\"line_width\":2,\"x\":{\"field\":\"x\"},\"y\":{\"field\":\"y\"}},\"id\":\"0ff28894-faab-461e-bc4d-ce8aecf21814\",\"type\":\"Line\"},{\"attributes\":{},\"id\":\"44282f5a-c634-4a55-b486-6e0fefee5eae\",\"type\":\"BasicTickFormatter\"},{\"attributes\":{},\"id\":\"f384dc2e-3c72-479f-856a-ccd45a2fa817\",\"type\":\"PanTool\"},{\"attributes\":{\"source\":{\"id\":\"8dcd3144-7455-425f-acd5-7042741efe6a\",\"type\":\"ColumnDataSource\"}},\"id\":\"33364a67-ef56-4217-940c-001b74736911\",\"type\":\"CDSView\"},{\"attributes\":{\"bounds\":[0,1],\"callback\":null},\"id\":\"0dd759d2-722d-4b67-a688-16aeb3d9e939\",\"type\":\"Range1d\"},{\"attributes\":{},\"id\":\"fdfbca9b-9cfd-4430-9c46-5c695fb12f54\",\"type\":\"WheelZoomTool\"},{\"attributes\":{\"callback\":null,\"column_names\":[\"x\",\"y\"],\"data\":{\"x\":[0,1],\"y\":[0.9,0.9]},\"selected\":null,\"selection_policy\":null},\"id\":\"9b2fb4f5-c07b-4c82-93d8-b556bbd7e906\",\"type\":\"ColumnDataSource\"},{\"attributes\":{},\"id\":\"e83b18d8-cfcd-4329-9836-dd3cbc27ced4\",\"type\":\"SaveTool\"},{\"attributes\":{},\"id\":\"e1d634c2-f6dc-4fc2-9a62-05d6f4882b44\",\"type\":\"BasicTicker\"},{\"attributes\":{\"callback\":null,\"column_names\":[\"x\",\"y\"],\"data\":{\"x\":[0,1],\"y\":[0.7,0.7]},\"selected\":null,\"selection_policy\":null},\"id\":\"8dcd3144-7455-425f-acd5-7042741efe6a\",\"type\":\"ColumnDataSource\"},{\"attributes\":{\"formatter\":{\"id\":\"c05ea9ef-9d19-4c5f-bef6-b469703e2368\",\"type\":\"BasicTickFormatter\"},\"plot\":{\"id\":\"45bbf427-c6f6-43a7-bb23-e8f6ca3deeaf\",\"subtype\":\"Figure\",\"type\":\"Plot\"},\"ticker\":{\"id\":\"e1d634c2-f6dc-4fc2-9a62-05d6f4882b44\",\"type\":\"BasicTicker\"},\"visible\":false},\"id\":\"c8b8f89a-9518-4b23-bdcd-99592c8605f4\",\"type\":\"LinearAxis\"},{\"attributes\":{},\"id\":\"18e795dc-16f9-477a-b411-85f625287ae0\",\"type\":\"BasicTicker\"},{\"attributes\":{},\"id\":\"3de1c99f-89ae-485f-beff-ee6b6f6685f5\",\"type\":\"ResetTool\"},{\"attributes\":{\"callback\":null,\"column_names\":[\"x\",\"y\"],\"data\":{\"x\":[0,1],\"y\":[0.45,0.45]},\"selected\":null,\"selection_policy\":null},\"id\":\"1d6fa1fc-d590-4c03-b966-f10b6c6a49f4\",\"type\":\"ColumnDataSource\"},{\"attributes\":{\"data_source\":{\"id\":\"9b2fb4f5-c07b-4c82-93d8-b556bbd7e906\",\"type\":\"ColumnDataSource\"},\"glyph\":{\"id\":\"bb260e89-eced-459a-aca3-e9da4b168b1d\",\"type\":\"Line\"},\"hover_glyph\":null,\"muted_glyph\":null,\"nonselection_glyph\":{\"id\":\"0ff28894-faab-461e-bc4d-ce8aecf21814\",\"type\":\"Line\"},\"selection_glyph\":null,\"view\":{\"id\":\"95d2dd3d-cf12-4f24-93fb-961e54f044b6\",\"type\":\"CDSView\"}},\"id\":\"52f31896-ea41-469f-9cdd-d974f9578d97\",\"type\":\"GlyphRenderer\"},{\"attributes\":{\"grid_line_color\":{\"value\":null},\"plot\":{\"id\":\"45bbf427-c6f6-43a7-bb23-e8f6ca3deeaf\",\"subtype\":\"Figure\",\"type\":\"Plot\"},\"ticker\":{\"id\":\"18e795dc-16f9-477a-b411-85f625287ae0\",\"type\":\"BasicTicker\"}},\"id\":\"866fa459-e839-4fae-b175-f4fc6dc33614\",\"type\":\"Grid\"},{\"attributes\":{\"line_alpha\":0.1,\"line_color\":\"#1f77b4\",\"line_dash\":[6],\"line_width\":2,\"x\":{\"field\":\"x\"},\"y\":{\"field\":\"y\"}},\"id\":\"b7d2fc26-4ed5-486a-a84c-6ab45a771cdb\",\"type\":\"Line\"},{\"attributes\":{},\"id\":\"8f3cb75d-e954-4d30-98ee-cf94d4e75fea\",\"type\":\"LinearScale\"},{\"attributes\":{\"bounds\":[0,1],\"callback\":null},\"id\":\"309a9507-2e04-49d1-801b-8b1ac44730e8\",\"type\":\"Range1d\"},{\"attributes\":{\"formatter\":{\"id\":\"44282f5a-c634-4a55-b486-6e0fefee5eae\",\"type\":\"BasicTickFormatter\"},\"plot\":{\"id\":\"45bbf427-c6f6-43a7-bb23-e8f6ca3deeaf\",\"subtype\":\"Figure\",\"type\":\"Plot\"},\"ticker\":{\"id\":\"18e795dc-16f9-477a-b411-85f625287ae0\",\"type\":\"BasicTicker\"},\"visible\":false},\"id\":\"1f946123-fa6c-40a6-b615-aa6cec45078e\",\"type\":\"LinearAxis\"},{\"attributes\":{},\"id\":\"9c41bedc-7b32-41cc-b2e2-0e1842daa6d8\",\"type\":\"HelpTool\"},{\"attributes\":{\"line_width\":2,\"x\":{\"field\":\"x\"},\"y\":{\"field\":\"y\"}},\"id\":\"bb260e89-eced-459a-aca3-e9da4b168b1d\",\"type\":\"Line\"},{\"attributes\":{},\"id\":\"956758dc-4fd6-4c63-81b0-0ba6af15389f\",\"type\":\"LinearScale\"}],\"root_ids\":[\"45bbf427-c6f6-43a7-bb23-e8f6ca3deeaf\"]},\"title\":\"Bokeh Application\",\"version\":\"0.12.15\"}};\n",
       "  var render_items = [{\"docid\":\"f2a6d75d-5a5c-4b3b-a565-b95a94de1bf6\",\"elementid\":\"97a4dcc0-c158-4795-b4de-bd7da78f8a26\",\"modelid\":\"45bbf427-c6f6-43a7-bb23-e8f6ca3deeaf\"}];\n",
       "  root.Bokeh.embed.embed_items_notebook(docs_json, render_items);\n",
       "\n",
       "  }\n",
       "  if (root.Bokeh !== undefined) {\n",
       "    embed_document(root);\n",
       "  } else {\n",
       "    var attempts = 0;\n",
       "    var timer = setInterval(function(root) {\n",
       "      if (root.Bokeh !== undefined) {\n",
       "        embed_document(root);\n",
       "        clearInterval(timer);\n",
       "      }\n",
       "      attempts++;\n",
       "      if (attempts > 100) {\n",
       "        console.log(\"Bokeh: ERROR: Unable to run BokehJS code because BokehJS library is missing\")\n",
       "        clearInterval(timer);\n",
       "      }\n",
       "    }, 10, root)\n",
       "  }\n",
       "})(window);"
      ],
      "application/vnd.bokehjs_exec.v0+json": ""
     },
     "metadata": {
      "application/vnd.bokehjs_exec.v0+json": {
       "id": "45bbf427-c6f6-43a7-bb23-e8f6ca3deeaf"
      }
     },
     "output_type": "display_data"
    }
   ],
   "source": [
    "lin1 = figure(plot_height=150, plot_width=200, x_range=Range1d(bounds=(0, 1)), y_range=Range1d(bounds=(0, 1)),\n",
    "            title=\"line type\")\n",
    "lin1.axis.visible = False\n",
    "lin1.grid.grid_line_color = None\n",
    "\n",
    "r = 1\n",
    "lin1.line(x=[0, 1], y=[0.9, 0.9], line_color=\"black\", line_dash=\"solid\", line_width=2)\n",
    "lin1.line(x=[0, 1], y=[0.7, 0.7], line_color=\"black\", line_dash=\"dashed\", line_width=2)\n",
    "lin1.line(x=[0, 1], y=[0.45, 0.45], line_color=\"black\", line_dash=\"dotted\", line_width=2)\n",
    "lin1.line(x=[0, 1], y=[0.2, 0.2], line_color=\"black\", line_dash=\"dotdash\", line_width=2)\n",
    "\n",
    "show(lin1)"
   ]
  },
  {
   "cell_type": "code",
   "execution_count": 13,
   "metadata": {},
   "outputs": [],
   "source": [
    "grid = gridplot([[pos, shp, siz], [col, lin, lin1]], group=\"Figure 1.1\")"
   ]
  },
  {
   "cell_type": "code",
   "execution_count": 14,
   "metadata": {},
   "outputs": [
    {
     "data": {
      "text/html": [
       "\n",
       "<div class=\"bk-root\">\n",
       "    <div class=\"bk-plotdiv\" id=\"a475f141-c75f-4008-ae9d-a15e28a63289\"></div>\n",
       "</div>"
      ]
     },
     "metadata": {},
     "output_type": "display_data"
    },
    {
     "data": {
      "application/javascript": [
       "(function(root) {\n",
       "  function embed_document(root) {\n",
       "    \n",
       "  var docs_json = {\"d815bcfd-bfda-42d4-a89c-ec3d6dc21ae6\":{\"roots\":{\"references\":[{\"attributes\":{\"line_alpha\":0.1,\"line_color\":\"#1f77b4\",\"x\":{\"field\":\"x\"},\"y\":{\"value\":0.5}},\"id\":\"a0563752-7d09-4490-a063-7f87d0ff784c\",\"type\":\"Line\"},{\"attributes\":{\"data_source\":{\"id\":\"5b5235f6-674f-4c96-a6f1-6ff88d87586d\",\"type\":\"ColumnDataSource\"},\"glyph\":{\"id\":\"d24d2f01-f5f3-448a-8964-cd3affc65bc2\",\"type\":\"Line\"},\"hover_glyph\":null,\"muted_glyph\":null,\"nonselection_glyph\":{\"id\":\"a0563752-7d09-4490-a063-7f87d0ff784c\",\"type\":\"Line\"},\"selection_glyph\":null,\"view\":{\"id\":\"5a57afe0-ed50-487e-92cf-529b58e714f5\",\"type\":\"CDSView\"}},\"id\":\"ee910a28-3307-4af0-9856-acac6c6ce932\",\"type\":\"GlyphRenderer\"},{\"attributes\":{\"formatter\":{\"id\":\"9e522361-c3fc-4a3d-a98b-d394b7c5e78f\",\"type\":\"BasicTickFormatter\"},\"plot\":{\"id\":\"796ebdcf-50a5-417d-9466-16d9f55b0296\",\"subtype\":\"Figure\",\"type\":\"Plot\"},\"ticker\":{\"id\":\"d38e9fcf-38e8-45a6-9f66-5e280c0e26da\",\"type\":\"BasicTicker\"},\"visible\":false},\"id\":\"17fea879-94ca-4b58-9eee-0bb55a12de13\",\"type\":\"LinearAxis\"},{\"attributes\":{\"fill_color\":{\"value\":\"grey\"},\"line_color\":{\"value\":null},\"radius\":{\"units\":\"data\",\"value\":0.05},\"x\":{\"value\":0.1},\"y\":{\"value\":0.5}},\"id\":\"87371af2-d7bc-487e-95bb-a47245a45173\",\"type\":\"Circle\"},{\"attributes\":{\"grid_line_color\":{\"value\":null},\"plot\":{\"id\":\"52c9f1b7-b3a0-4549-be8f-2ebabf74a223\",\"subtype\":\"Figure\",\"type\":\"Plot\"},\"ticker\":{\"id\":\"84f28217-e8d1-4430-8d57-d8a355fe4cb1\",\"type\":\"BasicTicker\"}},\"id\":\"4ad31c50-5d2e-4f7f-a2fc-ff7106e628d0\",\"type\":\"Grid\"},{\"attributes\":{\"formatter\":{\"id\":\"12f543db-9dbd-4ff6-8806-67ad6b85ce07\",\"type\":\"BasicTickFormatter\"},\"plot\":{\"id\":\"52c9f1b7-b3a0-4549-be8f-2ebabf74a223\",\"subtype\":\"Figure\",\"type\":\"Plot\"},\"ticker\":{\"id\":\"ffefc15d-48bf-4636-a7cc-1d516f26929a\",\"type\":\"BasicTicker\"},\"visible\":false},\"id\":\"7543b10b-d81b-4b8a-b756-2414dc4c950b\",\"type\":\"LinearAxis\"},{\"attributes\":{\"line_alpha\":0.1,\"line_color\":\"#1f77b4\",\"x\":{\"field\":\"x\"},\"y\":{\"field\":\"y\"}},\"id\":\"993e62e0-32f6-4f47-b3c5-875a42ba1989\",\"type\":\"Line\"},{\"attributes\":{},\"id\":\"ffefc15d-48bf-4636-a7cc-1d516f26929a\",\"type\":\"BasicTicker\"},{\"attributes\":{\"dimension\":1,\"grid_line_color\":{\"value\":null},\"plot\":{\"id\":\"52c9f1b7-b3a0-4549-be8f-2ebabf74a223\",\"subtype\":\"Figure\",\"type\":\"Plot\"},\"ticker\":{\"id\":\"ffefc15d-48bf-4636-a7cc-1d516f26929a\",\"type\":\"BasicTicker\"}},\"id\":\"1a01c004-e448-4fe3-9590-0c399feeac2f\",\"type\":\"Grid\"},{\"attributes\":{\"data_source\":{\"id\":\"0dbdb9b3-05f6-46bc-b8e3-dfc1fcd69ff4\",\"type\":\"ColumnDataSource\"},\"glyph\":{\"id\":\"8fd2a6ef-5bc8-4c67-a7db-782384cdee2d\",\"type\":\"Line\"},\"hover_glyph\":null,\"muted_glyph\":null,\"nonselection_glyph\":{\"id\":\"993e62e0-32f6-4f47-b3c5-875a42ba1989\",\"type\":\"Line\"},\"selection_glyph\":null,\"view\":{\"id\":\"e7a7f280-64d2-4676-918c-547d0cd44703\",\"type\":\"CDSView\"}},\"id\":\"7213e92f-9515-4710-acfc-aaeca4973aa9\",\"type\":\"GlyphRenderer\"},{\"attributes\":{\"x\":{\"field\":\"x\"},\"y\":{\"field\":\"y\"}},\"id\":\"8fd2a6ef-5bc8-4c67-a7db-782384cdee2d\",\"type\":\"Line\"},{\"attributes\":{\"data_source\":{\"id\":\"f0370c77-6955-4bdc-8816-f377079e998e\",\"type\":\"ColumnDataSource\"},\"glyph\":{\"id\":\"329fcdc9-4934-4bf5-8af0-d22ab0ac2ef8\",\"type\":\"Line\"},\"hover_glyph\":null,\"muted_glyph\":null,\"nonselection_glyph\":{\"id\":\"bc37f86f-f6dd-43eb-82a3-d937a4179e5e\",\"type\":\"Line\"},\"selection_glyph\":null,\"view\":{\"id\":\"23f9924c-8209-4f63-8eb6-c7f6f6d1c1da\",\"type\":\"CDSView\"}},\"id\":\"aa86e839-9e20-4b1b-be07-b7cbcb3000de\",\"type\":\"GlyphRenderer\"},{\"attributes\":{\"bottom_units\":\"screen\",\"fill_alpha\":{\"value\":0.5},\"fill_color\":{\"value\":\"lightgrey\"},\"left_units\":\"screen\",\"level\":\"overlay\",\"line_alpha\":{\"value\":1.0},\"line_color\":{\"value\":\"black\"},\"line_dash\":[4,4],\"line_width\":{\"value\":2},\"plot\":null,\"render_mode\":\"css\",\"right_units\":\"screen\",\"top_units\":\"screen\"},\"id\":\"d93c55a4-bb36-4943-bcde-a4786323aa96\",\"type\":\"BoxAnnotation\"},{\"attributes\":{},\"id\":\"eef61ea1-73ed-45cb-83d3-e6ae67408567\",\"type\":\"PanTool\"},{\"attributes\":{\"source\":{\"id\":\"0dbdb9b3-05f6-46bc-b8e3-dfc1fcd69ff4\",\"type\":\"ColumnDataSource\"}},\"id\":\"e7a7f280-64d2-4676-918c-547d0cd44703\",\"type\":\"CDSView\"},{\"attributes\":{},\"id\":\"d0a10c86-4bfd-4f37-9f4b-1c833d61f0b6\",\"type\":\"WheelZoomTool\"},{\"attributes\":{\"overlay\":{\"id\":\"d93c55a4-bb36-4943-bcde-a4786323aa96\",\"type\":\"BoxAnnotation\"}},\"id\":\"d5211405-64cb-4b1f-9af8-75b5f6874494\",\"type\":\"BoxZoomTool\"},{\"attributes\":{},\"id\":\"19c968d7-4a90-42b8-ae92-3ff5124b49e8\",\"type\":\"SaveTool\"},{\"attributes\":{},\"id\":\"6f1091d7-f129-4ab8-ba4b-8e523824e852\",\"type\":\"ResetTool\"},{\"attributes\":{},\"id\":\"3fd30209-322d-42af-b002-6fa50127f3c8\",\"type\":\"HelpTool\"},{\"attributes\":{\"callback\":null,\"column_names\":[\"x\",\"y\"],\"data\":{\"x\":[0,1],\"y\":[0.2,0.2]},\"selected\":null,\"selection_policy\":null},\"id\":\"ccd81239-4c20-497f-9646-f2dc5865ea7b\",\"type\":\"ColumnDataSource\"},{\"attributes\":{\"line_alpha\":0.1,\"line_color\":\"#1f77b4\",\"line_width\":2,\"x\":{\"field\":\"x\"},\"y\":{\"field\":\"y\"}},\"id\":\"0ff28894-faab-461e-bc4d-ce8aecf21814\",\"type\":\"Line\"},{\"attributes\":{\"callback\":null,\"column_names\":[\"x\",\"y\"],\"data\":{\"x\":[0,1],\"y\":[0.45,0.45]},\"selected\":null,\"selection_policy\":null},\"id\":\"1879253c-8af2-4f6c-b9a4-4eb06be0507e\",\"type\":\"ColumnDataSource\"},{\"attributes\":{\"line_alpha\":0.1,\"line_color\":\"#1f77b4\",\"line_width\":6,\"x\":{\"field\":\"x\"},\"y\":{\"field\":\"y\"}},\"id\":\"794fb57a-ca73-4738-8ed1-de0681161ee2\",\"type\":\"Line\"},{\"attributes\":{\"line_alpha\":0.1,\"line_color\":\"#1f77b4\",\"line_width\":3,\"x\":{\"field\":\"x\"},\"y\":{\"field\":\"y\"}},\"id\":\"bc37f86f-f6dd-43eb-82a3-d937a4179e5e\",\"type\":\"Line\"},{\"attributes\":{\"line_width\":3,\"x\":{\"field\":\"x\"},\"y\":{\"field\":\"y\"}},\"id\":\"329fcdc9-4934-4bf5-8af0-d22ab0ac2ef8\",\"type\":\"Line\"},{\"attributes\":{\"line_width\":6,\"x\":{\"field\":\"x\"},\"y\":{\"field\":\"y\"}},\"id\":\"96db0c90-200e-433f-af58-700e4806a3d2\",\"type\":\"Line\"},{\"attributes\":{\"source\":{\"id\":\"f0370c77-6955-4bdc-8816-f377079e998e\",\"type\":\"ColumnDataSource\"}},\"id\":\"23f9924c-8209-4f63-8eb6-c7f6f6d1c1da\",\"type\":\"CDSView\"},{\"attributes\":{\"data_source\":{\"id\":\"1879253c-8af2-4f6c-b9a4-4eb06be0507e\",\"type\":\"ColumnDataSource\"},\"glyph\":{\"id\":\"96db0c90-200e-433f-af58-700e4806a3d2\",\"type\":\"Line\"},\"hover_glyph\":null,\"muted_glyph\":null,\"nonselection_glyph\":{\"id\":\"794fb57a-ca73-4738-8ed1-de0681161ee2\",\"type\":\"Line\"},\"selection_glyph\":null,\"view\":{\"id\":\"ef757b7e-b232-4268-b8db-ec28f3b0e8ef\",\"type\":\"CDSView\"}},\"id\":\"dedb7c47-c666-4783-89ba-3470396d10a4\",\"type\":\"GlyphRenderer\"},{\"attributes\":{\"source\":{\"id\":\"1879253c-8af2-4f6c-b9a4-4eb06be0507e\",\"type\":\"ColumnDataSource\"}},\"id\":\"ef757b7e-b232-4268-b8db-ec28f3b0e8ef\",\"type\":\"CDSView\"},{\"attributes\":{},\"id\":\"d251e61a-0b78-4901-99e5-732b6abe9e92\",\"type\":\"BasicTickFormatter\"},{\"attributes\":{\"line_width\":8,\"x\":{\"field\":\"x\"},\"y\":{\"field\":\"y\"}},\"id\":\"7a18d4b3-3356-4258-a591-29a327dab59b\",\"type\":\"Line\"},{\"attributes\":{\"line_alpha\":0.1,\"line_color\":\"#1f77b4\",\"line_width\":8,\"x\":{\"field\":\"x\"},\"y\":{\"field\":\"y\"}},\"id\":\"60d1622c-bc9d-4568-a28b-d626b2c2a1a0\",\"type\":\"Line\"},{\"attributes\":{\"data_source\":{\"id\":\"ccd81239-4c20-497f-9646-f2dc5865ea7b\",\"type\":\"ColumnDataSource\"},\"glyph\":{\"id\":\"7a18d4b3-3356-4258-a591-29a327dab59b\",\"type\":\"Line\"},\"hover_glyph\":null,\"muted_glyph\":null,\"nonselection_glyph\":{\"id\":\"60d1622c-bc9d-4568-a28b-d626b2c2a1a0\",\"type\":\"Line\"},\"selection_glyph\":null,\"view\":{\"id\":\"563f39c9-5778-4e99-8369-b8ac358b3861\",\"type\":\"CDSView\"}},\"id\":\"f6bde5a3-9884-4716-8f1e-a9c42ec0a9f5\",\"type\":\"GlyphRenderer\"},{\"attributes\":{\"source\":{\"id\":\"ccd81239-4c20-497f-9646-f2dc5865ea7b\",\"type\":\"ColumnDataSource\"}},\"id\":\"563f39c9-5778-4e99-8369-b8ac358b3861\",\"type\":\"CDSView\"},{\"attributes\":{\"formatter\":{\"id\":\"44282f5a-c634-4a55-b486-6e0fefee5eae\",\"type\":\"BasicTickFormatter\"},\"plot\":{\"id\":\"45bbf427-c6f6-43a7-bb23-e8f6ca3deeaf\",\"subtype\":\"Figure\",\"type\":\"Plot\"},\"ticker\":{\"id\":\"18e795dc-16f9-477a-b411-85f625287ae0\",\"type\":\"BasicTicker\"},\"visible\":false},\"id\":\"1f946123-fa6c-40a6-b615-aa6cec45078e\",\"type\":\"LinearAxis\"},{\"attributes\":{\"line_width\":2,\"x\":{\"field\":\"x\"},\"y\":{\"field\":\"y\"}},\"id\":\"bb260e89-eced-459a-aca3-e9da4b168b1d\",\"type\":\"Line\"},{\"attributes\":{\"plot\":null,\"text\":\"line type\"},\"id\":\"8b27f80b-781c-42b1-ba0c-159de21fef67\",\"type\":\"Title\"},{\"attributes\":{\"active_drag\":\"auto\",\"active_inspect\":\"auto\",\"active_scroll\":\"auto\",\"active_tap\":\"auto\",\"tools\":[{\"id\":\"f384dc2e-3c72-479f-856a-ccd45a2fa817\",\"type\":\"PanTool\"},{\"id\":\"fdfbca9b-9cfd-4430-9c46-5c695fb12f54\",\"type\":\"WheelZoomTool\"},{\"id\":\"8b1b8a6e-8c45-4b46-a675-d366d4af0bb4\",\"type\":\"BoxZoomTool\"},{\"id\":\"e83b18d8-cfcd-4329-9836-dd3cbc27ced4\",\"type\":\"SaveTool\"},{\"id\":\"3de1c99f-89ae-485f-beff-ee6b6f6685f5\",\"type\":\"ResetTool\"},{\"id\":\"9c41bedc-7b32-41cc-b2e2-0e1842daa6d8\",\"type\":\"HelpTool\"}]},\"id\":\"8f243eec-225b-4f74-8955-e5612a767c51\",\"type\":\"Toolbar\"},{\"attributes\":{\"below\":[{\"id\":\"1f946123-fa6c-40a6-b615-aa6cec45078e\",\"type\":\"LinearAxis\"}],\"left\":[{\"id\":\"c8b8f89a-9518-4b23-bdcd-99592c8605f4\",\"type\":\"LinearAxis\"}],\"plot_height\":150,\"plot_width\":200,\"renderers\":[{\"id\":\"1f946123-fa6c-40a6-b615-aa6cec45078e\",\"type\":\"LinearAxis\"},{\"id\":\"866fa459-e839-4fae-b175-f4fc6dc33614\",\"type\":\"Grid\"},{\"id\":\"c8b8f89a-9518-4b23-bdcd-99592c8605f4\",\"type\":\"LinearAxis\"},{\"id\":\"cf7503ce-2329-46d0-bf83-dfd52137331c\",\"type\":\"Grid\"},{\"id\":\"0c6a642c-9bd6-40f8-85ce-820bb148c689\",\"type\":\"BoxAnnotation\"},{\"id\":\"52f31896-ea41-469f-9cdd-d974f9578d97\",\"type\":\"GlyphRenderer\"},{\"id\":\"20156e60-e0c6-4ed4-9cb7-b69d9ee1f91e\",\"type\":\"GlyphRenderer\"},{\"id\":\"9ba5f013-cfb6-4126-a42f-68f7c0592b45\",\"type\":\"GlyphRenderer\"},{\"id\":\"148c68e2-b54a-4f2e-aef7-044a2a0017cf\",\"type\":\"GlyphRenderer\"}],\"title\":{\"id\":\"8b27f80b-781c-42b1-ba0c-159de21fef67\",\"type\":\"Title\"},\"toolbar\":{\"id\":\"8f243eec-225b-4f74-8955-e5612a767c51\",\"type\":\"Toolbar\"},\"toolbar_location\":null,\"x_range\":{\"id\":\"0dd759d2-722d-4b67-a688-16aeb3d9e939\",\"type\":\"Range1d\"},\"x_scale\":{\"id\":\"8f3cb75d-e954-4d30-98ee-cf94d4e75fea\",\"type\":\"LinearScale\"},\"y_range\":{\"id\":\"309a9507-2e04-49d1-801b-8b1ac44730e8\",\"type\":\"Range1d\"},\"y_scale\":{\"id\":\"956758dc-4fd6-4c63-81b0-0ba6af15389f\",\"type\":\"LinearScale\"}},\"id\":\"45bbf427-c6f6-43a7-bb23-e8f6ca3deeaf\",\"subtype\":\"Figure\",\"type\":\"Plot\"},{\"attributes\":{\"source\":{\"id\":\"5b5235f6-674f-4c96-a6f1-6ff88d87586d\",\"type\":\"ColumnDataSource\"}},\"id\":\"5a57afe0-ed50-487e-92cf-529b58e714f5\",\"type\":\"CDSView\"},{\"attributes\":{},\"id\":\"b0a39a99-2cfd-4f38-bff5-b442364f49d5\",\"type\":\"BasicTickFormatter\"},{\"attributes\":{\"bounds\":[0,1],\"callback\":null},\"id\":\"0dd759d2-722d-4b67-a688-16aeb3d9e939\",\"type\":\"Range1d\"},{\"attributes\":{\"callback\":null,\"column_names\":[\"x\",\"y\"],\"data\":{\"x\":[0,1],\"y\":[0.9,0.9]},\"selected\":null,\"selection_policy\":null},\"id\":\"9b2fb4f5-c07b-4c82-93d8-b556bbd7e906\",\"type\":\"ColumnDataSource\"},{\"attributes\":{\"callback\":null,\"column_names\":[\"x\",\"y\"],\"data\":{\"x\":[0,1],\"y\":[0.7,0.7]},\"selected\":null,\"selection_policy\":null},\"id\":\"8dcd3144-7455-425f-acd5-7042741efe6a\",\"type\":\"ColumnDataSource\"},{\"attributes\":{},\"id\":\"18e795dc-16f9-477a-b411-85f625287ae0\",\"type\":\"BasicTicker\"},{\"attributes\":{\"grid_line_color\":{\"value\":null},\"plot\":{\"id\":\"796ebdcf-50a5-417d-9466-16d9f55b0296\",\"subtype\":\"Figure\",\"type\":\"Plot\"},\"ticker\":{\"id\":\"d38e9fcf-38e8-45a6-9f66-5e280c0e26da\",\"type\":\"BasicTicker\"}},\"id\":\"ca42ffe9-7b2d-4bf3-b69a-5add84de4275\",\"type\":\"Grid\"},{\"attributes\":{\"grid_line_color\":{\"value\":null},\"plot\":{\"id\":\"45bbf427-c6f6-43a7-bb23-e8f6ca3deeaf\",\"subtype\":\"Figure\",\"type\":\"Plot\"},\"ticker\":{\"id\":\"18e795dc-16f9-477a-b411-85f625287ae0\",\"type\":\"BasicTicker\"}},\"id\":\"866fa459-e839-4fae-b175-f4fc6dc33614\",\"type\":\"Grid\"},{\"attributes\":{},\"id\":\"8f3cb75d-e954-4d30-98ee-cf94d4e75fea\",\"type\":\"LinearScale\"},{\"attributes\":{\"bounds\":[0,1],\"callback\":null},\"id\":\"309a9507-2e04-49d1-801b-8b1ac44730e8\",\"type\":\"Range1d\"},{\"attributes\":{},\"id\":\"956758dc-4fd6-4c63-81b0-0ba6af15389f\",\"type\":\"LinearScale\"},{\"attributes\":{},\"id\":\"69420f19-43c9-418a-8935-f31bfc2ca646\",\"type\":\"LinearScale\"},{\"attributes\":{},\"id\":\"a8f2c415-651f-43fc-929c-48d831e519c0\",\"type\":\"BasicTickFormatter\"},{\"attributes\":{\"source\":{\"id\":\"38d13088-539d-40f3-bfea-23735084797f\",\"type\":\"ColumnDataSource\"}},\"id\":\"17b76d2d-2568-42d3-91c0-59f091989c28\",\"type\":\"CDSView\"},{\"attributes\":{\"line_dash\":[2,4],\"line_width\":2,\"x\":{\"field\":\"x\"},\"y\":{\"field\":\"y\"}},\"id\":\"98c9718e-2530-48c9-a2eb-5491e1618978\",\"type\":\"Line\"},{\"attributes\":{\"bottom_units\":\"screen\",\"fill_alpha\":{\"value\":0.5},\"fill_color\":{\"value\":\"lightgrey\"},\"left_units\":\"screen\",\"level\":\"overlay\",\"line_alpha\":{\"value\":1.0},\"line_color\":{\"value\":\"black\"},\"line_dash\":[4,4],\"line_width\":{\"value\":2},\"plot\":null,\"render_mode\":\"css\",\"right_units\":\"screen\",\"top_units\":\"screen\"},\"id\":\"89792c51-2822-458d-9214-ddacd2c97481\",\"type\":\"BoxAnnotation\"},{\"attributes\":{\"fill_color\":{\"value\":\"grey\"},\"line_color\":{\"value\":null},\"radius\":{\"units\":\"data\",\"value\":0.03},\"x\":{\"value\":0.1},\"y\":{\"value\":0.5}},\"id\":\"89cc867c-e7b3-4944-af91-4e7945683b7b\",\"type\":\"Circle\"},{\"attributes\":{\"line_dash\":[6],\"line_width\":2,\"x\":{\"field\":\"x\"},\"y\":{\"field\":\"y\"}},\"id\":\"085035fa-b6b8-4b98-8d6f-5a90ede8110a\",\"type\":\"Line\"},{\"attributes\":{},\"id\":\"ed0cbc05-1593-48f9-9cd9-14733704280f\",\"type\":\"PanTool\"},{\"attributes\":{\"formatter\":{\"id\":\"a8f2c415-651f-43fc-929c-48d831e519c0\",\"type\":\"BasicTickFormatter\"},\"plot\":{\"id\":\"61b53676-ce62-417d-897b-cf882b9f15cc\",\"subtype\":\"Figure\",\"type\":\"Plot\"},\"ticker\":{\"id\":\"b4f1c8b0-bd61-4609-af25-1d56f9aaa6c1\",\"type\":\"BasicTicker\"},\"visible\":false},\"id\":\"f1efbd4d-dde5-4c68-a583-b3e4ce0c2fd8\",\"type\":\"LinearAxis\"},{\"attributes\":{\"fill_color\":{\"value\":\"yellow\"},\"height\":{\"units\":\"data\",\"value\":1},\"line_color\":{\"value\":\"#1f77b4\"},\"width\":{\"units\":\"data\",\"value\":0.2},\"x\":{\"value\":0.9},\"y\":{\"value\":0.5}},\"id\":\"506a3767-36b4-4bcb-8359-eeaf3a138863\",\"type\":\"Rect\"},{\"attributes\":{\"line_alpha\":0.1,\"line_color\":\"#1f77b4\",\"line_dash\":[2,4],\"line_width\":2,\"x\":{\"field\":\"x\"},\"y\":{\"field\":\"y\"}},\"id\":\"b42e4f8f-3d63-42af-9ffd-6e9b7b836f59\",\"type\":\"Line\"},{\"attributes\":{\"dimension\":1,\"grid_line_color\":{\"value\":null},\"plot\":{\"id\":\"61b53676-ce62-417d-897b-cf882b9f15cc\",\"subtype\":\"Figure\",\"type\":\"Plot\"},\"ticker\":{\"id\":\"b4f1c8b0-bd61-4609-af25-1d56f9aaa6c1\",\"type\":\"BasicTicker\"}},\"id\":\"19029bdc-d752-4c8c-8047-db26f7f6711c\",\"type\":\"Grid\"},{\"attributes\":{\"data_source\":{\"id\":\"1d6fa1fc-d590-4c03-b966-f10b6c6a49f4\",\"type\":\"ColumnDataSource\"},\"glyph\":{\"id\":\"98c9718e-2530-48c9-a2eb-5491e1618978\",\"type\":\"Line\"},\"hover_glyph\":null,\"muted_glyph\":null,\"nonselection_glyph\":{\"id\":\"b42e4f8f-3d63-42af-9ffd-6e9b7b836f59\",\"type\":\"Line\"},\"selection_glyph\":null,\"view\":{\"id\":\"7b68f277-4957-4c51-909f-df1bf503939e\",\"type\":\"CDSView\"}},\"id\":\"9ba5f013-cfb6-4126-a42f-68f7c0592b45\",\"type\":\"GlyphRenderer\"},{\"attributes\":{\"fill_color\":{\"value\":\"grey\"},\"line_color\":{\"value\":null},\"radius\":{\"units\":\"data\",\"value\":0.09},\"x\":{\"value\":0.5333333333333333},\"y\":{\"value\":0.5}},\"id\":\"74f96ccb-9693-4ec9-9c32-e7935d7c9d62\",\"type\":\"Circle\"},{\"attributes\":{},\"id\":\"eb76874f-2e2f-4801-805b-7a3a00ad9dda\",\"type\":\"WheelZoomTool\"},{\"attributes\":{\"plot\":null,\"text\":\"size\"},\"id\":\"dcb65716-6133-4f94-aef6-5141c62a03ba\",\"type\":\"Title\"},{\"attributes\":{\"data_source\":{\"id\":\"38d13088-539d-40f3-bfea-23735084797f\",\"type\":\"ColumnDataSource\"},\"glyph\":{\"id\":\"ec413ffc-2eee-47a2-98b1-5629b2267a4a\",\"type\":\"Rect\"},\"hover_glyph\":null,\"muted_glyph\":null,\"nonselection_glyph\":{\"id\":\"2b572495-bff1-4999-aeb8-2ebdc61c9b2c\",\"type\":\"Rect\"},\"selection_glyph\":null,\"view\":{\"id\":\"17b76d2d-2568-42d3-91c0-59f091989c28\",\"type\":\"CDSView\"}},\"id\":\"12bf5384-e2c8-42a0-acc4-deda74d4bc1a\",\"type\":\"GlyphRenderer\"},{\"attributes\":{\"source\":{\"id\":\"1d6fa1fc-d590-4c03-b966-f10b6c6a49f4\",\"type\":\"ColumnDataSource\"}},\"id\":\"7b68f277-4957-4c51-909f-df1bf503939e\",\"type\":\"CDSView\"},{\"attributes\":{\"overlay\":{\"id\":\"89792c51-2822-458d-9214-ddacd2c97481\",\"type\":\"BoxAnnotation\"}},\"id\":\"f6ab9635-d43d-4a8d-b95e-3d977d856ea2\",\"type\":\"BoxZoomTool\"},{\"attributes\":{\"overlay\":{\"id\":\"0c6a642c-9bd6-40f8-85ce-820bb148c689\",\"type\":\"BoxAnnotation\"}},\"id\":\"8b1b8a6e-8c45-4b46-a675-d366d4af0bb4\",\"type\":\"BoxZoomTool\"},{\"attributes\":{\"data_source\":{\"id\":\"2aa2d7b8-c718-4c81-90ea-289b82754f23\",\"type\":\"ColumnDataSource\"},\"glyph\":{\"id\":\"89cc867c-e7b3-4944-af91-4e7945683b7b\",\"type\":\"Circle\"},\"hover_glyph\":null,\"muted_glyph\":null,\"nonselection_glyph\":{\"id\":\"b2dd6bd4-9fc5-4ca8-915e-4689a494af89\",\"type\":\"Circle\"},\"selection_glyph\":null,\"view\":{\"id\":\"da1fad9b-6075-4ba2-842a-805862dc299c\",\"type\":\"CDSView\"}},\"id\":\"21bbb031-af3f-4c2e-aa25-6dfb4c443d5a\",\"type\":\"GlyphRenderer\"},{\"attributes\":{},\"id\":\"ec5ad4ac-e672-4117-bfe8-8194838393ef\",\"type\":\"SaveTool\"},{\"attributes\":{\"active_drag\":\"auto\",\"active_inspect\":\"auto\",\"active_scroll\":\"auto\",\"active_tap\":\"auto\",\"tools\":[{\"id\":\"ed0cbc05-1593-48f9-9cd9-14733704280f\",\"type\":\"PanTool\"},{\"id\":\"eb76874f-2e2f-4801-805b-7a3a00ad9dda\",\"type\":\"WheelZoomTool\"},{\"id\":\"f6ab9635-d43d-4a8d-b95e-3d977d856ea2\",\"type\":\"BoxZoomTool\"},{\"id\":\"ec5ad4ac-e672-4117-bfe8-8194838393ef\",\"type\":\"SaveTool\"},{\"id\":\"82c9f87d-b6d5-4ff1-9329-748339628b95\",\"type\":\"ResetTool\"},{\"id\":\"aa7a454e-f31e-4546-b0ff-0741ba0589a5\",\"type\":\"HelpTool\"}]},\"id\":\"23ff52f3-86f6-4ead-b510-73d01a5a74b3\",\"type\":\"Toolbar\"},{\"attributes\":{\"fill_alpha\":{\"value\":0.1},\"fill_color\":{\"value\":\"#1f77b4\"},\"height\":{\"units\":\"data\",\"value\":1},\"line_alpha\":{\"value\":0.1},\"line_color\":{\"value\":\"#1f77b4\"},\"width\":{\"units\":\"data\",\"value\":0.2},\"x\":{\"value\":0.9},\"y\":{\"value\":0.5}},\"id\":\"a7faf887-307c-4efc-8165-d3a77c025c88\",\"type\":\"Rect\"},{\"attributes\":{\"line_dash\":[2,4,6,4],\"line_width\":2,\"x\":{\"field\":\"x\"},\"y\":{\"field\":\"y\"}},\"id\":\"07ad9fb2-37e7-41b1-9357-63d1e5c7c916\",\"type\":\"Line\"},{\"attributes\":{},\"id\":\"82c9f87d-b6d5-4ff1-9329-748339628b95\",\"type\":\"ResetTool\"},{\"attributes\":{\"callback\":null,\"data\":{},\"selected\":null,\"selection_policy\":null},\"id\":\"3ce4a414-f3ad-4955-b497-c2519d631318\",\"type\":\"ColumnDataSource\"},{\"attributes\":{},\"id\":\"b4f1c8b0-bd61-4609-af25-1d56f9aaa6c1\",\"type\":\"BasicTicker\"},{\"attributes\":{},\"id\":\"aa7a454e-f31e-4546-b0ff-0741ba0589a5\",\"type\":\"HelpTool\"},{\"attributes\":{\"bounds\":[0,1],\"callback\":null},\"id\":\"5575c2a5-a79d-4525-a3c3-582cb5ba9f1b\",\"type\":\"Range1d\"},{\"attributes\":{\"fill_alpha\":{\"value\":0.1},\"fill_color\":{\"value\":\"#1f77b4\"},\"line_alpha\":{\"value\":0.1},\"line_color\":{\"value\":\"#1f77b4\"},\"radius\":{\"units\":\"data\",\"value\":0.03},\"x\":{\"value\":0.1},\"y\":{\"value\":0.5}},\"id\":\"b2dd6bd4-9fc5-4ca8-915e-4689a494af89\",\"type\":\"Circle\"},{\"attributes\":{\"line_alpha\":0.1,\"line_color\":\"#1f77b4\",\"line_dash\":[2,4,6,4],\"line_width\":2,\"x\":{\"field\":\"x\"},\"y\":{\"field\":\"y\"}},\"id\":\"a1865ce1-9750-449e-afda-4e8b76d71336\",\"type\":\"Line\"},{\"attributes\":{\"data_source\":{\"id\":\"1bb97fe9-c91d-4624-8e03-afe7583c3a4b\",\"type\":\"ColumnDataSource\"},\"glyph\":{\"id\":\"87371af2-d7bc-487e-95bb-a47245a45173\",\"type\":\"Circle\"},\"hover_glyph\":null,\"muted_glyph\":null,\"nonselection_glyph\":{\"id\":\"dc451280-9489-457a-8cbd-9bc4243d2631\",\"type\":\"Circle\"},\"selection_glyph\":null,\"view\":{\"id\":\"5c749b0b-16da-4bc1-aa95-d3c4927c7395\",\"type\":\"CDSView\"}},\"id\":\"f3d81dad-f61b-42c2-a591-60e9633a0e52\",\"type\":\"GlyphRenderer\"},{\"attributes\":{\"formatter\":{\"id\":\"aa7a2850-c0c5-4f52-818a-86d329880e67\",\"type\":\"BasicTickFormatter\"},\"plot\":{\"id\":\"61b53676-ce62-417d-897b-cf882b9f15cc\",\"subtype\":\"Figure\",\"type\":\"Plot\"},\"ticker\":{\"id\":\"7fa4aae1-c5fd-4023-890e-4b38f27b0183\",\"type\":\"BasicTicker\"},\"visible\":false},\"id\":\"b6bef332-6bfe-49bc-bb6c-ba350aae1189\",\"type\":\"LinearAxis\"},{\"attributes\":{\"source\":{\"id\":\"2aa2d7b8-c718-4c81-90ea-289b82754f23\",\"type\":\"ColumnDataSource\"}},\"id\":\"da1fad9b-6075-4ba2-842a-805862dc299c\",\"type\":\"CDSView\"},{\"attributes\":{\"bounds\":[0,1],\"callback\":null},\"id\":\"91c48a9a-8178-4680-9ca5-5524cdcaeec3\",\"type\":\"Range1d\"},{\"attributes\":{},\"id\":\"59dda5cb-6001-49cf-ae65-3f8d8a59e184\",\"type\":\"LinearScale\"},{\"attributes\":{\"data_source\":{\"id\":\"e97c1762-e057-4143-95a7-f9dbc74f9ee0\",\"type\":\"ColumnDataSource\"},\"glyph\":{\"id\":\"07ad9fb2-37e7-41b1-9357-63d1e5c7c916\",\"type\":\"Line\"},\"hover_glyph\":null,\"muted_glyph\":null,\"nonselection_glyph\":{\"id\":\"a1865ce1-9750-449e-afda-4e8b76d71336\",\"type\":\"Line\"},\"selection_glyph\":null,\"view\":{\"id\":\"47078a73-642b-4c64-968a-b5ad92db083f\",\"type\":\"CDSView\"}},\"id\":\"148c68e2-b54a-4f2e-aef7-044a2a0017cf\",\"type\":\"GlyphRenderer\"},{\"attributes\":{\"plot\":null},\"id\":\"1d38fcb9-5b68-4ec7-97ab-dfbefacff4ec\",\"type\":\"OpenHead\"},{\"attributes\":{\"below\":[{\"id\":\"b3e980dc-76cf-4dac-9409-3e935d74a515\",\"type\":\"LinearAxis\"}],\"left\":[{\"id\":\"3340e3be-c867-45a4-ba24-b089b5351a37\",\"type\":\"LinearAxis\"}],\"plot_height\":150,\"plot_width\":200,\"renderers\":[{\"id\":\"b3e980dc-76cf-4dac-9409-3e935d74a515\",\"type\":\"LinearAxis\"},{\"id\":\"31072c0f-1f31-4593-8bd3-fd851a246a91\",\"type\":\"Grid\"},{\"id\":\"3340e3be-c867-45a4-ba24-b089b5351a37\",\"type\":\"LinearAxis\"},{\"id\":\"c36f8beb-6ed9-4df9-8cdc-90e76e0c7f94\",\"type\":\"Grid\"},{\"id\":\"32cce5ed-b309-4836-9261-b51d4e7d53b3\",\"type\":\"BoxAnnotation\"},{\"id\":\"ee910a28-3307-4af0-9856-acac6c6ce932\",\"type\":\"GlyphRenderer\"},{\"id\":\"5bb1d718-ea38-4e35-a4b1-da6d8e6a9e8f\",\"type\":\"Arrow\"},{\"id\":\"229375c8-9787-4678-b067-61674bf11208\",\"type\":\"GlyphRenderer\"},{\"id\":\"00f86d6d-6025-476d-b85f-b175ebc72796\",\"type\":\"Arrow\"},{\"id\":\"240d3fc7-3e3b-48fc-a26c-471916128f63\",\"type\":\"Label\"},{\"id\":\"4784bb96-f429-4bec-939e-8bc1746bfdf5\",\"type\":\"Label\"}],\"title\":{\"id\":\"61420ea7-173c-4f21-b7c2-340c2c1c35dc\",\"type\":\"Title\"},\"toolbar\":{\"id\":\"ca0a6757-6e2e-4e0b-8074-e76e43b3f136\",\"type\":\"Toolbar\"},\"toolbar_location\":null,\"x_range\":{\"id\":\"64b81b54-2841-4adf-ab99-2390d57c646c\",\"type\":\"DataRange1d\"},\"x_scale\":{\"id\":\"fceda4e7-3e5a-41f5-bfc9-eb3a8d4ca782\",\"type\":\"LinearScale\"},\"y_range\":{\"id\":\"da0a8670-2c42-4190-b3ca-74a7b7745fd7\",\"type\":\"DataRange1d\"},\"y_scale\":{\"id\":\"91b6913b-a718-42bf-aeb1-2dc91863334c\",\"type\":\"LinearScale\"}},\"id\":\"9886c76f-8092-41fb-a5e8-598d0d958466\",\"subtype\":\"Figure\",\"type\":\"Plot\"},{\"attributes\":{},\"id\":\"04aa0ef8-fa67-4fde-859c-9aaf298fa3bf\",\"type\":\"LinearScale\"},{\"attributes\":{},\"id\":\"aa7a2850-c0c5-4f52-818a-86d329880e67\",\"type\":\"BasicTickFormatter\"},{\"attributes\":{\"below\":[{\"id\":\"17fea879-94ca-4b58-9eee-0bb55a12de13\",\"type\":\"LinearAxis\"}],\"left\":[{\"id\":\"76731f88-eb07-4765-af35-f12bb078311d\",\"type\":\"LinearAxis\"}],\"plot_height\":150,\"plot_width\":200,\"renderers\":[{\"id\":\"17fea879-94ca-4b58-9eee-0bb55a12de13\",\"type\":\"LinearAxis\"},{\"id\":\"ca42ffe9-7b2d-4bf3-b69a-5add84de4275\",\"type\":\"Grid\"},{\"id\":\"76731f88-eb07-4765-af35-f12bb078311d\",\"type\":\"LinearAxis\"},{\"id\":\"7304b63b-38cf-47ff-99d5-8abfaaf8eba4\",\"type\":\"Grid\"},{\"id\":\"58c19afe-96a3-458a-a24e-ba65bb92e5f3\",\"type\":\"BoxAnnotation\"},{\"id\":\"f3d81dad-f61b-42c2-a591-60e9633a0e52\",\"type\":\"GlyphRenderer\"},{\"id\":\"1dbda034-5d00-47cf-a41d-4eaa01b31b9a\",\"type\":\"GlyphRenderer\"},{\"id\":\"4ab112f2-cd34-476a-8811-83d430a70ee1\",\"type\":\"GlyphRenderer\"},{\"id\":\"c426573b-09c9-426b-b263-ca32736fd134\",\"type\":\"GlyphRenderer\"}],\"title\":{\"id\":\"67f809aa-2d96-4f86-a0dd-d235af5f347a\",\"type\":\"Title\"},\"toolbar\":{\"id\":\"240c240a-f69e-4afb-9784-f5ff1b79f42b\",\"type\":\"Toolbar\"},\"toolbar_location\":null,\"x_range\":{\"id\":\"5575c2a5-a79d-4525-a3c3-582cb5ba9f1b\",\"type\":\"Range1d\"},\"x_scale\":{\"id\":\"04aa0ef8-fa67-4fde-859c-9aaf298fa3bf\",\"type\":\"LinearScale\"},\"y_range\":{\"id\":\"91c48a9a-8178-4680-9ca5-5524cdcaeec3\",\"type\":\"Range1d\"},\"y_scale\":{\"id\":\"168b9f3b-d922-4137-936e-c0b29e4b650e\",\"type\":\"LinearScale\"}},\"id\":\"796ebdcf-50a5-417d-9466-16d9f55b0296\",\"subtype\":\"Figure\",\"type\":\"Plot\"},{\"attributes\":{\"callback\":null,\"column_names\":[\"x\"],\"data\":{\"x\":[0,1]},\"selected\":null,\"selection_policy\":null},\"id\":\"5b5235f6-674f-4c96-a6f1-6ff88d87586d\",\"type\":\"ColumnDataSource\"},{\"attributes\":{\"fill_alpha\":{\"value\":0.1},\"fill_color\":{\"value\":\"#1f77b4\"},\"line_alpha\":{\"value\":0.1},\"line_color\":{\"value\":\"#1f77b4\"},\"radius\":{\"units\":\"data\",\"value\":0.09},\"x\":{\"value\":0.5333333333333333},\"y\":{\"value\":0.5}},\"id\":\"934eb6b4-dbbe-4cf4-bd39-4bb00b76688c\",\"type\":\"Circle\"},{\"attributes\":{\"source\":{\"id\":\"e97c1762-e057-4143-95a7-f9dbc74f9ee0\",\"type\":\"ColumnDataSource\"}},\"id\":\"47078a73-642b-4c64-968a-b5ad92db083f\",\"type\":\"CDSView\"},{\"attributes\":{\"plot\":null,\"text\":\"shape\"},\"id\":\"67f809aa-2d96-4f86-a0dd-d235af5f347a\",\"type\":\"Title\"},{\"attributes\":{\"callback\":null,\"data\":{},\"selected\":null,\"selection_policy\":null},\"id\":\"3a5313de-3c55-4156-991c-3f8408b36a54\",\"type\":\"ColumnDataSource\"},{\"attributes\":{\"plot\":null,\"text\":\"position\"},\"id\":\"61420ea7-173c-4f21-b7c2-340c2c1c35dc\",\"type\":\"Title\"},{\"attributes\":{\"active_drag\":\"auto\",\"active_inspect\":\"auto\",\"active_scroll\":\"auto\",\"active_tap\":\"auto\",\"tools\":[{\"id\":\"27ba23c0-0b3f-44c3-bbbf-c6ea4108324b\",\"type\":\"PanTool\"},{\"id\":\"648ee95e-4126-41a8-be01-e399ca5787b8\",\"type\":\"WheelZoomTool\"},{\"id\":\"826a5ae6-8ad5-4032-9815-f8e70dfe8a6d\",\"type\":\"BoxZoomTool\"},{\"id\":\"3b23b9e0-bab1-4ddb-b5d4-f26d1a8274b1\",\"type\":\"SaveTool\"},{\"id\":\"1a1f4d34-28ae-49a7-ac30-468e6b1c3731\",\"type\":\"ResetTool\"},{\"id\":\"2fd8bea4-979d-4c16-94cc-08945858fdba\",\"type\":\"HelpTool\"}]},\"id\":\"240c240a-f69e-4afb-9784-f5ff1b79f42b\",\"type\":\"Toolbar\"},{\"attributes\":{\"callback\":null,\"data\":{},\"selected\":null,\"selection_policy\":null},\"id\":\"a979937b-c65b-4113-804e-0177fff95786\",\"type\":\"ColumnDataSource\"},{\"attributes\":{\"toolbar\":{\"id\":\"d21ab652-e107-4db7-b568-ffff7bcf3ce4\",\"type\":\"ProxyToolbar\"},\"toolbar_location\":\"above\"},\"id\":\"19c9163c-f6af-4984-bf18-180db15f86a1\",\"type\":\"ToolbarBox\"},{\"attributes\":{\"callback\":null},\"id\":\"64b81b54-2841-4adf-ab99-2390d57c646c\",\"type\":\"DataRange1d\"},{\"attributes\":{},\"id\":\"d38e9fcf-38e8-45a6-9f66-5e280c0e26da\",\"type\":\"BasicTicker\"},{\"attributes\":{\"bottom_units\":\"screen\",\"fill_alpha\":{\"value\":0.5},\"fill_color\":{\"value\":\"lightgrey\"},\"left_units\":\"screen\",\"level\":\"overlay\",\"line_alpha\":{\"value\":1.0},\"line_color\":{\"value\":\"black\"},\"line_dash\":[4,4],\"line_width\":{\"value\":2},\"plot\":null,\"render_mode\":\"css\",\"right_units\":\"screen\",\"top_units\":\"screen\"},\"id\":\"0c6a642c-9bd6-40f8-85ce-820bb148c689\",\"type\":\"BoxAnnotation\"},{\"attributes\":{\"active_drag\":\"auto\",\"active_inspect\":\"auto\",\"active_scroll\":\"auto\",\"active_tap\":\"auto\",\"tools\":[{\"id\":\"18d3fe73-26eb-407f-b9d1-85c4394d6936\",\"type\":\"PanTool\"},{\"id\":\"2e24e749-d0e6-41db-baf6-e5f38ded9ba7\",\"type\":\"WheelZoomTool\"},{\"id\":\"c099bd8c-68c7-43e9-881d-3b5fb9718bec\",\"type\":\"BoxZoomTool\"},{\"id\":\"d171511d-6af8-49c0-b6b1-f582b39e1eb5\",\"type\":\"SaveTool\"},{\"id\":\"c3a99075-7058-460a-a344-49ed34bd53e3\",\"type\":\"ResetTool\"},{\"id\":\"230a924a-004e-477d-84c5-d50ecfcd0ec9\",\"type\":\"HelpTool\"}]},\"id\":\"ca0a6757-6e2e-4e0b-8074-e76e43b3f136\",\"type\":\"Toolbar\"},{\"attributes\":{\"data_source\":{\"id\":\"0a49c9a8-8922-4f0e-b5ee-4e624db4f6db\",\"type\":\"ColumnDataSource\"},\"glyph\":{\"id\":\"c4ce7018-909e-4db3-b50b-9c97cb796909\",\"type\":\"Circle\"},\"hover_glyph\":null,\"muted_glyph\":null,\"nonselection_glyph\":{\"id\":\"4649e927-071a-4655-8745-e42b2af002e2\",\"type\":\"Circle\"},\"selection_glyph\":null,\"view\":{\"id\":\"32153bed-dd4d-4fd7-b35d-d0f4adebe7b0\",\"type\":\"CDSView\"}},\"id\":\"9d1e4d19-b80a-4691-9de7-17f5a1f5f314\",\"type\":\"GlyphRenderer\"},{\"attributes\":{\"source\":{\"id\":\"a979937b-c65b-4113-804e-0177fff95786\",\"type\":\"ColumnDataSource\"}},\"id\":\"e766c334-5cf8-4306-812f-14a7d3c905ad\",\"type\":\"CDSView\"},{\"attributes\":{},\"id\":\"168b9f3b-d922-4137-936e-c0b29e4b650e\",\"type\":\"LinearScale\"},{\"attributes\":{\"plot\":null},\"id\":\"1054c818-b368-4538-80aa-78769debc6e0\",\"type\":\"OpenHead\"},{\"attributes\":{\"callback\":null,\"data\":{},\"selected\":null,\"selection_policy\":null},\"id\":\"38d13088-539d-40f3-bfea-23735084797f\",\"type\":\"ColumnDataSource\"},{\"attributes\":{},\"id\":\"fceda4e7-3e5a-41f5-bfc9-eb3a8d4ca782\",\"type\":\"LinearScale\"},{\"attributes\":{\"data_source\":{\"id\":\"685bbdc7-702d-49cb-80bf-c8f022c3b4b0\",\"type\":\"ColumnDataSource\"},\"glyph\":{\"id\":\"506a3767-36b4-4bcb-8359-eeaf3a138863\",\"type\":\"Rect\"},\"hover_glyph\":null,\"muted_glyph\":null,\"nonselection_glyph\":{\"id\":\"a7faf887-307c-4efc-8165-d3a77c025c88\",\"type\":\"Rect\"},\"selection_glyph\":null,\"view\":{\"id\":\"cfda5691-3f18-4b0e-987c-4281f544d8f3\",\"type\":\"CDSView\"}},\"id\":\"056afdd8-17e9-493d-afe5-837dca5601b3\",\"type\":\"GlyphRenderer\"},{\"attributes\":{\"source\":{\"id\":\"0a49c9a8-8922-4f0e-b5ee-4e624db4f6db\",\"type\":\"ColumnDataSource\"}},\"id\":\"32153bed-dd4d-4fd7-b35d-d0f4adebe7b0\",\"type\":\"CDSView\"},{\"attributes\":{\"callback\":null},\"id\":\"da0a8670-2c42-4190-b3ca-74a7b7745fd7\",\"type\":\"DataRange1d\"},{\"attributes\":{\"fill_color\":{\"value\":\"grey\"},\"line_color\":{\"value\":null},\"radius\":{\"units\":\"data\",\"value\":0.06},\"x\":{\"value\":0.2666666666666667},\"y\":{\"value\":0.5}},\"id\":\"c4ce7018-909e-4db3-b50b-9c97cb796909\",\"type\":\"Circle\"},{\"attributes\":{\"fill_color\":{\"value\":\"grey\"},\"line_color\":{\"value\":null},\"radius\":{\"units\":\"data\",\"value\":0.12},\"x\":{\"value\":0.8},\"y\":{\"value\":0.5}},\"id\":\"64b8a85d-332c-48aa-bf4f-6e3f314c7e6e\",\"type\":\"Circle\"},{\"attributes\":{\"children\":[{\"id\":\"66ac0d9a-9f6e-47c0-89d7-b262d4182316\",\"type\":\"Row\"},{\"id\":\"c9146a7d-53d4-4f0f-b97e-7c4cd91bc7f8\",\"type\":\"Row\"}]},\"id\":\"741d36d3-6385-47e0-969b-a16bc4a12d95\",\"type\":\"Column\"},{\"attributes\":{},\"id\":\"91b6913b-a718-42bf-aeb1-2dc91863334c\",\"type\":\"LinearScale\"},{\"attributes\":{\"formatter\":{\"id\":\"a5150e09-5cc2-40a4-8f0c-b481d00f5c11\",\"type\":\"BasicTickFormatter\"},\"plot\":{\"id\":\"796ebdcf-50a5-417d-9466-16d9f55b0296\",\"subtype\":\"Figure\",\"type\":\"Plot\"},\"ticker\":{\"id\":\"66921860-1506-4eb4-8e38-a15f3de43782\",\"type\":\"BasicTicker\"},\"visible\":false},\"id\":\"76731f88-eb07-4765-af35-f12bb078311d\",\"type\":\"LinearAxis\"},{\"attributes\":{\"data_source\":{\"id\":\"a979937b-c65b-4113-804e-0177fff95786\",\"type\":\"ColumnDataSource\"},\"glyph\":{\"id\":\"74f96ccb-9693-4ec9-9c32-e7935d7c9d62\",\"type\":\"Circle\"},\"hover_glyph\":null,\"muted_glyph\":null,\"nonselection_glyph\":{\"id\":\"934eb6b4-dbbe-4cf4-bd39-4bb00b76688c\",\"type\":\"Circle\"},\"selection_glyph\":null,\"view\":{\"id\":\"e766c334-5cf8-4306-812f-14a7d3c905ad\",\"type\":\"CDSView\"}},\"id\":\"f99d0b76-f7c9-4410-96b8-a5f9a0dbeedd\",\"type\":\"GlyphRenderer\"},{\"attributes\":{\"line_alpha\":0.1,\"line_color\":\"#1f77b4\",\"x\":{\"value\":0.5},\"y\":{\"field\":\"y\"}},\"id\":\"9d476f62-3d71-4d2c-a8cf-8f3d3dd3edfe\",\"type\":\"Line\"},{\"attributes\":{},\"id\":\"66921860-1506-4eb4-8e38-a15f3de43782\",\"type\":\"BasicTicker\"},{\"attributes\":{\"source\":{\"id\":\"3a5313de-3c55-4156-991c-3f8408b36a54\",\"type\":\"ColumnDataSource\"}},\"id\":\"5c131403-b38e-44f9-83f0-e52e0bb32667\",\"type\":\"CDSView\"},{\"attributes\":{\"formatter\":{\"id\":\"b0a39a99-2cfd-4f38-bff5-b442364f49d5\",\"type\":\"BasicTickFormatter\"},\"plot\":{\"id\":\"9886c76f-8092-41fb-a5e8-598d0d958466\",\"subtype\":\"Figure\",\"type\":\"Plot\"},\"ticker\":{\"id\":\"2b1f1e58-57c8-4780-8f20-e9d0f0d4ccd0\",\"type\":\"BasicTicker\"},\"visible\":false},\"id\":\"b3e980dc-76cf-4dac-9409-3e935d74a515\",\"type\":\"LinearAxis\"},{\"attributes\":{},\"id\":\"a5150e09-5cc2-40a4-8f0c-b481d00f5c11\",\"type\":\"BasicTickFormatter\"},{\"attributes\":{\"fill_alpha\":{\"value\":0.1},\"fill_color\":{\"value\":\"#1f77b4\"},\"line_alpha\":{\"value\":0.1},\"line_color\":{\"value\":\"#1f77b4\"},\"radius\":{\"units\":\"data\",\"value\":0.12},\"x\":{\"value\":0.8},\"y\":{\"value\":0.5}},\"id\":\"69f412e2-ca15-4bfa-aaf7-b8806080fe90\",\"type\":\"Circle\"},{\"attributes\":{},\"id\":\"2b1f1e58-57c8-4780-8f20-e9d0f0d4ccd0\",\"type\":\"BasicTicker\"},{\"attributes\":{\"fill_alpha\":{\"value\":0.1},\"fill_color\":{\"value\":\"#1f77b4\"},\"line_alpha\":{\"value\":0.1},\"line_color\":{\"value\":\"#1f77b4\"},\"radius\":{\"units\":\"data\",\"value\":0.05},\"x\":{\"value\":0.1},\"y\":{\"value\":0.5}},\"id\":\"dc451280-9489-457a-8cbd-9bc4243d2631\",\"type\":\"Circle\"},{\"attributes\":{\"bottom_units\":\"screen\",\"fill_alpha\":{\"value\":0.5},\"fill_color\":{\"value\":\"lightgrey\"},\"left_units\":\"screen\",\"level\":\"overlay\",\"line_alpha\":{\"value\":1.0},\"line_color\":{\"value\":\"black\"},\"line_dash\":[4,4],\"line_width\":{\"value\":2},\"plot\":null,\"render_mode\":\"css\",\"right_units\":\"screen\",\"top_units\":\"screen\"},\"id\":\"58c19afe-96a3-458a-a24e-ba65bb92e5f3\",\"type\":\"BoxAnnotation\"},{\"attributes\":{\"grid_line_color\":{\"value\":null},\"plot\":{\"id\":\"9886c76f-8092-41fb-a5e8-598d0d958466\",\"subtype\":\"Figure\",\"type\":\"Plot\"},\"ticker\":{\"id\":\"2b1f1e58-57c8-4780-8f20-e9d0f0d4ccd0\",\"type\":\"BasicTicker\"}},\"id\":\"31072c0f-1f31-4593-8bd3-fd851a246a91\",\"type\":\"Grid\"},{\"attributes\":{\"source\":{\"id\":\"ed1eb285-cb19-4b2e-822a-5435f60b41ce\",\"type\":\"ColumnDataSource\"}},\"id\":\"2d4e2b4d-02ab-4c3c-a7f9-1ae7f6e7137a\",\"type\":\"CDSView\"},{\"attributes\":{},\"id\":\"27ba23c0-0b3f-44c3-bbbf-c6ea4108324b\",\"type\":\"PanTool\"},{\"attributes\":{\"formatter\":{\"id\":\"d251e61a-0b78-4901-99e5-732b6abe9e92\",\"type\":\"BasicTickFormatter\"},\"plot\":{\"id\":\"9886c76f-8092-41fb-a5e8-598d0d958466\",\"subtype\":\"Figure\",\"type\":\"Plot\"},\"ticker\":{\"id\":\"40688baf-75d3-43f3-915c-646594d85993\",\"type\":\"BasicTicker\"},\"visible\":false},\"id\":\"3340e3be-c867-45a4-ba24-b089b5351a37\",\"type\":\"LinearAxis\"},{\"attributes\":{\"data_source\":{\"id\":\"3a5313de-3c55-4156-991c-3f8408b36a54\",\"type\":\"ColumnDataSource\"},\"glyph\":{\"id\":\"64b8a85d-332c-48aa-bf4f-6e3f314c7e6e\",\"type\":\"Circle\"},\"hover_glyph\":null,\"muted_glyph\":null,\"nonselection_glyph\":{\"id\":\"69f412e2-ca15-4bfa-aaf7-b8806080fe90\",\"type\":\"Circle\"},\"selection_glyph\":null,\"view\":{\"id\":\"5c131403-b38e-44f9-83f0-e52e0bb32667\",\"type\":\"CDSView\"}},\"id\":\"c7c2e791-c73a-41eb-9e64-b3476fd02014\",\"type\":\"GlyphRenderer\"},{\"attributes\":{},\"id\":\"712783cb-db2d-481b-bd55-3bb1f8ac5c20\",\"type\":\"HelpTool\"},{\"attributes\":{},\"id\":\"40688baf-75d3-43f3-915c-646594d85993\",\"type\":\"BasicTicker\"},{\"attributes\":{\"angle\":{\"units\":\"rad\",\"value\":45.0},\"fill_color\":{\"value\":\"grey\"},\"line_color\":{\"value\":null},\"size\":{\"units\":\"screen\",\"value\":15},\"x\":{\"value\":0.6333333333333333},\"y\":{\"value\":0.5}},\"id\":\"982e3f1e-f3d2-4fe8-be11-2ac52a23ec0c\",\"type\":\"Square\"},{\"attributes\":{\"children\":[{\"id\":\"d6917cc2-7f39-4b8c-916b-9fbaa7bd703d\",\"type\":\"Div\"}]},\"id\":\"68f5683d-9ff5-4aa3-99d0-6d6af0f771b4\",\"type\":\"WidgetBox\"},{\"attributes\":{},\"id\":\"648ee95e-4126-41a8-be01-e399ca5787b8\",\"type\":\"WheelZoomTool\"},{\"attributes\":{\"dimension\":1,\"grid_line_color\":{\"value\":null},\"plot\":{\"id\":\"9886c76f-8092-41fb-a5e8-598d0d958466\",\"subtype\":\"Figure\",\"type\":\"Plot\"},\"ticker\":{\"id\":\"40688baf-75d3-43f3-915c-646594d85993\",\"type\":\"BasicTicker\"}},\"id\":\"c36f8beb-6ed9-4df9-8cdc-90e76e0c7f94\",\"type\":\"Grid\"},{\"attributes\":{\"text\":\"<h3>Figure 1.1</h3>Aesthetics in data visualization\"},\"id\":\"d6917cc2-7f39-4b8c-916b-9fbaa7bd703d\",\"type\":\"Div\"},{\"attributes\":{\"overlay\":{\"id\":\"58c19afe-96a3-458a-a24e-ba65bb92e5f3\",\"type\":\"BoxAnnotation\"}},\"id\":\"826a5ae6-8ad5-4032-9815-f8e70dfe8a6d\",\"type\":\"BoxZoomTool\"},{\"attributes\":{\"bottom_units\":\"screen\",\"fill_alpha\":{\"value\":0.5},\"fill_color\":{\"value\":\"lightgrey\"},\"left_units\":\"screen\",\"level\":\"overlay\",\"line_alpha\":{\"value\":1.0},\"line_color\":{\"value\":\"black\"},\"line_dash\":[4,4],\"line_width\":{\"value\":2},\"plot\":null,\"render_mode\":\"css\",\"right_units\":\"screen\",\"top_units\":\"screen\"},\"id\":\"32cce5ed-b309-4836-9261-b51d4e7d53b3\",\"type\":\"BoxAnnotation\"},{\"attributes\":{\"fill_color\":{\"value\":\"orange\"},\"height\":{\"units\":\"data\",\"value\":1},\"line_color\":{\"value\":\"#1f77b4\"},\"width\":{\"units\":\"data\",\"value\":0.2},\"x\":{\"value\":0.1},\"y\":{\"value\":0.5}},\"id\":\"4ae6fb22-4c7e-47c0-ae14-fbb66fc757ba\",\"type\":\"Rect\"},{\"attributes\":{},\"id\":\"3b23b9e0-bab1-4ddb-b5d4-f26d1a8274b1\",\"type\":\"SaveTool\"},{\"attributes\":{\"below\":[{\"id\":\"4b86b116-d9dc-47a9-9010-a8785e14e8bb\",\"type\":\"LinearAxis\"}],\"left\":[{\"id\":\"7543b10b-d81b-4b8a-b756-2414dc4c950b\",\"type\":\"LinearAxis\"}],\"plot_height\":150,\"plot_width\":200,\"renderers\":[{\"id\":\"4b86b116-d9dc-47a9-9010-a8785e14e8bb\",\"type\":\"LinearAxis\"},{\"id\":\"4ad31c50-5d2e-4f7f-a2fc-ff7106e628d0\",\"type\":\"Grid\"},{\"id\":\"7543b10b-d81b-4b8a-b756-2414dc4c950b\",\"type\":\"LinearAxis\"},{\"id\":\"1a01c004-e448-4fe3-9590-0c399feeac2f\",\"type\":\"Grid\"},{\"id\":\"d93c55a4-bb36-4943-bcde-a4786323aa96\",\"type\":\"BoxAnnotation\"},{\"id\":\"7213e92f-9515-4710-acfc-aaeca4973aa9\",\"type\":\"GlyphRenderer\"},{\"id\":\"aa86e839-9e20-4b1b-be07-b7cbcb3000de\",\"type\":\"GlyphRenderer\"},{\"id\":\"dedb7c47-c666-4783-89ba-3470396d10a4\",\"type\":\"GlyphRenderer\"},{\"id\":\"f6bde5a3-9884-4716-8f1e-a9c42ec0a9f5\",\"type\":\"GlyphRenderer\"}],\"title\":{\"id\":\"30375d54-cb98-4340-a701-cfc7a861a9bd\",\"type\":\"Title\"},\"toolbar\":{\"id\":\"de0cf580-f907-4b53-acac-3a81bfc5c9b8\",\"type\":\"Toolbar\"},\"toolbar_location\":null,\"x_range\":{\"id\":\"4a279c62-99dc-4998-bd39-7576c17b9dc3\",\"type\":\"Range1d\"},\"x_scale\":{\"id\":\"1d1844ed-b7d6-4a08-a271-6d52ec51b84b\",\"type\":\"LinearScale\"},\"y_range\":{\"id\":\"33274965-ccf3-4ccb-ad6e-ff966e3d6c3c\",\"type\":\"Range1d\"},\"y_scale\":{\"id\":\"59dda5cb-6001-49cf-ae65-3f8d8a59e184\",\"type\":\"LinearScale\"}},\"id\":\"52c9f1b7-b3a0-4549-be8f-2ebabf74a223\",\"subtype\":\"Figure\",\"type\":\"Plot\"},{\"attributes\":{\"fill_color\":{\"value\":\"blue\"},\"height\":{\"units\":\"data\",\"value\":1},\"line_color\":{\"value\":\"#1f77b4\"},\"width\":{\"units\":\"data\",\"value\":0.2},\"x\":{\"value\":0.3666666666666667},\"y\":{\"value\":0.5}},\"id\":\"4e3a02be-74bd-4e79-983c-c840767b72dd\",\"type\":\"Rect\"},{\"attributes\":{},\"id\":\"1a1f4d34-28ae-49a7-ac30-468e6b1c3731\",\"type\":\"ResetTool\"},{\"attributes\":{\"fill_color\":{\"value\":\"green\"},\"height\":{\"units\":\"data\",\"value\":1},\"line_color\":{\"value\":\"#1f77b4\"},\"width\":{\"units\":\"data\",\"value\":0.2},\"x\":{\"value\":0.6333333333333333},\"y\":{\"value\":0.5}},\"id\":\"ec413ffc-2eee-47a2-98b1-5629b2267a4a\",\"type\":\"Rect\"},{\"attributes\":{\"children\":[{\"id\":\"5f6ea6be-5904-4bb8-8530-b6e7335e0738\",\"subtype\":\"Figure\",\"type\":\"Plot\"},{\"id\":\"52c9f1b7-b3a0-4549-be8f-2ebabf74a223\",\"subtype\":\"Figure\",\"type\":\"Plot\"},{\"id\":\"45bbf427-c6f6-43a7-bb23-e8f6ca3deeaf\",\"subtype\":\"Figure\",\"type\":\"Plot\"}]},\"id\":\"c9146a7d-53d4-4f0f-b97e-7c4cd91bc7f8\",\"type\":\"Row\"},{\"attributes\":{},\"id\":\"2fd8bea4-979d-4c16-94cc-08945858fdba\",\"type\":\"HelpTool\"},{\"attributes\":{\"plot\":{\"id\":\"9886c76f-8092-41fb-a5e8-598d0d958466\",\"subtype\":\"Figure\",\"type\":\"Plot\"},\"text\":\"y\",\"x\":0.4,\"y\":0.9},\"id\":\"240d3fc7-3e3b-48fc-a26c-471916128f63\",\"type\":\"Label\"},{\"attributes\":{},\"id\":\"18d3fe73-26eb-407f-b9d1-85c4394d6936\",\"type\":\"PanTool\"},{\"attributes\":{\"bounds\":[0,1],\"callback\":null},\"id\":\"4a279c62-99dc-4998-bd39-7576c17b9dc3\",\"type\":\"Range1d\"},{\"attributes\":{},\"id\":\"1d1844ed-b7d6-4a08-a271-6d52ec51b84b\",\"type\":\"LinearScale\"},{\"attributes\":{\"callback\":null,\"data\":{},\"selected\":null,\"selection_policy\":null},\"id\":\"672f50cd-09ca-48d1-8e60-0e9c267db643\",\"type\":\"ColumnDataSource\"},{\"attributes\":{},\"id\":\"6f2d9036-fb87-4037-b613-1b09e276d1c1\",\"type\":\"ResetTool\"},{\"attributes\":{\"tools\":[{\"id\":\"18d3fe73-26eb-407f-b9d1-85c4394d6936\",\"type\":\"PanTool\"},{\"id\":\"2e24e749-d0e6-41db-baf6-e5f38ded9ba7\",\"type\":\"WheelZoomTool\"},{\"id\":\"c099bd8c-68c7-43e9-881d-3b5fb9718bec\",\"type\":\"BoxZoomTool\"},{\"id\":\"d171511d-6af8-49c0-b6b1-f582b39e1eb5\",\"type\":\"SaveTool\"},{\"id\":\"c3a99075-7058-460a-a344-49ed34bd53e3\",\"type\":\"ResetTool\"},{\"id\":\"230a924a-004e-477d-84c5-d50ecfcd0ec9\",\"type\":\"HelpTool\"},{\"id\":\"27ba23c0-0b3f-44c3-bbbf-c6ea4108324b\",\"type\":\"PanTool\"},{\"id\":\"648ee95e-4126-41a8-be01-e399ca5787b8\",\"type\":\"WheelZoomTool\"},{\"id\":\"826a5ae6-8ad5-4032-9815-f8e70dfe8a6d\",\"type\":\"BoxZoomTool\"},{\"id\":\"3b23b9e0-bab1-4ddb-b5d4-f26d1a8274b1\",\"type\":\"SaveTool\"},{\"id\":\"1a1f4d34-28ae-49a7-ac30-468e6b1c3731\",\"type\":\"ResetTool\"},{\"id\":\"2fd8bea4-979d-4c16-94cc-08945858fdba\",\"type\":\"HelpTool\"},{\"id\":\"ed0cbc05-1593-48f9-9cd9-14733704280f\",\"type\":\"PanTool\"},{\"id\":\"eb76874f-2e2f-4801-805b-7a3a00ad9dda\",\"type\":\"WheelZoomTool\"},{\"id\":\"f6ab9635-d43d-4a8d-b95e-3d977d856ea2\",\"type\":\"BoxZoomTool\"},{\"id\":\"ec5ad4ac-e672-4117-bfe8-8194838393ef\",\"type\":\"SaveTool\"},{\"id\":\"82c9f87d-b6d5-4ff1-9329-748339628b95\",\"type\":\"ResetTool\"},{\"id\":\"aa7a454e-f31e-4546-b0ff-0741ba0589a5\",\"type\":\"HelpTool\"},{\"id\":\"fcb5f56a-7a7d-4357-9516-32a4ab69a52e\",\"type\":\"PanTool\"},{\"id\":\"fc73ed13-653a-4f0f-8370-821dcf3f5232\",\"type\":\"WheelZoomTool\"},{\"id\":\"fd632678-0320-474c-b1b4-d3cc06953d8a\",\"type\":\"BoxZoomTool\"},{\"id\":\"a3520f4a-096e-48ab-8792-a94089f0f725\",\"type\":\"SaveTool\"},{\"id\":\"6f2d9036-fb87-4037-b613-1b09e276d1c1\",\"type\":\"ResetTool\"},{\"id\":\"712783cb-db2d-481b-bd55-3bb1f8ac5c20\",\"type\":\"HelpTool\"},{\"id\":\"eef61ea1-73ed-45cb-83d3-e6ae67408567\",\"type\":\"PanTool\"},{\"id\":\"d0a10c86-4bfd-4f37-9f4b-1c833d61f0b6\",\"type\":\"WheelZoomTool\"},{\"id\":\"d5211405-64cb-4b1f-9af8-75b5f6874494\",\"type\":\"BoxZoomTool\"},{\"id\":\"19c968d7-4a90-42b8-ae92-3ff5124b49e8\",\"type\":\"SaveTool\"},{\"id\":\"6f1091d7-f129-4ab8-ba4b-8e523824e852\",\"type\":\"ResetTool\"},{\"id\":\"3fd30209-322d-42af-b002-6fa50127f3c8\",\"type\":\"HelpTool\"},{\"id\":\"f384dc2e-3c72-479f-856a-ccd45a2fa817\",\"type\":\"PanTool\"},{\"id\":\"fdfbca9b-9cfd-4430-9c46-5c695fb12f54\",\"type\":\"WheelZoomTool\"},{\"id\":\"8b1b8a6e-8c45-4b46-a675-d366d4af0bb4\",\"type\":\"BoxZoomTool\"},{\"id\":\"e83b18d8-cfcd-4329-9836-dd3cbc27ced4\",\"type\":\"SaveTool\"},{\"id\":\"3de1c99f-89ae-485f-beff-ee6b6f6685f5\",\"type\":\"ResetTool\"},{\"id\":\"9c41bedc-7b32-41cc-b2e2-0e1842daa6d8\",\"type\":\"HelpTool\"}]},\"id\":\"d21ab652-e107-4db7-b568-ffff7bcf3ce4\",\"type\":\"ProxyToolbar\"},{\"attributes\":{},\"id\":\"9e522361-c3fc-4a3d-a98b-d394b7c5e78f\",\"type\":\"BasicTickFormatter\"},{\"attributes\":{},\"id\":\"2e24e749-d0e6-41db-baf6-e5f38ded9ba7\",\"type\":\"WheelZoomTool\"},{\"attributes\":{\"bounds\":[0,1],\"callback\":null},\"id\":\"86f0bc15-2a4e-40a4-b4a0-1ece6e0785b3\",\"type\":\"Range1d\"},{\"attributes\":{\"source\":{\"id\":\"1bb97fe9-c91d-4624-8e03-afe7583c3a4b\",\"type\":\"ColumnDataSource\"}},\"id\":\"5c749b0b-16da-4bc1-aa95-d3c4927c7395\",\"type\":\"CDSView\"},{\"attributes\":{\"children\":[{\"id\":\"68f5683d-9ff5-4aa3-99d0-6d6af0f771b4\",\"type\":\"WidgetBox\"},{\"id\":\"e56bcf45-ea1e-4bb5-822b-8caf109b6aee\",\"type\":\"Column\"}]},\"id\":\"262eb3f1-63b7-4989-a7cf-ba3400c26a5c\",\"type\":\"Column\"},{\"attributes\":{\"data_source\":{\"id\":\"3ce4a414-f3ad-4955-b497-c2519d631318\",\"type\":\"ColumnDataSource\"},\"glyph\":{\"id\":\"f83f2c52-17ab-4014-b075-aaf3c0464434\",\"type\":\"Square\"},\"hover_glyph\":null,\"muted_glyph\":null,\"nonselection_glyph\":{\"id\":\"3ad0da9e-41f5-4dcc-a5d3-f2c949d752a3\",\"type\":\"Square\"},\"selection_glyph\":null,\"view\":{\"id\":\"98aa1cf8-1c60-417d-af26-23e89a5e96d6\",\"type\":\"CDSView\"}},\"id\":\"1dbda034-5d00-47cf-a41d-4eaa01b31b9a\",\"type\":\"GlyphRenderer\"},{\"attributes\":{\"overlay\":{\"id\":\"32cce5ed-b309-4836-9261-b51d4e7d53b3\",\"type\":\"BoxAnnotation\"}},\"id\":\"c099bd8c-68c7-43e9-881d-3b5fb9718bec\",\"type\":\"BoxZoomTool\"},{\"attributes\":{\"children\":[{\"id\":\"19c9163c-f6af-4984-bf18-180db15f86a1\",\"type\":\"ToolbarBox\"},{\"id\":\"741d36d3-6385-47e0-969b-a16bc4a12d95\",\"type\":\"Column\"}]},\"id\":\"e56bcf45-ea1e-4bb5-822b-8caf109b6aee\",\"type\":\"Column\"},{\"attributes\":{},\"id\":\"d171511d-6af8-49c0-b6b1-f582b39e1eb5\",\"type\":\"SaveTool\"},{\"attributes\":{\"fill_color\":{\"value\":\"grey\"},\"line_color\":{\"value\":null},\"size\":{\"units\":\"screen\",\"value\":20},\"x\":{\"value\":0.9},\"y\":{\"value\":0.5}},\"id\":\"b7b599b3-0e62-45cc-9e03-e8fb7af272c0\",\"type\":\"Triangle\"},{\"attributes\":{\"callback\":null,\"column_names\":[\"x\",\"y\"],\"data\":{\"x\":[0,1],\"y\":[0.9,0.9]},\"selected\":null,\"selection_policy\":null},\"id\":\"0dbdb9b3-05f6-46bc-b8e3-dfc1fcd69ff4\",\"type\":\"ColumnDataSource\"},{\"attributes\":{\"bounds\":[0,1],\"callback\":null},\"id\":\"33274965-ccf3-4ccb-ad6e-ff966e3d6c3c\",\"type\":\"Range1d\"},{\"attributes\":{\"fill_color\":{\"value\":\"grey\"},\"line_color\":{\"value\":null},\"size\":{\"units\":\"screen\",\"value\":15},\"x\":{\"value\":0.3666666666666667},\"y\":{\"value\":0.5}},\"id\":\"f83f2c52-17ab-4014-b075-aaf3c0464434\",\"type\":\"Square\"},{\"attributes\":{\"callback\":null,\"data\":{},\"selected\":null,\"selection_policy\":null},\"id\":\"c42c7442-e642-4556-9231-87feee48c6b9\",\"type\":\"ColumnDataSource\"},{\"attributes\":{},\"id\":\"84f28217-e8d1-4430-8d57-d8a355fe4cb1\",\"type\":\"BasicTicker\"},{\"attributes\":{},\"id\":\"c3a99075-7058-460a-a344-49ed34bd53e3\",\"type\":\"ResetTool\"},{\"attributes\":{\"formatter\":{\"id\":\"18db84c6-b83c-48dc-a0ea-25e7ef0d84fa\",\"type\":\"BasicTickFormatter\"},\"plot\":{\"id\":\"52c9f1b7-b3a0-4549-be8f-2ebabf74a223\",\"subtype\":\"Figure\",\"type\":\"Plot\"},\"ticker\":{\"id\":\"84f28217-e8d1-4430-8d57-d8a355fe4cb1\",\"type\":\"BasicTicker\"},\"visible\":false},\"id\":\"4b86b116-d9dc-47a9-9010-a8785e14e8bb\",\"type\":\"LinearAxis\"},{\"attributes\":{\"source\":{\"id\":\"3ce4a414-f3ad-4955-b497-c2519d631318\",\"type\":\"ColumnDataSource\"}},\"id\":\"98aa1cf8-1c60-417d-af26-23e89a5e96d6\",\"type\":\"CDSView\"},{\"attributes\":{},\"id\":\"230a924a-004e-477d-84c5-d50ecfcd0ec9\",\"type\":\"HelpTool\"},{\"attributes\":{\"bounds\":[0,1],\"callback\":null},\"id\":\"1e00fee7-84e4-4096-8b82-b88c82445c34\",\"type\":\"Range1d\"},{\"attributes\":{\"fill_alpha\":{\"value\":0.1},\"fill_color\":{\"value\":\"#1f77b4\"},\"line_alpha\":{\"value\":0.1},\"line_color\":{\"value\":\"#1f77b4\"},\"size\":{\"units\":\"screen\",\"value\":15},\"x\":{\"value\":0.3666666666666667},\"y\":{\"value\":0.5}},\"id\":\"3ad0da9e-41f5-4dcc-a5d3-f2c949d752a3\",\"type\":\"Square\"},{\"attributes\":{\"grid_line_color\":{\"value\":null},\"plot\":{\"id\":\"61b53676-ce62-417d-897b-cf882b9f15cc\",\"subtype\":\"Figure\",\"type\":\"Plot\"},\"ticker\":{\"id\":\"7fa4aae1-c5fd-4023-890e-4b38f27b0183\",\"type\":\"BasicTicker\"}},\"id\":\"67e1977e-d49a-4a98-86c2-084468a4eb96\",\"type\":\"Grid\"},{\"attributes\":{\"angle\":{\"units\":\"rad\",\"value\":45.0},\"fill_alpha\":{\"value\":0.1},\"fill_color\":{\"value\":\"#1f77b4\"},\"line_alpha\":{\"value\":0.1},\"line_color\":{\"value\":\"#1f77b4\"},\"size\":{\"units\":\"screen\",\"value\":15},\"x\":{\"value\":0.6333333333333333},\"y\":{\"value\":0.5}},\"id\":\"a1a7666d-64f6-4d18-97ed-eebf645e9a29\",\"type\":\"Square\"},{\"attributes\":{\"children\":[{\"id\":\"9886c76f-8092-41fb-a5e8-598d0d958466\",\"subtype\":\"Figure\",\"type\":\"Plot\"},{\"id\":\"796ebdcf-50a5-417d-9466-16d9f55b0296\",\"subtype\":\"Figure\",\"type\":\"Plot\"},{\"id\":\"61b53676-ce62-417d-897b-cf882b9f15cc\",\"subtype\":\"Figure\",\"type\":\"Plot\"}]},\"id\":\"66ac0d9a-9f6e-47c0-89d7-b262d4182316\",\"type\":\"Row\"},{\"attributes\":{\"callback\":null,\"column_names\":[\"x\",\"y\"],\"data\":{\"x\":[0,1],\"y\":[0.7,0.7]},\"selected\":null,\"selection_policy\":null},\"id\":\"f0370c77-6955-4bdc-8816-f377079e998e\",\"type\":\"ColumnDataSource\"},{\"attributes\":{},\"id\":\"c05ea9ef-9d19-4c5f-bef6-b469703e2368\",\"type\":\"BasicTickFormatter\"},{\"attributes\":{\"data_source\":{\"id\":\"c42c7442-e642-4556-9231-87feee48c6b9\",\"type\":\"ColumnDataSource\"},\"glyph\":{\"id\":\"982e3f1e-f3d2-4fe8-be11-2ac52a23ec0c\",\"type\":\"Square\"},\"hover_glyph\":null,\"muted_glyph\":null,\"nonselection_glyph\":{\"id\":\"a1a7666d-64f6-4d18-97ed-eebf645e9a29\",\"type\":\"Square\"},\"selection_glyph\":null,\"view\":{\"id\":\"87e70ad1-f526-407d-92f6-fed52c158d52\",\"type\":\"CDSView\"}},\"id\":\"4ab112f2-cd34-476a-8811-83d430a70ee1\",\"type\":\"GlyphRenderer\"},{\"attributes\":{\"source\":{\"id\":\"c42c7442-e642-4556-9231-87feee48c6b9\",\"type\":\"ColumnDataSource\"}},\"id\":\"87e70ad1-f526-407d-92f6-fed52c158d52\",\"type\":\"CDSView\"},{\"attributes\":{},\"id\":\"4d8e354b-6f7a-4747-b5bd-4508e6220a67\",\"type\":\"BasicTickFormatter\"},{\"attributes\":{\"bounds\":[0,1],\"callback\":null},\"id\":\"aeda2297-529f-4bae-8142-b1d1d46c57f0\",\"type\":\"Range1d\"},{\"attributes\":{\"line_color\":\"#1f77b4\",\"x\":{\"value\":0.5},\"y\":{\"field\":\"y\"}},\"id\":\"cd9c44ab-2db0-4160-8574-ee0d46e565d4\",\"type\":\"Line\"},{\"attributes\":{\"callback\":null,\"data\":{},\"selected\":null,\"selection_policy\":null},\"id\":\"0a2ffb3d-bc70-45a9-9696-3ecfbfc40770\",\"type\":\"ColumnDataSource\"},{\"attributes\":{\"below\":[{\"id\":\"066977b8-ed17-4c5d-aafa-0f89b9cae3f7\",\"type\":\"LinearAxis\"}],\"left\":[{\"id\":\"6b88f186-3b28-4b36-b6a8-89b6129a2b85\",\"type\":\"LinearAxis\"}],\"plot_height\":150,\"plot_width\":200,\"renderers\":[{\"id\":\"066977b8-ed17-4c5d-aafa-0f89b9cae3f7\",\"type\":\"LinearAxis\"},{\"id\":\"742048b9-0041-42cc-8fe8-c148c347d9a2\",\"type\":\"Grid\"},{\"id\":\"6b88f186-3b28-4b36-b6a8-89b6129a2b85\",\"type\":\"LinearAxis\"},{\"id\":\"ea768333-101b-4cd4-a6fc-4d3a49e31d26\",\"type\":\"Grid\"},{\"id\":\"3c0b6a90-f304-4683-9724-15704b6bee85\",\"type\":\"BoxAnnotation\"},{\"id\":\"47831a09-dbea-4e3c-a108-89fcaef79a13\",\"type\":\"GlyphRenderer\"},{\"id\":\"19411b30-1698-4ec8-bf16-a66aeebf8fe9\",\"type\":\"GlyphRenderer\"},{\"id\":\"12bf5384-e2c8-42a0-acc4-deda74d4bc1a\",\"type\":\"GlyphRenderer\"},{\"id\":\"056afdd8-17e9-493d-afe5-837dca5601b3\",\"type\":\"GlyphRenderer\"}],\"title\":{\"id\":\"835de394-67df-4576-8d80-a911f95a3f6e\",\"type\":\"Title\"},\"toolbar\":{\"id\":\"26b561a3-d1fd-4151-8a82-f1d63f508a14\",\"type\":\"Toolbar\"},\"toolbar_location\":null,\"x_range\":{\"id\":\"1e00fee7-84e4-4096-8b82-b88c82445c34\",\"type\":\"Range1d\"},\"x_scale\":{\"id\":\"25121750-f442-4992-afec-2b9315a288ed\",\"type\":\"LinearScale\"},\"y_range\":{\"id\":\"86f0bc15-2a4e-40a4-b4a0-1ece6e0785b3\",\"type\":\"Range1d\"},\"y_scale\":{\"id\":\"6fc08be9-c9dc-41fd-babc-966c09060744\",\"type\":\"LinearScale\"}},\"id\":\"5f6ea6be-5904-4bb8-8530-b6e7335e0738\",\"subtype\":\"Figure\",\"type\":\"Plot\"},{\"attributes\":{\"end\":{\"id\":\"1d38fcb9-5b68-4ec7-97ab-dfbefacff4ec\",\"type\":\"OpenHead\"},\"plot\":{\"id\":\"9886c76f-8092-41fb-a5e8-598d0d958466\",\"subtype\":\"Figure\",\"type\":\"Plot\"},\"source\":null,\"start\":null,\"x_end\":{\"value\":1},\"x_start\":{\"value\":0.0},\"y_end\":{\"value\":0.5},\"y_start\":{\"value\":0.5}},\"id\":\"5bb1d718-ea38-4e35-a4b1-da6d8e6a9e8f\",\"type\":\"Arrow\"},{\"attributes\":{\"fill_alpha\":{\"value\":0.1},\"fill_color\":{\"value\":\"#1f77b4\"},\"line_alpha\":{\"value\":0.1},\"line_color\":{\"value\":\"#1f77b4\"},\"size\":{\"units\":\"screen\",\"value\":20},\"x\":{\"value\":0.9},\"y\":{\"value\":0.5}},\"id\":\"b102183d-0246-4316-84f5-1d0e3ba82bf8\",\"type\":\"Triangle\"},{\"attributes\":{\"active_drag\":\"auto\",\"active_inspect\":\"auto\",\"active_scroll\":\"auto\",\"active_tap\":\"auto\",\"tools\":[{\"id\":\"eef61ea1-73ed-45cb-83d3-e6ae67408567\",\"type\":\"PanTool\"},{\"id\":\"d0a10c86-4bfd-4f37-9f4b-1c833d61f0b6\",\"type\":\"WheelZoomTool\"},{\"id\":\"d5211405-64cb-4b1f-9af8-75b5f6874494\",\"type\":\"BoxZoomTool\"},{\"id\":\"19c968d7-4a90-42b8-ae92-3ff5124b49e8\",\"type\":\"SaveTool\"},{\"id\":\"6f1091d7-f129-4ab8-ba4b-8e523824e852\",\"type\":\"ResetTool\"},{\"id\":\"3fd30209-322d-42af-b002-6fa50127f3c8\",\"type\":\"HelpTool\"}]},\"id\":\"de0cf580-f907-4b53-acac-3a81bfc5c9b8\",\"type\":\"Toolbar\"},{\"attributes\":{},\"id\":\"18db84c6-b83c-48dc-a0ea-25e7ef0d84fa\",\"type\":\"BasicTickFormatter\"},{\"attributes\":{\"dimension\":1,\"grid_line_color\":{\"value\":null},\"plot\":{\"id\":\"796ebdcf-50a5-417d-9466-16d9f55b0296\",\"subtype\":\"Figure\",\"type\":\"Plot\"},\"ticker\":{\"id\":\"66921860-1506-4eb4-8e38-a15f3de43782\",\"type\":\"BasicTicker\"}},\"id\":\"7304b63b-38cf-47ff-99d5-8abfaaf8eba4\",\"type\":\"Grid\"},{\"attributes\":{\"data_source\":{\"id\":\"672f50cd-09ca-48d1-8e60-0e9c267db643\",\"type\":\"ColumnDataSource\"},\"glyph\":{\"id\":\"b7b599b3-0e62-45cc-9e03-e8fb7af272c0\",\"type\":\"Triangle\"},\"hover_glyph\":null,\"muted_glyph\":null,\"nonselection_glyph\":{\"id\":\"b102183d-0246-4316-84f5-1d0e3ba82bf8\",\"type\":\"Triangle\"},\"selection_glyph\":null,\"view\":{\"id\":\"9ad28a41-1170-4b1b-b1ec-ddf8a5d09315\",\"type\":\"CDSView\"}},\"id\":\"c426573b-09c9-426b-b263-ca32736fd134\",\"type\":\"GlyphRenderer\"},{\"attributes\":{\"plot\":null,\"text\":\"line width\"},\"id\":\"30375d54-cb98-4340-a701-cfc7a861a9bd\",\"type\":\"Title\"},{\"attributes\":{},\"id\":\"25121750-f442-4992-afec-2b9315a288ed\",\"type\":\"LinearScale\"},{\"attributes\":{\"callback\":null,\"column_names\":[\"y\"],\"data\":{\"y\":[0,1]},\"selected\":null,\"selection_policy\":null},\"id\":\"46868db2-35b0-4eb1-9ae4-80f93648ccf6\",\"type\":\"ColumnDataSource\"},{\"attributes\":{\"source\":{\"id\":\"672f50cd-09ca-48d1-8e60-0e9c267db643\",\"type\":\"ColumnDataSource\"}},\"id\":\"9ad28a41-1170-4b1b-b1ec-ddf8a5d09315\",\"type\":\"CDSView\"},{\"attributes\":{\"data_source\":{\"id\":\"46868db2-35b0-4eb1-9ae4-80f93648ccf6\",\"type\":\"ColumnDataSource\"},\"glyph\":{\"id\":\"cd9c44ab-2db0-4160-8574-ee0d46e565d4\",\"type\":\"Line\"},\"hover_glyph\":null,\"muted_glyph\":null,\"nonselection_glyph\":{\"id\":\"9d476f62-3d71-4d2c-a8cf-8f3d3dd3edfe\",\"type\":\"Line\"},\"selection_glyph\":null,\"view\":{\"id\":\"c331038c-ecd0-4f24-b519-fbf22531185f\",\"type\":\"CDSView\"}},\"id\":\"229375c8-9787-4678-b067-61674bf11208\",\"type\":\"GlyphRenderer\"},{\"attributes\":{\"data_source\":{\"id\":\"0a2ffb3d-bc70-45a9-9696-3ecfbfc40770\",\"type\":\"ColumnDataSource\"},\"glyph\":{\"id\":\"4ae6fb22-4c7e-47c0-ae14-fbb66fc757ba\",\"type\":\"Rect\"},\"hover_glyph\":null,\"muted_glyph\":null,\"nonselection_glyph\":{\"id\":\"9911cc5d-ad91-4a84-bba6-ef15d2c31957\",\"type\":\"Rect\"},\"selection_glyph\":null,\"view\":{\"id\":\"43a101b4-2a71-41fa-9f48-b96114b6e274\",\"type\":\"CDSView\"}},\"id\":\"47831a09-dbea-4e3c-a108-89fcaef79a13\",\"type\":\"GlyphRenderer\"},{\"attributes\":{\"fill_alpha\":{\"value\":0.1},\"fill_color\":{\"value\":\"#1f77b4\"},\"height\":{\"units\":\"data\",\"value\":1},\"line_alpha\":{\"value\":0.1},\"line_color\":{\"value\":\"#1f77b4\"},\"width\":{\"units\":\"data\",\"value\":0.2},\"x\":{\"value\":0.6333333333333333},\"y\":{\"value\":0.5}},\"id\":\"2b572495-bff1-4999-aeb8-2ebdc61c9b2c\",\"type\":\"Rect\"},{\"attributes\":{\"plot\":{\"id\":\"9886c76f-8092-41fb-a5e8-598d0d958466\",\"subtype\":\"Figure\",\"type\":\"Plot\"},\"text\":\"x\",\"x\":0.9,\"y\":0.3},\"id\":\"4784bb96-f429-4bec-939e-8bc1746bfdf5\",\"type\":\"Label\"},{\"attributes\":{\"fill_alpha\":{\"value\":0.1},\"fill_color\":{\"value\":\"#1f77b4\"},\"line_alpha\":{\"value\":0.1},\"line_color\":{\"value\":\"#1f77b4\"},\"radius\":{\"units\":\"data\",\"value\":0.06},\"x\":{\"value\":0.2666666666666667},\"y\":{\"value\":0.5}},\"id\":\"4649e927-071a-4655-8745-e42b2af002e2\",\"type\":\"Circle\"},{\"attributes\":{\"callback\":null,\"data\":{},\"selected\":null,\"selection_policy\":null},\"id\":\"685bbdc7-702d-49cb-80bf-c8f022c3b4b0\",\"type\":\"ColumnDataSource\"},{\"attributes\":{},\"id\":\"1c707a84-b7b2-4251-b774-b18ed18738c1\",\"type\":\"LinearScale\"},{\"attributes\":{},\"id\":\"6fc08be9-c9dc-41fd-babc-966c09060744\",\"type\":\"LinearScale\"},{\"attributes\":{\"dimension\":1,\"grid_line_color\":{\"value\":null},\"plot\":{\"id\":\"45bbf427-c6f6-43a7-bb23-e8f6ca3deeaf\",\"subtype\":\"Figure\",\"type\":\"Plot\"},\"ticker\":{\"id\":\"e1d634c2-f6dc-4fc2-9a62-05d6f4882b44\",\"type\":\"BasicTicker\"}},\"id\":\"cf7503ce-2329-46d0-bf83-dfd52137331c\",\"type\":\"Grid\"},{\"attributes\":{\"data_source\":{\"id\":\"8dcd3144-7455-425f-acd5-7042741efe6a\",\"type\":\"ColumnDataSource\"},\"glyph\":{\"id\":\"085035fa-b6b8-4b98-8d6f-5a90ede8110a\",\"type\":\"Line\"},\"hover_glyph\":null,\"muted_glyph\":null,\"nonselection_glyph\":{\"id\":\"b7d2fc26-4ed5-486a-a84c-6ab45a771cdb\",\"type\":\"Line\"},\"selection_glyph\":null,\"view\":{\"id\":\"33364a67-ef56-4217-940c-001b74736911\",\"type\":\"CDSView\"}},\"id\":\"20156e60-e0c6-4ed4-9cb7-b69d9ee1f91e\",\"type\":\"GlyphRenderer\"},{\"attributes\":{\"fill_alpha\":{\"value\":0.1},\"fill_color\":{\"value\":\"#1f77b4\"},\"height\":{\"units\":\"data\",\"value\":1},\"line_alpha\":{\"value\":0.1},\"line_color\":{\"value\":\"#1f77b4\"},\"width\":{\"units\":\"data\",\"value\":0.2},\"x\":{\"value\":0.1},\"y\":{\"value\":0.5}},\"id\":\"9911cc5d-ad91-4a84-bba6-ef15d2c31957\",\"type\":\"Rect\"},{\"attributes\":{\"plot\":null,\"text\":\"colour\"},\"id\":\"835de394-67df-4576-8d80-a911f95a3f6e\",\"type\":\"Title\"},{\"attributes\":{\"source\":{\"id\":\"46868db2-35b0-4eb1-9ae4-80f93648ccf6\",\"type\":\"ColumnDataSource\"}},\"id\":\"c331038c-ecd0-4f24-b519-fbf22531185f\",\"type\":\"CDSView\"},{\"attributes\":{\"source\":{\"id\":\"9b2fb4f5-c07b-4c82-93d8-b556bbd7e906\",\"type\":\"ColumnDataSource\"}},\"id\":\"95d2dd3d-cf12-4f24-93fb-961e54f044b6\",\"type\":\"CDSView\"},{\"attributes\":{\"end\":{\"id\":\"1054c818-b368-4538-80aa-78769debc6e0\",\"type\":\"OpenHead\"},\"plot\":{\"id\":\"9886c76f-8092-41fb-a5e8-598d0d958466\",\"subtype\":\"Figure\",\"type\":\"Plot\"},\"source\":null,\"start\":null,\"x_end\":{\"value\":0.5},\"x_start\":{\"value\":0.5},\"y_end\":{\"value\":1},\"y_start\":{\"value\":0.0}},\"id\":\"00f86d6d-6025-476d-b85f-b175ebc72796\",\"type\":\"Arrow\"},{\"attributes\":{\"grid_line_color\":{\"value\":null},\"plot\":{\"id\":\"5f6ea6be-5904-4bb8-8530-b6e7335e0738\",\"subtype\":\"Figure\",\"type\":\"Plot\"},\"ticker\":{\"id\":\"751fd6f4-1147-4212-b8da-dfd2db4c66f2\",\"type\":\"BasicTicker\"}},\"id\":\"742048b9-0041-42cc-8fe8-c148c347d9a2\",\"type\":\"Grid\"},{\"attributes\":{},\"id\":\"44282f5a-c634-4a55-b486-6e0fefee5eae\",\"type\":\"BasicTickFormatter\"},{\"attributes\":{},\"id\":\"f384dc2e-3c72-479f-856a-ccd45a2fa817\",\"type\":\"PanTool\"},{\"attributes\":{\"data_source\":{\"id\":\"ed1eb285-cb19-4b2e-822a-5435f60b41ce\",\"type\":\"ColumnDataSource\"},\"glyph\":{\"id\":\"4e3a02be-74bd-4e79-983c-c840767b72dd\",\"type\":\"Rect\"},\"hover_glyph\":null,\"muted_glyph\":null,\"nonselection_glyph\":{\"id\":\"ef3fa7d6-be64-4b8a-896c-c10ca25b284a\",\"type\":\"Rect\"},\"selection_glyph\":null,\"view\":{\"id\":\"2d4e2b4d-02ab-4c3c-a7f9-1ae7f6e7137a\",\"type\":\"CDSView\"}},\"id\":\"19411b30-1698-4ec8-bf16-a66aeebf8fe9\",\"type\":\"GlyphRenderer\"},{\"attributes\":{\"active_drag\":\"auto\",\"active_inspect\":\"auto\",\"active_scroll\":\"auto\",\"active_tap\":\"auto\",\"tools\":[{\"id\":\"fcb5f56a-7a7d-4357-9516-32a4ab69a52e\",\"type\":\"PanTool\"},{\"id\":\"fc73ed13-653a-4f0f-8370-821dcf3f5232\",\"type\":\"WheelZoomTool\"},{\"id\":\"fd632678-0320-474c-b1b4-d3cc06953d8a\",\"type\":\"BoxZoomTool\"},{\"id\":\"a3520f4a-096e-48ab-8792-a94089f0f725\",\"type\":\"SaveTool\"},{\"id\":\"6f2d9036-fb87-4037-b613-1b09e276d1c1\",\"type\":\"ResetTool\"},{\"id\":\"712783cb-db2d-481b-bd55-3bb1f8ac5c20\",\"type\":\"HelpTool\"}]},\"id\":\"26b561a3-d1fd-4151-8a82-f1d63f508a14\",\"type\":\"Toolbar\"},{\"attributes\":{\"callback\":null,\"data\":{},\"selected\":null,\"selection_policy\":null},\"id\":\"2aa2d7b8-c718-4c81-90ea-289b82754f23\",\"type\":\"ColumnDataSource\"},{\"attributes\":{\"source\":{\"id\":\"8dcd3144-7455-425f-acd5-7042741efe6a\",\"type\":\"ColumnDataSource\"}},\"id\":\"33364a67-ef56-4217-940c-001b74736911\",\"type\":\"CDSView\"},{\"attributes\":{\"callback\":null,\"data\":{},\"selected\":null,\"selection_policy\":null},\"id\":\"1bb97fe9-c91d-4624-8e03-afe7583c3a4b\",\"type\":\"ColumnDataSource\"},{\"attributes\":{},\"id\":\"751fd6f4-1147-4212-b8da-dfd2db4c66f2\",\"type\":\"BasicTicker\"},{\"attributes\":{},\"id\":\"12f543db-9dbd-4ff6-8806-67ad6b85ce07\",\"type\":\"BasicTickFormatter\"},{\"attributes\":{},\"id\":\"fdfbca9b-9cfd-4430-9c46-5c695fb12f54\",\"type\":\"WheelZoomTool\"},{\"attributes\":{\"formatter\":{\"id\":\"4d8e354b-6f7a-4747-b5bd-4508e6220a67\",\"type\":\"BasicTickFormatter\"},\"plot\":{\"id\":\"5f6ea6be-5904-4bb8-8530-b6e7335e0738\",\"subtype\":\"Figure\",\"type\":\"Plot\"},\"ticker\":{\"id\":\"751fd6f4-1147-4212-b8da-dfd2db4c66f2\",\"type\":\"BasicTicker\"},\"visible\":false},\"id\":\"066977b8-ed17-4c5d-aafa-0f89b9cae3f7\",\"type\":\"LinearAxis\"},{\"attributes\":{\"formatter\":{\"id\":\"25b04a6c-4dc1-45c4-b593-f2836e138335\",\"type\":\"BasicTickFormatter\"},\"plot\":{\"id\":\"5f6ea6be-5904-4bb8-8530-b6e7335e0738\",\"subtype\":\"Figure\",\"type\":\"Plot\"},\"ticker\":{\"id\":\"e694b70c-d240-4307-b159-e64f28cbfcf7\",\"type\":\"BasicTicker\"},\"visible\":false},\"id\":\"6b88f186-3b28-4b36-b6a8-89b6129a2b85\",\"type\":\"LinearAxis\"},{\"attributes\":{\"source\":{\"id\":\"685bbdc7-702d-49cb-80bf-c8f022c3b4b0\",\"type\":\"ColumnDataSource\"}},\"id\":\"cfda5691-3f18-4b0e-987c-4281f544d8f3\",\"type\":\"CDSView\"},{\"attributes\":{},\"id\":\"e83b18d8-cfcd-4329-9836-dd3cbc27ced4\",\"type\":\"SaveTool\"},{\"attributes\":{\"dimension\":1,\"grid_line_color\":{\"value\":null},\"plot\":{\"id\":\"5f6ea6be-5904-4bb8-8530-b6e7335e0738\",\"subtype\":\"Figure\",\"type\":\"Plot\"},\"ticker\":{\"id\":\"e694b70c-d240-4307-b159-e64f28cbfcf7\",\"type\":\"BasicTicker\"}},\"id\":\"ea768333-101b-4cd4-a6fc-4d3a49e31d26\",\"type\":\"Grid\"},{\"attributes\":{},\"id\":\"e694b70c-d240-4307-b159-e64f28cbfcf7\",\"type\":\"BasicTicker\"},{\"attributes\":{},\"id\":\"e1d634c2-f6dc-4fc2-9a62-05d6f4882b44\",\"type\":\"BasicTicker\"},{\"attributes\":{\"overlay\":{\"id\":\"3c0b6a90-f304-4683-9724-15704b6bee85\",\"type\":\"BoxAnnotation\"}},\"id\":\"fd632678-0320-474c-b1b4-d3cc06953d8a\",\"type\":\"BoxZoomTool\"},{\"attributes\":{\"formatter\":{\"id\":\"c05ea9ef-9d19-4c5f-bef6-b469703e2368\",\"type\":\"BasicTickFormatter\"},\"plot\":{\"id\":\"45bbf427-c6f6-43a7-bb23-e8f6ca3deeaf\",\"subtype\":\"Figure\",\"type\":\"Plot\"},\"ticker\":{\"id\":\"e1d634c2-f6dc-4fc2-9a62-05d6f4882b44\",\"type\":\"BasicTicker\"},\"visible\":false},\"id\":\"c8b8f89a-9518-4b23-bdcd-99592c8605f4\",\"type\":\"LinearAxis\"},{\"attributes\":{},\"id\":\"7fa4aae1-c5fd-4023-890e-4b38f27b0183\",\"type\":\"BasicTicker\"},{\"attributes\":{},\"id\":\"3de1c99f-89ae-485f-beff-ee6b6f6685f5\",\"type\":\"ResetTool\"},{\"attributes\":{\"callback\":null,\"data\":{},\"selected\":null,\"selection_policy\":null},\"id\":\"ed1eb285-cb19-4b2e-822a-5435f60b41ce\",\"type\":\"ColumnDataSource\"},{\"attributes\":{\"source\":{\"id\":\"0a2ffb3d-bc70-45a9-9696-3ecfbfc40770\",\"type\":\"ColumnDataSource\"}},\"id\":\"43a101b4-2a71-41fa-9f48-b96114b6e274\",\"type\":\"CDSView\"},{\"attributes\":{\"callback\":null,\"column_names\":[\"x\",\"y\"],\"data\":{\"x\":[0,1],\"y\":[0.45,0.45]},\"selected\":null,\"selection_policy\":null},\"id\":\"1d6fa1fc-d590-4c03-b966-f10b6c6a49f4\",\"type\":\"ColumnDataSource\"},{\"attributes\":{},\"id\":\"a3520f4a-096e-48ab-8792-a94089f0f725\",\"type\":\"SaveTool\"},{\"attributes\":{\"data_source\":{\"id\":\"9b2fb4f5-c07b-4c82-93d8-b556bbd7e906\",\"type\":\"ColumnDataSource\"},\"glyph\":{\"id\":\"bb260e89-eced-459a-aca3-e9da4b168b1d\",\"type\":\"Line\"},\"hover_glyph\":null,\"muted_glyph\":null,\"nonselection_glyph\":{\"id\":\"0ff28894-faab-461e-bc4d-ce8aecf21814\",\"type\":\"Line\"},\"selection_glyph\":null,\"view\":{\"id\":\"95d2dd3d-cf12-4f24-93fb-961e54f044b6\",\"type\":\"CDSView\"}},\"id\":\"52f31896-ea41-469f-9cdd-d974f9578d97\",\"type\":\"GlyphRenderer\"},{\"attributes\":{},\"id\":\"fcb5f56a-7a7d-4357-9516-32a4ab69a52e\",\"type\":\"PanTool\"},{\"attributes\":{\"line_alpha\":0.1,\"line_color\":\"#1f77b4\",\"line_dash\":[6],\"line_width\":2,\"x\":{\"field\":\"x\"},\"y\":{\"field\":\"y\"}},\"id\":\"b7d2fc26-4ed5-486a-a84c-6ab45a771cdb\",\"type\":\"Line\"},{\"attributes\":{},\"id\":\"fc73ed13-653a-4f0f-8370-821dcf3f5232\",\"type\":\"WheelZoomTool\"},{\"attributes\":{\"callback\":null,\"data\":{},\"selected\":null,\"selection_policy\":null},\"id\":\"0a49c9a8-8922-4f0e-b5ee-4e624db4f6db\",\"type\":\"ColumnDataSource\"},{\"attributes\":{\"bounds\":[0,1],\"callback\":null},\"id\":\"a60e9d09-36f1-4e3e-8f55-cffeb5b3b73b\",\"type\":\"Range1d\"},{\"attributes\":{},\"id\":\"25b04a6c-4dc1-45c4-b593-f2836e138335\",\"type\":\"BasicTickFormatter\"},{\"attributes\":{},\"id\":\"9c41bedc-7b32-41cc-b2e2-0e1842daa6d8\",\"type\":\"HelpTool\"},{\"attributes\":{\"fill_alpha\":{\"value\":0.1},\"fill_color\":{\"value\":\"#1f77b4\"},\"height\":{\"units\":\"data\",\"value\":1},\"line_alpha\":{\"value\":0.1},\"line_color\":{\"value\":\"#1f77b4\"},\"width\":{\"units\":\"data\",\"value\":0.2},\"x\":{\"value\":0.3666666666666667},\"y\":{\"value\":0.5}},\"id\":\"ef3fa7d6-be64-4b8a-896c-c10ca25b284a\",\"type\":\"Rect\"},{\"attributes\":{\"bottom_units\":\"screen\",\"fill_alpha\":{\"value\":0.5},\"fill_color\":{\"value\":\"lightgrey\"},\"left_units\":\"screen\",\"level\":\"overlay\",\"line_alpha\":{\"value\":1.0},\"line_color\":{\"value\":\"black\"},\"line_dash\":[4,4],\"line_width\":{\"value\":2},\"plot\":null,\"render_mode\":\"css\",\"right_units\":\"screen\",\"top_units\":\"screen\"},\"id\":\"3c0b6a90-f304-4683-9724-15704b6bee85\",\"type\":\"BoxAnnotation\"},{\"attributes\":{\"below\":[{\"id\":\"b6bef332-6bfe-49bc-bb6c-ba350aae1189\",\"type\":\"LinearAxis\"}],\"left\":[{\"id\":\"f1efbd4d-dde5-4c68-a583-b3e4ce0c2fd8\",\"type\":\"LinearAxis\"}],\"plot_height\":150,\"plot_width\":200,\"renderers\":[{\"id\":\"b6bef332-6bfe-49bc-bb6c-ba350aae1189\",\"type\":\"LinearAxis\"},{\"id\":\"67e1977e-d49a-4a98-86c2-084468a4eb96\",\"type\":\"Grid\"},{\"id\":\"f1efbd4d-dde5-4c68-a583-b3e4ce0c2fd8\",\"type\":\"LinearAxis\"},{\"id\":\"19029bdc-d752-4c8c-8047-db26f7f6711c\",\"type\":\"Grid\"},{\"id\":\"89792c51-2822-458d-9214-ddacd2c97481\",\"type\":\"BoxAnnotation\"},{\"id\":\"21bbb031-af3f-4c2e-aa25-6dfb4c443d5a\",\"type\":\"GlyphRenderer\"},{\"id\":\"9d1e4d19-b80a-4691-9de7-17f5a1f5f314\",\"type\":\"GlyphRenderer\"},{\"id\":\"f99d0b76-f7c9-4410-96b8-a5f9a0dbeedd\",\"type\":\"GlyphRenderer\"},{\"id\":\"c7c2e791-c73a-41eb-9e64-b3476fd02014\",\"type\":\"GlyphRenderer\"}],\"title\":{\"id\":\"dcb65716-6133-4f94-aef6-5141c62a03ba\",\"type\":\"Title\"},\"toolbar\":{\"id\":\"23ff52f3-86f6-4ead-b510-73d01a5a74b3\",\"type\":\"Toolbar\"},\"toolbar_location\":null,\"x_range\":{\"id\":\"a60e9d09-36f1-4e3e-8f55-cffeb5b3b73b\",\"type\":\"Range1d\"},\"x_scale\":{\"id\":\"69420f19-43c9-418a-8935-f31bfc2ca646\",\"type\":\"LinearScale\"},\"y_range\":{\"id\":\"aeda2297-529f-4bae-8142-b1d1d46c57f0\",\"type\":\"Range1d\"},\"y_scale\":{\"id\":\"1c707a84-b7b2-4251-b774-b18ed18738c1\",\"type\":\"LinearScale\"}},\"id\":\"61b53676-ce62-417d-897b-cf882b9f15cc\",\"subtype\":\"Figure\",\"type\":\"Plot\"},{\"attributes\":{\"line_color\":\"#1f77b4\",\"x\":{\"field\":\"x\"},\"y\":{\"value\":0.5}},\"id\":\"d24d2f01-f5f3-448a-8964-cd3affc65bc2\",\"type\":\"Line\"},{\"attributes\":{\"callback\":null,\"column_names\":[\"x\",\"y\"],\"data\":{\"x\":[0,1],\"y\":[0.2,0.2]},\"selected\":null,\"selection_policy\":null},\"id\":\"e97c1762-e057-4143-95a7-f9dbc74f9ee0\",\"type\":\"ColumnDataSource\"}],\"root_ids\":[\"262eb3f1-63b7-4989-a7cf-ba3400c26a5c\"]},\"title\":\"Bokeh Application\",\"version\":\"0.12.15\"}};\n",
       "  var render_items = [{\"docid\":\"d815bcfd-bfda-42d4-a89c-ec3d6dc21ae6\",\"elementid\":\"a475f141-c75f-4008-ae9d-a15e28a63289\",\"modelid\":\"262eb3f1-63b7-4989-a7cf-ba3400c26a5c\"}];\n",
       "  root.Bokeh.embed.embed_items_notebook(docs_json, render_items);\n",
       "\n",
       "  }\n",
       "  if (root.Bokeh !== undefined) {\n",
       "    embed_document(root);\n",
       "  } else {\n",
       "    var attempts = 0;\n",
       "    var timer = setInterval(function(root) {\n",
       "      if (root.Bokeh !== undefined) {\n",
       "        embed_document(root);\n",
       "        clearInterval(timer);\n",
       "      }\n",
       "      attempts++;\n",
       "      if (attempts > 100) {\n",
       "        console.log(\"Bokeh: ERROR: Unable to run BokehJS code because BokehJS library is missing\")\n",
       "        clearInterval(timer);\n",
       "      }\n",
       "    }, 10, root)\n",
       "  }\n",
       "})(window);"
      ],
      "application/vnd.bokehjs_exec.v0+json": ""
     },
     "metadata": {
      "application/vnd.bokehjs_exec.v0+json": {
       "id": "262eb3f1-63b7-4989-a7cf-ba3400c26a5c"
      }
     },
     "output_type": "display_data"
    }
   ],
   "source": [
    "show(column(Div(text=\"<h3>Figure 1.1</h3>Aesthetics in data visualization\"), grid))"
   ]
  },
  {
   "cell_type": "code",
   "execution_count": null,
   "metadata": {},
   "outputs": [],
   "source": []
  },
  {
   "cell_type": "code",
   "execution_count": 15,
   "metadata": {},
   "outputs": [],
   "source": [
    "categories = [\"position\", \"shape\", \"colour\"]"
   ]
  },
  {
   "cell_type": "code",
   "execution_count": 16,
   "metadata": {},
   "outputs": [
    {
     "data": {
      "text/html": [
       "\n",
       "<div class=\"bk-root\">\n",
       "    <div class=\"bk-plotdiv\" id=\"33c5c65c-0ca8-4bfb-afd0-85daf7f26446\"></div>\n",
       "</div>"
      ]
     },
     "metadata": {},
     "output_type": "display_data"
    },
    {
     "data": {
      "application/javascript": [
       "(function(root) {\n",
       "  function embed_document(root) {\n",
       "    \n",
       "  var docs_json = {\"c8471b63-3fcb-4817-bd49-90fabdbddcde\":{\"roots\":{\"references\":[{\"attributes\":{\"bottom_units\":\"screen\",\"fill_alpha\":{\"value\":0.5},\"fill_color\":{\"value\":\"lightgrey\"},\"left_units\":\"screen\",\"level\":\"overlay\",\"line_alpha\":{\"value\":1.0},\"line_color\":{\"value\":\"black\"},\"line_dash\":[4,4],\"line_width\":{\"value\":2},\"plot\":null,\"render_mode\":\"css\",\"right_units\":\"screen\",\"top_units\":\"screen\"},\"id\":\"01baa5a8-c1a1-44cb-bce2-5899eea0a02d\",\"type\":\"BoxAnnotation\"},{\"attributes\":{\"data_source\":{\"id\":\"5de58181-c1a6-42a4-9014-2aeee03ad62c\",\"type\":\"ColumnDataSource\"},\"glyph\":{\"id\":\"f6ab6959-d509-4fab-8fde-6f3e4bebbd69\",\"type\":\"Circle\"},\"hover_glyph\":null,\"muted_glyph\":null,\"nonselection_glyph\":{\"id\":\"61b6ca67-a00e-4847-ad4e-69332a25d668\",\"type\":\"Circle\"},\"selection_glyph\":null,\"view\":{\"id\":\"949ef9c1-2196-46de-8e73-75c97b5b81a8\",\"type\":\"CDSView\"}},\"id\":\"590c2a7f-6a90-4632-a58e-fc2bfa89c758\",\"type\":\"GlyphRenderer\"},{\"attributes\":{\"fill_alpha\":{\"value\":0.1},\"fill_color\":{\"value\":\"#1f77b4\"},\"line_alpha\":{\"value\":0.1},\"line_color\":{\"value\":\"#1f77b4\"},\"radius\":{\"units\":\"data\",\"value\":0.05},\"x\":{\"value\":1},\"y\":{\"value\":0.5}},\"id\":\"b256409d-dfd0-430e-9268-555281b36ec0\",\"type\":\"Circle\"},{\"attributes\":{\"source\":{\"id\":\"06ad26ad-92be-453a-95ca-aac8d0bf04f6\",\"type\":\"ColumnDataSource\"}},\"id\":\"55839fcd-164c-42b6-8e4a-b74b3606fa61\",\"type\":\"CDSView\"},{\"attributes\":{\"fill_alpha\":{\"value\":0.1},\"fill_color\":{\"value\":\"#1f77b4\"},\"line_alpha\":{\"value\":0.1},\"line_color\":{\"value\":\"#1f77b4\"},\"radius\":{\"units\":\"data\",\"value\":0.03},\"x\":{\"field\":\"x\"},\"y\":{\"value\":0.9}},\"id\":\"61b6ca67-a00e-4847-ad4e-69332a25d668\",\"type\":\"Circle\"},{\"attributes\":{},\"id\":\"b1a84223-92f5-4672-ae69-be60c3d2df3d\",\"type\":\"BasicTickFormatter\"},{\"attributes\":{\"fill_color\":{\"value\":\"blue\"},\"line_color\":{\"value\":\"#1f77b4\"},\"radius\":{\"units\":\"data\",\"value\":0.03},\"x\":{\"field\":\"x\"},\"y\":{\"value\":0.9}},\"id\":\"f6ab6959-d509-4fab-8fde-6f3e4bebbd69\",\"type\":\"Circle\"},{\"attributes\":{\"callback\":null,\"column_names\":[\"x\"],\"data\":{\"x\":[1,2,3,4]},\"selected\":null,\"selection_policy\":null},\"id\":\"5de58181-c1a6-42a4-9014-2aeee03ad62c\",\"type\":\"ColumnDataSource\"},{\"attributes\":{\"source\":{\"id\":\"5de58181-c1a6-42a4-9014-2aeee03ad62c\",\"type\":\"ColumnDataSource\"}},\"id\":\"949ef9c1-2196-46de-8e73-75c97b5b81a8\",\"type\":\"CDSView\"},{\"attributes\":{\"callback\":null,\"data\":{},\"selected\":null,\"selection_policy\":null},\"id\":\"500e124f-366b-4c6b-96cc-f7ed2db8e02a\",\"type\":\"ColumnDataSource\"},{\"attributes\":{\"fill_color\":{\"value\":\"grey\"},\"line_color\":{\"value\":null},\"radius\":{\"units\":\"data\",\"value\":0.05},\"x\":{\"value\":1},\"y\":{\"value\":0.5}},\"id\":\"3ee2fb7a-0e2c-4336-ab50-f2e62f1ea002\",\"type\":\"Circle\"},{\"attributes\":{\"callback\":null,\"data\":{},\"selected\":null,\"selection_policy\":null},\"id\":\"34359adc-fff8-47a2-959f-03cb9eaf0bd6\",\"type\":\"ColumnDataSource\"},{\"attributes\":{\"fill_color\":{\"value\":\"grey\"},\"line_color\":{\"value\":null},\"size\":{\"units\":\"screen\",\"value\":15},\"x\":{\"value\":2},\"y\":{\"value\":0.5}},\"id\":\"7d04f960-abe2-4f70-9181-4708a2581174\",\"type\":\"Square\"},{\"attributes\":{\"data_source\":{\"id\":\"06ad26ad-92be-453a-95ca-aac8d0bf04f6\",\"type\":\"ColumnDataSource\"},\"glyph\":{\"id\":\"3ee2fb7a-0e2c-4336-ab50-f2e62f1ea002\",\"type\":\"Circle\"},\"hover_glyph\":null,\"muted_glyph\":null,\"nonselection_glyph\":{\"id\":\"b256409d-dfd0-430e-9268-555281b36ec0\",\"type\":\"Circle\"},\"selection_glyph\":null,\"view\":{\"id\":\"55839fcd-164c-42b6-8e4a-b74b3606fa61\",\"type\":\"CDSView\"}},\"id\":\"da92a08a-4c37-4639-8ebc-be53ea88962a\",\"type\":\"GlyphRenderer\"},{\"attributes\":{\"angle\":{\"units\":\"rad\",\"value\":45.0},\"fill_color\":{\"value\":\"grey\"},\"line_color\":{\"value\":null},\"size\":{\"units\":\"screen\",\"value\":15},\"x\":{\"value\":3},\"y\":{\"value\":0.5}},\"id\":\"6e284684-f734-4926-9cd1-2c5031d30572\",\"type\":\"Square\"},{\"attributes\":{\"fill_alpha\":{\"value\":0.1},\"fill_color\":{\"value\":\"#1f77b4\"},\"line_alpha\":{\"value\":0.1},\"line_color\":{\"value\":\"#1f77b4\"},\"size\":{\"units\":\"screen\",\"value\":15},\"x\":{\"value\":2},\"y\":{\"value\":0.5}},\"id\":\"162f01da-c302-41f7-a3ea-ebff6bed01eb\",\"type\":\"Square\"},{\"attributes\":{\"callback\":null,\"data\":{},\"selected\":null,\"selection_policy\":null},\"id\":\"53455799-9b28-4d90-a98e-9ebb8a061580\",\"type\":\"ColumnDataSource\"},{\"attributes\":{\"data_source\":{\"id\":\"34359adc-fff8-47a2-959f-03cb9eaf0bd6\",\"type\":\"ColumnDataSource\"},\"glyph\":{\"id\":\"7d04f960-abe2-4f70-9181-4708a2581174\",\"type\":\"Square\"},\"hover_glyph\":null,\"muted_glyph\":null,\"nonselection_glyph\":{\"id\":\"162f01da-c302-41f7-a3ea-ebff6bed01eb\",\"type\":\"Square\"},\"selection_glyph\":null,\"view\":{\"id\":\"d58606f9-69a9-4d54-96f0-0f3c4eeea380\",\"type\":\"CDSView\"}},\"id\":\"2a183015-e489-4051-8b50-2cd42a66673d\",\"type\":\"GlyphRenderer\"},{\"attributes\":{\"source\":{\"id\":\"34359adc-fff8-47a2-959f-03cb9eaf0bd6\",\"type\":\"ColumnDataSource\"}},\"id\":\"d58606f9-69a9-4d54-96f0-0f3c4eeea380\",\"type\":\"CDSView\"},{\"attributes\":{\"fill_color\":{\"value\":\"grey\"},\"line_color\":{\"value\":null},\"size\":{\"units\":\"screen\",\"value\":20},\"x\":{\"value\":4},\"y\":{\"value\":0.5}},\"id\":\"a800b716-49be-49fd-9396-4c3ccbbea79f\",\"type\":\"Triangle\"},{\"attributes\":{\"angle\":{\"units\":\"rad\",\"value\":45.0},\"fill_alpha\":{\"value\":0.1},\"fill_color\":{\"value\":\"#1f77b4\"},\"line_alpha\":{\"value\":0.1},\"line_color\":{\"value\":\"#1f77b4\"},\"size\":{\"units\":\"screen\",\"value\":15},\"x\":{\"value\":3},\"y\":{\"value\":0.5}},\"id\":\"35f24ec1-1176-4d9e-9ad1-b9ece3b7941e\",\"type\":\"Square\"},{\"attributes\":{\"callback\":null,\"data\":{},\"selected\":null,\"selection_policy\":null},\"id\":\"d250f2c7-0f78-4fb8-96f1-e9f8580cebb9\",\"type\":\"ColumnDataSource\"},{\"attributes\":{\"data_source\":{\"id\":\"500e124f-366b-4c6b-96cc-f7ed2db8e02a\",\"type\":\"ColumnDataSource\"},\"glyph\":{\"id\":\"6e284684-f734-4926-9cd1-2c5031d30572\",\"type\":\"Square\"},\"hover_glyph\":null,\"muted_glyph\":null,\"nonselection_glyph\":{\"id\":\"35f24ec1-1176-4d9e-9ad1-b9ece3b7941e\",\"type\":\"Square\"},\"selection_glyph\":null,\"view\":{\"id\":\"0ebae84b-4608-44d2-aca6-fe4037208aa3\",\"type\":\"CDSView\"}},\"id\":\"4f3afe77-a6fc-4b4b-b695-cc62cf69f516\",\"type\":\"GlyphRenderer\"},{\"attributes\":{\"source\":{\"id\":\"500e124f-366b-4c6b-96cc-f7ed2db8e02a\",\"type\":\"ColumnDataSource\"}},\"id\":\"0ebae84b-4608-44d2-aca6-fe4037208aa3\",\"type\":\"CDSView\"},{\"attributes\":{\"fill_color\":{\"value\":\"#0082A6\"},\"line_color\":{\"value\":null},\"size\":{\"units\":\"screen\",\"value\":15},\"x\":{\"value\":1},\"y\":{\"value\":0.1}},\"id\":\"154a13c3-fe6f-40a8-a89d-df086748d342\",\"type\":\"Square\"},{\"attributes\":{\"fill_alpha\":{\"value\":0.1},\"fill_color\":{\"value\":\"#1f77b4\"},\"line_alpha\":{\"value\":0.1},\"line_color\":{\"value\":\"#1f77b4\"},\"size\":{\"units\":\"screen\",\"value\":20},\"x\":{\"value\":4},\"y\":{\"value\":0.5}},\"id\":\"e85b749d-d251-4415-b43b-7845799eb315\",\"type\":\"Triangle\"},{\"attributes\":{\"callback\":null,\"data\":{},\"selected\":null,\"selection_policy\":null},\"id\":\"6dc6ecf0-6eb3-4101-a153-208454342de5\",\"type\":\"ColumnDataSource\"},{\"attributes\":{\"data_source\":{\"id\":\"53455799-9b28-4d90-a98e-9ebb8a061580\",\"type\":\"ColumnDataSource\"},\"glyph\":{\"id\":\"a800b716-49be-49fd-9396-4c3ccbbea79f\",\"type\":\"Triangle\"},\"hover_glyph\":null,\"muted_glyph\":null,\"nonselection_glyph\":{\"id\":\"e85b749d-d251-4415-b43b-7845799eb315\",\"type\":\"Triangle\"},\"selection_glyph\":null,\"view\":{\"id\":\"f015c7af-6aa1-4347-8ef4-b76996ba7a81\",\"type\":\"CDSView\"}},\"id\":\"da516683-fc90-4b6a-939e-cb374c8d9cf1\",\"type\":\"GlyphRenderer\"},{\"attributes\":{\"source\":{\"id\":\"53455799-9b28-4d90-a98e-9ebb8a061580\",\"type\":\"ColumnDataSource\"}},\"id\":\"f015c7af-6aa1-4347-8ef4-b76996ba7a81\",\"type\":\"CDSView\"},{\"attributes\":{\"fill_color\":{\"value\":\"#4EBBB9\"},\"line_color\":{\"value\":null},\"size\":{\"units\":\"screen\",\"value\":15},\"x\":{\"value\":2},\"y\":{\"value\":0.1}},\"id\":\"5ad38a8b-7b86-4b2a-96a4-8612090af39a\",\"type\":\"Square\"},{\"attributes\":{\"fill_alpha\":{\"value\":0.1},\"fill_color\":{\"value\":\"#1f77b4\"},\"line_alpha\":{\"value\":0.1},\"line_color\":{\"value\":\"#1f77b4\"},\"size\":{\"units\":\"screen\",\"value\":15},\"x\":{\"value\":1},\"y\":{\"value\":0.1}},\"id\":\"e57bfc23-20f1-41a8-9616-eca11a10880a\",\"type\":\"Square\"},{\"attributes\":{\"callback\":null,\"data\":{},\"selected\":null,\"selection_policy\":null},\"id\":\"64eb0761-a322-4d00-8086-2d31b79d527e\",\"type\":\"ColumnDataSource\"},{\"attributes\":{\"data_source\":{\"id\":\"d250f2c7-0f78-4fb8-96f1-e9f8580cebb9\",\"type\":\"ColumnDataSource\"},\"glyph\":{\"id\":\"154a13c3-fe6f-40a8-a89d-df086748d342\",\"type\":\"Square\"},\"hover_glyph\":null,\"muted_glyph\":null,\"nonselection_glyph\":{\"id\":\"e57bfc23-20f1-41a8-9616-eca11a10880a\",\"type\":\"Square\"},\"selection_glyph\":null,\"view\":{\"id\":\"ec1789d7-8074-4fa1-bb44-83024e216b70\",\"type\":\"CDSView\"}},\"id\":\"4bbe787b-ce6b-4639-9afd-3df4473870e1\",\"type\":\"GlyphRenderer\"},{\"attributes\":{\"source\":{\"id\":\"d250f2c7-0f78-4fb8-96f1-e9f8580cebb9\",\"type\":\"ColumnDataSource\"}},\"id\":\"ec1789d7-8074-4fa1-bb44-83024e216b70\",\"type\":\"CDSView\"},{\"attributes\":{\"fill_color\":{\"value\":\"#9CDFC2\"},\"line_color\":{\"value\":null},\"size\":{\"units\":\"screen\",\"value\":15},\"x\":{\"value\":3},\"y\":{\"value\":0.1}},\"id\":\"ce914be8-9a5b-45de-9e5e-b21fd16ced60\",\"type\":\"Square\"},{\"attributes\":{\"fill_alpha\":{\"value\":0.1},\"fill_color\":{\"value\":\"#1f77b4\"},\"line_alpha\":{\"value\":0.1},\"line_color\":{\"value\":\"#1f77b4\"},\"size\":{\"units\":\"screen\",\"value\":15},\"x\":{\"value\":2},\"y\":{\"value\":0.1}},\"id\":\"94423163-b340-4b01-a177-effe819dfae3\",\"type\":\"Square\"},{\"attributes\":{\"callback\":null,\"data\":{},\"selected\":null,\"selection_policy\":null},\"id\":\"e62ecfe8-9db3-48d0-bb8e-c515b2a8c03f\",\"type\":\"ColumnDataSource\"},{\"attributes\":{\"data_source\":{\"id\":\"6dc6ecf0-6eb3-4101-a153-208454342de5\",\"type\":\"ColumnDataSource\"},\"glyph\":{\"id\":\"5ad38a8b-7b86-4b2a-96a4-8612090af39a\",\"type\":\"Square\"},\"hover_glyph\":null,\"muted_glyph\":null,\"nonselection_glyph\":{\"id\":\"94423163-b340-4b01-a177-effe819dfae3\",\"type\":\"Square\"},\"selection_glyph\":null,\"view\":{\"id\":\"41660dba-b4a4-49db-9db6-89439185f59e\",\"type\":\"CDSView\"}},\"id\":\"13d68e73-6ef8-480c-98a5-5a7c528b1f38\",\"type\":\"GlyphRenderer\"},{\"attributes\":{\"source\":{\"id\":\"6dc6ecf0-6eb3-4101-a153-208454342de5\",\"type\":\"ColumnDataSource\"}},\"id\":\"41660dba-b4a4-49db-9db6-89439185f59e\",\"type\":\"CDSView\"},{\"attributes\":{\"fill_color\":{\"value\":\"#D8F0CD\"},\"line_color\":{\"value\":null},\"size\":{\"units\":\"screen\",\"value\":15},\"x\":{\"value\":4},\"y\":{\"value\":0.1}},\"id\":\"dd142225-cebb-4f1d-8102-9e73b3d4563d\",\"type\":\"Square\"},{\"attributes\":{\"fill_alpha\":{\"value\":0.1},\"fill_color\":{\"value\":\"#1f77b4\"},\"line_alpha\":{\"value\":0.1},\"line_color\":{\"value\":\"#1f77b4\"},\"size\":{\"units\":\"screen\",\"value\":15},\"x\":{\"value\":3},\"y\":{\"value\":0.1}},\"id\":\"e6a9e85f-bdc7-4364-b983-c9837f32a94c\",\"type\":\"Square\"},{\"attributes\":{\"plot\":{\"id\":\"c0eaaa89-749a-4f19-be1d-1c86e10bcbe3\",\"subtype\":\"Figure\",\"type\":\"Plot\"},\"text\":\"position\",\"x\":1,\"y\":0.8},\"id\":\"0ec60d63-c5b9-4809-9e86-89d289a7ee7c\",\"type\":\"Label\"},{\"attributes\":{\"data_source\":{\"id\":\"64eb0761-a322-4d00-8086-2d31b79d527e\",\"type\":\"ColumnDataSource\"},\"glyph\":{\"id\":\"ce914be8-9a5b-45de-9e5e-b21fd16ced60\",\"type\":\"Square\"},\"hover_glyph\":null,\"muted_glyph\":null,\"nonselection_glyph\":{\"id\":\"e6a9e85f-bdc7-4364-b983-c9837f32a94c\",\"type\":\"Square\"},\"selection_glyph\":null,\"view\":{\"id\":\"22914f55-0aee-4d06-8a26-43cae7e2a5f5\",\"type\":\"CDSView\"}},\"id\":\"f7c333e2-6538-4007-99a0-09c52d301bec\",\"type\":\"GlyphRenderer\"},{\"attributes\":{\"line_alpha\":0.1,\"line_color\":\"#1f77b4\",\"x\":{\"field\":\"x\"},\"y\":{\"value\":0.9}},\"id\":\"6bf4e336-63cb-4b61-a996-24b2f055f67f\",\"type\":\"Line\"},{\"attributes\":{\"source\":{\"id\":\"64eb0761-a322-4d00-8086-2d31b79d527e\",\"type\":\"ColumnDataSource\"}},\"id\":\"22914f55-0aee-4d06-8a26-43cae7e2a5f5\",\"type\":\"CDSView\"},{\"attributes\":{\"plot\":{\"id\":\"c0eaaa89-749a-4f19-be1d-1c86e10bcbe3\",\"subtype\":\"Figure\",\"type\":\"Plot\"},\"text\":\"colour\",\"x\":1,\"y\":0.0},\"id\":\"21a3afa2-ea5b-4500-9b58-059c680f667e\",\"type\":\"Label\"},{\"attributes\":{\"callback\":null,\"column_names\":[\"x\"],\"data\":{\"x\":[1,4]},\"selected\":null,\"selection_policy\":null},\"id\":\"bfed650e-b229-42af-95a4-a6a103586597\",\"type\":\"ColumnDataSource\"},{\"attributes\":{\"fill_alpha\":{\"value\":0.1},\"fill_color\":{\"value\":\"#1f77b4\"},\"line_alpha\":{\"value\":0.1},\"line_color\":{\"value\":\"#1f77b4\"},\"size\":{\"units\":\"screen\",\"value\":15},\"x\":{\"value\":4},\"y\":{\"value\":0.1}},\"id\":\"61147832-48f6-4034-9a41-29c0beb1a787\",\"type\":\"Square\"},{\"attributes\":{\"bounds\":[0,1],\"callback\":null},\"id\":\"65aede87-5ede-493c-9d3a-5ebc0856fbe2\",\"type\":\"Range1d\"},{\"attributes\":{\"plot\":{\"id\":\"c0eaaa89-749a-4f19-be1d-1c86e10bcbe3\",\"subtype\":\"Figure\",\"type\":\"Plot\"},\"text\":\"shape\",\"x\":1,\"y\":0.4},\"id\":\"a77232a7-7b2e-43d9-86fa-e8e927f7e5ee\",\"type\":\"Label\"},{\"attributes\":{\"data_source\":{\"id\":\"e62ecfe8-9db3-48d0-bb8e-c515b2a8c03f\",\"type\":\"ColumnDataSource\"},\"glyph\":{\"id\":\"dd142225-cebb-4f1d-8102-9e73b3d4563d\",\"type\":\"Square\"},\"hover_glyph\":null,\"muted_glyph\":null,\"nonselection_glyph\":{\"id\":\"61147832-48f6-4034-9a41-29c0beb1a787\",\"type\":\"Square\"},\"selection_glyph\":null,\"view\":{\"id\":\"08ebbbac-6b51-4f6e-ad1e-2209b9c707c6\",\"type\":\"CDSView\"}},\"id\":\"ea2cbf04-f5b1-4dc5-9a6a-f2a8dfa67eb8\",\"type\":\"GlyphRenderer\"},{\"attributes\":{},\"id\":\"513872f6-126a-4fbb-accc-4b3ac711cd85\",\"type\":\"BasicTickFormatter\"},{\"attributes\":{\"formatter\":{\"id\":\"513872f6-126a-4fbb-accc-4b3ac711cd85\",\"type\":\"BasicTickFormatter\"},\"minor_tick_line_color\":{\"value\":null},\"plot\":{\"id\":\"c0eaaa89-749a-4f19-be1d-1c86e10bcbe3\",\"subtype\":\"Figure\",\"type\":\"Plot\"},\"ticker\":{\"id\":\"4d24f385-64a8-4029-ae9e-2f437f04f058\",\"type\":\"BasicTicker\"}},\"id\":\"779dc5e1-8caa-445f-b666-8867d181c30f\",\"type\":\"LinearAxis\"},{\"attributes\":{\"source\":{\"id\":\"e62ecfe8-9db3-48d0-bb8e-c515b2a8c03f\",\"type\":\"ColumnDataSource\"}},\"id\":\"08ebbbac-6b51-4f6e-ad1e-2209b9c707c6\",\"type\":\"CDSView\"},{\"attributes\":{},\"id\":\"4d24f385-64a8-4029-ae9e-2f437f04f058\",\"type\":\"BasicTicker\"},{\"attributes\":{\"above\":[{\"id\":\"779dc5e1-8caa-445f-b666-8867d181c30f\",\"type\":\"LinearAxis\"}],\"left\":[{\"id\":\"e6c09cfe-3a3d-44d4-9912-d00d66cf6a75\",\"type\":\"LinearAxis\"}],\"plot_height\":300,\"plot_width\":400,\"renderers\":[{\"id\":\"779dc5e1-8caa-445f-b666-8867d181c30f\",\"type\":\"LinearAxis\"},{\"id\":\"ffaf7c1f-8e35-4fbc-a5cb-abf177d1481e\",\"type\":\"Grid\"},{\"id\":\"e6c09cfe-3a3d-44d4-9912-d00d66cf6a75\",\"type\":\"LinearAxis\"},{\"id\":\"9914322e-f699-4ce6-984c-c490f064ab3c\",\"type\":\"Grid\"},{\"id\":\"01baa5a8-c1a1-44cb-bce2-5899eea0a02d\",\"type\":\"BoxAnnotation\"},{\"id\":\"7f62536e-993d-4cf6-b585-9d111b39681f\",\"type\":\"GlyphRenderer\"},{\"id\":\"590c2a7f-6a90-4632-a58e-fc2bfa89c758\",\"type\":\"GlyphRenderer\"},{\"id\":\"da92a08a-4c37-4639-8ebc-be53ea88962a\",\"type\":\"GlyphRenderer\"},{\"id\":\"2a183015-e489-4051-8b50-2cd42a66673d\",\"type\":\"GlyphRenderer\"},{\"id\":\"4f3afe77-a6fc-4b4b-b695-cc62cf69f516\",\"type\":\"GlyphRenderer\"},{\"id\":\"da516683-fc90-4b6a-939e-cb374c8d9cf1\",\"type\":\"GlyphRenderer\"},{\"id\":\"4bbe787b-ce6b-4639-9afd-3df4473870e1\",\"type\":\"GlyphRenderer\"},{\"id\":\"13d68e73-6ef8-480c-98a5-5a7c528b1f38\",\"type\":\"GlyphRenderer\"},{\"id\":\"f7c333e2-6538-4007-99a0-09c52d301bec\",\"type\":\"GlyphRenderer\"},{\"id\":\"ea2cbf04-f5b1-4dc5-9a6a-f2a8dfa67eb8\",\"type\":\"GlyphRenderer\"},{\"id\":\"0ec60d63-c5b9-4809-9e86-89d289a7ee7c\",\"type\":\"Label\"},{\"id\":\"a77232a7-7b2e-43d9-86fa-e8e927f7e5ee\",\"type\":\"Label\"},{\"id\":\"21a3afa2-ea5b-4500-9b58-059c680f667e\",\"type\":\"Label\"}],\"title\":{\"id\":\"f25bcc8b-645a-488d-bc05-e5764288f0ba\",\"type\":\"Title\"},\"toolbar\":{\"id\":\"ce2f27ef-a7fb-4667-b0f2-ab2616c9b1c0\",\"type\":\"Toolbar\"},\"x_range\":{\"id\":\"4f3d44f1-e1e3-4251-acab-328b09478255\",\"type\":\"DataRange1d\"},\"x_scale\":{\"id\":\"9522e934-3279-482b-91c1-f2048d42ee99\",\"type\":\"LinearScale\"},\"y_range\":{\"id\":\"65aede87-5ede-493c-9d3a-5ebc0856fbe2\",\"type\":\"Range1d\"},\"y_scale\":{\"id\":\"73ecd092-4dc5-4a95-91c3-40eb0ca2a40b\",\"type\":\"LinearScale\"}},\"id\":\"c0eaaa89-749a-4f19-be1d-1c86e10bcbe3\",\"subtype\":\"Figure\",\"type\":\"Plot\"},{\"attributes\":{\"callback\":null},\"id\":\"4f3d44f1-e1e3-4251-acab-328b09478255\",\"type\":\"DataRange1d\"},{\"attributes\":{\"plot\":null,\"text\":\"Figure 1.2 - Scales\"},\"id\":\"f25bcc8b-645a-488d-bc05-e5764288f0ba\",\"type\":\"Title\"},{\"attributes\":{\"active_drag\":\"auto\",\"active_inspect\":\"auto\",\"active_scroll\":\"auto\",\"active_tap\":\"auto\",\"tools\":[{\"id\":\"1124b2b4-2a4e-48b9-bde7-902922fcb530\",\"type\":\"PanTool\"},{\"id\":\"ef5d436f-5c87-4286-b6c5-ac473c7ecc69\",\"type\":\"WheelZoomTool\"},{\"id\":\"4f240fe2-5cc6-4048-a3aa-e84a6d7bb9e8\",\"type\":\"BoxZoomTool\"},{\"id\":\"ba06fa7a-306b-445b-9037-0280dd8fba08\",\"type\":\"SaveTool\"},{\"id\":\"51cc0b13-3728-4231-991a-051e91588084\",\"type\":\"ResetTool\"},{\"id\":\"d7f0e374-d79e-4c70-b97d-5ffe72038800\",\"type\":\"HelpTool\"}]},\"id\":\"ce2f27ef-a7fb-4667-b0f2-ab2616c9b1c0\",\"type\":\"Toolbar\"},{\"attributes\":{\"data_source\":{\"id\":\"bfed650e-b229-42af-95a4-a6a103586597\",\"type\":\"ColumnDataSource\"},\"glyph\":{\"id\":\"13ee28ce-ccaf-4a62-acf1-35f3e4cba978\",\"type\":\"Line\"},\"hover_glyph\":null,\"muted_glyph\":null,\"nonselection_glyph\":{\"id\":\"6bf4e336-63cb-4b61-a996-24b2f055f67f\",\"type\":\"Line\"},\"selection_glyph\":null,\"view\":{\"id\":\"b3c20088-35ca-40a2-a8ca-43bb099358c0\",\"type\":\"CDSView\"}},\"id\":\"7f62536e-993d-4cf6-b585-9d111b39681f\",\"type\":\"GlyphRenderer\"},{\"attributes\":{},\"id\":\"73ecd092-4dc5-4a95-91c3-40eb0ca2a40b\",\"type\":\"LinearScale\"},{\"attributes\":{},\"id\":\"9522e934-3279-482b-91c1-f2048d42ee99\",\"type\":\"LinearScale\"},{\"attributes\":{\"grid_line_color\":{\"value\":null},\"plot\":{\"id\":\"c0eaaa89-749a-4f19-be1d-1c86e10bcbe3\",\"subtype\":\"Figure\",\"type\":\"Plot\"},\"ticker\":{\"id\":\"4d24f385-64a8-4029-ae9e-2f437f04f058\",\"type\":\"BasicTicker\"}},\"id\":\"ffaf7c1f-8e35-4fbc-a5cb-abf177d1481e\",\"type\":\"Grid\"},{\"attributes\":{\"formatter\":{\"id\":\"b1a84223-92f5-4672-ae69-be60c3d2df3d\",\"type\":\"BasicTickFormatter\"},\"plot\":{\"id\":\"c0eaaa89-749a-4f19-be1d-1c86e10bcbe3\",\"subtype\":\"Figure\",\"type\":\"Plot\"},\"ticker\":{\"id\":\"4385b38d-9488-4a8e-b021-6502cadfb730\",\"type\":\"BasicTicker\"},\"visible\":false},\"id\":\"e6c09cfe-3a3d-44d4-9912-d00d66cf6a75\",\"type\":\"LinearAxis\"},{\"attributes\":{},\"id\":\"4385b38d-9488-4a8e-b021-6502cadfb730\",\"type\":\"BasicTicker\"},{\"attributes\":{\"dimension\":1,\"grid_line_color\":{\"value\":null},\"plot\":{\"id\":\"c0eaaa89-749a-4f19-be1d-1c86e10bcbe3\",\"subtype\":\"Figure\",\"type\":\"Plot\"},\"ticker\":{\"id\":\"4385b38d-9488-4a8e-b021-6502cadfb730\",\"type\":\"BasicTicker\"}},\"id\":\"9914322e-f699-4ce6-984c-c490f064ab3c\",\"type\":\"Grid\"},{\"attributes\":{\"line_color\":\"#1f77b4\",\"x\":{\"field\":\"x\"},\"y\":{\"value\":0.9}},\"id\":\"13ee28ce-ccaf-4a62-acf1-35f3e4cba978\",\"type\":\"Line\"},{\"attributes\":{\"callback\":null,\"data\":{},\"selected\":null,\"selection_policy\":null},\"id\":\"06ad26ad-92be-453a-95ca-aac8d0bf04f6\",\"type\":\"ColumnDataSource\"},{\"attributes\":{\"source\":{\"id\":\"bfed650e-b229-42af-95a4-a6a103586597\",\"type\":\"ColumnDataSource\"}},\"id\":\"b3c20088-35ca-40a2-a8ca-43bb099358c0\",\"type\":\"CDSView\"},{\"attributes\":{},\"id\":\"1124b2b4-2a4e-48b9-bde7-902922fcb530\",\"type\":\"PanTool\"},{\"attributes\":{},\"id\":\"d7f0e374-d79e-4c70-b97d-5ffe72038800\",\"type\":\"HelpTool\"},{\"attributes\":{},\"id\":\"ef5d436f-5c87-4286-b6c5-ac473c7ecc69\",\"type\":\"WheelZoomTool\"},{\"attributes\":{\"overlay\":{\"id\":\"01baa5a8-c1a1-44cb-bce2-5899eea0a02d\",\"type\":\"BoxAnnotation\"}},\"id\":\"4f240fe2-5cc6-4048-a3aa-e84a6d7bb9e8\",\"type\":\"BoxZoomTool\"},{\"attributes\":{},\"id\":\"ba06fa7a-306b-445b-9037-0280dd8fba08\",\"type\":\"SaveTool\"},{\"attributes\":{},\"id\":\"51cc0b13-3728-4231-991a-051e91588084\",\"type\":\"ResetTool\"}],\"root_ids\":[\"c0eaaa89-749a-4f19-be1d-1c86e10bcbe3\"]},\"title\":\"Bokeh Application\",\"version\":\"0.12.15\"}};\n",
       "  var render_items = [{\"docid\":\"c8471b63-3fcb-4817-bd49-90fabdbddcde\",\"elementid\":\"33c5c65c-0ca8-4bfb-afd0-85daf7f26446\",\"modelid\":\"c0eaaa89-749a-4f19-be1d-1c86e10bcbe3\"}];\n",
       "  root.Bokeh.embed.embed_items_notebook(docs_json, render_items);\n",
       "\n",
       "  }\n",
       "  if (root.Bokeh !== undefined) {\n",
       "    embed_document(root);\n",
       "  } else {\n",
       "    var attempts = 0;\n",
       "    var timer = setInterval(function(root) {\n",
       "      if (root.Bokeh !== undefined) {\n",
       "        embed_document(root);\n",
       "        clearInterval(timer);\n",
       "      }\n",
       "      attempts++;\n",
       "      if (attempts > 100) {\n",
       "        console.log(\"Bokeh: ERROR: Unable to run BokehJS code because BokehJS library is missing\")\n",
       "        clearInterval(timer);\n",
       "      }\n",
       "    }, 10, root)\n",
       "  }\n",
       "})(window);"
      ],
      "application/vnd.bokehjs_exec.v0+json": ""
     },
     "metadata": {
      "application/vnd.bokehjs_exec.v0+json": {
       "id": "c0eaaa89-749a-4f19-be1d-1c86e10bcbe3"
      }
     },
     "output_type": "display_data"
    }
   ],
   "source": [
    "fig12 = figure(plot_height=300, plot_width=400, title=\"Figure 1.2 - Scales\", x_axis_location=\"above\",\n",
    "               y_range=Range1d(bounds=(0, 1)))\n",
    "\n",
    "fig12.line(x=[1, 4], y=0.9)\n",
    "\n",
    "fig12.grid.grid_line_color = None\n",
    "\n",
    "fig12.circle(x=list(range(1, 5)), y=0.9, radius=0.03, fill_color=\"blue\")\n",
    "\n",
    "fig12.xaxis.minor_tick_line_color = None\n",
    "fig12.yaxis.visible = False\n",
    "\n",
    "fig12.circle(x=1, y=0.5, fill_color=\"grey\", radius=0.05, line_color=None)\n",
    "fig12.square(x=2, y=0.5, fill_color=\"grey\", size=15, line_color=None)\n",
    "fig12.square(x=3, y=0.5, fill_color=\"grey\", size=15, line_color=None, angle=45.0)\n",
    "fig12.triangle(x=4, y=0.5, fill_color=\"grey\", size=20, line_color=None)\n",
    "\n",
    "fig12.square(x=1, y=0.1, fill_color=\"#0082A6\", size=15, line_color=None)\n",
    "\n",
    "fig12.square(x=2, y=0.1, fill_color=\"#4EBBB9\", size=15, line_color=None)\n",
    "fig12.square(x=3, y=0.1, fill_color=\"#9CDFC2\", size=15, line_color=None)\n",
    "fig12.square(x=4, y=0.1, fill_color=\"#D8F0CD\", size=15, line_color=None)\n",
    "fig12.add_layout(Label(x=1, y=0.8, text=\"position\"))\n",
    "fig12.add_layout(Label(x=1, y=0.4, text=\"shape\"))\n",
    "fig12.add_layout(Label(x=1, y=0.0, text=\"colour\"))\n",
    "show(fig12)"
   ]
  },
  {
   "cell_type": "code",
   "execution_count": null,
   "metadata": {},
   "outputs": [],
   "source": []
  },
  {
   "cell_type": "markdown",
   "metadata": {},
   "source": [
    "I couldn't find the dataset given in the book so I'll use a different one<br>\n",
    "source: https://github.com/zonination/weather-us"
   ]
  },
  {
   "cell_type": "code",
   "execution_count": 17,
   "metadata": {},
   "outputs": [],
   "source": [
    "houston = pd.read_csv(path/\"houston.csv\")\n",
    "houston = houston.loc[:, [\"Date\", \"city\", \"Mean.TemperatureF\"]]\n",
    "\n",
    "cleveland = pd.read_csv(path/\"cleveland.csv\")\n",
    "cleveland = cleveland.loc[:, [\"Date\", \"city\", \"Mean.TemperatureF\"]]\n",
    "\n",
    "losangeles = pd.read_csv(path/\"losangeles.csv\")\n",
    "losangeles = losangeles.loc[:, [\"Date\", \"city\", \"Mean.TemperatureF\"]]\n",
    "\n",
    "miami = pd.read_csv(path/\"miami.csv\")\n",
    "miami = miami.loc[:, [\"Date\", \"city\", \"Mean.TemperatureF\"]]"
   ]
  },
  {
   "cell_type": "code",
   "execution_count": 18,
   "metadata": {},
   "outputs": [],
   "source": [
    "base = houston.append(cleveland).append(losangeles).append(miami)"
   ]
  },
  {
   "cell_type": "code",
   "execution_count": 19,
   "metadata": {},
   "outputs": [],
   "source": [
    "base = base[base.Date.str[:4] == \"2015\"]"
   ]
  },
  {
   "cell_type": "code",
   "execution_count": 20,
   "metadata": {},
   "outputs": [],
   "source": [
    "base.Date = pd.to_numeric(base.Date.str[5:7])"
   ]
  },
  {
   "cell_type": "code",
   "execution_count": 21,
   "metadata": {},
   "outputs": [],
   "source": [
    "base = base.groupby([\"city\", \"Date\"], as_index=False)[\"Mean.TemperatureF\"].mean()"
   ]
  },
  {
   "cell_type": "code",
   "execution_count": 22,
   "metadata": {},
   "outputs": [],
   "source": [
    "fig13 = figure(plot_height=400, plot_width=800, title=\"Figure 1.3 - temperature in 2015\")"
   ]
  },
  {
   "cell_type": "code",
   "execution_count": 23,
   "metadata": {},
   "outputs": [],
   "source": [
    "fig13.xaxis.axis_label = \"Months in 2015\"\n",
    "fig13.yaxis.axis_label = \"Temperature (F)\""
   ]
  },
  {
   "cell_type": "code",
   "execution_count": 24,
   "metadata": {},
   "outputs": [],
   "source": [
    "# fig13.multi_line(xs=\"Date\", ys=\"Mean.TemperatureF\", legend=\"city\", source=ColumnDataSource(base))"
   ]
  },
  {
   "cell_type": "code",
   "execution_count": 25,
   "metadata": {},
   "outputs": [],
   "source": [
    "colours = [\"blue\", \"green\", \"yellow\", \"red\"]\n",
    "for i, city in enumerate(base.city.drop_duplicates()):\n",
    "    fig13.line(x=\"Date\", y=\"Mean.TemperatureF\", source=ColumnDataSource(base[base.city == city]), \n",
    "               legend=\"city\", line_color=colours[i], line_width=2)"
   ]
  },
  {
   "cell_type": "code",
   "execution_count": 26,
   "metadata": {},
   "outputs": [],
   "source": [
    "fig13.legend.location = (fig13.plot_width-250, 0)"
   ]
  },
  {
   "cell_type": "code",
   "execution_count": 27,
   "metadata": {},
   "outputs": [
    {
     "data": {
      "text/html": [
       "\n",
       "<div class=\"bk-root\">\n",
       "    <div class=\"bk-plotdiv\" id=\"935aaa6b-7e2d-489f-a528-cd3d31a12189\"></div>\n",
       "</div>"
      ]
     },
     "metadata": {},
     "output_type": "display_data"
    },
    {
     "data": {
      "application/javascript": [
       "(function(root) {\n",
       "  function embed_document(root) {\n",
       "    \n",
       "  var docs_json = {\"c6eb20e5-95b9-4a62-9136-5bde84b76863\":{\"roots\":{\"references\":[{\"attributes\":{\"source\":{\"id\":\"e21e4894-e1ca-4af5-9834-9dbe4234f10c\",\"type\":\"ColumnDataSource\"}},\"id\":\"dd7d35cf-2fd5-4dff-89d3-92e168180da4\",\"type\":\"CDSView\"},{\"attributes\":{},\"id\":\"c0a42271-a66a-410f-b2b8-7b28d22fdbf1\",\"type\":\"BasicTickFormatter\"},{\"attributes\":{},\"id\":\"25b2497a-5c10-4f5d-b7ea-e4f45d90f796\",\"type\":\"HelpTool\"},{\"attributes\":{\"callback\":null},\"id\":\"9c8b245e-3685-434e-b3e5-6ba3db2ad908\",\"type\":\"DataRange1d\"},{\"attributes\":{\"line_color\":\"green\",\"line_width\":2,\"x\":{\"field\":\"Date\"},\"y\":{\"field\":\"Mean.TemperatureF\"}},\"id\":\"a11d5be9-6be5-40ce-9062-3d8a1dfa6edb\",\"type\":\"Line\"},{\"attributes\":{},\"id\":\"b2875f97-fbf0-405e-9577-1afd8a97a6a5\",\"type\":\"ResetTool\"},{\"attributes\":{\"data_source\":{\"id\":\"da5d266f-3867-420a-b4cd-d066a412733c\",\"type\":\"ColumnDataSource\"},\"glyph\":{\"id\":\"e5a2891c-628c-4aeb-b1ea-1ba5db04f313\",\"type\":\"Line\"},\"hover_glyph\":null,\"muted_glyph\":null,\"nonselection_glyph\":{\"id\":\"ac00a6a4-2472-43d3-b29f-7dd99e7bd1bc\",\"type\":\"Line\"},\"selection_glyph\":null,\"view\":{\"id\":\"aecac5cd-5ff4-4cd8-8e67-fb976a627f2b\",\"type\":\"CDSView\"}},\"id\":\"64fbd0a6-e17e-42df-a147-d873a7b51d32\",\"type\":\"GlyphRenderer\"},{\"attributes\":{},\"id\":\"d82f19ba-551f-4cb4-9088-2f85a9daf112\",\"type\":\"SaveTool\"},{\"attributes\":{\"overlay\":{\"id\":\"e5d5c657-994f-43fd-9b8c-199b605c3da8\",\"type\":\"BoxAnnotation\"}},\"id\":\"261f82b3-1810-4d84-a125-a7778eab4fe7\",\"type\":\"BoxZoomTool\"},{\"attributes\":{},\"id\":\"82c4a7af-f206-49ab-ab27-d8fb2cd8ad27\",\"type\":\"LinearScale\"},{\"attributes\":{\"label\":{\"field\":\"city\"},\"renderers\":[{\"id\":\"58fcac8b-cb46-4586-a954-d189612b5863\",\"type\":\"GlyphRenderer\"}]},\"id\":\"42a093c9-5f12-4cb2-8f86-a4aeeb736d7b\",\"type\":\"LegendItem\"},{\"attributes\":{\"line_alpha\":0.1,\"line_color\":\"#1f77b4\",\"line_width\":2,\"x\":{\"field\":\"Date\"},\"y\":{\"field\":\"Mean.TemperatureF\"}},\"id\":\"fff39c50-1562-489a-8a85-44a41c05c254\",\"type\":\"Line\"},{\"attributes\":{\"bottom_units\":\"screen\",\"fill_alpha\":{\"value\":0.5},\"fill_color\":{\"value\":\"lightgrey\"},\"left_units\":\"screen\",\"level\":\"overlay\",\"line_alpha\":{\"value\":1.0},\"line_color\":{\"value\":\"black\"},\"line_dash\":[4,4],\"line_width\":{\"value\":2},\"plot\":null,\"render_mode\":\"css\",\"right_units\":\"screen\",\"top_units\":\"screen\"},\"id\":\"e5d5c657-994f-43fd-9b8c-199b605c3da8\",\"type\":\"BoxAnnotation\"},{\"attributes\":{\"data_source\":{\"id\":\"3ef8b718-14e0-49de-800c-3daf4e25341d\",\"type\":\"ColumnDataSource\"},\"glyph\":{\"id\":\"73a49e5a-e8c1-40fc-830c-819348a24ff8\",\"type\":\"Line\"},\"hover_glyph\":null,\"muted_glyph\":null,\"nonselection_glyph\":{\"id\":\"fff39c50-1562-489a-8a85-44a41c05c254\",\"type\":\"Line\"},\"selection_glyph\":null,\"view\":{\"id\":\"c1f76383-a888-44c7-bd7e-07f00eb54659\",\"type\":\"CDSView\"}},\"id\":\"58fcac8b-cb46-4586-a954-d189612b5863\",\"type\":\"GlyphRenderer\"},{\"attributes\":{},\"id\":\"513e80d1-9770-4068-ad9d-2ec6bd681eab\",\"type\":\"PanTool\"},{\"attributes\":{\"below\":[{\"id\":\"14b06590-21ba-4d4b-a3aa-843dd3338a5a\",\"type\":\"LinearAxis\"}],\"left\":[{\"id\":\"f15d1871-a561-421a-8504-76c55a294145\",\"type\":\"LinearAxis\"}],\"plot_height\":400,\"plot_width\":800,\"renderers\":[{\"id\":\"14b06590-21ba-4d4b-a3aa-843dd3338a5a\",\"type\":\"LinearAxis\"},{\"id\":\"d7a6bf4f-c914-45d7-8ed8-caeebcec7663\",\"type\":\"Grid\"},{\"id\":\"f15d1871-a561-421a-8504-76c55a294145\",\"type\":\"LinearAxis\"},{\"id\":\"91bbcb47-525d-4ad5-89af-1c9d5732fb57\",\"type\":\"Grid\"},{\"id\":\"e5d5c657-994f-43fd-9b8c-199b605c3da8\",\"type\":\"BoxAnnotation\"},{\"id\":\"dc81be0a-16bb-416d-a4e1-8ac30011fe39\",\"type\":\"Legend\"},{\"id\":\"64fbd0a6-e17e-42df-a147-d873a7b51d32\",\"type\":\"GlyphRenderer\"},{\"id\":\"376cfefb-4d32-4123-b2c6-ad95058c9533\",\"type\":\"GlyphRenderer\"},{\"id\":\"6c53a9a8-8a62-4c06-9617-40550d1e6185\",\"type\":\"GlyphRenderer\"},{\"id\":\"58fcac8b-cb46-4586-a954-d189612b5863\",\"type\":\"GlyphRenderer\"}],\"title\":{\"id\":\"93debd99-d2d2-45c0-9ed0-fe20e40d3602\",\"type\":\"Title\"},\"toolbar\":{\"id\":\"12932b96-a75e-49dd-8ea6-0d9834b58000\",\"type\":\"Toolbar\"},\"x_range\":{\"id\":\"6caa4953-7607-410e-8255-7e95d9d54378\",\"type\":\"DataRange1d\"},\"x_scale\":{\"id\":\"82c4a7af-f206-49ab-ab27-d8fb2cd8ad27\",\"type\":\"LinearScale\"},\"y_range\":{\"id\":\"9c8b245e-3685-434e-b3e5-6ba3db2ad908\",\"type\":\"DataRange1d\"},\"y_scale\":{\"id\":\"7dd42825-0165-4fcb-b60f-366253a02531\",\"type\":\"LinearScale\"}},\"id\":\"9ff91408-aaea-41b6-b6f4-f6e776535479\",\"subtype\":\"Figure\",\"type\":\"Plot\"},{\"attributes\":{\"source\":{\"id\":\"3ef8b718-14e0-49de-800c-3daf4e25341d\",\"type\":\"ColumnDataSource\"}},\"id\":\"c1f76383-a888-44c7-bd7e-07f00eb54659\",\"type\":\"CDSView\"},{\"attributes\":{},\"id\":\"b403da98-a154-40a0-8991-61ce6f5e9cdb\",\"type\":\"WheelZoomTool\"},{\"attributes\":{\"source\":{\"id\":\"9e351ee9-6f06-4c6b-96ee-d9851c109733\",\"type\":\"ColumnDataSource\"}},\"id\":\"5d6926dc-091d-4900-ab0a-8fd7e3d2ccca\",\"type\":\"CDSView\"},{\"attributes\":{\"label\":{\"field\":\"city\"},\"renderers\":[{\"id\":\"6c53a9a8-8a62-4c06-9617-40550d1e6185\",\"type\":\"GlyphRenderer\"}]},\"id\":\"fc1be2ab-31f7-4935-8f24-afaba2a77a44\",\"type\":\"LegendItem\"},{\"attributes\":{\"axis_label\":\"Temperature (F)\",\"formatter\":{\"id\":\"950863e7-8c14-4402-827a-b74b3f3a79a4\",\"type\":\"BasicTickFormatter\"},\"plot\":{\"id\":\"9ff91408-aaea-41b6-b6f4-f6e776535479\",\"subtype\":\"Figure\",\"type\":\"Plot\"},\"ticker\":{\"id\":\"0ad0d7fc-a2e3-4767-9ff9-57217f5c6836\",\"type\":\"BasicTicker\"}},\"id\":\"f15d1871-a561-421a-8504-76c55a294145\",\"type\":\"LinearAxis\"},{\"attributes\":{\"data_source\":{\"id\":\"9e351ee9-6f06-4c6b-96ee-d9851c109733\",\"type\":\"ColumnDataSource\"},\"glyph\":{\"id\":\"59a6fb39-ff13-4016-9fc6-29d6912b97c2\",\"type\":\"Line\"},\"hover_glyph\":null,\"muted_glyph\":null,\"nonselection_glyph\":{\"id\":\"ccd62058-b928-4950-849d-0d91480d2379\",\"type\":\"Line\"},\"selection_glyph\":null,\"view\":{\"id\":\"5d6926dc-091d-4900-ab0a-8fd7e3d2ccca\",\"type\":\"CDSView\"}},\"id\":\"6c53a9a8-8a62-4c06-9617-40550d1e6185\",\"type\":\"GlyphRenderer\"},{\"attributes\":{},\"id\":\"0ad0d7fc-a2e3-4767-9ff9-57217f5c6836\",\"type\":\"BasicTicker\"},{\"attributes\":{\"source\":{\"id\":\"da5d266f-3867-420a-b4cd-d066a412733c\",\"type\":\"ColumnDataSource\"}},\"id\":\"aecac5cd-5ff4-4cd8-8e67-fb976a627f2b\",\"type\":\"CDSView\"},{\"attributes\":{\"line_color\":\"red\",\"line_width\":2,\"x\":{\"field\":\"Date\"},\"y\":{\"field\":\"Mean.TemperatureF\"}},\"id\":\"73a49e5a-e8c1-40fc-830c-819348a24ff8\",\"type\":\"Line\"},{\"attributes\":{\"axis_label\":\"Months in 2015\",\"formatter\":{\"id\":\"c0a42271-a66a-410f-b2b8-7b28d22fdbf1\",\"type\":\"BasicTickFormatter\"},\"plot\":{\"id\":\"9ff91408-aaea-41b6-b6f4-f6e776535479\",\"subtype\":\"Figure\",\"type\":\"Plot\"},\"ticker\":{\"id\":\"7128a43a-b1ac-44cc-8785-06f011fc1937\",\"type\":\"BasicTicker\"}},\"id\":\"14b06590-21ba-4d4b-a3aa-843dd3338a5a\",\"type\":\"LinearAxis\"},{\"attributes\":{\"callback\":null,\"column_names\":[\"city\",\"Date\",\"Mean.TemperatureF\",\"index\"],\"data\":{\"Date\":[1,2,3,4,5,6,7,8,9,10,11,12],\"Mean.TemperatureF\":{\"__ndarray__\":\"Ouecc845N0AAAAAAAAAtQBljjDHGGEFAREREREQESUDfe++99x5QQJqZmZmZOVFAa6211lrrUUB0zjnnnLNRQERERERERFFAjDHGGGOMS0B3d3d3dzdIQBFCCCGEEEZA\",\"dtype\":\"float64\",\"shape\":[12]},\"city\":[\"Cleveland (OH)\",\"Cleveland (OH)\",\"Cleveland (OH)\",\"Cleveland (OH)\",\"Cleveland (OH)\",\"Cleveland (OH)\",\"Cleveland (OH)\",\"Cleveland (OH)\",\"Cleveland (OH)\",\"Cleveland (OH)\",\"Cleveland (OH)\",\"Cleveland (OH)\"],\"index\":[0,1,2,3,4,5,6,7,8,9,10,11]},\"selected\":null,\"selection_policy\":null},\"id\":\"da5d266f-3867-420a-b4cd-d066a412733c\",\"type\":\"ColumnDataSource\"},{\"attributes\":{\"plot\":{\"id\":\"9ff91408-aaea-41b6-b6f4-f6e776535479\",\"subtype\":\"Figure\",\"type\":\"Plot\"},\"ticker\":{\"id\":\"7128a43a-b1ac-44cc-8785-06f011fc1937\",\"type\":\"BasicTicker\"}},\"id\":\"d7a6bf4f-c914-45d7-8ed8-caeebcec7663\",\"type\":\"Grid\"},{\"attributes\":{},\"id\":\"7128a43a-b1ac-44cc-8785-06f011fc1937\",\"type\":\"BasicTicker\"},{\"attributes\":{\"line_color\":\"blue\",\"line_width\":2,\"x\":{\"field\":\"Date\"},\"y\":{\"field\":\"Mean.TemperatureF\"}},\"id\":\"e5a2891c-628c-4aeb-b1ea-1ba5db04f313\",\"type\":\"Line\"},{\"attributes\":{\"dimension\":1,\"plot\":{\"id\":\"9ff91408-aaea-41b6-b6f4-f6e776535479\",\"subtype\":\"Figure\",\"type\":\"Plot\"},\"ticker\":{\"id\":\"0ad0d7fc-a2e3-4767-9ff9-57217f5c6836\",\"type\":\"BasicTicker\"}},\"id\":\"91bbcb47-525d-4ad5-89af-1c9d5732fb57\",\"type\":\"Grid\"},{\"attributes\":{\"line_alpha\":0.1,\"line_color\":\"#1f77b4\",\"line_width\":2,\"x\":{\"field\":\"Date\"},\"y\":{\"field\":\"Mean.TemperatureF\"}},\"id\":\"ccd62058-b928-4950-849d-0d91480d2379\",\"type\":\"Line\"},{\"attributes\":{\"callback\":null,\"column_names\":[\"city\",\"Date\",\"Mean.TemperatureF\",\"index\"],\"data\":{\"Date\":[1,2,3,4,5,6,7,8,9,10,11,12],\"Mean.TemperatureF\":{\"__ndarray__\":\"CCGEEELIUUCSJEmSJClRQAAAAAAAQFNAZmZmZmYmVECEEEIIIURUQFVVVVVV9VRAvvfee+89VUA655xzzjlVQGZmZmZm5lRA77333nsvVECJiIiIiKhTQCGEEEIIYVNA\",\"dtype\":\"float64\",\"shape\":[12]},\"city\":[\"Miami (FL)\",\"Miami (FL)\",\"Miami (FL)\",\"Miami (FL)\",\"Miami (FL)\",\"Miami (FL)\",\"Miami (FL)\",\"Miami (FL)\",\"Miami (FL)\",\"Miami (FL)\",\"Miami (FL)\",\"Miami (FL)\"],\"index\":[36,37,38,39,40,41,42,43,44,45,46,47]},\"selected\":null,\"selection_policy\":null},\"id\":\"3ef8b718-14e0-49de-800c-3daf4e25341d\",\"type\":\"ColumnDataSource\"},{\"attributes\":{\"items\":[{\"id\":\"a2702104-d6af-4718-a677-846b35c23415\",\"type\":\"LegendItem\"},{\"id\":\"e21b841b-85d1-41ae-ab68-1c1e44fccde9\",\"type\":\"LegendItem\"},{\"id\":\"fc1be2ab-31f7-4935-8f24-afaba2a77a44\",\"type\":\"LegendItem\"},{\"id\":\"42a093c9-5f12-4cb2-8f86-a4aeeb736d7b\",\"type\":\"LegendItem\"}],\"location\":[550,0],\"plot\":{\"id\":\"9ff91408-aaea-41b6-b6f4-f6e776535479\",\"subtype\":\"Figure\",\"type\":\"Plot\"}},\"id\":\"dc81be0a-16bb-416d-a4e1-8ac30011fe39\",\"type\":\"Legend\"},{\"attributes\":{\"callback\":null,\"column_names\":[\"city\",\"Date\",\"Mean.TemperatureF\",\"index\"],\"data\":{\"Date\":[1,2,3,4,5,6,7,8,9,10,11,12],\"Mean.TemperatureF\":{\"__ndarray__\":\"CCGEEEIITkBJkiRJkqROQDLGGGOMMVBARERERERET0AhhBBCCKFOQAAAAAAAoFBA33vvvfeeUUC+99577z1SQFVVVVVV1VJAjDHGGGOMUkAzMzMzMzNPQEoppZRSykxA\",\"dtype\":\"float64\",\"shape\":[12]},\"city\":[\"Los Angeles (CA)\",\"Los Angeles (CA)\",\"Los Angeles (CA)\",\"Los Angeles (CA)\",\"Los Angeles (CA)\",\"Los Angeles (CA)\",\"Los Angeles (CA)\",\"Los Angeles (CA)\",\"Los Angeles (CA)\",\"Los Angeles (CA)\",\"Los Angeles (CA)\",\"Los Angeles (CA)\"],\"index\":[24,25,26,27,28,29,30,31,32,33,34,35]},\"selected\":null,\"selection_policy\":null},\"id\":\"9e351ee9-6f06-4c6b-96ee-d9851c109733\",\"type\":\"ColumnDataSource\"},{\"attributes\":{},\"id\":\"7dd42825-0165-4fcb-b60f-366253a02531\",\"type\":\"LinearScale\"},{\"attributes\":{\"line_alpha\":0.1,\"line_color\":\"#1f77b4\",\"line_width\":2,\"x\":{\"field\":\"Date\"},\"y\":{\"field\":\"Mean.TemperatureF\"}},\"id\":\"da148cd0-2aea-45d5-be28-a90f98e3cace\",\"type\":\"Line\"},{\"attributes\":{\"label\":{\"field\":\"city\"},\"renderers\":[{\"id\":\"376cfefb-4d32-4123-b2c6-ad95058c9533\",\"type\":\"GlyphRenderer\"}]},\"id\":\"e21b841b-85d1-41ae-ab68-1c1e44fccde9\",\"type\":\"LegendItem\"},{\"attributes\":{\"plot\":null,\"text\":\"Figure 1.3 - temperature in 2015\"},\"id\":\"93debd99-d2d2-45c0-9ed0-fe20e40d3602\",\"type\":\"Title\"},{\"attributes\":{\"callback\":null},\"id\":\"6caa4953-7607-410e-8255-7e95d9d54378\",\"type\":\"DataRange1d\"},{\"attributes\":{\"active_drag\":\"auto\",\"active_inspect\":\"auto\",\"active_scroll\":\"auto\",\"active_tap\":\"auto\",\"tools\":[{\"id\":\"513e80d1-9770-4068-ad9d-2ec6bd681eab\",\"type\":\"PanTool\"},{\"id\":\"b403da98-a154-40a0-8991-61ce6f5e9cdb\",\"type\":\"WheelZoomTool\"},{\"id\":\"261f82b3-1810-4d84-a125-a7778eab4fe7\",\"type\":\"BoxZoomTool\"},{\"id\":\"d82f19ba-551f-4cb4-9088-2f85a9daf112\",\"type\":\"SaveTool\"},{\"id\":\"b2875f97-fbf0-405e-9577-1afd8a97a6a5\",\"type\":\"ResetTool\"},{\"id\":\"25b2497a-5c10-4f5d-b7ea-e4f45d90f796\",\"type\":\"HelpTool\"}]},\"id\":\"12932b96-a75e-49dd-8ea6-0d9834b58000\",\"type\":\"Toolbar\"},{\"attributes\":{\"label\":{\"field\":\"city\"},\"renderers\":[{\"id\":\"64fbd0a6-e17e-42df-a147-d873a7b51d32\",\"type\":\"GlyphRenderer\"}]},\"id\":\"a2702104-d6af-4718-a677-846b35c23415\",\"type\":\"LegendItem\"},{\"attributes\":{\"line_color\":\"yellow\",\"line_width\":2,\"x\":{\"field\":\"Date\"},\"y\":{\"field\":\"Mean.TemperatureF\"}},\"id\":\"59a6fb39-ff13-4016-9fc6-29d6912b97c2\",\"type\":\"Line\"},{\"attributes\":{},\"id\":\"950863e7-8c14-4402-827a-b74b3f3a79a4\",\"type\":\"BasicTickFormatter\"},{\"attributes\":{\"callback\":null,\"column_names\":[\"city\",\"Date\",\"Mean.TemperatureF\",\"index\"],\"data\":{\"Date\":[1,2,3,4,5,6,7,8,9,10,11,12],\"Mean.TemperatureF\":{\"__ndarray__\":\"hBBCCCEESUDbtm3btm1KQFtrrbXWWk9A7+7u7u4uUkCMMcYYY0xTQLy7u7u7m1RAU0oppZSSVUCVUkoppVRVQM3MzMzMDFRAIYQQQghhUkAzMzMzM7NPQFtrrbXW2k1A\",\"dtype\":\"float64\",\"shape\":[12]},\"city\":[\"Houston (TX)\",\"Houston (TX)\",\"Houston (TX)\",\"Houston (TX)\",\"Houston (TX)\",\"Houston (TX)\",\"Houston (TX)\",\"Houston (TX)\",\"Houston (TX)\",\"Houston (TX)\",\"Houston (TX)\",\"Houston (TX)\"],\"index\":[12,13,14,15,16,17,18,19,20,21,22,23]},\"selected\":null,\"selection_policy\":null},\"id\":\"e21e4894-e1ca-4af5-9834-9dbe4234f10c\",\"type\":\"ColumnDataSource\"},{\"attributes\":{\"line_alpha\":0.1,\"line_color\":\"#1f77b4\",\"line_width\":2,\"x\":{\"field\":\"Date\"},\"y\":{\"field\":\"Mean.TemperatureF\"}},\"id\":\"ac00a6a4-2472-43d3-b29f-7dd99e7bd1bc\",\"type\":\"Line\"},{\"attributes\":{\"data_source\":{\"id\":\"e21e4894-e1ca-4af5-9834-9dbe4234f10c\",\"type\":\"ColumnDataSource\"},\"glyph\":{\"id\":\"a11d5be9-6be5-40ce-9062-3d8a1dfa6edb\",\"type\":\"Line\"},\"hover_glyph\":null,\"muted_glyph\":null,\"nonselection_glyph\":{\"id\":\"da148cd0-2aea-45d5-be28-a90f98e3cace\",\"type\":\"Line\"},\"selection_glyph\":null,\"view\":{\"id\":\"dd7d35cf-2fd5-4dff-89d3-92e168180da4\",\"type\":\"CDSView\"}},\"id\":\"376cfefb-4d32-4123-b2c6-ad95058c9533\",\"type\":\"GlyphRenderer\"}],\"root_ids\":[\"9ff91408-aaea-41b6-b6f4-f6e776535479\"]},\"title\":\"Bokeh Application\",\"version\":\"0.12.15\"}};\n",
       "  var render_items = [{\"docid\":\"c6eb20e5-95b9-4a62-9136-5bde84b76863\",\"elementid\":\"935aaa6b-7e2d-489f-a528-cd3d31a12189\",\"modelid\":\"9ff91408-aaea-41b6-b6f4-f6e776535479\"}];\n",
       "  root.Bokeh.embed.embed_items_notebook(docs_json, render_items);\n",
       "\n",
       "  }\n",
       "  if (root.Bokeh !== undefined) {\n",
       "    embed_document(root);\n",
       "  } else {\n",
       "    var attempts = 0;\n",
       "    var timer = setInterval(function(root) {\n",
       "      if (root.Bokeh !== undefined) {\n",
       "        embed_document(root);\n",
       "        clearInterval(timer);\n",
       "      }\n",
       "      attempts++;\n",
       "      if (attempts > 100) {\n",
       "        console.log(\"Bokeh: ERROR: Unable to run BokehJS code because BokehJS library is missing\")\n",
       "        clearInterval(timer);\n",
       "      }\n",
       "    }, 10, root)\n",
       "  }\n",
       "})(window);"
      ],
      "application/vnd.bokehjs_exec.v0+json": ""
     },
     "metadata": {
      "application/vnd.bokehjs_exec.v0+json": {
       "id": "9ff91408-aaea-41b6-b6f4-f6e776535479"
      }
     },
     "output_type": "display_data"
    }
   ],
   "source": [
    "show(fig13) # Cannot figure out how to place the legend outside the plot."
   ]
  },
  {
   "cell_type": "code",
   "execution_count": null,
   "metadata": {},
   "outputs": [],
   "source": []
  },
  {
   "cell_type": "markdown",
   "metadata": {},
   "source": [
    "Figure 1.4 - heatmap<br>\n",
    "source: https://bokeh.pydata.org/en/latest/docs/gallery/unemployment.html"
   ]
  },
  {
   "cell_type": "code",
   "execution_count": 28,
   "metadata": {},
   "outputs": [],
   "source": [
    "colours = [\"#75968f\", \"#a5bab7\", \"#c9d9d3\", \"#e2e2e2\", \"#dfccce\", \"#ddb7b1\", \"#cc7878\", \"#933b41\", \"#550b1d\"]"
   ]
  },
  {
   "cell_type": "code",
   "execution_count": 29,
   "metadata": {},
   "outputs": [],
   "source": [
    "mapper = LinearColorMapper(palette=colours, low=base[\"Mean.TemperatureF\"].min(), \n",
    "                           high=base[\"Mean.TemperatureF\"].max())"
   ]
  },
  {
   "cell_type": "code",
   "execution_count": 30,
   "metadata": {},
   "outputs": [],
   "source": [
    "base.Date = base.Date.apply(str)"
   ]
  },
  {
   "cell_type": "code",
   "execution_count": 31,
   "metadata": {},
   "outputs": [
    {
     "data": {
      "text/html": [
       "<div>\n",
       "<style scoped>\n",
       "    .dataframe tbody tr th:only-of-type {\n",
       "        vertical-align: middle;\n",
       "    }\n",
       "\n",
       "    .dataframe tbody tr th {\n",
       "        vertical-align: top;\n",
       "    }\n",
       "\n",
       "    .dataframe thead th {\n",
       "        text-align: right;\n",
       "    }\n",
       "</style>\n",
       "<table border=\"1\" class=\"dataframe\">\n",
       "  <thead>\n",
       "    <tr style=\"text-align: right;\">\n",
       "      <th></th>\n",
       "      <th>city</th>\n",
       "      <th>Date</th>\n",
       "      <th>Mean.TemperatureF</th>\n",
       "    </tr>\n",
       "  </thead>\n",
       "  <tbody>\n",
       "    <tr>\n",
       "      <th>0</th>\n",
       "      <td>Cleveland (OH)</td>\n",
       "      <td>1</td>\n",
       "      <td>23.225806</td>\n",
       "    </tr>\n",
       "    <tr>\n",
       "      <th>1</th>\n",
       "      <td>Cleveland (OH)</td>\n",
       "      <td>2</td>\n",
       "      <td>14.500000</td>\n",
       "    </tr>\n",
       "  </tbody>\n",
       "</table>\n",
       "</div>"
      ],
      "text/plain": [
       "             city Date  Mean.TemperatureF\n",
       "0  Cleveland (OH)    1          23.225806\n",
       "1  Cleveland (OH)    2          14.500000"
      ]
     },
     "execution_count": 31,
     "metadata": {},
     "output_type": "execute_result"
    }
   ],
   "source": [
    "base.head(2)"
   ]
  },
  {
   "cell_type": "code",
   "execution_count": 32,
   "metadata": {},
   "outputs": [],
   "source": [
    "base.rename(columns={\"Mean.TemperatureF\": \"TemperatureF\"}, inplace=True)"
   ]
  },
  {
   "cell_type": "code",
   "execution_count": 33,
   "metadata": {},
   "outputs": [],
   "source": [
    "months = list(base.Date.drop_duplicates())"
   ]
  },
  {
   "cell_type": "code",
   "execution_count": 34,
   "metadata": {},
   "outputs": [],
   "source": [
    "cities = list(base.city.drop_duplicates())"
   ]
  },
  {
   "cell_type": "code",
   "execution_count": 52,
   "metadata": {},
   "outputs": [
    {
     "data": {
      "text/html": [
       "\n",
       "<div class=\"bk-root\">\n",
       "    <div class=\"bk-plotdiv\" id=\"d69fa70b-bf30-4673-8068-5327e45a9ed8\"></div>\n",
       "</div>"
      ]
     },
     "metadata": {},
     "output_type": "display_data"
    },
    {
     "data": {
      "application/javascript": [
       "(function(root) {\n",
       "  function embed_document(root) {\n",
       "    \n",
       "  var docs_json = {\"9b15d415-3153-437f-ae1b-fa4a2a2feb9a\":{\"roots\":{\"references\":[{\"attributes\":{\"grid_line_color\":{\"value\":null},\"plot\":{\"id\":\"7acd0407-0dd3-4b2f-8470-c72f21634a44\",\"subtype\":\"Figure\",\"type\":\"Plot\"},\"ticker\":{\"id\":\"315764ce-3a15-4c16-94da-80e894d3178b\",\"type\":\"CategoricalTicker\"}},\"id\":\"10725c34-2297-4ae7-80f2-c3f2b7d22a24\",\"type\":\"Grid\"},{\"attributes\":{\"high\":86.29032258064517,\"low\":14.5,\"palette\":[\"#75968f\",\"#a5bab7\",\"#c9d9d3\",\"#e2e2e2\",\"#dfccce\",\"#ddb7b1\",\"#cc7878\",\"#933b41\",\"#550b1d\"]},\"id\":\"9d71bd4d-3ca7-4886-a1c9-bdcd2caa285a\",\"type\":\"LinearColorMapper\"},{\"attributes\":{},\"id\":\"5e1fb883-b3ce-4083-b6d2-6e8971221f8f\",\"type\":\"CategoricalTickFormatter\"},{\"attributes\":{\"axis_line_color\":{\"value\":null},\"formatter\":{\"id\":\"5e1fb883-b3ce-4083-b6d2-6e8971221f8f\",\"type\":\"CategoricalTickFormatter\"},\"major_label_standoff\":0,\"major_label_text_font_size\":{\"value\":\"5pt\"},\"major_tick_line_color\":{\"value\":null},\"plot\":{\"id\":\"7acd0407-0dd3-4b2f-8470-c72f21634a44\",\"subtype\":\"Figure\",\"type\":\"Plot\"},\"ticker\":{\"id\":\"315764ce-3a15-4c16-94da-80e894d3178b\",\"type\":\"CategoricalTicker\"}},\"id\":\"b436f58d-0356-4f36-95ac-94cab3c2d6ec\",\"type\":\"CategoricalAxis\"},{\"attributes\":{},\"id\":\"315764ce-3a15-4c16-94da-80e894d3178b\",\"type\":\"CategoricalTicker\"},{\"attributes\":{},\"id\":\"1bd34d95-cab5-4f47-8862-de32530e4068\",\"type\":\"CategoricalTickFormatter\"},{\"attributes\":{\"data_source\":{\"id\":\"591eb101-41d4-40e4-b82a-6d288cdfb0a1\",\"type\":\"ColumnDataSource\"},\"glyph\":{\"id\":\"a997914b-8c0b-4497-b837-97b0d719ba12\",\"type\":\"Rect\"},\"hover_glyph\":null,\"muted_glyph\":null,\"nonselection_glyph\":{\"id\":\"2736a4ff-8a34-4806-a9ba-e66502a85929\",\"type\":\"Rect\"},\"selection_glyph\":null,\"view\":{\"id\":\"97f4657b-9e3b-4dff-9fa5-13327774d576\",\"type\":\"CDSView\"}},\"id\":\"50a842a2-8764-4b18-8459-75caaa321e47\",\"type\":\"GlyphRenderer\"},{\"attributes\":{},\"id\":\"902c77dd-fcf2-42f1-8fb4-b9a1a7dc701f\",\"type\":\"CategoricalTicker\"},{\"attributes\":{\"desired_num_ticks\":9},\"id\":\"f5ca3b69-2716-4835-87dd-a8e492a70777\",\"type\":\"BasicTicker\"},{\"attributes\":{\"dimension\":1,\"grid_line_color\":{\"value\":null},\"plot\":{\"id\":\"7acd0407-0dd3-4b2f-8470-c72f21634a44\",\"subtype\":\"Figure\",\"type\":\"Plot\"},\"ticker\":{\"id\":\"902c77dd-fcf2-42f1-8fb4-b9a1a7dc701f\",\"type\":\"CategoricalTicker\"}},\"id\":\"09ddba32-7fd1-44f8-9c87-c1711638bb71\",\"type\":\"Grid\"},{\"attributes\":{\"below\":[{\"id\":\"b436f58d-0356-4f36-95ac-94cab3c2d6ec\",\"type\":\"CategoricalAxis\"}],\"left\":[{\"id\":\"5317c881-de10-42bf-99e3-da5006f96c52\",\"type\":\"CategoricalAxis\"}],\"plot_height\":300,\"plot_width\":900,\"renderers\":[{\"id\":\"b436f58d-0356-4f36-95ac-94cab3c2d6ec\",\"type\":\"CategoricalAxis\"},{\"id\":\"10725c34-2297-4ae7-80f2-c3f2b7d22a24\",\"type\":\"Grid\"},{\"id\":\"5317c881-de10-42bf-99e3-da5006f96c52\",\"type\":\"CategoricalAxis\"},{\"id\":\"09ddba32-7fd1-44f8-9c87-c1711638bb71\",\"type\":\"Grid\"},{\"id\":\"b6c9aeca-7297-4751-8384-f453e615db2c\",\"type\":\"BoxAnnotation\"},{\"id\":\"50a842a2-8764-4b18-8459-75caaa321e47\",\"type\":\"GlyphRenderer\"},{\"id\":\"e884d462-4bf3-4508-a934-771220aaa461\",\"type\":\"ColorBar\"}],\"right\":[{\"id\":\"e884d462-4bf3-4508-a934-771220aaa461\",\"type\":\"ColorBar\"}],\"title\":{\"id\":\"3d2f95fa-ab6c-4b6a-8da0-5f753521092f\",\"type\":\"Title\"},\"toolbar\":{\"id\":\"3e2d65ee-c0ba-45d9-9935-23a22e338ddd\",\"type\":\"Toolbar\"},\"x_range\":{\"id\":\"8af44832-b823-4248-9ea8-e7c5e078ecc1\",\"type\":\"FactorRange\"},\"x_scale\":{\"id\":\"fa5bf1c1-aad5-4889-8e21-76ffc9ff1a38\",\"type\":\"CategoricalScale\"},\"y_range\":{\"id\":\"ec9f3ba7-9e51-43ed-bb0f-01fa3a73dff6\",\"type\":\"FactorRange\"},\"y_scale\":{\"id\":\"3d01bd39-bebb-46f7-96fe-474b281ab7f1\",\"type\":\"CategoricalScale\"}},\"id\":\"7acd0407-0dd3-4b2f-8470-c72f21634a44\",\"subtype\":\"Figure\",\"type\":\"Plot\"},{\"attributes\":{\"callback\":null,\"column_names\":[\"city\",\"Date\",\"TemperatureF\",\"index\"],\"data\":{\"Date\":[\"1\",\"2\",\"3\",\"4\",\"5\",\"6\",\"7\",\"8\",\"9\",\"10\",\"11\",\"12\",\"1\",\"2\",\"3\",\"4\",\"5\",\"6\",\"7\",\"8\",\"9\",\"10\",\"11\",\"12\",\"1\",\"2\",\"3\",\"4\",\"5\",\"6\",\"7\",\"8\",\"9\",\"10\",\"11\",\"12\",\"1\",\"2\",\"3\",\"4\",\"5\",\"6\",\"7\",\"8\",\"9\",\"10\",\"11\",\"12\"],\"TemperatureF\":{\"__ndarray__\":\"Ouecc845N0AAAAAAAAAtQBljjDHGGEFAREREREQESUDfe++99x5QQJqZmZmZOVFAa6211lrrUUB0zjnnnLNRQERERERERFFAjDHGGGOMS0B3d3d3dzdIQBFCCCGEEEZAhBBCCCEESUDbtm3btm1KQFtrrbXWWk9A7+7u7u4uUkCMMcYYY0xTQLy7u7u7m1RAU0oppZSSVUCVUkoppVRVQM3MzMzMDFRAIYQQQghhUkAzMzMzM7NPQFtrrbXW2k1ACCGEEEIITkBJkiRJkqROQDLGGGOMMVBARERERERET0AhhBBCCKFOQAAAAAAAoFBA33vvvfeeUUC+99577z1SQFVVVVVV1VJAjDHGGGOMUkAzMzMzMzNPQEoppZRSykxACCGEEELIUUCSJEmSJClRQAAAAAAAQFNAZmZmZmYmVECEEEIIIURUQFVVVVVV9VRAvvfee+89VUA655xzzjlVQGZmZmZm5lRA77333nsvVECJiIiIiKhTQCGEEEIIYVNA\",\"dtype\":\"float64\",\"shape\":[48]},\"city\":[\"Cleveland (OH)\",\"Cleveland (OH)\",\"Cleveland (OH)\",\"Cleveland (OH)\",\"Cleveland (OH)\",\"Cleveland (OH)\",\"Cleveland (OH)\",\"Cleveland (OH)\",\"Cleveland (OH)\",\"Cleveland (OH)\",\"Cleveland (OH)\",\"Cleveland (OH)\",\"Houston (TX)\",\"Houston (TX)\",\"Houston (TX)\",\"Houston (TX)\",\"Houston (TX)\",\"Houston (TX)\",\"Houston (TX)\",\"Houston (TX)\",\"Houston (TX)\",\"Houston (TX)\",\"Houston (TX)\",\"Houston (TX)\",\"Los Angeles (CA)\",\"Los Angeles (CA)\",\"Los Angeles (CA)\",\"Los Angeles (CA)\",\"Los Angeles (CA)\",\"Los Angeles (CA)\",\"Los Angeles (CA)\",\"Los Angeles (CA)\",\"Los Angeles (CA)\",\"Los Angeles (CA)\",\"Los Angeles (CA)\",\"Los Angeles (CA)\",\"Miami (FL)\",\"Miami (FL)\",\"Miami (FL)\",\"Miami (FL)\",\"Miami (FL)\",\"Miami (FL)\",\"Miami (FL)\",\"Miami (FL)\",\"Miami (FL)\",\"Miami (FL)\",\"Miami (FL)\",\"Miami (FL)\"],\"index\":[0,1,2,3,4,5,6,7,8,9,10,11,12,13,14,15,16,17,18,19,20,21,22,23,24,25,26,27,28,29,30,31,32,33,34,35,36,37,38,39,40,41,42,43,44,45,46,47]},\"selected\":null,\"selection_policy\":null},\"id\":\"591eb101-41d4-40e4-b82a-6d288cdfb0a1\",\"type\":\"ColumnDataSource\"},{\"attributes\":{},\"id\":\"f22afe3d-b0d0-46a0-877a-a6e3ccb02154\",\"type\":\"PrintfTickFormatter\"},{\"attributes\":{\"fill_alpha\":{\"value\":0.1},\"fill_color\":{\"value\":\"#1f77b4\"},\"height\":{\"units\":\"data\",\"value\":1},\"line_alpha\":{\"value\":0.1},\"line_color\":{\"value\":\"#1f77b4\"},\"width\":{\"units\":\"data\",\"value\":1},\"x\":{\"field\":\"Date\"},\"y\":{\"field\":\"city\"}},\"id\":\"2736a4ff-8a34-4806-a9ba-e66502a85929\",\"type\":\"Rect\"},{\"attributes\":{\"plot\":null,\"text\":\"Figure 1.4 - Monthly normal mean temperatures for four locations in the U.S\"},\"id\":\"3d2f95fa-ab6c-4b6a-8da0-5f753521092f\",\"type\":\"Title\"},{\"attributes\":{\"bottom_units\":\"screen\",\"fill_alpha\":{\"value\":0.5},\"fill_color\":{\"value\":\"lightgrey\"},\"left_units\":\"screen\",\"level\":\"overlay\",\"line_alpha\":{\"value\":1.0},\"line_color\":{\"value\":\"black\"},\"line_dash\":[4,4],\"line_width\":{\"value\":2},\"plot\":null,\"render_mode\":\"css\",\"right_units\":\"screen\",\"top_units\":\"screen\"},\"id\":\"b6c9aeca-7297-4751-8384-f453e615db2c\",\"type\":\"BoxAnnotation\"},{\"attributes\":{\"callback\":null,\"factors\":[\"1\",\"2\",\"3\",\"4\",\"5\",\"6\",\"7\",\"8\",\"9\",\"10\",\"11\",\"12\"]},\"id\":\"8af44832-b823-4248-9ea8-e7c5e078ecc1\",\"type\":\"FactorRange\"},{\"attributes\":{},\"id\":\"03f29b84-4c3a-4582-a36b-4e37aca72b23\",\"type\":\"PanTool\"},{\"attributes\":{\"fill_color\":{\"field\":\"TemperatureF\",\"transform\":{\"id\":\"9d71bd4d-3ca7-4886-a1c9-bdcd2caa285a\",\"type\":\"LinearColorMapper\"}},\"height\":{\"units\":\"data\",\"value\":1},\"line_color\":{\"value\":null},\"width\":{\"units\":\"data\",\"value\":1},\"x\":{\"field\":\"Date\"},\"y\":{\"field\":\"city\"}},\"id\":\"a997914b-8c0b-4497-b837-97b0d719ba12\",\"type\":\"Rect\"},{\"attributes\":{\"color_mapper\":{\"id\":\"9d71bd4d-3ca7-4886-a1c9-bdcd2caa285a\",\"type\":\"LinearColorMapper\"},\"formatter\":{\"id\":\"f22afe3d-b0d0-46a0-877a-a6e3ccb02154\",\"type\":\"PrintfTickFormatter\"},\"label_standoff\":6,\"location\":[0,0],\"major_label_text_font_size\":{\"value\":\"5pt\"},\"plot\":{\"id\":\"7acd0407-0dd3-4b2f-8470-c72f21634a44\",\"subtype\":\"Figure\",\"type\":\"Plot\"},\"ticker\":{\"id\":\"f5ca3b69-2716-4835-87dd-a8e492a70777\",\"type\":\"BasicTicker\"},\"title\":\"temperature\"},\"id\":\"e884d462-4bf3-4508-a934-771220aaa461\",\"type\":\"ColorBar\"},{\"attributes\":{\"active_drag\":\"auto\",\"active_inspect\":\"auto\",\"active_scroll\":\"auto\",\"active_tap\":\"auto\",\"tools\":[{\"id\":\"03f29b84-4c3a-4582-a36b-4e37aca72b23\",\"type\":\"PanTool\"},{\"id\":\"b1dbb8d5-c561-417a-977b-9479003a541f\",\"type\":\"WheelZoomTool\"},{\"id\":\"c3546882-294a-4e6c-a5d2-131ad0f4098c\",\"type\":\"BoxZoomTool\"},{\"id\":\"f971e445-c652-456d-a4be-b55a9dce205e\",\"type\":\"SaveTool\"},{\"id\":\"e8c675ac-e2bb-426e-bd4d-08b4055a842a\",\"type\":\"ResetTool\"},{\"id\":\"acc27814-8328-4a01-89cd-c516b5faf884\",\"type\":\"HelpTool\"}]},\"id\":\"3e2d65ee-c0ba-45d9-9935-23a22e338ddd\",\"type\":\"Toolbar\"},{\"attributes\":{},\"id\":\"b1dbb8d5-c561-417a-977b-9479003a541f\",\"type\":\"WheelZoomTool\"},{\"attributes\":{\"overlay\":{\"id\":\"b6c9aeca-7297-4751-8384-f453e615db2c\",\"type\":\"BoxAnnotation\"}},\"id\":\"c3546882-294a-4e6c-a5d2-131ad0f4098c\",\"type\":\"BoxZoomTool\"},{\"attributes\":{\"callback\":null,\"factors\":[\"Miami (FL)\",\"Los Angeles (CA)\",\"Houston (TX)\",\"Cleveland (OH)\"]},\"id\":\"ec9f3ba7-9e51-43ed-bb0f-01fa3a73dff6\",\"type\":\"FactorRange\"},{\"attributes\":{},\"id\":\"f971e445-c652-456d-a4be-b55a9dce205e\",\"type\":\"SaveTool\"},{\"attributes\":{\"axis_line_color\":{\"value\":null},\"formatter\":{\"id\":\"1bd34d95-cab5-4f47-8862-de32530e4068\",\"type\":\"CategoricalTickFormatter\"},\"major_label_standoff\":0,\"major_label_text_font_size\":{\"value\":\"10pt\"},\"major_tick_line_color\":{\"value\":null},\"plot\":{\"id\":\"7acd0407-0dd3-4b2f-8470-c72f21634a44\",\"subtype\":\"Figure\",\"type\":\"Plot\"},\"ticker\":{\"id\":\"902c77dd-fcf2-42f1-8fb4-b9a1a7dc701f\",\"type\":\"CategoricalTicker\"}},\"id\":\"5317c881-de10-42bf-99e3-da5006f96c52\",\"type\":\"CategoricalAxis\"},{\"attributes\":{},\"id\":\"e8c675ac-e2bb-426e-bd4d-08b4055a842a\",\"type\":\"ResetTool\"},{\"attributes\":{},\"id\":\"acc27814-8328-4a01-89cd-c516b5faf884\",\"type\":\"HelpTool\"},{\"attributes\":{},\"id\":\"fa5bf1c1-aad5-4889-8e21-76ffc9ff1a38\",\"type\":\"CategoricalScale\"},{\"attributes\":{\"source\":{\"id\":\"591eb101-41d4-40e4-b82a-6d288cdfb0a1\",\"type\":\"ColumnDataSource\"}},\"id\":\"97f4657b-9e3b-4dff-9fa5-13327774d576\",\"type\":\"CDSView\"},{\"attributes\":{},\"id\":\"3d01bd39-bebb-46f7-96fe-474b281ab7f1\",\"type\":\"CategoricalScale\"}],\"root_ids\":[\"7acd0407-0dd3-4b2f-8470-c72f21634a44\"]},\"title\":\"Bokeh Application\",\"version\":\"0.12.15\"}};\n",
       "  var render_items = [{\"docid\":\"9b15d415-3153-437f-ae1b-fa4a2a2feb9a\",\"elementid\":\"d69fa70b-bf30-4673-8068-5327e45a9ed8\",\"modelid\":\"7acd0407-0dd3-4b2f-8470-c72f21634a44\"}];\n",
       "  root.Bokeh.embed.embed_items_notebook(docs_json, render_items);\n",
       "\n",
       "  }\n",
       "  if (root.Bokeh !== undefined) {\n",
       "    embed_document(root);\n",
       "  } else {\n",
       "    var attempts = 0;\n",
       "    var timer = setInterval(function(root) {\n",
       "      if (root.Bokeh !== undefined) {\n",
       "        embed_document(root);\n",
       "        clearInterval(timer);\n",
       "      }\n",
       "      attempts++;\n",
       "      if (attempts > 100) {\n",
       "        console.log(\"Bokeh: ERROR: Unable to run BokehJS code because BokehJS library is missing\")\n",
       "        clearInterval(timer);\n",
       "      }\n",
       "    }, 10, root)\n",
       "  }\n",
       "})(window);"
      ],
      "application/vnd.bokehjs_exec.v0+json": ""
     },
     "metadata": {
      "application/vnd.bokehjs_exec.v0+json": {
       "id": "7acd0407-0dd3-4b2f-8470-c72f21634a44"
      }
     },
     "output_type": "display_data"
    }
   ],
   "source": [
    "p = figure(title=\"Figure 1.4 - Monthly normal mean temperatures for four locations in the U.S\",\n",
    "           x_range=months, y_range=list(reversed(cities)),\n",
    "           plot_width=900, plot_height=300)\n",
    "\n",
    "p.grid.grid_line_color = None\n",
    "p.axis.axis_line_color = None\n",
    "p.axis.major_tick_line_color = None\n",
    "p.axis.major_label_text_font_size = \"5pt\"\n",
    "p.axis.major_label_standoff = 0\n",
    "\n",
    "p.rect(x=\"Date\", y=\"city\", width=1, height=1,\n",
    "       source=ColumnDataSource(base),\n",
    "       fill_color={\"field\": \"TemperatureF\", \"transform\": mapper},\n",
    "       line_color=None)\n",
    "\n",
    "color_bar = ColorBar(color_mapper=mapper, major_label_text_font_size=\"5pt\",\n",
    "                     ticker=BasicTicker(desired_num_ticks=len(colours)),\n",
    "                     formatter=PrintfTickFormatter(),\n",
    "                     label_standoff=6, border_line_color=None, location=(0, 0), title=\"temperature\")\n",
    "p.add_layout(color_bar, 'right')\n",
    "p.yaxis.major_label_text_font_size = \"10pt\"\n",
    "\n",
    "show(p)"
   ]
  },
  {
   "cell_type": "code",
   "execution_count": null,
   "metadata": {},
   "outputs": [],
   "source": []
  },
  {
   "cell_type": "code",
   "execution_count": null,
   "metadata": {},
   "outputs": [],
   "source": []
  },
  {
   "cell_type": "code",
   "execution_count": 175,
   "metadata": {},
   "outputs": [],
   "source": [
    "mtcars = pd.read_csv(path/\"mtcars.csv\")"
   ]
  },
  {
   "cell_type": "code",
   "execution_count": 176,
   "metadata": {
    "scrolled": true
   },
   "outputs": [],
   "source": [
    "mtcars.loc[:, [\"cyl\"]] = mtcars.loc[:, [\"cyl\"]].astype(\"object\")"
   ]
  },
  {
   "cell_type": "code",
   "execution_count": 177,
   "metadata": {},
   "outputs": [],
   "source": [
    "mtcars.wt = mtcars.wt*5"
   ]
  },
  {
   "cell_type": "code",
   "execution_count": 178,
   "metadata": {},
   "outputs": [
    {
     "data": {
      "text/html": [
       "<div>\n",
       "<style scoped>\n",
       "    .dataframe tbody tr th:only-of-type {\n",
       "        vertical-align: middle;\n",
       "    }\n",
       "\n",
       "    .dataframe tbody tr th {\n",
       "        vertical-align: top;\n",
       "    }\n",
       "\n",
       "    .dataframe thead th {\n",
       "        text-align: right;\n",
       "    }\n",
       "</style>\n",
       "<table border=\"1\" class=\"dataframe\">\n",
       "  <thead>\n",
       "    <tr style=\"text-align: right;\">\n",
       "      <th></th>\n",
       "      <th>Unnamed: 0</th>\n",
       "      <th>mpg</th>\n",
       "      <th>cyl</th>\n",
       "      <th>disp</th>\n",
       "      <th>hp</th>\n",
       "      <th>drat</th>\n",
       "      <th>wt</th>\n",
       "      <th>qsec</th>\n",
       "      <th>vs</th>\n",
       "      <th>am</th>\n",
       "      <th>gear</th>\n",
       "      <th>carb</th>\n",
       "    </tr>\n",
       "  </thead>\n",
       "  <tbody>\n",
       "    <tr>\n",
       "      <th>0</th>\n",
       "      <td>Mazda RX4</td>\n",
       "      <td>21.0</td>\n",
       "      <td>6</td>\n",
       "      <td>160.0</td>\n",
       "      <td>110</td>\n",
       "      <td>3.90</td>\n",
       "      <td>13.100</td>\n",
       "      <td>16.46</td>\n",
       "      <td>0</td>\n",
       "      <td>1</td>\n",
       "      <td>4</td>\n",
       "      <td>4</td>\n",
       "    </tr>\n",
       "    <tr>\n",
       "      <th>1</th>\n",
       "      <td>Mazda RX4 Wag</td>\n",
       "      <td>21.0</td>\n",
       "      <td>6</td>\n",
       "      <td>160.0</td>\n",
       "      <td>110</td>\n",
       "      <td>3.90</td>\n",
       "      <td>14.375</td>\n",
       "      <td>17.02</td>\n",
       "      <td>0</td>\n",
       "      <td>1</td>\n",
       "      <td>4</td>\n",
       "      <td>4</td>\n",
       "    </tr>\n",
       "    <tr>\n",
       "      <th>2</th>\n",
       "      <td>Datsun 710</td>\n",
       "      <td>22.8</td>\n",
       "      <td>4</td>\n",
       "      <td>108.0</td>\n",
       "      <td>93</td>\n",
       "      <td>3.85</td>\n",
       "      <td>11.600</td>\n",
       "      <td>18.61</td>\n",
       "      <td>1</td>\n",
       "      <td>1</td>\n",
       "      <td>4</td>\n",
       "      <td>1</td>\n",
       "    </tr>\n",
       "    <tr>\n",
       "      <th>3</th>\n",
       "      <td>Hornet 4 Drive</td>\n",
       "      <td>21.4</td>\n",
       "      <td>6</td>\n",
       "      <td>258.0</td>\n",
       "      <td>110</td>\n",
       "      <td>3.08</td>\n",
       "      <td>16.075</td>\n",
       "      <td>19.44</td>\n",
       "      <td>1</td>\n",
       "      <td>0</td>\n",
       "      <td>3</td>\n",
       "      <td>1</td>\n",
       "    </tr>\n",
       "    <tr>\n",
       "      <th>4</th>\n",
       "      <td>Hornet Sportabout</td>\n",
       "      <td>18.7</td>\n",
       "      <td>8</td>\n",
       "      <td>360.0</td>\n",
       "      <td>175</td>\n",
       "      <td>3.15</td>\n",
       "      <td>17.200</td>\n",
       "      <td>17.02</td>\n",
       "      <td>0</td>\n",
       "      <td>0</td>\n",
       "      <td>3</td>\n",
       "      <td>2</td>\n",
       "    </tr>\n",
       "  </tbody>\n",
       "</table>\n",
       "</div>"
      ],
      "text/plain": [
       "          Unnamed: 0   mpg cyl   disp   hp  drat      wt   qsec  vs  am  gear  \\\n",
       "0          Mazda RX4  21.0   6  160.0  110  3.90  13.100  16.46   0   1     4   \n",
       "1      Mazda RX4 Wag  21.0   6  160.0  110  3.90  14.375  17.02   0   1     4   \n",
       "2         Datsun 710  22.8   4  108.0   93  3.85  11.600  18.61   1   1     4   \n",
       "3     Hornet 4 Drive  21.4   6  258.0  110  3.08  16.075  19.44   1   0     3   \n",
       "4  Hornet Sportabout  18.7   8  360.0  175  3.15  17.200  17.02   0   0     3   \n",
       "\n",
       "   carb  \n",
       "0     4  \n",
       "1     4  \n",
       "2     1  \n",
       "3     1  \n",
       "4     2  "
      ]
     },
     "execution_count": 178,
     "metadata": {},
     "output_type": "execute_result"
    }
   ],
   "source": [
    "mtcars.head()"
   ]
  },
  {
   "cell_type": "code",
   "execution_count": 179,
   "metadata": {},
   "outputs": [],
   "source": [
    "colours = [\"#75968f\", \"#a5bab7\", \"#c9d9d3\"]"
   ]
  },
  {
   "cell_type": "code",
   "execution_count": 180,
   "metadata": {},
   "outputs": [],
   "source": [
    "ColorMapper = LinearColorMapper(palette=colours, low=mtcars[\"hp\"].min(), \n",
    "                           high=mtcars[\"hp\"].max())"
   ]
  },
  {
   "cell_type": "code",
   "execution_count": 186,
   "metadata": {},
   "outputs": [],
   "source": [
    "from bokeh.models import markers, DataRange1d"
   ]
  },
  {
   "cell_type": "code",
   "execution_count": 205,
   "metadata": {},
   "outputs": [],
   "source": [
    "data_range = Range1d(bounds=(mtcars.wt.min(), mtcars.wt.max()))"
   ]
  },
  {
   "cell_type": "code",
   "execution_count": 206,
   "metadata": {},
   "outputs": [],
   "source": [
    "source=ColumnDataSource(mtcars)"
   ]
  },
  {
   "cell_type": "code",
   "execution_count": 207,
   "metadata": {},
   "outputs": [
    {
     "data": {
      "text/html": [
       "<div style=\"display: table;\"><div style=\"display: table-row;\"><div style=\"display: table-cell;\"><b title=\"bokeh.models.ranges.Range1d\">Range1d</b>(</div><div style=\"display: table-cell;\">id&nbsp;=&nbsp;'0c24f15c-ed2b-48b7-be57-7658984bffb4', <span id=\"4ee8e799-5162-4b7a-bb76-1a1c300e8c8c\" style=\"cursor: pointer;\">&hellip;)</span></div></div><div class=\"eaa9be8b-d4d9-4a4b-9dde-13f4a9568640\" style=\"display: none;\"><div style=\"display: table-cell;\"></div><div style=\"display: table-cell;\">bounds&nbsp;=&nbsp;(7.565, 27.119999999999997),</div></div><div class=\"eaa9be8b-d4d9-4a4b-9dde-13f4a9568640\" style=\"display: none;\"><div style=\"display: table-cell;\"></div><div style=\"display: table-cell;\">callback&nbsp;=&nbsp;None,</div></div><div class=\"eaa9be8b-d4d9-4a4b-9dde-13f4a9568640\" style=\"display: none;\"><div style=\"display: table-cell;\"></div><div style=\"display: table-cell;\">end&nbsp;=&nbsp;1,</div></div><div class=\"eaa9be8b-d4d9-4a4b-9dde-13f4a9568640\" style=\"display: none;\"><div style=\"display: table-cell;\"></div><div style=\"display: table-cell;\">js_event_callbacks&nbsp;=&nbsp;{},</div></div><div class=\"eaa9be8b-d4d9-4a4b-9dde-13f4a9568640\" style=\"display: none;\"><div style=\"display: table-cell;\"></div><div style=\"display: table-cell;\">js_property_callbacks&nbsp;=&nbsp;{},</div></div><div class=\"eaa9be8b-d4d9-4a4b-9dde-13f4a9568640\" style=\"display: none;\"><div style=\"display: table-cell;\"></div><div style=\"display: table-cell;\">max_interval&nbsp;=&nbsp;None,</div></div><div class=\"eaa9be8b-d4d9-4a4b-9dde-13f4a9568640\" style=\"display: none;\"><div style=\"display: table-cell;\"></div><div style=\"display: table-cell;\">min_interval&nbsp;=&nbsp;None,</div></div><div class=\"eaa9be8b-d4d9-4a4b-9dde-13f4a9568640\" style=\"display: none;\"><div style=\"display: table-cell;\"></div><div style=\"display: table-cell;\">name&nbsp;=&nbsp;None,</div></div><div class=\"eaa9be8b-d4d9-4a4b-9dde-13f4a9568640\" style=\"display: none;\"><div style=\"display: table-cell;\"></div><div style=\"display: table-cell;\">start&nbsp;=&nbsp;0,</div></div><div class=\"eaa9be8b-d4d9-4a4b-9dde-13f4a9568640\" style=\"display: none;\"><div style=\"display: table-cell;\"></div><div style=\"display: table-cell;\">subscribed_events&nbsp;=&nbsp;[],</div></div><div class=\"eaa9be8b-d4d9-4a4b-9dde-13f4a9568640\" style=\"display: none;\"><div style=\"display: table-cell;\"></div><div style=\"display: table-cell;\">tags&nbsp;=&nbsp;[])</div></div></div>\n",
       "<script>\n",
       "(function() {\n",
       "  var expanded = false;\n",
       "  var ellipsis = document.getElementById(\"4ee8e799-5162-4b7a-bb76-1a1c300e8c8c\");\n",
       "  ellipsis.addEventListener(\"click\", function() {\n",
       "    var rows = document.getElementsByClassName(\"eaa9be8b-d4d9-4a4b-9dde-13f4a9568640\");\n",
       "    for (var i = 0; i < rows.length; i++) {\n",
       "      var el = rows[i];\n",
       "      el.style.display = expanded ? \"none\" : \"table-row\";\n",
       "    }\n",
       "    ellipsis.innerHTML = expanded ? \"&hellip;)\" : \"&lsaquo;&lsaquo;&lsaquo;\";\n",
       "    expanded = !expanded;\n",
       "  });\n",
       "})();\n",
       "</script>\n"
      ],
      "text/plain": [
       "Range1d(id='0c24f15c-ed2b-48b7-be57-7658984bffb4', ...)"
      ]
     },
     "execution_count": 207,
     "metadata": {},
     "output_type": "execute_result"
    }
   ],
   "source": [
    "data_range"
   ]
  },
  {
   "cell_type": "code",
   "execution_count": null,
   "metadata": {},
   "outputs": [],
   "source": []
  },
  {
   "cell_type": "raw",
   "metadata": {},
   "source": []
  },
  {
   "cell_type": "code",
   "execution_count": 208,
   "metadata": {},
   "outputs": [
    {
     "ename": "ValueError",
     "evalue": "expected an element of either String, Dict(Enum('expr', 'field', 'value', 'transform', 'units'), Either(String, Instance(Transform), Instance(Expression), Float)) or Float, got {'field': 'wt', 'transform': Range1d(id='0c24f15c-ed2b-48b7-be57-7658984bffb4', ...)}",
     "output_type": "error",
     "traceback": [
      "\u001b[0;31m---------------------------------------------------------------------------\u001b[0m",
      "\u001b[0;31mValueError\u001b[0m                                Traceback (most recent call last)",
      "\u001b[0;32m<ipython-input-208-3814809c6e73>\u001b[0m in \u001b[0;36m<module>\u001b[0;34m()\u001b[0m\n\u001b[1;32m      2\u001b[0m \u001b[0;34m\u001b[0m\u001b[0m\n\u001b[1;32m      3\u001b[0m fig15.scatter(source=source, x=\"disp\", y=\"mpg\", color={\"field\": \"hp\", \"transform\": ColorMapper}, \n\u001b[0;32m----> 4\u001b[0;31m               size={\"field\":\"wt\", \"transform\": data_range})\n\u001b[0m\u001b[1;32m      5\u001b[0m \u001b[0;34m\u001b[0m\u001b[0m\n\u001b[1;32m      6\u001b[0m \u001b[0mshow\u001b[0m\u001b[0;34m(\u001b[0m\u001b[0mfig15\u001b[0m\u001b[0;34m)\u001b[0m\u001b[0;34m\u001b[0m\u001b[0m\n",
      "\u001b[0;32m~/anaconda3/lib/python3.6/site-packages/bokeh/plotting/figure.py\u001b[0m in \u001b[0;36mscatter\u001b[0;34m(self, *args, **kwargs)\u001b[0m\n\u001b[1;32m    710\u001b[0m             \u001b[0mmarkertype\u001b[0m \u001b[0;34m=\u001b[0m \u001b[0mconversions\u001b[0m\u001b[0;34m[\u001b[0m\u001b[0mmarkertype\u001b[0m\u001b[0;34m]\u001b[0m\u001b[0;34m\u001b[0m\u001b[0m\n\u001b[1;32m    711\u001b[0m \u001b[0;34m\u001b[0m\u001b[0m\n\u001b[0;32m--> 712\u001b[0;31m         \u001b[0;32mreturn\u001b[0m \u001b[0mgetattr\u001b[0m\u001b[0;34m(\u001b[0m\u001b[0mself\u001b[0m\u001b[0;34m,\u001b[0m \u001b[0mmarkertype\u001b[0m\u001b[0;34m)\u001b[0m\u001b[0;34m(\u001b[0m\u001b[0;34m*\u001b[0m\u001b[0margs\u001b[0m\u001b[0;34m,\u001b[0m \u001b[0;34m**\u001b[0m\u001b[0mkwargs\u001b[0m\u001b[0;34m)\u001b[0m\u001b[0;34m\u001b[0m\u001b[0m\n\u001b[0m\u001b[1;32m    713\u001b[0m \u001b[0;34m\u001b[0m\u001b[0m\n\u001b[1;32m    714\u001b[0m     \u001b[0;32mdef\u001b[0m \u001b[0mhexbin\u001b[0m\u001b[0;34m(\u001b[0m\u001b[0mself\u001b[0m\u001b[0;34m,\u001b[0m \u001b[0mx\u001b[0m\u001b[0;34m,\u001b[0m \u001b[0my\u001b[0m\u001b[0;34m,\u001b[0m \u001b[0msize\u001b[0m\u001b[0;34m,\u001b[0m \u001b[0morientation\u001b[0m\u001b[0;34m=\u001b[0m\u001b[0;34m\"pointytop\"\u001b[0m\u001b[0;34m,\u001b[0m \u001b[0mpalette\u001b[0m\u001b[0;34m=\u001b[0m\u001b[0;34m\"Viridis256\"\u001b[0m\u001b[0;34m,\u001b[0m \u001b[0mline_color\u001b[0m\u001b[0;34m=\u001b[0m\u001b[0;32mNone\u001b[0m\u001b[0;34m,\u001b[0m \u001b[0mfill_color\u001b[0m\u001b[0;34m=\u001b[0m\u001b[0;32mNone\u001b[0m\u001b[0;34m,\u001b[0m \u001b[0maspect_scale\u001b[0m\u001b[0;34m=\u001b[0m\u001b[0;36m1\u001b[0m\u001b[0;34m,\u001b[0m \u001b[0;34m**\u001b[0m\u001b[0mkwargs\u001b[0m\u001b[0;34m)\u001b[0m\u001b[0;34m:\u001b[0m\u001b[0;34m\u001b[0m\u001b[0m\n",
      "\u001b[0;32mfakesource\u001b[0m in \u001b[0;36mcircle\u001b[0;34m(self, x, y, **kwargs)\u001b[0m\n",
      "\u001b[0;32m~/anaconda3/lib/python3.6/site-packages/bokeh/plotting/helpers.py\u001b[0m in \u001b[0;36mfunc\u001b[0;34m(self, **kwargs)\u001b[0m\n\u001b[1;32m    751\u001b[0m             \u001b[0mmglyph_ca\u001b[0m \u001b[0;34m=\u001b[0m \u001b[0;32mNone\u001b[0m\u001b[0;34m\u001b[0m\u001b[0m\n\u001b[1;32m    752\u001b[0m \u001b[0;34m\u001b[0m\u001b[0m\n\u001b[0;32m--> 753\u001b[0;31m         \u001b[0mglyph\u001b[0m \u001b[0;34m=\u001b[0m \u001b[0m_make_glyph\u001b[0m\u001b[0;34m(\u001b[0m\u001b[0mglyphclass\u001b[0m\u001b[0;34m,\u001b[0m \u001b[0mkwargs\u001b[0m\u001b[0;34m,\u001b[0m \u001b[0mglyph_ca\u001b[0m\u001b[0;34m)\u001b[0m\u001b[0;34m\u001b[0m\u001b[0m\n\u001b[0m\u001b[1;32m    754\u001b[0m         \u001b[0mnsglyph\u001b[0m \u001b[0;34m=\u001b[0m \u001b[0m_make_glyph\u001b[0m\u001b[0;34m(\u001b[0m\u001b[0mglyphclass\u001b[0m\u001b[0;34m,\u001b[0m \u001b[0mkwargs\u001b[0m\u001b[0;34m,\u001b[0m \u001b[0mnsglyph_ca\u001b[0m\u001b[0;34m)\u001b[0m\u001b[0;34m\u001b[0m\u001b[0m\n\u001b[1;32m    755\u001b[0m         \u001b[0msglyph\u001b[0m \u001b[0;34m=\u001b[0m \u001b[0m_make_glyph\u001b[0m\u001b[0;34m(\u001b[0m\u001b[0mglyphclass\u001b[0m\u001b[0;34m,\u001b[0m \u001b[0mkwargs\u001b[0m\u001b[0;34m,\u001b[0m \u001b[0msglyph_ca\u001b[0m\u001b[0;34m)\u001b[0m\u001b[0;34m\u001b[0m\u001b[0m\n",
      "\u001b[0;32m~/anaconda3/lib/python3.6/site-packages/bokeh/plotting/helpers.py\u001b[0m in \u001b[0;36m_make_glyph\u001b[0;34m(glyphclass, kws, extra)\u001b[0m\n\u001b[1;32m    307\u001b[0m     \u001b[0mkws\u001b[0m \u001b[0;34m=\u001b[0m \u001b[0mkws\u001b[0m\u001b[0;34m.\u001b[0m\u001b[0mcopy\u001b[0m\u001b[0;34m(\u001b[0m\u001b[0;34m)\u001b[0m\u001b[0;34m\u001b[0m\u001b[0m\n\u001b[1;32m    308\u001b[0m     \u001b[0mkws\u001b[0m\u001b[0;34m.\u001b[0m\u001b[0mupdate\u001b[0m\u001b[0;34m(\u001b[0m\u001b[0mextra\u001b[0m\u001b[0;34m)\u001b[0m\u001b[0;34m\u001b[0m\u001b[0m\n\u001b[0;32m--> 309\u001b[0;31m     \u001b[0;32mreturn\u001b[0m \u001b[0mglyphclass\u001b[0m\u001b[0;34m(\u001b[0m\u001b[0;34m**\u001b[0m\u001b[0mkws\u001b[0m\u001b[0;34m)\u001b[0m\u001b[0;34m\u001b[0m\u001b[0m\n\u001b[0m\u001b[1;32m    310\u001b[0m \u001b[0;34m\u001b[0m\u001b[0m\n\u001b[1;32m    311\u001b[0m \u001b[0;34m\u001b[0m\u001b[0m\n",
      "\u001b[0;32m~/anaconda3/lib/python3.6/site-packages/bokeh/model.py\u001b[0m in \u001b[0;36m__init__\u001b[0;34m(self, **kwargs)\u001b[0m\n\u001b[1;32m    217\u001b[0m         \u001b[0mself\u001b[0m\u001b[0;34m.\u001b[0m\u001b[0m_id\u001b[0m \u001b[0;34m=\u001b[0m \u001b[0mkwargs\u001b[0m\u001b[0;34m.\u001b[0m\u001b[0mpop\u001b[0m\u001b[0;34m(\u001b[0m\u001b[0;34m\"id\"\u001b[0m\u001b[0;34m,\u001b[0m \u001b[0mmake_id\u001b[0m\u001b[0;34m(\u001b[0m\u001b[0;34m)\u001b[0m\u001b[0;34m)\u001b[0m\u001b[0;34m\u001b[0m\u001b[0m\n\u001b[1;32m    218\u001b[0m         \u001b[0mself\u001b[0m\u001b[0;34m.\u001b[0m\u001b[0m_document\u001b[0m \u001b[0;34m=\u001b[0m \u001b[0;32mNone\u001b[0m\u001b[0;34m\u001b[0m\u001b[0m\n\u001b[0;32m--> 219\u001b[0;31m         \u001b[0msuper\u001b[0m\u001b[0;34m(\u001b[0m\u001b[0mModel\u001b[0m\u001b[0;34m,\u001b[0m \u001b[0mself\u001b[0m\u001b[0;34m)\u001b[0m\u001b[0;34m.\u001b[0m\u001b[0m__init__\u001b[0m\u001b[0;34m(\u001b[0m\u001b[0;34m**\u001b[0m\u001b[0mkwargs\u001b[0m\u001b[0;34m)\u001b[0m\u001b[0;34m\u001b[0m\u001b[0m\n\u001b[0m\u001b[1;32m    220\u001b[0m         \u001b[0mdefault_theme\u001b[0m\u001b[0;34m.\u001b[0m\u001b[0mapply_to_model\u001b[0m\u001b[0;34m(\u001b[0m\u001b[0mself\u001b[0m\u001b[0;34m)\u001b[0m\u001b[0;34m\u001b[0m\u001b[0m\n\u001b[1;32m    221\u001b[0m \u001b[0;34m\u001b[0m\u001b[0m\n",
      "\u001b[0;32m~/anaconda3/lib/python3.6/site-packages/bokeh/core/has_props.py\u001b[0m in \u001b[0;36m__init__\u001b[0;34m(self, **properties)\u001b[0m\n\u001b[1;32m    234\u001b[0m \u001b[0;34m\u001b[0m\u001b[0m\n\u001b[1;32m    235\u001b[0m         \u001b[0;32mfor\u001b[0m \u001b[0mname\u001b[0m\u001b[0;34m,\u001b[0m \u001b[0mvalue\u001b[0m \u001b[0;32min\u001b[0m \u001b[0mproperties\u001b[0m\u001b[0;34m.\u001b[0m\u001b[0mitems\u001b[0m\u001b[0;34m(\u001b[0m\u001b[0;34m)\u001b[0m\u001b[0;34m:\u001b[0m\u001b[0;34m\u001b[0m\u001b[0m\n\u001b[0;32m--> 236\u001b[0;31m             \u001b[0msetattr\u001b[0m\u001b[0;34m(\u001b[0m\u001b[0mself\u001b[0m\u001b[0;34m,\u001b[0m \u001b[0mname\u001b[0m\u001b[0;34m,\u001b[0m \u001b[0mvalue\u001b[0m\u001b[0;34m)\u001b[0m\u001b[0;34m\u001b[0m\u001b[0m\n\u001b[0m\u001b[1;32m    237\u001b[0m \u001b[0;34m\u001b[0m\u001b[0m\n\u001b[1;32m    238\u001b[0m     \u001b[0;32mdef\u001b[0m \u001b[0m__setattr__\u001b[0m\u001b[0;34m(\u001b[0m\u001b[0mself\u001b[0m\u001b[0;34m,\u001b[0m \u001b[0mname\u001b[0m\u001b[0;34m,\u001b[0m \u001b[0mvalue\u001b[0m\u001b[0;34m)\u001b[0m\u001b[0;34m:\u001b[0m\u001b[0;34m\u001b[0m\u001b[0m\n",
      "\u001b[0;32m~/anaconda3/lib/python3.6/site-packages/bokeh/core/has_props.py\u001b[0m in \u001b[0;36m__setattr__\u001b[0;34m(self, name, value)\u001b[0m\n\u001b[1;32m    261\u001b[0m \u001b[0;34m\u001b[0m\u001b[0m\n\u001b[1;32m    262\u001b[0m         \u001b[0;32mif\u001b[0m \u001b[0mname\u001b[0m \u001b[0;32min\u001b[0m \u001b[0mprops\u001b[0m \u001b[0;32mor\u001b[0m \u001b[0;34m(\u001b[0m\u001b[0mdescriptor\u001b[0m \u001b[0;32mis\u001b[0m \u001b[0;32mnot\u001b[0m \u001b[0;32mNone\u001b[0m \u001b[0;32mand\u001b[0m \u001b[0mdescriptor\u001b[0m\u001b[0;34m.\u001b[0m\u001b[0mfset\u001b[0m \u001b[0;32mis\u001b[0m \u001b[0;32mnot\u001b[0m \u001b[0;32mNone\u001b[0m\u001b[0;34m)\u001b[0m\u001b[0;34m:\u001b[0m\u001b[0;34m\u001b[0m\u001b[0m\n\u001b[0;32m--> 263\u001b[0;31m             \u001b[0msuper\u001b[0m\u001b[0;34m(\u001b[0m\u001b[0mHasProps\u001b[0m\u001b[0;34m,\u001b[0m \u001b[0mself\u001b[0m\u001b[0;34m)\u001b[0m\u001b[0;34m.\u001b[0m\u001b[0m__setattr__\u001b[0m\u001b[0;34m(\u001b[0m\u001b[0mname\u001b[0m\u001b[0;34m,\u001b[0m \u001b[0mvalue\u001b[0m\u001b[0;34m)\u001b[0m\u001b[0;34m\u001b[0m\u001b[0m\n\u001b[0m\u001b[1;32m    264\u001b[0m         \u001b[0;32melse\u001b[0m\u001b[0;34m:\u001b[0m\u001b[0;34m\u001b[0m\u001b[0m\n\u001b[1;32m    265\u001b[0m             \u001b[0mmatches\u001b[0m\u001b[0;34m,\u001b[0m \u001b[0mtext\u001b[0m \u001b[0;34m=\u001b[0m \u001b[0mdifflib\u001b[0m\u001b[0;34m.\u001b[0m\u001b[0mget_close_matches\u001b[0m\u001b[0;34m(\u001b[0m\u001b[0mname\u001b[0m\u001b[0;34m.\u001b[0m\u001b[0mlower\u001b[0m\u001b[0;34m(\u001b[0m\u001b[0;34m)\u001b[0m\u001b[0;34m,\u001b[0m \u001b[0mprops\u001b[0m\u001b[0;34m)\u001b[0m\u001b[0;34m,\u001b[0m \u001b[0;34m\"similar\"\u001b[0m\u001b[0;34m\u001b[0m\u001b[0m\n",
      "\u001b[0;32m~/anaconda3/lib/python3.6/site-packages/bokeh/core/property/descriptors.py\u001b[0m in \u001b[0;36m__set__\u001b[0;34m(self, obj, value, setter)\u001b[0m\n\u001b[1;32m   1045\u001b[0m         '''\n\u001b[1;32m   1046\u001b[0m         \u001b[0mvalue\u001b[0m \u001b[0;34m=\u001b[0m \u001b[0mself\u001b[0m\u001b[0;34m.\u001b[0m\u001b[0m_extract_units\u001b[0m\u001b[0;34m(\u001b[0m\u001b[0mobj\u001b[0m\u001b[0;34m,\u001b[0m \u001b[0mvalue\u001b[0m\u001b[0;34m)\u001b[0m\u001b[0;34m\u001b[0m\u001b[0m\n\u001b[0;32m-> 1047\u001b[0;31m         \u001b[0msuper\u001b[0m\u001b[0;34m(\u001b[0m\u001b[0mUnitsSpecPropertyDescriptor\u001b[0m\u001b[0;34m,\u001b[0m \u001b[0mself\u001b[0m\u001b[0;34m)\u001b[0m\u001b[0;34m.\u001b[0m\u001b[0m__set__\u001b[0m\u001b[0;34m(\u001b[0m\u001b[0mobj\u001b[0m\u001b[0;34m,\u001b[0m \u001b[0mvalue\u001b[0m\u001b[0;34m,\u001b[0m \u001b[0msetter\u001b[0m\u001b[0;34m)\u001b[0m\u001b[0;34m\u001b[0m\u001b[0m\n\u001b[0m\u001b[1;32m   1048\u001b[0m \u001b[0;34m\u001b[0m\u001b[0m\n\u001b[1;32m   1049\u001b[0m     \u001b[0;32mdef\u001b[0m \u001b[0mset_from_json\u001b[0m\u001b[0;34m(\u001b[0m\u001b[0mself\u001b[0m\u001b[0;34m,\u001b[0m \u001b[0mobj\u001b[0m\u001b[0;34m,\u001b[0m \u001b[0mjson\u001b[0m\u001b[0;34m,\u001b[0m \u001b[0mmodels\u001b[0m\u001b[0;34m=\u001b[0m\u001b[0;32mNone\u001b[0m\u001b[0;34m,\u001b[0m \u001b[0msetter\u001b[0m\u001b[0;34m=\u001b[0m\u001b[0;32mNone\u001b[0m\u001b[0;34m)\u001b[0m\u001b[0;34m:\u001b[0m\u001b[0;34m\u001b[0m\u001b[0m\n",
      "\u001b[0;32m~/anaconda3/lib/python3.6/site-packages/bokeh/core/property/descriptors.py\u001b[0m in \u001b[0;36m__set__\u001b[0;34m(self, obj, value, setter)\u001b[0m\n\u001b[1;32m    501\u001b[0m             \u001b[0;32mraise\u001b[0m \u001b[0mRuntimeError\u001b[0m\u001b[0;34m(\u001b[0m\u001b[0;34m\"%s.%s is a readonly property\"\u001b[0m \u001b[0;34m%\u001b[0m \u001b[0;34m(\u001b[0m\u001b[0mobj\u001b[0m\u001b[0;34m.\u001b[0m\u001b[0m__class__\u001b[0m\u001b[0;34m.\u001b[0m\u001b[0m__name__\u001b[0m\u001b[0;34m,\u001b[0m \u001b[0mself\u001b[0m\u001b[0;34m.\u001b[0m\u001b[0mname\u001b[0m\u001b[0;34m)\u001b[0m\u001b[0;34m)\u001b[0m\u001b[0;34m\u001b[0m\u001b[0m\n\u001b[1;32m    502\u001b[0m \u001b[0;34m\u001b[0m\u001b[0m\n\u001b[0;32m--> 503\u001b[0;31m         \u001b[0mself\u001b[0m\u001b[0;34m.\u001b[0m\u001b[0m_internal_set\u001b[0m\u001b[0;34m(\u001b[0m\u001b[0mobj\u001b[0m\u001b[0;34m,\u001b[0m \u001b[0mvalue\u001b[0m\u001b[0;34m,\u001b[0m \u001b[0msetter\u001b[0m\u001b[0;34m=\u001b[0m\u001b[0msetter\u001b[0m\u001b[0;34m)\u001b[0m\u001b[0;34m\u001b[0m\u001b[0m\n\u001b[0m\u001b[1;32m    504\u001b[0m \u001b[0;34m\u001b[0m\u001b[0m\n\u001b[1;32m    505\u001b[0m     \u001b[0;32mdef\u001b[0m \u001b[0m__delete__\u001b[0m\u001b[0;34m(\u001b[0m\u001b[0mself\u001b[0m\u001b[0;34m,\u001b[0m \u001b[0mobj\u001b[0m\u001b[0;34m)\u001b[0m\u001b[0;34m:\u001b[0m\u001b[0;34m\u001b[0m\u001b[0m\n",
      "\u001b[0;32m~/anaconda3/lib/python3.6/site-packages/bokeh/core/property/descriptors.py\u001b[0m in \u001b[0;36m_internal_set\u001b[0;34m(self, obj, value, hint, setter)\u001b[0m\n\u001b[1;32m    722\u001b[0m \u001b[0;34m\u001b[0m\u001b[0m\n\u001b[1;32m    723\u001b[0m         '''\n\u001b[0;32m--> 724\u001b[0;31m         \u001b[0mvalue\u001b[0m \u001b[0;34m=\u001b[0m \u001b[0mself\u001b[0m\u001b[0;34m.\u001b[0m\u001b[0mproperty\u001b[0m\u001b[0;34m.\u001b[0m\u001b[0mprepare_value\u001b[0m\u001b[0;34m(\u001b[0m\u001b[0mobj\u001b[0m\u001b[0;34m,\u001b[0m \u001b[0mself\u001b[0m\u001b[0;34m.\u001b[0m\u001b[0mname\u001b[0m\u001b[0;34m,\u001b[0m \u001b[0mvalue\u001b[0m\u001b[0;34m)\u001b[0m\u001b[0;34m\u001b[0m\u001b[0m\n\u001b[0m\u001b[1;32m    725\u001b[0m \u001b[0;34m\u001b[0m\u001b[0m\n\u001b[1;32m    726\u001b[0m         \u001b[0mold\u001b[0m \u001b[0;34m=\u001b[0m \u001b[0mself\u001b[0m\u001b[0;34m.\u001b[0m\u001b[0m__get__\u001b[0m\u001b[0;34m(\u001b[0m\u001b[0mobj\u001b[0m\u001b[0;34m,\u001b[0m \u001b[0mobj\u001b[0m\u001b[0;34m.\u001b[0m\u001b[0m__class__\u001b[0m\u001b[0;34m)\u001b[0m\u001b[0;34m\u001b[0m\u001b[0m\n",
      "\u001b[0;32m~/anaconda3/lib/python3.6/site-packages/bokeh/core/properties.py\u001b[0m in \u001b[0;36mprepare_value\u001b[0;34m(self, cls, name, value)\u001b[0m\n\u001b[1;32m   1754\u001b[0m         \u001b[0;32mexcept\u001b[0m \u001b[0mTypeError\u001b[0m\u001b[0;34m:\u001b[0m\u001b[0;34m\u001b[0m\u001b[0m\n\u001b[1;32m   1755\u001b[0m             \u001b[0;32mpass\u001b[0m\u001b[0;34m\u001b[0m\u001b[0m\n\u001b[0;32m-> 1756\u001b[0;31m         \u001b[0;32mreturn\u001b[0m \u001b[0msuper\u001b[0m\u001b[0;34m(\u001b[0m\u001b[0mScreenDistanceSpec\u001b[0m\u001b[0;34m,\u001b[0m \u001b[0mself\u001b[0m\u001b[0;34m)\u001b[0m\u001b[0;34m.\u001b[0m\u001b[0mprepare_value\u001b[0m\u001b[0;34m(\u001b[0m\u001b[0mcls\u001b[0m\u001b[0;34m,\u001b[0m \u001b[0mname\u001b[0m\u001b[0;34m,\u001b[0m \u001b[0mvalue\u001b[0m\u001b[0;34m)\u001b[0m\u001b[0;34m\u001b[0m\u001b[0m\n\u001b[0m\u001b[1;32m   1757\u001b[0m \u001b[0;34m\u001b[0m\u001b[0m\n\u001b[1;32m   1758\u001b[0m     \u001b[0;32mdef\u001b[0m \u001b[0mmake_descriptors\u001b[0m\u001b[0;34m(\u001b[0m\u001b[0mself\u001b[0m\u001b[0;34m,\u001b[0m \u001b[0mbase_name\u001b[0m\u001b[0;34m)\u001b[0m\u001b[0;34m:\u001b[0m\u001b[0;34m\u001b[0m\u001b[0m\n",
      "\u001b[0;32m~/anaconda3/lib/python3.6/site-packages/bokeh/core/property/bases.py\u001b[0m in \u001b[0;36mprepare_value\u001b[0;34m(self, obj_or_cls, name, value)\u001b[0m\n\u001b[1;32m    279\u001b[0m                     \u001b[0;32mbreak\u001b[0m\u001b[0;34m\u001b[0m\u001b[0m\n\u001b[1;32m    280\u001b[0m             \u001b[0;32melse\u001b[0m\u001b[0;34m:\u001b[0m\u001b[0;34m\u001b[0m\u001b[0m\n\u001b[0;32m--> 281\u001b[0;31m                 \u001b[0;32mraise\u001b[0m \u001b[0me\u001b[0m\u001b[0;34m\u001b[0m\u001b[0m\n\u001b[0m\u001b[1;32m    282\u001b[0m         \u001b[0;32melse\u001b[0m\u001b[0;34m:\u001b[0m\u001b[0;34m\u001b[0m\u001b[0m\n\u001b[1;32m    283\u001b[0m             \u001b[0mvalue\u001b[0m \u001b[0;34m=\u001b[0m \u001b[0mself\u001b[0m\u001b[0;34m.\u001b[0m\u001b[0mtransform\u001b[0m\u001b[0;34m(\u001b[0m\u001b[0mvalue\u001b[0m\u001b[0;34m)\u001b[0m\u001b[0;34m\u001b[0m\u001b[0m\n",
      "\u001b[0;32m~/anaconda3/lib/python3.6/site-packages/bokeh/core/property/bases.py\u001b[0m in \u001b[0;36mprepare_value\u001b[0;34m(self, obj_or_cls, name, value)\u001b[0m\n\u001b[1;32m    272\u001b[0m     \u001b[0;32mdef\u001b[0m \u001b[0mprepare_value\u001b[0m\u001b[0;34m(\u001b[0m\u001b[0mself\u001b[0m\u001b[0;34m,\u001b[0m \u001b[0mobj_or_cls\u001b[0m\u001b[0;34m,\u001b[0m \u001b[0mname\u001b[0m\u001b[0;34m,\u001b[0m \u001b[0mvalue\u001b[0m\u001b[0;34m)\u001b[0m\u001b[0;34m:\u001b[0m\u001b[0;34m\u001b[0m\u001b[0m\n\u001b[1;32m    273\u001b[0m         \u001b[0;32mtry\u001b[0m\u001b[0;34m:\u001b[0m\u001b[0;34m\u001b[0m\u001b[0m\n\u001b[0;32m--> 274\u001b[0;31m             \u001b[0mself\u001b[0m\u001b[0;34m.\u001b[0m\u001b[0mvalidate\u001b[0m\u001b[0;34m(\u001b[0m\u001b[0mvalue\u001b[0m\u001b[0;34m)\u001b[0m\u001b[0;34m\u001b[0m\u001b[0m\n\u001b[0m\u001b[1;32m    275\u001b[0m         \u001b[0;32mexcept\u001b[0m \u001b[0mValueError\u001b[0m \u001b[0;32mas\u001b[0m \u001b[0me\u001b[0m\u001b[0;34m:\u001b[0m\u001b[0;34m\u001b[0m\u001b[0m\n\u001b[1;32m    276\u001b[0m             \u001b[0;32mfor\u001b[0m \u001b[0mtp\u001b[0m\u001b[0;34m,\u001b[0m \u001b[0mconverter\u001b[0m \u001b[0;32min\u001b[0m \u001b[0mself\u001b[0m\u001b[0;34m.\u001b[0m\u001b[0malternatives\u001b[0m\u001b[0;34m:\u001b[0m\u001b[0;34m\u001b[0m\u001b[0m\n",
      "\u001b[0;32m~/anaconda3/lib/python3.6/site-packages/bokeh/core/properties.py\u001b[0m in \u001b[0;36mvalidate\u001b[0;34m(self, value)\u001b[0m\n\u001b[1;32m    689\u001b[0m \u001b[0;34m\u001b[0m\u001b[0m\n\u001b[1;32m    690\u001b[0m         \u001b[0;32mif\u001b[0m \u001b[0;32mnot\u001b[0m \u001b[0;34m(\u001b[0m\u001b[0mvalue\u001b[0m \u001b[0;32mis\u001b[0m \u001b[0;32mNone\u001b[0m \u001b[0;32mor\u001b[0m \u001b[0many\u001b[0m\u001b[0;34m(\u001b[0m\u001b[0mparam\u001b[0m\u001b[0;34m.\u001b[0m\u001b[0mis_valid\u001b[0m\u001b[0;34m(\u001b[0m\u001b[0mvalue\u001b[0m\u001b[0;34m)\u001b[0m \u001b[0;32mfor\u001b[0m \u001b[0mparam\u001b[0m \u001b[0;32min\u001b[0m \u001b[0mself\u001b[0m\u001b[0;34m.\u001b[0m\u001b[0mtype_params\u001b[0m\u001b[0;34m)\u001b[0m\u001b[0;34m)\u001b[0m\u001b[0;34m:\u001b[0m\u001b[0;34m\u001b[0m\u001b[0m\n\u001b[0;32m--> 691\u001b[0;31m             \u001b[0;32mraise\u001b[0m \u001b[0mValueError\u001b[0m\u001b[0;34m(\u001b[0m\u001b[0;34m\"expected an element of either %s, got %r\"\u001b[0m \u001b[0;34m%\u001b[0m \u001b[0;34m(\u001b[0m\u001b[0mnice_join\u001b[0m\u001b[0;34m(\u001b[0m\u001b[0mself\u001b[0m\u001b[0;34m.\u001b[0m\u001b[0mtype_params\u001b[0m\u001b[0;34m)\u001b[0m\u001b[0;34m,\u001b[0m \u001b[0mvalue\u001b[0m\u001b[0;34m)\u001b[0m\u001b[0;34m)\u001b[0m\u001b[0;34m\u001b[0m\u001b[0m\n\u001b[0m\u001b[1;32m    692\u001b[0m \u001b[0;34m\u001b[0m\u001b[0m\n\u001b[1;32m    693\u001b[0m     \u001b[0;31m# TODO (bev) implement this\u001b[0m\u001b[0;34m\u001b[0m\u001b[0;34m\u001b[0m\u001b[0m\n",
      "\u001b[0;31mValueError\u001b[0m: expected an element of either String, Dict(Enum('expr', 'field', 'value', 'transform', 'units'), Either(String, Instance(Transform), Instance(Expression), Float)) or Float, got {'field': 'wt', 'transform': Range1d(id='0c24f15c-ed2b-48b7-be57-7658984bffb4', ...)}"
     ]
    }
   ],
   "source": [
    "fig15 = figure(plot_height=500, plot_width=800, title=\"Figure 1.5 - Using 5 scales\")\n",
    "\n",
    "fig15.scatter(source=source, x=\"disp\", y=\"mpg\", color={\"field\": \"hp\", \"transform\": ColorMapper}, \n",
    "              size={\"field\":\"wt\", \"transform\": data_range})\n",
    "\n",
    "show(fig15)"
   ]
  },
  {
   "cell_type": "code",
   "execution_count": null,
   "metadata": {},
   "outputs": [],
   "source": []
  },
  {
   "cell_type": "code",
   "execution_count": null,
   "metadata": {},
   "outputs": [],
   "source": []
  },
  {
   "cell_type": "code",
   "execution_count": null,
   "metadata": {},
   "outputs": [],
   "source": []
  },
  {
   "cell_type": "markdown",
   "metadata": {},
   "source": [
    "###### This is not correct as the scale of the weight in each subset might be different"
   ]
  },
  {
   "cell_type": "code",
   "execution_count": 211,
   "metadata": {},
   "outputs": [
    {
     "data": {
      "text/html": [
       "\n",
       "<div class=\"bk-root\">\n",
       "    <div class=\"bk-plotdiv\" id=\"92e346ce-aa46-4f79-b7a4-8e0fb384fe3b\"></div>\n",
       "</div>"
      ]
     },
     "metadata": {},
     "output_type": "display_data"
    },
    {
     "data": {
      "application/javascript": [
       "(function(root) {\n",
       "  function embed_document(root) {\n",
       "    \n",
       "  var docs_json = {\"813873c2-e4b6-4019-8231-e6eb7a505e45\":{\"roots\":{\"references\":[{\"attributes\":{\"dimension\":1,\"plot\":{\"id\":\"e0e4556a-476b-484b-b62b-b88be0a41e56\",\"subtype\":\"Figure\",\"type\":\"Plot\"},\"ticker\":{\"id\":\"157a9623-804b-4bbc-b556-d70e6909a6d0\",\"type\":\"BasicTicker\"}},\"id\":\"5822a43c-822c-439a-8408-b8e8d4f75c5c\",\"type\":\"Grid\"},{\"attributes\":{},\"id\":\"1056e9cf-beee-42d5-85ec-1e73ab72e2da\",\"type\":\"LinearScale\"},{\"attributes\":{\"callback\":null},\"id\":\"f0f3e3f3-ab83-4da8-8545-72968aef7f90\",\"type\":\"DataRange1d\"},{\"attributes\":{},\"id\":\"b272feca-d41b-4082-a777-b4c96fb6671f\",\"type\":\"LinearScale\"},{\"attributes\":{\"high\":335,\"low\":52,\"palette\":[\"#75968f\",\"#a5bab7\",\"#c9d9d3\"]},\"id\":\"db4a7909-41a7-44b2-952d-95c7592885d2\",\"type\":\"LinearColorMapper\"},{\"attributes\":{\"plot\":{\"id\":\"e0e4556a-476b-484b-b62b-b88be0a41e56\",\"subtype\":\"Figure\",\"type\":\"Plot\"},\"ticker\":{\"id\":\"c331ead3-0929-499c-80b7-b874d97a36ce\",\"type\":\"BasicTicker\"}},\"id\":\"ef598e1d-ac43-4709-8fd5-2a658e664cee\",\"type\":\"Grid\"},{\"attributes\":{\"formatter\":{\"id\":\"50b69e52-aa09-4fcb-9dbf-4edc3fbade4c\",\"type\":\"BasicTickFormatter\"},\"plot\":{\"id\":\"e0e4556a-476b-484b-b62b-b88be0a41e56\",\"subtype\":\"Figure\",\"type\":\"Plot\"},\"ticker\":{\"id\":\"c331ead3-0929-499c-80b7-b874d97a36ce\",\"type\":\"BasicTicker\"}},\"id\":\"3353dcb6-e3fb-4582-b553-211b32d04748\",\"type\":\"LinearAxis\"},{\"attributes\":{},\"id\":\"c331ead3-0929-499c-80b7-b874d97a36ce\",\"type\":\"BasicTicker\"},{\"attributes\":{\"formatter\":{\"id\":\"40c67fa6-e475-4810-8b35-933dd8d5a7ce\",\"type\":\"BasicTickFormatter\"},\"plot\":{\"id\":\"e0e4556a-476b-484b-b62b-b88be0a41e56\",\"subtype\":\"Figure\",\"type\":\"Plot\"},\"ticker\":{\"id\":\"157a9623-804b-4bbc-b556-d70e6909a6d0\",\"type\":\"BasicTicker\"}},\"id\":\"1949e0ef-a1e6-4c43-b51f-c85fc2db71cb\",\"type\":\"LinearAxis\"},{\"attributes\":{\"fill_alpha\":{\"value\":0.1},\"fill_color\":{\"value\":\"#1f77b4\"},\"line_alpha\":{\"value\":0.1},\"line_color\":{\"value\":\"#1f77b4\"},\"size\":{\"field\":\"wt\",\"units\":\"screen\"},\"x\":{\"field\":\"disp\"},\"y\":{\"field\":\"mpg\"}},\"id\":\"131d5c65-8da6-4480-8111-08d0dbf5f638\",\"type\":\"Triangle\"},{\"attributes\":{\"callback\":null,\"column_names\":[\"Unnamed: 0\",\"mpg\",\"cyl\",\"disp\",\"hp\",\"drat\",\"wt\",\"qsec\",\"vs\",\"am\",\"gear\",\"carb\",\"index\"],\"data\":{\"Unnamed: 0\":[\"Mazda RX4\",\"Mazda RX4 Wag\",\"Hornet 4 Drive\",\"Valiant\",\"Merc 280\",\"Merc 280C\",\"Ferrari Dino\"],\"am\":[1,1,0,0,0,0,1],\"carb\":[4,4,1,1,4,4,6],\"cyl\":[6,6,6,6,6,6,6],\"disp\":{\"__ndarray__\":\"AAAAAAAAZEAAAAAAAABkQAAAAAAAIHBAAAAAAAAgbEAzMzMzM/NkQDMzMzMz82RAAAAAAAAgYkA=\",\"dtype\":\"float64\",\"shape\":[7]},\"drat\":{\"__ndarray__\":\"MzMzMzMzD0AzMzMzMzMPQKRwPQrXowhAFK5H4XoUBkBcj8L1KFwPQFyPwvUoXA9A9ihcj8L1DEA=\",\"dtype\":\"float64\",\"shape\":[7]},\"gear\":[4,4,3,3,4,4,5],\"hp\":[110,110,110,105,123,123,175],\"index\":[0,1,3,5,9,10,29],\"mpg\":{\"__ndarray__\":\"AAAAAAAANUAAAAAAAAA1QGZmZmZmZjVAmpmZmZkZMkAzMzMzMzMzQM3MzMzMzDFAMzMzMzOzM0A=\",\"dtype\":\"float64\",\"shape\":[7]},\"qsec\":{\"__ndarray__\":\"9ihcj8J1MECF61G4HgUxQHE9CtejcDNAuB6F61E4NEDNzMzMzEwyQGZmZmZm5jJAAAAAAAAAL0A=\",\"dtype\":\"float64\",\"shape\":[7]},\"vs\":[0,0,1,1,1,1,0],\"wt\":{\"__ndarray__\":\"NDMzMzMzKkAAAAAAAMAsQDMzMzMzEzBAzczMzMxMMUAzMzMzMzMxQDMzMzMzMzFAMzMzMzOzK0A=\",\"dtype\":\"float64\",\"shape\":[7]}},\"selected\":null,\"selection_policy\":null},\"id\":\"8e74760e-5227-41dc-aedb-3fad79188f99\",\"type\":\"ColumnDataSource\"},{\"attributes\":{\"bottom_units\":\"screen\",\"fill_alpha\":{\"value\":0.5},\"fill_color\":{\"value\":\"lightgrey\"},\"left_units\":\"screen\",\"level\":\"overlay\",\"line_alpha\":{\"value\":1.0},\"line_color\":{\"value\":\"black\"},\"line_dash\":[4,4],\"line_width\":{\"value\":2},\"plot\":null,\"render_mode\":\"css\",\"right_units\":\"screen\",\"top_units\":\"screen\"},\"id\":\"5246fd60-968f-40e8-b29c-a675257fc6a0\",\"type\":\"BoxAnnotation\"},{\"attributes\":{\"callback\":null,\"column_names\":[\"Unnamed: 0\",\"mpg\",\"cyl\",\"disp\",\"hp\",\"drat\",\"wt\",\"qsec\",\"vs\",\"am\",\"gear\",\"carb\",\"index\"],\"data\":{\"Unnamed: 0\":[\"Hornet Sportabout\",\"Duster 360\",\"Merc 450SE\",\"Merc 450SL\",\"Merc 450SLC\",\"Cadillac Fleetwood\",\"Lincoln Continental\",\"Chrysler Imperial\",\"Dodge Challenger\",\"AMC Javelin\",\"Camaro Z28\",\"Pontiac Firebird\",\"Ford Pantera L\",\"Maserati Bora\"],\"am\":[0,0,0,0,0,0,0,0,0,0,0,0,1,1],\"carb\":[2,4,3,3,3,4,4,4,2,2,4,2,4,8],\"cyl\":[8,8,8,8,8,8,8,8,8,8,8,8,8,8],\"disp\":{\"__ndarray__\":\"AAAAAACAdkAAAAAAAIB2QM3MzMzMPHFAzczMzMw8cUDNzMzMzDxxQAAAAAAAgH1AAAAAAADAfEAAAAAAAIB7QAAAAAAA4HNAAAAAAAAAc0AAAAAAAOB1QAAAAAAAAHlAAAAAAADwdUAAAAAAANByQA==\",\"dtype\":\"float64\",\"shape\":[14]},\"drat\":{\"__ndarray__\":\"MzMzMzMzCUCuR+F6FK4JQI/C9ShcjwhAj8L1KFyPCECPwvUoXI8IQHE9CtejcAdAAAAAAAAACEDXo3A9CtcJQBSuR+F6FAZAMzMzMzMzCUDXo3A9CtcNQKRwPQrXowhA4XoUrkfhEEBSuB6F61EMQA==\",\"dtype\":\"float64\",\"shape\":[14]},\"gear\":[3,3,3,3,3,3,3,3,3,3,3,3,5,5],\"hp\":[175,245,180,180,180,205,215,230,150,150,245,175,264,335],\"index\":[4,6,11,12,13,14,15,16,21,22,23,24,28,30],\"mpg\":{\"__ndarray__\":\"MzMzMzOzMkCamZmZmZksQGZmZmZmZjBAzczMzMxMMUBmZmZmZmYuQM3MzMzMzCRAzczMzMzMJEBmZmZmZmYtQAAAAAAAAC9AZmZmZmZmLkCamZmZmZkqQDMzMzMzMzNAmpmZmZmZL0AAAAAAAAAuQA==\",\"dtype\":\"float64\",\"shape\":[14]},\"qsec\":{\"__ndarray__\":\"hetRuB4FMUCuR+F6FK4vQGZmZmZmZjFAmpmZmZmZMUAAAAAAAAAyQHsUrkfh+jFAUrgehevRMUDsUbgehWsxQB+F61G43jBAzczMzMxMMUBSuB6F69EuQM3MzMzMDDFAAAAAAAAALUAzMzMzMzMtQA==\",\"dtype\":\"float64\",\"shape\":[14]},\"vs\":[0,0,0,0,0,0,0,0,0,0,0,0,0,0],\"wt\":{\"__ndarray__\":\"MzMzMzMzMUCZmZmZmdkxQJqZmZmZWTRAZmZmZmamMkBmZmZmZuYyQAAAAAAAQDpAHoXrUbgeO0CZmZmZmbk6QJqZmZmZmTFAzczMzMwsMUAzMzMzMzMzQJqZmZmZOTNAMzMzMzOzL0CZmZmZmdkxQA==\",\"dtype\":\"float64\",\"shape\":[14]}},\"selected\":null,\"selection_policy\":null},\"id\":\"328b9d3b-9aa0-497e-839e-4768d79e90ad\",\"type\":\"ColumnDataSource\"},{\"attributes\":{},\"id\":\"59e7eb73-04ba-4fc0-b399-cbcc1ca7ce2e\",\"type\":\"PanTool\"},{\"attributes\":{\"fill_alpha\":{\"value\":0.1},\"fill_color\":{\"value\":\"#1f77b4\"},\"line_alpha\":{\"value\":0.1},\"line_color\":{\"value\":\"#1f77b4\"},\"size\":{\"field\":\"wt\",\"units\":\"screen\"},\"x\":{\"field\":\"disp\"},\"y\":{\"field\":\"mpg\"}},\"id\":\"3ef0533f-da3b-4347-9511-a5a2ac278118\",\"type\":\"Circle\"},{\"attributes\":{},\"id\":\"46166be5-2a45-41d0-80e1-1474c9273fc1\",\"type\":\"WheelZoomTool\"},{\"attributes\":{\"overlay\":{\"id\":\"5246fd60-968f-40e8-b29c-a675257fc6a0\",\"type\":\"BoxAnnotation\"}},\"id\":\"59562949-f6b7-4eb0-8251-a95526d1385f\",\"type\":\"BoxZoomTool\"},{\"attributes\":{},\"id\":\"bf580a5b-2188-42f8-83a9-f4626f99eacb\",\"type\":\"SaveTool\"},{\"attributes\":{},\"id\":\"2fc590e3-0a61-4b9d-a9e3-c3a59ffca3f0\",\"type\":\"ResetTool\"},{\"attributes\":{},\"id\":\"e3adfc97-9830-4a2c-a170-bdd3157f0a1e\",\"type\":\"HelpTool\"},{\"attributes\":{\"data_source\":{\"id\":\"328b9d3b-9aa0-497e-839e-4768d79e90ad\",\"type\":\"ColumnDataSource\"},\"glyph\":{\"id\":\"a7e81b5f-eb1d-409a-917a-dd926fe30fa1\",\"type\":\"Circle\"},\"hover_glyph\":null,\"muted_glyph\":null,\"nonselection_glyph\":{\"id\":\"3ef0533f-da3b-4347-9511-a5a2ac278118\",\"type\":\"Circle\"},\"selection_glyph\":null,\"view\":{\"id\":\"d145f0b0-1c91-4776-beab-1f36432696a9\",\"type\":\"CDSView\"}},\"id\":\"8fc0011d-fe59-40a3-a0d7-4eed82784ca5\",\"type\":\"GlyphRenderer\"},{\"attributes\":{},\"id\":\"50b69e52-aa09-4fcb-9dbf-4edc3fbade4c\",\"type\":\"BasicTickFormatter\"},{\"attributes\":{\"fill_color\":{\"field\":\"hp\",\"transform\":{\"id\":\"db4a7909-41a7-44b2-952d-95c7592885d2\",\"type\":\"LinearColorMapper\"}},\"line_color\":{\"field\":\"hp\",\"transform\":{\"id\":\"db4a7909-41a7-44b2-952d-95c7592885d2\",\"type\":\"LinearColorMapper\"}},\"size\":{\"field\":\"wt\",\"units\":\"screen\"},\"x\":{\"field\":\"disp\"},\"y\":{\"field\":\"mpg\"}},\"id\":\"a7e81b5f-eb1d-409a-917a-dd926fe30fa1\",\"type\":\"Circle\"},{\"attributes\":{\"fill_color\":{\"field\":\"hp\",\"transform\":{\"id\":\"db4a7909-41a7-44b2-952d-95c7592885d2\",\"type\":\"LinearColorMapper\"}},\"line_color\":{\"field\":\"hp\",\"transform\":{\"id\":\"db4a7909-41a7-44b2-952d-95c7592885d2\",\"type\":\"LinearColorMapper\"}},\"size\":{\"field\":\"wt\",\"units\":\"screen\"},\"x\":{\"field\":\"disp\"},\"y\":{\"field\":\"mpg\"}},\"id\":\"b791c857-9366-4c92-bfaf-4bbd344ea792\",\"type\":\"Triangle\"},{\"attributes\":{\"source\":{\"id\":\"328b9d3b-9aa0-497e-839e-4768d79e90ad\",\"type\":\"ColumnDataSource\"}},\"id\":\"d145f0b0-1c91-4776-beab-1f36432696a9\",\"type\":\"CDSView\"},{\"attributes\":{\"data_source\":{\"id\":\"34c11c8c-a184-4081-aad3-556165d1e54e\",\"type\":\"ColumnDataSource\"},\"glyph\":{\"id\":\"d73a6776-fe20-4c1e-9f69-c533d0c548fc\",\"type\":\"Square\"},\"hover_glyph\":null,\"muted_glyph\":null,\"nonselection_glyph\":{\"id\":\"63840ce0-282b-437d-8de9-fc29e54d744f\",\"type\":\"Square\"},\"selection_glyph\":null,\"view\":{\"id\":\"8e600f94-7596-4367-a54e-6c8e6e5129d8\",\"type\":\"CDSView\"}},\"id\":\"a97732e7-c100-432d-af23-823d005bdda1\",\"type\":\"GlyphRenderer\"},{\"attributes\":{\"below\":[{\"id\":\"3353dcb6-e3fb-4582-b553-211b32d04748\",\"type\":\"LinearAxis\"}],\"left\":[{\"id\":\"1949e0ef-a1e6-4c43-b51f-c85fc2db71cb\",\"type\":\"LinearAxis\"}],\"plot_height\":500,\"plot_width\":800,\"renderers\":[{\"id\":\"3353dcb6-e3fb-4582-b553-211b32d04748\",\"type\":\"LinearAxis\"},{\"id\":\"ef598e1d-ac43-4709-8fd5-2a658e664cee\",\"type\":\"Grid\"},{\"id\":\"1949e0ef-a1e6-4c43-b51f-c85fc2db71cb\",\"type\":\"LinearAxis\"},{\"id\":\"5822a43c-822c-439a-8408-b8e8d4f75c5c\",\"type\":\"Grid\"},{\"id\":\"5246fd60-968f-40e8-b29c-a675257fc6a0\",\"type\":\"BoxAnnotation\"},{\"id\":\"a97732e7-c100-432d-af23-823d005bdda1\",\"type\":\"GlyphRenderer\"},{\"id\":\"6b67b873-5ecc-448e-a62c-76b0b65974f3\",\"type\":\"GlyphRenderer\"},{\"id\":\"8fc0011d-fe59-40a3-a0d7-4eed82784ca5\",\"type\":\"GlyphRenderer\"}],\"title\":{\"id\":\"56633048-0a4d-47e3-a2d7-b0ff39f7531a\",\"type\":\"Title\"},\"toolbar\":{\"id\":\"e733e151-4b04-41ce-9f93-a8a307db64e8\",\"type\":\"Toolbar\"},\"x_range\":{\"id\":\"01b55cb7-9d30-4a8f-9e38-96f37f4ef945\",\"type\":\"DataRange1d\"},\"x_scale\":{\"id\":\"1056e9cf-beee-42d5-85ec-1e73ab72e2da\",\"type\":\"LinearScale\"},\"y_range\":{\"id\":\"f0f3e3f3-ab83-4da8-8545-72968aef7f90\",\"type\":\"DataRange1d\"},\"y_scale\":{\"id\":\"b272feca-d41b-4082-a777-b4c96fb6671f\",\"type\":\"LinearScale\"}},\"id\":\"e0e4556a-476b-484b-b62b-b88be0a41e56\",\"subtype\":\"Figure\",\"type\":\"Plot\"},{\"attributes\":{},\"id\":\"40c67fa6-e475-4810-8b35-933dd8d5a7ce\",\"type\":\"BasicTickFormatter\"},{\"attributes\":{\"callback\":null,\"column_names\":[\"Unnamed: 0\",\"mpg\",\"cyl\",\"disp\",\"hp\",\"drat\",\"wt\",\"qsec\",\"vs\",\"am\",\"gear\",\"carb\",\"index\"],\"data\":{\"Unnamed: 0\":[\"Datsun 710\",\"Merc 240D\",\"Merc 230\",\"Fiat 128\",\"Honda Civic\",\"Toyota Corolla\",\"Toyota Corona\",\"Fiat X1-9\",\"Porsche 914-2\",\"Lotus Europa\",\"Volvo 142E\"],\"am\":[1,0,0,1,1,1,0,1,1,1,1],\"carb\":[1,2,2,1,2,1,1,1,2,2,2],\"cyl\":[4,4,4,4,4,4,4,4,4,4,4],\"disp\":{\"__ndarray__\":\"AAAAAAAAW0BmZmZmZlZiQJqZmZmZmWFAzczMzMysU0DNzMzMzOxSQGZmZmZmxlFAZmZmZmYGXkAAAAAAAMBTQDMzMzMzE15AZmZmZmbGV0AAAAAAAEBeQA==\",\"dtype\":\"float64\",\"shape\":[11]},\"drat\":{\"__ndarray__\":\"zczMzMzMDkCF61G4HoUNQFyPwvUoXA9AUrgehetREEC4HoXrUbgTQOF6FK5H4RBAmpmZmZmZDUBSuB6F61EQQLgehetRuBFAKVyPwvUoDkBxPQrXo3AQQA==\",\"dtype\":\"float64\",\"shape\":[11]},\"gear\":[4,4,4,4,4,4,3,4,5,5,4],\"hp\":[93,62,95,66,52,65,97,66,91,113,109],\"index\":[2,7,8,17,18,19,20,25,26,27,31],\"mpg\":{\"__ndarray__\":\"zczMzMzMNkBmZmZmZmY4QM3MzMzMzDZAMzMzMzMzQEBmZmZmZmY+QDMzMzMz80BAAAAAAACANUDNzMzMzEw7QAAAAAAAADpAZmZmZmZmPkBmZmZmZmY1QA==\",\"dtype\":\"float64\",\"shape\":[11]},\"qsec\":{\"__ndarray__\":\"XI/C9SicMkAAAAAAAAA0QGZmZmZm5jZAuB6F61F4M0CF61G4HoUyQGZmZmZm5jNAw/UoXI8CNEBmZmZmZuYyQDMzMzMzszBAZmZmZmbmMECamZmZmZkyQA==\",\"dtype\":\"float64\",\"shape\":[11]},\"vs\":[1,1,1,1,1,1,1,1,0,1,1],\"wt\":{\"__ndarray__\":\"MzMzMzMzJ0BmZmZmZuYvQAAAAAAAgC9AAAAAAAAAJkBmZmZmZiYgQJqZmZmZWSJAZmZmZmamKECamZmZmVkjQGdmZmZmZiVAw/UoXI9CHkDMzMzMzMwrQA==\",\"dtype\":\"float64\",\"shape\":[11]}},\"selected\":null,\"selection_policy\":null},\"id\":\"34c11c8c-a184-4081-aad3-556165d1e54e\",\"type\":\"ColumnDataSource\"},{\"attributes\":{\"angle\":{\"units\":\"rad\",\"value\":45},\"fill_color\":{\"field\":\"hp\",\"transform\":{\"id\":\"db4a7909-41a7-44b2-952d-95c7592885d2\",\"type\":\"LinearColorMapper\"}},\"line_color\":{\"field\":\"hp\",\"transform\":{\"id\":\"db4a7909-41a7-44b2-952d-95c7592885d2\",\"type\":\"LinearColorMapper\"}},\"size\":{\"field\":\"wt\",\"units\":\"screen\"},\"x\":{\"field\":\"disp\"},\"y\":{\"field\":\"mpg\"}},\"id\":\"d73a6776-fe20-4c1e-9f69-c533d0c548fc\",\"type\":\"Square\"},{\"attributes\":{\"source\":{\"id\":\"34c11c8c-a184-4081-aad3-556165d1e54e\",\"type\":\"ColumnDataSource\"}},\"id\":\"8e600f94-7596-4367-a54e-6c8e6e5129d8\",\"type\":\"CDSView\"},{\"attributes\":{\"plot\":null,\"text\":\"Figure 1.5 - Using 5 scales\"},\"id\":\"56633048-0a4d-47e3-a2d7-b0ff39f7531a\",\"type\":\"Title\"},{\"attributes\":{\"callback\":null},\"id\":\"01b55cb7-9d30-4a8f-9e38-96f37f4ef945\",\"type\":\"DataRange1d\"},{\"attributes\":{\"data_source\":{\"id\":\"8e74760e-5227-41dc-aedb-3fad79188f99\",\"type\":\"ColumnDataSource\"},\"glyph\":{\"id\":\"b791c857-9366-4c92-bfaf-4bbd344ea792\",\"type\":\"Triangle\"},\"hover_glyph\":null,\"muted_glyph\":null,\"nonselection_glyph\":{\"id\":\"131d5c65-8da6-4480-8111-08d0dbf5f638\",\"type\":\"Triangle\"},\"selection_glyph\":null,\"view\":{\"id\":\"65c5948b-3ee0-4abc-af80-d8e0a8307885\",\"type\":\"CDSView\"}},\"id\":\"6b67b873-5ecc-448e-a62c-76b0b65974f3\",\"type\":\"GlyphRenderer\"},{\"attributes\":{\"angle\":{\"units\":\"rad\",\"value\":45},\"fill_alpha\":{\"value\":0.1},\"fill_color\":{\"value\":\"#1f77b4\"},\"line_alpha\":{\"value\":0.1},\"line_color\":{\"value\":\"#1f77b4\"},\"size\":{\"field\":\"wt\",\"units\":\"screen\"},\"x\":{\"field\":\"disp\"},\"y\":{\"field\":\"mpg\"}},\"id\":\"63840ce0-282b-437d-8de9-fc29e54d744f\",\"type\":\"Square\"},{\"attributes\":{},\"id\":\"157a9623-804b-4bbc-b556-d70e6909a6d0\",\"type\":\"BasicTicker\"},{\"attributes\":{\"source\":{\"id\":\"8e74760e-5227-41dc-aedb-3fad79188f99\",\"type\":\"ColumnDataSource\"}},\"id\":\"65c5948b-3ee0-4abc-af80-d8e0a8307885\",\"type\":\"CDSView\"},{\"attributes\":{\"active_drag\":\"auto\",\"active_inspect\":\"auto\",\"active_scroll\":\"auto\",\"active_tap\":\"auto\",\"tools\":[{\"id\":\"59e7eb73-04ba-4fc0-b399-cbcc1ca7ce2e\",\"type\":\"PanTool\"},{\"id\":\"46166be5-2a45-41d0-80e1-1474c9273fc1\",\"type\":\"WheelZoomTool\"},{\"id\":\"59562949-f6b7-4eb0-8251-a95526d1385f\",\"type\":\"BoxZoomTool\"},{\"id\":\"bf580a5b-2188-42f8-83a9-f4626f99eacb\",\"type\":\"SaveTool\"},{\"id\":\"2fc590e3-0a61-4b9d-a9e3-c3a59ffca3f0\",\"type\":\"ResetTool\"},{\"id\":\"e3adfc97-9830-4a2c-a170-bdd3157f0a1e\",\"type\":\"HelpTool\"}]},\"id\":\"e733e151-4b04-41ce-9f93-a8a307db64e8\",\"type\":\"Toolbar\"}],\"root_ids\":[\"e0e4556a-476b-484b-b62b-b88be0a41e56\"]},\"title\":\"Bokeh Application\",\"version\":\"0.12.15\"}};\n",
       "  var render_items = [{\"docid\":\"813873c2-e4b6-4019-8231-e6eb7a505e45\",\"elementid\":\"92e346ce-aa46-4f79-b7a4-8e0fb384fe3b\",\"modelid\":\"e0e4556a-476b-484b-b62b-b88be0a41e56\"}];\n",
       "  root.Bokeh.embed.embed_items_notebook(docs_json, render_items);\n",
       "\n",
       "  }\n",
       "  if (root.Bokeh !== undefined) {\n",
       "    embed_document(root);\n",
       "  } else {\n",
       "    var attempts = 0;\n",
       "    var timer = setInterval(function(root) {\n",
       "      if (root.Bokeh !== undefined) {\n",
       "        embed_document(root);\n",
       "        clearInterval(timer);\n",
       "      }\n",
       "      attempts++;\n",
       "      if (attempts > 100) {\n",
       "        console.log(\"Bokeh: ERROR: Unable to run BokehJS code because BokehJS library is missing\")\n",
       "        clearInterval(timer);\n",
       "      }\n",
       "    }, 10, root)\n",
       "  }\n",
       "})(window);"
      ],
      "application/vnd.bokehjs_exec.v0+json": ""
     },
     "metadata": {
      "application/vnd.bokehjs_exec.v0+json": {
       "id": "e0e4556a-476b-484b-b62b-b88be0a41e56"
      }
     },
     "output_type": "display_data"
    }
   ],
   "source": [
    "fig15 = figure(plot_height=500, plot_width=800, title=\"Figure 1.5 - Using 5 scales\")\n",
    "\n",
    "fig15.scatter(source=ColumnDataSource(mtcars[mtcars.cyl==4]), \n",
    "              x=\"disp\", y=\"mpg\", color={\"field\": \"hp\", \"transform\": ColorMapper}, \n",
    "              size=\"wt\", marker=\"square\", angle=45)\n",
    "fig15.scatter(source=ColumnDataSource(mtcars[mtcars.cyl==6]), \n",
    "              x=\"disp\", y=\"mpg\", color={\"field\": \"hp\", \"transform\": ColorMapper}, \n",
    "              size=\"wt\", marker=\"triangle\")\n",
    "fig15.scatter(source=ColumnDataSource(mtcars[mtcars.cyl==8]), \n",
    "              x=\"disp\", y=\"mpg\", color={\"field\": \"hp\", \"transform\": ColorMapper}, \n",
    "              size=\"wt\", marker=\"circle\")\n",
    "\n",
    "show(fig15)"
   ]
  },
  {
   "cell_type": "code",
   "execution_count": 212,
   "metadata": {},
   "outputs": [],
   "source": [
    "color_bar = ColorBar(color_mapper=mapper, major_label_text_font_size=\"5pt\",\n",
    "                     ticker=BasicTicker(desired_num_ticks=len(colours)),\n",
    "                     formatter=PrintfTickFormatter(),\n",
    "                     label_standoff=6, border_line_color=None, location=(0, 0), title=\"Power(hp)\")\n",
    "fig15.add_layout(color_bar, 'right')"
   ]
  },
  {
   "cell_type": "code",
   "execution_count": 213,
   "metadata": {},
   "outputs": [
    {
     "data": {
      "text/html": [
       "\n",
       "<div class=\"bk-root\">\n",
       "    <div class=\"bk-plotdiv\" id=\"81cf62b2-4e8a-460a-904f-5b70a16478d5\"></div>\n",
       "</div>"
      ]
     },
     "metadata": {},
     "output_type": "display_data"
    },
    {
     "data": {
      "application/javascript": [
       "(function(root) {\n",
       "  function embed_document(root) {\n",
       "    \n",
       "  var docs_json = {\"a9ce2dc8-b401-457c-9737-73cd5fe2f662\":{\"roots\":{\"references\":[{\"attributes\":{\"dimension\":1,\"plot\":{\"id\":\"e0e4556a-476b-484b-b62b-b88be0a41e56\",\"subtype\":\"Figure\",\"type\":\"Plot\"},\"ticker\":{\"id\":\"157a9623-804b-4bbc-b556-d70e6909a6d0\",\"type\":\"BasicTicker\"}},\"id\":\"5822a43c-822c-439a-8408-b8e8d4f75c5c\",\"type\":\"Grid\"},{\"attributes\":{},\"id\":\"1056e9cf-beee-42d5-85ec-1e73ab72e2da\",\"type\":\"LinearScale\"},{\"attributes\":{\"callback\":null},\"id\":\"f0f3e3f3-ab83-4da8-8545-72968aef7f90\",\"type\":\"DataRange1d\"},{\"attributes\":{},\"id\":\"b272feca-d41b-4082-a777-b4c96fb6671f\",\"type\":\"LinearScale\"},{\"attributes\":{\"high\":335,\"low\":52,\"palette\":[\"#75968f\",\"#a5bab7\",\"#c9d9d3\"]},\"id\":\"db4a7909-41a7-44b2-952d-95c7592885d2\",\"type\":\"LinearColorMapper\"},{\"attributes\":{\"plot\":{\"id\":\"e0e4556a-476b-484b-b62b-b88be0a41e56\",\"subtype\":\"Figure\",\"type\":\"Plot\"},\"ticker\":{\"id\":\"c331ead3-0929-499c-80b7-b874d97a36ce\",\"type\":\"BasicTicker\"}},\"id\":\"ef598e1d-ac43-4709-8fd5-2a658e664cee\",\"type\":\"Grid\"},{\"attributes\":{\"formatter\":{\"id\":\"50b69e52-aa09-4fcb-9dbf-4edc3fbade4c\",\"type\":\"BasicTickFormatter\"},\"plot\":{\"id\":\"e0e4556a-476b-484b-b62b-b88be0a41e56\",\"subtype\":\"Figure\",\"type\":\"Plot\"},\"ticker\":{\"id\":\"c331ead3-0929-499c-80b7-b874d97a36ce\",\"type\":\"BasicTicker\"}},\"id\":\"3353dcb6-e3fb-4582-b553-211b32d04748\",\"type\":\"LinearAxis\"},{\"attributes\":{},\"id\":\"c331ead3-0929-499c-80b7-b874d97a36ce\",\"type\":\"BasicTicker\"},{\"attributes\":{\"formatter\":{\"id\":\"40c67fa6-e475-4810-8b35-933dd8d5a7ce\",\"type\":\"BasicTickFormatter\"},\"plot\":{\"id\":\"e0e4556a-476b-484b-b62b-b88be0a41e56\",\"subtype\":\"Figure\",\"type\":\"Plot\"},\"ticker\":{\"id\":\"157a9623-804b-4bbc-b556-d70e6909a6d0\",\"type\":\"BasicTicker\"}},\"id\":\"1949e0ef-a1e6-4c43-b51f-c85fc2db71cb\",\"type\":\"LinearAxis\"},{\"attributes\":{\"fill_alpha\":{\"value\":0.1},\"fill_color\":{\"value\":\"#1f77b4\"},\"line_alpha\":{\"value\":0.1},\"line_color\":{\"value\":\"#1f77b4\"},\"size\":{\"field\":\"wt\",\"units\":\"screen\"},\"x\":{\"field\":\"disp\"},\"y\":{\"field\":\"mpg\"}},\"id\":\"131d5c65-8da6-4480-8111-08d0dbf5f638\",\"type\":\"Triangle\"},{\"attributes\":{\"callback\":null,\"column_names\":[\"Unnamed: 0\",\"mpg\",\"cyl\",\"disp\",\"hp\",\"drat\",\"wt\",\"qsec\",\"vs\",\"am\",\"gear\",\"carb\",\"index\"],\"data\":{\"Unnamed: 0\":[\"Mazda RX4\",\"Mazda RX4 Wag\",\"Hornet 4 Drive\",\"Valiant\",\"Merc 280\",\"Merc 280C\",\"Ferrari Dino\"],\"am\":[1,1,0,0,0,0,1],\"carb\":[4,4,1,1,4,4,6],\"cyl\":[6,6,6,6,6,6,6],\"disp\":{\"__ndarray__\":\"AAAAAAAAZEAAAAAAAABkQAAAAAAAIHBAAAAAAAAgbEAzMzMzM/NkQDMzMzMz82RAAAAAAAAgYkA=\",\"dtype\":\"float64\",\"shape\":[7]},\"drat\":{\"__ndarray__\":\"MzMzMzMzD0AzMzMzMzMPQKRwPQrXowhAFK5H4XoUBkBcj8L1KFwPQFyPwvUoXA9A9ihcj8L1DEA=\",\"dtype\":\"float64\",\"shape\":[7]},\"gear\":[4,4,3,3,4,4,5],\"hp\":[110,110,110,105,123,123,175],\"index\":[0,1,3,5,9,10,29],\"mpg\":{\"__ndarray__\":\"AAAAAAAANUAAAAAAAAA1QGZmZmZmZjVAmpmZmZkZMkAzMzMzMzMzQM3MzMzMzDFAMzMzMzOzM0A=\",\"dtype\":\"float64\",\"shape\":[7]},\"qsec\":{\"__ndarray__\":\"9ihcj8J1MECF61G4HgUxQHE9CtejcDNAuB6F61E4NEDNzMzMzEwyQGZmZmZm5jJAAAAAAAAAL0A=\",\"dtype\":\"float64\",\"shape\":[7]},\"vs\":[0,0,1,1,1,1,0],\"wt\":{\"__ndarray__\":\"NDMzMzMzKkAAAAAAAMAsQDMzMzMzEzBAzczMzMxMMUAzMzMzMzMxQDMzMzMzMzFAMzMzMzOzK0A=\",\"dtype\":\"float64\",\"shape\":[7]}},\"selected\":null,\"selection_policy\":null},\"id\":\"8e74760e-5227-41dc-aedb-3fad79188f99\",\"type\":\"ColumnDataSource\"},{\"attributes\":{\"high\":335,\"low\":52,\"palette\":[\"#75968f\",\"#a5bab7\",\"#c9d9d3\"]},\"id\":\"af2dfd85-5abf-4e1c-b587-cde693c133c4\",\"type\":\"LinearColorMapper\"},{\"attributes\":{\"bottom_units\":\"screen\",\"fill_alpha\":{\"value\":0.5},\"fill_color\":{\"value\":\"lightgrey\"},\"left_units\":\"screen\",\"level\":\"overlay\",\"line_alpha\":{\"value\":1.0},\"line_color\":{\"value\":\"black\"},\"line_dash\":[4,4],\"line_width\":{\"value\":2},\"plot\":null,\"render_mode\":\"css\",\"right_units\":\"screen\",\"top_units\":\"screen\"},\"id\":\"5246fd60-968f-40e8-b29c-a675257fc6a0\",\"type\":\"BoxAnnotation\"},{\"attributes\":{\"callback\":null,\"column_names\":[\"Unnamed: 0\",\"mpg\",\"cyl\",\"disp\",\"hp\",\"drat\",\"wt\",\"qsec\",\"vs\",\"am\",\"gear\",\"carb\",\"index\"],\"data\":{\"Unnamed: 0\":[\"Hornet Sportabout\",\"Duster 360\",\"Merc 450SE\",\"Merc 450SL\",\"Merc 450SLC\",\"Cadillac Fleetwood\",\"Lincoln Continental\",\"Chrysler Imperial\",\"Dodge Challenger\",\"AMC Javelin\",\"Camaro Z28\",\"Pontiac Firebird\",\"Ford Pantera L\",\"Maserati Bora\"],\"am\":[0,0,0,0,0,0,0,0,0,0,0,0,1,1],\"carb\":[2,4,3,3,3,4,4,4,2,2,4,2,4,8],\"cyl\":[8,8,8,8,8,8,8,8,8,8,8,8,8,8],\"disp\":{\"__ndarray__\":\"AAAAAACAdkAAAAAAAIB2QM3MzMzMPHFAzczMzMw8cUDNzMzMzDxxQAAAAAAAgH1AAAAAAADAfEAAAAAAAIB7QAAAAAAA4HNAAAAAAAAAc0AAAAAAAOB1QAAAAAAAAHlAAAAAAADwdUAAAAAAANByQA==\",\"dtype\":\"float64\",\"shape\":[14]},\"drat\":{\"__ndarray__\":\"MzMzMzMzCUCuR+F6FK4JQI/C9ShcjwhAj8L1KFyPCECPwvUoXI8IQHE9CtejcAdAAAAAAAAACEDXo3A9CtcJQBSuR+F6FAZAMzMzMzMzCUDXo3A9CtcNQKRwPQrXowhA4XoUrkfhEEBSuB6F61EMQA==\",\"dtype\":\"float64\",\"shape\":[14]},\"gear\":[3,3,3,3,3,3,3,3,3,3,3,3,5,5],\"hp\":[175,245,180,180,180,205,215,230,150,150,245,175,264,335],\"index\":[4,6,11,12,13,14,15,16,21,22,23,24,28,30],\"mpg\":{\"__ndarray__\":\"MzMzMzOzMkCamZmZmZksQGZmZmZmZjBAzczMzMxMMUBmZmZmZmYuQM3MzMzMzCRAzczMzMzMJEBmZmZmZmYtQAAAAAAAAC9AZmZmZmZmLkCamZmZmZkqQDMzMzMzMzNAmpmZmZmZL0AAAAAAAAAuQA==\",\"dtype\":\"float64\",\"shape\":[14]},\"qsec\":{\"__ndarray__\":\"hetRuB4FMUCuR+F6FK4vQGZmZmZmZjFAmpmZmZmZMUAAAAAAAAAyQHsUrkfh+jFAUrgehevRMUDsUbgehWsxQB+F61G43jBAzczMzMxMMUBSuB6F69EuQM3MzMzMDDFAAAAAAAAALUAzMzMzMzMtQA==\",\"dtype\":\"float64\",\"shape\":[14]},\"vs\":[0,0,0,0,0,0,0,0,0,0,0,0,0,0],\"wt\":{\"__ndarray__\":\"MzMzMzMzMUCZmZmZmdkxQJqZmZmZWTRAZmZmZmamMkBmZmZmZuYyQAAAAAAAQDpAHoXrUbgeO0CZmZmZmbk6QJqZmZmZmTFAzczMzMwsMUAzMzMzMzMzQJqZmZmZOTNAMzMzMzOzL0CZmZmZmdkxQA==\",\"dtype\":\"float64\",\"shape\":[14]}},\"selected\":null,\"selection_policy\":null},\"id\":\"328b9d3b-9aa0-497e-839e-4768d79e90ad\",\"type\":\"ColumnDataSource\"},{\"attributes\":{},\"id\":\"59e7eb73-04ba-4fc0-b399-cbcc1ca7ce2e\",\"type\":\"PanTool\"},{\"attributes\":{\"fill_alpha\":{\"value\":0.1},\"fill_color\":{\"value\":\"#1f77b4\"},\"line_alpha\":{\"value\":0.1},\"line_color\":{\"value\":\"#1f77b4\"},\"size\":{\"field\":\"wt\",\"units\":\"screen\"},\"x\":{\"field\":\"disp\"},\"y\":{\"field\":\"mpg\"}},\"id\":\"3ef0533f-da3b-4347-9511-a5a2ac278118\",\"type\":\"Circle\"},{\"attributes\":{\"desired_num_ticks\":3},\"id\":\"6136f905-d034-4432-bcc2-75e7e4bc339c\",\"type\":\"BasicTicker\"},{\"attributes\":{},\"id\":\"46166be5-2a45-41d0-80e1-1474c9273fc1\",\"type\":\"WheelZoomTool\"},{\"attributes\":{\"overlay\":{\"id\":\"5246fd60-968f-40e8-b29c-a675257fc6a0\",\"type\":\"BoxAnnotation\"}},\"id\":\"59562949-f6b7-4eb0-8251-a95526d1385f\",\"type\":\"BoxZoomTool\"},{\"attributes\":{},\"id\":\"bf580a5b-2188-42f8-83a9-f4626f99eacb\",\"type\":\"SaveTool\"},{\"attributes\":{},\"id\":\"2fc590e3-0a61-4b9d-a9e3-c3a59ffca3f0\",\"type\":\"ResetTool\"},{\"attributes\":{},\"id\":\"e3adfc97-9830-4a2c-a170-bdd3157f0a1e\",\"type\":\"HelpTool\"},{\"attributes\":{\"data_source\":{\"id\":\"328b9d3b-9aa0-497e-839e-4768d79e90ad\",\"type\":\"ColumnDataSource\"},\"glyph\":{\"id\":\"a7e81b5f-eb1d-409a-917a-dd926fe30fa1\",\"type\":\"Circle\"},\"hover_glyph\":null,\"muted_glyph\":null,\"nonselection_glyph\":{\"id\":\"3ef0533f-da3b-4347-9511-a5a2ac278118\",\"type\":\"Circle\"},\"selection_glyph\":null,\"view\":{\"id\":\"d145f0b0-1c91-4776-beab-1f36432696a9\",\"type\":\"CDSView\"}},\"id\":\"8fc0011d-fe59-40a3-a0d7-4eed82784ca5\",\"type\":\"GlyphRenderer\"},{\"attributes\":{},\"id\":\"fb6df0f3-48b5-4581-887c-f5ee2648d53a\",\"type\":\"PrintfTickFormatter\"},{\"attributes\":{},\"id\":\"50b69e52-aa09-4fcb-9dbf-4edc3fbade4c\",\"type\":\"BasicTickFormatter\"},{\"attributes\":{\"fill_color\":{\"field\":\"hp\",\"transform\":{\"id\":\"db4a7909-41a7-44b2-952d-95c7592885d2\",\"type\":\"LinearColorMapper\"}},\"line_color\":{\"field\":\"hp\",\"transform\":{\"id\":\"db4a7909-41a7-44b2-952d-95c7592885d2\",\"type\":\"LinearColorMapper\"}},\"size\":{\"field\":\"wt\",\"units\":\"screen\"},\"x\":{\"field\":\"disp\"},\"y\":{\"field\":\"mpg\"}},\"id\":\"a7e81b5f-eb1d-409a-917a-dd926fe30fa1\",\"type\":\"Circle\"},{\"attributes\":{\"color_mapper\":{\"id\":\"af2dfd85-5abf-4e1c-b587-cde693c133c4\",\"type\":\"LinearColorMapper\"},\"formatter\":{\"id\":\"fb6df0f3-48b5-4581-887c-f5ee2648d53a\",\"type\":\"PrintfTickFormatter\"},\"label_standoff\":6,\"location\":[0,0],\"major_label_text_font_size\":{\"value\":\"5pt\"},\"plot\":{\"id\":\"e0e4556a-476b-484b-b62b-b88be0a41e56\",\"subtype\":\"Figure\",\"type\":\"Plot\"},\"ticker\":{\"id\":\"6136f905-d034-4432-bcc2-75e7e4bc339c\",\"type\":\"BasicTicker\"},\"title\":\"Power(hp)\"},\"id\":\"33b8ac84-1495-4cde-a94a-79683c0b3b37\",\"type\":\"ColorBar\"},{\"attributes\":{\"fill_color\":{\"field\":\"hp\",\"transform\":{\"id\":\"db4a7909-41a7-44b2-952d-95c7592885d2\",\"type\":\"LinearColorMapper\"}},\"line_color\":{\"field\":\"hp\",\"transform\":{\"id\":\"db4a7909-41a7-44b2-952d-95c7592885d2\",\"type\":\"LinearColorMapper\"}},\"size\":{\"field\":\"wt\",\"units\":\"screen\"},\"x\":{\"field\":\"disp\"},\"y\":{\"field\":\"mpg\"}},\"id\":\"b791c857-9366-4c92-bfaf-4bbd344ea792\",\"type\":\"Triangle\"},{\"attributes\":{\"source\":{\"id\":\"328b9d3b-9aa0-497e-839e-4768d79e90ad\",\"type\":\"ColumnDataSource\"}},\"id\":\"d145f0b0-1c91-4776-beab-1f36432696a9\",\"type\":\"CDSView\"},{\"attributes\":{\"data_source\":{\"id\":\"34c11c8c-a184-4081-aad3-556165d1e54e\",\"type\":\"ColumnDataSource\"},\"glyph\":{\"id\":\"d73a6776-fe20-4c1e-9f69-c533d0c548fc\",\"type\":\"Square\"},\"hover_glyph\":null,\"muted_glyph\":null,\"nonselection_glyph\":{\"id\":\"63840ce0-282b-437d-8de9-fc29e54d744f\",\"type\":\"Square\"},\"selection_glyph\":null,\"view\":{\"id\":\"8e600f94-7596-4367-a54e-6c8e6e5129d8\",\"type\":\"CDSView\"}},\"id\":\"a97732e7-c100-432d-af23-823d005bdda1\",\"type\":\"GlyphRenderer\"},{\"attributes\":{\"below\":[{\"id\":\"3353dcb6-e3fb-4582-b553-211b32d04748\",\"type\":\"LinearAxis\"}],\"left\":[{\"id\":\"1949e0ef-a1e6-4c43-b51f-c85fc2db71cb\",\"type\":\"LinearAxis\"}],\"plot_height\":500,\"plot_width\":800,\"renderers\":[{\"id\":\"3353dcb6-e3fb-4582-b553-211b32d04748\",\"type\":\"LinearAxis\"},{\"id\":\"ef598e1d-ac43-4709-8fd5-2a658e664cee\",\"type\":\"Grid\"},{\"id\":\"1949e0ef-a1e6-4c43-b51f-c85fc2db71cb\",\"type\":\"LinearAxis\"},{\"id\":\"5822a43c-822c-439a-8408-b8e8d4f75c5c\",\"type\":\"Grid\"},{\"id\":\"5246fd60-968f-40e8-b29c-a675257fc6a0\",\"type\":\"BoxAnnotation\"},{\"id\":\"a97732e7-c100-432d-af23-823d005bdda1\",\"type\":\"GlyphRenderer\"},{\"id\":\"6b67b873-5ecc-448e-a62c-76b0b65974f3\",\"type\":\"GlyphRenderer\"},{\"id\":\"8fc0011d-fe59-40a3-a0d7-4eed82784ca5\",\"type\":\"GlyphRenderer\"},{\"id\":\"33b8ac84-1495-4cde-a94a-79683c0b3b37\",\"type\":\"ColorBar\"}],\"right\":[{\"id\":\"33b8ac84-1495-4cde-a94a-79683c0b3b37\",\"type\":\"ColorBar\"}],\"title\":{\"id\":\"56633048-0a4d-47e3-a2d7-b0ff39f7531a\",\"type\":\"Title\"},\"toolbar\":{\"id\":\"e733e151-4b04-41ce-9f93-a8a307db64e8\",\"type\":\"Toolbar\"},\"x_range\":{\"id\":\"01b55cb7-9d30-4a8f-9e38-96f37f4ef945\",\"type\":\"DataRange1d\"},\"x_scale\":{\"id\":\"1056e9cf-beee-42d5-85ec-1e73ab72e2da\",\"type\":\"LinearScale\"},\"y_range\":{\"id\":\"f0f3e3f3-ab83-4da8-8545-72968aef7f90\",\"type\":\"DataRange1d\"},\"y_scale\":{\"id\":\"b272feca-d41b-4082-a777-b4c96fb6671f\",\"type\":\"LinearScale\"}},\"id\":\"e0e4556a-476b-484b-b62b-b88be0a41e56\",\"subtype\":\"Figure\",\"type\":\"Plot\"},{\"attributes\":{},\"id\":\"40c67fa6-e475-4810-8b35-933dd8d5a7ce\",\"type\":\"BasicTickFormatter\"},{\"attributes\":{\"callback\":null,\"column_names\":[\"Unnamed: 0\",\"mpg\",\"cyl\",\"disp\",\"hp\",\"drat\",\"wt\",\"qsec\",\"vs\",\"am\",\"gear\",\"carb\",\"index\"],\"data\":{\"Unnamed: 0\":[\"Datsun 710\",\"Merc 240D\",\"Merc 230\",\"Fiat 128\",\"Honda Civic\",\"Toyota Corolla\",\"Toyota Corona\",\"Fiat X1-9\",\"Porsche 914-2\",\"Lotus Europa\",\"Volvo 142E\"],\"am\":[1,0,0,1,1,1,0,1,1,1,1],\"carb\":[1,2,2,1,2,1,1,1,2,2,2],\"cyl\":[4,4,4,4,4,4,4,4,4,4,4],\"disp\":{\"__ndarray__\":\"AAAAAAAAW0BmZmZmZlZiQJqZmZmZmWFAzczMzMysU0DNzMzMzOxSQGZmZmZmxlFAZmZmZmYGXkAAAAAAAMBTQDMzMzMzE15AZmZmZmbGV0AAAAAAAEBeQA==\",\"dtype\":\"float64\",\"shape\":[11]},\"drat\":{\"__ndarray__\":\"zczMzMzMDkCF61G4HoUNQFyPwvUoXA9AUrgehetREEC4HoXrUbgTQOF6FK5H4RBAmpmZmZmZDUBSuB6F61EQQLgehetRuBFAKVyPwvUoDkBxPQrXo3AQQA==\",\"dtype\":\"float64\",\"shape\":[11]},\"gear\":[4,4,4,4,4,4,3,4,5,5,4],\"hp\":[93,62,95,66,52,65,97,66,91,113,109],\"index\":[2,7,8,17,18,19,20,25,26,27,31],\"mpg\":{\"__ndarray__\":\"zczMzMzMNkBmZmZmZmY4QM3MzMzMzDZAMzMzMzMzQEBmZmZmZmY+QDMzMzMz80BAAAAAAACANUDNzMzMzEw7QAAAAAAAADpAZmZmZmZmPkBmZmZmZmY1QA==\",\"dtype\":\"float64\",\"shape\":[11]},\"qsec\":{\"__ndarray__\":\"XI/C9SicMkAAAAAAAAA0QGZmZmZm5jZAuB6F61F4M0CF61G4HoUyQGZmZmZm5jNAw/UoXI8CNEBmZmZmZuYyQDMzMzMzszBAZmZmZmbmMECamZmZmZkyQA==\",\"dtype\":\"float64\",\"shape\":[11]},\"vs\":[1,1,1,1,1,1,1,1,0,1,1],\"wt\":{\"__ndarray__\":\"MzMzMzMzJ0BmZmZmZuYvQAAAAAAAgC9AAAAAAAAAJkBmZmZmZiYgQJqZmZmZWSJAZmZmZmamKECamZmZmVkjQGdmZmZmZiVAw/UoXI9CHkDMzMzMzMwrQA==\",\"dtype\":\"float64\",\"shape\":[11]}},\"selected\":null,\"selection_policy\":null},\"id\":\"34c11c8c-a184-4081-aad3-556165d1e54e\",\"type\":\"ColumnDataSource\"},{\"attributes\":{\"angle\":{\"units\":\"rad\",\"value\":45},\"fill_color\":{\"field\":\"hp\",\"transform\":{\"id\":\"db4a7909-41a7-44b2-952d-95c7592885d2\",\"type\":\"LinearColorMapper\"}},\"line_color\":{\"field\":\"hp\",\"transform\":{\"id\":\"db4a7909-41a7-44b2-952d-95c7592885d2\",\"type\":\"LinearColorMapper\"}},\"size\":{\"field\":\"wt\",\"units\":\"screen\"},\"x\":{\"field\":\"disp\"},\"y\":{\"field\":\"mpg\"}},\"id\":\"d73a6776-fe20-4c1e-9f69-c533d0c548fc\",\"type\":\"Square\"},{\"attributes\":{\"source\":{\"id\":\"34c11c8c-a184-4081-aad3-556165d1e54e\",\"type\":\"ColumnDataSource\"}},\"id\":\"8e600f94-7596-4367-a54e-6c8e6e5129d8\",\"type\":\"CDSView\"},{\"attributes\":{\"plot\":null,\"text\":\"Figure 1.5 - Using 5 scales\"},\"id\":\"56633048-0a4d-47e3-a2d7-b0ff39f7531a\",\"type\":\"Title\"},{\"attributes\":{\"callback\":null},\"id\":\"01b55cb7-9d30-4a8f-9e38-96f37f4ef945\",\"type\":\"DataRange1d\"},{\"attributes\":{\"data_source\":{\"id\":\"8e74760e-5227-41dc-aedb-3fad79188f99\",\"type\":\"ColumnDataSource\"},\"glyph\":{\"id\":\"b791c857-9366-4c92-bfaf-4bbd344ea792\",\"type\":\"Triangle\"},\"hover_glyph\":null,\"muted_glyph\":null,\"nonselection_glyph\":{\"id\":\"131d5c65-8da6-4480-8111-08d0dbf5f638\",\"type\":\"Triangle\"},\"selection_glyph\":null,\"view\":{\"id\":\"65c5948b-3ee0-4abc-af80-d8e0a8307885\",\"type\":\"CDSView\"}},\"id\":\"6b67b873-5ecc-448e-a62c-76b0b65974f3\",\"type\":\"GlyphRenderer\"},{\"attributes\":{\"angle\":{\"units\":\"rad\",\"value\":45},\"fill_alpha\":{\"value\":0.1},\"fill_color\":{\"value\":\"#1f77b4\"},\"line_alpha\":{\"value\":0.1},\"line_color\":{\"value\":\"#1f77b4\"},\"size\":{\"field\":\"wt\",\"units\":\"screen\"},\"x\":{\"field\":\"disp\"},\"y\":{\"field\":\"mpg\"}},\"id\":\"63840ce0-282b-437d-8de9-fc29e54d744f\",\"type\":\"Square\"},{\"attributes\":{},\"id\":\"157a9623-804b-4bbc-b556-d70e6909a6d0\",\"type\":\"BasicTicker\"},{\"attributes\":{\"source\":{\"id\":\"8e74760e-5227-41dc-aedb-3fad79188f99\",\"type\":\"ColumnDataSource\"}},\"id\":\"65c5948b-3ee0-4abc-af80-d8e0a8307885\",\"type\":\"CDSView\"},{\"attributes\":{\"active_drag\":\"auto\",\"active_inspect\":\"auto\",\"active_scroll\":\"auto\",\"active_tap\":\"auto\",\"tools\":[{\"id\":\"59e7eb73-04ba-4fc0-b399-cbcc1ca7ce2e\",\"type\":\"PanTool\"},{\"id\":\"46166be5-2a45-41d0-80e1-1474c9273fc1\",\"type\":\"WheelZoomTool\"},{\"id\":\"59562949-f6b7-4eb0-8251-a95526d1385f\",\"type\":\"BoxZoomTool\"},{\"id\":\"bf580a5b-2188-42f8-83a9-f4626f99eacb\",\"type\":\"SaveTool\"},{\"id\":\"2fc590e3-0a61-4b9d-a9e3-c3a59ffca3f0\",\"type\":\"ResetTool\"},{\"id\":\"e3adfc97-9830-4a2c-a170-bdd3157f0a1e\",\"type\":\"HelpTool\"}]},\"id\":\"e733e151-4b04-41ce-9f93-a8a307db64e8\",\"type\":\"Toolbar\"}],\"root_ids\":[\"e0e4556a-476b-484b-b62b-b88be0a41e56\"]},\"title\":\"Bokeh Application\",\"version\":\"0.12.15\"}};\n",
       "  var render_items = [{\"docid\":\"a9ce2dc8-b401-457c-9737-73cd5fe2f662\",\"elementid\":\"81cf62b2-4e8a-460a-904f-5b70a16478d5\",\"modelid\":\"e0e4556a-476b-484b-b62b-b88be0a41e56\"}];\n",
       "  root.Bokeh.embed.embed_items_notebook(docs_json, render_items);\n",
       "\n",
       "  }\n",
       "  if (root.Bokeh !== undefined) {\n",
       "    embed_document(root);\n",
       "  } else {\n",
       "    var attempts = 0;\n",
       "    var timer = setInterval(function(root) {\n",
       "      if (root.Bokeh !== undefined) {\n",
       "        embed_document(root);\n",
       "        clearInterval(timer);\n",
       "      }\n",
       "      attempts++;\n",
       "      if (attempts > 100) {\n",
       "        console.log(\"Bokeh: ERROR: Unable to run BokehJS code because BokehJS library is missing\")\n",
       "        clearInterval(timer);\n",
       "      }\n",
       "    }, 10, root)\n",
       "  }\n",
       "})(window);"
      ],
      "application/vnd.bokehjs_exec.v0+json": ""
     },
     "metadata": {
      "application/vnd.bokehjs_exec.v0+json": {
       "id": "e0e4556a-476b-484b-b62b-b88be0a41e56"
      }
     },
     "output_type": "display_data"
    }
   ],
   "source": [
    "show(fig15)"
   ]
  },
  {
   "cell_type": "code",
   "execution_count": null,
   "metadata": {},
   "outputs": [],
   "source": []
  },
  {
   "cell_type": "code",
   "execution_count": null,
   "metadata": {},
   "outputs": [],
   "source": []
  },
  {
   "cell_type": "code",
   "execution_count": null,
   "metadata": {},
   "outputs": [],
   "source": []
  },
  {
   "cell_type": "code",
   "execution_count": null,
   "metadata": {},
   "outputs": [],
   "source": []
  }
 ],
 "metadata": {
  "kernelspec": {
   "display_name": "Python 3",
   "language": "python",
   "name": "python3"
  },
  "language_info": {
   "codemirror_mode": {
    "name": "ipython",
    "version": 3
   },
   "file_extension": ".py",
   "mimetype": "text/x-python",
   "name": "python",
   "nbconvert_exporter": "python",
   "pygments_lexer": "ipython3",
   "version": "3.6.4"
  }
 },
 "nbformat": 4,
 "nbformat_minor": 2
}
