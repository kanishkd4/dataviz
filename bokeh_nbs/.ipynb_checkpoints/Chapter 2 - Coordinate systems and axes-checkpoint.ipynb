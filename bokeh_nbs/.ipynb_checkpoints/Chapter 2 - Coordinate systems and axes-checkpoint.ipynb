{
 "cells": [
  {
   "cell_type": "code",
   "execution_count": 1,
   "metadata": {},
   "outputs": [],
   "source": [
    "import pandas as pd\n",
    "import numpy as np\n",
    "from pathlib import Path"
   ]
  },
  {
   "cell_type": "code",
   "execution_count": 2,
   "metadata": {},
   "outputs": [
    {
     "data": {
      "text/html": [
       "\n",
       "    <div class=\"bk-root\">\n",
       "        <a href=\"https://bokeh.pydata.org\" target=\"_blank\" class=\"bk-logo bk-logo-small bk-logo-notebook\"></a>\n",
       "        <span id=\"0890b9f6-3eb6-45d9-87d5-4f7bd3c826da\">Loading BokehJS ...</span>\n",
       "    </div>"
      ]
     },
     "metadata": {},
     "output_type": "display_data"
    },
    {
     "data": {
      "application/javascript": [
       "\n",
       "(function(root) {\n",
       "  function now() {\n",
       "    return new Date();\n",
       "  }\n",
       "\n",
       "  var force = true;\n",
       "\n",
       "  if (typeof (root._bokeh_onload_callbacks) === \"undefined\" || force === true) {\n",
       "    root._bokeh_onload_callbacks = [];\n",
       "    root._bokeh_is_loading = undefined;\n",
       "  }\n",
       "\n",
       "  var JS_MIME_TYPE = 'application/javascript';\n",
       "  var HTML_MIME_TYPE = 'text/html';\n",
       "  var EXEC_MIME_TYPE = 'application/vnd.bokehjs_exec.v0+json';\n",
       "  var CLASS_NAME = 'output_bokeh rendered_html';\n",
       "\n",
       "  /**\n",
       "   * Render data to the DOM node\n",
       "   */\n",
       "  function render(props, node) {\n",
       "    var script = document.createElement(\"script\");\n",
       "    node.appendChild(script);\n",
       "  }\n",
       "\n",
       "  /**\n",
       "   * Handle when an output is cleared or removed\n",
       "   */\n",
       "  function handleClearOutput(event, handle) {\n",
       "    var cell = handle.cell;\n",
       "\n",
       "    var id = cell.output_area._bokeh_element_id;\n",
       "    var server_id = cell.output_area._bokeh_server_id;\n",
       "    // Clean up Bokeh references\n",
       "    if (id !== undefined) {\n",
       "      Bokeh.index[id].model.document.clear();\n",
       "      delete Bokeh.index[id];\n",
       "    }\n",
       "\n",
       "    if (server_id !== undefined) {\n",
       "      // Clean up Bokeh references\n",
       "      var cmd = \"from bokeh.io.state import curstate; print(curstate().uuid_to_server['\" + server_id + \"'].get_sessions()[0].document.roots[0]._id)\";\n",
       "      cell.notebook.kernel.execute(cmd, {\n",
       "        iopub: {\n",
       "          output: function(msg) {\n",
       "            var element_id = msg.content.text.trim();\n",
       "            Bokeh.index[element_id].model.document.clear();\n",
       "            delete Bokeh.index[element_id];\n",
       "          }\n",
       "        }\n",
       "      });\n",
       "      // Destroy server and session\n",
       "      var cmd = \"import bokeh.io.notebook as ion; ion.destroy_server('\" + server_id + \"')\";\n",
       "      cell.notebook.kernel.execute(cmd);\n",
       "    }\n",
       "  }\n",
       "\n",
       "  /**\n",
       "   * Handle when a new output is added\n",
       "   */\n",
       "  function handleAddOutput(event, handle) {\n",
       "    var output_area = handle.output_area;\n",
       "    var output = handle.output;\n",
       "\n",
       "    // limit handleAddOutput to display_data with EXEC_MIME_TYPE content only\n",
       "    if ((output.output_type != \"display_data\") || (!output.data.hasOwnProperty(EXEC_MIME_TYPE))) {\n",
       "      return\n",
       "    }\n",
       "\n",
       "    var toinsert = output_area.element.find(\".\" + CLASS_NAME.split(' ')[0]);\n",
       "\n",
       "    if (output.metadata[EXEC_MIME_TYPE][\"id\"] !== undefined) {\n",
       "      toinsert[toinsert.length - 1].firstChild.textContent = output.data[JS_MIME_TYPE];\n",
       "      // store reference to embed id on output_area\n",
       "      output_area._bokeh_element_id = output.metadata[EXEC_MIME_TYPE][\"id\"];\n",
       "    }\n",
       "    if (output.metadata[EXEC_MIME_TYPE][\"server_id\"] !== undefined) {\n",
       "      var bk_div = document.createElement(\"div\");\n",
       "      bk_div.innerHTML = output.data[HTML_MIME_TYPE];\n",
       "      var script_attrs = bk_div.children[0].attributes;\n",
       "      for (var i = 0; i < script_attrs.length; i++) {\n",
       "        toinsert[toinsert.length - 1].firstChild.setAttribute(script_attrs[i].name, script_attrs[i].value);\n",
       "      }\n",
       "      // store reference to server id on output_area\n",
       "      output_area._bokeh_server_id = output.metadata[EXEC_MIME_TYPE][\"server_id\"];\n",
       "    }\n",
       "  }\n",
       "\n",
       "  function register_renderer(events, OutputArea) {\n",
       "\n",
       "    function append_mime(data, metadata, element) {\n",
       "      // create a DOM node to render to\n",
       "      var toinsert = this.create_output_subarea(\n",
       "        metadata,\n",
       "        CLASS_NAME,\n",
       "        EXEC_MIME_TYPE\n",
       "      );\n",
       "      this.keyboard_manager.register_events(toinsert);\n",
       "      // Render to node\n",
       "      var props = {data: data, metadata: metadata[EXEC_MIME_TYPE]};\n",
       "      render(props, toinsert[toinsert.length - 1]);\n",
       "      element.append(toinsert);\n",
       "      return toinsert\n",
       "    }\n",
       "\n",
       "    /* Handle when an output is cleared or removed */\n",
       "    events.on('clear_output.CodeCell', handleClearOutput);\n",
       "    events.on('delete.Cell', handleClearOutput);\n",
       "\n",
       "    /* Handle when a new output is added */\n",
       "    events.on('output_added.OutputArea', handleAddOutput);\n",
       "\n",
       "    /**\n",
       "     * Register the mime type and append_mime function with output_area\n",
       "     */\n",
       "    OutputArea.prototype.register_mime_type(EXEC_MIME_TYPE, append_mime, {\n",
       "      /* Is output safe? */\n",
       "      safe: true,\n",
       "      /* Index of renderer in `output_area.display_order` */\n",
       "      index: 0\n",
       "    });\n",
       "  }\n",
       "\n",
       "  // register the mime type if in Jupyter Notebook environment and previously unregistered\n",
       "  if (root.Jupyter !== undefined) {\n",
       "    var events = require('base/js/events');\n",
       "    var OutputArea = require('notebook/js/outputarea').OutputArea;\n",
       "\n",
       "    if (OutputArea.prototype.mime_types().indexOf(EXEC_MIME_TYPE) == -1) {\n",
       "      register_renderer(events, OutputArea);\n",
       "    }\n",
       "  }\n",
       "\n",
       "  \n",
       "  if (typeof (root._bokeh_timeout) === \"undefined\" || force === true) {\n",
       "    root._bokeh_timeout = Date.now() + 5000;\n",
       "    root._bokeh_failed_load = false;\n",
       "  }\n",
       "\n",
       "  var NB_LOAD_WARNING = {'data': {'text/html':\n",
       "     \"<div style='background-color: #fdd'>\\n\"+\n",
       "     \"<p>\\n\"+\n",
       "     \"BokehJS does not appear to have successfully loaded. If loading BokehJS from CDN, this \\n\"+\n",
       "     \"may be due to a slow or bad network connection. Possible fixes:\\n\"+\n",
       "     \"</p>\\n\"+\n",
       "     \"<ul>\\n\"+\n",
       "     \"<li>re-rerun `output_notebook()` to attempt to load from CDN again, or</li>\\n\"+\n",
       "     \"<li>use INLINE resources instead, as so:</li>\\n\"+\n",
       "     \"</ul>\\n\"+\n",
       "     \"<code>\\n\"+\n",
       "     \"from bokeh.resources import INLINE\\n\"+\n",
       "     \"output_notebook(resources=INLINE)\\n\"+\n",
       "     \"</code>\\n\"+\n",
       "     \"</div>\"}};\n",
       "\n",
       "  function display_loaded() {\n",
       "    var el = document.getElementById(\"0890b9f6-3eb6-45d9-87d5-4f7bd3c826da\");\n",
       "    if (el != null) {\n",
       "      el.textContent = \"BokehJS is loading...\";\n",
       "    }\n",
       "    if (root.Bokeh !== undefined) {\n",
       "      if (el != null) {\n",
       "        el.textContent = \"BokehJS \" + root.Bokeh.version + \" successfully loaded.\";\n",
       "      }\n",
       "    } else if (Date.now() < root._bokeh_timeout) {\n",
       "      setTimeout(display_loaded, 100)\n",
       "    }\n",
       "  }\n",
       "\n",
       "\n",
       "  function run_callbacks() {\n",
       "    try {\n",
       "      root._bokeh_onload_callbacks.forEach(function(callback) { callback() });\n",
       "    }\n",
       "    finally {\n",
       "      delete root._bokeh_onload_callbacks\n",
       "    }\n",
       "    console.info(\"Bokeh: all callbacks have finished\");\n",
       "  }\n",
       "\n",
       "  function load_libs(js_urls, callback) {\n",
       "    root._bokeh_onload_callbacks.push(callback);\n",
       "    if (root._bokeh_is_loading > 0) {\n",
       "      console.log(\"Bokeh: BokehJS is being loaded, scheduling callback at\", now());\n",
       "      return null;\n",
       "    }\n",
       "    if (js_urls == null || js_urls.length === 0) {\n",
       "      run_callbacks();\n",
       "      return null;\n",
       "    }\n",
       "    console.log(\"Bokeh: BokehJS not loaded, scheduling load and callback at\", now());\n",
       "    root._bokeh_is_loading = js_urls.length;\n",
       "    for (var i = 0; i < js_urls.length; i++) {\n",
       "      var url = js_urls[i];\n",
       "      var s = document.createElement('script');\n",
       "      s.src = url;\n",
       "      s.async = false;\n",
       "      s.onreadystatechange = s.onload = function() {\n",
       "        root._bokeh_is_loading--;\n",
       "        if (root._bokeh_is_loading === 0) {\n",
       "          console.log(\"Bokeh: all BokehJS libraries loaded\");\n",
       "          run_callbacks()\n",
       "        }\n",
       "      };\n",
       "      s.onerror = function() {\n",
       "        console.warn(\"failed to load library \" + url);\n",
       "      };\n",
       "      console.log(\"Bokeh: injecting script tag for BokehJS library: \", url);\n",
       "      document.getElementsByTagName(\"head\")[0].appendChild(s);\n",
       "    }\n",
       "  };var element = document.getElementById(\"0890b9f6-3eb6-45d9-87d5-4f7bd3c826da\");\n",
       "  if (element == null) {\n",
       "    console.log(\"Bokeh: ERROR: autoload.js configured with elementid '0890b9f6-3eb6-45d9-87d5-4f7bd3c826da' but no matching script tag was found. \")\n",
       "    return false;\n",
       "  }\n",
       "\n",
       "  var js_urls = [\"https://cdn.pydata.org/bokeh/release/bokeh-0.12.15.min.js\", \"https://cdn.pydata.org/bokeh/release/bokeh-widgets-0.12.15.min.js\", \"https://cdn.pydata.org/bokeh/release/bokeh-tables-0.12.15.min.js\", \"https://cdn.pydata.org/bokeh/release/bokeh-gl-0.12.15.min.js\"];\n",
       "\n",
       "  var inline_js = [\n",
       "    function(Bokeh) {\n",
       "      Bokeh.set_log_level(\"info\");\n",
       "    },\n",
       "    \n",
       "    function(Bokeh) {\n",
       "      \n",
       "    },\n",
       "    function(Bokeh) {\n",
       "      console.log(\"Bokeh: injecting CSS: https://cdn.pydata.org/bokeh/release/bokeh-0.12.15.min.css\");\n",
       "      Bokeh.embed.inject_css(\"https://cdn.pydata.org/bokeh/release/bokeh-0.12.15.min.css\");\n",
       "      console.log(\"Bokeh: injecting CSS: https://cdn.pydata.org/bokeh/release/bokeh-widgets-0.12.15.min.css\");\n",
       "      Bokeh.embed.inject_css(\"https://cdn.pydata.org/bokeh/release/bokeh-widgets-0.12.15.min.css\");\n",
       "      console.log(\"Bokeh: injecting CSS: https://cdn.pydata.org/bokeh/release/bokeh-tables-0.12.15.min.css\");\n",
       "      Bokeh.embed.inject_css(\"https://cdn.pydata.org/bokeh/release/bokeh-tables-0.12.15.min.css\");\n",
       "    }\n",
       "  ];\n",
       "\n",
       "  function run_inline_js() {\n",
       "    \n",
       "    if ((root.Bokeh !== undefined) || (force === true)) {\n",
       "      for (var i = 0; i < inline_js.length; i++) {\n",
       "        inline_js[i].call(root, root.Bokeh);\n",
       "      }if (force === true) {\n",
       "        display_loaded();\n",
       "      }} else if (Date.now() < root._bokeh_timeout) {\n",
       "      setTimeout(run_inline_js, 100);\n",
       "    } else if (!root._bokeh_failed_load) {\n",
       "      console.log(\"Bokeh: BokehJS failed to load within specified timeout.\");\n",
       "      root._bokeh_failed_load = true;\n",
       "    } else if (force !== true) {\n",
       "      var cell = $(document.getElementById(\"0890b9f6-3eb6-45d9-87d5-4f7bd3c826da\")).parents('.cell').data().cell;\n",
       "      cell.output_area.append_execute_result(NB_LOAD_WARNING)\n",
       "    }\n",
       "\n",
       "  }\n",
       "\n",
       "  if (root._bokeh_is_loading === 0) {\n",
       "    console.log(\"Bokeh: BokehJS loaded, going straight to plotting\");\n",
       "    run_inline_js();\n",
       "  } else {\n",
       "    load_libs(js_urls, function() {\n",
       "      console.log(\"Bokeh: BokehJS plotting callback run at\", now());\n",
       "      run_inline_js();\n",
       "    });\n",
       "  }\n",
       "}(window));"
      ],
      "application/vnd.bokehjs_load.v0+json": "\n(function(root) {\n  function now() {\n    return new Date();\n  }\n\n  var force = true;\n\n  if (typeof (root._bokeh_onload_callbacks) === \"undefined\" || force === true) {\n    root._bokeh_onload_callbacks = [];\n    root._bokeh_is_loading = undefined;\n  }\n\n  \n\n  \n  if (typeof (root._bokeh_timeout) === \"undefined\" || force === true) {\n    root._bokeh_timeout = Date.now() + 5000;\n    root._bokeh_failed_load = false;\n  }\n\n  var NB_LOAD_WARNING = {'data': {'text/html':\n     \"<div style='background-color: #fdd'>\\n\"+\n     \"<p>\\n\"+\n     \"BokehJS does not appear to have successfully loaded. If loading BokehJS from CDN, this \\n\"+\n     \"may be due to a slow or bad network connection. Possible fixes:\\n\"+\n     \"</p>\\n\"+\n     \"<ul>\\n\"+\n     \"<li>re-rerun `output_notebook()` to attempt to load from CDN again, or</li>\\n\"+\n     \"<li>use INLINE resources instead, as so:</li>\\n\"+\n     \"</ul>\\n\"+\n     \"<code>\\n\"+\n     \"from bokeh.resources import INLINE\\n\"+\n     \"output_notebook(resources=INLINE)\\n\"+\n     \"</code>\\n\"+\n     \"</div>\"}};\n\n  function display_loaded() {\n    var el = document.getElementById(\"0890b9f6-3eb6-45d9-87d5-4f7bd3c826da\");\n    if (el != null) {\n      el.textContent = \"BokehJS is loading...\";\n    }\n    if (root.Bokeh !== undefined) {\n      if (el != null) {\n        el.textContent = \"BokehJS \" + root.Bokeh.version + \" successfully loaded.\";\n      }\n    } else if (Date.now() < root._bokeh_timeout) {\n      setTimeout(display_loaded, 100)\n    }\n  }\n\n\n  function run_callbacks() {\n    try {\n      root._bokeh_onload_callbacks.forEach(function(callback) { callback() });\n    }\n    finally {\n      delete root._bokeh_onload_callbacks\n    }\n    console.info(\"Bokeh: all callbacks have finished\");\n  }\n\n  function load_libs(js_urls, callback) {\n    root._bokeh_onload_callbacks.push(callback);\n    if (root._bokeh_is_loading > 0) {\n      console.log(\"Bokeh: BokehJS is being loaded, scheduling callback at\", now());\n      return null;\n    }\n    if (js_urls == null || js_urls.length === 0) {\n      run_callbacks();\n      return null;\n    }\n    console.log(\"Bokeh: BokehJS not loaded, scheduling load and callback at\", now());\n    root._bokeh_is_loading = js_urls.length;\n    for (var i = 0; i < js_urls.length; i++) {\n      var url = js_urls[i];\n      var s = document.createElement('script');\n      s.src = url;\n      s.async = false;\n      s.onreadystatechange = s.onload = function() {\n        root._bokeh_is_loading--;\n        if (root._bokeh_is_loading === 0) {\n          console.log(\"Bokeh: all BokehJS libraries loaded\");\n          run_callbacks()\n        }\n      };\n      s.onerror = function() {\n        console.warn(\"failed to load library \" + url);\n      };\n      console.log(\"Bokeh: injecting script tag for BokehJS library: \", url);\n      document.getElementsByTagName(\"head\")[0].appendChild(s);\n    }\n  };var element = document.getElementById(\"0890b9f6-3eb6-45d9-87d5-4f7bd3c826da\");\n  if (element == null) {\n    console.log(\"Bokeh: ERROR: autoload.js configured with elementid '0890b9f6-3eb6-45d9-87d5-4f7bd3c826da' but no matching script tag was found. \")\n    return false;\n  }\n\n  var js_urls = [\"https://cdn.pydata.org/bokeh/release/bokeh-0.12.15.min.js\", \"https://cdn.pydata.org/bokeh/release/bokeh-widgets-0.12.15.min.js\", \"https://cdn.pydata.org/bokeh/release/bokeh-tables-0.12.15.min.js\", \"https://cdn.pydata.org/bokeh/release/bokeh-gl-0.12.15.min.js\"];\n\n  var inline_js = [\n    function(Bokeh) {\n      Bokeh.set_log_level(\"info\");\n    },\n    \n    function(Bokeh) {\n      \n    },\n    function(Bokeh) {\n      console.log(\"Bokeh: injecting CSS: https://cdn.pydata.org/bokeh/release/bokeh-0.12.15.min.css\");\n      Bokeh.embed.inject_css(\"https://cdn.pydata.org/bokeh/release/bokeh-0.12.15.min.css\");\n      console.log(\"Bokeh: injecting CSS: https://cdn.pydata.org/bokeh/release/bokeh-widgets-0.12.15.min.css\");\n      Bokeh.embed.inject_css(\"https://cdn.pydata.org/bokeh/release/bokeh-widgets-0.12.15.min.css\");\n      console.log(\"Bokeh: injecting CSS: https://cdn.pydata.org/bokeh/release/bokeh-tables-0.12.15.min.css\");\n      Bokeh.embed.inject_css(\"https://cdn.pydata.org/bokeh/release/bokeh-tables-0.12.15.min.css\");\n    }\n  ];\n\n  function run_inline_js() {\n    \n    if ((root.Bokeh !== undefined) || (force === true)) {\n      for (var i = 0; i < inline_js.length; i++) {\n        inline_js[i].call(root, root.Bokeh);\n      }if (force === true) {\n        display_loaded();\n      }} else if (Date.now() < root._bokeh_timeout) {\n      setTimeout(run_inline_js, 100);\n    } else if (!root._bokeh_failed_load) {\n      console.log(\"Bokeh: BokehJS failed to load within specified timeout.\");\n      root._bokeh_failed_load = true;\n    } else if (force !== true) {\n      var cell = $(document.getElementById(\"0890b9f6-3eb6-45d9-87d5-4f7bd3c826da\")).parents('.cell').data().cell;\n      cell.output_area.append_execute_result(NB_LOAD_WARNING)\n    }\n\n  }\n\n  if (root._bokeh_is_loading === 0) {\n    console.log(\"Bokeh: BokehJS loaded, going straight to plotting\");\n    run_inline_js();\n  } else {\n    load_libs(js_urls, function() {\n      console.log(\"Bokeh: BokehJS plotting callback run at\", now());\n      run_inline_js();\n    });\n  }\n}(window));"
     },
     "metadata": {},
     "output_type": "display_data"
    }
   ],
   "source": [
    "from bokeh.plotting import figure, output_notebook, show\n",
    "output_notebook()"
   ]
  },
  {
   "cell_type": "code",
   "execution_count": 3,
   "metadata": {},
   "outputs": [],
   "source": [
    "from bokeh.models import Label, LabelSet, ColumnDataSource, Div, Range1d\n",
    "from bokeh.layouts import gridplot, column, Row"
   ]
  },
  {
   "cell_type": "code",
   "execution_count": 4,
   "metadata": {},
   "outputs": [],
   "source": [
    "path = Path(\"/media/kanishk/8E8481E28481CCE1/Learn/\")"
   ]
  },
  {
   "cell_type": "code",
   "execution_count": 5,
   "metadata": {},
   "outputs": [],
   "source": [
    "houston = pd.read_csv(path/\"houston.csv\")\n",
    "houston = houston.loc[:, [\"Date\", \"city\", \"Mean.TemperatureF\"]]"
   ]
  },
  {
   "cell_type": "code",
   "execution_count": 6,
   "metadata": {},
   "outputs": [],
   "source": [
    "houston = houston[houston.Date.str[:4] == \"2015\"]\n",
    "houston.Date = pd.to_numeric(houston.Date.str[5:7])\n",
    "houston = houston.groupby([\"city\", \"Date\"], as_index=False)[\"Mean.TemperatureF\"].mean()"
   ]
  },
  {
   "cell_type": "code",
   "execution_count": 7,
   "metadata": {},
   "outputs": [],
   "source": [
    "cleveland = pd.read_csv(path/\"cleveland.csv\")\n",
    "cleveland = cleveland.loc[:, [\"Date\", \"city\", \"Mean.TemperatureF\"]]"
   ]
  },
  {
   "cell_type": "code",
   "execution_count": 8,
   "metadata": {},
   "outputs": [],
   "source": [
    "cleveland = cleveland[cleveland.Date.str[:4] == \"2015\"]\n",
    "cleveland.Date = pd.to_numeric(cleveland.Date.str[5:7])\n",
    "cleveland = cleveland.groupby([\"city\", \"Date\"], as_index=False)[\"Mean.TemperatureF\"].mean()"
   ]
  },
  {
   "cell_type": "code",
   "execution_count": 9,
   "metadata": {},
   "outputs": [
    {
     "data": {
      "text/html": [
       "<div>\n",
       "<style scoped>\n",
       "    .dataframe tbody tr th:only-of-type {\n",
       "        vertical-align: middle;\n",
       "    }\n",
       "\n",
       "    .dataframe tbody tr th {\n",
       "        vertical-align: top;\n",
       "    }\n",
       "\n",
       "    .dataframe thead th {\n",
       "        text-align: right;\n",
       "    }\n",
       "</style>\n",
       "<table border=\"1\" class=\"dataframe\">\n",
       "  <thead>\n",
       "    <tr style=\"text-align: right;\">\n",
       "      <th></th>\n",
       "      <th>city</th>\n",
       "      <th>Date</th>\n",
       "      <th>Mean.TemperatureF</th>\n",
       "    </tr>\n",
       "  </thead>\n",
       "  <tbody>\n",
       "    <tr>\n",
       "      <th>0</th>\n",
       "      <td>Cleveland (OH)</td>\n",
       "      <td>1</td>\n",
       "      <td>23.225806</td>\n",
       "    </tr>\n",
       "    <tr>\n",
       "      <th>1</th>\n",
       "      <td>Cleveland (OH)</td>\n",
       "      <td>2</td>\n",
       "      <td>14.500000</td>\n",
       "    </tr>\n",
       "  </tbody>\n",
       "</table>\n",
       "</div>"
      ],
      "text/plain": [
       "             city  Date  Mean.TemperatureF\n",
       "0  Cleveland (OH)     1          23.225806\n",
       "1  Cleveland (OH)     2          14.500000"
      ]
     },
     "execution_count": 9,
     "metadata": {},
     "output_type": "execute_result"
    }
   ],
   "source": [
    "houston.head(2)\n",
    "cleveland.head(2)"
   ]
  },
  {
   "cell_type": "code",
   "execution_count": 10,
   "metadata": {},
   "outputs": [
    {
     "data": {
      "text/html": [
       "\n",
       "<div class=\"bk-root\">\n",
       "    <div class=\"bk-plotdiv\" id=\"f258b251-2494-4ce1-b5ee-3c252ac9e3bc\"></div>\n",
       "</div>"
      ]
     },
     "metadata": {},
     "output_type": "display_data"
    },
    {
     "data": {
      "application/javascript": [
       "(function(root) {\n",
       "  function embed_document(root) {\n",
       "    \n",
       "  var docs_json = {\"9418f1e2-2a6f-416e-ab50-3599414df6e4\":{\"roots\":{\"references\":[{\"attributes\":{},\"id\":\"40961c3e-7c28-413a-b325-a02d81f3193e\",\"type\":\"BasicTicker\"},{\"attributes\":{\"plot\":{\"id\":\"7c06841b-a936-4bb3-be09-95a63603d325\",\"subtype\":\"Figure\",\"type\":\"Plot\"},\"ticker\":{\"id\":\"40961c3e-7c28-413a-b325-a02d81f3193e\",\"type\":\"BasicTicker\"}},\"id\":\"81db4514-73da-400d-8559-84ef081d326a\",\"type\":\"Grid\"},{\"attributes\":{\"formatter\":{\"id\":\"4a23eaf9-06fc-4976-8746-ee1272c457f9\",\"type\":\"BasicTickFormatter\"},\"plot\":{\"id\":\"7c06841b-a936-4bb3-be09-95a63603d325\",\"subtype\":\"Figure\",\"type\":\"Plot\"},\"ticker\":{\"id\":\"44cc4901-8656-497a-bdc5-74af3a712c6a\",\"type\":\"BasicTicker\"}},\"id\":\"f323fa29-9956-4907-8543-5fc07658b56f\",\"type\":\"LinearAxis\"},{\"attributes\":{},\"id\":\"44cc4901-8656-497a-bdc5-74af3a712c6a\",\"type\":\"BasicTicker\"},{\"attributes\":{\"dimension\":1,\"plot\":{\"id\":\"7c06841b-a936-4bb3-be09-95a63603d325\",\"subtype\":\"Figure\",\"type\":\"Plot\"},\"ticker\":{\"id\":\"44cc4901-8656-497a-bdc5-74af3a712c6a\",\"type\":\"BasicTicker\"}},\"id\":\"5908d503-749b-49f5-999c-8fdbcfbe471b\",\"type\":\"Grid\"},{\"attributes\":{\"bottom_units\":\"screen\",\"fill_alpha\":{\"value\":0.5},\"fill_color\":{\"value\":\"lightgrey\"},\"left_units\":\"screen\",\"level\":\"overlay\",\"line_alpha\":{\"value\":1.0},\"line_color\":{\"value\":\"black\"},\"line_dash\":[4,4],\"line_width\":{\"value\":2},\"plot\":null,\"render_mode\":\"css\",\"right_units\":\"screen\",\"top_units\":\"screen\"},\"id\":\"ec9c111b-4238-4e7b-9ea7-1a25604d6283\",\"type\":\"BoxAnnotation\"},{\"attributes\":{\"line_alpha\":0.1,\"line_color\":\"#1f77b4\",\"x\":{\"value\":0},\"y\":{\"field\":\"y\"}},\"id\":\"0c208fb2-868b-495b-91fa-9100f92377aa\",\"type\":\"Line\"},{\"attributes\":{\"line_color\":\"lightslategray\",\"x\":{\"value\":0},\"y\":{\"field\":\"y\"}},\"id\":\"6b176adf-87a8-4126-b630-93b820e6b52c\",\"type\":\"Line\"},{\"attributes\":{},\"id\":\"40b48dde-a888-4a05-871c-376e6aa64540\",\"type\":\"BasicTickFormatter\"},{\"attributes\":{},\"id\":\"4a23eaf9-06fc-4976-8746-ee1272c457f9\",\"type\":\"BasicTickFormatter\"},{\"attributes\":{},\"id\":\"784ae5cd-a05d-49b0-8c5a-c010b0b8d87a\",\"type\":\"PanTool\"},{\"attributes\":{\"data_source\":{\"id\":\"741a09b8-d810-4ab5-8893-16c1013cbf63\",\"type\":\"ColumnDataSource\"},\"glyph\":{\"id\":\"6b176adf-87a8-4126-b630-93b820e6b52c\",\"type\":\"Line\"},\"hover_glyph\":null,\"muted_glyph\":null,\"nonselection_glyph\":{\"id\":\"0c208fb2-868b-495b-91fa-9100f92377aa\",\"type\":\"Line\"},\"selection_glyph\":null,\"view\":{\"id\":\"25444599-f6eb-46d7-b705-78c71a721c3e\",\"type\":\"CDSView\"}},\"id\":\"d39785a4-fd77-4654-a0df-4035dd81d1bf\",\"type\":\"GlyphRenderer\"},{\"attributes\":{},\"id\":\"19e35cec-4105-44fa-bba6-fb59200826ea\",\"type\":\"WheelZoomTool\"},{\"attributes\":{\"overlay\":{\"id\":\"ec9c111b-4238-4e7b-9ea7-1a25604d6283\",\"type\":\"BoxAnnotation\"}},\"id\":\"7946ed73-8953-48fa-b893-fa3ef417bd57\",\"type\":\"BoxZoomTool\"},{\"attributes\":{},\"id\":\"90d8ae87-ab0c-4b5f-a462-4e7b3717d592\",\"type\":\"SaveTool\"},{\"attributes\":{},\"id\":\"2b4993a2-829b-45e8-a911-ee9cfc9ffecf\",\"type\":\"ResetTool\"},{\"attributes\":{},\"id\":\"3223a06e-7bd1-4954-a87c-0048f8ce820f\",\"type\":\"HelpTool\"},{\"attributes\":{\"line_color\":\"lightslategray\",\"line_dash\":[2,4],\"x\":{\"field\":\"x\"},\"y\":{\"value\":1}},\"id\":\"33e086e6-18f9-4c20-9c4d-ad8a89305084\",\"type\":\"Line\"},{\"attributes\":{\"line_color\":\"lightslategray\",\"x\":{\"field\":\"x\"},\"y\":{\"value\":0}},\"id\":\"d6806288-d751-4c00-91ea-1b6c82f2b851\",\"type\":\"Line\"},{\"attributes\":{\"fill_color\":{\"value\":\"blue\"},\"line_color\":{\"value\":null},\"radius\":{\"units\":\"data\",\"value\":0.1},\"x\":{\"value\":2},\"y\":{\"value\":1}},\"id\":\"b535b979-82d7-4050-a217-eea7c1ad0c68\",\"type\":\"Circle\"},{\"attributes\":{\"callback\":null,\"column_names\":[\"y\"],\"data\":{\"y\":[0,1]},\"selected\":null,\"selection_policy\":null},\"id\":\"b3025da3-3971-4e58-ada6-b6b41276f91e\",\"type\":\"ColumnDataSource\"},{\"attributes\":{\"line_color\":\"lightslategray\",\"line_dash\":[2,4],\"x\":{\"value\":2},\"y\":{\"field\":\"y\"}},\"id\":\"f17e3f04-e812-489b-9c67-58f92bb41847\",\"type\":\"Line\"},{\"attributes\":{\"line_alpha\":0.1,\"line_color\":\"#1f77b4\",\"line_dash\":[2,4],\"x\":{\"value\":2},\"y\":{\"field\":\"y\"}},\"id\":\"6f56379c-2d7e-47e2-b6a4-c980feb80665\",\"type\":\"Line\"},{\"attributes\":{\"line_alpha\":0.1,\"line_color\":\"#1f77b4\",\"line_dash\":[2,4],\"x\":{\"field\":\"x\"},\"y\":{\"value\":1}},\"id\":\"b9154cd2-adf9-47b0-af2d-cc83e39d52f5\",\"type\":\"Line\"},{\"attributes\":{\"data_source\":{\"id\":\"422040bc-bcb2-49a7-bc88-5078a34627a5\",\"type\":\"ColumnDataSource\"},\"glyph\":{\"id\":\"d6806288-d751-4c00-91ea-1b6c82f2b851\",\"type\":\"Line\"},\"hover_glyph\":null,\"muted_glyph\":null,\"nonselection_glyph\":{\"id\":\"f1ae90e6-cbb2-408c-a9eb-dd85cd13dc27\",\"type\":\"Line\"},\"selection_glyph\":null,\"view\":{\"id\":\"7ae45dbf-9534-4c3f-b0f3-fa5cc3f8308f\",\"type\":\"CDSView\"}},\"id\":\"0a31cd42-3c89-4d3b-9f4f-0789f4b9746e\",\"type\":\"GlyphRenderer\"},{\"attributes\":{\"line_alpha\":0.1,\"line_color\":\"#1f77b4\",\"x\":{\"field\":\"x\"},\"y\":{\"value\":0}},\"id\":\"f1ae90e6-cbb2-408c-a9eb-dd85cd13dc27\",\"type\":\"Line\"},{\"attributes\":{\"source\":{\"id\":\"422040bc-bcb2-49a7-bc88-5078a34627a5\",\"type\":\"ColumnDataSource\"}},\"id\":\"7ae45dbf-9534-4c3f-b0f3-fa5cc3f8308f\",\"type\":\"CDSView\"},{\"attributes\":{\"callback\":null,\"data\":{},\"selected\":null,\"selection_policy\":null},\"id\":\"14140acb-18bc-416f-8305-296ce7bfc5ee\",\"type\":\"ColumnDataSource\"},{\"attributes\":{\"fill_color\":{\"value\":\"blue\"},\"line_color\":{\"value\":null},\"radius\":{\"units\":\"data\",\"value\":0.1},\"x\":{\"value\":0},\"y\":{\"value\":0}},\"id\":\"cce715c4-00ac-47e1-bd23-c24f04b14a65\",\"type\":\"Circle\"},{\"attributes\":{\"data_source\":{\"id\":\"7e073baf-1ce3-4a9f-ab96-15f4c9d24b30\",\"type\":\"ColumnDataSource\"},\"glyph\":{\"id\":\"33e086e6-18f9-4c20-9c4d-ad8a89305084\",\"type\":\"Line\"},\"hover_glyph\":null,\"muted_glyph\":null,\"nonselection_glyph\":{\"id\":\"b9154cd2-adf9-47b0-af2d-cc83e39d52f5\",\"type\":\"Line\"},\"selection_glyph\":null,\"view\":{\"id\":\"992c2c3f-a03a-4780-be51-5c7e49209c52\",\"type\":\"CDSView\"}},\"id\":\"0907e325-d6f7-4644-ae1c-43e702bd88b2\",\"type\":\"GlyphRenderer\"},{\"attributes\":{\"fill_alpha\":{\"value\":0.1},\"fill_color\":{\"value\":\"#1f77b4\"},\"line_alpha\":{\"value\":0.1},\"line_color\":{\"value\":\"#1f77b4\"},\"radius\":{\"units\":\"data\",\"value\":0.1},\"x\":{\"value\":2},\"y\":{\"value\":1}},\"id\":\"ea2d3cd3-05e9-437c-84b0-7e6355c236d4\",\"type\":\"Circle\"},{\"attributes\":{\"source\":{\"id\":\"7e073baf-1ce3-4a9f-ab96-15f4c9d24b30\",\"type\":\"ColumnDataSource\"}},\"id\":\"992c2c3f-a03a-4780-be51-5c7e49209c52\",\"type\":\"CDSView\"},{\"attributes\":{\"callback\":null,\"column_names\":[\"x\"],\"data\":{\"x\":[-1,0]},\"selected\":null,\"selection_policy\":null},\"id\":\"2dee5bcd-09a1-4526-b613-bb6dd49fc74f\",\"type\":\"ColumnDataSource\"},{\"attributes\":{\"source\":{\"id\":\"8ff4e3e5-07b4-4b7a-86a0-b6bf68251490\",\"type\":\"ColumnDataSource\"}},\"id\":\"c9aff67c-8ab5-471b-9a0f-e0d080705205\",\"type\":\"CDSView\"},{\"attributes\":{\"data_source\":{\"id\":\"b3025da3-3971-4e58-ada6-b6b41276f91e\",\"type\":\"ColumnDataSource\"},\"glyph\":{\"id\":\"f17e3f04-e812-489b-9c67-58f92bb41847\",\"type\":\"Line\"},\"hover_glyph\":null,\"muted_glyph\":null,\"nonselection_glyph\":{\"id\":\"6f56379c-2d7e-47e2-b6a4-c980feb80665\",\"type\":\"Line\"},\"selection_glyph\":null,\"view\":{\"id\":\"e9048683-6ef8-4eb0-a1dc-265b10251aaa\",\"type\":\"CDSView\"}},\"id\":\"4b69040c-2063-4438-89a0-271fe0936d47\",\"type\":\"GlyphRenderer\"},{\"attributes\":{\"data_source\":{\"id\":\"14140acb-18bc-416f-8305-296ce7bfc5ee\",\"type\":\"ColumnDataSource\"},\"glyph\":{\"id\":\"b535b979-82d7-4050-a217-eea7c1ad0c68\",\"type\":\"Circle\"},\"hover_glyph\":null,\"muted_glyph\":null,\"nonselection_glyph\":{\"id\":\"ea2d3cd3-05e9-437c-84b0-7e6355c236d4\",\"type\":\"Circle\"},\"selection_glyph\":null,\"view\":{\"id\":\"bf4bc26f-2e92-4303-a9e2-91a2c3900b8e\",\"type\":\"CDSView\"}},\"id\":\"f364f20d-b876-42ef-819b-1990e3877438\",\"type\":\"GlyphRenderer\"},{\"attributes\":{\"source\":{\"id\":\"b3025da3-3971-4e58-ada6-b6b41276f91e\",\"type\":\"ColumnDataSource\"}},\"id\":\"e9048683-6ef8-4eb0-a1dc-265b10251aaa\",\"type\":\"CDSView\"},{\"attributes\":{\"callback\":null,\"data\":{},\"selected\":null,\"selection_policy\":null},\"id\":\"8ff4e3e5-07b4-4b7a-86a0-b6bf68251490\",\"type\":\"ColumnDataSource\"},{\"attributes\":{\"source\":{\"id\":\"14140acb-18bc-416f-8305-296ce7bfc5ee\",\"type\":\"ColumnDataSource\"}},\"id\":\"bf4bc26f-2e92-4303-a9e2-91a2c3900b8e\",\"type\":\"CDSView\"},{\"attributes\":{\"fill_alpha\":{\"value\":0.1},\"fill_color\":{\"value\":\"#1f77b4\"},\"line_alpha\":{\"value\":0.1},\"line_color\":{\"value\":\"#1f77b4\"},\"radius\":{\"units\":\"data\",\"value\":0.1},\"x\":{\"value\":0},\"y\":{\"value\":0}},\"id\":\"0d1a3e01-7184-4a73-9379-979f6a948d81\",\"type\":\"Circle\"},{\"attributes\":{\"callback\":null,\"column_names\":[\"y\"],\"data\":{\"y\":[-1,0]},\"selected\":null,\"selection_policy\":null},\"id\":\"1226db6f-f78c-4fcf-b1ed-76e82a50a8c2\",\"type\":\"ColumnDataSource\"},{\"attributes\":{\"fill_color\":{\"value\":\"blue\"},\"line_color\":{\"value\":null},\"radius\":{\"units\":\"data\",\"value\":0.1},\"x\":{\"field\":\"x\"},\"y\":{\"value\":-1}},\"id\":\"7983c917-4a0a-4f2e-8cb8-7b66fbc1b832\",\"type\":\"Circle\"},{\"attributes\":{\"callback\":null,\"column_names\":[\"x\"],\"data\":{\"x\":[-1,-1]},\"selected\":null,\"selection_policy\":null},\"id\":\"b7a37c40-3d9c-4a14-8dd9-4c1aa26d1ca9\",\"type\":\"ColumnDataSource\"},{\"attributes\":{\"data_source\":{\"id\":\"8ff4e3e5-07b4-4b7a-86a0-b6bf68251490\",\"type\":\"ColumnDataSource\"},\"glyph\":{\"id\":\"cce715c4-00ac-47e1-bd23-c24f04b14a65\",\"type\":\"Circle\"},\"hover_glyph\":null,\"muted_glyph\":null,\"nonselection_glyph\":{\"id\":\"0d1a3e01-7184-4a73-9379-979f6a948d81\",\"type\":\"Circle\"},\"selection_glyph\":null,\"view\":{\"id\":\"c9aff67c-8ab5-471b-9a0f-e0d080705205\",\"type\":\"CDSView\"}},\"id\":\"e5687002-bbde-466c-b1b2-507030e265f0\",\"type\":\"GlyphRenderer\"},{\"attributes\":{\"line_color\":\"lightslategray\",\"line_dash\":[2,4],\"x\":{\"field\":\"x\"},\"y\":{\"value\":-1}},\"id\":\"a0097b4e-2e8c-4bdb-beb3-e99d9c586d2d\",\"type\":\"Line\"},{\"attributes\":{\"data_source\":{\"id\":\"b7a37c40-3d9c-4a14-8dd9-4c1aa26d1ca9\",\"type\":\"ColumnDataSource\"},\"glyph\":{\"id\":\"7983c917-4a0a-4f2e-8cb8-7b66fbc1b832\",\"type\":\"Circle\"},\"hover_glyph\":null,\"muted_glyph\":null,\"nonselection_glyph\":{\"id\":\"4c9b9ab3-eb20-4d3c-88f4-a515a5f08fd2\",\"type\":\"Circle\"},\"selection_glyph\":null,\"view\":{\"id\":\"17e1b350-ddcc-41e8-a193-6feb0522167d\",\"type\":\"CDSView\"}},\"id\":\"f6629162-1dc2-4729-8d8c-4c4127446f40\",\"type\":\"GlyphRenderer\"},{\"attributes\":{\"line_alpha\":0.1,\"line_color\":\"#1f77b4\",\"line_dash\":[2,4],\"x\":{\"field\":\"x\"},\"y\":{\"value\":-1}},\"id\":\"539ec3c0-adee-4aca-9034-51f36e27bf7b\",\"type\":\"Line\"},{\"attributes\":{\"fill_alpha\":{\"value\":0.1},\"fill_color\":{\"value\":\"#1f77b4\"},\"line_alpha\":{\"value\":0.1},\"line_color\":{\"value\":\"#1f77b4\"},\"radius\":{\"units\":\"data\",\"value\":0.1},\"x\":{\"field\":\"x\"},\"y\":{\"value\":-1}},\"id\":\"4c9b9ab3-eb20-4d3c-88f4-a515a5f08fd2\",\"type\":\"Circle\"},{\"attributes\":{\"line_color\":\"lightslategray\",\"line_dash\":[2,4],\"x\":{\"value\":-1},\"y\":{\"field\":\"y\"}},\"id\":\"d6e858d3-33e3-4464-9a49-03ca9023d079\",\"type\":\"Line\"},{\"attributes\":{\"data_source\":{\"id\":\"2dee5bcd-09a1-4526-b613-bb6dd49fc74f\",\"type\":\"ColumnDataSource\"},\"glyph\":{\"id\":\"a0097b4e-2e8c-4bdb-beb3-e99d9c586d2d\",\"type\":\"Line\"},\"hover_glyph\":null,\"muted_glyph\":null,\"nonselection_glyph\":{\"id\":\"539ec3c0-adee-4aca-9034-51f36e27bf7b\",\"type\":\"Line\"},\"selection_glyph\":null,\"view\":{\"id\":\"a92b8211-7f8d-47ff-816b-41f5569bd897\",\"type\":\"CDSView\"}},\"id\":\"9b906545-78a4-40b0-866f-7865e4b7b361\",\"type\":\"GlyphRenderer\"},{\"attributes\":{\"line_alpha\":0.1,\"line_color\":\"#1f77b4\",\"line_dash\":[2,4],\"x\":{\"value\":-1},\"y\":{\"field\":\"y\"}},\"id\":\"fc118383-fe3d-4bfc-a138-ba72315024a5\",\"type\":\"Line\"},{\"attributes\":{\"source\":{\"id\":\"2dee5bcd-09a1-4526-b613-bb6dd49fc74f\",\"type\":\"ColumnDataSource\"}},\"id\":\"a92b8211-7f8d-47ff-816b-41f5569bd897\",\"type\":\"CDSView\"},{\"attributes\":{\"plot\":{\"id\":\"7c06841b-a936-4bb3-be09-95a63603d325\",\"subtype\":\"Figure\",\"type\":\"Plot\"},\"text\":\"y = -1\",\"x\":-0.9,\"y\":-1.2},\"id\":\"da2334c7-0bd8-4250-9e99-852e7f4ab964\",\"type\":\"Label\"},{\"attributes\":{\"data_source\":{\"id\":\"1226db6f-f78c-4fcf-b1ed-76e82a50a8c2\",\"type\":\"ColumnDataSource\"},\"glyph\":{\"id\":\"d6e858d3-33e3-4464-9a49-03ca9023d079\",\"type\":\"Line\"},\"hover_glyph\":null,\"muted_glyph\":null,\"nonselection_glyph\":{\"id\":\"fc118383-fe3d-4bfc-a138-ba72315024a5\",\"type\":\"Line\"},\"selection_glyph\":null,\"view\":{\"id\":\"0e5094ce-78c6-4f6a-81a1-0fdaffe2044b\",\"type\":\"CDSView\"}},\"id\":\"a0576ace-2e6d-40b5-a2f4-41e0917a751b\",\"type\":\"GlyphRenderer\"},{\"attributes\":{\"source\":{\"id\":\"b7a37c40-3d9c-4a14-8dd9-4c1aa26d1ca9\",\"type\":\"ColumnDataSource\"}},\"id\":\"17e1b350-ddcc-41e8-a193-6feb0522167d\",\"type\":\"CDSView\"},{\"attributes\":{\"source\":{\"id\":\"1226db6f-f78c-4fcf-b1ed-76e82a50a8c2\",\"type\":\"ColumnDataSource\"}},\"id\":\"0e5094ce-78c6-4f6a-81a1-0fdaffe2044b\",\"type\":\"CDSView\"},{\"attributes\":{\"plot\":{\"id\":\"7c06841b-a936-4bb3-be09-95a63603d325\",\"subtype\":\"Figure\",\"type\":\"Plot\"},\"text\":\"x = 2\",\"x\":0.8,\"y\":1.1},\"id\":\"849c82cf-de87-40e7-a8af-21b8b29e476a\",\"type\":\"Label\"},{\"attributes\":{\"plot\":{\"id\":\"7c06841b-a936-4bb3-be09-95a63603d325\",\"subtype\":\"Figure\",\"type\":\"Plot\"},\"text\":\"(2, 1)\",\"x\":2.01,\"y\":1.01},\"id\":\"220743ec-c416-4bc6-90c8-1a54277de104\",\"type\":\"Label\"},{\"attributes\":{\"callback\":null,\"column_names\":[\"x\"],\"data\":{\"x\":[-2,3]},\"selected\":null,\"selection_policy\":null},\"id\":\"422040bc-bcb2-49a7-bc88-5078a34627a5\",\"type\":\"ColumnDataSource\"},{\"attributes\":{\"plot\":{\"id\":\"7c06841b-a936-4bb3-be09-95a63603d325\",\"subtype\":\"Figure\",\"type\":\"Plot\"},\"text\":\"(0, 0)\",\"x\":-0.5,\"y\":0.1},\"id\":\"9093a853-c448-4ad1-9bc6-d537d8eff46c\",\"type\":\"Label\"},{\"attributes\":{\"callback\":null,\"column_names\":[\"y\"],\"data\":{\"y\":[-2,2]},\"selected\":null,\"selection_policy\":null},\"id\":\"741a09b8-d810-4ab5-8893-16c1013cbf63\",\"type\":\"ColumnDataSource\"},{\"attributes\":{\"below\":[{\"id\":\"95bc7ed8-659a-4b05-8dc2-15313db5fb50\",\"type\":\"LinearAxis\"}],\"left\":[{\"id\":\"f323fa29-9956-4907-8543-5fc07658b56f\",\"type\":\"LinearAxis\"}],\"plot_height\":400,\"plot_width\":400,\"renderers\":[{\"id\":\"95bc7ed8-659a-4b05-8dc2-15313db5fb50\",\"type\":\"LinearAxis\"},{\"id\":\"81db4514-73da-400d-8559-84ef081d326a\",\"type\":\"Grid\"},{\"id\":\"f323fa29-9956-4907-8543-5fc07658b56f\",\"type\":\"LinearAxis\"},{\"id\":\"5908d503-749b-49f5-999c-8fdbcfbe471b\",\"type\":\"Grid\"},{\"id\":\"ec9c111b-4238-4e7b-9ea7-1a25604d6283\",\"type\":\"BoxAnnotation\"},{\"id\":\"d39785a4-fd77-4654-a0df-4035dd81d1bf\",\"type\":\"GlyphRenderer\"},{\"id\":\"0a31cd42-3c89-4d3b-9f4f-0789f4b9746e\",\"type\":\"GlyphRenderer\"},{\"id\":\"0907e325-d6f7-4644-ae1c-43e702bd88b2\",\"type\":\"GlyphRenderer\"},{\"id\":\"4b69040c-2063-4438-89a0-271fe0936d47\",\"type\":\"GlyphRenderer\"},{\"id\":\"f364f20d-b876-42ef-819b-1990e3877438\",\"type\":\"GlyphRenderer\"},{\"id\":\"e5687002-bbde-466c-b1b2-507030e265f0\",\"type\":\"GlyphRenderer\"},{\"id\":\"9b906545-78a4-40b0-866f-7865e4b7b361\",\"type\":\"GlyphRenderer\"},{\"id\":\"a0576ace-2e6d-40b5-a2f4-41e0917a751b\",\"type\":\"GlyphRenderer\"},{\"id\":\"f6629162-1dc2-4729-8d8c-4c4127446f40\",\"type\":\"GlyphRenderer\"},{\"id\":\"849c82cf-de87-40e7-a8af-21b8b29e476a\",\"type\":\"Label\"},{\"id\":\"7e1df7c2-0945-4e01-8160-400500dbc558\",\"type\":\"Label\"},{\"id\":\"da2334c7-0bd8-4250-9e99-852e7f4ab964\",\"type\":\"Label\"},{\"id\":\"220743ec-c416-4bc6-90c8-1a54277de104\",\"type\":\"Label\"},{\"id\":\"9093a853-c448-4ad1-9bc6-d537d8eff46c\",\"type\":\"Label\"},{\"id\":\"61d72614-cc3e-45d8-a68b-19ecfe58bbfc\",\"type\":\"Label\"}],\"title\":{\"id\":\"6343ef07-5f23-40b3-968c-54443281c95b\",\"type\":\"Title\"},\"toolbar\":{\"id\":\"5d4e845f-b2e8-47a9-a3a9-8149e87af292\",\"type\":\"Toolbar\"},\"x_range\":{\"id\":\"d2e8a0ae-cab3-41a5-91ff-7df91e28caf7\",\"type\":\"Range1d\"},\"x_scale\":{\"id\":\"bc602078-0bc4-47ec-b578-e83e2875f597\",\"type\":\"LinearScale\"},\"y_range\":{\"id\":\"40193c27-aefa-4157-934e-1795f131728c\",\"type\":\"Range1d\"},\"y_scale\":{\"id\":\"f56003c3-eda1-48ff-9c5e-65156cb1d6cc\",\"type\":\"LinearScale\"}},\"id\":\"7c06841b-a936-4bb3-be09-95a63603d325\",\"subtype\":\"Figure\",\"type\":\"Plot\"},{\"attributes\":{\"plot\":{\"id\":\"7c06841b-a936-4bb3-be09-95a63603d325\",\"subtype\":\"Figure\",\"type\":\"Plot\"},\"text\":\"x = -1\",\"x\":-1.6,\"y\":-0.5},\"id\":\"7e1df7c2-0945-4e01-8160-400500dbc558\",\"type\":\"Label\"},{\"attributes\":{\"callback\":null,\"column_names\":[\"x\"],\"data\":{\"x\":[0,2]},\"selected\":null,\"selection_policy\":null},\"id\":\"7e073baf-1ce3-4a9f-ab96-15f4c9d24b30\",\"type\":\"ColumnDataSource\"},{\"attributes\":{\"plot\":null,\"text\":\"Figure 2.1 - Standard cartesian coordinate system\"},\"id\":\"6343ef07-5f23-40b3-968c-54443281c95b\",\"type\":\"Title\"},{\"attributes\":{\"callback\":null,\"end\":3,\"start\":-2},\"id\":\"d2e8a0ae-cab3-41a5-91ff-7df91e28caf7\",\"type\":\"Range1d\"},{\"attributes\":{\"plot\":{\"id\":\"7c06841b-a936-4bb3-be09-95a63603d325\",\"subtype\":\"Figure\",\"type\":\"Plot\"},\"text\":\"(-1, -1)\",\"x\":-1.9,\"y\":-1.1},\"id\":\"61d72614-cc3e-45d8-a68b-19ecfe58bbfc\",\"type\":\"Label\"},{\"attributes\":{\"source\":{\"id\":\"741a09b8-d810-4ab5-8893-16c1013cbf63\",\"type\":\"ColumnDataSource\"}},\"id\":\"25444599-f6eb-46d7-b705-78c71a721c3e\",\"type\":\"CDSView\"},{\"attributes\":{\"active_drag\":\"auto\",\"active_inspect\":\"auto\",\"active_scroll\":\"auto\",\"active_tap\":\"auto\",\"tools\":[{\"id\":\"784ae5cd-a05d-49b0-8c5a-c010b0b8d87a\",\"type\":\"PanTool\"},{\"id\":\"19e35cec-4105-44fa-bba6-fb59200826ea\",\"type\":\"WheelZoomTool\"},{\"id\":\"7946ed73-8953-48fa-b893-fa3ef417bd57\",\"type\":\"BoxZoomTool\"},{\"id\":\"90d8ae87-ab0c-4b5f-a462-4e7b3717d592\",\"type\":\"SaveTool\"},{\"id\":\"2b4993a2-829b-45e8-a911-ee9cfc9ffecf\",\"type\":\"ResetTool\"},{\"id\":\"3223a06e-7bd1-4954-a87c-0048f8ce820f\",\"type\":\"HelpTool\"}]},\"id\":\"5d4e845f-b2e8-47a9-a3a9-8149e87af292\",\"type\":\"Toolbar\"},{\"attributes\":{\"formatter\":{\"id\":\"40b48dde-a888-4a05-871c-376e6aa64540\",\"type\":\"BasicTickFormatter\"},\"plot\":{\"id\":\"7c06841b-a936-4bb3-be09-95a63603d325\",\"subtype\":\"Figure\",\"type\":\"Plot\"},\"ticker\":{\"id\":\"40961c3e-7c28-413a-b325-a02d81f3193e\",\"type\":\"BasicTicker\"}},\"id\":\"95bc7ed8-659a-4b05-8dc2-15313db5fb50\",\"type\":\"LinearAxis\"},{\"attributes\":{},\"id\":\"bc602078-0bc4-47ec-b578-e83e2875f597\",\"type\":\"LinearScale\"},{\"attributes\":{\"callback\":null,\"end\":2,\"start\":-2},\"id\":\"40193c27-aefa-4157-934e-1795f131728c\",\"type\":\"Range1d\"},{\"attributes\":{},\"id\":\"f56003c3-eda1-48ff-9c5e-65156cb1d6cc\",\"type\":\"LinearScale\"}],\"root_ids\":[\"7c06841b-a936-4bb3-be09-95a63603d325\"]},\"title\":\"Bokeh Application\",\"version\":\"0.12.15\"}};\n",
       "  var render_items = [{\"docid\":\"9418f1e2-2a6f-416e-ab50-3599414df6e4\",\"elementid\":\"f258b251-2494-4ce1-b5ee-3c252ac9e3bc\",\"modelid\":\"7c06841b-a936-4bb3-be09-95a63603d325\"}];\n",
       "  root.Bokeh.embed.embed_items_notebook(docs_json, render_items);\n",
       "\n",
       "  }\n",
       "  if (root.Bokeh !== undefined) {\n",
       "    embed_document(root);\n",
       "  } else {\n",
       "    var attempts = 0;\n",
       "    var timer = setInterval(function(root) {\n",
       "      if (root.Bokeh !== undefined) {\n",
       "        embed_document(root);\n",
       "        clearInterval(timer);\n",
       "      }\n",
       "      attempts++;\n",
       "      if (attempts > 100) {\n",
       "        console.log(\"Bokeh: ERROR: Unable to run BokehJS code because BokehJS library is missing\")\n",
       "        clearInterval(timer);\n",
       "      }\n",
       "    }, 10, root)\n",
       "  }\n",
       "})(window);"
      ],
      "application/vnd.bokehjs_exec.v0+json": ""
     },
     "metadata": {
      "application/vnd.bokehjs_exec.v0+json": {
       "id": "7c06841b-a936-4bb3-be09-95a63603d325"
      }
     },
     "output_type": "display_data"
    }
   ],
   "source": [
    "fig21 = figure(plot_height=400, plot_width=400, title=\"Figure 2.1 - Standard cartesian coordinate system\",\n",
    "              x_range=(-2, 3), y_range=(-2, 2))\n",
    "\n",
    "fig21.line(x=0, y=(-2, 2), line_color=\"lightslategray\")  # y = can be a tuple or a list\n",
    "fig21.line(x=(-2, 3), y=0, line_color=\"lightslategray\")\n",
    "\n",
    "fig21.line(x=(0, 2), y=1, line_color=\"lightslategray\", line_dash=\"dotted\")\n",
    "fig21.line(x=2, y=(0, 1), line_color=\"lightslategray\", line_dash=\"dotted\")\n",
    "fig21.circle(x=2, y=1, fill_color=\"blue\", line_color=None, radius=0.1)\n",
    "fig21.circle(x=0, y=0, fill_color=\"blue\", line_color=None, radius=0.1)\n",
    "fig21.line(x=(-1, 0), y=-1, line_color=\"lightslategray\", line_dash=\"dotted\")\n",
    "fig21.line(x=-1, y=(-1, 0), line_color=\"lightslategray\", line_dash=\"dotted\")\n",
    "fig21.circle(x=(-1, -1), y=-1, fill_color=\"blue\", line_color=None, radius=0.1)\n",
    "\n",
    "fig21.add_layout(Label(text=\"x = 2\", x=0.8, y=1.1))\n",
    "fig21.add_layout(Label(text=\"x = -1\", x=-1.6, y=-0.5))\n",
    "fig21.add_layout(Label(text=\"y = -1\", x=-0.9, y=-1.2))\n",
    "\n",
    "fig21.add_layout(Label(text=\"(2, 1)\", x=2.01, y=1.01))\n",
    "fig21.add_layout(Label(text=\"(0, 0)\", x=-0.5, y=0.1))\n",
    "fig21.add_layout(Label(text=\"(-1, -1)\", x=-1.9, y=-1.1))\n",
    "\n",
    "show(fig21)"
   ]
  },
  {
   "cell_type": "code",
   "execution_count": null,
   "metadata": {},
   "outputs": [],
   "source": []
  },
  {
   "cell_type": "code",
   "execution_count": null,
   "metadata": {},
   "outputs": [],
   "source": []
  },
  {
   "cell_type": "code",
   "execution_count": 11,
   "metadata": {},
   "outputs": [
    {
     "data": {
      "text/html": [
       "\n",
       "<div class=\"bk-root\">\n",
       "    <div class=\"bk-plotdiv\" id=\"d5ee56c9-a713-4080-b646-5b825029703d\"></div>\n",
       "</div>"
      ]
     },
     "metadata": {},
     "output_type": "display_data"
    },
    {
     "data": {
      "application/javascript": [
       "(function(root) {\n",
       "  function embed_document(root) {\n",
       "    \n",
       "  var docs_json = {\"472cbd02-88a9-431a-9ac7-7bb0d3171d19\":{\"roots\":{\"references\":[{\"attributes\":{},\"id\":\"b914690b-5831-4483-9ca6-89d934ec1220\",\"type\":\"SaveTool\"},{\"attributes\":{\"callback\":null,\"column_names\":[\"city\",\"Date\",\"Mean.TemperatureF\",\"index\"],\"data\":{\"Date\":[1,2,3,4,5,6,7,8,9,10,11,12],\"Mean.TemperatureF\":{\"__ndarray__\":\"hBBCCCEESUDbtm3btm1KQFtrrbXWWk9A7+7u7u4uUkCMMcYYY0xTQLy7u7u7m1RAU0oppZSSVUCVUkoppVRVQM3MzMzMDFRAIYQQQghhUkAzMzMzM7NPQFtrrbXW2k1A\",\"dtype\":\"float64\",\"shape\":[12]},\"city\":[\"Houston (TX)\",\"Houston (TX)\",\"Houston (TX)\",\"Houston (TX)\",\"Houston (TX)\",\"Houston (TX)\",\"Houston (TX)\",\"Houston (TX)\",\"Houston (TX)\",\"Houston (TX)\",\"Houston (TX)\",\"Houston (TX)\"],\"index\":[0,1,2,3,4,5,6,7,8,9,10,11]},\"selected\":null,\"selection_policy\":null},\"id\":\"df16b574-a6c7-4348-86db-40bf165e7873\",\"type\":\"ColumnDataSource\"},{\"attributes\":{\"line_color\":\"blue\",\"line_width\":2,\"x\":{\"field\":\"Date\"},\"y\":{\"field\":\"Mean.TemperatureF\"}},\"id\":\"46172b14-7bb4-4df7-b572-c0578e6db112\",\"type\":\"Line\"},{\"attributes\":{},\"id\":\"aa3969fb-7569-40d3-811a-5c60d173d532\",\"type\":\"BasicTicker\"},{\"attributes\":{\"bottom_units\":\"screen\",\"fill_alpha\":{\"value\":0.5},\"fill_color\":{\"value\":\"lightgrey\"},\"left_units\":\"screen\",\"level\":\"overlay\",\"line_alpha\":{\"value\":1.0},\"line_color\":{\"value\":\"black\"},\"line_dash\":[4,4],\"line_width\":{\"value\":2},\"plot\":null,\"render_mode\":\"css\",\"right_units\":\"screen\",\"top_units\":\"screen\"},\"id\":\"70414104-77c3-456d-b765-d20639b8c829\",\"type\":\"BoxAnnotation\"},{\"attributes\":{\"formatter\":{\"id\":\"bac157c6-ac59-49fe-9775-53f15eebdd39\",\"type\":\"BasicTickFormatter\"},\"plot\":{\"id\":\"bcd96daa-e696-4f88-9e49-57dc1673278a\",\"subtype\":\"Figure\",\"type\":\"Plot\"},\"ticker\":{\"id\":\"aa3969fb-7569-40d3-811a-5c60d173d532\",\"type\":\"BasicTicker\"}},\"id\":\"ab45d2f0-8b06-4374-b07f-c817e9944974\",\"type\":\"LinearAxis\"},{\"attributes\":{\"label\":{\"field\":\"city\"},\"renderers\":[{\"id\":\"a4d79a72-08bb-47f0-bef6-ebf663b4a711\",\"type\":\"GlyphRenderer\"}]},\"id\":\"2cdedf25-8049-4c96-a87d-2e126fdb7394\",\"type\":\"LegendItem\"},{\"attributes\":{\"plot\":null,\"text\":\"a\"},\"id\":\"80a9beb3-9b81-4e37-9995-d1005cfa8ab7\",\"type\":\"Title\"},{\"attributes\":{\"line_alpha\":0.1,\"line_color\":\"#1f77b4\",\"line_width\":2,\"x\":{\"field\":\"Date\"},\"y\":{\"field\":\"Mean.TemperatureF\"}},\"id\":\"51c907aa-e928-4ded-a0b3-b8a109a9f40f\",\"type\":\"Line\"},{\"attributes\":{},\"id\":\"bac157c6-ac59-49fe-9775-53f15eebdd39\",\"type\":\"BasicTickFormatter\"},{\"attributes\":{\"callback\":null},\"id\":\"3b6ab508-3516-46d9-8b64-f352f0e1f6d2\",\"type\":\"DataRange1d\"},{\"attributes\":{\"source\":{\"id\":\"df16b574-a6c7-4348-86db-40bf165e7873\",\"type\":\"ColumnDataSource\"}},\"id\":\"dbc658c8-04fb-49ff-9aa7-465f70169116\",\"type\":\"CDSView\"},{\"attributes\":{\"items\":[{\"id\":\"2cdedf25-8049-4c96-a87d-2e126fdb7394\",\"type\":\"LegendItem\"}],\"plot\":{\"id\":\"bcd96daa-e696-4f88-9e49-57dc1673278a\",\"subtype\":\"Figure\",\"type\":\"Plot\"},\"visible\":false},\"id\":\"1f320867-e47b-48d6-aa76-6c34c43548c0\",\"type\":\"Legend\"},{\"attributes\":{\"active_drag\":\"auto\",\"active_inspect\":\"auto\",\"active_scroll\":\"auto\",\"active_tap\":\"auto\",\"tools\":[{\"id\":\"6a54bf7d-1630-4dca-8b81-3435b19a7eef\",\"type\":\"PanTool\"},{\"id\":\"65e85ad5-2028-459c-b925-a2943c0b1418\",\"type\":\"WheelZoomTool\"},{\"id\":\"d09b597e-1521-4eea-9e90-475f649ddeca\",\"type\":\"BoxZoomTool\"},{\"id\":\"b914690b-5831-4483-9ca6-89d934ec1220\",\"type\":\"SaveTool\"},{\"id\":\"5cfccb04-c822-45fe-8dce-210bfeb80fd2\",\"type\":\"ResetTool\"},{\"id\":\"a862f9d4-8be6-42ed-a5df-d88e80f29bbf\",\"type\":\"HelpTool\"}]},\"id\":\"cf9e4fa5-89b0-4f86-8971-38bc62f9a25f\",\"type\":\"Toolbar\"},{\"attributes\":{},\"id\":\"6a54bf7d-1630-4dca-8b81-3435b19a7eef\",\"type\":\"PanTool\"},{\"attributes\":{},\"id\":\"1352d1db-6cf8-40d9-9076-839ff4a0ee8b\",\"type\":\"LinearScale\"},{\"attributes\":{\"callback\":null},\"id\":\"e84d4f61-4d91-41c8-b9cf-94bfac1d63f5\",\"type\":\"DataRange1d\"},{\"attributes\":{\"data_source\":{\"id\":\"df16b574-a6c7-4348-86db-40bf165e7873\",\"type\":\"ColumnDataSource\"},\"glyph\":{\"id\":\"46172b14-7bb4-4df7-b572-c0578e6db112\",\"type\":\"Line\"},\"hover_glyph\":null,\"muted_glyph\":null,\"nonselection_glyph\":{\"id\":\"51c907aa-e928-4ded-a0b3-b8a109a9f40f\",\"type\":\"Line\"},\"selection_glyph\":null,\"view\":{\"id\":\"dbc658c8-04fb-49ff-9aa7-465f70169116\",\"type\":\"CDSView\"}},\"id\":\"a4d79a72-08bb-47f0-bef6-ebf663b4a711\",\"type\":\"GlyphRenderer\"},{\"attributes\":{},\"id\":\"65e85ad5-2028-459c-b925-a2943c0b1418\",\"type\":\"WheelZoomTool\"},{\"attributes\":{\"below\":[{\"id\":\"ab45d2f0-8b06-4374-b07f-c817e9944974\",\"type\":\"LinearAxis\"}],\"left\":[{\"id\":\"a9ed071a-6dd5-44fc-b9b2-bf06b0a65a61\",\"type\":\"LinearAxis\"}],\"plot_height\":200,\"plot_width\":200,\"renderers\":[{\"id\":\"ab45d2f0-8b06-4374-b07f-c817e9944974\",\"type\":\"LinearAxis\"},{\"id\":\"288b65b2-26ee-483f-8812-1c74abc84333\",\"type\":\"Grid\"},{\"id\":\"a9ed071a-6dd5-44fc-b9b2-bf06b0a65a61\",\"type\":\"LinearAxis\"},{\"id\":\"cc9aa899-97d9-466c-9fcb-4fa34fbd476d\",\"type\":\"Grid\"},{\"id\":\"70414104-77c3-456d-b765-d20639b8c829\",\"type\":\"BoxAnnotation\"},{\"id\":\"1f320867-e47b-48d6-aa76-6c34c43548c0\",\"type\":\"Legend\"},{\"id\":\"a4d79a72-08bb-47f0-bef6-ebf663b4a711\",\"type\":\"GlyphRenderer\"}],\"title\":{\"id\":\"80a9beb3-9b81-4e37-9995-d1005cfa8ab7\",\"type\":\"Title\"},\"toolbar\":{\"id\":\"cf9e4fa5-89b0-4f86-8971-38bc62f9a25f\",\"type\":\"Toolbar\"},\"x_range\":{\"id\":\"3b6ab508-3516-46d9-8b64-f352f0e1f6d2\",\"type\":\"DataRange1d\"},\"x_scale\":{\"id\":\"a60b8a29-50bc-4075-be68-1a9696b5ba7b\",\"type\":\"LinearScale\"},\"y_range\":{\"id\":\"e84d4f61-4d91-41c8-b9cf-94bfac1d63f5\",\"type\":\"DataRange1d\"},\"y_scale\":{\"id\":\"1352d1db-6cf8-40d9-9076-839ff4a0ee8b\",\"type\":\"LinearScale\"}},\"id\":\"bcd96daa-e696-4f88-9e49-57dc1673278a\",\"subtype\":\"Figure\",\"type\":\"Plot\"},{\"attributes\":{\"dimension\":1,\"plot\":{\"id\":\"bcd96daa-e696-4f88-9e49-57dc1673278a\",\"subtype\":\"Figure\",\"type\":\"Plot\"},\"ticker\":{\"id\":\"b749c1f2-aa8b-4f80-abb1-f5a2bab776a6\",\"type\":\"BasicTicker\"}},\"id\":\"cc9aa899-97d9-466c-9fcb-4fa34fbd476d\",\"type\":\"Grid\"},{\"attributes\":{},\"id\":\"b749c1f2-aa8b-4f80-abb1-f5a2bab776a6\",\"type\":\"BasicTicker\"},{\"attributes\":{\"overlay\":{\"id\":\"70414104-77c3-456d-b765-d20639b8c829\",\"type\":\"BoxAnnotation\"}},\"id\":\"d09b597e-1521-4eea-9e90-475f649ddeca\",\"type\":\"BoxZoomTool\"},{\"attributes\":{},\"id\":\"5cfccb04-c822-45fe-8dce-210bfeb80fd2\",\"type\":\"ResetTool\"},{\"attributes\":{},\"id\":\"a862f9d4-8be6-42ed-a5df-d88e80f29bbf\",\"type\":\"HelpTool\"},{\"attributes\":{\"plot\":{\"id\":\"bcd96daa-e696-4f88-9e49-57dc1673278a\",\"subtype\":\"Figure\",\"type\":\"Plot\"},\"ticker\":{\"id\":\"aa3969fb-7569-40d3-811a-5c60d173d532\",\"type\":\"BasicTicker\"}},\"id\":\"288b65b2-26ee-483f-8812-1c74abc84333\",\"type\":\"Grid\"},{\"attributes\":{\"formatter\":{\"id\":\"285c5745-e24e-4e00-a8e5-0e86e31b0a38\",\"type\":\"BasicTickFormatter\"},\"plot\":{\"id\":\"bcd96daa-e696-4f88-9e49-57dc1673278a\",\"subtype\":\"Figure\",\"type\":\"Plot\"},\"ticker\":{\"id\":\"b749c1f2-aa8b-4f80-abb1-f5a2bab776a6\",\"type\":\"BasicTicker\"}},\"id\":\"a9ed071a-6dd5-44fc-b9b2-bf06b0a65a61\",\"type\":\"LinearAxis\"},{\"attributes\":{},\"id\":\"a60b8a29-50bc-4075-be68-1a9696b5ba7b\",\"type\":\"LinearScale\"},{\"attributes\":{},\"id\":\"285c5745-e24e-4e00-a8e5-0e86e31b0a38\",\"type\":\"BasicTickFormatter\"}],\"root_ids\":[\"bcd96daa-e696-4f88-9e49-57dc1673278a\"]},\"title\":\"Bokeh Application\",\"version\":\"0.12.15\"}};\n",
       "  var render_items = [{\"docid\":\"472cbd02-88a9-431a-9ac7-7bb0d3171d19\",\"elementid\":\"d5ee56c9-a713-4080-b646-5b825029703d\",\"modelid\":\"bcd96daa-e696-4f88-9e49-57dc1673278a\"}];\n",
       "  root.Bokeh.embed.embed_items_notebook(docs_json, render_items);\n",
       "\n",
       "  }\n",
       "  if (root.Bokeh !== undefined) {\n",
       "    embed_document(root);\n",
       "  } else {\n",
       "    var attempts = 0;\n",
       "    var timer = setInterval(function(root) {\n",
       "      if (root.Bokeh !== undefined) {\n",
       "        embed_document(root);\n",
       "        clearInterval(timer);\n",
       "      }\n",
       "      attempts++;\n",
       "      if (attempts > 100) {\n",
       "        console.log(\"Bokeh: ERROR: Unable to run BokehJS code because BokehJS library is missing\")\n",
       "        clearInterval(timer);\n",
       "      }\n",
       "    }, 10, root)\n",
       "  }\n",
       "})(window);"
      ],
      "application/vnd.bokehjs_exec.v0+json": ""
     },
     "metadata": {
      "application/vnd.bokehjs_exec.v0+json": {
       "id": "bcd96daa-e696-4f88-9e49-57dc1673278a"
      }
     },
     "output_type": "display_data"
    }
   ],
   "source": [
    "fig22a = figure(plot_width=200, plot_height=200, title=\"a\")\n",
    "fig22a.line(x=\"Date\", y=\"Mean.TemperatureF\", source=ColumnDataSource(houston), \n",
    "               legend=\"city\", line_color=\"blue\", line_width=2)\n",
    "fig22a.legend.visible = False\n",
    "\n",
    "show(fig22a)"
   ]
  },
  {
   "cell_type": "code",
   "execution_count": 12,
   "metadata": {},
   "outputs": [
    {
     "data": {
      "text/html": [
       "\n",
       "<div class=\"bk-root\">\n",
       "    <div class=\"bk-plotdiv\" id=\"c83d7512-3217-4a8a-9ed2-43c585393c4c\"></div>\n",
       "</div>"
      ]
     },
     "metadata": {},
     "output_type": "display_data"
    },
    {
     "data": {
      "application/javascript": [
       "(function(root) {\n",
       "  function embed_document(root) {\n",
       "    \n",
       "  var docs_json = {\"90d7c011-38b4-48ae-9f7a-8716b88b67f0\":{\"roots\":{\"references\":[{\"attributes\":{\"bottom_units\":\"screen\",\"fill_alpha\":{\"value\":0.5},\"fill_color\":{\"value\":\"lightgrey\"},\"left_units\":\"screen\",\"level\":\"overlay\",\"line_alpha\":{\"value\":1.0},\"line_color\":{\"value\":\"black\"},\"line_dash\":[4,4],\"line_width\":{\"value\":2},\"plot\":null,\"render_mode\":\"css\",\"right_units\":\"screen\",\"top_units\":\"screen\"},\"id\":\"06017e17-a515-4846-bec5-83dfedd3f562\",\"type\":\"BoxAnnotation\"},{\"attributes\":{\"line_color\":\"blue\",\"line_width\":2,\"x\":{\"field\":\"Date\"},\"y\":{\"field\":\"Mean.TemperatureF\"}},\"id\":\"c2928a8a-404e-4daa-a401-80d62fe25097\",\"type\":\"Line\"},{\"attributes\":{\"dimension\":1,\"plot\":{\"id\":\"b4c7b38c-91e3-48f1-8f7a-6f39510a0ab9\",\"subtype\":\"Figure\",\"type\":\"Plot\"},\"ticker\":{\"id\":\"f00d6b70-663e-4a30-a94f-32dc52ab8283\",\"type\":\"BasicTicker\"}},\"id\":\"8bb64336-646e-4b69-9a95-1386b8e46d19\",\"type\":\"Grid\"},{\"attributes\":{\"callback\":null,\"column_names\":[\"city\",\"Date\",\"Mean.TemperatureF\",\"index\"],\"data\":{\"Date\":[1,2,3,4,5,6,7,8,9,10,11,12],\"Mean.TemperatureF\":{\"__ndarray__\":\"hBBCCCEESUDbtm3btm1KQFtrrbXWWk9A7+7u7u4uUkCMMcYYY0xTQLy7u7u7m1RAU0oppZSSVUCVUkoppVRVQM3MzMzMDFRAIYQQQghhUkAzMzMzM7NPQFtrrbXW2k1A\",\"dtype\":\"float64\",\"shape\":[12]},\"city\":[\"Houston (TX)\",\"Houston (TX)\",\"Houston (TX)\",\"Houston (TX)\",\"Houston (TX)\",\"Houston (TX)\",\"Houston (TX)\",\"Houston (TX)\",\"Houston (TX)\",\"Houston (TX)\",\"Houston (TX)\",\"Houston (TX)\"],\"index\":[0,1,2,3,4,5,6,7,8,9,10,11]},\"selected\":null,\"selection_policy\":null},\"id\":\"5e2fcf97-88eb-46c5-9b13-f17ab01f629b\",\"type\":\"ColumnDataSource\"},{\"attributes\":{},\"id\":\"d78edc9b-bddc-441f-a91a-075a5f01bfe4\",\"type\":\"BasicTickFormatter\"},{\"attributes\":{\"formatter\":{\"id\":\"9aea400b-37e7-4fdd-9e44-caccd7ac051c\",\"type\":\"BasicTickFormatter\"},\"plot\":{\"id\":\"b4c7b38c-91e3-48f1-8f7a-6f39510a0ab9\",\"subtype\":\"Figure\",\"type\":\"Plot\"},\"ticker\":{\"id\":\"9d1916e1-bcb9-4a07-a76e-4c5867527c40\",\"type\":\"BasicTicker\"}},\"id\":\"3e9335fd-67c2-4147-9429-b46617ae967a\",\"type\":\"LinearAxis\"},{\"attributes\":{\"line_alpha\":0.1,\"line_color\":\"#1f77b4\",\"line_width\":2,\"x\":{\"field\":\"Date\"},\"y\":{\"field\":\"Mean.TemperatureF\"}},\"id\":\"153ff678-87c8-4042-b2f8-7bc3111076bc\",\"type\":\"Line\"},{\"attributes\":{},\"id\":\"5614bb9e-aece-42a5-b416-1ffa4125de69\",\"type\":\"PanTool\"},{\"attributes\":{\"label\":{\"field\":\"city\"},\"renderers\":[{\"id\":\"1e0212fd-53ff-4296-9de3-502d34ae2a2d\",\"type\":\"GlyphRenderer\"}]},\"id\":\"fa9304f4-4957-4ef8-b12a-b03f1e09f179\",\"type\":\"LegendItem\"},{\"attributes\":{},\"id\":\"ff1534ec-3cb1-4e76-8310-d1115e29453e\",\"type\":\"LinearScale\"},{\"attributes\":{\"active_drag\":\"auto\",\"active_inspect\":\"auto\",\"active_scroll\":\"auto\",\"active_tap\":\"auto\",\"tools\":[{\"id\":\"5614bb9e-aece-42a5-b416-1ffa4125de69\",\"type\":\"PanTool\"},{\"id\":\"3252a91e-4125-4e21-b4d8-95b8ed6c5dd6\",\"type\":\"WheelZoomTool\"},{\"id\":\"38b79eb2-ce82-49e5-af43-740b33c02eec\",\"type\":\"BoxZoomTool\"},{\"id\":\"cc981847-a78d-4072-89be-49e8045c2635\",\"type\":\"SaveTool\"},{\"id\":\"d64262aa-386f-456f-8fea-0e6ca18d3bfb\",\"type\":\"ResetTool\"},{\"id\":\"237ad5eb-c6fe-4595-ba35-218ce491b202\",\"type\":\"HelpTool\"}]},\"id\":\"755bd2fd-30ee-4027-aace-d426b8631aa9\",\"type\":\"Toolbar\"},{\"attributes\":{},\"id\":\"9aea400b-37e7-4fdd-9e44-caccd7ac051c\",\"type\":\"BasicTickFormatter\"},{\"attributes\":{},\"id\":\"ca3e8c55-aa4c-45df-ac0a-9b293ebef96c\",\"type\":\"LinearScale\"},{\"attributes\":{\"plot\":null,\"text\":\"b\"},\"id\":\"6a3fbb4c-d643-4561-bdde-a74c7feec5a1\",\"type\":\"Title\"},{\"attributes\":{\"below\":[{\"id\":\"3e9335fd-67c2-4147-9429-b46617ae967a\",\"type\":\"LinearAxis\"}],\"left\":[{\"id\":\"827c8ec5-2ce7-4872-9be8-74f6b3973a46\",\"type\":\"LinearAxis\"}],\"plot_height\":200,\"plot_width\":400,\"renderers\":[{\"id\":\"3e9335fd-67c2-4147-9429-b46617ae967a\",\"type\":\"LinearAxis\"},{\"id\":\"4284177d-9aab-407b-a341-5131b4cbb9a1\",\"type\":\"Grid\"},{\"id\":\"827c8ec5-2ce7-4872-9be8-74f6b3973a46\",\"type\":\"LinearAxis\"},{\"id\":\"8bb64336-646e-4b69-9a95-1386b8e46d19\",\"type\":\"Grid\"},{\"id\":\"06017e17-a515-4846-bec5-83dfedd3f562\",\"type\":\"BoxAnnotation\"},{\"id\":\"2d668e81-54c6-4283-84bc-c7617b531faf\",\"type\":\"Legend\"},{\"id\":\"1e0212fd-53ff-4296-9de3-502d34ae2a2d\",\"type\":\"GlyphRenderer\"}],\"title\":{\"id\":\"6a3fbb4c-d643-4561-bdde-a74c7feec5a1\",\"type\":\"Title\"},\"toolbar\":{\"id\":\"755bd2fd-30ee-4027-aace-d426b8631aa9\",\"type\":\"Toolbar\"},\"x_range\":{\"id\":\"12b4a770-39cb-4dcd-82e4-0997afd9a3d0\",\"type\":\"DataRange1d\"},\"x_scale\":{\"id\":\"ff1534ec-3cb1-4e76-8310-d1115e29453e\",\"type\":\"LinearScale\"},\"y_range\":{\"id\":\"65e69386-36fb-4ea2-bacc-e80739d88c76\",\"type\":\"DataRange1d\"},\"y_scale\":{\"id\":\"ca3e8c55-aa4c-45df-ac0a-9b293ebef96c\",\"type\":\"LinearScale\"}},\"id\":\"b4c7b38c-91e3-48f1-8f7a-6f39510a0ab9\",\"subtype\":\"Figure\",\"type\":\"Plot\"},{\"attributes\":{\"callback\":null},\"id\":\"65e69386-36fb-4ea2-bacc-e80739d88c76\",\"type\":\"DataRange1d\"},{\"attributes\":{},\"id\":\"f00d6b70-663e-4a30-a94f-32dc52ab8283\",\"type\":\"BasicTicker\"},{\"attributes\":{\"data_source\":{\"id\":\"5e2fcf97-88eb-46c5-9b13-f17ab01f629b\",\"type\":\"ColumnDataSource\"},\"glyph\":{\"id\":\"c2928a8a-404e-4daa-a401-80d62fe25097\",\"type\":\"Line\"},\"hover_glyph\":null,\"muted_glyph\":null,\"nonselection_glyph\":{\"id\":\"153ff678-87c8-4042-b2f8-7bc3111076bc\",\"type\":\"Line\"},\"selection_glyph\":null,\"view\":{\"id\":\"fccabc09-ceba-4446-af61-c8b5308b7766\",\"type\":\"CDSView\"}},\"id\":\"1e0212fd-53ff-4296-9de3-502d34ae2a2d\",\"type\":\"GlyphRenderer\"},{\"attributes\":{\"source\":{\"id\":\"5e2fcf97-88eb-46c5-9b13-f17ab01f629b\",\"type\":\"ColumnDataSource\"}},\"id\":\"fccabc09-ceba-4446-af61-c8b5308b7766\",\"type\":\"CDSView\"},{\"attributes\":{\"callback\":null},\"id\":\"12b4a770-39cb-4dcd-82e4-0997afd9a3d0\",\"type\":\"DataRange1d\"},{\"attributes\":{},\"id\":\"d64262aa-386f-456f-8fea-0e6ca18d3bfb\",\"type\":\"ResetTool\"},{\"attributes\":{\"items\":[{\"id\":\"fa9304f4-4957-4ef8-b12a-b03f1e09f179\",\"type\":\"LegendItem\"}],\"plot\":{\"id\":\"b4c7b38c-91e3-48f1-8f7a-6f39510a0ab9\",\"subtype\":\"Figure\",\"type\":\"Plot\"},\"visible\":false},\"id\":\"2d668e81-54c6-4283-84bc-c7617b531faf\",\"type\":\"Legend\"},{\"attributes\":{},\"id\":\"3252a91e-4125-4e21-b4d8-95b8ed6c5dd6\",\"type\":\"WheelZoomTool\"},{\"attributes\":{\"formatter\":{\"id\":\"d78edc9b-bddc-441f-a91a-075a5f01bfe4\",\"type\":\"BasicTickFormatter\"},\"plot\":{\"id\":\"b4c7b38c-91e3-48f1-8f7a-6f39510a0ab9\",\"subtype\":\"Figure\",\"type\":\"Plot\"},\"ticker\":{\"id\":\"f00d6b70-663e-4a30-a94f-32dc52ab8283\",\"type\":\"BasicTicker\"}},\"id\":\"827c8ec5-2ce7-4872-9be8-74f6b3973a46\",\"type\":\"LinearAxis\"},{\"attributes\":{},\"id\":\"9d1916e1-bcb9-4a07-a76e-4c5867527c40\",\"type\":\"BasicTicker\"},{\"attributes\":{\"plot\":{\"id\":\"b4c7b38c-91e3-48f1-8f7a-6f39510a0ab9\",\"subtype\":\"Figure\",\"type\":\"Plot\"},\"ticker\":{\"id\":\"9d1916e1-bcb9-4a07-a76e-4c5867527c40\",\"type\":\"BasicTicker\"}},\"id\":\"4284177d-9aab-407b-a341-5131b4cbb9a1\",\"type\":\"Grid\"},{\"attributes\":{},\"id\":\"237ad5eb-c6fe-4595-ba35-218ce491b202\",\"type\":\"HelpTool\"},{\"attributes\":{\"overlay\":{\"id\":\"06017e17-a515-4846-bec5-83dfedd3f562\",\"type\":\"BoxAnnotation\"}},\"id\":\"38b79eb2-ce82-49e5-af43-740b33c02eec\",\"type\":\"BoxZoomTool\"},{\"attributes\":{},\"id\":\"cc981847-a78d-4072-89be-49e8045c2635\",\"type\":\"SaveTool\"}],\"root_ids\":[\"b4c7b38c-91e3-48f1-8f7a-6f39510a0ab9\"]},\"title\":\"Bokeh Application\",\"version\":\"0.12.15\"}};\n",
       "  var render_items = [{\"docid\":\"90d7c011-38b4-48ae-9f7a-8716b88b67f0\",\"elementid\":\"c83d7512-3217-4a8a-9ed2-43c585393c4c\",\"modelid\":\"b4c7b38c-91e3-48f1-8f7a-6f39510a0ab9\"}];\n",
       "  root.Bokeh.embed.embed_items_notebook(docs_json, render_items);\n",
       "\n",
       "  }\n",
       "  if (root.Bokeh !== undefined) {\n",
       "    embed_document(root);\n",
       "  } else {\n",
       "    var attempts = 0;\n",
       "    var timer = setInterval(function(root) {\n",
       "      if (root.Bokeh !== undefined) {\n",
       "        embed_document(root);\n",
       "        clearInterval(timer);\n",
       "      }\n",
       "      attempts++;\n",
       "      if (attempts > 100) {\n",
       "        console.log(\"Bokeh: ERROR: Unable to run BokehJS code because BokehJS library is missing\")\n",
       "        clearInterval(timer);\n",
       "      }\n",
       "    }, 10, root)\n",
       "  }\n",
       "})(window);"
      ],
      "application/vnd.bokehjs_exec.v0+json": ""
     },
     "metadata": {
      "application/vnd.bokehjs_exec.v0+json": {
       "id": "b4c7b38c-91e3-48f1-8f7a-6f39510a0ab9"
      }
     },
     "output_type": "display_data"
    }
   ],
   "source": [
    "fig22b = figure(plot_width=400, plot_height=200, title=\"b\")\n",
    "fig22b.line(x=\"Date\", y=\"Mean.TemperatureF\", source=ColumnDataSource(houston), \n",
    "               legend=\"city\", line_color=\"blue\", line_width=2)\n",
    "fig22b.legend.visible = False\n",
    "\n",
    "show(fig22b)"
   ]
  },
  {
   "cell_type": "code",
   "execution_count": 13,
   "metadata": {},
   "outputs": [
    {
     "data": {
      "text/html": [
       "\n",
       "<div class=\"bk-root\">\n",
       "    <div class=\"bk-plotdiv\" id=\"3739aa50-46e2-47ea-ac48-494662fe6c1b\"></div>\n",
       "</div>"
      ]
     },
     "metadata": {},
     "output_type": "display_data"
    },
    {
     "data": {
      "application/javascript": [
       "(function(root) {\n",
       "  function embed_document(root) {\n",
       "    \n",
       "  var docs_json = {\"51d74959-f1f5-4191-a7cc-571502b3d83d\":{\"roots\":{\"references\":[{\"attributes\":{\"formatter\":{\"id\":\"acd109eb-ac5f-41f9-90b1-a63554375b39\",\"type\":\"BasicTickFormatter\"},\"plot\":{\"id\":\"2e93ea6c-a5f3-4f61-8246-7e8fdd545bb9\",\"subtype\":\"Figure\",\"type\":\"Plot\"},\"ticker\":{\"id\":\"21590463-4263-4c11-b69c-c35c97382561\",\"type\":\"BasicTicker\"}},\"id\":\"1847b602-f8ac-41df-b675-95f56358ea02\",\"type\":\"LinearAxis\"},{\"attributes\":{},\"id\":\"848f8c48-70c9-468c-ba2e-973e02c3b2fe\",\"type\":\"SaveTool\"},{\"attributes\":{\"source\":{\"id\":\"ea40ecb6-796b-40f0-a008-91e42f3539ee\",\"type\":\"ColumnDataSource\"}},\"id\":\"e4d18526-8ddf-4cca-a7f4-8fd5880d35bd\",\"type\":\"CDSView\"},{\"attributes\":{\"callback\":null},\"id\":\"5f2aa92f-2693-406c-8a55-e7349c76b484\",\"type\":\"DataRange1d\"},{\"attributes\":{\"bottom_units\":\"screen\",\"fill_alpha\":{\"value\":0.5},\"fill_color\":{\"value\":\"lightgrey\"},\"left_units\":\"screen\",\"level\":\"overlay\",\"line_alpha\":{\"value\":1.0},\"line_color\":{\"value\":\"black\"},\"line_dash\":[4,4],\"line_width\":{\"value\":2},\"plot\":null,\"render_mode\":\"css\",\"right_units\":\"screen\",\"top_units\":\"screen\"},\"id\":\"23b832c9-aef1-471c-ab76-f04ce452cad1\",\"type\":\"BoxAnnotation\"},{\"attributes\":{},\"id\":\"28faf90e-90fe-41b2-8c90-e1eccb63d723\",\"type\":\"BasicTickFormatter\"},{\"attributes\":{\"line_alpha\":0.1,\"line_color\":\"#1f77b4\",\"line_width\":2,\"x\":{\"field\":\"Date\"},\"y\":{\"field\":\"Mean.TemperatureF\"}},\"id\":\"54ca2f05-652a-4146-ba06-310f4ba34624\",\"type\":\"Line\"},{\"attributes\":{\"active_drag\":\"auto\",\"active_inspect\":\"auto\",\"active_scroll\":\"auto\",\"active_tap\":\"auto\",\"tools\":[{\"id\":\"78109dd2-5469-4088-8b6e-5fca41bc2bcb\",\"type\":\"PanTool\"},{\"id\":\"b5834bf8-c083-480e-b4f3-68277e36a675\",\"type\":\"WheelZoomTool\"},{\"id\":\"b8bb6fa4-9348-49ca-8c97-7bfee0e53b53\",\"type\":\"BoxZoomTool\"},{\"id\":\"848f8c48-70c9-468c-ba2e-973e02c3b2fe\",\"type\":\"SaveTool\"},{\"id\":\"3e775b8c-a0d7-433d-8afa-9c2238945361\",\"type\":\"ResetTool\"},{\"id\":\"0dc8d060-1adc-42d9-9761-69291c31ad13\",\"type\":\"HelpTool\"}]},\"id\":\"44692fec-eb7d-4487-af4a-82d1cb8d8c65\",\"type\":\"Toolbar\"},{\"attributes\":{},\"id\":\"0dc8d060-1adc-42d9-9761-69291c31ad13\",\"type\":\"HelpTool\"},{\"attributes\":{},\"id\":\"21590463-4263-4c11-b69c-c35c97382561\",\"type\":\"BasicTicker\"},{\"attributes\":{},\"id\":\"78109dd2-5469-4088-8b6e-5fca41bc2bcb\",\"type\":\"PanTool\"},{\"attributes\":{\"plot\":null,\"text\":\"c\"},\"id\":\"19600a90-c8cd-4a72-9a82-858bca9ac222\",\"type\":\"Title\"},{\"attributes\":{\"plot\":{\"id\":\"2e93ea6c-a5f3-4f61-8246-7e8fdd545bb9\",\"subtype\":\"Figure\",\"type\":\"Plot\"},\"ticker\":{\"id\":\"21590463-4263-4c11-b69c-c35c97382561\",\"type\":\"BasicTicker\"}},\"id\":\"0fbec6d6-3fd0-481b-a360-1ab37689cbee\",\"type\":\"Grid\"},{\"attributes\":{\"callback\":null},\"id\":\"8cf788f6-241c-45a4-bad7-5238d9916aa2\",\"type\":\"DataRange1d\"},{\"attributes\":{\"label\":{\"field\":\"city\"},\"renderers\":[{\"id\":\"d0739136-d8a7-47f3-ad68-9ccc40ba44cb\",\"type\":\"GlyphRenderer\"}]},\"id\":\"27b77e8a-5926-4c0c-a1eb-330ec1329bf8\",\"type\":\"LegendItem\"},{\"attributes\":{\"data_source\":{\"id\":\"ea40ecb6-796b-40f0-a008-91e42f3539ee\",\"type\":\"ColumnDataSource\"},\"glyph\":{\"id\":\"9721b935-c218-45db-aed6-c7314e9a0729\",\"type\":\"Line\"},\"hover_glyph\":null,\"muted_glyph\":null,\"nonselection_glyph\":{\"id\":\"54ca2f05-652a-4146-ba06-310f4ba34624\",\"type\":\"Line\"},\"selection_glyph\":null,\"view\":{\"id\":\"e4d18526-8ddf-4cca-a7f4-8fd5880d35bd\",\"type\":\"CDSView\"}},\"id\":\"d0739136-d8a7-47f3-ad68-9ccc40ba44cb\",\"type\":\"GlyphRenderer\"},{\"attributes\":{},\"id\":\"b5834bf8-c083-480e-b4f3-68277e36a675\",\"type\":\"WheelZoomTool\"},{\"attributes\":{\"items\":[{\"id\":\"27b77e8a-5926-4c0c-a1eb-330ec1329bf8\",\"type\":\"LegendItem\"}],\"plot\":{\"id\":\"2e93ea6c-a5f3-4f61-8246-7e8fdd545bb9\",\"subtype\":\"Figure\",\"type\":\"Plot\"},\"visible\":false},\"id\":\"c327d1d7-8a88-40fa-bc1c-267394d5dfbf\",\"type\":\"Legend\"},{\"attributes\":{\"dimension\":1,\"plot\":{\"id\":\"2e93ea6c-a5f3-4f61-8246-7e8fdd545bb9\",\"subtype\":\"Figure\",\"type\":\"Plot\"},\"ticker\":{\"id\":\"3f83b3cb-22aa-4bc7-8e2c-ead88a22ee0c\",\"type\":\"BasicTicker\"}},\"id\":\"39fcddb2-b2ba-4a01-8378-e2ccce838508\",\"type\":\"Grid\"},{\"attributes\":{\"formatter\":{\"id\":\"28faf90e-90fe-41b2-8c90-e1eccb63d723\",\"type\":\"BasicTickFormatter\"},\"plot\":{\"id\":\"2e93ea6c-a5f3-4f61-8246-7e8fdd545bb9\",\"subtype\":\"Figure\",\"type\":\"Plot\"},\"ticker\":{\"id\":\"3f83b3cb-22aa-4bc7-8e2c-ead88a22ee0c\",\"type\":\"BasicTicker\"}},\"id\":\"c69e6ca0-b8ed-4b4b-aeb8-4e3852bf2cef\",\"type\":\"LinearAxis\"},{\"attributes\":{\"overlay\":{\"id\":\"23b832c9-aef1-471c-ab76-f04ce452cad1\",\"type\":\"BoxAnnotation\"}},\"id\":\"b8bb6fa4-9348-49ca-8c97-7bfee0e53b53\",\"type\":\"BoxZoomTool\"},{\"attributes\":{\"callback\":null,\"column_names\":[\"city\",\"Date\",\"Mean.TemperatureF\",\"index\"],\"data\":{\"Date\":[1,2,3,4,5,6,7,8,9,10,11,12],\"Mean.TemperatureF\":{\"__ndarray__\":\"hBBCCCEESUDbtm3btm1KQFtrrbXWWk9A7+7u7u4uUkCMMcYYY0xTQLy7u7u7m1RAU0oppZSSVUCVUkoppVRVQM3MzMzMDFRAIYQQQghhUkAzMzMzM7NPQFtrrbXW2k1A\",\"dtype\":\"float64\",\"shape\":[12]},\"city\":[\"Houston (TX)\",\"Houston (TX)\",\"Houston (TX)\",\"Houston (TX)\",\"Houston (TX)\",\"Houston (TX)\",\"Houston (TX)\",\"Houston (TX)\",\"Houston (TX)\",\"Houston (TX)\",\"Houston (TX)\",\"Houston (TX)\"],\"index\":[0,1,2,3,4,5,6,7,8,9,10,11]},\"selected\":null,\"selection_policy\":null},\"id\":\"ea40ecb6-796b-40f0-a008-91e42f3539ee\",\"type\":\"ColumnDataSource\"},{\"attributes\":{},\"id\":\"acd109eb-ac5f-41f9-90b1-a63554375b39\",\"type\":\"BasicTickFormatter\"},{\"attributes\":{\"line_color\":\"blue\",\"line_width\":2,\"x\":{\"field\":\"Date\"},\"y\":{\"field\":\"Mean.TemperatureF\"}},\"id\":\"9721b935-c218-45db-aed6-c7314e9a0729\",\"type\":\"Line\"},{\"attributes\":{},\"id\":\"3f83b3cb-22aa-4bc7-8e2c-ead88a22ee0c\",\"type\":\"BasicTicker\"},{\"attributes\":{},\"id\":\"f95146ab-a21e-4892-bb79-142b64a4cf68\",\"type\":\"LinearScale\"},{\"attributes\":{\"below\":[{\"id\":\"1847b602-f8ac-41df-b675-95f56358ea02\",\"type\":\"LinearAxis\"}],\"left\":[{\"id\":\"c69e6ca0-b8ed-4b4b-aeb8-4e3852bf2cef\",\"type\":\"LinearAxis\"}],\"plot_height\":200,\"renderers\":[{\"id\":\"1847b602-f8ac-41df-b675-95f56358ea02\",\"type\":\"LinearAxis\"},{\"id\":\"0fbec6d6-3fd0-481b-a360-1ab37689cbee\",\"type\":\"Grid\"},{\"id\":\"c69e6ca0-b8ed-4b4b-aeb8-4e3852bf2cef\",\"type\":\"LinearAxis\"},{\"id\":\"39fcddb2-b2ba-4a01-8378-e2ccce838508\",\"type\":\"Grid\"},{\"id\":\"23b832c9-aef1-471c-ab76-f04ce452cad1\",\"type\":\"BoxAnnotation\"},{\"id\":\"c327d1d7-8a88-40fa-bc1c-267394d5dfbf\",\"type\":\"Legend\"},{\"id\":\"d0739136-d8a7-47f3-ad68-9ccc40ba44cb\",\"type\":\"GlyphRenderer\"}],\"title\":{\"id\":\"19600a90-c8cd-4a72-9a82-858bca9ac222\",\"type\":\"Title\"},\"toolbar\":{\"id\":\"44692fec-eb7d-4487-af4a-82d1cb8d8c65\",\"type\":\"Toolbar\"},\"x_range\":{\"id\":\"5f2aa92f-2693-406c-8a55-e7349c76b484\",\"type\":\"DataRange1d\"},\"x_scale\":{\"id\":\"f95146ab-a21e-4892-bb79-142b64a4cf68\",\"type\":\"LinearScale\"},\"y_range\":{\"id\":\"8cf788f6-241c-45a4-bad7-5238d9916aa2\",\"type\":\"DataRange1d\"},\"y_scale\":{\"id\":\"e1614255-f925-4af7-98a2-5b492f6e68bb\",\"type\":\"LinearScale\"}},\"id\":\"2e93ea6c-a5f3-4f61-8246-7e8fdd545bb9\",\"subtype\":\"Figure\",\"type\":\"Plot\"},{\"attributes\":{},\"id\":\"e1614255-f925-4af7-98a2-5b492f6e68bb\",\"type\":\"LinearScale\"},{\"attributes\":{},\"id\":\"3e775b8c-a0d7-433d-8afa-9c2238945361\",\"type\":\"ResetTool\"}],\"root_ids\":[\"2e93ea6c-a5f3-4f61-8246-7e8fdd545bb9\"]},\"title\":\"Bokeh Application\",\"version\":\"0.12.15\"}};\n",
       "  var render_items = [{\"docid\":\"51d74959-f1f5-4191-a7cc-571502b3d83d\",\"elementid\":\"3739aa50-46e2-47ea-ac48-494662fe6c1b\",\"modelid\":\"2e93ea6c-a5f3-4f61-8246-7e8fdd545bb9\"}];\n",
       "  root.Bokeh.embed.embed_items_notebook(docs_json, render_items);\n",
       "\n",
       "  }\n",
       "  if (root.Bokeh !== undefined) {\n",
       "    embed_document(root);\n",
       "  } else {\n",
       "    var attempts = 0;\n",
       "    var timer = setInterval(function(root) {\n",
       "      if (root.Bokeh !== undefined) {\n",
       "        embed_document(root);\n",
       "        clearInterval(timer);\n",
       "      }\n",
       "      attempts++;\n",
       "      if (attempts > 100) {\n",
       "        console.log(\"Bokeh: ERROR: Unable to run BokehJS code because BokehJS library is missing\")\n",
       "        clearInterval(timer);\n",
       "      }\n",
       "    }, 10, root)\n",
       "  }\n",
       "})(window);"
      ],
      "application/vnd.bokehjs_exec.v0+json": ""
     },
     "metadata": {
      "application/vnd.bokehjs_exec.v0+json": {
       "id": "2e93ea6c-a5f3-4f61-8246-7e8fdd545bb9"
      }
     },
     "output_type": "display_data"
    }
   ],
   "source": [
    "fig22c = figure(plot_width=600, plot_height=200, title=\"c\")\n",
    "fig22c.line(x=\"Date\", y=\"Mean.TemperatureF\", source=ColumnDataSource(houston), \n",
    "               legend=\"city\", line_color=\"blue\", line_width=2)\n",
    "fig22c.legend.visible = False\n",
    "\n",
    "show(fig22c)"
   ]
  },
  {
   "cell_type": "code",
   "execution_count": 14,
   "metadata": {},
   "outputs": [],
   "source": [
    "fig22 = gridplot([[fig22a, fig22b], [fig22c]], group=\"Figure 2.2\")"
   ]
  },
  {
   "cell_type": "code",
   "execution_count": 15,
   "metadata": {
    "scrolled": false
   },
   "outputs": [
    {
     "data": {
      "text/html": [
       "\n",
       "<div class=\"bk-root\">\n",
       "    <div class=\"bk-plotdiv\" id=\"6dd142c3-c3b8-4329-85cf-b9ed8452f867\"></div>\n",
       "</div>"
      ]
     },
     "metadata": {},
     "output_type": "display_data"
    },
    {
     "data": {
      "application/javascript": [
       "(function(root) {\n",
       "  function embed_document(root) {\n",
       "    \n",
       "  var docs_json = {\"b322cf66-95d7-488d-8b04-32aee2f7c6aa\":{\"roots\":{\"references\":[{\"attributes\":{\"callback\":null},\"id\":\"5f2aa92f-2693-406c-8a55-e7349c76b484\",\"type\":\"DataRange1d\"},{\"attributes\":{},\"id\":\"28faf90e-90fe-41b2-8c90-e1eccb63d723\",\"type\":\"BasicTickFormatter\"},{\"attributes\":{\"formatter\":{\"id\":\"9aea400b-37e7-4fdd-9e44-caccd7ac051c\",\"type\":\"BasicTickFormatter\"},\"plot\":{\"id\":\"b4c7b38c-91e3-48f1-8f7a-6f39510a0ab9\",\"subtype\":\"Figure\",\"type\":\"Plot\"},\"ticker\":{\"id\":\"9d1916e1-bcb9-4a07-a76e-4c5867527c40\",\"type\":\"BasicTicker\"}},\"id\":\"3e9335fd-67c2-4147-9429-b46617ae967a\",\"type\":\"LinearAxis\"},{\"attributes\":{\"active_drag\":\"auto\",\"active_inspect\":\"auto\",\"active_scroll\":\"auto\",\"active_tap\":\"auto\",\"tools\":[{\"id\":\"78109dd2-5469-4088-8b6e-5fca41bc2bcb\",\"type\":\"PanTool\"},{\"id\":\"b5834bf8-c083-480e-b4f3-68277e36a675\",\"type\":\"WheelZoomTool\"},{\"id\":\"b8bb6fa4-9348-49ca-8c97-7bfee0e53b53\",\"type\":\"BoxZoomTool\"},{\"id\":\"848f8c48-70c9-468c-ba2e-973e02c3b2fe\",\"type\":\"SaveTool\"},{\"id\":\"3e775b8c-a0d7-433d-8afa-9c2238945361\",\"type\":\"ResetTool\"},{\"id\":\"0dc8d060-1adc-42d9-9761-69291c31ad13\",\"type\":\"HelpTool\"}]},\"id\":\"44692fec-eb7d-4487-af4a-82d1cb8d8c65\",\"type\":\"Toolbar\"},{\"attributes\":{\"line_alpha\":0.1,\"line_color\":\"#1f77b4\",\"line_width\":2,\"x\":{\"field\":\"Date\"},\"y\":{\"field\":\"Mean.TemperatureF\"}},\"id\":\"153ff678-87c8-4042-b2f8-7bc3111076bc\",\"type\":\"Line\"},{\"attributes\":{},\"id\":\"5614bb9e-aece-42a5-b416-1ffa4125de69\",\"type\":\"PanTool\"},{\"attributes\":{\"plot\":null,\"text\":\"c\"},\"id\":\"19600a90-c8cd-4a72-9a82-858bca9ac222\",\"type\":\"Title\"},{\"attributes\":{\"active_drag\":\"auto\",\"active_inspect\":\"auto\",\"active_scroll\":\"auto\",\"active_tap\":\"auto\",\"tools\":[{\"id\":\"5614bb9e-aece-42a5-b416-1ffa4125de69\",\"type\":\"PanTool\"},{\"id\":\"3252a91e-4125-4e21-b4d8-95b8ed6c5dd6\",\"type\":\"WheelZoomTool\"},{\"id\":\"38b79eb2-ce82-49e5-af43-740b33c02eec\",\"type\":\"BoxZoomTool\"},{\"id\":\"cc981847-a78d-4072-89be-49e8045c2635\",\"type\":\"SaveTool\"},{\"id\":\"d64262aa-386f-456f-8fea-0e6ca18d3bfb\",\"type\":\"ResetTool\"},{\"id\":\"237ad5eb-c6fe-4595-ba35-218ce491b202\",\"type\":\"HelpTool\"}]},\"id\":\"755bd2fd-30ee-4027-aace-d426b8631aa9\",\"type\":\"Toolbar\"},{\"attributes\":{\"callback\":null},\"id\":\"8cf788f6-241c-45a4-bad7-5238d9916aa2\",\"type\":\"DataRange1d\"},{\"attributes\":{\"source\":{\"id\":\"df16b574-a6c7-4348-86db-40bf165e7873\",\"type\":\"ColumnDataSource\"}},\"id\":\"dbc658c8-04fb-49ff-9aa7-465f70169116\",\"type\":\"CDSView\"},{\"attributes\":{\"items\":[{\"id\":\"2cdedf25-8049-4c96-a87d-2e126fdb7394\",\"type\":\"LegendItem\"}],\"plot\":{\"id\":\"bcd96daa-e696-4f88-9e49-57dc1673278a\",\"subtype\":\"Figure\",\"type\":\"Plot\"},\"visible\":false},\"id\":\"1f320867-e47b-48d6-aa76-6c34c43548c0\",\"type\":\"Legend\"},{\"attributes\":{\"plot\":null,\"text\":\"b\"},\"id\":\"6a3fbb4c-d643-4561-bdde-a74c7feec5a1\",\"type\":\"Title\"},{\"attributes\":{\"data_source\":{\"id\":\"ea40ecb6-796b-40f0-a008-91e42f3539ee\",\"type\":\"ColumnDataSource\"},\"glyph\":{\"id\":\"9721b935-c218-45db-aed6-c7314e9a0729\",\"type\":\"Line\"},\"hover_glyph\":null,\"muted_glyph\":null,\"nonselection_glyph\":{\"id\":\"54ca2f05-652a-4146-ba06-310f4ba34624\",\"type\":\"Line\"},\"selection_glyph\":null,\"view\":{\"id\":\"e4d18526-8ddf-4cca-a7f4-8fd5880d35bd\",\"type\":\"CDSView\"}},\"id\":\"d0739136-d8a7-47f3-ad68-9ccc40ba44cb\",\"type\":\"GlyphRenderer\"},{\"attributes\":{\"items\":[{\"id\":\"27b77e8a-5926-4c0c-a1eb-330ec1329bf8\",\"type\":\"LegendItem\"}],\"plot\":{\"id\":\"2e93ea6c-a5f3-4f61-8246-7e8fdd545bb9\",\"subtype\":\"Figure\",\"type\":\"Plot\"},\"visible\":false},\"id\":\"c327d1d7-8a88-40fa-bc1c-267394d5dfbf\",\"type\":\"Legend\"},{\"attributes\":{},\"id\":\"f00d6b70-663e-4a30-a94f-32dc52ab8283\",\"type\":\"BasicTicker\"},{\"attributes\":{\"formatter\":{\"id\":\"28faf90e-90fe-41b2-8c90-e1eccb63d723\",\"type\":\"BasicTickFormatter\"},\"plot\":{\"id\":\"2e93ea6c-a5f3-4f61-8246-7e8fdd545bb9\",\"subtype\":\"Figure\",\"type\":\"Plot\"},\"ticker\":{\"id\":\"3f83b3cb-22aa-4bc7-8e2c-ead88a22ee0c\",\"type\":\"BasicTicker\"}},\"id\":\"c69e6ca0-b8ed-4b4b-aeb8-4e3852bf2cef\",\"type\":\"LinearAxis\"},{\"attributes\":{\"source\":{\"id\":\"5e2fcf97-88eb-46c5-9b13-f17ab01f629b\",\"type\":\"ColumnDataSource\"}},\"id\":\"fccabc09-ceba-4446-af61-c8b5308b7766\",\"type\":\"CDSView\"},{\"attributes\":{\"toolbar\":{\"id\":\"8e5c5710-683b-43be-a394-69376989c8fb\",\"type\":\"ProxyToolbar\"},\"toolbar_location\":\"above\"},\"id\":\"33873ce6-fbbf-447c-8e85-255220c072d7\",\"type\":\"ToolbarBox\"},{\"attributes\":{},\"id\":\"1352d1db-6cf8-40d9-9076-839ff4a0ee8b\",\"type\":\"LinearScale\"},{\"attributes\":{\"callback\":null},\"id\":\"12b4a770-39cb-4dcd-82e4-0997afd9a3d0\",\"type\":\"DataRange1d\"},{\"attributes\":{},\"id\":\"65e85ad5-2028-459c-b925-a2943c0b1418\",\"type\":\"WheelZoomTool\"},{\"attributes\":{\"items\":[{\"id\":\"fa9304f4-4957-4ef8-b12a-b03f1e09f179\",\"type\":\"LegendItem\"}],\"plot\":{\"id\":\"b4c7b38c-91e3-48f1-8f7a-6f39510a0ab9\",\"subtype\":\"Figure\",\"type\":\"Plot\"},\"visible\":false},\"id\":\"2d668e81-54c6-4283-84bc-c7617b531faf\",\"type\":\"Legend\"},{\"attributes\":{\"callback\":null,\"column_names\":[\"city\",\"Date\",\"Mean.TemperatureF\",\"index\"],\"data\":{\"Date\":[1,2,3,4,5,6,7,8,9,10,11,12],\"Mean.TemperatureF\":{\"__ndarray__\":\"hBBCCCEESUDbtm3btm1KQFtrrbXWWk9A7+7u7u4uUkCMMcYYY0xTQLy7u7u7m1RAU0oppZSSVUCVUkoppVRVQM3MzMzMDFRAIYQQQghhUkAzMzMzM7NPQFtrrbXW2k1A\",\"dtype\":\"float64\",\"shape\":[12]},\"city\":[\"Houston (TX)\",\"Houston (TX)\",\"Houston (TX)\",\"Houston (TX)\",\"Houston (TX)\",\"Houston (TX)\",\"Houston (TX)\",\"Houston (TX)\",\"Houston (TX)\",\"Houston (TX)\",\"Houston (TX)\",\"Houston (TX)\"],\"index\":[0,1,2,3,4,5,6,7,8,9,10,11]},\"selected\":null,\"selection_policy\":null},\"id\":\"ea40ecb6-796b-40f0-a008-91e42f3539ee\",\"type\":\"ColumnDataSource\"},{\"attributes\":{\"dimension\":1,\"plot\":{\"id\":\"bcd96daa-e696-4f88-9e49-57dc1673278a\",\"subtype\":\"Figure\",\"type\":\"Plot\"},\"ticker\":{\"id\":\"b749c1f2-aa8b-4f80-abb1-f5a2bab776a6\",\"type\":\"BasicTicker\"}},\"id\":\"cc9aa899-97d9-466c-9fcb-4fa34fbd476d\",\"type\":\"Grid\"},{\"attributes\":{},\"id\":\"3252a91e-4125-4e21-b4d8-95b8ed6c5dd6\",\"type\":\"WheelZoomTool\"},{\"attributes\":{},\"id\":\"3f83b3cb-22aa-4bc7-8e2c-ead88a22ee0c\",\"type\":\"BasicTicker\"},{\"attributes\":{\"formatter\":{\"id\":\"d78edc9b-bddc-441f-a91a-075a5f01bfe4\",\"type\":\"BasicTickFormatter\"},\"plot\":{\"id\":\"b4c7b38c-91e3-48f1-8f7a-6f39510a0ab9\",\"subtype\":\"Figure\",\"type\":\"Plot\"},\"ticker\":{\"id\":\"f00d6b70-663e-4a30-a94f-32dc52ab8283\",\"type\":\"BasicTicker\"}},\"id\":\"827c8ec5-2ce7-4872-9be8-74f6b3973a46\",\"type\":\"LinearAxis\"},{\"attributes\":{},\"id\":\"f95146ab-a21e-4892-bb79-142b64a4cf68\",\"type\":\"LinearScale\"},{\"attributes\":{},\"id\":\"9d1916e1-bcb9-4a07-a76e-4c5867527c40\",\"type\":\"BasicTicker\"},{\"attributes\":{\"below\":[{\"id\":\"1847b602-f8ac-41df-b675-95f56358ea02\",\"type\":\"LinearAxis\"}],\"left\":[{\"id\":\"c69e6ca0-b8ed-4b4b-aeb8-4e3852bf2cef\",\"type\":\"LinearAxis\"}],\"plot_height\":200,\"renderers\":[{\"id\":\"1847b602-f8ac-41df-b675-95f56358ea02\",\"type\":\"LinearAxis\"},{\"id\":\"0fbec6d6-3fd0-481b-a360-1ab37689cbee\",\"type\":\"Grid\"},{\"id\":\"c69e6ca0-b8ed-4b4b-aeb8-4e3852bf2cef\",\"type\":\"LinearAxis\"},{\"id\":\"39fcddb2-b2ba-4a01-8378-e2ccce838508\",\"type\":\"Grid\"},{\"id\":\"23b832c9-aef1-471c-ab76-f04ce452cad1\",\"type\":\"BoxAnnotation\"},{\"id\":\"c327d1d7-8a88-40fa-bc1c-267394d5dfbf\",\"type\":\"Legend\"},{\"id\":\"d0739136-d8a7-47f3-ad68-9ccc40ba44cb\",\"type\":\"GlyphRenderer\"}],\"title\":{\"id\":\"19600a90-c8cd-4a72-9a82-858bca9ac222\",\"type\":\"Title\"},\"toolbar\":{\"id\":\"44692fec-eb7d-4487-af4a-82d1cb8d8c65\",\"type\":\"Toolbar\"},\"toolbar_location\":null,\"x_range\":{\"id\":\"5f2aa92f-2693-406c-8a55-e7349c76b484\",\"type\":\"DataRange1d\"},\"x_scale\":{\"id\":\"f95146ab-a21e-4892-bb79-142b64a4cf68\",\"type\":\"LinearScale\"},\"y_range\":{\"id\":\"8cf788f6-241c-45a4-bad7-5238d9916aa2\",\"type\":\"DataRange1d\"},\"y_scale\":{\"id\":\"e1614255-f925-4af7-98a2-5b492f6e68bb\",\"type\":\"LinearScale\"}},\"id\":\"2e93ea6c-a5f3-4f61-8246-7e8fdd545bb9\",\"subtype\":\"Figure\",\"type\":\"Plot\"},{\"attributes\":{\"plot\":{\"id\":\"b4c7b38c-91e3-48f1-8f7a-6f39510a0ab9\",\"subtype\":\"Figure\",\"type\":\"Plot\"},\"ticker\":{\"id\":\"9d1916e1-bcb9-4a07-a76e-4c5867527c40\",\"type\":\"BasicTicker\"}},\"id\":\"4284177d-9aab-407b-a341-5131b4cbb9a1\",\"type\":\"Grid\"},{\"attributes\":{\"children\":[{\"id\":\"dad6b2c1-b1c9-4af6-9fa9-a15e74e84037\",\"type\":\"WidgetBox\"},{\"id\":\"344bec51-3c50-4247-8c16-082d11e50169\",\"type\":\"Column\"}]},\"id\":\"6522ed87-4715-4547-b501-8afd40b26d75\",\"type\":\"Column\"},{\"attributes\":{\"overlay\":{\"id\":\"06017e17-a515-4846-bec5-83dfedd3f562\",\"type\":\"BoxAnnotation\"}},\"id\":\"38b79eb2-ce82-49e5-af43-740b33c02eec\",\"type\":\"BoxZoomTool\"},{\"attributes\":{},\"id\":\"e1614255-f925-4af7-98a2-5b492f6e68bb\",\"type\":\"LinearScale\"},{\"attributes\":{},\"id\":\"b914690b-5831-4483-9ca6-89d934ec1220\",\"type\":\"SaveTool\"},{\"attributes\":{\"bottom_units\":\"screen\",\"fill_alpha\":{\"value\":0.5},\"fill_color\":{\"value\":\"lightgrey\"},\"left_units\":\"screen\",\"level\":\"overlay\",\"line_alpha\":{\"value\":1.0},\"line_color\":{\"value\":\"black\"},\"line_dash\":[4,4],\"line_width\":{\"value\":2},\"plot\":null,\"render_mode\":\"css\",\"right_units\":\"screen\",\"top_units\":\"screen\"},\"id\":\"06017e17-a515-4846-bec5-83dfedd3f562\",\"type\":\"BoxAnnotation\"},{\"attributes\":{\"formatter\":{\"id\":\"acd109eb-ac5f-41f9-90b1-a63554375b39\",\"type\":\"BasicTickFormatter\"},\"plot\":{\"id\":\"2e93ea6c-a5f3-4f61-8246-7e8fdd545bb9\",\"subtype\":\"Figure\",\"type\":\"Plot\"},\"ticker\":{\"id\":\"21590463-4263-4c11-b69c-c35c97382561\",\"type\":\"BasicTicker\"}},\"id\":\"1847b602-f8ac-41df-b675-95f56358ea02\",\"type\":\"LinearAxis\"},{\"attributes\":{\"dimension\":1,\"plot\":{\"id\":\"b4c7b38c-91e3-48f1-8f7a-6f39510a0ab9\",\"subtype\":\"Figure\",\"type\":\"Plot\"},\"ticker\":{\"id\":\"f00d6b70-663e-4a30-a94f-32dc52ab8283\",\"type\":\"BasicTicker\"}},\"id\":\"8bb64336-646e-4b69-9a95-1386b8e46d19\",\"type\":\"Grid\"},{\"attributes\":{\"source\":{\"id\":\"ea40ecb6-796b-40f0-a008-91e42f3539ee\",\"type\":\"ColumnDataSource\"}},\"id\":\"e4d18526-8ddf-4cca-a7f4-8fd5880d35bd\",\"type\":\"CDSView\"},{\"attributes\":{\"bottom_units\":\"screen\",\"fill_alpha\":{\"value\":0.5},\"fill_color\":{\"value\":\"lightgrey\"},\"left_units\":\"screen\",\"level\":\"overlay\",\"line_alpha\":{\"value\":1.0},\"line_color\":{\"value\":\"black\"},\"line_dash\":[4,4],\"line_width\":{\"value\":2},\"plot\":null,\"render_mode\":\"css\",\"right_units\":\"screen\",\"top_units\":\"screen\"},\"id\":\"23b832c9-aef1-471c-ab76-f04ce452cad1\",\"type\":\"BoxAnnotation\"},{\"attributes\":{},\"id\":\"d78edc9b-bddc-441f-a91a-075a5f01bfe4\",\"type\":\"BasicTickFormatter\"},{\"attributes\":{\"children\":[{\"id\":\"33873ce6-fbbf-447c-8e85-255220c072d7\",\"type\":\"ToolbarBox\"},{\"id\":\"9f0f08ae-166d-4dfe-b5e8-20edf061b8d5\",\"type\":\"Column\"}]},\"id\":\"344bec51-3c50-4247-8c16-082d11e50169\",\"type\":\"Column\"},{\"attributes\":{\"label\":{\"field\":\"city\"},\"renderers\":[{\"id\":\"a4d79a72-08bb-47f0-bef6-ebf663b4a711\",\"type\":\"GlyphRenderer\"}]},\"id\":\"2cdedf25-8049-4c96-a87d-2e126fdb7394\",\"type\":\"LegendItem\"},{\"attributes\":{},\"id\":\"21590463-4263-4c11-b69c-c35c97382561\",\"type\":\"BasicTicker\"},{\"attributes\":{\"children\":[{\"id\":\"d41ea2f2-d117-409d-9cf5-aa2a458dbd77\",\"type\":\"Row\"},{\"id\":\"c7d9ecea-d823-4f40-a4e5-e4702205632b\",\"type\":\"Row\"}]},\"id\":\"9f0f08ae-166d-4dfe-b5e8-20edf061b8d5\",\"type\":\"Column\"},{\"attributes\":{},\"id\":\"78109dd2-5469-4088-8b6e-5fca41bc2bcb\",\"type\":\"PanTool\"},{\"attributes\":{\"line_alpha\":0.1,\"line_color\":\"#1f77b4\",\"line_width\":2,\"x\":{\"field\":\"Date\"},\"y\":{\"field\":\"Mean.TemperatureF\"}},\"id\":\"51c907aa-e928-4ded-a0b3-b8a109a9f40f\",\"type\":\"Line\"},{\"attributes\":{\"callback\":null},\"id\":\"3b6ab508-3516-46d9-8b64-f352f0e1f6d2\",\"type\":\"DataRange1d\"},{\"attributes\":{},\"id\":\"ff1534ec-3cb1-4e76-8310-d1115e29453e\",\"type\":\"LinearScale\"},{\"attributes\":{\"plot\":{\"id\":\"2e93ea6c-a5f3-4f61-8246-7e8fdd545bb9\",\"subtype\":\"Figure\",\"type\":\"Plot\"},\"ticker\":{\"id\":\"21590463-4263-4c11-b69c-c35c97382561\",\"type\":\"BasicTicker\"}},\"id\":\"0fbec6d6-3fd0-481b-a360-1ab37689cbee\",\"type\":\"Grid\"},{\"attributes\":{},\"id\":\"ca3e8c55-aa4c-45df-ac0a-9b293ebef96c\",\"type\":\"LinearScale\"},{\"attributes\":{},\"id\":\"b5834bf8-c083-480e-b4f3-68277e36a675\",\"type\":\"WheelZoomTool\"},{\"attributes\":{\"callback\":null},\"id\":\"65e69386-36fb-4ea2-bacc-e80739d88c76\",\"type\":\"DataRange1d\"},{\"attributes\":{\"data_source\":{\"id\":\"5e2fcf97-88eb-46c5-9b13-f17ab01f629b\",\"type\":\"ColumnDataSource\"},\"glyph\":{\"id\":\"c2928a8a-404e-4daa-a401-80d62fe25097\",\"type\":\"Line\"},\"hover_glyph\":null,\"muted_glyph\":null,\"nonselection_glyph\":{\"id\":\"153ff678-87c8-4042-b2f8-7bc3111076bc\",\"type\":\"Line\"},\"selection_glyph\":null,\"view\":{\"id\":\"fccabc09-ceba-4446-af61-c8b5308b7766\",\"type\":\"CDSView\"}},\"id\":\"1e0212fd-53ff-4296-9de3-502d34ae2a2d\",\"type\":\"GlyphRenderer\"},{\"attributes\":{\"text\":\"<h3>Figure 2.2</h3>Daily temperature normals for Houston\"},\"id\":\"31d3d408-119e-48e3-9ddb-3e573a5f058c\",\"type\":\"Div\"},{\"attributes\":{},\"id\":\"6a54bf7d-1630-4dca-8b81-3435b19a7eef\",\"type\":\"PanTool\"},{\"attributes\":{},\"id\":\"d64262aa-386f-456f-8fea-0e6ca18d3bfb\",\"type\":\"ResetTool\"},{\"attributes\":{\"overlay\":{\"id\":\"23b832c9-aef1-471c-ab76-f04ce452cad1\",\"type\":\"BoxAnnotation\"}},\"id\":\"b8bb6fa4-9348-49ca-8c97-7bfee0e53b53\",\"type\":\"BoxZoomTool\"},{\"attributes\":{},\"id\":\"acd109eb-ac5f-41f9-90b1-a63554375b39\",\"type\":\"BasicTickFormatter\"},{\"attributes\":{\"line_color\":\"blue\",\"line_width\":2,\"x\":{\"field\":\"Date\"},\"y\":{\"field\":\"Mean.TemperatureF\"}},\"id\":\"9721b935-c218-45db-aed6-c7314e9a0729\",\"type\":\"Line\"},{\"attributes\":{\"tools\":[{\"id\":\"6a54bf7d-1630-4dca-8b81-3435b19a7eef\",\"type\":\"PanTool\"},{\"id\":\"65e85ad5-2028-459c-b925-a2943c0b1418\",\"type\":\"WheelZoomTool\"},{\"id\":\"d09b597e-1521-4eea-9e90-475f649ddeca\",\"type\":\"BoxZoomTool\"},{\"id\":\"b914690b-5831-4483-9ca6-89d934ec1220\",\"type\":\"SaveTool\"},{\"id\":\"5cfccb04-c822-45fe-8dce-210bfeb80fd2\",\"type\":\"ResetTool\"},{\"id\":\"a862f9d4-8be6-42ed-a5df-d88e80f29bbf\",\"type\":\"HelpTool\"},{\"id\":\"5614bb9e-aece-42a5-b416-1ffa4125de69\",\"type\":\"PanTool\"},{\"id\":\"3252a91e-4125-4e21-b4d8-95b8ed6c5dd6\",\"type\":\"WheelZoomTool\"},{\"id\":\"38b79eb2-ce82-49e5-af43-740b33c02eec\",\"type\":\"BoxZoomTool\"},{\"id\":\"cc981847-a78d-4072-89be-49e8045c2635\",\"type\":\"SaveTool\"},{\"id\":\"d64262aa-386f-456f-8fea-0e6ca18d3bfb\",\"type\":\"ResetTool\"},{\"id\":\"237ad5eb-c6fe-4595-ba35-218ce491b202\",\"type\":\"HelpTool\"},{\"id\":\"78109dd2-5469-4088-8b6e-5fca41bc2bcb\",\"type\":\"PanTool\"},{\"id\":\"b5834bf8-c083-480e-b4f3-68277e36a675\",\"type\":\"WheelZoomTool\"},{\"id\":\"b8bb6fa4-9348-49ca-8c97-7bfee0e53b53\",\"type\":\"BoxZoomTool\"},{\"id\":\"848f8c48-70c9-468c-ba2e-973e02c3b2fe\",\"type\":\"SaveTool\"},{\"id\":\"3e775b8c-a0d7-433d-8afa-9c2238945361\",\"type\":\"ResetTool\"},{\"id\":\"0dc8d060-1adc-42d9-9761-69291c31ad13\",\"type\":\"HelpTool\"}]},\"id\":\"8e5c5710-683b-43be-a394-69376989c8fb\",\"type\":\"ProxyToolbar\"},{\"attributes\":{\"plot\":{\"id\":\"bcd96daa-e696-4f88-9e49-57dc1673278a\",\"subtype\":\"Figure\",\"type\":\"Plot\"},\"ticker\":{\"id\":\"aa3969fb-7569-40d3-811a-5c60d173d532\",\"type\":\"BasicTicker\"}},\"id\":\"288b65b2-26ee-483f-8812-1c74abc84333\",\"type\":\"Grid\"},{\"attributes\":{},\"id\":\"237ad5eb-c6fe-4595-ba35-218ce491b202\",\"type\":\"HelpTool\"},{\"attributes\":{},\"id\":\"3e775b8c-a0d7-433d-8afa-9c2238945361\",\"type\":\"ResetTool\"},{\"attributes\":{},\"id\":\"285c5745-e24e-4e00-a8e5-0e86e31b0a38\",\"type\":\"BasicTickFormatter\"},{\"attributes\":{},\"id\":\"cc981847-a78d-4072-89be-49e8045c2635\",\"type\":\"SaveTool\"},{\"attributes\":{},\"id\":\"848f8c48-70c9-468c-ba2e-973e02c3b2fe\",\"type\":\"SaveTool\"},{\"attributes\":{\"line_color\":\"blue\",\"line_width\":2,\"x\":{\"field\":\"Date\"},\"y\":{\"field\":\"Mean.TemperatureF\"}},\"id\":\"c2928a8a-404e-4daa-a401-80d62fe25097\",\"type\":\"Line\"},{\"attributes\":{},\"id\":\"aa3969fb-7569-40d3-811a-5c60d173d532\",\"type\":\"BasicTicker\"},{\"attributes\":{\"line_alpha\":0.1,\"line_color\":\"#1f77b4\",\"line_width\":2,\"x\":{\"field\":\"Date\"},\"y\":{\"field\":\"Mean.TemperatureF\"}},\"id\":\"54ca2f05-652a-4146-ba06-310f4ba34624\",\"type\":\"Line\"},{\"attributes\":{},\"id\":\"0dc8d060-1adc-42d9-9761-69291c31ad13\",\"type\":\"HelpTool\"},{\"attributes\":{\"formatter\":{\"id\":\"bac157c6-ac59-49fe-9775-53f15eebdd39\",\"type\":\"BasicTickFormatter\"},\"plot\":{\"id\":\"bcd96daa-e696-4f88-9e49-57dc1673278a\",\"subtype\":\"Figure\",\"type\":\"Plot\"},\"ticker\":{\"id\":\"aa3969fb-7569-40d3-811a-5c60d173d532\",\"type\":\"BasicTicker\"}},\"id\":\"ab45d2f0-8b06-4374-b07f-c817e9944974\",\"type\":\"LinearAxis\"},{\"attributes\":{\"plot\":null,\"text\":\"a\"},\"id\":\"80a9beb3-9b81-4e37-9995-d1005cfa8ab7\",\"type\":\"Title\"},{\"attributes\":{},\"id\":\"bac157c6-ac59-49fe-9775-53f15eebdd39\",\"type\":\"BasicTickFormatter\"},{\"attributes\":{\"label\":{\"field\":\"city\"},\"renderers\":[{\"id\":\"1e0212fd-53ff-4296-9de3-502d34ae2a2d\",\"type\":\"GlyphRenderer\"}]},\"id\":\"fa9304f4-4957-4ef8-b12a-b03f1e09f179\",\"type\":\"LegendItem\"},{\"attributes\":{},\"id\":\"9aea400b-37e7-4fdd-9e44-caccd7ac051c\",\"type\":\"BasicTickFormatter\"},{\"attributes\":{\"label\":{\"field\":\"city\"},\"renderers\":[{\"id\":\"d0739136-d8a7-47f3-ad68-9ccc40ba44cb\",\"type\":\"GlyphRenderer\"}]},\"id\":\"27b77e8a-5926-4c0c-a1eb-330ec1329bf8\",\"type\":\"LegendItem\"},{\"attributes\":{\"children\":[{\"id\":\"2e93ea6c-a5f3-4f61-8246-7e8fdd545bb9\",\"subtype\":\"Figure\",\"type\":\"Plot\"}]},\"id\":\"c7d9ecea-d823-4f40-a4e5-e4702205632b\",\"type\":\"Row\"},{\"attributes\":{\"active_drag\":\"auto\",\"active_inspect\":\"auto\",\"active_scroll\":\"auto\",\"active_tap\":\"auto\",\"tools\":[{\"id\":\"6a54bf7d-1630-4dca-8b81-3435b19a7eef\",\"type\":\"PanTool\"},{\"id\":\"65e85ad5-2028-459c-b925-a2943c0b1418\",\"type\":\"WheelZoomTool\"},{\"id\":\"d09b597e-1521-4eea-9e90-475f649ddeca\",\"type\":\"BoxZoomTool\"},{\"id\":\"b914690b-5831-4483-9ca6-89d934ec1220\",\"type\":\"SaveTool\"},{\"id\":\"5cfccb04-c822-45fe-8dce-210bfeb80fd2\",\"type\":\"ResetTool\"},{\"id\":\"a862f9d4-8be6-42ed-a5df-d88e80f29bbf\",\"type\":\"HelpTool\"}]},\"id\":\"cf9e4fa5-89b0-4f86-8971-38bc62f9a25f\",\"type\":\"Toolbar\"},{\"attributes\":{\"callback\":null},\"id\":\"e84d4f61-4d91-41c8-b9cf-94bfac1d63f5\",\"type\":\"DataRange1d\"},{\"attributes\":{},\"id\":\"b749c1f2-aa8b-4f80-abb1-f5a2bab776a6\",\"type\":\"BasicTicker\"},{\"attributes\":{},\"id\":\"a862f9d4-8be6-42ed-a5df-d88e80f29bbf\",\"type\":\"HelpTool\"},{\"attributes\":{},\"id\":\"a60b8a29-50bc-4075-be68-1a9696b5ba7b\",\"type\":\"LinearScale\"},{\"attributes\":{\"callback\":null,\"column_names\":[\"city\",\"Date\",\"Mean.TemperatureF\",\"index\"],\"data\":{\"Date\":[1,2,3,4,5,6,7,8,9,10,11,12],\"Mean.TemperatureF\":{\"__ndarray__\":\"hBBCCCEESUDbtm3btm1KQFtrrbXWWk9A7+7u7u4uUkCMMcYYY0xTQLy7u7u7m1RAU0oppZSSVUCVUkoppVRVQM3MzMzMDFRAIYQQQghhUkAzMzMzM7NPQFtrrbXW2k1A\",\"dtype\":\"float64\",\"shape\":[12]},\"city\":[\"Houston (TX)\",\"Houston (TX)\",\"Houston (TX)\",\"Houston (TX)\",\"Houston (TX)\",\"Houston (TX)\",\"Houston (TX)\",\"Houston (TX)\",\"Houston (TX)\",\"Houston (TX)\",\"Houston (TX)\",\"Houston (TX)\"],\"index\":[0,1,2,3,4,5,6,7,8,9,10,11]},\"selected\":null,\"selection_policy\":null},\"id\":\"df16b574-a6c7-4348-86db-40bf165e7873\",\"type\":\"ColumnDataSource\"},{\"attributes\":{\"callback\":null,\"column_names\":[\"city\",\"Date\",\"Mean.TemperatureF\",\"index\"],\"data\":{\"Date\":[1,2,3,4,5,6,7,8,9,10,11,12],\"Mean.TemperatureF\":{\"__ndarray__\":\"hBBCCCEESUDbtm3btm1KQFtrrbXWWk9A7+7u7u4uUkCMMcYYY0xTQLy7u7u7m1RAU0oppZSSVUCVUkoppVRVQM3MzMzMDFRAIYQQQghhUkAzMzMzM7NPQFtrrbXW2k1A\",\"dtype\":\"float64\",\"shape\":[12]},\"city\":[\"Houston (TX)\",\"Houston (TX)\",\"Houston (TX)\",\"Houston (TX)\",\"Houston (TX)\",\"Houston (TX)\",\"Houston (TX)\",\"Houston (TX)\",\"Houston (TX)\",\"Houston (TX)\",\"Houston (TX)\",\"Houston (TX)\"],\"index\":[0,1,2,3,4,5,6,7,8,9,10,11]},\"selected\":null,\"selection_policy\":null},\"id\":\"5e2fcf97-88eb-46c5-9b13-f17ab01f629b\",\"type\":\"ColumnDataSource\"},{\"attributes\":{\"line_color\":\"blue\",\"line_width\":2,\"x\":{\"field\":\"Date\"},\"y\":{\"field\":\"Mean.TemperatureF\"}},\"id\":\"46172b14-7bb4-4df7-b572-c0578e6db112\",\"type\":\"Line\"},{\"attributes\":{\"bottom_units\":\"screen\",\"fill_alpha\":{\"value\":0.5},\"fill_color\":{\"value\":\"lightgrey\"},\"left_units\":\"screen\",\"level\":\"overlay\",\"line_alpha\":{\"value\":1.0},\"line_color\":{\"value\":\"black\"},\"line_dash\":[4,4],\"line_width\":{\"value\":2},\"plot\":null,\"render_mode\":\"css\",\"right_units\":\"screen\",\"top_units\":\"screen\"},\"id\":\"70414104-77c3-456d-b765-d20639b8c829\",\"type\":\"BoxAnnotation\"},{\"attributes\":{\"below\":[{\"id\":\"3e9335fd-67c2-4147-9429-b46617ae967a\",\"type\":\"LinearAxis\"}],\"left\":[{\"id\":\"827c8ec5-2ce7-4872-9be8-74f6b3973a46\",\"type\":\"LinearAxis\"}],\"plot_height\":200,\"plot_width\":400,\"renderers\":[{\"id\":\"3e9335fd-67c2-4147-9429-b46617ae967a\",\"type\":\"LinearAxis\"},{\"id\":\"4284177d-9aab-407b-a341-5131b4cbb9a1\",\"type\":\"Grid\"},{\"id\":\"827c8ec5-2ce7-4872-9be8-74f6b3973a46\",\"type\":\"LinearAxis\"},{\"id\":\"8bb64336-646e-4b69-9a95-1386b8e46d19\",\"type\":\"Grid\"},{\"id\":\"06017e17-a515-4846-bec5-83dfedd3f562\",\"type\":\"BoxAnnotation\"},{\"id\":\"2d668e81-54c6-4283-84bc-c7617b531faf\",\"type\":\"Legend\"},{\"id\":\"1e0212fd-53ff-4296-9de3-502d34ae2a2d\",\"type\":\"GlyphRenderer\"}],\"title\":{\"id\":\"6a3fbb4c-d643-4561-bdde-a74c7feec5a1\",\"type\":\"Title\"},\"toolbar\":{\"id\":\"755bd2fd-30ee-4027-aace-d426b8631aa9\",\"type\":\"Toolbar\"},\"toolbar_location\":null,\"x_range\":{\"id\":\"12b4a770-39cb-4dcd-82e4-0997afd9a3d0\",\"type\":\"DataRange1d\"},\"x_scale\":{\"id\":\"ff1534ec-3cb1-4e76-8310-d1115e29453e\",\"type\":\"LinearScale\"},\"y_range\":{\"id\":\"65e69386-36fb-4ea2-bacc-e80739d88c76\",\"type\":\"DataRange1d\"},\"y_scale\":{\"id\":\"ca3e8c55-aa4c-45df-ac0a-9b293ebef96c\",\"type\":\"LinearScale\"}},\"id\":\"b4c7b38c-91e3-48f1-8f7a-6f39510a0ab9\",\"subtype\":\"Figure\",\"type\":\"Plot\"},{\"attributes\":{\"dimension\":1,\"plot\":{\"id\":\"2e93ea6c-a5f3-4f61-8246-7e8fdd545bb9\",\"subtype\":\"Figure\",\"type\":\"Plot\"},\"ticker\":{\"id\":\"3f83b3cb-22aa-4bc7-8e2c-ead88a22ee0c\",\"type\":\"BasicTicker\"}},\"id\":\"39fcddb2-b2ba-4a01-8378-e2ccce838508\",\"type\":\"Grid\"},{\"attributes\":{\"children\":[{\"id\":\"bcd96daa-e696-4f88-9e49-57dc1673278a\",\"subtype\":\"Figure\",\"type\":\"Plot\"},{\"id\":\"b4c7b38c-91e3-48f1-8f7a-6f39510a0ab9\",\"subtype\":\"Figure\",\"type\":\"Plot\"}]},\"id\":\"d41ea2f2-d117-409d-9cf5-aa2a458dbd77\",\"type\":\"Row\"},{\"attributes\":{\"data_source\":{\"id\":\"df16b574-a6c7-4348-86db-40bf165e7873\",\"type\":\"ColumnDataSource\"},\"glyph\":{\"id\":\"46172b14-7bb4-4df7-b572-c0578e6db112\",\"type\":\"Line\"},\"hover_glyph\":null,\"muted_glyph\":null,\"nonselection_glyph\":{\"id\":\"51c907aa-e928-4ded-a0b3-b8a109a9f40f\",\"type\":\"Line\"},\"selection_glyph\":null,\"view\":{\"id\":\"dbc658c8-04fb-49ff-9aa7-465f70169116\",\"type\":\"CDSView\"}},\"id\":\"a4d79a72-08bb-47f0-bef6-ebf663b4a711\",\"type\":\"GlyphRenderer\"},{\"attributes\":{\"below\":[{\"id\":\"ab45d2f0-8b06-4374-b07f-c817e9944974\",\"type\":\"LinearAxis\"}],\"left\":[{\"id\":\"a9ed071a-6dd5-44fc-b9b2-bf06b0a65a61\",\"type\":\"LinearAxis\"}],\"plot_height\":200,\"plot_width\":200,\"renderers\":[{\"id\":\"ab45d2f0-8b06-4374-b07f-c817e9944974\",\"type\":\"LinearAxis\"},{\"id\":\"288b65b2-26ee-483f-8812-1c74abc84333\",\"type\":\"Grid\"},{\"id\":\"a9ed071a-6dd5-44fc-b9b2-bf06b0a65a61\",\"type\":\"LinearAxis\"},{\"id\":\"cc9aa899-97d9-466c-9fcb-4fa34fbd476d\",\"type\":\"Grid\"},{\"id\":\"70414104-77c3-456d-b765-d20639b8c829\",\"type\":\"BoxAnnotation\"},{\"id\":\"1f320867-e47b-48d6-aa76-6c34c43548c0\",\"type\":\"Legend\"},{\"id\":\"a4d79a72-08bb-47f0-bef6-ebf663b4a711\",\"type\":\"GlyphRenderer\"}],\"title\":{\"id\":\"80a9beb3-9b81-4e37-9995-d1005cfa8ab7\",\"type\":\"Title\"},\"toolbar\":{\"id\":\"cf9e4fa5-89b0-4f86-8971-38bc62f9a25f\",\"type\":\"Toolbar\"},\"toolbar_location\":null,\"x_range\":{\"id\":\"3b6ab508-3516-46d9-8b64-f352f0e1f6d2\",\"type\":\"DataRange1d\"},\"x_scale\":{\"id\":\"a60b8a29-50bc-4075-be68-1a9696b5ba7b\",\"type\":\"LinearScale\"},\"y_range\":{\"id\":\"e84d4f61-4d91-41c8-b9cf-94bfac1d63f5\",\"type\":\"DataRange1d\"},\"y_scale\":{\"id\":\"1352d1db-6cf8-40d9-9076-839ff4a0ee8b\",\"type\":\"LinearScale\"}},\"id\":\"bcd96daa-e696-4f88-9e49-57dc1673278a\",\"subtype\":\"Figure\",\"type\":\"Plot\"},{\"attributes\":{\"overlay\":{\"id\":\"70414104-77c3-456d-b765-d20639b8c829\",\"type\":\"BoxAnnotation\"}},\"id\":\"d09b597e-1521-4eea-9e90-475f649ddeca\",\"type\":\"BoxZoomTool\"},{\"attributes\":{},\"id\":\"5cfccb04-c822-45fe-8dce-210bfeb80fd2\",\"type\":\"ResetTool\"},{\"attributes\":{\"children\":[{\"id\":\"31d3d408-119e-48e3-9ddb-3e573a5f058c\",\"type\":\"Div\"}]},\"id\":\"dad6b2c1-b1c9-4af6-9fa9-a15e74e84037\",\"type\":\"WidgetBox\"},{\"attributes\":{\"formatter\":{\"id\":\"285c5745-e24e-4e00-a8e5-0e86e31b0a38\",\"type\":\"BasicTickFormatter\"},\"plot\":{\"id\":\"bcd96daa-e696-4f88-9e49-57dc1673278a\",\"subtype\":\"Figure\",\"type\":\"Plot\"},\"ticker\":{\"id\":\"b749c1f2-aa8b-4f80-abb1-f5a2bab776a6\",\"type\":\"BasicTicker\"}},\"id\":\"a9ed071a-6dd5-44fc-b9b2-bf06b0a65a61\",\"type\":\"LinearAxis\"}],\"root_ids\":[\"6522ed87-4715-4547-b501-8afd40b26d75\"]},\"title\":\"Bokeh Application\",\"version\":\"0.12.15\"}};\n",
       "  var render_items = [{\"docid\":\"b322cf66-95d7-488d-8b04-32aee2f7c6aa\",\"elementid\":\"6dd142c3-c3b8-4329-85cf-b9ed8452f867\",\"modelid\":\"6522ed87-4715-4547-b501-8afd40b26d75\"}];\n",
       "  root.Bokeh.embed.embed_items_notebook(docs_json, render_items);\n",
       "\n",
       "  }\n",
       "  if (root.Bokeh !== undefined) {\n",
       "    embed_document(root);\n",
       "  } else {\n",
       "    var attempts = 0;\n",
       "    var timer = setInterval(function(root) {\n",
       "      if (root.Bokeh !== undefined) {\n",
       "        embed_document(root);\n",
       "        clearInterval(timer);\n",
       "      }\n",
       "      attempts++;\n",
       "      if (attempts > 100) {\n",
       "        console.log(\"Bokeh: ERROR: Unable to run BokehJS code because BokehJS library is missing\")\n",
       "        clearInterval(timer);\n",
       "      }\n",
       "    }, 10, root)\n",
       "  }\n",
       "})(window);"
      ],
      "application/vnd.bokehjs_exec.v0+json": ""
     },
     "metadata": {
      "application/vnd.bokehjs_exec.v0+json": {
       "id": "6522ed87-4715-4547-b501-8afd40b26d75"
      }
     },
     "output_type": "display_data"
    }
   ],
   "source": [
    "show(column(Div(text=\"<h3>Figure 2.2</h3>Daily temperature normals for Houston\"), fig22))"
   ]
  },
  {
   "cell_type": "code",
   "execution_count": null,
   "metadata": {},
   "outputs": [],
   "source": []
  },
  {
   "cell_type": "code",
   "execution_count": null,
   "metadata": {},
   "outputs": [],
   "source": []
  },
  {
   "cell_type": "code",
   "execution_count": 16,
   "metadata": {},
   "outputs": [],
   "source": [
    "houston = pd.read_csv(path/\"houston.csv\")\n",
    "houston = houston.loc[:, [\"Date\", \"city\", \"Mean.TemperatureF\"]]"
   ]
  },
  {
   "cell_type": "code",
   "execution_count": 17,
   "metadata": {},
   "outputs": [],
   "source": [
    "houston = houston[houston.Date.str[:4] == \"2015\"]"
   ]
  },
  {
   "cell_type": "code",
   "execution_count": 18,
   "metadata": {},
   "outputs": [],
   "source": [
    "cleveland = pd.read_csv(path/\"cleveland.csv\")\n",
    "cleveland = cleveland.loc[:, [\"Date\", \"city\", \"Mean.TemperatureF\"]]"
   ]
  },
  {
   "cell_type": "code",
   "execution_count": 19,
   "metadata": {},
   "outputs": [],
   "source": [
    "cleveland = cleveland[cleveland.Date.str[:4] == \"2015\"]"
   ]
  },
  {
   "cell_type": "code",
   "execution_count": 20,
   "metadata": {},
   "outputs": [],
   "source": [
    "base = pd.merge(cleveland, houston, on=\"Date\")"
   ]
  },
  {
   "cell_type": "code",
   "execution_count": 21,
   "metadata": {},
   "outputs": [
    {
     "data": {
      "text/html": [
       "<div>\n",
       "<style scoped>\n",
       "    .dataframe tbody tr th:only-of-type {\n",
       "        vertical-align: middle;\n",
       "    }\n",
       "\n",
       "    .dataframe tbody tr th {\n",
       "        vertical-align: top;\n",
       "    }\n",
       "\n",
       "    .dataframe thead th {\n",
       "        text-align: right;\n",
       "    }\n",
       "</style>\n",
       "<table border=\"1\" class=\"dataframe\">\n",
       "  <thead>\n",
       "    <tr style=\"text-align: right;\">\n",
       "      <th></th>\n",
       "      <th>Date</th>\n",
       "      <th>city_x</th>\n",
       "      <th>Mean.TemperatureF_x</th>\n",
       "      <th>city_y</th>\n",
       "      <th>Mean.TemperatureF_y</th>\n",
       "    </tr>\n",
       "  </thead>\n",
       "  <tbody>\n",
       "    <tr>\n",
       "      <th>0</th>\n",
       "      <td>2015-01-01</td>\n",
       "      <td>Cleveland (OH)</td>\n",
       "      <td>26.0</td>\n",
       "      <td>Houston (TX)</td>\n",
       "      <td>44.0</td>\n",
       "    </tr>\n",
       "    <tr>\n",
       "      <th>1</th>\n",
       "      <td>2015-01-02</td>\n",
       "      <td>Cleveland (OH)</td>\n",
       "      <td>31.0</td>\n",
       "      <td>Houston (TX)</td>\n",
       "      <td>51.0</td>\n",
       "    </tr>\n",
       "    <tr>\n",
       "      <th>2</th>\n",
       "      <td>2015-01-03</td>\n",
       "      <td>Cleveland (OH)</td>\n",
       "      <td>40.0</td>\n",
       "      <td>Houston (TX)</td>\n",
       "      <td>47.0</td>\n",
       "    </tr>\n",
       "    <tr>\n",
       "      <th>3</th>\n",
       "      <td>2015-01-04</td>\n",
       "      <td>Cleveland (OH)</td>\n",
       "      <td>41.0</td>\n",
       "      <td>Houston (TX)</td>\n",
       "      <td>46.0</td>\n",
       "    </tr>\n",
       "    <tr>\n",
       "      <th>4</th>\n",
       "      <td>2015-01-05</td>\n",
       "      <td>Cleveland (OH)</td>\n",
       "      <td>17.0</td>\n",
       "      <td>Houston (TX)</td>\n",
       "      <td>43.0</td>\n",
       "    </tr>\n",
       "  </tbody>\n",
       "</table>\n",
       "</div>"
      ],
      "text/plain": [
       "         Date          city_x  Mean.TemperatureF_x        city_y  \\\n",
       "0  2015-01-01  Cleveland (OH)                 26.0  Houston (TX)   \n",
       "1  2015-01-02  Cleveland (OH)                 31.0  Houston (TX)   \n",
       "2  2015-01-03  Cleveland (OH)                 40.0  Houston (TX)   \n",
       "3  2015-01-04  Cleveland (OH)                 41.0  Houston (TX)   \n",
       "4  2015-01-05  Cleveland (OH)                 17.0  Houston (TX)   \n",
       "\n",
       "   Mean.TemperatureF_y  \n",
       "0                 44.0  \n",
       "1                 51.0  \n",
       "2                 47.0  \n",
       "3                 46.0  \n",
       "4                 43.0  "
      ]
     },
     "execution_count": 21,
     "metadata": {},
     "output_type": "execute_result"
    }
   ],
   "source": [
    "base.head()"
   ]
  },
  {
   "cell_type": "code",
   "execution_count": 22,
   "metadata": {},
   "outputs": [
    {
     "data": {
      "text/plain": [
       "0    01\n",
       "1    02\n",
       "2    03\n",
       "3    04\n",
       "4    05\n",
       "Name: Date, dtype: object"
      ]
     },
     "execution_count": 22,
     "metadata": {},
     "output_type": "execute_result"
    }
   ],
   "source": [
    "base.head().Date.str[-2:]"
   ]
  },
  {
   "cell_type": "code",
   "execution_count": 23,
   "metadata": {},
   "outputs": [],
   "source": [
    "base = base[base.Date.str[-2:] == \"01\"]"
   ]
  },
  {
   "cell_type": "code",
   "execution_count": 24,
   "metadata": {},
   "outputs": [],
   "source": [
    "base.loc[:, \"Mean.TemperatureC_y\"] = (base.loc[:, \"Mean.TemperatureF_y\"] - 32) * 5/9\n",
    "base.loc[:, \"Mean.TemperatureC_x\"] = (base.loc[:, \"Mean.TemperatureF_x\"] - 32) * 5/9"
   ]
  },
  {
   "cell_type": "code",
   "execution_count": 25,
   "metadata": {},
   "outputs": [
    {
     "data": {
      "text/html": [
       "\n",
       "<div class=\"bk-root\">\n",
       "    <div class=\"bk-plotdiv\" id=\"dd0dfac7-8b8b-4f34-81f1-6170749d4004\"></div>\n",
       "</div>"
      ]
     },
     "metadata": {},
     "output_type": "display_data"
    },
    {
     "data": {
      "application/javascript": [
       "(function(root) {\n",
       "  function embed_document(root) {\n",
       "    \n",
       "  var docs_json = {\"d83e1a7d-2311-40a9-81c8-27ca6689d1e2\":{\"roots\":{\"references\":[{\"attributes\":{},\"id\":\"29508fb6-2183-4078-8df3-57b79c8bca18\",\"type\":\"BasicTicker\"},{\"attributes\":{\"dimension\":1,\"plot\":{\"id\":\"31bd7361-c5ec-40e2-ae3a-bc6782d17d26\",\"subtype\":\"Figure\",\"type\":\"Plot\"},\"ticker\":{\"id\":\"29508fb6-2183-4078-8df3-57b79c8bca18\",\"type\":\"BasicTicker\"}},\"id\":\"8269b87c-3a2d-4c21-9c13-11fca2a51006\",\"type\":\"Grid\"},{\"attributes\":{\"callback\":null,\"column_names\":[\"Date\",\"city_x\",\"Mean.TemperatureF_x\",\"city_y\",\"Mean.TemperatureF_y\",\"Mean.TemperatureC_y\",\"Mean.TemperatureC_x\",\"index\"],\"data\":{\"Date\":[\"2015-04-01\",\"2015-07-01\"],\"Mean.TemperatureC_x\":{\"__ndarray__\":\"q6qqqqqqGkDkOI7jOI40QA==\",\"dtype\":\"float64\",\"shape\":[2]},\"Mean.TemperatureC_y\":{\"__ndarray__\":\"VVVVVVVVN0Crqqqqqqo6QA==\",\"dtype\":\"float64\",\"shape\":[2]},\"Mean.TemperatureF_x\":{\"__ndarray__\":\"AAAAAAAARkAAAAAAAEBRQA==\",\"dtype\":\"float64\",\"shape\":[2]},\"Mean.TemperatureF_y\":{\"__ndarray__\":\"AAAAAACAUkAAAAAAAABUQA==\",\"dtype\":\"float64\",\"shape\":[2]},\"city_x\":[\"Cleveland (OH)\",\"Cleveland (OH)\"],\"city_y\":[\"Houston (TX)\",\"Houston (TX)\"],\"index\":[90,181]},\"selected\":null,\"selection_policy\":null},\"id\":\"f1d1f449-dc1a-4c8f-aa6e-94ffdc5f443c\",\"type\":\"ColumnDataSource\"},{\"attributes\":{},\"id\":\"71773f29-abb9-4f54-b5ce-12aae28df4e6\",\"type\":\"BasicTickFormatter\"},{\"attributes\":{\"level\":\"glyph\",\"plot\":{\"id\":\"31bd7361-c5ec-40e2-ae3a-bc6782d17d26\",\"subtype\":\"Figure\",\"type\":\"Plot\"},\"source\":{\"id\":\"f1d1f449-dc1a-4c8f-aa6e-94ffdc5f443c\",\"type\":\"ColumnDataSource\"},\"text\":{\"field\":\"Date\"},\"x\":{\"field\":\"Mean.TemperatureF_x\"},\"x_offset\":{\"value\":-5},\"y\":{\"field\":\"Mean.TemperatureF_y\"},\"y_offset\":{\"value\":-5}},\"id\":\"46dcbe07-11f2-417a-8fb7-d0866d0fa30f\",\"type\":\"LabelSet\"},{\"attributes\":{\"bottom_units\":\"screen\",\"fill_alpha\":{\"value\":0.5},\"fill_color\":{\"value\":\"lightgrey\"},\"left_units\":\"screen\",\"level\":\"overlay\",\"line_alpha\":{\"value\":1.0},\"line_color\":{\"value\":\"black\"},\"line_dash\":[4,4],\"line_width\":{\"value\":2},\"plot\":null,\"render_mode\":\"css\",\"right_units\":\"screen\",\"top_units\":\"screen\"},\"id\":\"4b64f48e-91a9-4bb8-9093-7a854ae84cf6\",\"type\":\"BoxAnnotation\"},{\"attributes\":{\"callback\":null},\"id\":\"ad9c8c48-47df-40ec-8618-91ac9ebbfc6b\",\"type\":\"DataRange1d\"},{\"attributes\":{},\"id\":\"30f89106-64c9-46f6-87a7-241a237d8801\",\"type\":\"PanTool\"},{\"attributes\":{\"callback\":null,\"column_names\":[\"Date\",\"city_x\",\"Mean.TemperatureF_x\",\"city_y\",\"Mean.TemperatureF_y\",\"Mean.TemperatureC_y\",\"Mean.TemperatureC_x\",\"index\"],\"data\":{\"Date\":[\"2015-01-01\",\"2015-02-01\",\"2015-03-01\",\"2015-04-01\",\"2015-05-01\",\"2015-06-01\",\"2015-07-01\",\"2015-08-01\",\"2015-09-01\",\"2015-10-01\",\"2015-11-01\",\"2015-12-01\"],\"Mean.TemperatureC_x\":{\"__ndarray__\":\"q6qqqqqqCsByHMdxHMfhv3Icx3EcxxHAq6qqqqqqGkBVVVVVVVUnQMdxHMdxHCVA5DiO4ziONECO4ziO4zg2QAAAAAAAADlAq6qqqqqqKkByHMdxHMcrQAAAAAAAACRA\",\"dtype\":\"float64\",\"shape\":[12]},\"Mean.TemperatureC_y\":{\"__ndarray__\":\"q6qqqqqqGkCO4ziO4zgxQBzHcRzHcShAVVVVVVVVN0Crqqqqqqo1QOQ4juM4jjlAq6qqqqqqOkAcx3Ecx3E9QAAAAAAAADlAx3Ecx3EcOkA5juM4juMyQBzHcRzHcShA\",\"dtype\":\"float64\",\"shape\":[12]},\"Mean.TemperatureF_x\":{\"__ndarray__\":\"AAAAAAAAOkAAAAAAAAA/QAAAAAAAADhAAAAAAAAARkAAAAAAAIBKQAAAAAAAgElAAAAAAABAUUAAAAAAAABSQAAAAAAAQFNAAAAAAAAATEAAAAAAAIBMQAAAAAAAAElA\",\"dtype\":\"float64\",\"shape\":[12]},\"Mean.TemperatureF_y\":{\"__ndarray__\":\"AAAAAAAARkAAAAAAAIBPQAAAAAAAAEtAAAAAAACAUkAAAAAAAMBRQAAAAAAAgFNAAAAAAAAAVEAAAAAAAEBVQAAAAAAAQFNAAAAAAADAU0AAAAAAAIBQQAAAAAAAAEtA\",\"dtype\":\"float64\",\"shape\":[12]},\"city_x\":[\"Cleveland (OH)\",\"Cleveland (OH)\",\"Cleveland (OH)\",\"Cleveland (OH)\",\"Cleveland (OH)\",\"Cleveland (OH)\",\"Cleveland (OH)\",\"Cleveland (OH)\",\"Cleveland (OH)\",\"Cleveland (OH)\",\"Cleveland (OH)\",\"Cleveland (OH)\"],\"city_y\":[\"Houston (TX)\",\"Houston (TX)\",\"Houston (TX)\",\"Houston (TX)\",\"Houston (TX)\",\"Houston (TX)\",\"Houston (TX)\",\"Houston (TX)\",\"Houston (TX)\",\"Houston (TX)\",\"Houston (TX)\",\"Houston (TX)\"],\"index\":[0,31,59,90,120,151,181,212,243,273,304,334]},\"selected\":null,\"selection_policy\":null},\"id\":\"c16a2185-fee7-4f1f-a062-2cb0c156ff21\",\"type\":\"ColumnDataSource\"},{\"attributes\":{\"source\":{\"id\":\"c16a2185-fee7-4f1f-a062-2cb0c156ff21\",\"type\":\"ColumnDataSource\"}},\"id\":\"6027b57a-5cc8-4399-8bbd-52e78548b73f\",\"type\":\"CDSView\"},{\"attributes\":{},\"id\":\"e2e0ef00-4a5d-4e26-9fb1-cad3361fb03c\",\"type\":\"WheelZoomTool\"},{\"attributes\":{\"active_drag\":\"auto\",\"active_inspect\":\"auto\",\"active_scroll\":\"auto\",\"active_tap\":\"auto\",\"tools\":[{\"id\":\"30f89106-64c9-46f6-87a7-241a237d8801\",\"type\":\"PanTool\"},{\"id\":\"e2e0ef00-4a5d-4e26-9fb1-cad3361fb03c\",\"type\":\"WheelZoomTool\"},{\"id\":\"f3dbbf5b-691a-4642-850c-f9c520eed2a1\",\"type\":\"BoxZoomTool\"},{\"id\":\"8fe5f769-22bf-42e0-9d09-c953b9286a18\",\"type\":\"SaveTool\"},{\"id\":\"cbdd8e44-5dff-4f39-b188-b68e4658911c\",\"type\":\"ResetTool\"},{\"id\":\"ec5aa5ff-0e22-4162-a024-f23abb14c7d7\",\"type\":\"HelpTool\"}]},\"id\":\"1878fde2-2a0d-4af8-b6df-ac24d291aad5\",\"type\":\"Toolbar\"},{\"attributes\":{},\"id\":\"07c8cc22-48fc-4cbf-9f6a-d623b0e8a005\",\"type\":\"LinearScale\"},{\"attributes\":{\"overlay\":{\"id\":\"4b64f48e-91a9-4bb8-9093-7a854ae84cf6\",\"type\":\"BoxAnnotation\"}},\"id\":\"f3dbbf5b-691a-4642-850c-f9c520eed2a1\",\"type\":\"BoxZoomTool\"},{\"attributes\":{\"below\":[{\"id\":\"d75f7d48-77cd-4868-990e-994a62609e21\",\"type\":\"LinearAxis\"}],\"left\":[{\"id\":\"9b463b29-fdd0-44ea-9ec4-64c3f17e4f0e\",\"type\":\"LinearAxis\"}],\"plot_height\":400,\"plot_width\":400,\"renderers\":[{\"id\":\"d75f7d48-77cd-4868-990e-994a62609e21\",\"type\":\"LinearAxis\"},{\"id\":\"c674c46a-1ea7-4c19-b4d4-fd5be769b244\",\"type\":\"Grid\"},{\"id\":\"9b463b29-fdd0-44ea-9ec4-64c3f17e4f0e\",\"type\":\"LinearAxis\"},{\"id\":\"8269b87c-3a2d-4c21-9c13-11fca2a51006\",\"type\":\"Grid\"},{\"id\":\"4b64f48e-91a9-4bb8-9093-7a854ae84cf6\",\"type\":\"BoxAnnotation\"},{\"id\":\"d3bc6c6e-a316-4f24-9ece-8ef3f1923438\",\"type\":\"GlyphRenderer\"},{\"id\":\"46dcbe07-11f2-417a-8fb7-d0866d0fa30f\",\"type\":\"LabelSet\"}],\"title\":{\"id\":\"19d9be12-6e2b-4882-8a49-7a9a6bd5aa05\",\"type\":\"Title\"},\"toolbar\":{\"id\":\"1878fde2-2a0d-4af8-b6df-ac24d291aad5\",\"type\":\"Toolbar\"},\"x_range\":{\"id\":\"ad9c8c48-47df-40ec-8618-91ac9ebbfc6b\",\"type\":\"DataRange1d\"},\"x_scale\":{\"id\":\"4d5b494c-a288-437b-a0b0-bd68d415c962\",\"type\":\"LinearScale\"},\"y_range\":{\"id\":\"9c77f74f-1634-4de7-8d80-e18139309f0a\",\"type\":\"DataRange1d\"},\"y_scale\":{\"id\":\"07c8cc22-48fc-4cbf-9f6a-d623b0e8a005\",\"type\":\"LinearScale\"}},\"id\":\"31bd7361-c5ec-40e2-ae3a-bc6782d17d26\",\"subtype\":\"Figure\",\"type\":\"Plot\"},{\"attributes\":{\"plot\":null,\"text\":\"a\"},\"id\":\"19d9be12-6e2b-4882-8a49-7a9a6bd5aa05\",\"type\":\"Title\"},{\"attributes\":{},\"id\":\"8fe5f769-22bf-42e0-9d09-c953b9286a18\",\"type\":\"SaveTool\"},{\"attributes\":{},\"id\":\"cbdd8e44-5dff-4f39-b188-b68e4658911c\",\"type\":\"ResetTool\"},{\"attributes\":{},\"id\":\"9fa2c740-2492-490f-b4fc-fa75921b3bb7\",\"type\":\"BasicTickFormatter\"},{\"attributes\":{},\"id\":\"ec5aa5ff-0e22-4162-a024-f23abb14c7d7\",\"type\":\"HelpTool\"},{\"attributes\":{\"data_source\":{\"id\":\"c16a2185-fee7-4f1f-a062-2cb0c156ff21\",\"type\":\"ColumnDataSource\"},\"glyph\":{\"id\":\"86390a1b-6254-4425-9e6b-311efaeb0dc2\",\"type\":\"Line\"},\"hover_glyph\":null,\"muted_glyph\":null,\"nonselection_glyph\":{\"id\":\"371998ad-3130-450f-b85a-85a88faaa695\",\"type\":\"Line\"},\"selection_glyph\":null,\"view\":{\"id\":\"6027b57a-5cc8-4399-8bbd-52e78548b73f\",\"type\":\"CDSView\"}},\"id\":\"d3bc6c6e-a316-4f24-9ece-8ef3f1923438\",\"type\":\"GlyphRenderer\"},{\"attributes\":{\"axis_label\":\"Temparature in Houston (F)\",\"formatter\":{\"id\":\"9fa2c740-2492-490f-b4fc-fa75921b3bb7\",\"type\":\"BasicTickFormatter\"},\"plot\":{\"id\":\"31bd7361-c5ec-40e2-ae3a-bc6782d17d26\",\"subtype\":\"Figure\",\"type\":\"Plot\"},\"ticker\":{\"id\":\"bffbd40c-965d-4c4f-9ed2-ce672b8b326b\",\"type\":\"BasicTicker\"}},\"id\":\"d75f7d48-77cd-4868-990e-994a62609e21\",\"type\":\"LinearAxis\"},{\"attributes\":{\"callback\":null},\"id\":\"9c77f74f-1634-4de7-8d80-e18139309f0a\",\"type\":\"DataRange1d\"},{\"attributes\":{\"plot\":{\"id\":\"31bd7361-c5ec-40e2-ae3a-bc6782d17d26\",\"subtype\":\"Figure\",\"type\":\"Plot\"},\"ticker\":{\"id\":\"bffbd40c-965d-4c4f-9ed2-ce672b8b326b\",\"type\":\"BasicTicker\"}},\"id\":\"c674c46a-1ea7-4c19-b4d4-fd5be769b244\",\"type\":\"Grid\"},{\"attributes\":{\"line_alpha\":0.1,\"line_color\":\"#1f77b4\",\"x\":{\"field\":\"Mean.TemperatureF_x\"},\"y\":{\"field\":\"Mean.TemperatureF_y\"}},\"id\":\"371998ad-3130-450f-b85a-85a88faaa695\",\"type\":\"Line\"},{\"attributes\":{},\"id\":\"bffbd40c-965d-4c4f-9ed2-ce672b8b326b\",\"type\":\"BasicTicker\"},{\"attributes\":{\"line_color\":\"#1f77b4\",\"x\":{\"field\":\"Mean.TemperatureF_x\"},\"y\":{\"field\":\"Mean.TemperatureF_y\"}},\"id\":\"86390a1b-6254-4425-9e6b-311efaeb0dc2\",\"type\":\"Line\"},{\"attributes\":{\"axis_label\":\"Temparature in Cleveland (F)\",\"formatter\":{\"id\":\"71773f29-abb9-4f54-b5ce-12aae28df4e6\",\"type\":\"BasicTickFormatter\"},\"plot\":{\"id\":\"31bd7361-c5ec-40e2-ae3a-bc6782d17d26\",\"subtype\":\"Figure\",\"type\":\"Plot\"},\"ticker\":{\"id\":\"29508fb6-2183-4078-8df3-57b79c8bca18\",\"type\":\"BasicTicker\"}},\"id\":\"9b463b29-fdd0-44ea-9ec4-64c3f17e4f0e\",\"type\":\"LinearAxis\"},{\"attributes\":{},\"id\":\"4d5b494c-a288-437b-a0b0-bd68d415c962\",\"type\":\"LinearScale\"}],\"root_ids\":[\"31bd7361-c5ec-40e2-ae3a-bc6782d17d26\"]},\"title\":\"Bokeh Application\",\"version\":\"0.12.15\"}};\n",
       "  var render_items = [{\"docid\":\"d83e1a7d-2311-40a9-81c8-27ca6689d1e2\",\"elementid\":\"dd0dfac7-8b8b-4f34-81f1-6170749d4004\",\"modelid\":\"31bd7361-c5ec-40e2-ae3a-bc6782d17d26\"}];\n",
       "  root.Bokeh.embed.embed_items_notebook(docs_json, render_items);\n",
       "\n",
       "  }\n",
       "  if (root.Bokeh !== undefined) {\n",
       "    embed_document(root);\n",
       "  } else {\n",
       "    var attempts = 0;\n",
       "    var timer = setInterval(function(root) {\n",
       "      if (root.Bokeh !== undefined) {\n",
       "        embed_document(root);\n",
       "        clearInterval(timer);\n",
       "      }\n",
       "      attempts++;\n",
       "      if (attempts > 100) {\n",
       "        console.log(\"Bokeh: ERROR: Unable to run BokehJS code because BokehJS library is missing\")\n",
       "        clearInterval(timer);\n",
       "      }\n",
       "    }, 10, root)\n",
       "  }\n",
       "})(window);"
      ],
      "application/vnd.bokehjs_exec.v0+json": ""
     },
     "metadata": {
      "application/vnd.bokehjs_exec.v0+json": {
       "id": "31bd7361-c5ec-40e2-ae3a-bc6782d17d26"
      }
     },
     "output_type": "display_data"
    }
   ],
   "source": [
    "fig23a = figure(plot_height=400, plot_width=400, title=\"a\")\n",
    "\n",
    "fig23a.line(y=\"Mean.TemperatureF_y\", x=\"Mean.TemperatureF_x\", source=ColumnDataSource(base))\n",
    "\n",
    "fig23a.add_layout(LabelSet(source=ColumnDataSource(base[base.Date.isin([\"2015-04-01\",\"2015-07-01\"])]),\n",
    "                           text=\"Date\", y=\"Mean.TemperatureF_y\", x=\"Mean.TemperatureF_x\", level=\"glyph\",\n",
    "                          x_offset=-5, y_offset=-5))\n",
    "fig23a.xaxis.axis_label = \"Temparature in Houston (F)\"\n",
    "fig23a.yaxis.axis_label = \"Temparature in Cleveland (F)\"\n",
    "\n",
    "show(fig23a)"
   ]
  },
  {
   "cell_type": "code",
   "execution_count": 26,
   "metadata": {},
   "outputs": [
    {
     "data": {
      "text/html": [
       "\n",
       "<div class=\"bk-root\">\n",
       "    <div class=\"bk-plotdiv\" id=\"9a7ad274-dc7b-4871-a3af-541ae8ec45de\"></div>\n",
       "</div>"
      ]
     },
     "metadata": {},
     "output_type": "display_data"
    },
    {
     "data": {
      "application/javascript": [
       "(function(root) {\n",
       "  function embed_document(root) {\n",
       "    \n",
       "  var docs_json = {\"e95df26c-4ea3-4be1-9584-312041852d5f\":{\"roots\":{\"references\":[{\"attributes\":{\"data_source\":{\"id\":\"b0a9d8c0-88c9-4ecf-b72e-b902988925b2\",\"type\":\"ColumnDataSource\"},\"glyph\":{\"id\":\"bf1b733f-2304-46c1-92fa-4572699f11b8\",\"type\":\"Line\"},\"hover_glyph\":null,\"muted_glyph\":null,\"nonselection_glyph\":{\"id\":\"26a03ddb-fb41-44d9-a0d3-713ee902602b\",\"type\":\"Line\"},\"selection_glyph\":null,\"view\":{\"id\":\"02cec26c-616a-42f4-bde8-2cd05acdb016\",\"type\":\"CDSView\"}},\"id\":\"f05f0039-608d-4d57-9107-a1acfa376e8a\",\"type\":\"GlyphRenderer\"},{\"attributes\":{\"level\":\"glyph\",\"plot\":{\"id\":\"a780c492-00d8-4fe7-bc86-48b6282af5d4\",\"subtype\":\"Figure\",\"type\":\"Plot\"},\"source\":{\"id\":\"1bbb7f9e-a15a-4f64-ab71-395739aa523b\",\"type\":\"ColumnDataSource\"},\"text\":{\"field\":\"Date\"},\"x\":{\"field\":\"Mean.TemperatureC_x\"},\"x_offset\":{\"value\":-5},\"y\":{\"field\":\"Mean.TemperatureC_y\"},\"y_offset\":{\"value\":-5}},\"id\":\"060ccc97-f148-473f-8dda-8eed6ba5262f\",\"type\":\"LabelSet\"},{\"attributes\":{\"plot\":null,\"text\":\"b\"},\"id\":\"1fbaf351-a47a-4f3e-9dfc-0f1a2203b1f1\",\"type\":\"Title\"},{\"attributes\":{\"line_color\":\"#1f77b4\",\"x\":{\"field\":\"Mean.TemperatureC_x\"},\"y\":{\"field\":\"Mean.TemperatureC_y\"}},\"id\":\"bf1b733f-2304-46c1-92fa-4572699f11b8\",\"type\":\"Line\"},{\"attributes\":{\"axis_label\":\"Temparature in Houston (C)\",\"formatter\":{\"id\":\"3fdbe605-aa97-4196-9df6-3f23a969a09d\",\"type\":\"BasicTickFormatter\"},\"plot\":{\"id\":\"a780c492-00d8-4fe7-bc86-48b6282af5d4\",\"subtype\":\"Figure\",\"type\":\"Plot\"},\"ticker\":{\"id\":\"058304c9-88f9-4eff-b356-a8606bc4a5b5\",\"type\":\"BasicTicker\"}},\"id\":\"291181d9-54d3-4272-83e8-9cbd0b16d260\",\"type\":\"LinearAxis\"},{\"attributes\":{\"source\":{\"id\":\"b0a9d8c0-88c9-4ecf-b72e-b902988925b2\",\"type\":\"ColumnDataSource\"}},\"id\":\"02cec26c-616a-42f4-bde8-2cd05acdb016\",\"type\":\"CDSView\"},{\"attributes\":{\"line_alpha\":0.1,\"line_color\":\"#1f77b4\",\"x\":{\"field\":\"Mean.TemperatureC_x\"},\"y\":{\"field\":\"Mean.TemperatureC_y\"}},\"id\":\"26a03ddb-fb41-44d9-a0d3-713ee902602b\",\"type\":\"Line\"},{\"attributes\":{\"plot\":{\"id\":\"a780c492-00d8-4fe7-bc86-48b6282af5d4\",\"subtype\":\"Figure\",\"type\":\"Plot\"},\"ticker\":{\"id\":\"058304c9-88f9-4eff-b356-a8606bc4a5b5\",\"type\":\"BasicTicker\"}},\"id\":\"d33f2e46-6c5e-4fbd-9e90-745e8afbfc72\",\"type\":\"Grid\"},{\"attributes\":{},\"id\":\"4e829acd-91aa-4da3-8a2c-dc3c9a1477bf\",\"type\":\"HelpTool\"},{\"attributes\":{\"bottom_units\":\"screen\",\"fill_alpha\":{\"value\":0.5},\"fill_color\":{\"value\":\"lightgrey\"},\"left_units\":\"screen\",\"level\":\"overlay\",\"line_alpha\":{\"value\":1.0},\"line_color\":{\"value\":\"black\"},\"line_dash\":[4,4],\"line_width\":{\"value\":2},\"plot\":null,\"render_mode\":\"css\",\"right_units\":\"screen\",\"top_units\":\"screen\"},\"id\":\"b1533faa-ff96-4510-8882-fb5574c1667c\",\"type\":\"BoxAnnotation\"},{\"attributes\":{\"callback\":null,\"column_names\":[\"Date\",\"city_x\",\"Mean.TemperatureF_x\",\"city_y\",\"Mean.TemperatureF_y\",\"Mean.TemperatureC_y\",\"Mean.TemperatureC_x\",\"index\"],\"data\":{\"Date\":[\"2015-01-01\",\"2015-02-01\",\"2015-03-01\",\"2015-04-01\",\"2015-05-01\",\"2015-06-01\",\"2015-07-01\",\"2015-08-01\",\"2015-09-01\",\"2015-10-01\",\"2015-11-01\",\"2015-12-01\"],\"Mean.TemperatureC_x\":{\"__ndarray__\":\"q6qqqqqqCsByHMdxHMfhv3Icx3EcxxHAq6qqqqqqGkBVVVVVVVUnQMdxHMdxHCVA5DiO4ziONECO4ziO4zg2QAAAAAAAADlAq6qqqqqqKkByHMdxHMcrQAAAAAAAACRA\",\"dtype\":\"float64\",\"shape\":[12]},\"Mean.TemperatureC_y\":{\"__ndarray__\":\"q6qqqqqqGkCO4ziO4zgxQBzHcRzHcShAVVVVVVVVN0Crqqqqqqo1QOQ4juM4jjlAq6qqqqqqOkAcx3Ecx3E9QAAAAAAAADlAx3Ecx3EcOkA5juM4juMyQBzHcRzHcShA\",\"dtype\":\"float64\",\"shape\":[12]},\"Mean.TemperatureF_x\":{\"__ndarray__\":\"AAAAAAAAOkAAAAAAAAA/QAAAAAAAADhAAAAAAAAARkAAAAAAAIBKQAAAAAAAgElAAAAAAABAUUAAAAAAAABSQAAAAAAAQFNAAAAAAAAATEAAAAAAAIBMQAAAAAAAAElA\",\"dtype\":\"float64\",\"shape\":[12]},\"Mean.TemperatureF_y\":{\"__ndarray__\":\"AAAAAAAARkAAAAAAAIBPQAAAAAAAAEtAAAAAAACAUkAAAAAAAMBRQAAAAAAAgFNAAAAAAAAAVEAAAAAAAEBVQAAAAAAAQFNAAAAAAADAU0AAAAAAAIBQQAAAAAAAAEtA\",\"dtype\":\"float64\",\"shape\":[12]},\"city_x\":[\"Cleveland (OH)\",\"Cleveland (OH)\",\"Cleveland (OH)\",\"Cleveland (OH)\",\"Cleveland (OH)\",\"Cleveland (OH)\",\"Cleveland (OH)\",\"Cleveland (OH)\",\"Cleveland (OH)\",\"Cleveland (OH)\",\"Cleveland (OH)\",\"Cleveland (OH)\"],\"city_y\":[\"Houston (TX)\",\"Houston (TX)\",\"Houston (TX)\",\"Houston (TX)\",\"Houston (TX)\",\"Houston (TX)\",\"Houston (TX)\",\"Houston (TX)\",\"Houston (TX)\",\"Houston (TX)\",\"Houston (TX)\",\"Houston (TX)\"],\"index\":[0,31,59,90,120,151,181,212,243,273,304,334]},\"selected\":null,\"selection_policy\":null},\"id\":\"b0a9d8c0-88c9-4ecf-b72e-b902988925b2\",\"type\":\"ColumnDataSource\"},{\"attributes\":{},\"id\":\"36603b6a-8504-481a-898f-973a0cef7dde\",\"type\":\"ResetTool\"},{\"attributes\":{\"active_drag\":\"auto\",\"active_inspect\":\"auto\",\"active_scroll\":\"auto\",\"active_tap\":\"auto\",\"tools\":[{\"id\":\"83424dbf-4e81-4d83-b285-5fd26921912b\",\"type\":\"PanTool\"},{\"id\":\"0e71b76a-94c6-4ffc-8eae-332f7117bc5b\",\"type\":\"WheelZoomTool\"},{\"id\":\"3749701a-4ff9-4294-b690-33067e806ae3\",\"type\":\"BoxZoomTool\"},{\"id\":\"11f11e0e-b3a9-4e35-91da-53f28b1620e1\",\"type\":\"SaveTool\"},{\"id\":\"36603b6a-8504-481a-898f-973a0cef7dde\",\"type\":\"ResetTool\"},{\"id\":\"4e829acd-91aa-4da3-8a2c-dc3c9a1477bf\",\"type\":\"HelpTool\"}]},\"id\":\"2aed7ea8-fc1f-4a05-9f70-f61e7e1a4551\",\"type\":\"Toolbar\"},{\"attributes\":{},\"id\":\"11f11e0e-b3a9-4e35-91da-53f28b1620e1\",\"type\":\"SaveTool\"},{\"attributes\":{\"callback\":null,\"column_names\":[\"Date\",\"city_x\",\"Mean.TemperatureF_x\",\"city_y\",\"Mean.TemperatureF_y\",\"Mean.TemperatureC_y\",\"Mean.TemperatureC_x\",\"index\"],\"data\":{\"Date\":[\"2015-04-01\",\"2015-07-01\"],\"Mean.TemperatureC_x\":{\"__ndarray__\":\"q6qqqqqqGkDkOI7jOI40QA==\",\"dtype\":\"float64\",\"shape\":[2]},\"Mean.TemperatureC_y\":{\"__ndarray__\":\"VVVVVVVVN0Crqqqqqqo6QA==\",\"dtype\":\"float64\",\"shape\":[2]},\"Mean.TemperatureF_x\":{\"__ndarray__\":\"AAAAAAAARkAAAAAAAEBRQA==\",\"dtype\":\"float64\",\"shape\":[2]},\"Mean.TemperatureF_y\":{\"__ndarray__\":\"AAAAAACAUkAAAAAAAABUQA==\",\"dtype\":\"float64\",\"shape\":[2]},\"city_x\":[\"Cleveland (OH)\",\"Cleveland (OH)\"],\"city_y\":[\"Houston (TX)\",\"Houston (TX)\"],\"index\":[90,181]},\"selected\":null,\"selection_policy\":null},\"id\":\"1bbb7f9e-a15a-4f64-ab71-395739aa523b\",\"type\":\"ColumnDataSource\"},{\"attributes\":{\"overlay\":{\"id\":\"b1533faa-ff96-4510-8882-fb5574c1667c\",\"type\":\"BoxAnnotation\"}},\"id\":\"3749701a-4ff9-4294-b690-33067e806ae3\",\"type\":\"BoxZoomTool\"},{\"attributes\":{},\"id\":\"3fdbe605-aa97-4196-9df6-3f23a969a09d\",\"type\":\"BasicTickFormatter\"},{\"attributes\":{},\"id\":\"d54b7f85-f18a-4dae-9f0d-bd88920970b2\",\"type\":\"LinearScale\"},{\"attributes\":{\"below\":[{\"id\":\"291181d9-54d3-4272-83e8-9cbd0b16d260\",\"type\":\"LinearAxis\"}],\"left\":[{\"id\":\"d62aec36-8323-42d0-b9d2-9a0db7975f75\",\"type\":\"LinearAxis\"}],\"plot_height\":400,\"plot_width\":400,\"renderers\":[{\"id\":\"291181d9-54d3-4272-83e8-9cbd0b16d260\",\"type\":\"LinearAxis\"},{\"id\":\"d33f2e46-6c5e-4fbd-9e90-745e8afbfc72\",\"type\":\"Grid\"},{\"id\":\"d62aec36-8323-42d0-b9d2-9a0db7975f75\",\"type\":\"LinearAxis\"},{\"id\":\"43eebf53-e468-4224-9f63-4dce8670cfe2\",\"type\":\"Grid\"},{\"id\":\"b1533faa-ff96-4510-8882-fb5574c1667c\",\"type\":\"BoxAnnotation\"},{\"id\":\"f05f0039-608d-4d57-9107-a1acfa376e8a\",\"type\":\"GlyphRenderer\"},{\"id\":\"060ccc97-f148-473f-8dda-8eed6ba5262f\",\"type\":\"LabelSet\"}],\"title\":{\"id\":\"1fbaf351-a47a-4f3e-9dfc-0f1a2203b1f1\",\"type\":\"Title\"},\"toolbar\":{\"id\":\"2aed7ea8-fc1f-4a05-9f70-f61e7e1a4551\",\"type\":\"Toolbar\"},\"x_range\":{\"id\":\"67d190c5-4e20-4651-be38-14c81b52c6c5\",\"type\":\"DataRange1d\"},\"x_scale\":{\"id\":\"b6383519-ee39-4b2b-b2b4-8ca2bcb99beb\",\"type\":\"LinearScale\"},\"y_range\":{\"id\":\"324c0e19-e518-42a7-95f8-62b1c4ef2623\",\"type\":\"DataRange1d\"},\"y_scale\":{\"id\":\"d54b7f85-f18a-4dae-9f0d-bd88920970b2\",\"type\":\"LinearScale\"}},\"id\":\"a780c492-00d8-4fe7-bc86-48b6282af5d4\",\"subtype\":\"Figure\",\"type\":\"Plot\"},{\"attributes\":{\"callback\":null},\"id\":\"67d190c5-4e20-4651-be38-14c81b52c6c5\",\"type\":\"DataRange1d\"},{\"attributes\":{},\"id\":\"0e71b76a-94c6-4ffc-8eae-332f7117bc5b\",\"type\":\"WheelZoomTool\"},{\"attributes\":{\"dimension\":1,\"plot\":{\"id\":\"a780c492-00d8-4fe7-bc86-48b6282af5d4\",\"subtype\":\"Figure\",\"type\":\"Plot\"},\"ticker\":{\"id\":\"8d63f5d0-ecb0-431f-b08a-61375b97177d\",\"type\":\"BasicTicker\"}},\"id\":\"43eebf53-e468-4224-9f63-4dce8670cfe2\",\"type\":\"Grid\"},{\"attributes\":{},\"id\":\"83424dbf-4e81-4d83-b285-5fd26921912b\",\"type\":\"PanTool\"},{\"attributes\":{},\"id\":\"058304c9-88f9-4eff-b356-a8606bc4a5b5\",\"type\":\"BasicTicker\"},{\"attributes\":{},\"id\":\"8d63f5d0-ecb0-431f-b08a-61375b97177d\",\"type\":\"BasicTicker\"},{\"attributes\":{\"callback\":null},\"id\":\"324c0e19-e518-42a7-95f8-62b1c4ef2623\",\"type\":\"DataRange1d\"},{\"attributes\":{\"axis_label\":\"Temparature in Cleveland (C)\",\"formatter\":{\"id\":\"6b172f20-1f8c-4978-99d9-5c5dbb84ec4c\",\"type\":\"BasicTickFormatter\"},\"plot\":{\"id\":\"a780c492-00d8-4fe7-bc86-48b6282af5d4\",\"subtype\":\"Figure\",\"type\":\"Plot\"},\"ticker\":{\"id\":\"8d63f5d0-ecb0-431f-b08a-61375b97177d\",\"type\":\"BasicTicker\"}},\"id\":\"d62aec36-8323-42d0-b9d2-9a0db7975f75\",\"type\":\"LinearAxis\"},{\"attributes\":{},\"id\":\"b6383519-ee39-4b2b-b2b4-8ca2bcb99beb\",\"type\":\"LinearScale\"},{\"attributes\":{},\"id\":\"6b172f20-1f8c-4978-99d9-5c5dbb84ec4c\",\"type\":\"BasicTickFormatter\"}],\"root_ids\":[\"a780c492-00d8-4fe7-bc86-48b6282af5d4\"]},\"title\":\"Bokeh Application\",\"version\":\"0.12.15\"}};\n",
       "  var render_items = [{\"docid\":\"e95df26c-4ea3-4be1-9584-312041852d5f\",\"elementid\":\"9a7ad274-dc7b-4871-a3af-541ae8ec45de\",\"modelid\":\"a780c492-00d8-4fe7-bc86-48b6282af5d4\"}];\n",
       "  root.Bokeh.embed.embed_items_notebook(docs_json, render_items);\n",
       "\n",
       "  }\n",
       "  if (root.Bokeh !== undefined) {\n",
       "    embed_document(root);\n",
       "  } else {\n",
       "    var attempts = 0;\n",
       "    var timer = setInterval(function(root) {\n",
       "      if (root.Bokeh !== undefined) {\n",
       "        embed_document(root);\n",
       "        clearInterval(timer);\n",
       "      }\n",
       "      attempts++;\n",
       "      if (attempts > 100) {\n",
       "        console.log(\"Bokeh: ERROR: Unable to run BokehJS code because BokehJS library is missing\")\n",
       "        clearInterval(timer);\n",
       "      }\n",
       "    }, 10, root)\n",
       "  }\n",
       "})(window);"
      ],
      "application/vnd.bokehjs_exec.v0+json": ""
     },
     "metadata": {
      "application/vnd.bokehjs_exec.v0+json": {
       "id": "a780c492-00d8-4fe7-bc86-48b6282af5d4"
      }
     },
     "output_type": "display_data"
    }
   ],
   "source": [
    "fig23b = figure(plot_height=400, plot_width=400, title=\"b\")\n",
    "\n",
    "fig23b.line(y=\"Mean.TemperatureC_y\", x=\"Mean.TemperatureC_x\", source=ColumnDataSource(base))\n",
    "\n",
    "fig23b.add_layout(LabelSet(source=ColumnDataSource(base[base.Date.isin([\"2015-04-01\",\"2015-07-01\"])]),\n",
    "                           text=\"Date\", y=\"Mean.TemperatureC_y\", x=\"Mean.TemperatureC_x\", level=\"glyph\",\n",
    "                          x_offset=-5, y_offset=-5))\n",
    "fig23b.xaxis.axis_label = \"Temparature in Houston (C)\"\n",
    "fig23b.yaxis.axis_label = \"Temparature in Cleveland (C)\"\n",
    "\n",
    "show(fig23b)"
   ]
  },
  {
   "cell_type": "code",
   "execution_count": 27,
   "metadata": {},
   "outputs": [],
   "source": [
    "tempGrid = Row(fig23a, fig23b)"
   ]
  },
  {
   "cell_type": "code",
   "execution_count": 28,
   "metadata": {},
   "outputs": [
    {
     "data": {
      "text/html": [
       "\n",
       "<div class=\"bk-root\">\n",
       "    <div class=\"bk-plotdiv\" id=\"d5b681d3-ffd4-4d57-b5d3-99a70a2f6867\"></div>\n",
       "</div>"
      ]
     },
     "metadata": {},
     "output_type": "display_data"
    },
    {
     "data": {
      "application/javascript": [
       "(function(root) {\n",
       "  function embed_document(root) {\n",
       "    \n",
       "  var docs_json = {\"015a48df-1b10-4dab-9953-0272e811958b\":{\"roots\":{\"references\":[{\"attributes\":{\"level\":\"glyph\",\"plot\":{\"id\":\"a780c492-00d8-4fe7-bc86-48b6282af5d4\",\"subtype\":\"Figure\",\"type\":\"Plot\"},\"source\":{\"id\":\"1bbb7f9e-a15a-4f64-ab71-395739aa523b\",\"type\":\"ColumnDataSource\"},\"text\":{\"field\":\"Date\"},\"x\":{\"field\":\"Mean.TemperatureC_x\"},\"x_offset\":{\"value\":-5},\"y\":{\"field\":\"Mean.TemperatureC_y\"},\"y_offset\":{\"value\":-5}},\"id\":\"060ccc97-f148-473f-8dda-8eed6ba5262f\",\"type\":\"LabelSet\"},{\"attributes\":{\"plot\":null,\"text\":\"b\"},\"id\":\"1fbaf351-a47a-4f3e-9dfc-0f1a2203b1f1\",\"type\":\"Title\"},{\"attributes\":{\"callback\":null,\"column_names\":[\"Date\",\"city_x\",\"Mean.TemperatureF_x\",\"city_y\",\"Mean.TemperatureF_y\",\"Mean.TemperatureC_y\",\"Mean.TemperatureC_x\",\"index\"],\"data\":{\"Date\":[\"2015-04-01\",\"2015-07-01\"],\"Mean.TemperatureC_x\":{\"__ndarray__\":\"q6qqqqqqGkDkOI7jOI40QA==\",\"dtype\":\"float64\",\"shape\":[2]},\"Mean.TemperatureC_y\":{\"__ndarray__\":\"VVVVVVVVN0Crqqqqqqo6QA==\",\"dtype\":\"float64\",\"shape\":[2]},\"Mean.TemperatureF_x\":{\"__ndarray__\":\"AAAAAAAARkAAAAAAAEBRQA==\",\"dtype\":\"float64\",\"shape\":[2]},\"Mean.TemperatureF_y\":{\"__ndarray__\":\"AAAAAACAUkAAAAAAAABUQA==\",\"dtype\":\"float64\",\"shape\":[2]},\"city_x\":[\"Cleveland (OH)\",\"Cleveland (OH)\"],\"city_y\":[\"Houston (TX)\",\"Houston (TX)\"],\"index\":[90,181]},\"selected\":null,\"selection_policy\":null},\"id\":\"f1d1f449-dc1a-4c8f-aa6e-94ffdc5f443c\",\"type\":\"ColumnDataSource\"},{\"attributes\":{\"axis_label\":\"Temparature in Houston (C)\",\"formatter\":{\"id\":\"3fdbe605-aa97-4196-9df6-3f23a969a09d\",\"type\":\"BasicTickFormatter\"},\"plot\":{\"id\":\"a780c492-00d8-4fe7-bc86-48b6282af5d4\",\"subtype\":\"Figure\",\"type\":\"Plot\"},\"ticker\":{\"id\":\"058304c9-88f9-4eff-b356-a8606bc4a5b5\",\"type\":\"BasicTicker\"}},\"id\":\"291181d9-54d3-4272-83e8-9cbd0b16d260\",\"type\":\"LinearAxis\"},{\"attributes\":{\"level\":\"glyph\",\"plot\":{\"id\":\"31bd7361-c5ec-40e2-ae3a-bc6782d17d26\",\"subtype\":\"Figure\",\"type\":\"Plot\"},\"source\":{\"id\":\"f1d1f449-dc1a-4c8f-aa6e-94ffdc5f443c\",\"type\":\"ColumnDataSource\"},\"text\":{\"field\":\"Date\"},\"x\":{\"field\":\"Mean.TemperatureF_x\"},\"x_offset\":{\"value\":-5},\"y\":{\"field\":\"Mean.TemperatureF_y\"},\"y_offset\":{\"value\":-5}},\"id\":\"46dcbe07-11f2-417a-8fb7-d0866d0fa30f\",\"type\":\"LabelSet\"},{\"attributes\":{\"source\":{\"id\":\"b0a9d8c0-88c9-4ecf-b72e-b902988925b2\",\"type\":\"ColumnDataSource\"}},\"id\":\"02cec26c-616a-42f4-bde8-2cd05acdb016\",\"type\":\"CDSView\"},{\"attributes\":{\"line_alpha\":0.1,\"line_color\":\"#1f77b4\",\"x\":{\"field\":\"Mean.TemperatureC_x\"},\"y\":{\"field\":\"Mean.TemperatureC_y\"}},\"id\":\"26a03ddb-fb41-44d9-a0d3-713ee902602b\",\"type\":\"Line\"},{\"attributes\":{\"callback\":null},\"id\":\"ad9c8c48-47df-40ec-8618-91ac9ebbfc6b\",\"type\":\"DataRange1d\"},{\"attributes\":{},\"id\":\"4e829acd-91aa-4da3-8a2c-dc3c9a1477bf\",\"type\":\"HelpTool\"},{\"attributes\":{\"callback\":null,\"column_names\":[\"Date\",\"city_x\",\"Mean.TemperatureF_x\",\"city_y\",\"Mean.TemperatureF_y\",\"Mean.TemperatureC_y\",\"Mean.TemperatureC_x\",\"index\"],\"data\":{\"Date\":[\"2015-01-01\",\"2015-02-01\",\"2015-03-01\",\"2015-04-01\",\"2015-05-01\",\"2015-06-01\",\"2015-07-01\",\"2015-08-01\",\"2015-09-01\",\"2015-10-01\",\"2015-11-01\",\"2015-12-01\"],\"Mean.TemperatureC_x\":{\"__ndarray__\":\"q6qqqqqqCsByHMdxHMfhv3Icx3EcxxHAq6qqqqqqGkBVVVVVVVUnQMdxHMdxHCVA5DiO4ziONECO4ziO4zg2QAAAAAAAADlAq6qqqqqqKkByHMdxHMcrQAAAAAAAACRA\",\"dtype\":\"float64\",\"shape\":[12]},\"Mean.TemperatureC_y\":{\"__ndarray__\":\"q6qqqqqqGkCO4ziO4zgxQBzHcRzHcShAVVVVVVVVN0Crqqqqqqo1QOQ4juM4jjlAq6qqqqqqOkAcx3Ecx3E9QAAAAAAAADlAx3Ecx3EcOkA5juM4juMyQBzHcRzHcShA\",\"dtype\":\"float64\",\"shape\":[12]},\"Mean.TemperatureF_x\":{\"__ndarray__\":\"AAAAAAAAOkAAAAAAAAA/QAAAAAAAADhAAAAAAAAARkAAAAAAAIBKQAAAAAAAgElAAAAAAABAUUAAAAAAAABSQAAAAAAAQFNAAAAAAAAATEAAAAAAAIBMQAAAAAAAAElA\",\"dtype\":\"float64\",\"shape\":[12]},\"Mean.TemperatureF_y\":{\"__ndarray__\":\"AAAAAAAARkAAAAAAAIBPQAAAAAAAAEtAAAAAAACAUkAAAAAAAMBRQAAAAAAAgFNAAAAAAAAAVEAAAAAAAEBVQAAAAAAAQFNAAAAAAADAU0AAAAAAAIBQQAAAAAAAAEtA\",\"dtype\":\"float64\",\"shape\":[12]},\"city_x\":[\"Cleveland (OH)\",\"Cleveland (OH)\",\"Cleveland (OH)\",\"Cleveland (OH)\",\"Cleveland (OH)\",\"Cleveland (OH)\",\"Cleveland (OH)\",\"Cleveland (OH)\",\"Cleveland (OH)\",\"Cleveland (OH)\",\"Cleveland (OH)\",\"Cleveland (OH)\"],\"city_y\":[\"Houston (TX)\",\"Houston (TX)\",\"Houston (TX)\",\"Houston (TX)\",\"Houston (TX)\",\"Houston (TX)\",\"Houston (TX)\",\"Houston (TX)\",\"Houston (TX)\",\"Houston (TX)\",\"Houston (TX)\",\"Houston (TX)\"],\"index\":[0,31,59,90,120,151,181,212,243,273,304,334]},\"selected\":null,\"selection_policy\":null},\"id\":\"b0a9d8c0-88c9-4ecf-b72e-b902988925b2\",\"type\":\"ColumnDataSource\"},{\"attributes\":{},\"id\":\"36603b6a-8504-481a-898f-973a0cef7dde\",\"type\":\"ResetTool\"},{\"attributes\":{\"active_drag\":\"auto\",\"active_inspect\":\"auto\",\"active_scroll\":\"auto\",\"active_tap\":\"auto\",\"tools\":[{\"id\":\"83424dbf-4e81-4d83-b285-5fd26921912b\",\"type\":\"PanTool\"},{\"id\":\"0e71b76a-94c6-4ffc-8eae-332f7117bc5b\",\"type\":\"WheelZoomTool\"},{\"id\":\"3749701a-4ff9-4294-b690-33067e806ae3\",\"type\":\"BoxZoomTool\"},{\"id\":\"11f11e0e-b3a9-4e35-91da-53f28b1620e1\",\"type\":\"SaveTool\"},{\"id\":\"36603b6a-8504-481a-898f-973a0cef7dde\",\"type\":\"ResetTool\"},{\"id\":\"4e829acd-91aa-4da3-8a2c-dc3c9a1477bf\",\"type\":\"HelpTool\"}]},\"id\":\"2aed7ea8-fc1f-4a05-9f70-f61e7e1a4551\",\"type\":\"Toolbar\"},{\"attributes\":{},\"id\":\"11f11e0e-b3a9-4e35-91da-53f28b1620e1\",\"type\":\"SaveTool\"},{\"attributes\":{\"overlay\":{\"id\":\"b1533faa-ff96-4510-8882-fb5574c1667c\",\"type\":\"BoxAnnotation\"}},\"id\":\"3749701a-4ff9-4294-b690-33067e806ae3\",\"type\":\"BoxZoomTool\"},{\"attributes\":{\"active_drag\":\"auto\",\"active_inspect\":\"auto\",\"active_scroll\":\"auto\",\"active_tap\":\"auto\",\"tools\":[{\"id\":\"30f89106-64c9-46f6-87a7-241a237d8801\",\"type\":\"PanTool\"},{\"id\":\"e2e0ef00-4a5d-4e26-9fb1-cad3361fb03c\",\"type\":\"WheelZoomTool\"},{\"id\":\"f3dbbf5b-691a-4642-850c-f9c520eed2a1\",\"type\":\"BoxZoomTool\"},{\"id\":\"8fe5f769-22bf-42e0-9d09-c953b9286a18\",\"type\":\"SaveTool\"},{\"id\":\"cbdd8e44-5dff-4f39-b188-b68e4658911c\",\"type\":\"ResetTool\"},{\"id\":\"ec5aa5ff-0e22-4162-a024-f23abb14c7d7\",\"type\":\"HelpTool\"}]},\"id\":\"1878fde2-2a0d-4af8-b6df-ac24d291aad5\",\"type\":\"Toolbar\"},{\"attributes\":{},\"id\":\"07c8cc22-48fc-4cbf-9f6a-d623b0e8a005\",\"type\":\"LinearScale\"},{\"attributes\":{},\"id\":\"3fdbe605-aa97-4196-9df6-3f23a969a09d\",\"type\":\"BasicTickFormatter\"},{\"attributes\":{\"below\":[{\"id\":\"d75f7d48-77cd-4868-990e-994a62609e21\",\"type\":\"LinearAxis\"}],\"left\":[{\"id\":\"9b463b29-fdd0-44ea-9ec4-64c3f17e4f0e\",\"type\":\"LinearAxis\"}],\"plot_height\":400,\"plot_width\":400,\"renderers\":[{\"id\":\"d75f7d48-77cd-4868-990e-994a62609e21\",\"type\":\"LinearAxis\"},{\"id\":\"c674c46a-1ea7-4c19-b4d4-fd5be769b244\",\"type\":\"Grid\"},{\"id\":\"9b463b29-fdd0-44ea-9ec4-64c3f17e4f0e\",\"type\":\"LinearAxis\"},{\"id\":\"8269b87c-3a2d-4c21-9c13-11fca2a51006\",\"type\":\"Grid\"},{\"id\":\"4b64f48e-91a9-4bb8-9093-7a854ae84cf6\",\"type\":\"BoxAnnotation\"},{\"id\":\"d3bc6c6e-a316-4f24-9ece-8ef3f1923438\",\"type\":\"GlyphRenderer\"},{\"id\":\"46dcbe07-11f2-417a-8fb7-d0866d0fa30f\",\"type\":\"LabelSet\"}],\"title\":{\"id\":\"19d9be12-6e2b-4882-8a49-7a9a6bd5aa05\",\"type\":\"Title\"},\"toolbar\":{\"id\":\"1878fde2-2a0d-4af8-b6df-ac24d291aad5\",\"type\":\"Toolbar\"},\"x_range\":{\"id\":\"ad9c8c48-47df-40ec-8618-91ac9ebbfc6b\",\"type\":\"DataRange1d\"},\"x_scale\":{\"id\":\"4d5b494c-a288-437b-a0b0-bd68d415c962\",\"type\":\"LinearScale\"},\"y_range\":{\"id\":\"9c77f74f-1634-4de7-8d80-e18139309f0a\",\"type\":\"DataRange1d\"},\"y_scale\":{\"id\":\"07c8cc22-48fc-4cbf-9f6a-d623b0e8a005\",\"type\":\"LinearScale\"}},\"id\":\"31bd7361-c5ec-40e2-ae3a-bc6782d17d26\",\"subtype\":\"Figure\",\"type\":\"Plot\"},{\"attributes\":{\"below\":[{\"id\":\"291181d9-54d3-4272-83e8-9cbd0b16d260\",\"type\":\"LinearAxis\"}],\"left\":[{\"id\":\"d62aec36-8323-42d0-b9d2-9a0db7975f75\",\"type\":\"LinearAxis\"}],\"plot_height\":400,\"plot_width\":400,\"renderers\":[{\"id\":\"291181d9-54d3-4272-83e8-9cbd0b16d260\",\"type\":\"LinearAxis\"},{\"id\":\"d33f2e46-6c5e-4fbd-9e90-745e8afbfc72\",\"type\":\"Grid\"},{\"id\":\"d62aec36-8323-42d0-b9d2-9a0db7975f75\",\"type\":\"LinearAxis\"},{\"id\":\"43eebf53-e468-4224-9f63-4dce8670cfe2\",\"type\":\"Grid\"},{\"id\":\"b1533faa-ff96-4510-8882-fb5574c1667c\",\"type\":\"BoxAnnotation\"},{\"id\":\"f05f0039-608d-4d57-9107-a1acfa376e8a\",\"type\":\"GlyphRenderer\"},{\"id\":\"060ccc97-f148-473f-8dda-8eed6ba5262f\",\"type\":\"LabelSet\"}],\"title\":{\"id\":\"1fbaf351-a47a-4f3e-9dfc-0f1a2203b1f1\",\"type\":\"Title\"},\"toolbar\":{\"id\":\"2aed7ea8-fc1f-4a05-9f70-f61e7e1a4551\",\"type\":\"Toolbar\"},\"x_range\":{\"id\":\"67d190c5-4e20-4651-be38-14c81b52c6c5\",\"type\":\"DataRange1d\"},\"x_scale\":{\"id\":\"b6383519-ee39-4b2b-b2b4-8ca2bcb99beb\",\"type\":\"LinearScale\"},\"y_range\":{\"id\":\"324c0e19-e518-42a7-95f8-62b1c4ef2623\",\"type\":\"DataRange1d\"},\"y_scale\":{\"id\":\"d54b7f85-f18a-4dae-9f0d-bd88920970b2\",\"type\":\"LinearScale\"}},\"id\":\"a780c492-00d8-4fe7-bc86-48b6282af5d4\",\"subtype\":\"Figure\",\"type\":\"Plot\"},{\"attributes\":{\"children\":[{\"id\":\"31bd7361-c5ec-40e2-ae3a-bc6782d17d26\",\"subtype\":\"Figure\",\"type\":\"Plot\"},{\"id\":\"a780c492-00d8-4fe7-bc86-48b6282af5d4\",\"subtype\":\"Figure\",\"type\":\"Plot\"}]},\"id\":\"7fa20b3b-6e40-4475-8f9f-bf39c26dfa90\",\"type\":\"Row\"},{\"attributes\":{},\"id\":\"0e71b76a-94c6-4ffc-8eae-332f7117bc5b\",\"type\":\"WheelZoomTool\"},{\"attributes\":{},\"id\":\"9fa2c740-2492-490f-b4fc-fa75921b3bb7\",\"type\":\"BasicTickFormatter\"},{\"attributes\":{},\"id\":\"83424dbf-4e81-4d83-b285-5fd26921912b\",\"type\":\"PanTool\"},{\"attributes\":{\"axis_label\":\"Temparature in Houston (F)\",\"formatter\":{\"id\":\"9fa2c740-2492-490f-b4fc-fa75921b3bb7\",\"type\":\"BasicTickFormatter\"},\"plot\":{\"id\":\"31bd7361-c5ec-40e2-ae3a-bc6782d17d26\",\"subtype\":\"Figure\",\"type\":\"Plot\"},\"ticker\":{\"id\":\"bffbd40c-965d-4c4f-9ed2-ce672b8b326b\",\"type\":\"BasicTicker\"}},\"id\":\"d75f7d48-77cd-4868-990e-994a62609e21\",\"type\":\"LinearAxis\"},{\"attributes\":{\"callback\":null},\"id\":\"9c77f74f-1634-4de7-8d80-e18139309f0a\",\"type\":\"DataRange1d\"},{\"attributes\":{\"plot\":{\"id\":\"31bd7361-c5ec-40e2-ae3a-bc6782d17d26\",\"subtype\":\"Figure\",\"type\":\"Plot\"},\"ticker\":{\"id\":\"bffbd40c-965d-4c4f-9ed2-ce672b8b326b\",\"type\":\"BasicTicker\"}},\"id\":\"c674c46a-1ea7-4c19-b4d4-fd5be769b244\",\"type\":\"Grid\"},{\"attributes\":{},\"id\":\"bffbd40c-965d-4c4f-9ed2-ce672b8b326b\",\"type\":\"BasicTicker\"},{\"attributes\":{\"axis_label\":\"Temparature in Cleveland (F)\",\"formatter\":{\"id\":\"71773f29-abb9-4f54-b5ce-12aae28df4e6\",\"type\":\"BasicTickFormatter\"},\"plot\":{\"id\":\"31bd7361-c5ec-40e2-ae3a-bc6782d17d26\",\"subtype\":\"Figure\",\"type\":\"Plot\"},\"ticker\":{\"id\":\"29508fb6-2183-4078-8df3-57b79c8bca18\",\"type\":\"BasicTicker\"}},\"id\":\"9b463b29-fdd0-44ea-9ec4-64c3f17e4f0e\",\"type\":\"LinearAxis\"},{\"attributes\":{},\"id\":\"6b172f20-1f8c-4978-99d9-5c5dbb84ec4c\",\"type\":\"BasicTickFormatter\"},{\"attributes\":{\"data_source\":{\"id\":\"b0a9d8c0-88c9-4ecf-b72e-b902988925b2\",\"type\":\"ColumnDataSource\"},\"glyph\":{\"id\":\"bf1b733f-2304-46c1-92fa-4572699f11b8\",\"type\":\"Line\"},\"hover_glyph\":null,\"muted_glyph\":null,\"nonselection_glyph\":{\"id\":\"26a03ddb-fb41-44d9-a0d3-713ee902602b\",\"type\":\"Line\"},\"selection_glyph\":null,\"view\":{\"id\":\"02cec26c-616a-42f4-bde8-2cd05acdb016\",\"type\":\"CDSView\"}},\"id\":\"f05f0039-608d-4d57-9107-a1acfa376e8a\",\"type\":\"GlyphRenderer\"},{\"attributes\":{},\"id\":\"29508fb6-2183-4078-8df3-57b79c8bca18\",\"type\":\"BasicTicker\"},{\"attributes\":{\"dimension\":1,\"plot\":{\"id\":\"31bd7361-c5ec-40e2-ae3a-bc6782d17d26\",\"subtype\":\"Figure\",\"type\":\"Plot\"},\"ticker\":{\"id\":\"29508fb6-2183-4078-8df3-57b79c8bca18\",\"type\":\"BasicTicker\"}},\"id\":\"8269b87c-3a2d-4c21-9c13-11fca2a51006\",\"type\":\"Grid\"},{\"attributes\":{\"line_color\":\"#1f77b4\",\"x\":{\"field\":\"Mean.TemperatureC_x\"},\"y\":{\"field\":\"Mean.TemperatureC_y\"}},\"id\":\"bf1b733f-2304-46c1-92fa-4572699f11b8\",\"type\":\"Line\"},{\"attributes\":{},\"id\":\"71773f29-abb9-4f54-b5ce-12aae28df4e6\",\"type\":\"BasicTickFormatter\"},{\"attributes\":{\"plot\":{\"id\":\"a780c492-00d8-4fe7-bc86-48b6282af5d4\",\"subtype\":\"Figure\",\"type\":\"Plot\"},\"ticker\":{\"id\":\"058304c9-88f9-4eff-b356-a8606bc4a5b5\",\"type\":\"BasicTicker\"}},\"id\":\"d33f2e46-6c5e-4fbd-9e90-745e8afbfc72\",\"type\":\"Grid\"},{\"attributes\":{\"bottom_units\":\"screen\",\"fill_alpha\":{\"value\":0.5},\"fill_color\":{\"value\":\"lightgrey\"},\"left_units\":\"screen\",\"level\":\"overlay\",\"line_alpha\":{\"value\":1.0},\"line_color\":{\"value\":\"black\"},\"line_dash\":[4,4],\"line_width\":{\"value\":2},\"plot\":null,\"render_mode\":\"css\",\"right_units\":\"screen\",\"top_units\":\"screen\"},\"id\":\"4b64f48e-91a9-4bb8-9093-7a854ae84cf6\",\"type\":\"BoxAnnotation\"},{\"attributes\":{\"bottom_units\":\"screen\",\"fill_alpha\":{\"value\":0.5},\"fill_color\":{\"value\":\"lightgrey\"},\"left_units\":\"screen\",\"level\":\"overlay\",\"line_alpha\":{\"value\":1.0},\"line_color\":{\"value\":\"black\"},\"line_dash\":[4,4],\"line_width\":{\"value\":2},\"plot\":null,\"render_mode\":\"css\",\"right_units\":\"screen\",\"top_units\":\"screen\"},\"id\":\"b1533faa-ff96-4510-8882-fb5574c1667c\",\"type\":\"BoxAnnotation\"},{\"attributes\":{},\"id\":\"30f89106-64c9-46f6-87a7-241a237d8801\",\"type\":\"PanTool\"},{\"attributes\":{\"callback\":null,\"column_names\":[\"Date\",\"city_x\",\"Mean.TemperatureF_x\",\"city_y\",\"Mean.TemperatureF_y\",\"Mean.TemperatureC_y\",\"Mean.TemperatureC_x\",\"index\"],\"data\":{\"Date\":[\"2015-01-01\",\"2015-02-01\",\"2015-03-01\",\"2015-04-01\",\"2015-05-01\",\"2015-06-01\",\"2015-07-01\",\"2015-08-01\",\"2015-09-01\",\"2015-10-01\",\"2015-11-01\",\"2015-12-01\"],\"Mean.TemperatureC_x\":{\"__ndarray__\":\"q6qqqqqqCsByHMdxHMfhv3Icx3EcxxHAq6qqqqqqGkBVVVVVVVUnQMdxHMdxHCVA5DiO4ziONECO4ziO4zg2QAAAAAAAADlAq6qqqqqqKkByHMdxHMcrQAAAAAAAACRA\",\"dtype\":\"float64\",\"shape\":[12]},\"Mean.TemperatureC_y\":{\"__ndarray__\":\"q6qqqqqqGkCO4ziO4zgxQBzHcRzHcShAVVVVVVVVN0Crqqqqqqo1QOQ4juM4jjlAq6qqqqqqOkAcx3Ecx3E9QAAAAAAAADlAx3Ecx3EcOkA5juM4juMyQBzHcRzHcShA\",\"dtype\":\"float64\",\"shape\":[12]},\"Mean.TemperatureF_x\":{\"__ndarray__\":\"AAAAAAAAOkAAAAAAAAA/QAAAAAAAADhAAAAAAAAARkAAAAAAAIBKQAAAAAAAgElAAAAAAABAUUAAAAAAAABSQAAAAAAAQFNAAAAAAAAATEAAAAAAAIBMQAAAAAAAAElA\",\"dtype\":\"float64\",\"shape\":[12]},\"Mean.TemperatureF_y\":{\"__ndarray__\":\"AAAAAAAARkAAAAAAAIBPQAAAAAAAAEtAAAAAAACAUkAAAAAAAMBRQAAAAAAAgFNAAAAAAAAAVEAAAAAAAEBVQAAAAAAAQFNAAAAAAADAU0AAAAAAAIBQQAAAAAAAAEtA\",\"dtype\":\"float64\",\"shape\":[12]},\"city_x\":[\"Cleveland (OH)\",\"Cleveland (OH)\",\"Cleveland (OH)\",\"Cleveland (OH)\",\"Cleveland (OH)\",\"Cleveland (OH)\",\"Cleveland (OH)\",\"Cleveland (OH)\",\"Cleveland (OH)\",\"Cleveland (OH)\",\"Cleveland (OH)\",\"Cleveland (OH)\"],\"city_y\":[\"Houston (TX)\",\"Houston (TX)\",\"Houston (TX)\",\"Houston (TX)\",\"Houston (TX)\",\"Houston (TX)\",\"Houston (TX)\",\"Houston (TX)\",\"Houston (TX)\",\"Houston (TX)\",\"Houston (TX)\",\"Houston (TX)\"],\"index\":[0,31,59,90,120,151,181,212,243,273,304,334]},\"selected\":null,\"selection_policy\":null},\"id\":\"c16a2185-fee7-4f1f-a062-2cb0c156ff21\",\"type\":\"ColumnDataSource\"},{\"attributes\":{\"source\":{\"id\":\"c16a2185-fee7-4f1f-a062-2cb0c156ff21\",\"type\":\"ColumnDataSource\"}},\"id\":\"6027b57a-5cc8-4399-8bbd-52e78548b73f\",\"type\":\"CDSView\"},{\"attributes\":{\"callback\":null,\"column_names\":[\"Date\",\"city_x\",\"Mean.TemperatureF_x\",\"city_y\",\"Mean.TemperatureF_y\",\"Mean.TemperatureC_y\",\"Mean.TemperatureC_x\",\"index\"],\"data\":{\"Date\":[\"2015-04-01\",\"2015-07-01\"],\"Mean.TemperatureC_x\":{\"__ndarray__\":\"q6qqqqqqGkDkOI7jOI40QA==\",\"dtype\":\"float64\",\"shape\":[2]},\"Mean.TemperatureC_y\":{\"__ndarray__\":\"VVVVVVVVN0Crqqqqqqo6QA==\",\"dtype\":\"float64\",\"shape\":[2]},\"Mean.TemperatureF_x\":{\"__ndarray__\":\"AAAAAAAARkAAAAAAAEBRQA==\",\"dtype\":\"float64\",\"shape\":[2]},\"Mean.TemperatureF_y\":{\"__ndarray__\":\"AAAAAACAUkAAAAAAAABUQA==\",\"dtype\":\"float64\",\"shape\":[2]},\"city_x\":[\"Cleveland (OH)\",\"Cleveland (OH)\"],\"city_y\":[\"Houston (TX)\",\"Houston (TX)\"],\"index\":[90,181]},\"selected\":null,\"selection_policy\":null},\"id\":\"1bbb7f9e-a15a-4f64-ab71-395739aa523b\",\"type\":\"ColumnDataSource\"},{\"attributes\":{},\"id\":\"e2e0ef00-4a5d-4e26-9fb1-cad3361fb03c\",\"type\":\"WheelZoomTool\"},{\"attributes\":{\"overlay\":{\"id\":\"4b64f48e-91a9-4bb8-9093-7a854ae84cf6\",\"type\":\"BoxAnnotation\"}},\"id\":\"f3dbbf5b-691a-4642-850c-f9c520eed2a1\",\"type\":\"BoxZoomTool\"},{\"attributes\":{\"plot\":null,\"text\":\"a\"},\"id\":\"19d9be12-6e2b-4882-8a49-7a9a6bd5aa05\",\"type\":\"Title\"},{\"attributes\":{},\"id\":\"d54b7f85-f18a-4dae-9f0d-bd88920970b2\",\"type\":\"LinearScale\"},{\"attributes\":{\"callback\":null},\"id\":\"67d190c5-4e20-4651-be38-14c81b52c6c5\",\"type\":\"DataRange1d\"},{\"attributes\":{},\"id\":\"8fe5f769-22bf-42e0-9d09-c953b9286a18\",\"type\":\"SaveTool\"},{\"attributes\":{\"dimension\":1,\"plot\":{\"id\":\"a780c492-00d8-4fe7-bc86-48b6282af5d4\",\"subtype\":\"Figure\",\"type\":\"Plot\"},\"ticker\":{\"id\":\"8d63f5d0-ecb0-431f-b08a-61375b97177d\",\"type\":\"BasicTicker\"}},\"id\":\"43eebf53-e468-4224-9f63-4dce8670cfe2\",\"type\":\"Grid\"},{\"attributes\":{},\"id\":\"cbdd8e44-5dff-4f39-b188-b68e4658911c\",\"type\":\"ResetTool\"},{\"attributes\":{},\"id\":\"058304c9-88f9-4eff-b356-a8606bc4a5b5\",\"type\":\"BasicTicker\"},{\"attributes\":{},\"id\":\"ec5aa5ff-0e22-4162-a024-f23abb14c7d7\",\"type\":\"HelpTool\"},{\"attributes\":{},\"id\":\"8d63f5d0-ecb0-431f-b08a-61375b97177d\",\"type\":\"BasicTicker\"},{\"attributes\":{\"data_source\":{\"id\":\"c16a2185-fee7-4f1f-a062-2cb0c156ff21\",\"type\":\"ColumnDataSource\"},\"glyph\":{\"id\":\"86390a1b-6254-4425-9e6b-311efaeb0dc2\",\"type\":\"Line\"},\"hover_glyph\":null,\"muted_glyph\":null,\"nonselection_glyph\":{\"id\":\"371998ad-3130-450f-b85a-85a88faaa695\",\"type\":\"Line\"},\"selection_glyph\":null,\"view\":{\"id\":\"6027b57a-5cc8-4399-8bbd-52e78548b73f\",\"type\":\"CDSView\"}},\"id\":\"d3bc6c6e-a316-4f24-9ece-8ef3f1923438\",\"type\":\"GlyphRenderer\"},{\"attributes\":{\"callback\":null},\"id\":\"324c0e19-e518-42a7-95f8-62b1c4ef2623\",\"type\":\"DataRange1d\"},{\"attributes\":{\"axis_label\":\"Temparature in Cleveland (C)\",\"formatter\":{\"id\":\"6b172f20-1f8c-4978-99d9-5c5dbb84ec4c\",\"type\":\"BasicTickFormatter\"},\"plot\":{\"id\":\"a780c492-00d8-4fe7-bc86-48b6282af5d4\",\"subtype\":\"Figure\",\"type\":\"Plot\"},\"ticker\":{\"id\":\"8d63f5d0-ecb0-431f-b08a-61375b97177d\",\"type\":\"BasicTicker\"}},\"id\":\"d62aec36-8323-42d0-b9d2-9a0db7975f75\",\"type\":\"LinearAxis\"},{\"attributes\":{\"line_alpha\":0.1,\"line_color\":\"#1f77b4\",\"x\":{\"field\":\"Mean.TemperatureF_x\"},\"y\":{\"field\":\"Mean.TemperatureF_y\"}},\"id\":\"371998ad-3130-450f-b85a-85a88faaa695\",\"type\":\"Line\"},{\"attributes\":{},\"id\":\"b6383519-ee39-4b2b-b2b4-8ca2bcb99beb\",\"type\":\"LinearScale\"},{\"attributes\":{\"line_color\":\"#1f77b4\",\"x\":{\"field\":\"Mean.TemperatureF_x\"},\"y\":{\"field\":\"Mean.TemperatureF_y\"}},\"id\":\"86390a1b-6254-4425-9e6b-311efaeb0dc2\",\"type\":\"Line\"},{\"attributes\":{},\"id\":\"4d5b494c-a288-437b-a0b0-bd68d415c962\",\"type\":\"LinearScale\"}],\"root_ids\":[\"7fa20b3b-6e40-4475-8f9f-bf39c26dfa90\"]},\"title\":\"Bokeh Application\",\"version\":\"0.12.15\"}};\n",
       "  var render_items = [{\"docid\":\"015a48df-1b10-4dab-9953-0272e811958b\",\"elementid\":\"d5b681d3-ffd4-4d57-b5d3-99a70a2f6867\",\"modelid\":\"7fa20b3b-6e40-4475-8f9f-bf39c26dfa90\"}];\n",
       "  root.Bokeh.embed.embed_items_notebook(docs_json, render_items);\n",
       "\n",
       "  }\n",
       "  if (root.Bokeh !== undefined) {\n",
       "    embed_document(root);\n",
       "  } else {\n",
       "    var attempts = 0;\n",
       "    var timer = setInterval(function(root) {\n",
       "      if (root.Bokeh !== undefined) {\n",
       "        embed_document(root);\n",
       "        clearInterval(timer);\n",
       "      }\n",
       "      attempts++;\n",
       "      if (attempts > 100) {\n",
       "        console.log(\"Bokeh: ERROR: Unable to run BokehJS code because BokehJS library is missing\")\n",
       "        clearInterval(timer);\n",
       "      }\n",
       "    }, 10, root)\n",
       "  }\n",
       "})(window);"
      ],
      "application/vnd.bokehjs_exec.v0+json": ""
     },
     "metadata": {
      "application/vnd.bokehjs_exec.v0+json": {
       "id": "7fa20b3b-6e40-4475-8f9f-bf39c26dfa90"
      }
     },
     "output_type": "display_data"
    }
   ],
   "source": [
    "show(tempGrid)"
   ]
  },
  {
   "cell_type": "code",
   "execution_count": 29,
   "metadata": {},
   "outputs": [],
   "source": [
    "scale_data = pd.DataFrame(data={\"data\": [1, 3.16, 10, 31.6, 100]})"
   ]
  },
  {
   "cell_type": "code",
   "execution_count": 30,
   "metadata": {},
   "outputs": [
    {
     "data": {
      "text/html": [
       "\n",
       "<div class=\"bk-root\">\n",
       "    <div class=\"bk-plotdiv\" id=\"e3e8e3c0-9df4-4bb7-af92-bf8d24148a50\"></div>\n",
       "</div>"
      ]
     },
     "metadata": {},
     "output_type": "display_data"
    },
    {
     "data": {
      "application/javascript": [
       "(function(root) {\n",
       "  function embed_document(root) {\n",
       "    \n",
       "  var docs_json = {\"158ac497-594d-4f73-86e3-0cde7b802c6b\":{\"roots\":{\"references\":[{\"attributes\":{\"callback\":null,\"end\":101},\"id\":\"86173819-10a5-44fa-a259-451fedbe6178\",\"type\":\"Range1d\"},{\"attributes\":{\"line_color\":\"#1f77b4\",\"x\":{\"field\":\"data\"},\"y\":{\"value\":0}},\"id\":\"8ac51eab-f9cf-492b-a0fb-02124aaa23d9\",\"type\":\"Line\"},{\"attributes\":{\"axis_label\":\"x\",\"formatter\":{\"id\":\"ac19acdd-06e9-449e-8fff-1175e6c531c0\",\"type\":\"BasicTickFormatter\"},\"plot\":{\"id\":\"526582bb-ce04-401f-b650-bb9f3b06d45f\",\"subtype\":\"Figure\",\"type\":\"Plot\"},\"ticker\":{\"id\":\"097ec41c-3b4d-4d00-89a0-80bc2a4d0c42\",\"type\":\"BasicTicker\"}},\"id\":\"9289190d-46e2-4cde-9aaf-04c6857d5480\",\"type\":\"LinearAxis\"},{\"attributes\":{\"formatter\":{\"id\":\"958c2afa-b139-4a45-9c3c-c4f2612a963c\",\"type\":\"BasicTickFormatter\"},\"plot\":{\"id\":\"526582bb-ce04-401f-b650-bb9f3b06d45f\",\"subtype\":\"Figure\",\"type\":\"Plot\"},\"ticker\":{\"id\":\"86411168-8670-4b71-b835-4936bbab3df2\",\"type\":\"BasicTicker\"},\"visible\":false},\"id\":\"4a9bfefd-a747-40d1-940a-ea5e991916df\",\"type\":\"LinearAxis\"},{\"attributes\":{},\"id\":\"86411168-8670-4b71-b835-4936bbab3df2\",\"type\":\"BasicTicker\"},{\"attributes\":{\"fill_alpha\":{\"value\":0.1},\"fill_color\":{\"value\":\"#1f77b4\"},\"line_alpha\":{\"value\":0.1},\"line_color\":{\"value\":\"#1f77b4\"},\"radius\":{\"units\":\"data\",\"value\":1},\"x\":{\"field\":\"data\"},\"y\":{\"value\":0}},\"id\":\"307ae67e-c4ec-46b9-b4c6-90de563ed945\",\"type\":\"Circle\"},{\"attributes\":{\"dimension\":1,\"plot\":{\"id\":\"526582bb-ce04-401f-b650-bb9f3b06d45f\",\"subtype\":\"Figure\",\"type\":\"Plot\"},\"ticker\":{\"id\":\"86411168-8670-4b71-b835-4936bbab3df2\",\"type\":\"BasicTicker\"}},\"id\":\"bcecfc07-54c9-434c-9399-1d0de7b81867\",\"type\":\"Grid\"},{\"attributes\":{\"data_source\":{\"id\":\"6a3537b5-160e-4273-87a9-1998a6cdc7a8\",\"type\":\"ColumnDataSource\"},\"glyph\":{\"id\":\"cdd7fd17-2f0d-498d-ae23-f58251fa2524\",\"type\":\"Circle\"},\"hover_glyph\":null,\"muted_glyph\":null,\"nonselection_glyph\":{\"id\":\"307ae67e-c4ec-46b9-b4c6-90de563ed945\",\"type\":\"Circle\"},\"selection_glyph\":null,\"view\":{\"id\":\"f99cff3a-37e3-44f8-a3d8-9ea2ea51cb8b\",\"type\":\"CDSView\"}},\"id\":\"f03e9929-ff78-4aae-9b6d-74e398ac3f1f\",\"type\":\"GlyphRenderer\"},{\"attributes\":{\"callback\":null,\"column_names\":[\"data\",\"index\"],\"data\":{\"data\":{\"__ndarray__\":\"AAAAAAAA8D9I4XoUrkcJQAAAAAAAACRAmpmZmZmZP0AAAAAAAABZQA==\",\"dtype\":\"float64\",\"shape\":[5]},\"index\":[0,1,2,3,4]},\"selected\":null,\"selection_policy\":null},\"id\":\"0d229664-20d5-4b7b-8b08-276ec112f83d\",\"type\":\"ColumnDataSource\"},{\"attributes\":{\"line_alpha\":0.1,\"line_color\":\"#1f77b4\",\"x\":{\"field\":\"data\"},\"y\":{\"value\":0}},\"id\":\"39ea2153-0500-4544-a4d2-8969ee2d99e5\",\"type\":\"Line\"},{\"attributes\":{\"active_drag\":\"auto\",\"active_inspect\":\"auto\",\"active_scroll\":\"auto\",\"active_tap\":\"auto\",\"tools\":[{\"id\":\"e354c863-8d57-4d9d-8c0f-2e2cfd9ee9e4\",\"type\":\"PanTool\"},{\"id\":\"30ab09f7-0c41-4d7a-bc1f-ba4fa2e708c9\",\"type\":\"WheelZoomTool\"},{\"id\":\"29b63004-8324-4029-a9d6-44bd9c4a75ac\",\"type\":\"BoxZoomTool\"},{\"id\":\"06dd0efd-6b7a-4983-9c3d-159a5ec2f8ac\",\"type\":\"SaveTool\"},{\"id\":\"110069ce-cfa7-490d-8f40-2e0cfab33956\",\"type\":\"ResetTool\"},{\"id\":\"68a74b65-8cc1-4329-80cc-12e810739f8b\",\"type\":\"HelpTool\"}]},\"id\":\"8199d353-9cae-426d-bc57-41df9278bc5e\",\"type\":\"Toolbar\"},{\"attributes\":{\"callback\":null,\"column_names\":[\"data\",\"index\"],\"data\":{\"data\":{\"__ndarray__\":\"AAAAAAAA8D9I4XoUrkcJQAAAAAAAACRAmpmZmZmZP0AAAAAAAABZQA==\",\"dtype\":\"float64\",\"shape\":[5]},\"index\":[0,1,2,3,4]},\"selected\":null,\"selection_policy\":null},\"id\":\"6a3537b5-160e-4273-87a9-1998a6cdc7a8\",\"type\":\"ColumnDataSource\"},{\"attributes\":{\"bottom_units\":\"screen\",\"fill_alpha\":{\"value\":0.5},\"fill_color\":{\"value\":\"lightgrey\"},\"left_units\":\"screen\",\"level\":\"overlay\",\"line_alpha\":{\"value\":1.0},\"line_color\":{\"value\":\"black\"},\"line_dash\":[4,4],\"line_width\":{\"value\":2},\"plot\":null,\"render_mode\":\"css\",\"right_units\":\"screen\",\"top_units\":\"screen\"},\"id\":\"519b6211-bfee-43b4-b423-b22b6f332502\",\"type\":\"BoxAnnotation\"},{\"attributes\":{\"plot\":{\"id\":\"526582bb-ce04-401f-b650-bb9f3b06d45f\",\"subtype\":\"Figure\",\"type\":\"Plot\"},\"ticker\":{\"id\":\"097ec41c-3b4d-4d00-89a0-80bc2a4d0c42\",\"type\":\"BasicTicker\"}},\"id\":\"66059cf1-73b2-47a0-9ddf-b491ce9c480f\",\"type\":\"Grid\"},{\"attributes\":{},\"id\":\"958c2afa-b139-4a45-9c3c-c4f2612a963c\",\"type\":\"BasicTickFormatter\"},{\"attributes\":{},\"id\":\"cb05a1f2-e9eb-4090-8b29-c887febbe8c7\",\"type\":\"LinearScale\"},{\"attributes\":{},\"id\":\"e354c863-8d57-4d9d-8c0f-2e2cfd9ee9e4\",\"type\":\"PanTool\"},{\"attributes\":{\"callback\":null,\"end\":0.1,\"start\":-0.1},\"id\":\"50c2024b-340e-4469-9209-00bb0766ce1f\",\"type\":\"Range1d\"},{\"attributes\":{},\"id\":\"b3c01337-d5e9-4244-926c-44a78c6588b0\",\"type\":\"LinearScale\"},{\"attributes\":{},\"id\":\"30ab09f7-0c41-4d7a-bc1f-ba4fa2e708c9\",\"type\":\"WheelZoomTool\"},{\"attributes\":{\"plot\":null,\"text\":\"Original data, linear scale\"},\"id\":\"6ffa1a83-7423-4905-aaed-a6715dc8897a\",\"type\":\"Title\"},{\"attributes\":{\"overlay\":{\"id\":\"519b6211-bfee-43b4-b423-b22b6f332502\",\"type\":\"BoxAnnotation\"}},\"id\":\"29b63004-8324-4029-a9d6-44bd9c4a75ac\",\"type\":\"BoxZoomTool\"},{\"attributes\":{},\"id\":\"06dd0efd-6b7a-4983-9c3d-159a5ec2f8ac\",\"type\":\"SaveTool\"},{\"attributes\":{},\"id\":\"110069ce-cfa7-490d-8f40-2e0cfab33956\",\"type\":\"ResetTool\"},{\"attributes\":{\"source\":{\"id\":\"6a3537b5-160e-4273-87a9-1998a6cdc7a8\",\"type\":\"ColumnDataSource\"}},\"id\":\"f99cff3a-37e3-44f8-a3d8-9ea2ea51cb8b\",\"type\":\"CDSView\"},{\"attributes\":{\"fill_color\":{\"value\":\"#1f77b4\"},\"line_color\":{\"value\":\"#1f77b4\"},\"radius\":{\"units\":\"data\",\"value\":1},\"x\":{\"field\":\"data\"},\"y\":{\"value\":0}},\"id\":\"cdd7fd17-2f0d-498d-ae23-f58251fa2524\",\"type\":\"Circle\"},{\"attributes\":{},\"id\":\"68a74b65-8cc1-4329-80cc-12e810739f8b\",\"type\":\"HelpTool\"},{\"attributes\":{\"below\":[{\"id\":\"9289190d-46e2-4cde-9aaf-04c6857d5480\",\"type\":\"LinearAxis\"}],\"left\":[{\"id\":\"4a9bfefd-a747-40d1-940a-ea5e991916df\",\"type\":\"LinearAxis\"}],\"plot_height\":100,\"plot_width\":400,\"renderers\":[{\"id\":\"9289190d-46e2-4cde-9aaf-04c6857d5480\",\"type\":\"LinearAxis\"},{\"id\":\"66059cf1-73b2-47a0-9ddf-b491ce9c480f\",\"type\":\"Grid\"},{\"id\":\"4a9bfefd-a747-40d1-940a-ea5e991916df\",\"type\":\"LinearAxis\"},{\"id\":\"bcecfc07-54c9-434c-9399-1d0de7b81867\",\"type\":\"Grid\"},{\"id\":\"519b6211-bfee-43b4-b423-b22b6f332502\",\"type\":\"BoxAnnotation\"},{\"id\":\"c71d66fa-d73a-4465-ba97-75acc98ef958\",\"type\":\"GlyphRenderer\"},{\"id\":\"f03e9929-ff78-4aae-9b6d-74e398ac3f1f\",\"type\":\"GlyphRenderer\"}],\"title\":{\"id\":\"6ffa1a83-7423-4905-aaed-a6715dc8897a\",\"type\":\"Title\"},\"toolbar\":{\"id\":\"8199d353-9cae-426d-bc57-41df9278bc5e\",\"type\":\"Toolbar\"},\"toolbar_location\":null,\"x_range\":{\"id\":\"86173819-10a5-44fa-a259-451fedbe6178\",\"type\":\"Range1d\"},\"x_scale\":{\"id\":\"b3c01337-d5e9-4244-926c-44a78c6588b0\",\"type\":\"LinearScale\"},\"y_range\":{\"id\":\"50c2024b-340e-4469-9209-00bb0766ce1f\",\"type\":\"Range1d\"},\"y_scale\":{\"id\":\"cb05a1f2-e9eb-4090-8b29-c887febbe8c7\",\"type\":\"LinearScale\"}},\"id\":\"526582bb-ce04-401f-b650-bb9f3b06d45f\",\"subtype\":\"Figure\",\"type\":\"Plot\"},{\"attributes\":{\"data_source\":{\"id\":\"0d229664-20d5-4b7b-8b08-276ec112f83d\",\"type\":\"ColumnDataSource\"},\"glyph\":{\"id\":\"8ac51eab-f9cf-492b-a0fb-02124aaa23d9\",\"type\":\"Line\"},\"hover_glyph\":null,\"muted_glyph\":null,\"nonselection_glyph\":{\"id\":\"39ea2153-0500-4544-a4d2-8969ee2d99e5\",\"type\":\"Line\"},\"selection_glyph\":null,\"view\":{\"id\":\"3e69c68f-a494-4d14-8946-394cd34e885c\",\"type\":\"CDSView\"}},\"id\":\"c71d66fa-d73a-4465-ba97-75acc98ef958\",\"type\":\"GlyphRenderer\"},{\"attributes\":{\"source\":{\"id\":\"0d229664-20d5-4b7b-8b08-276ec112f83d\",\"type\":\"ColumnDataSource\"}},\"id\":\"3e69c68f-a494-4d14-8946-394cd34e885c\",\"type\":\"CDSView\"},{\"attributes\":{},\"id\":\"097ec41c-3b4d-4d00-89a0-80bc2a4d0c42\",\"type\":\"BasicTicker\"},{\"attributes\":{},\"id\":\"ac19acdd-06e9-449e-8fff-1175e6c531c0\",\"type\":\"BasicTickFormatter\"}],\"root_ids\":[\"526582bb-ce04-401f-b650-bb9f3b06d45f\"]},\"title\":\"Bokeh Application\",\"version\":\"0.12.15\"}};\n",
       "  var render_items = [{\"docid\":\"158ac497-594d-4f73-86e3-0cde7b802c6b\",\"elementid\":\"e3e8e3c0-9df4-4bb7-af92-bf8d24148a50\",\"modelid\":\"526582bb-ce04-401f-b650-bb9f3b06d45f\"}];\n",
       "  root.Bokeh.embed.embed_items_notebook(docs_json, render_items);\n",
       "\n",
       "  }\n",
       "  if (root.Bokeh !== undefined) {\n",
       "    embed_document(root);\n",
       "  } else {\n",
       "    var attempts = 0;\n",
       "    var timer = setInterval(function(root) {\n",
       "      if (root.Bokeh !== undefined) {\n",
       "        embed_document(root);\n",
       "        clearInterval(timer);\n",
       "      }\n",
       "      attempts++;\n",
       "      if (attempts > 100) {\n",
       "        console.log(\"Bokeh: ERROR: Unable to run BokehJS code because BokehJS library is missing\")\n",
       "        clearInterval(timer);\n",
       "      }\n",
       "    }, 10, root)\n",
       "  }\n",
       "})(window);"
      ],
      "application/vnd.bokehjs_exec.v0+json": ""
     },
     "metadata": {
      "application/vnd.bokehjs_exec.v0+json": {
       "id": "526582bb-ce04-401f-b650-bb9f3b06d45f"
      }
     },
     "output_type": "display_data"
    }
   ],
   "source": [
    "fig24a = figure(plot_height=100, plot_width=400, title=\"Original data, linear scale\", x_range=Range1d(0, 101),\n",
    "               y_range=Range1d(-0.1, 0.1))\n",
    "fig24a.line(source=ColumnDataSource(scale_data), x=\"data\", y=0)\n",
    "fig24a.circle(source=ColumnDataSource(scale_data), x=\"data\", y=0, radius=1)\n",
    "fig24a.yaxis.visible = False\n",
    "fig24a.xaxis.axis_label = \"x\"\n",
    "fig24a.toolbar_location = None\n",
    "show(fig24a)"
   ]
  },
  {
   "cell_type": "code",
   "execution_count": 31,
   "metadata": {},
   "outputs": [
    {
     "data": {
      "text/html": [
       "\n",
       "<div class=\"bk-root\">\n",
       "    <div class=\"bk-plotdiv\" id=\"88b08be0-b63e-4cb2-8151-bfa69723ad0d\"></div>\n",
       "</div>"
      ]
     },
     "metadata": {},
     "output_type": "display_data"
    },
    {
     "data": {
      "application/javascript": [
       "(function(root) {\n",
       "  function embed_document(root) {\n",
       "    \n",
       "  var docs_json = {\"cfe8c6d1-f4c9-4885-9ae5-9de1b5ac61bb\":{\"roots\":{\"references\":[{\"attributes\":{\"callback\":null},\"id\":\"ed0281d0-ceed-44c6-8e69-9fadf422b63c\",\"type\":\"DataRange1d\"},{\"attributes\":{\"plot\":{\"id\":\"f2372138-13eb-4f75-9090-503a4c76ca2d\",\"subtype\":\"Figure\",\"type\":\"Plot\"},\"ticker\":{\"id\":\"2197854a-0a35-46b7-a4c4-9a33fe320539\",\"type\":\"BasicTicker\"}},\"id\":\"63812b31-7e28-471c-a513-9605062bc451\",\"type\":\"Grid\"},{\"attributes\":{},\"id\":\"23b050b5-e7bb-439f-8b49-9389b01d6300\",\"type\":\"PanTool\"},{\"attributes\":{},\"id\":\"98bcb53a-b61b-4514-99ac-33018c5e8e62\",\"type\":\"LinearScale\"},{\"attributes\":{\"data_source\":{\"id\":\"6f84d1e2-01fc-4cad-81c0-95a0f3c39417\",\"type\":\"ColumnDataSource\"},\"glyph\":{\"id\":\"b4615357-5440-49d3-8e0a-c4fd33249c43\",\"type\":\"Circle\"},\"hover_glyph\":null,\"muted_glyph\":null,\"nonselection_glyph\":{\"id\":\"40ca6dd5-8c51-4fab-a0ce-cb1c35780835\",\"type\":\"Circle\"},\"selection_glyph\":null,\"view\":{\"id\":\"ea021a6a-2a22-4c9e-92f9-86b56467d871\",\"type\":\"CDSView\"}},\"id\":\"aa932e20-fd81-4de0-806f-99618ddc0427\",\"type\":\"GlyphRenderer\"},{\"attributes\":{\"below\":[{\"id\":\"96e4dca6-ba28-4119-b1df-66a18b0e749d\",\"type\":\"LinearAxis\"}],\"left\":[{\"id\":\"84a191f4-b9cd-453e-a6b3-73002b923615\",\"type\":\"LinearAxis\"}],\"plot_height\":100,\"plot_width\":400,\"renderers\":[{\"id\":\"96e4dca6-ba28-4119-b1df-66a18b0e749d\",\"type\":\"LinearAxis\"},{\"id\":\"63812b31-7e28-471c-a513-9605062bc451\",\"type\":\"Grid\"},{\"id\":\"84a191f4-b9cd-453e-a6b3-73002b923615\",\"type\":\"LinearAxis\"},{\"id\":\"4cf875ce-4e4b-414b-b868-86da34c0e310\",\"type\":\"Grid\"},{\"id\":\"b5c4da1d-7778-480b-a1a7-b18281105881\",\"type\":\"BoxAnnotation\"},{\"id\":\"67b494c6-588b-4fc4-93bd-9109accc446d\",\"type\":\"GlyphRenderer\"},{\"id\":\"aa932e20-fd81-4de0-806f-99618ddc0427\",\"type\":\"GlyphRenderer\"}],\"title\":{\"id\":\"50e237d0-a7f2-401d-a693-c3e96d1fc4ab\",\"type\":\"Title\"},\"toolbar\":{\"id\":\"a04eaf36-4a8e-481c-854f-99c328da3af3\",\"type\":\"Toolbar\"},\"toolbar_location\":null,\"x_range\":{\"id\":\"ed0281d0-ceed-44c6-8e69-9fadf422b63c\",\"type\":\"DataRange1d\"},\"x_scale\":{\"id\":\"98bcb53a-b61b-4514-99ac-33018c5e8e62\",\"type\":\"LinearScale\"},\"y_range\":{\"id\":\"2f0db62c-4adc-43f1-ba37-76604c7230e6\",\"type\":\"Range1d\"},\"y_scale\":{\"id\":\"7199cdfe-2019-4349-8df2-ec257bd7f1ee\",\"type\":\"LinearScale\"}},\"id\":\"f2372138-13eb-4f75-9090-503a4c76ca2d\",\"subtype\":\"Figure\",\"type\":\"Plot\"},{\"attributes\":{\"callback\":null,\"column_names\":[\"data\",\"index\"],\"data\":{\"data\":{\"__ndarray__\":\"AAAAAAAAAAC3GYWH3/rfPwAAAAAAAPA/bkbh4bf+9z8AAAAAAAAAQA==\",\"dtype\":\"float64\",\"shape\":[5]},\"index\":[0,1,2,3,4]},\"selected\":null,\"selection_policy\":null},\"id\":\"4db90756-4016-4761-b77e-e3508dc22b5a\",\"type\":\"ColumnDataSource\"},{\"attributes\":{\"bottom_units\":\"screen\",\"fill_alpha\":{\"value\":0.5},\"fill_color\":{\"value\":\"lightgrey\"},\"left_units\":\"screen\",\"level\":\"overlay\",\"line_alpha\":{\"value\":1.0},\"line_color\":{\"value\":\"black\"},\"line_dash\":[4,4],\"line_width\":{\"value\":2},\"plot\":null,\"render_mode\":\"css\",\"right_units\":\"screen\",\"top_units\":\"screen\"},\"id\":\"b5c4da1d-7778-480b-a1a7-b18281105881\",\"type\":\"BoxAnnotation\"},{\"attributes\":{\"dimension\":1,\"plot\":{\"id\":\"f2372138-13eb-4f75-9090-503a4c76ca2d\",\"subtype\":\"Figure\",\"type\":\"Plot\"},\"ticker\":{\"id\":\"bd6d4b3c-1b7d-4678-91c9-828c15bb0e47\",\"type\":\"BasicTicker\"}},\"id\":\"4cf875ce-4e4b-414b-b868-86da34c0e310\",\"type\":\"Grid\"},{\"attributes\":{},\"id\":\"bd6d4b3c-1b7d-4678-91c9-828c15bb0e47\",\"type\":\"BasicTicker\"},{\"attributes\":{\"formatter\":{\"id\":\"52af0565-d9a8-4a3d-b7c9-7afa126c9515\",\"type\":\"BasicTickFormatter\"},\"plot\":{\"id\":\"f2372138-13eb-4f75-9090-503a4c76ca2d\",\"subtype\":\"Figure\",\"type\":\"Plot\"},\"ticker\":{\"id\":\"bd6d4b3c-1b7d-4678-91c9-828c15bb0e47\",\"type\":\"BasicTicker\"},\"visible\":false},\"id\":\"84a191f4-b9cd-453e-a6b3-73002b923615\",\"type\":\"LinearAxis\"},{\"attributes\":{},\"id\":\"2197854a-0a35-46b7-a4c4-9a33fe320539\",\"type\":\"BasicTicker\"},{\"attributes\":{},\"id\":\"52af0565-d9a8-4a3d-b7c9-7afa126c9515\",\"type\":\"BasicTickFormatter\"},{\"attributes\":{},\"id\":\"1bc1c9f6-59ff-49c3-b69a-f481e7f0eea5\",\"type\":\"SaveTool\"},{\"attributes\":{},\"id\":\"4653b736-e63c-4d13-9bf4-c9f0eeb0905d\",\"type\":\"HelpTool\"},{\"attributes\":{},\"id\":\"0225119b-a6d3-490b-ab80-5e7806d1cdf2\",\"type\":\"ResetTool\"},{\"attributes\":{\"data_source\":{\"id\":\"4db90756-4016-4761-b77e-e3508dc22b5a\",\"type\":\"ColumnDataSource\"},\"glyph\":{\"id\":\"e09a05d6-0187-4142-870b-4f516709ae07\",\"type\":\"Line\"},\"hover_glyph\":null,\"muted_glyph\":null,\"nonselection_glyph\":{\"id\":\"123a3574-e660-4584-a7ae-f86f19f4b7f0\",\"type\":\"Line\"},\"selection_glyph\":null,\"view\":{\"id\":\"dc9dae93-3b60-486e-9f97-c6b816047273\",\"type\":\"CDSView\"}},\"id\":\"67b494c6-588b-4fc4-93bd-9109accc446d\",\"type\":\"GlyphRenderer\"},{\"attributes\":{\"overlay\":{\"id\":\"b5c4da1d-7778-480b-a1a7-b18281105881\",\"type\":\"BoxAnnotation\"}},\"id\":\"afbdbe63-9d53-440a-855b-cbd4d6561c8f\",\"type\":\"BoxZoomTool\"},{\"attributes\":{},\"id\":\"9bcc3c89-952f-40b0-bd8e-61676536d9bf\",\"type\":\"WheelZoomTool\"},{\"attributes\":{\"source\":{\"id\":\"4db90756-4016-4761-b77e-e3508dc22b5a\",\"type\":\"ColumnDataSource\"}},\"id\":\"dc9dae93-3b60-486e-9f97-c6b816047273\",\"type\":\"CDSView\"},{\"attributes\":{\"callback\":null,\"column_names\":[\"data\",\"index\"],\"data\":{\"data\":{\"__ndarray__\":\"AAAAAAAAAAC3GYWH3/rfPwAAAAAAAPA/bkbh4bf+9z8AAAAAAAAAQA==\",\"dtype\":\"float64\",\"shape\":[5]},\"index\":[0,1,2,3,4]},\"selected\":null,\"selection_policy\":null},\"id\":\"6f84d1e2-01fc-4cad-81c0-95a0f3c39417\",\"type\":\"ColumnDataSource\"},{\"attributes\":{\"callback\":null,\"end\":0.1,\"start\":-0.1},\"id\":\"2f0db62c-4adc-43f1-ba37-76604c7230e6\",\"type\":\"Range1d\"},{\"attributes\":{\"line_alpha\":0.1,\"line_color\":\"#1f77b4\",\"x\":{\"field\":\"data\"},\"y\":{\"value\":0}},\"id\":\"123a3574-e660-4584-a7ae-f86f19f4b7f0\",\"type\":\"Line\"},{\"attributes\":{\"fill_color\":{\"value\":\"#1f77b4\"},\"line_color\":{\"value\":\"#1f77b4\"},\"x\":{\"field\":\"data\"},\"y\":{\"value\":0}},\"id\":\"b4615357-5440-49d3-8e0a-c4fd33249c43\",\"type\":\"Circle\"},{\"attributes\":{\"fill_alpha\":{\"value\":0.1},\"fill_color\":{\"value\":\"#1f77b4\"},\"line_alpha\":{\"value\":0.1},\"line_color\":{\"value\":\"#1f77b4\"},\"x\":{\"field\":\"data\"},\"y\":{\"value\":0}},\"id\":\"40ca6dd5-8c51-4fab-a0ce-cb1c35780835\",\"type\":\"Circle\"},{\"attributes\":{},\"id\":\"f9391bb9-4242-45e1-af62-276420a2f313\",\"type\":\"BasicTickFormatter\"},{\"attributes\":{\"plot\":null,\"text\":\"log transformed data, linear scale\"},\"id\":\"50e237d0-a7f2-401d-a693-c3e96d1fc4ab\",\"type\":\"Title\"},{\"attributes\":{\"source\":{\"id\":\"6f84d1e2-01fc-4cad-81c0-95a0f3c39417\",\"type\":\"ColumnDataSource\"}},\"id\":\"ea021a6a-2a22-4c9e-92f9-86b56467d871\",\"type\":\"CDSView\"},{\"attributes\":{\"line_color\":\"#1f77b4\",\"x\":{\"field\":\"data\"},\"y\":{\"value\":0}},\"id\":\"e09a05d6-0187-4142-870b-4f516709ae07\",\"type\":\"Line\"},{\"attributes\":{},\"id\":\"7199cdfe-2019-4349-8df2-ec257bd7f1ee\",\"type\":\"LinearScale\"},{\"attributes\":{\"axis_label\":\"log10(x)\",\"formatter\":{\"id\":\"f9391bb9-4242-45e1-af62-276420a2f313\",\"type\":\"BasicTickFormatter\"},\"plot\":{\"id\":\"f2372138-13eb-4f75-9090-503a4c76ca2d\",\"subtype\":\"Figure\",\"type\":\"Plot\"},\"ticker\":{\"id\":\"2197854a-0a35-46b7-a4c4-9a33fe320539\",\"type\":\"BasicTicker\"}},\"id\":\"96e4dca6-ba28-4119-b1df-66a18b0e749d\",\"type\":\"LinearAxis\"},{\"attributes\":{\"active_drag\":\"auto\",\"active_inspect\":\"auto\",\"active_scroll\":\"auto\",\"active_tap\":\"auto\",\"tools\":[{\"id\":\"23b050b5-e7bb-439f-8b49-9389b01d6300\",\"type\":\"PanTool\"},{\"id\":\"9bcc3c89-952f-40b0-bd8e-61676536d9bf\",\"type\":\"WheelZoomTool\"},{\"id\":\"afbdbe63-9d53-440a-855b-cbd4d6561c8f\",\"type\":\"BoxZoomTool\"},{\"id\":\"1bc1c9f6-59ff-49c3-b69a-f481e7f0eea5\",\"type\":\"SaveTool\"},{\"id\":\"0225119b-a6d3-490b-ab80-5e7806d1cdf2\",\"type\":\"ResetTool\"},{\"id\":\"4653b736-e63c-4d13-9bf4-c9f0eeb0905d\",\"type\":\"HelpTool\"}]},\"id\":\"a04eaf36-4a8e-481c-854f-99c328da3af3\",\"type\":\"Toolbar\"}],\"root_ids\":[\"f2372138-13eb-4f75-9090-503a4c76ca2d\"]},\"title\":\"Bokeh Application\",\"version\":\"0.12.15\"}};\n",
       "  var render_items = [{\"docid\":\"cfe8c6d1-f4c9-4885-9ae5-9de1b5ac61bb\",\"elementid\":\"88b08be0-b63e-4cb2-8151-bfa69723ad0d\",\"modelid\":\"f2372138-13eb-4f75-9090-503a4c76ca2d\"}];\n",
       "  root.Bokeh.embed.embed_items_notebook(docs_json, render_items);\n",
       "\n",
       "  }\n",
       "  if (root.Bokeh !== undefined) {\n",
       "    embed_document(root);\n",
       "  } else {\n",
       "    var attempts = 0;\n",
       "    var timer = setInterval(function(root) {\n",
       "      if (root.Bokeh !== undefined) {\n",
       "        embed_document(root);\n",
       "        clearInterval(timer);\n",
       "      }\n",
       "      attempts++;\n",
       "      if (attempts > 100) {\n",
       "        console.log(\"Bokeh: ERROR: Unable to run BokehJS code because BokehJS library is missing\")\n",
       "        clearInterval(timer);\n",
       "      }\n",
       "    }, 10, root)\n",
       "  }\n",
       "})(window);"
      ],
      "application/vnd.bokehjs_exec.v0+json": ""
     },
     "metadata": {
      "application/vnd.bokehjs_exec.v0+json": {
       "id": "f2372138-13eb-4f75-9090-503a4c76ca2d"
      }
     },
     "output_type": "display_data"
    }
   ],
   "source": [
    "fig24b = figure(plot_height=100, plot_width=400, title=\"log transformed data, linear scale\",\n",
    "               y_range=Range1d(-0.1, 0.1))\n",
    "fig24b.line(source=ColumnDataSource(np.log10(scale_data)), x=\"data\", y=0)\n",
    "fig24b.circle(source=ColumnDataSource(np.log10(scale_data)), x=\"data\", y=0)\n",
    "fig24b.yaxis.visible = False\n",
    "fig24b.xaxis.axis_label = \"log10(x)\"\n",
    "fig24b.toolbar_location = None\n",
    "show(fig24b)"
   ]
  },
  {
   "cell_type": "code",
   "execution_count": 32,
   "metadata": {},
   "outputs": [
    {
     "data": {
      "text/html": [
       "\n",
       "<div class=\"bk-root\">\n",
       "    <div class=\"bk-plotdiv\" id=\"661527bb-870a-4978-937c-7ca26937fb9e\"></div>\n",
       "</div>"
      ]
     },
     "metadata": {},
     "output_type": "display_data"
    },
    {
     "data": {
      "application/javascript": [
       "(function(root) {\n",
       "  function embed_document(root) {\n",
       "    \n",
       "  var docs_json = {\"c69a249b-4161-421a-83d0-0c44648ad327\":{\"roots\":{\"references\":[{\"attributes\":{\"plot\":{\"id\":\"64ce3c75-7a18-46f9-8c23-c8ffbcf571e1\",\"subtype\":\"Figure\",\"type\":\"Plot\"},\"source\":{\"id\":\"32732dcf-d7be-4adc-a544-3e00f052f40d\",\"type\":\"ColumnDataSource\"},\"text\":{\"field\":\"data\"},\"x\":{\"field\":\"data\"},\"y\":{\"value\":0},\"y_offset\":{\"value\":-20}},\"id\":\"993d5939-b2c6-457b-a914-d3acb76ec042\",\"type\":\"LabelSet\"},{\"attributes\":{},\"id\":\"1c37d345-bd83-43e9-a7d9-bd787c81f832\",\"type\":\"LogScale\"},{\"attributes\":{\"line_alpha\":0.1,\"line_color\":\"#1f77b4\",\"x\":{\"field\":\"data\"},\"y\":{\"value\":0}},\"id\":\"748c890d-893d-4b8f-8c83-9ea86e5e37e3\",\"type\":\"Line\"},{\"attributes\":{\"data_source\":{\"id\":\"90e3aba0-7643-45c4-ac07-9df8004e4eb7\",\"type\":\"ColumnDataSource\"},\"glyph\":{\"id\":\"1e94a769-b119-4515-8739-b066c2a201c3\",\"type\":\"Circle\"},\"hover_glyph\":null,\"muted_glyph\":null,\"nonselection_glyph\":{\"id\":\"56cbb78d-b22b-445d-b9c0-a1c33efeeb44\",\"type\":\"Circle\"},\"selection_glyph\":null,\"view\":{\"id\":\"25fcec25-bf49-4558-b4c7-5ef73aa5aea6\",\"type\":\"CDSView\"}},\"id\":\"b45a8b7a-083a-4313-a3b6-dfd042c4e2cd\",\"type\":\"GlyphRenderer\"},{\"attributes\":{\"plot\":{\"id\":\"64ce3c75-7a18-46f9-8c23-c8ffbcf571e1\",\"subtype\":\"Figure\",\"type\":\"Plot\"},\"ticker\":{\"id\":\"7d2109c1-c46a-4a43-8421-0bfa975bc892\",\"type\":\"LogTicker\"}},\"id\":\"0643a7c9-cc03-41ce-9a63-26ce70cb5566\",\"type\":\"Grid\"},{\"attributes\":{\"below\":[{\"id\":\"6b2c88d4-f77c-479c-bdf7-6987520fef5c\",\"type\":\"LogAxis\"}],\"left\":[{\"id\":\"8cfde603-efab-4ba3-bf3e-0457ade02d02\",\"type\":\"LinearAxis\"}],\"plot_height\":100,\"plot_width\":400,\"renderers\":[{\"id\":\"6b2c88d4-f77c-479c-bdf7-6987520fef5c\",\"type\":\"LogAxis\"},{\"id\":\"0643a7c9-cc03-41ce-9a63-26ce70cb5566\",\"type\":\"Grid\"},{\"id\":\"8cfde603-efab-4ba3-bf3e-0457ade02d02\",\"type\":\"LinearAxis\"},{\"id\":\"babb9284-038d-4048-b92e-be069e85ad50\",\"type\":\"Grid\"},{\"id\":\"25e345e8-60c3-4621-9709-9029004efa28\",\"type\":\"BoxAnnotation\"},{\"id\":\"d10087e0-0d0d-4ba0-a4d2-c3287705d240\",\"type\":\"GlyphRenderer\"},{\"id\":\"b45a8b7a-083a-4313-a3b6-dfd042c4e2cd\",\"type\":\"GlyphRenderer\"},{\"id\":\"993d5939-b2c6-457b-a914-d3acb76ec042\",\"type\":\"LabelSet\"}],\"title\":{\"id\":\"9e7b2f58-fac7-4e11-821e-cb57a296ebed\",\"type\":\"Title\"},\"toolbar\":{\"id\":\"3c0fa7b5-bf33-4853-8a23-649f959ed0c8\",\"type\":\"Toolbar\"},\"toolbar_location\":null,\"x_range\":{\"id\":\"2f36be51-9372-4301-9259-b6a6b147ba1c\",\"type\":\"DataRange1d\"},\"x_scale\":{\"id\":\"1c37d345-bd83-43e9-a7d9-bd787c81f832\",\"type\":\"LogScale\"},\"y_range\":{\"id\":\"603f7750-b088-444b-aa27-0dbbb3561d5e\",\"type\":\"Range1d\"},\"y_scale\":{\"id\":\"5369e595-3660-41fc-936d-0dcb0158177c\",\"type\":\"LinearScale\"}},\"id\":\"64ce3c75-7a18-46f9-8c23-c8ffbcf571e1\",\"subtype\":\"Figure\",\"type\":\"Plot\"},{\"attributes\":{\"plot\":null,\"text\":\"Original data, log scale\"},\"id\":\"9e7b2f58-fac7-4e11-821e-cb57a296ebed\",\"type\":\"Title\"},{\"attributes\":{\"num_minor_ticks\":10},\"id\":\"7d2109c1-c46a-4a43-8421-0bfa975bc892\",\"type\":\"LogTicker\"},{\"attributes\":{\"active_drag\":\"auto\",\"active_inspect\":\"auto\",\"active_scroll\":\"auto\",\"active_tap\":\"auto\",\"tools\":[{\"id\":\"2245eb38-cbdd-475c-867c-420361990abc\",\"type\":\"PanTool\"},{\"id\":\"bb311f5f-2101-4490-8640-b10f192937c1\",\"type\":\"WheelZoomTool\"},{\"id\":\"6ae7a80a-378a-42d0-a6b2-39e935f45486\",\"type\":\"BoxZoomTool\"},{\"id\":\"5886d979-bcbb-4af2-bd56-13f20858f0ce\",\"type\":\"SaveTool\"},{\"id\":\"f2fee8e1-f24a-492e-a786-05251ce389b1\",\"type\":\"ResetTool\"},{\"id\":\"88aa466b-facd-4ae3-b0ce-cb05c272c7e0\",\"type\":\"HelpTool\"}]},\"id\":\"3c0fa7b5-bf33-4853-8a23-649f959ed0c8\",\"type\":\"Toolbar\"},{\"attributes\":{},\"id\":\"5369e595-3660-41fc-936d-0dcb0158177c\",\"type\":\"LinearScale\"},{\"attributes\":{\"axis_label\":\"x\",\"formatter\":{\"id\":\"b7dc3c8a-ce10-4459-b7bc-7f4206cf41fa\",\"type\":\"LogTickFormatter\"},\"plot\":{\"id\":\"64ce3c75-7a18-46f9-8c23-c8ffbcf571e1\",\"subtype\":\"Figure\",\"type\":\"Plot\"},\"ticker\":{\"id\":\"7d2109c1-c46a-4a43-8421-0bfa975bc892\",\"type\":\"LogTicker\"},\"visible\":false},\"id\":\"6b2c88d4-f77c-479c-bdf7-6987520fef5c\",\"type\":\"LogAxis\"},{\"attributes\":{\"formatter\":{\"id\":\"df26d1ab-dfba-4bd9-a21c-16e29e24a54c\",\"type\":\"BasicTickFormatter\"},\"plot\":{\"id\":\"64ce3c75-7a18-46f9-8c23-c8ffbcf571e1\",\"subtype\":\"Figure\",\"type\":\"Plot\"},\"ticker\":{\"id\":\"12ee0c50-1d5b-4679-a213-8ff688159f5e\",\"type\":\"BasicTicker\"},\"visible\":false},\"id\":\"8cfde603-efab-4ba3-bf3e-0457ade02d02\",\"type\":\"LinearAxis\"},{\"attributes\":{},\"id\":\"12ee0c50-1d5b-4679-a213-8ff688159f5e\",\"type\":\"BasicTicker\"},{\"attributes\":{\"dimension\":1,\"plot\":{\"id\":\"64ce3c75-7a18-46f9-8c23-c8ffbcf571e1\",\"subtype\":\"Figure\",\"type\":\"Plot\"},\"ticker\":{\"id\":\"12ee0c50-1d5b-4679-a213-8ff688159f5e\",\"type\":\"BasicTicker\"}},\"id\":\"babb9284-038d-4048-b92e-be069e85ad50\",\"type\":\"Grid\"},{\"attributes\":{\"callback\":null},\"id\":\"2f36be51-9372-4301-9259-b6a6b147ba1c\",\"type\":\"DataRange1d\"},{\"attributes\":{\"line_color\":\"#1f77b4\",\"x\":{\"field\":\"data\"},\"y\":{\"value\":0}},\"id\":\"180afe72-2a43-476c-90f4-f4118dc661a1\",\"type\":\"Line\"},{\"attributes\":{\"fill_color\":{\"value\":\"#1f77b4\"},\"line_color\":{\"value\":\"#1f77b4\"},\"x\":{\"field\":\"data\"},\"y\":{\"value\":0}},\"id\":\"1e94a769-b119-4515-8739-b066c2a201c3\",\"type\":\"Circle\"},{\"attributes\":{\"callback\":null,\"column_names\":[\"data\",\"index\"],\"data\":{\"data\":{\"__ndarray__\":\"AAAAAAAA8D9I4XoUrkcJQAAAAAAAACRAmpmZmZmZP0AAAAAAAABZQA==\",\"dtype\":\"float64\",\"shape\":[5]},\"index\":[0,1,2,3,4]},\"selected\":null,\"selection_policy\":null},\"id\":\"32732dcf-d7be-4adc-a544-3e00f052f40d\",\"type\":\"ColumnDataSource\"},{\"attributes\":{\"callback\":null,\"column_names\":[\"data\",\"index\"],\"data\":{\"data\":{\"__ndarray__\":\"AAAAAAAA8D9I4XoUrkcJQAAAAAAAACRAmpmZmZmZP0AAAAAAAABZQA==\",\"dtype\":\"float64\",\"shape\":[5]},\"index\":[0,1,2,3,4]},\"selected\":null,\"selection_policy\":null},\"id\":\"90e3aba0-7643-45c4-ac07-9df8004e4eb7\",\"type\":\"ColumnDataSource\"},{\"attributes\":{\"bottom_units\":\"screen\",\"fill_alpha\":{\"value\":0.5},\"fill_color\":{\"value\":\"lightgrey\"},\"left_units\":\"screen\",\"level\":\"overlay\",\"line_alpha\":{\"value\":1.0},\"line_color\":{\"value\":\"black\"},\"line_dash\":[4,4],\"line_width\":{\"value\":2},\"plot\":null,\"render_mode\":\"css\",\"right_units\":\"screen\",\"top_units\":\"screen\"},\"id\":\"25e345e8-60c3-4621-9709-9029004efa28\",\"type\":\"BoxAnnotation\"},{\"attributes\":{},\"id\":\"2245eb38-cbdd-475c-867c-420361990abc\",\"type\":\"PanTool\"},{\"attributes\":{},\"id\":\"bb311f5f-2101-4490-8640-b10f192937c1\",\"type\":\"WheelZoomTool\"},{\"attributes\":{\"overlay\":{\"id\":\"25e345e8-60c3-4621-9709-9029004efa28\",\"type\":\"BoxAnnotation\"}},\"id\":\"6ae7a80a-378a-42d0-a6b2-39e935f45486\",\"type\":\"BoxZoomTool\"},{\"attributes\":{},\"id\":\"5886d979-bcbb-4af2-bd56-13f20858f0ce\",\"type\":\"SaveTool\"},{\"attributes\":{},\"id\":\"f2fee8e1-f24a-492e-a786-05251ce389b1\",\"type\":\"ResetTool\"},{\"attributes\":{\"callback\":null,\"end\":0.1,\"start\":-0.1},\"id\":\"603f7750-b088-444b-aa27-0dbbb3561d5e\",\"type\":\"Range1d\"},{\"attributes\":{},\"id\":\"88aa466b-facd-4ae3-b0ce-cb05c272c7e0\",\"type\":\"HelpTool\"},{\"attributes\":{},\"id\":\"df26d1ab-dfba-4bd9-a21c-16e29e24a54c\",\"type\":\"BasicTickFormatter\"},{\"attributes\":{\"data_source\":{\"id\":\"c09d7716-6952-41b1-bfe7-76c8c344453b\",\"type\":\"ColumnDataSource\"},\"glyph\":{\"id\":\"180afe72-2a43-476c-90f4-f4118dc661a1\",\"type\":\"Line\"},\"hover_glyph\":null,\"muted_glyph\":null,\"nonselection_glyph\":{\"id\":\"748c890d-893d-4b8f-8c83-9ea86e5e37e3\",\"type\":\"Line\"},\"selection_glyph\":null,\"view\":{\"id\":\"dd585d2b-1636-4b26-81ba-8f5473cc8523\",\"type\":\"CDSView\"}},\"id\":\"d10087e0-0d0d-4ba0-a4d2-c3287705d240\",\"type\":\"GlyphRenderer\"},{\"attributes\":{\"callback\":null,\"column_names\":[\"data\",\"index\"],\"data\":{\"data\":{\"__ndarray__\":\"AAAAAAAA8D9I4XoUrkcJQAAAAAAAACRAmpmZmZmZP0AAAAAAAABZQA==\",\"dtype\":\"float64\",\"shape\":[5]},\"index\":[0,1,2,3,4]},\"selected\":null,\"selection_policy\":null},\"id\":\"c09d7716-6952-41b1-bfe7-76c8c344453b\",\"type\":\"ColumnDataSource\"},{\"attributes\":{\"source\":{\"id\":\"90e3aba0-7643-45c4-ac07-9df8004e4eb7\",\"type\":\"ColumnDataSource\"}},\"id\":\"25fcec25-bf49-4558-b4c7-5ef73aa5aea6\",\"type\":\"CDSView\"},{\"attributes\":{\"source\":{\"id\":\"c09d7716-6952-41b1-bfe7-76c8c344453b\",\"type\":\"ColumnDataSource\"}},\"id\":\"dd585d2b-1636-4b26-81ba-8f5473cc8523\",\"type\":\"CDSView\"},{\"attributes\":{\"ticker\":null},\"id\":\"b7dc3c8a-ce10-4459-b7bc-7f4206cf41fa\",\"type\":\"LogTickFormatter\"},{\"attributes\":{\"fill_alpha\":{\"value\":0.1},\"fill_color\":{\"value\":\"#1f77b4\"},\"line_alpha\":{\"value\":0.1},\"line_color\":{\"value\":\"#1f77b4\"},\"x\":{\"field\":\"data\"},\"y\":{\"value\":0}},\"id\":\"56cbb78d-b22b-445d-b9c0-a1c33efeeb44\",\"type\":\"Circle\"}],\"root_ids\":[\"64ce3c75-7a18-46f9-8c23-c8ffbcf571e1\"]},\"title\":\"Bokeh Application\",\"version\":\"0.12.15\"}};\n",
       "  var render_items = [{\"docid\":\"c69a249b-4161-421a-83d0-0c44648ad327\",\"elementid\":\"661527bb-870a-4978-937c-7ca26937fb9e\",\"modelid\":\"64ce3c75-7a18-46f9-8c23-c8ffbcf571e1\"}];\n",
       "  root.Bokeh.embed.embed_items_notebook(docs_json, render_items);\n",
       "\n",
       "  }\n",
       "  if (root.Bokeh !== undefined) {\n",
       "    embed_document(root);\n",
       "  } else {\n",
       "    var attempts = 0;\n",
       "    var timer = setInterval(function(root) {\n",
       "      if (root.Bokeh !== undefined) {\n",
       "        embed_document(root);\n",
       "        clearInterval(timer);\n",
       "      }\n",
       "      attempts++;\n",
       "      if (attempts > 100) {\n",
       "        console.log(\"Bokeh: ERROR: Unable to run BokehJS code because BokehJS library is missing\")\n",
       "        clearInterval(timer);\n",
       "      }\n",
       "    }, 10, root)\n",
       "  }\n",
       "})(window);"
      ],
      "application/vnd.bokehjs_exec.v0+json": ""
     },
     "metadata": {
      "application/vnd.bokehjs_exec.v0+json": {
       "id": "64ce3c75-7a18-46f9-8c23-c8ffbcf571e1"
      }
     },
     "output_type": "display_data"
    }
   ],
   "source": [
    "fig24c = figure(plot_height=100, plot_width=400, title=\"Original data, log scale\",\n",
    "               y_range=Range1d(-0.1, 0.1), x_axis_type=\"log\")\n",
    "fig24c.line(source=ColumnDataSource(scale_data), x=\"data\", y=0)\n",
    "fig24c.circle(source=ColumnDataSource(scale_data), x=\"data\", y=0)\n",
    "fig24c.add_layout(LabelSet(source=ColumnDataSource(scale_data), x=\"data\", y=0, text=\"data\", \n",
    "                           y_offset=-20))\n",
    "fig24c.axis.visible = False\n",
    "fig24c.toolbar_location = None\n",
    "fig24c.xaxis.axis_label = \"x\"\n",
    "show(fig24c)"
   ]
  },
  {
   "cell_type": "code",
   "execution_count": 33,
   "metadata": {},
   "outputs": [
    {
     "data": {
      "text/html": [
       "\n",
       "<div class=\"bk-root\">\n",
       "    <div class=\"bk-plotdiv\" id=\"74304bba-6b79-4da0-b865-0970835c5400\"></div>\n",
       "</div>"
      ]
     },
     "metadata": {},
     "output_type": "display_data"
    },
    {
     "data": {
      "application/javascript": [
       "(function(root) {\n",
       "  function embed_document(root) {\n",
       "    \n",
       "  var docs_json = {\"973bc619-1865-43a2-9e20-94939e836627\":{\"roots\":{\"references\":[{\"attributes\":{\"fill_color\":{\"value\":\"#1f77b4\"},\"line_color\":{\"value\":\"#1f77b4\"},\"x\":{\"field\":\"data\"},\"y\":{\"value\":0}},\"id\":\"48ddde28-4a59-4a44-96b2-e30dec5abda7\",\"type\":\"Circle\"},{\"attributes\":{\"num_minor_ticks\":10},\"id\":\"846230e5-ba5e-482c-ae3a-029a8cab2839\",\"type\":\"LogTicker\"},{\"attributes\":{\"dimension\":1,\"plot\":{\"id\":\"0f907993-67f0-4e61-9f50-f41e52b08a26\",\"subtype\":\"Figure\",\"type\":\"Plot\"},\"ticker\":{\"id\":\"bc4d6f49-7910-4953-8a64-c551d86e537c\",\"type\":\"BasicTicker\"}},\"id\":\"b90fdb63-8cd9-461c-9f5c-1ad5d86ed759\",\"type\":\"Grid\"},{\"attributes\":{\"line_alpha\":0.1,\"line_color\":\"#1f77b4\",\"x\":{\"field\":\"data\"},\"y\":{\"value\":0}},\"id\":\"52930660-c52d-4105-936d-7f56dbed385c\",\"type\":\"Line\"},{\"attributes\":{\"callback\":null,\"column_names\":[\"data\",\"index\"],\"data\":{\"data\":{\"__ndarray__\":\"AAAAAAAA8D9I4XoUrkcJQAAAAAAAACRAmpmZmZmZP0AAAAAAAABZQA==\",\"dtype\":\"float64\",\"shape\":[5]},\"index\":[0,1,2,3,4]},\"selected\":null,\"selection_policy\":null},\"id\":\"d32bd052-7191-4377-8ca4-aaab2a81aa6d\",\"type\":\"ColumnDataSource\"},{\"attributes\":{\"data_source\":{\"id\":\"59ded548-8dbe-4804-bdd1-4434f4c9cd84\",\"type\":\"ColumnDataSource\"},\"glyph\":{\"id\":\"3ff0c489-0f23-41c8-a86e-8f25a6f05e05\",\"type\":\"Line\"},\"hover_glyph\":null,\"muted_glyph\":null,\"nonselection_glyph\":{\"id\":\"52930660-c52d-4105-936d-7f56dbed385c\",\"type\":\"Line\"},\"selection_glyph\":null,\"view\":{\"id\":\"2b453ad8-64a6-4db3-9eec-bb347f4aedb3\",\"type\":\"CDSView\"}},\"id\":\"2a72f525-0c91-414a-997b-99ccf3820587\",\"type\":\"GlyphRenderer\"},{\"attributes\":{\"callback\":null,\"column_names\":[\"data\",\"index\"],\"data\":{\"data\":{\"__ndarray__\":\"AAAAAAAA8D9I4XoUrkcJQAAAAAAAACRAmpmZmZmZP0AAAAAAAABZQA==\",\"dtype\":\"float64\",\"shape\":[5]},\"index\":[0,1,2,3,4]},\"selected\":null,\"selection_policy\":null},\"id\":\"59ded548-8dbe-4804-bdd1-4434f4c9cd84\",\"type\":\"ColumnDataSource\"},{\"attributes\":{\"bottom_units\":\"screen\",\"fill_alpha\":{\"value\":0.5},\"fill_color\":{\"value\":\"lightgrey\"},\"left_units\":\"screen\",\"level\":\"overlay\",\"line_alpha\":{\"value\":1.0},\"line_color\":{\"value\":\"black\"},\"line_dash\":[4,4],\"line_width\":{\"value\":2},\"plot\":null,\"render_mode\":\"css\",\"right_units\":\"screen\",\"top_units\":\"screen\"},\"id\":\"0cfd81a5-e1d1-4167-8b5a-951e6e157ea5\",\"type\":\"BoxAnnotation\"},{\"attributes\":{\"below\":[{\"id\":\"7a66e190-e00c-4e10-a0c4-c3132b7ebafe\",\"type\":\"LogAxis\"}],\"left\":[{\"id\":\"35da71d3-2af7-4cff-bd09-a2ea5259e7b4\",\"type\":\"LinearAxis\"}],\"plot_height\":100,\"plot_width\":400,\"renderers\":[{\"id\":\"7a66e190-e00c-4e10-a0c4-c3132b7ebafe\",\"type\":\"LogAxis\"},{\"id\":\"3d92a50c-a32c-4342-a092-92151c04fabc\",\"type\":\"Grid\"},{\"id\":\"35da71d3-2af7-4cff-bd09-a2ea5259e7b4\",\"type\":\"LinearAxis\"},{\"id\":\"b90fdb63-8cd9-461c-9f5c-1ad5d86ed759\",\"type\":\"Grid\"},{\"id\":\"0cfd81a5-e1d1-4167-8b5a-951e6e157ea5\",\"type\":\"BoxAnnotation\"},{\"id\":\"2a72f525-0c91-414a-997b-99ccf3820587\",\"type\":\"GlyphRenderer\"},{\"id\":\"1efcbf0e-15d2-49cd-8c82-8bb5b5a042bc\",\"type\":\"GlyphRenderer\"},{\"id\":\"7fe2e1d9-ce85-4d2f-bcd2-e3052a1d06c8\",\"type\":\"LabelSet\"}],\"title\":{\"id\":\"e912afee-45ab-41c8-8969-2c9303904b71\",\"type\":\"Title\"},\"toolbar\":{\"id\":\"a61671c8-b7dd-4517-aca3-5cd034481cb5\",\"type\":\"Toolbar\"},\"toolbar_location\":null,\"x_range\":{\"id\":\"eac52359-0ac8-4250-86ad-e252828c70ac\",\"type\":\"DataRange1d\"},\"x_scale\":{\"id\":\"21ecade9-76ee-4d89-b7ee-aa005b369e4b\",\"type\":\"LogScale\"},\"y_range\":{\"id\":\"df8e32a7-8f95-4aa7-984f-87d76d306831\",\"type\":\"Range1d\"},\"y_scale\":{\"id\":\"55ac58f9-200f-4ace-86a9-ee71529cd5ef\",\"type\":\"LinearScale\"}},\"id\":\"0f907993-67f0-4e61-9f50-f41e52b08a26\",\"subtype\":\"Figure\",\"type\":\"Plot\"},{\"attributes\":{},\"id\":\"53953493-2c82-415e-a62b-caff14207d41\",\"type\":\"PanTool\"},{\"attributes\":{\"data_source\":{\"id\":\"d32bd052-7191-4377-8ca4-aaab2a81aa6d\",\"type\":\"ColumnDataSource\"},\"glyph\":{\"id\":\"48ddde28-4a59-4a44-96b2-e30dec5abda7\",\"type\":\"Circle\"},\"hover_glyph\":null,\"muted_glyph\":null,\"nonselection_glyph\":{\"id\":\"f38460e5-88d0-4639-8668-03966c53a629\",\"type\":\"Circle\"},\"selection_glyph\":null,\"view\":{\"id\":\"95dabea3-40d8-479d-a497-1a5b946180f5\",\"type\":\"CDSView\"}},\"id\":\"1efcbf0e-15d2-49cd-8c82-8bb5b5a042bc\",\"type\":\"GlyphRenderer\"},{\"attributes\":{\"plot\":{\"id\":\"0f907993-67f0-4e61-9f50-f41e52b08a26\",\"subtype\":\"Figure\",\"type\":\"Plot\"},\"source\":{\"id\":\"996e6ed0-f8e8-4ef0-b5be-4d51af238fe9\",\"type\":\"ColumnDataSource\"},\"text\":{\"field\":\"data\"},\"x\":{\"field\":\"data\"},\"y\":{\"value\":0},\"y_offset\":{\"value\":-20}},\"id\":\"7fe2e1d9-ce85-4d2f-bcd2-e3052a1d06c8\",\"type\":\"LabelSet\"},{\"attributes\":{},\"id\":\"a06c8fb5-3966-432d-9d98-d3499bf64aa4\",\"type\":\"HelpTool\"},{\"attributes\":{},\"id\":\"e7aa0f2c-8e1f-473e-87dc-3a4b582dfb69\",\"type\":\"WheelZoomTool\"},{\"attributes\":{\"callback\":null,\"column_names\":[\"data\",\"index\"],\"data\":{\"data\":{\"__ndarray__\":\"AAAAAAAA8D9I4XoUrkcJQAAAAAAAACRAmpmZmZmZP0AAAAAAAABZQA==\",\"dtype\":\"float64\",\"shape\":[5]},\"index\":[0,1,2,3,4]},\"selected\":null,\"selection_policy\":null},\"id\":\"996e6ed0-f8e8-4ef0-b5be-4d51af238fe9\",\"type\":\"ColumnDataSource\"},{\"attributes\":{},\"id\":\"320a8862-19ed-4b80-9f0b-f114d25e7823\",\"type\":\"SaveTool\"},{\"attributes\":{\"callback\":null,\"end\":0.1,\"start\":-0.5},\"id\":\"df8e32a7-8f95-4aa7-984f-87d76d306831\",\"type\":\"Range1d\"},{\"attributes\":{\"ticker\":null},\"id\":\"f049135e-168a-4a78-92cb-d8cc150acfa0\",\"type\":\"LogTickFormatter\"},{\"attributes\":{},\"id\":\"40e5db51-ec0e-4756-a84a-393d6abb310b\",\"type\":\"BasicTickFormatter\"},{\"attributes\":{\"source\":{\"id\":\"59ded548-8dbe-4804-bdd1-4434f4c9cd84\",\"type\":\"ColumnDataSource\"}},\"id\":\"2b453ad8-64a6-4db3-9eec-bb347f4aedb3\",\"type\":\"CDSView\"},{\"attributes\":{\"line_color\":\"#1f77b4\",\"x\":{\"field\":\"data\"},\"y\":{\"value\":0}},\"id\":\"3ff0c489-0f23-41c8-a86e-8f25a6f05e05\",\"type\":\"Line\"},{\"attributes\":{},\"id\":\"21ecade9-76ee-4d89-b7ee-aa005b369e4b\",\"type\":\"LogScale\"},{\"attributes\":{\"axis_label\":\"log10(x)\",\"formatter\":{\"id\":\"f049135e-168a-4a78-92cb-d8cc150acfa0\",\"type\":\"LogTickFormatter\"},\"plot\":{\"id\":\"0f907993-67f0-4e61-9f50-f41e52b08a26\",\"subtype\":\"Figure\",\"type\":\"Plot\"},\"ticker\":{\"id\":\"846230e5-ba5e-482c-ae3a-029a8cab2839\",\"type\":\"LogTicker\"}},\"id\":\"7a66e190-e00c-4e10-a0c4-c3132b7ebafe\",\"type\":\"LogAxis\"},{\"attributes\":{\"fill_alpha\":{\"value\":0.1},\"fill_color\":{\"value\":\"#1f77b4\"},\"line_alpha\":{\"value\":0.1},\"line_color\":{\"value\":\"#1f77b4\"},\"x\":{\"field\":\"data\"},\"y\":{\"value\":0}},\"id\":\"f38460e5-88d0-4639-8668-03966c53a629\",\"type\":\"Circle\"},{\"attributes\":{\"formatter\":{\"id\":\"40e5db51-ec0e-4756-a84a-393d6abb310b\",\"type\":\"BasicTickFormatter\"},\"plot\":{\"id\":\"0f907993-67f0-4e61-9f50-f41e52b08a26\",\"subtype\":\"Figure\",\"type\":\"Plot\"},\"ticker\":{\"id\":\"bc4d6f49-7910-4953-8a64-c551d86e537c\",\"type\":\"BasicTicker\"},\"visible\":false},\"id\":\"35da71d3-2af7-4cff-bd09-a2ea5259e7b4\",\"type\":\"LinearAxis\"},{\"attributes\":{\"source\":{\"id\":\"d32bd052-7191-4377-8ca4-aaab2a81aa6d\",\"type\":\"ColumnDataSource\"}},\"id\":\"95dabea3-40d8-479d-a497-1a5b946180f5\",\"type\":\"CDSView\"},{\"attributes\":{},\"id\":\"55ac58f9-200f-4ace-86a9-ee71529cd5ef\",\"type\":\"LinearScale\"},{\"attributes\":{\"plot\":{\"id\":\"0f907993-67f0-4e61-9f50-f41e52b08a26\",\"subtype\":\"Figure\",\"type\":\"Plot\"},\"ticker\":{\"id\":\"846230e5-ba5e-482c-ae3a-029a8cab2839\",\"type\":\"LogTicker\"}},\"id\":\"3d92a50c-a32c-4342-a092-92151c04fabc\",\"type\":\"Grid\"},{\"attributes\":{\"active_drag\":\"auto\",\"active_inspect\":\"auto\",\"active_scroll\":\"auto\",\"active_tap\":\"auto\",\"tools\":[{\"id\":\"53953493-2c82-415e-a62b-caff14207d41\",\"type\":\"PanTool\"},{\"id\":\"e7aa0f2c-8e1f-473e-87dc-3a4b582dfb69\",\"type\":\"WheelZoomTool\"},{\"id\":\"c5646bce-fe80-42bd-aded-5a3a680f2f12\",\"type\":\"BoxZoomTool\"},{\"id\":\"320a8862-19ed-4b80-9f0b-f114d25e7823\",\"type\":\"SaveTool\"},{\"id\":\"88a0176c-3937-4221-a6be-47e4f304b21a\",\"type\":\"ResetTool\"},{\"id\":\"a06c8fb5-3966-432d-9d98-d3499bf64aa4\",\"type\":\"HelpTool\"}]},\"id\":\"a61671c8-b7dd-4517-aca3-5cd034481cb5\",\"type\":\"Toolbar\"},{\"attributes\":{},\"id\":\"88a0176c-3937-4221-a6be-47e4f304b21a\",\"type\":\"ResetTool\"},{\"attributes\":{\"plot\":null,\"text\":\"log scale with incorrect axis title\"},\"id\":\"e912afee-45ab-41c8-8969-2c9303904b71\",\"type\":\"Title\"},{\"attributes\":{\"callback\":null},\"id\":\"eac52359-0ac8-4250-86ad-e252828c70ac\",\"type\":\"DataRange1d\"},{\"attributes\":{\"overlay\":{\"id\":\"0cfd81a5-e1d1-4167-8b5a-951e6e157ea5\",\"type\":\"BoxAnnotation\"}},\"id\":\"c5646bce-fe80-42bd-aded-5a3a680f2f12\",\"type\":\"BoxZoomTool\"},{\"attributes\":{},\"id\":\"bc4d6f49-7910-4953-8a64-c551d86e537c\",\"type\":\"BasicTicker\"}],\"root_ids\":[\"0f907993-67f0-4e61-9f50-f41e52b08a26\"]},\"title\":\"Bokeh Application\",\"version\":\"0.12.15\"}};\n",
       "  var render_items = [{\"docid\":\"973bc619-1865-43a2-9e20-94939e836627\",\"elementid\":\"74304bba-6b79-4da0-b865-0970835c5400\",\"modelid\":\"0f907993-67f0-4e61-9f50-f41e52b08a26\"}];\n",
       "  root.Bokeh.embed.embed_items_notebook(docs_json, render_items);\n",
       "\n",
       "  }\n",
       "  if (root.Bokeh !== undefined) {\n",
       "    embed_document(root);\n",
       "  } else {\n",
       "    var attempts = 0;\n",
       "    var timer = setInterval(function(root) {\n",
       "      if (root.Bokeh !== undefined) {\n",
       "        embed_document(root);\n",
       "        clearInterval(timer);\n",
       "      }\n",
       "      attempts++;\n",
       "      if (attempts > 100) {\n",
       "        console.log(\"Bokeh: ERROR: Unable to run BokehJS code because BokehJS library is missing\")\n",
       "        clearInterval(timer);\n",
       "      }\n",
       "    }, 10, root)\n",
       "  }\n",
       "})(window);"
      ],
      "application/vnd.bokehjs_exec.v0+json": ""
     },
     "metadata": {
      "application/vnd.bokehjs_exec.v0+json": {
       "id": "0f907993-67f0-4e61-9f50-f41e52b08a26"
      }
     },
     "output_type": "display_data"
    }
   ],
   "source": [
    "fig24d = figure(plot_height=100, plot_width=400, title=\"log scale with incorrect axis title\",\n",
    "               y_range=Range1d(-0.5, 0.1), x_axis_type=\"log\")\n",
    "fig24d.line(source=ColumnDataSource(scale_data), x=\"data\", y=0)\n",
    "fig24d.circle(source=ColumnDataSource(scale_data), x=\"data\", y=0)\n",
    "fig24d.add_layout(LabelSet(source=ColumnDataSource(scale_data), x=\"data\", y=0, text=\"data\", \n",
    "                           y_offset=-20))\n",
    "fig24d.yaxis.visible = False\n",
    "fig24d.toolbar_location = None\n",
    "fig24d.xaxis.axis_label = \"log10(x)\"\n",
    "show(fig24d)"
   ]
  },
  {
   "cell_type": "code",
   "execution_count": 34,
   "metadata": {},
   "outputs": [],
   "source": [
    "fig24 = column(fig24a, fig24b, fig24c, fig24d)"
   ]
  },
  {
   "cell_type": "code",
   "execution_count": 35,
   "metadata": {},
   "outputs": [
    {
     "data": {
      "text/html": [
       "\n",
       "<div class=\"bk-root\">\n",
       "    <div class=\"bk-plotdiv\" id=\"2e15807e-ffba-4c18-aea5-1b12c9268f5d\"></div>\n",
       "</div>"
      ]
     },
     "metadata": {},
     "output_type": "display_data"
    },
    {
     "data": {
      "application/javascript": [
       "(function(root) {\n",
       "  function embed_document(root) {\n",
       "    \n",
       "  var docs_json = {\"e4b4b192-9a5b-4441-bf3d-a7b0660eb4ad\":{\"roots\":{\"references\":[{\"attributes\":{\"callback\":null,\"end\":101},\"id\":\"86173819-10a5-44fa-a259-451fedbe6178\",\"type\":\"Range1d\"},{\"attributes\":{},\"id\":\"1c37d345-bd83-43e9-a7d9-bd787c81f832\",\"type\":\"LogScale\"},{\"attributes\":{\"line_alpha\":0.1,\"line_color\":\"#1f77b4\",\"x\":{\"field\":\"data\"},\"y\":{\"value\":0}},\"id\":\"748c890d-893d-4b8f-8c83-9ea86e5e37e3\",\"type\":\"Line\"},{\"attributes\":{\"axis_label\":\"x\",\"formatter\":{\"id\":\"ac19acdd-06e9-449e-8fff-1175e6c531c0\",\"type\":\"BasicTickFormatter\"},\"plot\":{\"id\":\"526582bb-ce04-401f-b650-bb9f3b06d45f\",\"subtype\":\"Figure\",\"type\":\"Plot\"},\"ticker\":{\"id\":\"097ec41c-3b4d-4d00-89a0-80bc2a4d0c42\",\"type\":\"BasicTicker\"}},\"id\":\"9289190d-46e2-4cde-9aaf-04c6857d5480\",\"type\":\"LinearAxis\"},{\"attributes\":{\"data_source\":{\"id\":\"90e3aba0-7643-45c4-ac07-9df8004e4eb7\",\"type\":\"ColumnDataSource\"},\"glyph\":{\"id\":\"1e94a769-b119-4515-8739-b066c2a201c3\",\"type\":\"Circle\"},\"hover_glyph\":null,\"muted_glyph\":null,\"nonselection_glyph\":{\"id\":\"56cbb78d-b22b-445d-b9c0-a1c33efeeb44\",\"type\":\"Circle\"},\"selection_glyph\":null,\"view\":{\"id\":\"25fcec25-bf49-4558-b4c7-5ef73aa5aea6\",\"type\":\"CDSView\"}},\"id\":\"b45a8b7a-083a-4313-a3b6-dfd042c4e2cd\",\"type\":\"GlyphRenderer\"},{\"attributes\":{\"plot\":{\"id\":\"64ce3c75-7a18-46f9-8c23-c8ffbcf571e1\",\"subtype\":\"Figure\",\"type\":\"Plot\"},\"ticker\":{\"id\":\"7d2109c1-c46a-4a43-8421-0bfa975bc892\",\"type\":\"LogTicker\"}},\"id\":\"0643a7c9-cc03-41ce-9a63-26ce70cb5566\",\"type\":\"Grid\"},{\"attributes\":{\"below\":[{\"id\":\"6b2c88d4-f77c-479c-bdf7-6987520fef5c\",\"type\":\"LogAxis\"}],\"left\":[{\"id\":\"8cfde603-efab-4ba3-bf3e-0457ade02d02\",\"type\":\"LinearAxis\"}],\"plot_height\":100,\"plot_width\":400,\"renderers\":[{\"id\":\"6b2c88d4-f77c-479c-bdf7-6987520fef5c\",\"type\":\"LogAxis\"},{\"id\":\"0643a7c9-cc03-41ce-9a63-26ce70cb5566\",\"type\":\"Grid\"},{\"id\":\"8cfde603-efab-4ba3-bf3e-0457ade02d02\",\"type\":\"LinearAxis\"},{\"id\":\"babb9284-038d-4048-b92e-be069e85ad50\",\"type\":\"Grid\"},{\"id\":\"25e345e8-60c3-4621-9709-9029004efa28\",\"type\":\"BoxAnnotation\"},{\"id\":\"d10087e0-0d0d-4ba0-a4d2-c3287705d240\",\"type\":\"GlyphRenderer\"},{\"id\":\"b45a8b7a-083a-4313-a3b6-dfd042c4e2cd\",\"type\":\"GlyphRenderer\"},{\"id\":\"993d5939-b2c6-457b-a914-d3acb76ec042\",\"type\":\"LabelSet\"}],\"title\":{\"id\":\"9e7b2f58-fac7-4e11-821e-cb57a296ebed\",\"type\":\"Title\"},\"toolbar\":{\"id\":\"3c0fa7b5-bf33-4853-8a23-649f959ed0c8\",\"type\":\"Toolbar\"},\"toolbar_location\":null,\"x_range\":{\"id\":\"2f36be51-9372-4301-9259-b6a6b147ba1c\",\"type\":\"DataRange1d\"},\"x_scale\":{\"id\":\"1c37d345-bd83-43e9-a7d9-bd787c81f832\",\"type\":\"LogScale\"},\"y_range\":{\"id\":\"603f7750-b088-444b-aa27-0dbbb3561d5e\",\"type\":\"Range1d\"},\"y_scale\":{\"id\":\"5369e595-3660-41fc-936d-0dcb0158177c\",\"type\":\"LinearScale\"}},\"id\":\"64ce3c75-7a18-46f9-8c23-c8ffbcf571e1\",\"subtype\":\"Figure\",\"type\":\"Plot\"},{\"attributes\":{\"plot\":null,\"text\":\"Original data, log scale\"},\"id\":\"9e7b2f58-fac7-4e11-821e-cb57a296ebed\",\"type\":\"Title\"},{\"attributes\":{\"callback\":null,\"column_names\":[\"data\",\"index\"],\"data\":{\"data\":{\"__ndarray__\":\"AAAAAAAA8D9I4XoUrkcJQAAAAAAAACRAmpmZmZmZP0AAAAAAAABZQA==\",\"dtype\":\"float64\",\"shape\":[5]},\"index\":[0,1,2,3,4]},\"selected\":null,\"selection_policy\":null},\"id\":\"0d229664-20d5-4b7b-8b08-276ec112f83d\",\"type\":\"ColumnDataSource\"},{\"attributes\":{\"num_minor_ticks\":10},\"id\":\"7d2109c1-c46a-4a43-8421-0bfa975bc892\",\"type\":\"LogTicker\"},{\"attributes\":{\"active_drag\":\"auto\",\"active_inspect\":\"auto\",\"active_scroll\":\"auto\",\"active_tap\":\"auto\",\"tools\":[{\"id\":\"e354c863-8d57-4d9d-8c0f-2e2cfd9ee9e4\",\"type\":\"PanTool\"},{\"id\":\"30ab09f7-0c41-4d7a-bc1f-ba4fa2e708c9\",\"type\":\"WheelZoomTool\"},{\"id\":\"29b63004-8324-4029-a9d6-44bd9c4a75ac\",\"type\":\"BoxZoomTool\"},{\"id\":\"06dd0efd-6b7a-4983-9c3d-159a5ec2f8ac\",\"type\":\"SaveTool\"},{\"id\":\"110069ce-cfa7-490d-8f40-2e0cfab33956\",\"type\":\"ResetTool\"},{\"id\":\"68a74b65-8cc1-4329-80cc-12e810739f8b\",\"type\":\"HelpTool\"}]},\"id\":\"8199d353-9cae-426d-bc57-41df9278bc5e\",\"type\":\"Toolbar\"},{\"attributes\":{\"active_drag\":\"auto\",\"active_inspect\":\"auto\",\"active_scroll\":\"auto\",\"active_tap\":\"auto\",\"tools\":[{\"id\":\"2245eb38-cbdd-475c-867c-420361990abc\",\"type\":\"PanTool\"},{\"id\":\"bb311f5f-2101-4490-8640-b10f192937c1\",\"type\":\"WheelZoomTool\"},{\"id\":\"6ae7a80a-378a-42d0-a6b2-39e935f45486\",\"type\":\"BoxZoomTool\"},{\"id\":\"5886d979-bcbb-4af2-bd56-13f20858f0ce\",\"type\":\"SaveTool\"},{\"id\":\"f2fee8e1-f24a-492e-a786-05251ce389b1\",\"type\":\"ResetTool\"},{\"id\":\"88aa466b-facd-4ae3-b0ce-cb05c272c7e0\",\"type\":\"HelpTool\"}]},\"id\":\"3c0fa7b5-bf33-4853-8a23-649f959ed0c8\",\"type\":\"Toolbar\"},{\"attributes\":{},\"id\":\"5369e595-3660-41fc-936d-0dcb0158177c\",\"type\":\"LinearScale\"},{\"attributes\":{},\"id\":\"958c2afa-b139-4a45-9c3c-c4f2612a963c\",\"type\":\"BasicTickFormatter\"},{\"attributes\":{},\"id\":\"cb05a1f2-e9eb-4090-8b29-c887febbe8c7\",\"type\":\"LinearScale\"},{\"attributes\":{\"axis_label\":\"x\",\"formatter\":{\"id\":\"b7dc3c8a-ce10-4459-b7bc-7f4206cf41fa\",\"type\":\"LogTickFormatter\"},\"plot\":{\"id\":\"64ce3c75-7a18-46f9-8c23-c8ffbcf571e1\",\"subtype\":\"Figure\",\"type\":\"Plot\"},\"ticker\":{\"id\":\"7d2109c1-c46a-4a43-8421-0bfa975bc892\",\"type\":\"LogTicker\"},\"visible\":false},\"id\":\"6b2c88d4-f77c-479c-bdf7-6987520fef5c\",\"type\":\"LogAxis\"},{\"attributes\":{\"callback\":null,\"end\":0.1,\"start\":-0.1},\"id\":\"50c2024b-340e-4469-9209-00bb0766ce1f\",\"type\":\"Range1d\"},{\"attributes\":{\"formatter\":{\"id\":\"df26d1ab-dfba-4bd9-a21c-16e29e24a54c\",\"type\":\"BasicTickFormatter\"},\"plot\":{\"id\":\"64ce3c75-7a18-46f9-8c23-c8ffbcf571e1\",\"subtype\":\"Figure\",\"type\":\"Plot\"},\"ticker\":{\"id\":\"12ee0c50-1d5b-4679-a213-8ff688159f5e\",\"type\":\"BasicTicker\"},\"visible\":false},\"id\":\"8cfde603-efab-4ba3-bf3e-0457ade02d02\",\"type\":\"LinearAxis\"},{\"attributes\":{},\"id\":\"12ee0c50-1d5b-4679-a213-8ff688159f5e\",\"type\":\"BasicTicker\"},{\"attributes\":{\"plot\":null,\"text\":\"Original data, linear scale\"},\"id\":\"6ffa1a83-7423-4905-aaed-a6715dc8897a\",\"type\":\"Title\"},{\"attributes\":{\"dimension\":1,\"plot\":{\"id\":\"64ce3c75-7a18-46f9-8c23-c8ffbcf571e1\",\"subtype\":\"Figure\",\"type\":\"Plot\"},\"ticker\":{\"id\":\"12ee0c50-1d5b-4679-a213-8ff688159f5e\",\"type\":\"BasicTicker\"}},\"id\":\"babb9284-038d-4048-b92e-be069e85ad50\",\"type\":\"Grid\"},{\"attributes\":{\"callback\":null},\"id\":\"2f36be51-9372-4301-9259-b6a6b147ba1c\",\"type\":\"DataRange1d\"},{\"attributes\":{\"line_color\":\"#1f77b4\",\"x\":{\"field\":\"data\"},\"y\":{\"value\":0}},\"id\":\"180afe72-2a43-476c-90f4-f4118dc661a1\",\"type\":\"Line\"},{\"attributes\":{\"callback\":null,\"column_names\":[\"data\",\"index\"],\"data\":{\"data\":{\"__ndarray__\":\"AAAAAAAA8D9I4XoUrkcJQAAAAAAAACRAmpmZmZmZP0AAAAAAAABZQA==\",\"dtype\":\"float64\",\"shape\":[5]},\"index\":[0,1,2,3,4]},\"selected\":null,\"selection_policy\":null},\"id\":\"32732dcf-d7be-4adc-a544-3e00f052f40d\",\"type\":\"ColumnDataSource\"},{\"attributes\":{\"callback\":null,\"column_names\":[\"data\",\"index\"],\"data\":{\"data\":{\"__ndarray__\":\"AAAAAAAA8D9I4XoUrkcJQAAAAAAAACRAmpmZmZmZP0AAAAAAAABZQA==\",\"dtype\":\"float64\",\"shape\":[5]},\"index\":[0,1,2,3,4]},\"selected\":null,\"selection_policy\":null},\"id\":\"90e3aba0-7643-45c4-ac07-9df8004e4eb7\",\"type\":\"ColumnDataSource\"},{\"attributes\":{\"bottom_units\":\"screen\",\"fill_alpha\":{\"value\":0.5},\"fill_color\":{\"value\":\"lightgrey\"},\"left_units\":\"screen\",\"level\":\"overlay\",\"line_alpha\":{\"value\":1.0},\"line_color\":{\"value\":\"black\"},\"line_dash\":[4,4],\"line_width\":{\"value\":2},\"plot\":null,\"render_mode\":\"css\",\"right_units\":\"screen\",\"top_units\":\"screen\"},\"id\":\"25e345e8-60c3-4621-9709-9029004efa28\",\"type\":\"BoxAnnotation\"},{\"attributes\":{},\"id\":\"2245eb38-cbdd-475c-867c-420361990abc\",\"type\":\"PanTool\"},{\"attributes\":{\"data_source\":{\"id\":\"d32bd052-7191-4377-8ca4-aaab2a81aa6d\",\"type\":\"ColumnDataSource\"},\"glyph\":{\"id\":\"48ddde28-4a59-4a44-96b2-e30dec5abda7\",\"type\":\"Circle\"},\"hover_glyph\":null,\"muted_glyph\":null,\"nonselection_glyph\":{\"id\":\"f38460e5-88d0-4639-8668-03966c53a629\",\"type\":\"Circle\"},\"selection_glyph\":null,\"view\":{\"id\":\"95dabea3-40d8-479d-a497-1a5b946180f5\",\"type\":\"CDSView\"}},\"id\":\"1efcbf0e-15d2-49cd-8c82-8bb5b5a042bc\",\"type\":\"GlyphRenderer\"},{\"attributes\":{},\"id\":\"bb311f5f-2101-4490-8640-b10f192937c1\",\"type\":\"WheelZoomTool\"},{\"attributes\":{\"overlay\":{\"id\":\"25e345e8-60c3-4621-9709-9029004efa28\",\"type\":\"BoxAnnotation\"}},\"id\":\"6ae7a80a-378a-42d0-a6b2-39e935f45486\",\"type\":\"BoxZoomTool\"},{\"attributes\":{},\"id\":\"5886d979-bcbb-4af2-bd56-13f20858f0ce\",\"type\":\"SaveTool\"},{\"attributes\":{},\"id\":\"f2fee8e1-f24a-492e-a786-05251ce389b1\",\"type\":\"ResetTool\"},{\"attributes\":{},\"id\":\"88aa466b-facd-4ae3-b0ce-cb05c272c7e0\",\"type\":\"HelpTool\"},{\"attributes\":{},\"id\":\"df26d1ab-dfba-4bd9-a21c-16e29e24a54c\",\"type\":\"BasicTickFormatter\"},{\"attributes\":{\"data_source\":{\"id\":\"c09d7716-6952-41b1-bfe7-76c8c344453b\",\"type\":\"ColumnDataSource\"},\"glyph\":{\"id\":\"180afe72-2a43-476c-90f4-f4118dc661a1\",\"type\":\"Line\"},\"hover_glyph\":null,\"muted_glyph\":null,\"nonselection_glyph\":{\"id\":\"748c890d-893d-4b8f-8c83-9ea86e5e37e3\",\"type\":\"Line\"},\"selection_glyph\":null,\"view\":{\"id\":\"dd585d2b-1636-4b26-81ba-8f5473cc8523\",\"type\":\"CDSView\"}},\"id\":\"d10087e0-0d0d-4ba0-a4d2-c3287705d240\",\"type\":\"GlyphRenderer\"},{\"attributes\":{\"source\":{\"id\":\"90e3aba0-7643-45c4-ac07-9df8004e4eb7\",\"type\":\"ColumnDataSource\"}},\"id\":\"25fcec25-bf49-4558-b4c7-5ef73aa5aea6\",\"type\":\"CDSView\"},{\"attributes\":{\"source\":{\"id\":\"c09d7716-6952-41b1-bfe7-76c8c344453b\",\"type\":\"ColumnDataSource\"}},\"id\":\"dd585d2b-1636-4b26-81ba-8f5473cc8523\",\"type\":\"CDSView\"},{\"attributes\":{\"fill_alpha\":{\"value\":0.1},\"fill_color\":{\"value\":\"#1f77b4\"},\"line_alpha\":{\"value\":0.1},\"line_color\":{\"value\":\"#1f77b4\"},\"x\":{\"field\":\"data\"},\"y\":{\"value\":0}},\"id\":\"f38460e5-88d0-4639-8668-03966c53a629\",\"type\":\"Circle\"},{\"attributes\":{\"source\":{\"id\":\"d32bd052-7191-4377-8ca4-aaab2a81aa6d\",\"type\":\"ColumnDataSource\"}},\"id\":\"95dabea3-40d8-479d-a497-1a5b946180f5\",\"type\":\"CDSView\"},{\"attributes\":{\"ticker\":null},\"id\":\"b7dc3c8a-ce10-4459-b7bc-7f4206cf41fa\",\"type\":\"LogTickFormatter\"},{\"attributes\":{\"fill_alpha\":{\"value\":0.1},\"fill_color\":{\"value\":\"#1f77b4\"},\"line_alpha\":{\"value\":0.1},\"line_color\":{\"value\":\"#1f77b4\"},\"x\":{\"field\":\"data\"},\"y\":{\"value\":0}},\"id\":\"56cbb78d-b22b-445d-b9c0-a1c33efeeb44\",\"type\":\"Circle\"},{\"attributes\":{},\"id\":\"bc4d6f49-7910-4953-8a64-c551d86e537c\",\"type\":\"BasicTicker\"},{\"attributes\":{\"plot\":{\"id\":\"64ce3c75-7a18-46f9-8c23-c8ffbcf571e1\",\"subtype\":\"Figure\",\"type\":\"Plot\"},\"source\":{\"id\":\"32732dcf-d7be-4adc-a544-3e00f052f40d\",\"type\":\"ColumnDataSource\"},\"text\":{\"field\":\"data\"},\"x\":{\"field\":\"data\"},\"y\":{\"value\":0},\"y_offset\":{\"value\":-20}},\"id\":\"993d5939-b2c6-457b-a914-d3acb76ec042\",\"type\":\"LabelSet\"},{\"attributes\":{\"fill_color\":{\"value\":\"#1f77b4\"},\"line_color\":{\"value\":\"#1f77b4\"},\"x\":{\"field\":\"data\"},\"y\":{\"value\":0}},\"id\":\"48ddde28-4a59-4a44-96b2-e30dec5abda7\",\"type\":\"Circle\"},{\"attributes\":{\"num_minor_ticks\":10},\"id\":\"846230e5-ba5e-482c-ae3a-029a8cab2839\",\"type\":\"LogTicker\"},{\"attributes\":{\"dimension\":1,\"plot\":{\"id\":\"0f907993-67f0-4e61-9f50-f41e52b08a26\",\"subtype\":\"Figure\",\"type\":\"Plot\"},\"ticker\":{\"id\":\"bc4d6f49-7910-4953-8a64-c551d86e537c\",\"type\":\"BasicTicker\"}},\"id\":\"b90fdb63-8cd9-461c-9f5c-1ad5d86ed759\",\"type\":\"Grid\"},{\"attributes\":{\"callback\":null,\"column_names\":[\"data\",\"index\"],\"data\":{\"data\":{\"__ndarray__\":\"AAAAAAAA8D9I4XoUrkcJQAAAAAAAACRAmpmZmZmZP0AAAAAAAABZQA==\",\"dtype\":\"float64\",\"shape\":[5]},\"index\":[0,1,2,3,4]},\"selected\":null,\"selection_policy\":null},\"id\":\"6a3537b5-160e-4273-87a9-1998a6cdc7a8\",\"type\":\"ColumnDataSource\"},{\"attributes\":{\"plot\":{\"id\":\"526582bb-ce04-401f-b650-bb9f3b06d45f\",\"subtype\":\"Figure\",\"type\":\"Plot\"},\"ticker\":{\"id\":\"097ec41c-3b4d-4d00-89a0-80bc2a4d0c42\",\"type\":\"BasicTicker\"}},\"id\":\"66059cf1-73b2-47a0-9ddf-b491ce9c480f\",\"type\":\"Grid\"},{\"attributes\":{\"callback\":null,\"column_names\":[\"data\",\"index\"],\"data\":{\"data\":{\"__ndarray__\":\"AAAAAAAA8D9I4XoUrkcJQAAAAAAAACRAmpmZmZmZP0AAAAAAAABZQA==\",\"dtype\":\"float64\",\"shape\":[5]},\"index\":[0,1,2,3,4]},\"selected\":null,\"selection_policy\":null},\"id\":\"d32bd052-7191-4377-8ca4-aaab2a81aa6d\",\"type\":\"ColumnDataSource\"},{\"attributes\":{},\"id\":\"b3c01337-d5e9-4244-926c-44a78c6588b0\",\"type\":\"LinearScale\"},{\"attributes\":{\"callback\":null,\"column_names\":[\"data\",\"index\"],\"data\":{\"data\":{\"__ndarray__\":\"AAAAAAAA8D9I4XoUrkcJQAAAAAAAACRAmpmZmZmZP0AAAAAAAABZQA==\",\"dtype\":\"float64\",\"shape\":[5]},\"index\":[0,1,2,3,4]},\"selected\":null,\"selection_policy\":null},\"id\":\"59ded548-8dbe-4804-bdd1-4434f4c9cd84\",\"type\":\"ColumnDataSource\"},{\"attributes\":{\"fill_color\":{\"value\":\"#1f77b4\"},\"line_color\":{\"value\":\"#1f77b4\"},\"radius\":{\"units\":\"data\",\"value\":1},\"x\":{\"field\":\"data\"},\"y\":{\"value\":0}},\"id\":\"cdd7fd17-2f0d-498d-ae23-f58251fa2524\",\"type\":\"Circle\"},{\"attributes\":{\"below\":[{\"id\":\"9289190d-46e2-4cde-9aaf-04c6857d5480\",\"type\":\"LinearAxis\"}],\"left\":[{\"id\":\"4a9bfefd-a747-40d1-940a-ea5e991916df\",\"type\":\"LinearAxis\"}],\"plot_height\":100,\"plot_width\":400,\"renderers\":[{\"id\":\"9289190d-46e2-4cde-9aaf-04c6857d5480\",\"type\":\"LinearAxis\"},{\"id\":\"66059cf1-73b2-47a0-9ddf-b491ce9c480f\",\"type\":\"Grid\"},{\"id\":\"4a9bfefd-a747-40d1-940a-ea5e991916df\",\"type\":\"LinearAxis\"},{\"id\":\"bcecfc07-54c9-434c-9399-1d0de7b81867\",\"type\":\"Grid\"},{\"id\":\"519b6211-bfee-43b4-b423-b22b6f332502\",\"type\":\"BoxAnnotation\"},{\"id\":\"c71d66fa-d73a-4465-ba97-75acc98ef958\",\"type\":\"GlyphRenderer\"},{\"id\":\"f03e9929-ff78-4aae-9b6d-74e398ac3f1f\",\"type\":\"GlyphRenderer\"}],\"title\":{\"id\":\"6ffa1a83-7423-4905-aaed-a6715dc8897a\",\"type\":\"Title\"},\"toolbar\":{\"id\":\"8199d353-9cae-426d-bc57-41df9278bc5e\",\"type\":\"Toolbar\"},\"toolbar_location\":null,\"x_range\":{\"id\":\"86173819-10a5-44fa-a259-451fedbe6178\",\"type\":\"Range1d\"},\"x_scale\":{\"id\":\"b3c01337-d5e9-4244-926c-44a78c6588b0\",\"type\":\"LinearScale\"},\"y_range\":{\"id\":\"50c2024b-340e-4469-9209-00bb0766ce1f\",\"type\":\"Range1d\"},\"y_scale\":{\"id\":\"cb05a1f2-e9eb-4090-8b29-c887febbe8c7\",\"type\":\"LinearScale\"}},\"id\":\"526582bb-ce04-401f-b650-bb9f3b06d45f\",\"subtype\":\"Figure\",\"type\":\"Plot\"},{\"attributes\":{},\"id\":\"097ec41c-3b4d-4d00-89a0-80bc2a4d0c42\",\"type\":\"BasicTicker\"},{\"attributes\":{\"callback\":null,\"end\":0.1,\"start\":-0.5},\"id\":\"df8e32a7-8f95-4aa7-984f-87d76d306831\",\"type\":\"Range1d\"},{\"attributes\":{},\"id\":\"21ecade9-76ee-4d89-b7ee-aa005b369e4b\",\"type\":\"LogScale\"},{\"attributes\":{\"axis_label\":\"log10(x)\",\"formatter\":{\"id\":\"f049135e-168a-4a78-92cb-d8cc150acfa0\",\"type\":\"LogTickFormatter\"},\"plot\":{\"id\":\"0f907993-67f0-4e61-9f50-f41e52b08a26\",\"subtype\":\"Figure\",\"type\":\"Plot\"},\"ticker\":{\"id\":\"846230e5-ba5e-482c-ae3a-029a8cab2839\",\"type\":\"LogTicker\"}},\"id\":\"7a66e190-e00c-4e10-a0c4-c3132b7ebafe\",\"type\":\"LogAxis\"},{\"attributes\":{\"formatter\":{\"id\":\"40e5db51-ec0e-4756-a84a-393d6abb310b\",\"type\":\"BasicTickFormatter\"},\"plot\":{\"id\":\"0f907993-67f0-4e61-9f50-f41e52b08a26\",\"subtype\":\"Figure\",\"type\":\"Plot\"},\"ticker\":{\"id\":\"bc4d6f49-7910-4953-8a64-c551d86e537c\",\"type\":\"BasicTicker\"},\"visible\":false},\"id\":\"35da71d3-2af7-4cff-bd09-a2ea5259e7b4\",\"type\":\"LinearAxis\"},{\"attributes\":{},\"id\":\"55ac58f9-200f-4ace-86a9-ee71529cd5ef\",\"type\":\"LinearScale\"},{\"attributes\":{\"plot\":{\"id\":\"0f907993-67f0-4e61-9f50-f41e52b08a26\",\"subtype\":\"Figure\",\"type\":\"Plot\"},\"ticker\":{\"id\":\"846230e5-ba5e-482c-ae3a-029a8cab2839\",\"type\":\"LogTicker\"}},\"id\":\"3d92a50c-a32c-4342-a092-92151c04fabc\",\"type\":\"Grid\"},{\"attributes\":{\"active_drag\":\"auto\",\"active_inspect\":\"auto\",\"active_scroll\":\"auto\",\"active_tap\":\"auto\",\"tools\":[{\"id\":\"53953493-2c82-415e-a62b-caff14207d41\",\"type\":\"PanTool\"},{\"id\":\"e7aa0f2c-8e1f-473e-87dc-3a4b582dfb69\",\"type\":\"WheelZoomTool\"},{\"id\":\"c5646bce-fe80-42bd-aded-5a3a680f2f12\",\"type\":\"BoxZoomTool\"},{\"id\":\"320a8862-19ed-4b80-9f0b-f114d25e7823\",\"type\":\"SaveTool\"},{\"id\":\"88a0176c-3937-4221-a6be-47e4f304b21a\",\"type\":\"ResetTool\"},{\"id\":\"a06c8fb5-3966-432d-9d98-d3499bf64aa4\",\"type\":\"HelpTool\"}]},\"id\":\"a61671c8-b7dd-4517-aca3-5cd034481cb5\",\"type\":\"Toolbar\"},{\"attributes\":{\"plot\":null,\"text\":\"log scale with incorrect axis title\"},\"id\":\"e912afee-45ab-41c8-8969-2c9303904b71\",\"type\":\"Title\"},{\"attributes\":{\"callback\":null},\"id\":\"eac52359-0ac8-4250-86ad-e252828c70ac\",\"type\":\"DataRange1d\"},{\"attributes\":{\"below\":[{\"id\":\"7a66e190-e00c-4e10-a0c4-c3132b7ebafe\",\"type\":\"LogAxis\"}],\"left\":[{\"id\":\"35da71d3-2af7-4cff-bd09-a2ea5259e7b4\",\"type\":\"LinearAxis\"}],\"plot_height\":100,\"plot_width\":400,\"renderers\":[{\"id\":\"7a66e190-e00c-4e10-a0c4-c3132b7ebafe\",\"type\":\"LogAxis\"},{\"id\":\"3d92a50c-a32c-4342-a092-92151c04fabc\",\"type\":\"Grid\"},{\"id\":\"35da71d3-2af7-4cff-bd09-a2ea5259e7b4\",\"type\":\"LinearAxis\"},{\"id\":\"b90fdb63-8cd9-461c-9f5c-1ad5d86ed759\",\"type\":\"Grid\"},{\"id\":\"0cfd81a5-e1d1-4167-8b5a-951e6e157ea5\",\"type\":\"BoxAnnotation\"},{\"id\":\"2a72f525-0c91-414a-997b-99ccf3820587\",\"type\":\"GlyphRenderer\"},{\"id\":\"1efcbf0e-15d2-49cd-8c82-8bb5b5a042bc\",\"type\":\"GlyphRenderer\"},{\"id\":\"7fe2e1d9-ce85-4d2f-bcd2-e3052a1d06c8\",\"type\":\"LabelSet\"}],\"title\":{\"id\":\"e912afee-45ab-41c8-8969-2c9303904b71\",\"type\":\"Title\"},\"toolbar\":{\"id\":\"a61671c8-b7dd-4517-aca3-5cd034481cb5\",\"type\":\"Toolbar\"},\"toolbar_location\":null,\"x_range\":{\"id\":\"eac52359-0ac8-4250-86ad-e252828c70ac\",\"type\":\"DataRange1d\"},\"x_scale\":{\"id\":\"21ecade9-76ee-4d89-b7ee-aa005b369e4b\",\"type\":\"LogScale\"},\"y_range\":{\"id\":\"df8e32a7-8f95-4aa7-984f-87d76d306831\",\"type\":\"Range1d\"},\"y_scale\":{\"id\":\"55ac58f9-200f-4ace-86a9-ee71529cd5ef\",\"type\":\"LinearScale\"}},\"id\":\"0f907993-67f0-4e61-9f50-f41e52b08a26\",\"subtype\":\"Figure\",\"type\":\"Plot\"},{\"attributes\":{\"line_color\":\"#1f77b4\",\"x\":{\"field\":\"data\"},\"y\":{\"value\":0}},\"id\":\"8ac51eab-f9cf-492b-a0fb-02124aaa23d9\",\"type\":\"Line\"},{\"attributes\":{\"formatter\":{\"id\":\"958c2afa-b139-4a45-9c3c-c4f2612a963c\",\"type\":\"BasicTickFormatter\"},\"plot\":{\"id\":\"526582bb-ce04-401f-b650-bb9f3b06d45f\",\"subtype\":\"Figure\",\"type\":\"Plot\"},\"ticker\":{\"id\":\"86411168-8670-4b71-b835-4936bbab3df2\",\"type\":\"BasicTicker\"},\"visible\":false},\"id\":\"4a9bfefd-a747-40d1-940a-ea5e991916df\",\"type\":\"LinearAxis\"},{\"attributes\":{},\"id\":\"86411168-8670-4b71-b835-4936bbab3df2\",\"type\":\"BasicTicker\"},{\"attributes\":{\"fill_alpha\":{\"value\":0.1},\"fill_color\":{\"value\":\"#1f77b4\"},\"line_alpha\":{\"value\":0.1},\"line_color\":{\"value\":\"#1f77b4\"},\"radius\":{\"units\":\"data\",\"value\":1},\"x\":{\"field\":\"data\"},\"y\":{\"value\":0}},\"id\":\"307ae67e-c4ec-46b9-b4c6-90de563ed945\",\"type\":\"Circle\"},{\"attributes\":{\"dimension\":1,\"plot\":{\"id\":\"526582bb-ce04-401f-b650-bb9f3b06d45f\",\"subtype\":\"Figure\",\"type\":\"Plot\"},\"ticker\":{\"id\":\"86411168-8670-4b71-b835-4936bbab3df2\",\"type\":\"BasicTicker\"}},\"id\":\"bcecfc07-54c9-434c-9399-1d0de7b81867\",\"type\":\"Grid\"},{\"attributes\":{\"data_source\":{\"id\":\"6a3537b5-160e-4273-87a9-1998a6cdc7a8\",\"type\":\"ColumnDataSource\"},\"glyph\":{\"id\":\"cdd7fd17-2f0d-498d-ae23-f58251fa2524\",\"type\":\"Circle\"},\"hover_glyph\":null,\"muted_glyph\":null,\"nonselection_glyph\":{\"id\":\"307ae67e-c4ec-46b9-b4c6-90de563ed945\",\"type\":\"Circle\"},\"selection_glyph\":null,\"view\":{\"id\":\"f99cff3a-37e3-44f8-a3d8-9ea2ea51cb8b\",\"type\":\"CDSView\"}},\"id\":\"f03e9929-ff78-4aae-9b6d-74e398ac3f1f\",\"type\":\"GlyphRenderer\"},{\"attributes\":{\"line_alpha\":0.1,\"line_color\":\"#1f77b4\",\"x\":{\"field\":\"data\"},\"y\":{\"value\":0}},\"id\":\"39ea2153-0500-4544-a4d2-8969ee2d99e5\",\"type\":\"Line\"},{\"attributes\":{\"children\":[{\"id\":\"025781ec-76a7-4276-8d88-197551fdaa99\",\"type\":\"Div\"}]},\"id\":\"a971ca54-da70-4047-9f77-b2c26310d0de\",\"type\":\"WidgetBox\"},{\"attributes\":{\"below\":[{\"id\":\"96e4dca6-ba28-4119-b1df-66a18b0e749d\",\"type\":\"LinearAxis\"}],\"left\":[{\"id\":\"84a191f4-b9cd-453e-a6b3-73002b923615\",\"type\":\"LinearAxis\"}],\"plot_height\":100,\"plot_width\":400,\"renderers\":[{\"id\":\"96e4dca6-ba28-4119-b1df-66a18b0e749d\",\"type\":\"LinearAxis\"},{\"id\":\"63812b31-7e28-471c-a513-9605062bc451\",\"type\":\"Grid\"},{\"id\":\"84a191f4-b9cd-453e-a6b3-73002b923615\",\"type\":\"LinearAxis\"},{\"id\":\"4cf875ce-4e4b-414b-b868-86da34c0e310\",\"type\":\"Grid\"},{\"id\":\"b5c4da1d-7778-480b-a1a7-b18281105881\",\"type\":\"BoxAnnotation\"},{\"id\":\"67b494c6-588b-4fc4-93bd-9109accc446d\",\"type\":\"GlyphRenderer\"},{\"id\":\"aa932e20-fd81-4de0-806f-99618ddc0427\",\"type\":\"GlyphRenderer\"}],\"title\":{\"id\":\"50e237d0-a7f2-401d-a693-c3e96d1fc4ab\",\"type\":\"Title\"},\"toolbar\":{\"id\":\"a04eaf36-4a8e-481c-854f-99c328da3af3\",\"type\":\"Toolbar\"},\"toolbar_location\":null,\"x_range\":{\"id\":\"ed0281d0-ceed-44c6-8e69-9fadf422b63c\",\"type\":\"DataRange1d\"},\"x_scale\":{\"id\":\"98bcb53a-b61b-4514-99ac-33018c5e8e62\",\"type\":\"LinearScale\"},\"y_range\":{\"id\":\"2f0db62c-4adc-43f1-ba37-76604c7230e6\",\"type\":\"Range1d\"},\"y_scale\":{\"id\":\"7199cdfe-2019-4349-8df2-ec257bd7f1ee\",\"type\":\"LinearScale\"}},\"id\":\"f2372138-13eb-4f75-9090-503a4c76ca2d\",\"subtype\":\"Figure\",\"type\":\"Plot\"},{\"attributes\":{\"bottom_units\":\"screen\",\"fill_alpha\":{\"value\":0.5},\"fill_color\":{\"value\":\"lightgrey\"},\"left_units\":\"screen\",\"level\":\"overlay\",\"line_alpha\":{\"value\":1.0},\"line_color\":{\"value\":\"black\"},\"line_dash\":[4,4],\"line_width\":{\"value\":2},\"plot\":null,\"render_mode\":\"css\",\"right_units\":\"screen\",\"top_units\":\"screen\"},\"id\":\"519b6211-bfee-43b4-b423-b22b6f332502\",\"type\":\"BoxAnnotation\"},{\"attributes\":{},\"id\":\"e354c863-8d57-4d9d-8c0f-2e2cfd9ee9e4\",\"type\":\"PanTool\"},{\"attributes\":{\"data_source\":{\"id\":\"59ded548-8dbe-4804-bdd1-4434f4c9cd84\",\"type\":\"ColumnDataSource\"},\"glyph\":{\"id\":\"3ff0c489-0f23-41c8-a86e-8f25a6f05e05\",\"type\":\"Line\"},\"hover_glyph\":null,\"muted_glyph\":null,\"nonselection_glyph\":{\"id\":\"52930660-c52d-4105-936d-7f56dbed385c\",\"type\":\"Line\"},\"selection_glyph\":null,\"view\":{\"id\":\"2b453ad8-64a6-4db3-9eec-bb347f4aedb3\",\"type\":\"CDSView\"}},\"id\":\"2a72f525-0c91-414a-997b-99ccf3820587\",\"type\":\"GlyphRenderer\"},{\"attributes\":{},\"id\":\"30ab09f7-0c41-4d7a-bc1f-ba4fa2e708c9\",\"type\":\"WheelZoomTool\"},{\"attributes\":{\"children\":[{\"id\":\"526582bb-ce04-401f-b650-bb9f3b06d45f\",\"subtype\":\"Figure\",\"type\":\"Plot\"},{\"id\":\"f2372138-13eb-4f75-9090-503a4c76ca2d\",\"subtype\":\"Figure\",\"type\":\"Plot\"},{\"id\":\"64ce3c75-7a18-46f9-8c23-c8ffbcf571e1\",\"subtype\":\"Figure\",\"type\":\"Plot\"},{\"id\":\"0f907993-67f0-4e61-9f50-f41e52b08a26\",\"subtype\":\"Figure\",\"type\":\"Plot\"}]},\"id\":\"a0d72877-15c6-44b8-a65d-77c54e4d2f6b\",\"type\":\"Column\"},{\"attributes\":{\"overlay\":{\"id\":\"519b6211-bfee-43b4-b423-b22b6f332502\",\"type\":\"BoxAnnotation\"}},\"id\":\"29b63004-8324-4029-a9d6-44bd9c4a75ac\",\"type\":\"BoxZoomTool\"},{\"attributes\":{},\"id\":\"06dd0efd-6b7a-4983-9c3d-159a5ec2f8ac\",\"type\":\"SaveTool\"},{\"attributes\":{},\"id\":\"110069ce-cfa7-490d-8f40-2e0cfab33956\",\"type\":\"ResetTool\"},{\"attributes\":{},\"id\":\"68a74b65-8cc1-4329-80cc-12e810739f8b\",\"type\":\"HelpTool\"},{\"attributes\":{\"bottom_units\":\"screen\",\"fill_alpha\":{\"value\":0.5},\"fill_color\":{\"value\":\"lightgrey\"},\"left_units\":\"screen\",\"level\":\"overlay\",\"line_alpha\":{\"value\":1.0},\"line_color\":{\"value\":\"black\"},\"line_dash\":[4,4],\"line_width\":{\"value\":2},\"plot\":null,\"render_mode\":\"css\",\"right_units\":\"screen\",\"top_units\":\"screen\"},\"id\":\"0cfd81a5-e1d1-4167-8b5a-951e6e157ea5\",\"type\":\"BoxAnnotation\"},{\"attributes\":{},\"id\":\"53953493-2c82-415e-a62b-caff14207d41\",\"type\":\"PanTool\"},{\"attributes\":{\"text\":\"<h3>Figure 2.4</h3>Relationship between linear and log scale\"},\"id\":\"025781ec-76a7-4276-8d88-197551fdaa99\",\"type\":\"Div\"},{\"attributes\":{\"data_source\":{\"id\":\"0d229664-20d5-4b7b-8b08-276ec112f83d\",\"type\":\"ColumnDataSource\"},\"glyph\":{\"id\":\"8ac51eab-f9cf-492b-a0fb-02124aaa23d9\",\"type\":\"Line\"},\"hover_glyph\":null,\"muted_glyph\":null,\"nonselection_glyph\":{\"id\":\"39ea2153-0500-4544-a4d2-8969ee2d99e5\",\"type\":\"Line\"},\"selection_glyph\":null,\"view\":{\"id\":\"3e69c68f-a494-4d14-8946-394cd34e885c\",\"type\":\"CDSView\"}},\"id\":\"c71d66fa-d73a-4465-ba97-75acc98ef958\",\"type\":\"GlyphRenderer\"},{\"attributes\":{\"plot\":{\"id\":\"0f907993-67f0-4e61-9f50-f41e52b08a26\",\"subtype\":\"Figure\",\"type\":\"Plot\"},\"source\":{\"id\":\"996e6ed0-f8e8-4ef0-b5be-4d51af238fe9\",\"type\":\"ColumnDataSource\"},\"text\":{\"field\":\"data\"},\"x\":{\"field\":\"data\"},\"y\":{\"value\":0},\"y_offset\":{\"value\":-20}},\"id\":\"7fe2e1d9-ce85-4d2f-bcd2-e3052a1d06c8\",\"type\":\"LabelSet\"},{\"attributes\":{},\"id\":\"a06c8fb5-3966-432d-9d98-d3499bf64aa4\",\"type\":\"HelpTool\"},{\"attributes\":{\"source\":{\"id\":\"0d229664-20d5-4b7b-8b08-276ec112f83d\",\"type\":\"ColumnDataSource\"}},\"id\":\"3e69c68f-a494-4d14-8946-394cd34e885c\",\"type\":\"CDSView\"},{\"attributes\":{\"callback\":null,\"end\":0.1,\"start\":-0.1},\"id\":\"2f0db62c-4adc-43f1-ba37-76604c7230e6\",\"type\":\"Range1d\"},{\"attributes\":{\"callback\":null,\"end\":0.1,\"start\":-0.1},\"id\":\"603f7750-b088-444b-aa27-0dbbb3561d5e\",\"type\":\"Range1d\"},{\"attributes\":{},\"id\":\"ac19acdd-06e9-449e-8fff-1175e6c531c0\",\"type\":\"BasicTickFormatter\"},{\"attributes\":{\"line_alpha\":0.1,\"line_color\":\"#1f77b4\",\"x\":{\"field\":\"data\"},\"y\":{\"value\":0}},\"id\":\"123a3574-e660-4584-a7ae-f86f19f4b7f0\",\"type\":\"Line\"},{\"attributes\":{\"callback\":null,\"column_names\":[\"data\",\"index\"],\"data\":{\"data\":{\"__ndarray__\":\"AAAAAAAA8D9I4XoUrkcJQAAAAAAAACRAmpmZmZmZP0AAAAAAAABZQA==\",\"dtype\":\"float64\",\"shape\":[5]},\"index\":[0,1,2,3,4]},\"selected\":null,\"selection_policy\":null},\"id\":\"c09d7716-6952-41b1-bfe7-76c8c344453b\",\"type\":\"ColumnDataSource\"},{\"attributes\":{},\"id\":\"40e5db51-ec0e-4756-a84a-393d6abb310b\",\"type\":\"BasicTickFormatter\"},{\"attributes\":{\"fill_color\":{\"value\":\"#1f77b4\"},\"line_color\":{\"value\":\"#1f77b4\"},\"x\":{\"field\":\"data\"},\"y\":{\"value\":0}},\"id\":\"b4615357-5440-49d3-8e0a-c4fd33249c43\",\"type\":\"Circle\"},{\"attributes\":{\"line_color\":\"#1f77b4\",\"x\":{\"field\":\"data\"},\"y\":{\"value\":0}},\"id\":\"3ff0c489-0f23-41c8-a86e-8f25a6f05e05\",\"type\":\"Line\"},{\"attributes\":{\"plot\":null,\"text\":\"log transformed data, linear scale\"},\"id\":\"50e237d0-a7f2-401d-a693-c3e96d1fc4ab\",\"type\":\"Title\"},{\"attributes\":{\"line_color\":\"#1f77b4\",\"x\":{\"field\":\"data\"},\"y\":{\"value\":0}},\"id\":\"e09a05d6-0187-4142-870b-4f516709ae07\",\"type\":\"Line\"},{\"attributes\":{},\"id\":\"7199cdfe-2019-4349-8df2-ec257bd7f1ee\",\"type\":\"LinearScale\"},{\"attributes\":{\"axis_label\":\"log10(x)\",\"formatter\":{\"id\":\"f9391bb9-4242-45e1-af62-276420a2f313\",\"type\":\"BasicTickFormatter\"},\"plot\":{\"id\":\"f2372138-13eb-4f75-9090-503a4c76ca2d\",\"subtype\":\"Figure\",\"type\":\"Plot\"},\"ticker\":{\"id\":\"2197854a-0a35-46b7-a4c4-9a33fe320539\",\"type\":\"BasicTicker\"}},\"id\":\"96e4dca6-ba28-4119-b1df-66a18b0e749d\",\"type\":\"LinearAxis\"},{\"attributes\":{\"active_drag\":\"auto\",\"active_inspect\":\"auto\",\"active_scroll\":\"auto\",\"active_tap\":\"auto\",\"tools\":[{\"id\":\"23b050b5-e7bb-439f-8b49-9389b01d6300\",\"type\":\"PanTool\"},{\"id\":\"9bcc3c89-952f-40b0-bd8e-61676536d9bf\",\"type\":\"WheelZoomTool\"},{\"id\":\"afbdbe63-9d53-440a-855b-cbd4d6561c8f\",\"type\":\"BoxZoomTool\"},{\"id\":\"1bc1c9f6-59ff-49c3-b69a-f481e7f0eea5\",\"type\":\"SaveTool\"},{\"id\":\"0225119b-a6d3-490b-ab80-5e7806d1cdf2\",\"type\":\"ResetTool\"},{\"id\":\"4653b736-e63c-4d13-9bf4-c9f0eeb0905d\",\"type\":\"HelpTool\"}]},\"id\":\"a04eaf36-4a8e-481c-854f-99c328da3af3\",\"type\":\"Toolbar\"},{\"attributes\":{\"callback\":null},\"id\":\"ed0281d0-ceed-44c6-8e69-9fadf422b63c\",\"type\":\"DataRange1d\"},{\"attributes\":{\"plot\":{\"id\":\"f2372138-13eb-4f75-9090-503a4c76ca2d\",\"subtype\":\"Figure\",\"type\":\"Plot\"},\"ticker\":{\"id\":\"2197854a-0a35-46b7-a4c4-9a33fe320539\",\"type\":\"BasicTicker\"}},\"id\":\"63812b31-7e28-471c-a513-9605062bc451\",\"type\":\"Grid\"},{\"attributes\":{},\"id\":\"23b050b5-e7bb-439f-8b49-9389b01d6300\",\"type\":\"PanTool\"},{\"attributes\":{},\"id\":\"98bcb53a-b61b-4514-99ac-33018c5e8e62\",\"type\":\"LinearScale\"},{\"attributes\":{\"data_source\":{\"id\":\"6f84d1e2-01fc-4cad-81c0-95a0f3c39417\",\"type\":\"ColumnDataSource\"},\"glyph\":{\"id\":\"b4615357-5440-49d3-8e0a-c4fd33249c43\",\"type\":\"Circle\"},\"hover_glyph\":null,\"muted_glyph\":null,\"nonselection_glyph\":{\"id\":\"40ca6dd5-8c51-4fab-a0ce-cb1c35780835\",\"type\":\"Circle\"},\"selection_glyph\":null,\"view\":{\"id\":\"ea021a6a-2a22-4c9e-92f9-86b56467d871\",\"type\":\"CDSView\"}},\"id\":\"aa932e20-fd81-4de0-806f-99618ddc0427\",\"type\":\"GlyphRenderer\"},{\"attributes\":{\"callback\":null,\"column_names\":[\"data\",\"index\"],\"data\":{\"data\":{\"__ndarray__\":\"AAAAAAAAAAC3GYWH3/rfPwAAAAAAAPA/bkbh4bf+9z8AAAAAAAAAQA==\",\"dtype\":\"float64\",\"shape\":[5]},\"index\":[0,1,2,3,4]},\"selected\":null,\"selection_policy\":null},\"id\":\"4db90756-4016-4761-b77e-e3508dc22b5a\",\"type\":\"ColumnDataSource\"},{\"attributes\":{\"bottom_units\":\"screen\",\"fill_alpha\":{\"value\":0.5},\"fill_color\":{\"value\":\"lightgrey\"},\"left_units\":\"screen\",\"level\":\"overlay\",\"line_alpha\":{\"value\":1.0},\"line_color\":{\"value\":\"black\"},\"line_dash\":[4,4],\"line_width\":{\"value\":2},\"plot\":null,\"render_mode\":\"css\",\"right_units\":\"screen\",\"top_units\":\"screen\"},\"id\":\"b5c4da1d-7778-480b-a1a7-b18281105881\",\"type\":\"BoxAnnotation\"},{\"attributes\":{\"dimension\":1,\"plot\":{\"id\":\"f2372138-13eb-4f75-9090-503a4c76ca2d\",\"subtype\":\"Figure\",\"type\":\"Plot\"},\"ticker\":{\"id\":\"bd6d4b3c-1b7d-4678-91c9-828c15bb0e47\",\"type\":\"BasicTicker\"}},\"id\":\"4cf875ce-4e4b-414b-b868-86da34c0e310\",\"type\":\"Grid\"},{\"attributes\":{},\"id\":\"bd6d4b3c-1b7d-4678-91c9-828c15bb0e47\",\"type\":\"BasicTicker\"},{\"attributes\":{\"children\":[{\"id\":\"a971ca54-da70-4047-9f77-b2c26310d0de\",\"type\":\"WidgetBox\"},{\"id\":\"a0d72877-15c6-44b8-a65d-77c54e4d2f6b\",\"type\":\"Column\"}]},\"id\":\"ea7567e7-a1e7-4e0e-b3bb-b8b7137ac3ca\",\"type\":\"Column\"},{\"attributes\":{\"formatter\":{\"id\":\"52af0565-d9a8-4a3d-b7c9-7afa126c9515\",\"type\":\"BasicTickFormatter\"},\"plot\":{\"id\":\"f2372138-13eb-4f75-9090-503a4c76ca2d\",\"subtype\":\"Figure\",\"type\":\"Plot\"},\"ticker\":{\"id\":\"bd6d4b3c-1b7d-4678-91c9-828c15bb0e47\",\"type\":\"BasicTicker\"},\"visible\":false},\"id\":\"84a191f4-b9cd-453e-a6b3-73002b923615\",\"type\":\"LinearAxis\"},{\"attributes\":{},\"id\":\"2197854a-0a35-46b7-a4c4-9a33fe320539\",\"type\":\"BasicTicker\"},{\"attributes\":{},\"id\":\"52af0565-d9a8-4a3d-b7c9-7afa126c9515\",\"type\":\"BasicTickFormatter\"},{\"attributes\":{\"fill_color\":{\"value\":\"#1f77b4\"},\"line_color\":{\"value\":\"#1f77b4\"},\"x\":{\"field\":\"data\"},\"y\":{\"value\":0}},\"id\":\"1e94a769-b119-4515-8739-b066c2a201c3\",\"type\":\"Circle\"},{\"attributes\":{\"source\":{\"id\":\"6a3537b5-160e-4273-87a9-1998a6cdc7a8\",\"type\":\"ColumnDataSource\"}},\"id\":\"f99cff3a-37e3-44f8-a3d8-9ea2ea51cb8b\",\"type\":\"CDSView\"},{\"attributes\":{},\"id\":\"1bc1c9f6-59ff-49c3-b69a-f481e7f0eea5\",\"type\":\"SaveTool\"},{\"attributes\":{},\"id\":\"4653b736-e63c-4d13-9bf4-c9f0eeb0905d\",\"type\":\"HelpTool\"},{\"attributes\":{},\"id\":\"0225119b-a6d3-490b-ab80-5e7806d1cdf2\",\"type\":\"ResetTool\"},{\"attributes\":{\"data_source\":{\"id\":\"4db90756-4016-4761-b77e-e3508dc22b5a\",\"type\":\"ColumnDataSource\"},\"glyph\":{\"id\":\"e09a05d6-0187-4142-870b-4f516709ae07\",\"type\":\"Line\"},\"hover_glyph\":null,\"muted_glyph\":null,\"nonselection_glyph\":{\"id\":\"123a3574-e660-4584-a7ae-f86f19f4b7f0\",\"type\":\"Line\"},\"selection_glyph\":null,\"view\":{\"id\":\"dc9dae93-3b60-486e-9f97-c6b816047273\",\"type\":\"CDSView\"}},\"id\":\"67b494c6-588b-4fc4-93bd-9109accc446d\",\"type\":\"GlyphRenderer\"},{\"attributes\":{\"overlay\":{\"id\":\"b5c4da1d-7778-480b-a1a7-b18281105881\",\"type\":\"BoxAnnotation\"}},\"id\":\"afbdbe63-9d53-440a-855b-cbd4d6561c8f\",\"type\":\"BoxZoomTool\"},{\"attributes\":{},\"id\":\"9bcc3c89-952f-40b0-bd8e-61676536d9bf\",\"type\":\"WheelZoomTool\"},{\"attributes\":{\"source\":{\"id\":\"4db90756-4016-4761-b77e-e3508dc22b5a\",\"type\":\"ColumnDataSource\"}},\"id\":\"dc9dae93-3b60-486e-9f97-c6b816047273\",\"type\":\"CDSView\"},{\"attributes\":{\"callback\":null,\"column_names\":[\"data\",\"index\"],\"data\":{\"data\":{\"__ndarray__\":\"AAAAAAAAAAC3GYWH3/rfPwAAAAAAAPA/bkbh4bf+9z8AAAAAAAAAQA==\",\"dtype\":\"float64\",\"shape\":[5]},\"index\":[0,1,2,3,4]},\"selected\":null,\"selection_policy\":null},\"id\":\"6f84d1e2-01fc-4cad-81c0-95a0f3c39417\",\"type\":\"ColumnDataSource\"},{\"attributes\":{},\"id\":\"e7aa0f2c-8e1f-473e-87dc-3a4b582dfb69\",\"type\":\"WheelZoomTool\"},{\"attributes\":{\"callback\":null,\"column_names\":[\"data\",\"index\"],\"data\":{\"data\":{\"__ndarray__\":\"AAAAAAAA8D9I4XoUrkcJQAAAAAAAACRAmpmZmZmZP0AAAAAAAABZQA==\",\"dtype\":\"float64\",\"shape\":[5]},\"index\":[0,1,2,3,4]},\"selected\":null,\"selection_policy\":null},\"id\":\"996e6ed0-f8e8-4ef0-b5be-4d51af238fe9\",\"type\":\"ColumnDataSource\"},{\"attributes\":{},\"id\":\"320a8862-19ed-4b80-9f0b-f114d25e7823\",\"type\":\"SaveTool\"},{\"attributes\":{\"ticker\":null},\"id\":\"f049135e-168a-4a78-92cb-d8cc150acfa0\",\"type\":\"LogTickFormatter\"},{\"attributes\":{\"source\":{\"id\":\"59ded548-8dbe-4804-bdd1-4434f4c9cd84\",\"type\":\"ColumnDataSource\"}},\"id\":\"2b453ad8-64a6-4db3-9eec-bb347f4aedb3\",\"type\":\"CDSView\"},{\"attributes\":{\"fill_alpha\":{\"value\":0.1},\"fill_color\":{\"value\":\"#1f77b4\"},\"line_alpha\":{\"value\":0.1},\"line_color\":{\"value\":\"#1f77b4\"},\"x\":{\"field\":\"data\"},\"y\":{\"value\":0}},\"id\":\"40ca6dd5-8c51-4fab-a0ce-cb1c35780835\",\"type\":\"Circle\"},{\"attributes\":{},\"id\":\"f9391bb9-4242-45e1-af62-276420a2f313\",\"type\":\"BasicTickFormatter\"},{\"attributes\":{\"source\":{\"id\":\"6f84d1e2-01fc-4cad-81c0-95a0f3c39417\",\"type\":\"ColumnDataSource\"}},\"id\":\"ea021a6a-2a22-4c9e-92f9-86b56467d871\",\"type\":\"CDSView\"},{\"attributes\":{},\"id\":\"88a0176c-3937-4221-a6be-47e4f304b21a\",\"type\":\"ResetTool\"},{\"attributes\":{\"line_alpha\":0.1,\"line_color\":\"#1f77b4\",\"x\":{\"field\":\"data\"},\"y\":{\"value\":0}},\"id\":\"52930660-c52d-4105-936d-7f56dbed385c\",\"type\":\"Line\"},{\"attributes\":{\"overlay\":{\"id\":\"0cfd81a5-e1d1-4167-8b5a-951e6e157ea5\",\"type\":\"BoxAnnotation\"}},\"id\":\"c5646bce-fe80-42bd-aded-5a3a680f2f12\",\"type\":\"BoxZoomTool\"}],\"root_ids\":[\"ea7567e7-a1e7-4e0e-b3bb-b8b7137ac3ca\"]},\"title\":\"Bokeh Application\",\"version\":\"0.12.15\"}};\n",
       "  var render_items = [{\"docid\":\"e4b4b192-9a5b-4441-bf3d-a7b0660eb4ad\",\"elementid\":\"2e15807e-ffba-4c18-aea5-1b12c9268f5d\",\"modelid\":\"ea7567e7-a1e7-4e0e-b3bb-b8b7137ac3ca\"}];\n",
       "  root.Bokeh.embed.embed_items_notebook(docs_json, render_items);\n",
       "\n",
       "  }\n",
       "  if (root.Bokeh !== undefined) {\n",
       "    embed_document(root);\n",
       "  } else {\n",
       "    var attempts = 0;\n",
       "    var timer = setInterval(function(root) {\n",
       "      if (root.Bokeh !== undefined) {\n",
       "        embed_document(root);\n",
       "        clearInterval(timer);\n",
       "      }\n",
       "      attempts++;\n",
       "      if (attempts > 100) {\n",
       "        console.log(\"Bokeh: ERROR: Unable to run BokehJS code because BokehJS library is missing\")\n",
       "        clearInterval(timer);\n",
       "      }\n",
       "    }, 10, root)\n",
       "  }\n",
       "})(window);"
      ],
      "application/vnd.bokehjs_exec.v0+json": ""
     },
     "metadata": {
      "application/vnd.bokehjs_exec.v0+json": {
       "id": "ea7567e7-a1e7-4e0e-b3bb-b8b7137ac3ca"
      }
     },
     "output_type": "display_data"
    }
   ],
   "source": [
    "show(column(Div(text=\"<h3>Figure 2.4</h3>Relationship between linear and log scale\"), fig24))"
   ]
  },
  {
   "cell_type": "code",
   "execution_count": null,
   "metadata": {},
   "outputs": [],
   "source": []
  },
  {
   "cell_type": "markdown",
   "metadata": {},
   "source": [
    "data from http://worldpopulationreview.com/us-cities/"
   ]
  },
  {
   "cell_type": "code",
   "execution_count": 36,
   "metadata": {},
   "outputs": [],
   "source": [
    "census = pd.read_csv(path/\"population.csv\")"
   ]
  },
  {
   "cell_type": "code",
   "execution_count": 40,
   "metadata": {},
   "outputs": [],
   "source": [
    "census = census[census.State == \"Texas\"]"
   ]
  },
  {
   "cell_type": "code",
   "execution_count": 41,
   "metadata": {},
   "outputs": [
    {
     "data": {
      "text/html": [
       "<div>\n",
       "<style scoped>\n",
       "    .dataframe tbody tr th:only-of-type {\n",
       "        vertical-align: middle;\n",
       "    }\n",
       "\n",
       "    .dataframe tbody tr th {\n",
       "        vertical-align: top;\n",
       "    }\n",
       "\n",
       "    .dataframe thead th {\n",
       "        text-align: right;\n",
       "    }\n",
       "</style>\n",
       "<table border=\"1\" class=\"dataframe\">\n",
       "  <thead>\n",
       "    <tr style=\"text-align: right;\">\n",
       "      <th></th>\n",
       "      <th>Rank</th>\n",
       "      <th>Name</th>\n",
       "      <th>State</th>\n",
       "      <th>2018 Population</th>\n",
       "      <th>2016 Population</th>\n",
       "      <th>2010 Census</th>\n",
       "      <th>Change</th>\n",
       "      <th>2018 Density</th>\n",
       "    </tr>\n",
       "  </thead>\n",
       "  <tbody>\n",
       "    <tr>\n",
       "      <th>3</th>\n",
       "      <td>4</td>\n",
       "      <td>Houston</td>\n",
       "      <td>Texas</td>\n",
       "      <td>2340814</td>\n",
       "      <td>2303482</td>\n",
       "      <td>2099451</td>\n",
       "      <td>0.008038</td>\n",
       "      <td>1419.917805</td>\n",
       "    </tr>\n",
       "    <tr>\n",
       "      <th>6</th>\n",
       "      <td>7</td>\n",
       "      <td>San Antonio</td>\n",
       "      <td>Texas</td>\n",
       "      <td>1541456</td>\n",
       "      <td>1492510</td>\n",
       "      <td>1327407</td>\n",
       "      <td>0.016133</td>\n",
       "      <td>1291.083266</td>\n",
       "    </tr>\n",
       "    <tr>\n",
       "      <th>8</th>\n",
       "      <td>9</td>\n",
       "      <td>Dallas</td>\n",
       "      <td>Texas</td>\n",
       "      <td>1359133</td>\n",
       "      <td>1317929</td>\n",
       "      <td>1197816</td>\n",
       "      <td>0.015392</td>\n",
       "      <td>1543.608793</td>\n",
       "    </tr>\n",
       "    <tr>\n",
       "      <th>10</th>\n",
       "      <td>11</td>\n",
       "      <td>Austin</td>\n",
       "      <td>Texas</td>\n",
       "      <td>983366</td>\n",
       "      <td>947890</td>\n",
       "      <td>790390</td>\n",
       "      <td>0.018369</td>\n",
       "      <td>1183.592500</td>\n",
       "    </tr>\n",
       "    <tr>\n",
       "      <th>12</th>\n",
       "      <td>13</td>\n",
       "      <td>Fort Worth</td>\n",
       "      <td>Texas</td>\n",
       "      <td>893997</td>\n",
       "      <td>854113</td>\n",
       "      <td>741206</td>\n",
       "      <td>0.022815</td>\n",
       "      <td>1001.075032</td>\n",
       "    </tr>\n",
       "  </tbody>\n",
       "</table>\n",
       "</div>"
      ],
      "text/plain": [
       "    Rank          Name  State  2018 Population  2016 Population  2010 Census  \\\n",
       "3      4      Houston   Texas          2340814          2303482      2099451   \n",
       "6      7  San Antonio   Texas          1541456          1492510      1327407   \n",
       "8      9       Dallas   Texas          1359133          1317929      1197816   \n",
       "10    11       Austin   Texas           983366           947890       790390   \n",
       "12    13   Fort Worth   Texas           893997           854113       741206   \n",
       "\n",
       "      Change  2018 Density  \n",
       "3   0.008038   1419.917805  \n",
       "6   0.016133   1291.083266  \n",
       "8   0.015392   1543.608793  \n",
       "10  0.018369   1183.592500  \n",
       "12  0.022815   1001.075032  "
      ]
     },
     "execution_count": 41,
     "metadata": {},
     "output_type": "execute_result"
    }
   ],
   "source": [
    "census.head()"
   ]
  },
  {
   "cell_type": "code",
   "execution_count": null,
   "metadata": {},
   "outputs": [],
   "source": []
  },
  {
   "cell_type": "code",
   "execution_count": null,
   "metadata": {},
   "outputs": [],
   "source": []
  },
  {
   "cell_type": "code",
   "execution_count": null,
   "metadata": {},
   "outputs": [],
   "source": []
  },
  {
   "cell_type": "code",
   "execution_count": null,
   "metadata": {},
   "outputs": [],
   "source": []
  },
  {
   "cell_type": "code",
   "execution_count": null,
   "metadata": {},
   "outputs": [],
   "source": []
  },
  {
   "cell_type": "code",
   "execution_count": null,
   "metadata": {},
   "outputs": [],
   "source": []
  },
  {
   "cell_type": "code",
   "execution_count": null,
   "metadata": {},
   "outputs": [],
   "source": []
  }
 ],
 "metadata": {
  "kernelspec": {
   "display_name": "Python 3",
   "language": "python",
   "name": "python3"
  },
  "language_info": {
   "codemirror_mode": {
    "name": "ipython",
    "version": 3
   },
   "file_extension": ".py",
   "mimetype": "text/x-python",
   "name": "python",
   "nbconvert_exporter": "python",
   "pygments_lexer": "ipython3",
   "version": "3.6.4"
  }
 },
 "nbformat": 4,
 "nbformat_minor": 2
}
